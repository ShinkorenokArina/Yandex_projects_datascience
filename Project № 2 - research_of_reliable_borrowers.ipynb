{
 "cells": [
  {
   "cell_type": "markdown",
   "id": "aedf6a5c",
   "metadata": {},
   "source": [
    "# Исследование надежности заемщиков."
   ]
  },
  {
   "cell_type": "markdown",
   "id": "272dbd1b",
   "metadata": {},
   "source": [
    "## Описание проекта\n",
    "\n",
    "Заказчик — кредитный отдел банка. Нужно разобраться, влияет ли семейное положение и количество детей клиента на факт погашения кредита в срок. Входные данные от банка — статистика о платёжеспособности клиентов. Результаты исследования будут учтены при построении модели кредитного скоринга — специальной системы, которая оценивает способность потенциального заёмщика вернуть кредит банку."
   ]
  },
  {
   "cell_type": "markdown",
   "id": "c21230fb",
   "metadata": {},
   "source": [
    "## Шаг 1. Обзор данных"
   ]
  },
  {
   "cell_type": "code",
   "execution_count": 1,
   "id": "db551f13",
   "metadata": {},
   "outputs": [],
   "source": [
    "import pandas as pd"
   ]
  },
  {
   "cell_type": "code",
   "execution_count": 2,
   "id": "80ce457c",
   "metadata": {},
   "outputs": [],
   "source": [
    "data = pd.read_csv('/datasets/data.csv')"
   ]
  },
  {
   "cell_type": "code",
   "execution_count": 3,
   "id": "08dab04a",
   "metadata": {
    "scrolled": false
   },
   "outputs": [
    {
     "data": {
      "text/html": [
       "<div>\n",
       "<style scoped>\n",
       "    .dataframe tbody tr th:only-of-type {\n",
       "        vertical-align: middle;\n",
       "    }\n",
       "\n",
       "    .dataframe tbody tr th {\n",
       "        vertical-align: top;\n",
       "    }\n",
       "\n",
       "    .dataframe thead th {\n",
       "        text-align: right;\n",
       "    }\n",
       "</style>\n",
       "<table border=\"1\" class=\"dataframe\">\n",
       "  <thead>\n",
       "    <tr style=\"text-align: right;\">\n",
       "      <th></th>\n",
       "      <th>children</th>\n",
       "      <th>days_employed</th>\n",
       "      <th>dob_years</th>\n",
       "      <th>education</th>\n",
       "      <th>education_id</th>\n",
       "      <th>family_status</th>\n",
       "      <th>family_status_id</th>\n",
       "      <th>gender</th>\n",
       "      <th>income_type</th>\n",
       "      <th>debt</th>\n",
       "      <th>total_income</th>\n",
       "      <th>purpose</th>\n",
       "    </tr>\n",
       "  </thead>\n",
       "  <tbody>\n",
       "    <tr>\n",
       "      <th>0</th>\n",
       "      <td>1</td>\n",
       "      <td>-8437.673028</td>\n",
       "      <td>42</td>\n",
       "      <td>высшее</td>\n",
       "      <td>0</td>\n",
       "      <td>женат / замужем</td>\n",
       "      <td>0</td>\n",
       "      <td>F</td>\n",
       "      <td>сотрудник</td>\n",
       "      <td>0</td>\n",
       "      <td>253875.639453</td>\n",
       "      <td>покупка жилья</td>\n",
       "    </tr>\n",
       "    <tr>\n",
       "      <th>1</th>\n",
       "      <td>1</td>\n",
       "      <td>-4024.803754</td>\n",
       "      <td>36</td>\n",
       "      <td>среднее</td>\n",
       "      <td>1</td>\n",
       "      <td>женат / замужем</td>\n",
       "      <td>0</td>\n",
       "      <td>F</td>\n",
       "      <td>сотрудник</td>\n",
       "      <td>0</td>\n",
       "      <td>112080.014102</td>\n",
       "      <td>приобретение автомобиля</td>\n",
       "    </tr>\n",
       "    <tr>\n",
       "      <th>2</th>\n",
       "      <td>0</td>\n",
       "      <td>-5623.422610</td>\n",
       "      <td>33</td>\n",
       "      <td>Среднее</td>\n",
       "      <td>1</td>\n",
       "      <td>женат / замужем</td>\n",
       "      <td>0</td>\n",
       "      <td>M</td>\n",
       "      <td>сотрудник</td>\n",
       "      <td>0</td>\n",
       "      <td>145885.952297</td>\n",
       "      <td>покупка жилья</td>\n",
       "    </tr>\n",
       "    <tr>\n",
       "      <th>3</th>\n",
       "      <td>3</td>\n",
       "      <td>-4124.747207</td>\n",
       "      <td>32</td>\n",
       "      <td>среднее</td>\n",
       "      <td>1</td>\n",
       "      <td>женат / замужем</td>\n",
       "      <td>0</td>\n",
       "      <td>M</td>\n",
       "      <td>сотрудник</td>\n",
       "      <td>0</td>\n",
       "      <td>267628.550329</td>\n",
       "      <td>дополнительное образование</td>\n",
       "    </tr>\n",
       "    <tr>\n",
       "      <th>4</th>\n",
       "      <td>0</td>\n",
       "      <td>340266.072047</td>\n",
       "      <td>53</td>\n",
       "      <td>среднее</td>\n",
       "      <td>1</td>\n",
       "      <td>гражданский брак</td>\n",
       "      <td>1</td>\n",
       "      <td>F</td>\n",
       "      <td>пенсионер</td>\n",
       "      <td>0</td>\n",
       "      <td>158616.077870</td>\n",
       "      <td>сыграть свадьбу</td>\n",
       "    </tr>\n",
       "    <tr>\n",
       "      <th>5</th>\n",
       "      <td>0</td>\n",
       "      <td>-926.185831</td>\n",
       "      <td>27</td>\n",
       "      <td>высшее</td>\n",
       "      <td>0</td>\n",
       "      <td>гражданский брак</td>\n",
       "      <td>1</td>\n",
       "      <td>M</td>\n",
       "      <td>компаньон</td>\n",
       "      <td>0</td>\n",
       "      <td>255763.565419</td>\n",
       "      <td>покупка жилья</td>\n",
       "    </tr>\n",
       "    <tr>\n",
       "      <th>6</th>\n",
       "      <td>0</td>\n",
       "      <td>-2879.202052</td>\n",
       "      <td>43</td>\n",
       "      <td>высшее</td>\n",
       "      <td>0</td>\n",
       "      <td>женат / замужем</td>\n",
       "      <td>0</td>\n",
       "      <td>F</td>\n",
       "      <td>компаньон</td>\n",
       "      <td>0</td>\n",
       "      <td>240525.971920</td>\n",
       "      <td>операции с жильем</td>\n",
       "    </tr>\n",
       "    <tr>\n",
       "      <th>7</th>\n",
       "      <td>0</td>\n",
       "      <td>-152.779569</td>\n",
       "      <td>50</td>\n",
       "      <td>СРЕДНЕЕ</td>\n",
       "      <td>1</td>\n",
       "      <td>женат / замужем</td>\n",
       "      <td>0</td>\n",
       "      <td>M</td>\n",
       "      <td>сотрудник</td>\n",
       "      <td>0</td>\n",
       "      <td>135823.934197</td>\n",
       "      <td>образование</td>\n",
       "    </tr>\n",
       "    <tr>\n",
       "      <th>8</th>\n",
       "      <td>2</td>\n",
       "      <td>-6929.865299</td>\n",
       "      <td>35</td>\n",
       "      <td>ВЫСШЕЕ</td>\n",
       "      <td>0</td>\n",
       "      <td>гражданский брак</td>\n",
       "      <td>1</td>\n",
       "      <td>F</td>\n",
       "      <td>сотрудник</td>\n",
       "      <td>0</td>\n",
       "      <td>95856.832424</td>\n",
       "      <td>на проведение свадьбы</td>\n",
       "    </tr>\n",
       "    <tr>\n",
       "      <th>9</th>\n",
       "      <td>0</td>\n",
       "      <td>-2188.756445</td>\n",
       "      <td>41</td>\n",
       "      <td>среднее</td>\n",
       "      <td>1</td>\n",
       "      <td>женат / замужем</td>\n",
       "      <td>0</td>\n",
       "      <td>M</td>\n",
       "      <td>сотрудник</td>\n",
       "      <td>0</td>\n",
       "      <td>144425.938277</td>\n",
       "      <td>покупка жилья для семьи</td>\n",
       "    </tr>\n",
       "  </tbody>\n",
       "</table>\n",
       "</div>"
      ],
      "text/plain": [
       "   children  days_employed  dob_years education  education_id  \\\n",
       "0         1   -8437.673028         42    высшее             0   \n",
       "1         1   -4024.803754         36   среднее             1   \n",
       "2         0   -5623.422610         33   Среднее             1   \n",
       "3         3   -4124.747207         32   среднее             1   \n",
       "4         0  340266.072047         53   среднее             1   \n",
       "5         0    -926.185831         27    высшее             0   \n",
       "6         0   -2879.202052         43    высшее             0   \n",
       "7         0    -152.779569         50   СРЕДНЕЕ             1   \n",
       "8         2   -6929.865299         35    ВЫСШЕЕ             0   \n",
       "9         0   -2188.756445         41   среднее             1   \n",
       "\n",
       "      family_status  family_status_id gender income_type  debt   total_income  \\\n",
       "0   женат / замужем                 0      F   сотрудник     0  253875.639453   \n",
       "1   женат / замужем                 0      F   сотрудник     0  112080.014102   \n",
       "2   женат / замужем                 0      M   сотрудник     0  145885.952297   \n",
       "3   женат / замужем                 0      M   сотрудник     0  267628.550329   \n",
       "4  гражданский брак                 1      F   пенсионер     0  158616.077870   \n",
       "5  гражданский брак                 1      M   компаньон     0  255763.565419   \n",
       "6   женат / замужем                 0      F   компаньон     0  240525.971920   \n",
       "7   женат / замужем                 0      M   сотрудник     0  135823.934197   \n",
       "8  гражданский брак                 1      F   сотрудник     0   95856.832424   \n",
       "9   женат / замужем                 0      M   сотрудник     0  144425.938277   \n",
       "\n",
       "                      purpose  \n",
       "0               покупка жилья  \n",
       "1     приобретение автомобиля  \n",
       "2               покупка жилья  \n",
       "3  дополнительное образование  \n",
       "4             сыграть свадьбу  \n",
       "5               покупка жилья  \n",
       "6           операции с жильем  \n",
       "7                 образование  \n",
       "8       на проведение свадьбы  \n",
       "9     покупка жилья для семьи  "
      ]
     },
     "execution_count": 3,
     "metadata": {},
     "output_type": "execute_result"
    }
   ],
   "source": [
    "data.head(10)"
   ]
  },
  {
   "cell_type": "code",
   "execution_count": 4,
   "id": "0210dcbc",
   "metadata": {},
   "outputs": [
    {
     "name": "stdout",
     "output_type": "stream",
     "text": [
      "<class 'pandas.core.frame.DataFrame'>\n",
      "RangeIndex: 21525 entries, 0 to 21524\n",
      "Data columns (total 12 columns):\n",
      " #   Column            Non-Null Count  Dtype  \n",
      "---  ------            --------------  -----  \n",
      " 0   children          21525 non-null  int64  \n",
      " 1   days_employed     19351 non-null  float64\n",
      " 2   dob_years         21525 non-null  int64  \n",
      " 3   education         21525 non-null  object \n",
      " 4   education_id      21525 non-null  int64  \n",
      " 5   family_status     21525 non-null  object \n",
      " 6   family_status_id  21525 non-null  int64  \n",
      " 7   gender            21525 non-null  object \n",
      " 8   income_type       21525 non-null  object \n",
      " 9   debt              21525 non-null  int64  \n",
      " 10  total_income      19351 non-null  float64\n",
      " 11  purpose           21525 non-null  object \n",
      "dtypes: float64(2), int64(5), object(5)\n",
      "memory usage: 2.0+ MB\n"
     ]
    }
   ],
   "source": [
    "data.info()"
   ]
  },
  {
   "cell_type": "markdown",
   "id": "5603fb0f",
   "metadata": {},
   "source": [
    "**Названия столбцов можно не переименовывать. Столбцы - days_employed и total_income имеют одинаковые кол-во non-null - есть взаимосвязь. Возможно это те у кого еще нет стажа работы**"
   ]
  },
  {
   "cell_type": "code",
   "execution_count": 5,
   "id": "3a376398",
   "metadata": {},
   "outputs": [
    {
     "name": "stdout",
     "output_type": "stream",
     "text": [
      "children: пустые строки (NaN) = 0\n",
      "days_employed: пустые строки (NaN) = 2174\n",
      "dob_years: пустые строки (NaN) = 0\n",
      "education: пустые строки (NaN) = 0\n",
      "education_id: пустые строки (NaN) = 0\n",
      "family_status: пустые строки (NaN) = 0\n",
      "family_status_id: пустые строки (NaN) = 0\n",
      "gender: пустые строки (NaN) = 0\n",
      "income_type: пустые строки (NaN) = 0\n",
      "debt: пустые строки (NaN) = 0\n",
      "total_income: пустые строки (NaN) = 2174\n",
      "purpose: пустые строки (NaN) = 0\n"
     ]
    }
   ],
   "source": [
    "for column in data.columns:\n",
    "    print(f\"{column}: пустые строки (NaN) = {data[column].isna().sum()}\")"
   ]
  },
  {
   "cell_type": "code",
   "execution_count": 6,
   "id": "0ad19de5",
   "metadata": {},
   "outputs": [
    {
     "name": "stdout",
     "output_type": "stream",
     "text": [
      " 0     14149\n",
      " 1      4818\n",
      " 2      2055\n",
      " 3       330\n",
      " 20       76\n",
      "-1        47\n",
      " 4        41\n",
      " 5         9\n",
      "Name: children, dtype: int64\n",
      "-327.685916     1\n",
      "-1580.622577    1\n",
      "-4122.460569    1\n",
      "-2828.237691    1\n",
      "-2636.090517    1\n",
      "               ..\n",
      "-7120.517564    1\n",
      "-2146.884040    1\n",
      "-881.454684     1\n",
      "-794.666350     1\n",
      "-3382.113891    1\n",
      "Name: days_employed, Length: 19351, dtype: int64\n",
      "35    617\n",
      "40    609\n",
      "41    607\n",
      "34    603\n",
      "38    598\n",
      "42    597\n",
      "33    581\n",
      "39    573\n",
      "31    560\n",
      "36    555\n",
      "44    547\n",
      "29    545\n",
      "30    540\n",
      "48    538\n",
      "37    537\n",
      "50    514\n",
      "43    513\n",
      "32    510\n",
      "49    508\n",
      "28    503\n",
      "45    497\n",
      "27    493\n",
      "56    487\n",
      "52    484\n",
      "47    480\n",
      "54    479\n",
      "46    475\n",
      "58    461\n",
      "57    460\n",
      "53    459\n",
      "51    448\n",
      "59    444\n",
      "55    443\n",
      "26    408\n",
      "60    377\n",
      "25    357\n",
      "61    355\n",
      "62    352\n",
      "63    269\n",
      "64    265\n",
      "24    264\n",
      "23    254\n",
      "65    194\n",
      "66    183\n",
      "22    183\n",
      "67    167\n",
      "21    111\n",
      "0     101\n",
      "68     99\n",
      "69     85\n",
      "70     65\n",
      "71     58\n",
      "20     51\n",
      "72     33\n",
      "19     14\n",
      "73      8\n",
      "74      6\n",
      "75      1\n",
      "Name: dob_years, dtype: int64\n",
      "среднее                13750\n",
      "высшее                  4718\n",
      "СРЕДНЕЕ                  772\n",
      "Среднее                  711\n",
      "неоконченное высшее      668\n",
      "ВЫСШЕЕ                   274\n",
      "Высшее                   268\n",
      "начальное                250\n",
      "Неоконченное высшее       47\n",
      "НЕОКОНЧЕННОЕ ВЫСШЕЕ       29\n",
      "НАЧАЛЬНОЕ                 17\n",
      "Начальное                 15\n",
      "ученая степень             4\n",
      "УЧЕНАЯ СТЕПЕНЬ             1\n",
      "Ученая степень             1\n",
      "Name: education, dtype: int64\n",
      "1    15233\n",
      "0     5260\n",
      "2      744\n",
      "3      282\n",
      "4        6\n",
      "Name: education_id, dtype: int64\n",
      "женат / замужем          12380\n",
      "гражданский брак          4177\n",
      "Не женат / не замужем     2813\n",
      "в разводе                 1195\n",
      "вдовец / вдова             960\n",
      "Name: family_status, dtype: int64\n",
      "0    12380\n",
      "1     4177\n",
      "4     2813\n",
      "3     1195\n",
      "2      960\n",
      "Name: family_status_id, dtype: int64\n",
      "F      14236\n",
      "M       7288\n",
      "XNA        1\n",
      "Name: gender, dtype: int64\n",
      "сотрудник          11119\n",
      "компаньон           5085\n",
      "пенсионер           3856\n",
      "госслужащий         1459\n",
      "предприниматель        2\n",
      "безработный            2\n",
      "в декрете              1\n",
      "студент                1\n",
      "Name: income_type, dtype: int64\n",
      "0    19784\n",
      "1     1741\n",
      "Name: debt, dtype: int64\n",
      "169846.427535    1\n",
      "257737.077768    1\n",
      "200508.675866    1\n",
      "106196.235958    1\n",
      "248730.171354    1\n",
      "                ..\n",
      "175057.266090    1\n",
      "101516.604975    1\n",
      "239154.168013    1\n",
      "165009.733021    1\n",
      "189255.286637    1\n",
      "Name: total_income, Length: 19351, dtype: int64\n",
      "свадьба                                   797\n",
      "на проведение свадьбы                     777\n",
      "сыграть свадьбу                           774\n",
      "операции с недвижимостью                  676\n",
      "покупка коммерческой недвижимости         664\n",
      "покупка жилья для сдачи                   653\n",
      "операции с жильем                         653\n",
      "операции с коммерческой недвижимостью     651\n",
      "жилье                                     647\n",
      "покупка жилья                             647\n",
      "покупка жилья для семьи                   641\n",
      "строительство собственной недвижимости    635\n",
      "недвижимость                              634\n",
      "операции со своей недвижимостью           630\n",
      "строительство жилой недвижимости          626\n",
      "покупка недвижимости                      624\n",
      "покупка своего жилья                      620\n",
      "строительство недвижимости                620\n",
      "ремонт жилью                              612\n",
      "покупка жилой недвижимости                607\n",
      "на покупку своего автомобиля              505\n",
      "заняться высшим образованием              496\n",
      "автомобиль                                495\n",
      "сделка с подержанным автомобилем          489\n",
      "свой автомобиль                           480\n",
      "на покупку подержанного автомобиля        479\n",
      "автомобили                                478\n",
      "на покупку автомобиля                     472\n",
      "приобретение автомобиля                   462\n",
      "дополнительное образование                462\n",
      "сделка с автомобилем                      455\n",
      "высшее образование                        453\n",
      "получение дополнительного образования     447\n",
      "образование                               447\n",
      "получение образования                     443\n",
      "профильное образование                    436\n",
      "получение высшего образования             426\n",
      "заняться образованием                     412\n",
      "Name: purpose, dtype: int64\n"
     ]
    }
   ],
   "source": [
    " for column in data.columns:\n",
    "     print(data[column].value_counts())"
   ]
  },
  {
   "cell_type": "markdown",
   "id": "c0e442ca",
   "metadata": {},
   "source": [
    "**1) Столбец 'children': больше всего бездетных, затем 1 и 2 ребенка. Значения 20 детей - 76, -1 ребенок- 47 нужно проверить в каких строках они встречаются, и если на результат не окажет влияния, то можно их удалить, либо (-1) ребенок заменить на (0) детей, а кол-во детей = 20 просто оставить, вдруг семьи правда многодетные**\n",
    "\n",
    "**2) Столбец 'days_employed': очень много отрицательных значений (возможно, минус это тире), также присутствуют очень большие значения и неясно это стаж в днях, часах, неделях. В любом случае, для поставленной задачи эта информация не нужна (можно попросить у источника доп. информацию об этом и внести исправления,проанализировать), так что можно было бы удалить столбец, но по заданию нужно оставить.**\n",
    "\n",
    "**3) Столбец 'dob_years': значение \"0\",возможно, означает, что возраст не указали. Нужно проверить в каких строках оно встречается, и если на результат не окажет влияния, то можно его удалить, так как кол-во незначительное - 101 от 21525 - меньше 0,5%**\n",
    "\n",
    "**4)5)Столбцы 'education' и 'education_id ': по столбцу 'education_id' - существует 5 типов образования. В столбце 'education' стоят одни и теже категории, но с разными регистрами, дубликаты необходимо исправить**\n",
    "\n",
    "**6)7)Столбцы 'family_status' и 'family_status_id': оба столбца кооректны и не требуют изменений**\n",
    "\n",
    "**8)Столбец 'gender': только 1 строка с некоррктным значением. можно исправить его на \"F\"-женщина (так как  женщин в 2 раза больше, то и вероятность того, что это женщина больше. К тому же для выполнения поставленной задачи столбец не особо важен.**\n",
    "\n",
    "**9)Столбец 'income_type': все в порядке, оставим без изменений**\n",
    "\n",
    "**10)Столбец 'debt': все корректно**\n",
    "\n",
    "**11)Столбец 'total_income': много nan, возможно, нет закономерности в появлении пропусков с другими столбцами т.к. везде разные значения. Над этим столбцом необходимо поработать, так как он важен для выполненния поставленной задачи. также надо поменять тип**\n",
    "\n",
    "**12)Столбец 'purpose': все корректно, но много совпадающих целей кредита - нужно совпадающие привезти к одному названию**"
   ]
  },
  {
   "cell_type": "markdown",
   "id": "dcfca67e",
   "metadata": {},
   "source": [
    "### Шаг 2.1 Заполнение пропусков"
   ]
  },
  {
   "cell_type": "code",
   "execution_count": 7,
   "id": "d67679e4",
   "metadata": {
    "scrolled": false
   },
   "outputs": [
    {
     "name": "stdout",
     "output_type": "stream",
     "text": [
      "-327.685916     1\n",
      "-1580.622577    1\n",
      "-4122.460569    1\n",
      "-2828.237691    1\n",
      "-2636.090517    1\n",
      "               ..\n",
      "-7120.517564    1\n",
      "-2146.884040    1\n",
      "-881.454684     1\n",
      "-794.666350     1\n",
      "-3382.113891    1\n",
      "Name: days_employed, Length: 19351, dtype: int64\n"
     ]
    }
   ],
   "source": [
    "print(data['days_employed'].value_counts())"
   ]
  },
  {
   "cell_type": "code",
   "execution_count": 8,
   "id": "fecb0e39",
   "metadata": {},
   "outputs": [
    {
     "name": "stdout",
     "output_type": "stream",
     "text": [
      "Кол-во значений NaN одновременно в обоих столбцах = 2174\n"
     ]
    },
    {
     "data": {
      "text/html": [
       "<div>\n",
       "<style scoped>\n",
       "    .dataframe tbody tr th:only-of-type {\n",
       "        vertical-align: middle;\n",
       "    }\n",
       "\n",
       "    .dataframe tbody tr th {\n",
       "        vertical-align: top;\n",
       "    }\n",
       "\n",
       "    .dataframe thead th {\n",
       "        text-align: right;\n",
       "    }\n",
       "</style>\n",
       "<table border=\"1\" class=\"dataframe\">\n",
       "  <thead>\n",
       "    <tr style=\"text-align: right;\">\n",
       "      <th></th>\n",
       "      <th>children</th>\n",
       "      <th>days_employed</th>\n",
       "      <th>dob_years</th>\n",
       "      <th>education</th>\n",
       "      <th>education_id</th>\n",
       "      <th>family_status</th>\n",
       "      <th>family_status_id</th>\n",
       "      <th>gender</th>\n",
       "      <th>income_type</th>\n",
       "      <th>debt</th>\n",
       "      <th>total_income</th>\n",
       "      <th>purpose</th>\n",
       "    </tr>\n",
       "  </thead>\n",
       "  <tbody>\n",
       "    <tr>\n",
       "      <th>12</th>\n",
       "      <td>0</td>\n",
       "      <td>NaN</td>\n",
       "      <td>65</td>\n",
       "      <td>среднее</td>\n",
       "      <td>1</td>\n",
       "      <td>гражданский брак</td>\n",
       "      <td>1</td>\n",
       "      <td>M</td>\n",
       "      <td>пенсионер</td>\n",
       "      <td>0</td>\n",
       "      <td>NaN</td>\n",
       "      <td>сыграть свадьбу</td>\n",
       "    </tr>\n",
       "    <tr>\n",
       "      <th>26</th>\n",
       "      <td>0</td>\n",
       "      <td>NaN</td>\n",
       "      <td>41</td>\n",
       "      <td>среднее</td>\n",
       "      <td>1</td>\n",
       "      <td>женат / замужем</td>\n",
       "      <td>0</td>\n",
       "      <td>M</td>\n",
       "      <td>госслужащий</td>\n",
       "      <td>0</td>\n",
       "      <td>NaN</td>\n",
       "      <td>образование</td>\n",
       "    </tr>\n",
       "    <tr>\n",
       "      <th>29</th>\n",
       "      <td>0</td>\n",
       "      <td>NaN</td>\n",
       "      <td>63</td>\n",
       "      <td>среднее</td>\n",
       "      <td>1</td>\n",
       "      <td>Не женат / не замужем</td>\n",
       "      <td>4</td>\n",
       "      <td>F</td>\n",
       "      <td>пенсионер</td>\n",
       "      <td>0</td>\n",
       "      <td>NaN</td>\n",
       "      <td>строительство жилой недвижимости</td>\n",
       "    </tr>\n",
       "    <tr>\n",
       "      <th>41</th>\n",
       "      <td>0</td>\n",
       "      <td>NaN</td>\n",
       "      <td>50</td>\n",
       "      <td>среднее</td>\n",
       "      <td>1</td>\n",
       "      <td>женат / замужем</td>\n",
       "      <td>0</td>\n",
       "      <td>F</td>\n",
       "      <td>госслужащий</td>\n",
       "      <td>0</td>\n",
       "      <td>NaN</td>\n",
       "      <td>сделка с подержанным автомобилем</td>\n",
       "    </tr>\n",
       "    <tr>\n",
       "      <th>55</th>\n",
       "      <td>0</td>\n",
       "      <td>NaN</td>\n",
       "      <td>54</td>\n",
       "      <td>среднее</td>\n",
       "      <td>1</td>\n",
       "      <td>гражданский брак</td>\n",
       "      <td>1</td>\n",
       "      <td>F</td>\n",
       "      <td>пенсионер</td>\n",
       "      <td>1</td>\n",
       "      <td>NaN</td>\n",
       "      <td>сыграть свадьбу</td>\n",
       "    </tr>\n",
       "    <tr>\n",
       "      <th>65</th>\n",
       "      <td>0</td>\n",
       "      <td>NaN</td>\n",
       "      <td>21</td>\n",
       "      <td>среднее</td>\n",
       "      <td>1</td>\n",
       "      <td>Не женат / не замужем</td>\n",
       "      <td>4</td>\n",
       "      <td>M</td>\n",
       "      <td>компаньон</td>\n",
       "      <td>0</td>\n",
       "      <td>NaN</td>\n",
       "      <td>операции с коммерческой недвижимостью</td>\n",
       "    </tr>\n",
       "    <tr>\n",
       "      <th>67</th>\n",
       "      <td>0</td>\n",
       "      <td>NaN</td>\n",
       "      <td>52</td>\n",
       "      <td>высшее</td>\n",
       "      <td>0</td>\n",
       "      <td>женат / замужем</td>\n",
       "      <td>0</td>\n",
       "      <td>F</td>\n",
       "      <td>пенсионер</td>\n",
       "      <td>0</td>\n",
       "      <td>NaN</td>\n",
       "      <td>покупка жилья для семьи</td>\n",
       "    </tr>\n",
       "    <tr>\n",
       "      <th>72</th>\n",
       "      <td>1</td>\n",
       "      <td>NaN</td>\n",
       "      <td>32</td>\n",
       "      <td>высшее</td>\n",
       "      <td>0</td>\n",
       "      <td>женат / замужем</td>\n",
       "      <td>0</td>\n",
       "      <td>M</td>\n",
       "      <td>госслужащий</td>\n",
       "      <td>0</td>\n",
       "      <td>NaN</td>\n",
       "      <td>операции с коммерческой недвижимостью</td>\n",
       "    </tr>\n",
       "    <tr>\n",
       "      <th>82</th>\n",
       "      <td>2</td>\n",
       "      <td>NaN</td>\n",
       "      <td>50</td>\n",
       "      <td>высшее</td>\n",
       "      <td>0</td>\n",
       "      <td>женат / замужем</td>\n",
       "      <td>0</td>\n",
       "      <td>F</td>\n",
       "      <td>сотрудник</td>\n",
       "      <td>0</td>\n",
       "      <td>NaN</td>\n",
       "      <td>жилье</td>\n",
       "    </tr>\n",
       "    <tr>\n",
       "      <th>83</th>\n",
       "      <td>0</td>\n",
       "      <td>NaN</td>\n",
       "      <td>52</td>\n",
       "      <td>среднее</td>\n",
       "      <td>1</td>\n",
       "      <td>женат / замужем</td>\n",
       "      <td>0</td>\n",
       "      <td>M</td>\n",
       "      <td>сотрудник</td>\n",
       "      <td>0</td>\n",
       "      <td>NaN</td>\n",
       "      <td>жилье</td>\n",
       "    </tr>\n",
       "  </tbody>\n",
       "</table>\n",
       "</div>"
      ],
      "text/plain": [
       "    children  days_employed  dob_years education  education_id  \\\n",
       "12         0            NaN         65   среднее             1   \n",
       "26         0            NaN         41   среднее             1   \n",
       "29         0            NaN         63   среднее             1   \n",
       "41         0            NaN         50   среднее             1   \n",
       "55         0            NaN         54   среднее             1   \n",
       "65         0            NaN         21   среднее             1   \n",
       "67         0            NaN         52    высшее             0   \n",
       "72         1            NaN         32    высшее             0   \n",
       "82         2            NaN         50    высшее             0   \n",
       "83         0            NaN         52   среднее             1   \n",
       "\n",
       "            family_status  family_status_id gender  income_type  debt  \\\n",
       "12       гражданский брак                 1      M    пенсионер     0   \n",
       "26        женат / замужем                 0      M  госслужащий     0   \n",
       "29  Не женат / не замужем                 4      F    пенсионер     0   \n",
       "41        женат / замужем                 0      F  госслужащий     0   \n",
       "55       гражданский брак                 1      F    пенсионер     1   \n",
       "65  Не женат / не замужем                 4      M    компаньон     0   \n",
       "67        женат / замужем                 0      F    пенсионер     0   \n",
       "72        женат / замужем                 0      M  госслужащий     0   \n",
       "82        женат / замужем                 0      F    сотрудник     0   \n",
       "83        женат / замужем                 0      M    сотрудник     0   \n",
       "\n",
       "    total_income                                purpose  \n",
       "12           NaN                        сыграть свадьбу  \n",
       "26           NaN                            образование  \n",
       "29           NaN       строительство жилой недвижимости  \n",
       "41           NaN       сделка с подержанным автомобилем  \n",
       "55           NaN                        сыграть свадьбу  \n",
       "65           NaN  операции с коммерческой недвижимостью  \n",
       "67           NaN                покупка жилья для семьи  \n",
       "72           NaN  операции с коммерческой недвижимостью  \n",
       "82           NaN                                  жилье  \n",
       "83           NaN                                  жилье  "
      ]
     },
     "metadata": {},
     "output_type": "display_data"
    }
   ],
   "source": [
    "null_counts = data.loc[(data['days_employed'].isnull()) & (data['total_income'].isnull()),'dob_years'].count()\n",
    "print(f'Кол-во значений NaN одновременно в обоих столбцах = {null_counts}')\n",
    "display(data.loc[(data['days_employed'].isnull()) & (data['total_income'].isnull())].head(10))"
   ]
  },
  {
   "cell_type": "markdown",
   "id": "3a7be931",
   "metadata": {},
   "source": [
    "**Представлены 10 строчек с условием, что столбцы 'total_income' и 'days_employed' одновременно имеют \"NaN\", по столбцу 'dob_years' возраст варьируется от 21 до 65. Значит предположение, что это люди без стажа работы - неверно.  Значит будем заполнять 'total_income' средним значением (median) в каждой категории, что касается 'days_employed' можно перевести отрицательные значения к положительным**"
   ]
  },
  {
   "cell_type": "markdown",
   "id": "c6c6abf3",
   "metadata": {},
   "source": [
    "**Почему будем заполнять медианными значениями? \n",
    "Среднее значение может быть не совсем объективным отражением данных, а медиана считается лучше среднего, если известно, что набор данных имеет некоторые экстремальные значения (высокие или низкие). В таких случаях медиана дает более реалистичную оценку центрального значения. Среднее значение считается лучшей оценкой центрального значения, если данные распределены симметрично.**"
   ]
  },
  {
   "cell_type": "code",
   "execution_count": 9,
   "id": "f1b98799",
   "metadata": {},
   "outputs": [
    {
     "name": "stdout",
     "output_type": "stream",
     "text": [
      "<class 'pandas.core.frame.DataFrame'>\n",
      "RangeIndex: 21525 entries, 0 to 21524\n",
      "Data columns (total 12 columns):\n",
      " #   Column            Non-Null Count  Dtype  \n",
      "---  ------            --------------  -----  \n",
      " 0   children          21525 non-null  int64  \n",
      " 1   days_employed     19351 non-null  float64\n",
      " 2   dob_years         21525 non-null  int64  \n",
      " 3   education         21525 non-null  object \n",
      " 4   education_id      21525 non-null  int64  \n",
      " 5   family_status     21525 non-null  object \n",
      " 6   family_status_id  21525 non-null  int64  \n",
      " 7   gender            21525 non-null  object \n",
      " 8   income_type       21525 non-null  object \n",
      " 9   debt              21525 non-null  int64  \n",
      " 10  total_income      19351 non-null  float64\n",
      " 11  purpose           21525 non-null  object \n",
      "dtypes: float64(2), int64(5), object(5)\n",
      "memory usage: 2.0+ MB\n"
     ]
    },
    {
     "data": {
      "text/plain": [
       "None"
      ]
     },
     "metadata": {},
     "output_type": "display_data"
    },
    {
     "data": {
      "text/plain": [
       "'Медиана столбца = 145017.93753253992'"
      ]
     },
     "metadata": {},
     "output_type": "display_data"
    },
    {
     "data": {
      "text/plain": [
       "0        253875.639453\n",
       "1        112080.014102\n",
       "2        145885.952297\n",
       "3        267628.550329\n",
       "4        158616.077870\n",
       "             ...      \n",
       "21520    224791.862382\n",
       "21521    155999.806512\n",
       "21522     89672.561153\n",
       "21523    244093.050500\n",
       "21524     82047.418899\n",
       "Name: total_income, Length: 21525, dtype: float64"
      ]
     },
     "metadata": {},
     "output_type": "display_data"
    }
   ],
   "source": [
    "display(data.info())\n",
    "total_income_median = data['total_income'].median()\n",
    "display(f'Медиана столбца = {total_income_median}')\n",
    "display(data['total_income'])"
   ]
  },
  {
   "cell_type": "markdown",
   "id": "93cf1119",
   "metadata": {},
   "source": [
    "**Выбор столбца income_type, в качестве категорий, для заполнения пропусков медианными значениями каждой категории этого столбца кажется логичным. Создадим income_category_list, содержащий медианы категорий.**"
   ]
  },
  {
   "cell_type": "code",
   "execution_count": 10,
   "id": "08a07e58",
   "metadata": {},
   "outputs": [
    {
     "name": "stdout",
     "output_type": "stream",
     "text": [
      "Таблица медиан по категориям: \n"
     ]
    },
    {
     "data": {
      "text/plain": [
       "income_type\n",
       "в декрете           53829.130729\n",
       "студент             98201.625314\n",
       "пенсионер          118514.486412\n",
       "безработный        131339.751676\n",
       "сотрудник          142594.396847\n",
       "госслужащий        150447.935283\n",
       "компаньон          172357.950966\n",
       "предприниматель    499163.144947\n",
       "Name: total_income, dtype: float64"
      ]
     },
     "metadata": {},
     "output_type": "display_data"
    },
    {
     "name": "stdout",
     "output_type": "stream",
     "text": [
      "Пропущеных значений в total_income:  2174\n",
      "Выведем несколько строк с пропусками:\n"
     ]
    },
    {
     "data": {
      "text/html": [
       "<div>\n",
       "<style scoped>\n",
       "    .dataframe tbody tr th:only-of-type {\n",
       "        vertical-align: middle;\n",
       "    }\n",
       "\n",
       "    .dataframe tbody tr th {\n",
       "        vertical-align: top;\n",
       "    }\n",
       "\n",
       "    .dataframe thead th {\n",
       "        text-align: right;\n",
       "    }\n",
       "</style>\n",
       "<table border=\"1\" class=\"dataframe\">\n",
       "  <thead>\n",
       "    <tr style=\"text-align: right;\">\n",
       "      <th></th>\n",
       "      <th>children</th>\n",
       "      <th>days_employed</th>\n",
       "      <th>dob_years</th>\n",
       "      <th>education</th>\n",
       "      <th>education_id</th>\n",
       "      <th>family_status</th>\n",
       "      <th>family_status_id</th>\n",
       "      <th>gender</th>\n",
       "      <th>income_type</th>\n",
       "      <th>debt</th>\n",
       "      <th>total_income</th>\n",
       "      <th>purpose</th>\n",
       "    </tr>\n",
       "  </thead>\n",
       "  <tbody>\n",
       "    <tr>\n",
       "      <th>12</th>\n",
       "      <td>0</td>\n",
       "      <td>NaN</td>\n",
       "      <td>65</td>\n",
       "      <td>среднее</td>\n",
       "      <td>1</td>\n",
       "      <td>гражданский брак</td>\n",
       "      <td>1</td>\n",
       "      <td>M</td>\n",
       "      <td>пенсионер</td>\n",
       "      <td>0</td>\n",
       "      <td>NaN</td>\n",
       "      <td>сыграть свадьбу</td>\n",
       "    </tr>\n",
       "    <tr>\n",
       "      <th>26</th>\n",
       "      <td>0</td>\n",
       "      <td>NaN</td>\n",
       "      <td>41</td>\n",
       "      <td>среднее</td>\n",
       "      <td>1</td>\n",
       "      <td>женат / замужем</td>\n",
       "      <td>0</td>\n",
       "      <td>M</td>\n",
       "      <td>госслужащий</td>\n",
       "      <td>0</td>\n",
       "      <td>NaN</td>\n",
       "      <td>образование</td>\n",
       "    </tr>\n",
       "    <tr>\n",
       "      <th>29</th>\n",
       "      <td>0</td>\n",
       "      <td>NaN</td>\n",
       "      <td>63</td>\n",
       "      <td>среднее</td>\n",
       "      <td>1</td>\n",
       "      <td>Не женат / не замужем</td>\n",
       "      <td>4</td>\n",
       "      <td>F</td>\n",
       "      <td>пенсионер</td>\n",
       "      <td>0</td>\n",
       "      <td>NaN</td>\n",
       "      <td>строительство жилой недвижимости</td>\n",
       "    </tr>\n",
       "    <tr>\n",
       "      <th>41</th>\n",
       "      <td>0</td>\n",
       "      <td>NaN</td>\n",
       "      <td>50</td>\n",
       "      <td>среднее</td>\n",
       "      <td>1</td>\n",
       "      <td>женат / замужем</td>\n",
       "      <td>0</td>\n",
       "      <td>F</td>\n",
       "      <td>госслужащий</td>\n",
       "      <td>0</td>\n",
       "      <td>NaN</td>\n",
       "      <td>сделка с подержанным автомобилем</td>\n",
       "    </tr>\n",
       "    <tr>\n",
       "      <th>55</th>\n",
       "      <td>0</td>\n",
       "      <td>NaN</td>\n",
       "      <td>54</td>\n",
       "      <td>среднее</td>\n",
       "      <td>1</td>\n",
       "      <td>гражданский брак</td>\n",
       "      <td>1</td>\n",
       "      <td>F</td>\n",
       "      <td>пенсионер</td>\n",
       "      <td>1</td>\n",
       "      <td>NaN</td>\n",
       "      <td>сыграть свадьбу</td>\n",
       "    </tr>\n",
       "    <tr>\n",
       "      <th>65</th>\n",
       "      <td>0</td>\n",
       "      <td>NaN</td>\n",
       "      <td>21</td>\n",
       "      <td>среднее</td>\n",
       "      <td>1</td>\n",
       "      <td>Не женат / не замужем</td>\n",
       "      <td>4</td>\n",
       "      <td>M</td>\n",
       "      <td>компаньон</td>\n",
       "      <td>0</td>\n",
       "      <td>NaN</td>\n",
       "      <td>операции с коммерческой недвижимостью</td>\n",
       "    </tr>\n",
       "    <tr>\n",
       "      <th>67</th>\n",
       "      <td>0</td>\n",
       "      <td>NaN</td>\n",
       "      <td>52</td>\n",
       "      <td>высшее</td>\n",
       "      <td>0</td>\n",
       "      <td>женат / замужем</td>\n",
       "      <td>0</td>\n",
       "      <td>F</td>\n",
       "      <td>пенсионер</td>\n",
       "      <td>0</td>\n",
       "      <td>NaN</td>\n",
       "      <td>покупка жилья для семьи</td>\n",
       "    </tr>\n",
       "    <tr>\n",
       "      <th>72</th>\n",
       "      <td>1</td>\n",
       "      <td>NaN</td>\n",
       "      <td>32</td>\n",
       "      <td>высшее</td>\n",
       "      <td>0</td>\n",
       "      <td>женат / замужем</td>\n",
       "      <td>0</td>\n",
       "      <td>M</td>\n",
       "      <td>госслужащий</td>\n",
       "      <td>0</td>\n",
       "      <td>NaN</td>\n",
       "      <td>операции с коммерческой недвижимостью</td>\n",
       "    </tr>\n",
       "    <tr>\n",
       "      <th>82</th>\n",
       "      <td>2</td>\n",
       "      <td>NaN</td>\n",
       "      <td>50</td>\n",
       "      <td>высшее</td>\n",
       "      <td>0</td>\n",
       "      <td>женат / замужем</td>\n",
       "      <td>0</td>\n",
       "      <td>F</td>\n",
       "      <td>сотрудник</td>\n",
       "      <td>0</td>\n",
       "      <td>NaN</td>\n",
       "      <td>жилье</td>\n",
       "    </tr>\n",
       "    <tr>\n",
       "      <th>83</th>\n",
       "      <td>0</td>\n",
       "      <td>NaN</td>\n",
       "      <td>52</td>\n",
       "      <td>среднее</td>\n",
       "      <td>1</td>\n",
       "      <td>женат / замужем</td>\n",
       "      <td>0</td>\n",
       "      <td>M</td>\n",
       "      <td>сотрудник</td>\n",
       "      <td>0</td>\n",
       "      <td>NaN</td>\n",
       "      <td>жилье</td>\n",
       "    </tr>\n",
       "  </tbody>\n",
       "</table>\n",
       "</div>"
      ],
      "text/plain": [
       "    children  days_employed  dob_years education  education_id  \\\n",
       "12         0            NaN         65   среднее             1   \n",
       "26         0            NaN         41   среднее             1   \n",
       "29         0            NaN         63   среднее             1   \n",
       "41         0            NaN         50   среднее             1   \n",
       "55         0            NaN         54   среднее             1   \n",
       "65         0            NaN         21   среднее             1   \n",
       "67         0            NaN         52    высшее             0   \n",
       "72         1            NaN         32    высшее             0   \n",
       "82         2            NaN         50    высшее             0   \n",
       "83         0            NaN         52   среднее             1   \n",
       "\n",
       "            family_status  family_status_id gender  income_type  debt  \\\n",
       "12       гражданский брак                 1      M    пенсионер     0   \n",
       "26        женат / замужем                 0      M  госслужащий     0   \n",
       "29  Не женат / не замужем                 4      F    пенсионер     0   \n",
       "41        женат / замужем                 0      F  госслужащий     0   \n",
       "55       гражданский брак                 1      F    пенсионер     1   \n",
       "65  Не женат / не замужем                 4      M    компаньон     0   \n",
       "67        женат / замужем                 0      F    пенсионер     0   \n",
       "72        женат / замужем                 0      M  госслужащий     0   \n",
       "82        женат / замужем                 0      F    сотрудник     0   \n",
       "83        женат / замужем                 0      M    сотрудник     0   \n",
       "\n",
       "    total_income                                purpose  \n",
       "12           NaN                        сыграть свадьбу  \n",
       "26           NaN                            образование  \n",
       "29           NaN       строительство жилой недвижимости  \n",
       "41           NaN       сделка с подержанным автомобилем  \n",
       "55           NaN                        сыграть свадьбу  \n",
       "65           NaN  операции с коммерческой недвижимостью  \n",
       "67           NaN                покупка жилья для семьи  \n",
       "72           NaN  операции с коммерческой недвижимостью  \n",
       "82           NaN                                  жилье  \n",
       "83           NaN                                  жилье  "
      ]
     },
     "metadata": {},
     "output_type": "display_data"
    }
   ],
   "source": [
    "income_category_list = data.groupby('income_type')['total_income'].median().sort_values()\n",
    "print('Таблица медиан по категориям: ')\n",
    "display(income_category_list)\n",
    "print('Пропущеных значений в total_income: ', data['total_income'].isna().sum())\n",
    "print(\"Выведем несколько строк с пропусками:\")\n",
    "display(data.loc[data.loc[:,'total_income'].isna()==True].head(10))"
   ]
  },
  {
   "cell_type": "code",
   "execution_count": 11,
   "id": "1b2ecf56",
   "metadata": {},
   "outputs": [
    {
     "name": "stdout",
     "output_type": "stream",
     "text": [
      "в декрете : Медиана =  53829.13072905995\n",
      "Пропусков было: 0\n",
      "студент : Медиана =  98201.62531401133\n",
      "Пропусков было: 0\n",
      "пенсионер : Медиана =  118514.48641164352\n",
      "Пропусков было: 413\n",
      "безработный : Медиана =  131339.7516762103\n",
      "Пропусков было: 0\n",
      "сотрудник : Медиана =  142594.39684740017\n",
      "Пропусков было: 1105\n",
      "госслужащий : Медиана =  150447.9352830068\n",
      "Пропусков было: 147\n",
      "компаньон : Медиана =  172357.95096577113\n",
      "Пропусков было: 508\n",
      "предприниматель : Медиана =  499163.1449470857\n",
      "Пропусков было: 1\n",
      "Осталось пропущеных значений: 0\n",
      "Таблица медиан по категориям: \n",
      "income_type\n",
      "в декрете           53829.130729\n",
      "студент             98201.625314\n",
      "пенсионер          118514.486412\n",
      "безработный        131339.751676\n",
      "сотрудник          142594.396847\n",
      "госслужащий        150447.935283\n",
      "компаньон          172357.950966\n",
      "предприниматель    499163.144947\n",
      "Name: total_income, dtype: float64\n"
     ]
    }
   ],
   "source": [
    "for category in income_category_list.index:\n",
    "    median = income_category_list[category]\n",
    "    print(category,': Медиана = ', median)\n",
    "    print('Пропусков было:', data[data['income_type'] == category]['total_income'].isnull().sum())\n",
    "    data.loc[data.loc[:, 'income_type'] == category, 'total_income'] = data.loc[data.loc[:, 'income_type'] == category, 'total_income'].fillna(median)\n",
    "print('Осталось пропущеных значений:', data['total_income'].isna().sum())\n",
    "print('Таблица медиан по категориям: ')\n",
    "print(income_category_list)"
   ]
  },
  {
   "cell_type": "markdown",
   "id": "bad6aafe",
   "metadata": {},
   "source": [
    "**Сделаем pivot_table по каждому 'income_type' для того, чтоб разобраться с отрицательным стажем и выяснить, что с медианным значением среднего стажа работы.\n",
    "по каждому 'income_type': посмотрим общее кол-во строк данного типа в таблице, медианное значение по 'days_employed', для проверки корректности вычисления медианного и применения abs() выведем кол-во значений по 'days_employed' > 0 по 'income_type'.**"
   ]
  },
  {
   "cell_type": "code",
   "execution_count": 12,
   "id": "89f92bcd",
   "metadata": {},
   "outputs": [
    {
     "data": {
      "text/html": [
       "<div>\n",
       "<style scoped>\n",
       "    .dataframe tbody tr th:only-of-type {\n",
       "        vertical-align: middle;\n",
       "    }\n",
       "\n",
       "    .dataframe tbody tr th {\n",
       "        vertical-align: top;\n",
       "    }\n",
       "\n",
       "    .dataframe thead tr th {\n",
       "        text-align: left;\n",
       "    }\n",
       "\n",
       "    .dataframe thead tr:last-of-type th {\n",
       "        text-align: right;\n",
       "    }\n",
       "</style>\n",
       "<table border=\"1\" class=\"dataframe\">\n",
       "  <thead>\n",
       "    <tr>\n",
       "      <th></th>\n",
       "      <th colspan=\"3\" halign=\"left\">days_employed</th>\n",
       "    </tr>\n",
       "    <tr>\n",
       "      <th></th>\n",
       "      <th>Кол-во строк</th>\n",
       "      <th>Медианное значение</th>\n",
       "      <th>Кол-во значений &gt; 0</th>\n",
       "    </tr>\n",
       "    <tr>\n",
       "      <th>income_type</th>\n",
       "      <th></th>\n",
       "      <th></th>\n",
       "      <th></th>\n",
       "    </tr>\n",
       "  </thead>\n",
       "  <tbody>\n",
       "    <tr>\n",
       "      <th>безработный</th>\n",
       "      <td>2</td>\n",
       "      <td>366413.652744</td>\n",
       "      <td>2.0</td>\n",
       "    </tr>\n",
       "    <tr>\n",
       "      <th>в декрете</th>\n",
       "      <td>1</td>\n",
       "      <td>-3296.759962</td>\n",
       "      <td>0.0</td>\n",
       "    </tr>\n",
       "    <tr>\n",
       "      <th>госслужащий</th>\n",
       "      <td>1312</td>\n",
       "      <td>-2689.368353</td>\n",
       "      <td>0.0</td>\n",
       "    </tr>\n",
       "    <tr>\n",
       "      <th>компаньон</th>\n",
       "      <td>4577</td>\n",
       "      <td>-1547.382223</td>\n",
       "      <td>0.0</td>\n",
       "    </tr>\n",
       "    <tr>\n",
       "      <th>пенсионер</th>\n",
       "      <td>3443</td>\n",
       "      <td>365213.306266</td>\n",
       "      <td>3443.0</td>\n",
       "    </tr>\n",
       "    <tr>\n",
       "      <th>предприниматель</th>\n",
       "      <td>1</td>\n",
       "      <td>-520.848083</td>\n",
       "      <td>0.0</td>\n",
       "    </tr>\n",
       "    <tr>\n",
       "      <th>сотрудник</th>\n",
       "      <td>10014</td>\n",
       "      <td>-1574.202821</td>\n",
       "      <td>0.0</td>\n",
       "    </tr>\n",
       "    <tr>\n",
       "      <th>студент</th>\n",
       "      <td>1</td>\n",
       "      <td>-578.751554</td>\n",
       "      <td>0.0</td>\n",
       "    </tr>\n",
       "  </tbody>\n",
       "</table>\n",
       "</div>"
      ],
      "text/plain": [
       "                days_employed                                       \n",
       "                 Кол-во строк Медианное значение Кол-во значений > 0\n",
       "income_type                                                         \n",
       "безработный                 2      366413.652744                 2.0\n",
       "в декрете                   1       -3296.759962                 0.0\n",
       "госслужащий              1312       -2689.368353                 0.0\n",
       "компаньон                4577       -1547.382223                 0.0\n",
       "пенсионер                3443      365213.306266              3443.0\n",
       "предприниматель             1        -520.848083                 0.0\n",
       "сотрудник               10014       -1574.202821                 0.0\n",
       "студент                     1        -578.751554                 0.0"
      ]
     },
     "execution_count": 12,
     "metadata": {},
     "output_type": "execute_result"
    }
   ],
   "source": [
    "data_pivot = data.groupby('income_type').agg({'days_employed':['count', 'median', lambda x: sum(x>0)]})\n",
    "dict_to_rename = dict(zip(data_pivot.columns.levels[1], ['Кол-во строк', 'Медианное значение', 'Кол-во значений > 0']))\n",
    "data_pivot = data_pivot.rename(columns=dict_to_rename, level=1)\n",
    "data_pivot"
   ]
  },
  {
   "cell_type": "markdown",
   "id": "acc5a297",
   "metadata": {},
   "source": [
    "**значения по 'days_employed': все безработные и пенсионеры значения > 0, по остальным < 0, поэтому можно применять abs(), считать медиану.\n",
    "Берем значения по 'days_employed' и 'total_income' по модулю. Добавл. столбец 'dob_days_employed' для вычисления коэффициента кол-ва отработанных дней (допустим, можно трудиться с 16 лет), чтобы впоследствии заполнить NaN по 'days_employed' с учетом медианного показателя по группе**"
   ]
  },
  {
   "cell_type": "code",
   "execution_count": 13,
   "id": "e234d445",
   "metadata": {},
   "outputs": [
    {
     "data": {
      "text/html": [
       "<div>\n",
       "<style scoped>\n",
       "    .dataframe tbody tr th:only-of-type {\n",
       "        vertical-align: middle;\n",
       "    }\n",
       "\n",
       "    .dataframe tbody tr th {\n",
       "        vertical-align: top;\n",
       "    }\n",
       "\n",
       "    .dataframe thead th {\n",
       "        text-align: right;\n",
       "    }\n",
       "</style>\n",
       "<table border=\"1\" class=\"dataframe\">\n",
       "  <thead>\n",
       "    <tr style=\"text-align: right;\">\n",
       "      <th></th>\n",
       "      <th>children</th>\n",
       "      <th>days_employed</th>\n",
       "      <th>dob_years</th>\n",
       "      <th>education</th>\n",
       "      <th>education_id</th>\n",
       "      <th>family_status</th>\n",
       "      <th>family_status_id</th>\n",
       "      <th>gender</th>\n",
       "      <th>income_type</th>\n",
       "      <th>debt</th>\n",
       "      <th>total_income</th>\n",
       "      <th>purpose</th>\n",
       "      <th>dob_days_employed</th>\n",
       "    </tr>\n",
       "  </thead>\n",
       "  <tbody>\n",
       "    <tr>\n",
       "      <th>0</th>\n",
       "      <td>1</td>\n",
       "      <td>8437.673028</td>\n",
       "      <td>42</td>\n",
       "      <td>высшее</td>\n",
       "      <td>0</td>\n",
       "      <td>женат / замужем</td>\n",
       "      <td>0</td>\n",
       "      <td>F</td>\n",
       "      <td>сотрудник</td>\n",
       "      <td>0</td>\n",
       "      <td>253875.639453</td>\n",
       "      <td>покупка жилья</td>\n",
       "      <td>0.889112</td>\n",
       "    </tr>\n",
       "    <tr>\n",
       "      <th>1</th>\n",
       "      <td>1</td>\n",
       "      <td>4024.803754</td>\n",
       "      <td>36</td>\n",
       "      <td>среднее</td>\n",
       "      <td>1</td>\n",
       "      <td>женат / замужем</td>\n",
       "      <td>0</td>\n",
       "      <td>F</td>\n",
       "      <td>сотрудник</td>\n",
       "      <td>0</td>\n",
       "      <td>112080.014102</td>\n",
       "      <td>приобретение автомобиля</td>\n",
       "      <td>0.551343</td>\n",
       "    </tr>\n",
       "    <tr>\n",
       "      <th>2</th>\n",
       "      <td>0</td>\n",
       "      <td>5623.422610</td>\n",
       "      <td>33</td>\n",
       "      <td>Среднее</td>\n",
       "      <td>1</td>\n",
       "      <td>женат / замужем</td>\n",
       "      <td>0</td>\n",
       "      <td>M</td>\n",
       "      <td>сотрудник</td>\n",
       "      <td>0</td>\n",
       "      <td>145885.952297</td>\n",
       "      <td>покупка жилья</td>\n",
       "      <td>0.906273</td>\n",
       "    </tr>\n",
       "    <tr>\n",
       "      <th>3</th>\n",
       "      <td>3</td>\n",
       "      <td>4124.747207</td>\n",
       "      <td>32</td>\n",
       "      <td>среднее</td>\n",
       "      <td>1</td>\n",
       "      <td>женат / замужем</td>\n",
       "      <td>0</td>\n",
       "      <td>M</td>\n",
       "      <td>сотрудник</td>\n",
       "      <td>0</td>\n",
       "      <td>267628.550329</td>\n",
       "      <td>дополнительное образование</td>\n",
       "      <td>0.706292</td>\n",
       "    </tr>\n",
       "    <tr>\n",
       "      <th>4</th>\n",
       "      <td>0</td>\n",
       "      <td>340266.072047</td>\n",
       "      <td>53</td>\n",
       "      <td>среднее</td>\n",
       "      <td>1</td>\n",
       "      <td>гражданский брак</td>\n",
       "      <td>1</td>\n",
       "      <td>F</td>\n",
       "      <td>пенсионер</td>\n",
       "      <td>0</td>\n",
       "      <td>158616.077870</td>\n",
       "      <td>сыграть свадьбу</td>\n",
       "      <td>25.195563</td>\n",
       "    </tr>\n",
       "  </tbody>\n",
       "</table>\n",
       "</div>"
      ],
      "text/plain": [
       "   children  days_employed  dob_years education  education_id  \\\n",
       "0         1    8437.673028         42    высшее             0   \n",
       "1         1    4024.803754         36   среднее             1   \n",
       "2         0    5623.422610         33   Среднее             1   \n",
       "3         3    4124.747207         32   среднее             1   \n",
       "4         0  340266.072047         53   среднее             1   \n",
       "\n",
       "      family_status  family_status_id gender income_type  debt   total_income  \\\n",
       "0   женат / замужем                 0      F   сотрудник     0  253875.639453   \n",
       "1   женат / замужем                 0      F   сотрудник     0  112080.014102   \n",
       "2   женат / замужем                 0      M   сотрудник     0  145885.952297   \n",
       "3   женат / замужем                 0      M   сотрудник     0  267628.550329   \n",
       "4  гражданский брак                 1      F   пенсионер     0  158616.077870   \n",
       "\n",
       "                      purpose  dob_days_employed  \n",
       "0               покупка жилья           0.889112  \n",
       "1     приобретение автомобиля           0.551343  \n",
       "2               покупка жилья           0.906273  \n",
       "3  дополнительное образование           0.706292  \n",
       "4             сыграть свадьбу          25.195563  "
      ]
     },
     "execution_count": 13,
     "metadata": {},
     "output_type": "execute_result"
    }
   ],
   "source": [
    "data[['total_income', 'days_employed']] = data[['total_income', 'days_employed']].abs()\n",
    "data['dob_days_employed'] = data[data['days_employed'].notnull()]['days_employed']/((data['dob_years']-16)*365)\n",
    "data.head()"
   ]
  },
  {
   "cell_type": "markdown",
   "id": "61f79c13",
   "metadata": {},
   "source": [
    "**'days_employed': NaN заменяем на произведение медианного коэффициента по группе 'income_type', умноженного на возраст в днях**"
   ]
  },
  {
   "cell_type": "code",
   "execution_count": 14,
   "id": "6223b16e",
   "metadata": {},
   "outputs": [
    {
     "data": {
      "text/html": [
       "<div>\n",
       "<style scoped>\n",
       "    .dataframe tbody tr th:only-of-type {\n",
       "        vertical-align: middle;\n",
       "    }\n",
       "\n",
       "    .dataframe tbody tr th {\n",
       "        vertical-align: top;\n",
       "    }\n",
       "\n",
       "    .dataframe thead th {\n",
       "        text-align: right;\n",
       "    }\n",
       "</style>\n",
       "<table border=\"1\" class=\"dataframe\">\n",
       "  <thead>\n",
       "    <tr style=\"text-align: right;\">\n",
       "      <th></th>\n",
       "      <th>children</th>\n",
       "      <th>days_employed</th>\n",
       "      <th>dob_years</th>\n",
       "      <th>education</th>\n",
       "      <th>education_id</th>\n",
       "      <th>family_status</th>\n",
       "      <th>family_status_id</th>\n",
       "      <th>gender</th>\n",
       "      <th>income_type</th>\n",
       "      <th>debt</th>\n",
       "      <th>total_income</th>\n",
       "      <th>purpose</th>\n",
       "      <th>dob_days_employed</th>\n",
       "    </tr>\n",
       "  </thead>\n",
       "  <tbody>\n",
       "    <tr>\n",
       "      <th>0</th>\n",
       "      <td>1</td>\n",
       "      <td>8437.673028</td>\n",
       "      <td>42</td>\n",
       "      <td>высшее</td>\n",
       "      <td>0</td>\n",
       "      <td>женат / замужем</td>\n",
       "      <td>0</td>\n",
       "      <td>F</td>\n",
       "      <td>сотрудник</td>\n",
       "      <td>0</td>\n",
       "      <td>253875.639453</td>\n",
       "      <td>покупка жилья</td>\n",
       "      <td>0.889112</td>\n",
       "    </tr>\n",
       "    <tr>\n",
       "      <th>1</th>\n",
       "      <td>1</td>\n",
       "      <td>4024.803754</td>\n",
       "      <td>36</td>\n",
       "      <td>среднее</td>\n",
       "      <td>1</td>\n",
       "      <td>женат / замужем</td>\n",
       "      <td>0</td>\n",
       "      <td>F</td>\n",
       "      <td>сотрудник</td>\n",
       "      <td>0</td>\n",
       "      <td>112080.014102</td>\n",
       "      <td>приобретение автомобиля</td>\n",
       "      <td>0.551343</td>\n",
       "    </tr>\n",
       "    <tr>\n",
       "      <th>2</th>\n",
       "      <td>0</td>\n",
       "      <td>5623.422610</td>\n",
       "      <td>33</td>\n",
       "      <td>Среднее</td>\n",
       "      <td>1</td>\n",
       "      <td>женат / замужем</td>\n",
       "      <td>0</td>\n",
       "      <td>M</td>\n",
       "      <td>сотрудник</td>\n",
       "      <td>0</td>\n",
       "      <td>145885.952297</td>\n",
       "      <td>покупка жилья</td>\n",
       "      <td>0.906273</td>\n",
       "    </tr>\n",
       "    <tr>\n",
       "      <th>3</th>\n",
       "      <td>3</td>\n",
       "      <td>4124.747207</td>\n",
       "      <td>32</td>\n",
       "      <td>среднее</td>\n",
       "      <td>1</td>\n",
       "      <td>женат / замужем</td>\n",
       "      <td>0</td>\n",
       "      <td>M</td>\n",
       "      <td>сотрудник</td>\n",
       "      <td>0</td>\n",
       "      <td>267628.550329</td>\n",
       "      <td>дополнительное образование</td>\n",
       "      <td>0.706292</td>\n",
       "    </tr>\n",
       "    <tr>\n",
       "      <th>4</th>\n",
       "      <td>0</td>\n",
       "      <td>340266.072047</td>\n",
       "      <td>53</td>\n",
       "      <td>среднее</td>\n",
       "      <td>1</td>\n",
       "      <td>гражданский брак</td>\n",
       "      <td>1</td>\n",
       "      <td>F</td>\n",
       "      <td>пенсионер</td>\n",
       "      <td>0</td>\n",
       "      <td>158616.077870</td>\n",
       "      <td>сыграть свадьбу</td>\n",
       "      <td>25.195563</td>\n",
       "    </tr>\n",
       "  </tbody>\n",
       "</table>\n",
       "</div>"
      ],
      "text/plain": [
       "   children  days_employed  dob_years education  education_id  \\\n",
       "0         1    8437.673028         42    высшее             0   \n",
       "1         1    4024.803754         36   среднее             1   \n",
       "2         0    5623.422610         33   Среднее             1   \n",
       "3         3    4124.747207         32   среднее             1   \n",
       "4         0  340266.072047         53   среднее             1   \n",
       "\n",
       "      family_status  family_status_id gender income_type  debt   total_income  \\\n",
       "0   женат / замужем                 0      F   сотрудник     0  253875.639453   \n",
       "1   женат / замужем                 0      F   сотрудник     0  112080.014102   \n",
       "2   женат / замужем                 0      M   сотрудник     0  145885.952297   \n",
       "3   женат / замужем                 0      M   сотрудник     0  267628.550329   \n",
       "4  гражданский брак                 1      F   пенсионер     0  158616.077870   \n",
       "\n",
       "                      purpose  dob_days_employed  \n",
       "0               покупка жилья           0.889112  \n",
       "1     приобретение автомобиля           0.551343  \n",
       "2               покупка жилья           0.906273  \n",
       "3  дополнительное образование           0.706292  \n",
       "4             сыграть свадьбу          25.195563  "
      ]
     },
     "execution_count": 14,
     "metadata": {},
     "output_type": "execute_result"
    }
   ],
   "source": [
    "data['days_employed'] = data.groupby('income_type')['days_employed'].transform(lambda x: x.fillna(x.median()*data['dob_years']*365))\n",
    "data.head()"
   ]
  },
  {
   "cell_type": "markdown",
   "id": "88f03c1d",
   "metadata": {},
   "source": [
    "**Удаляем добавленный столбец и выводим общую информацию по датафрейму.**"
   ]
  },
  {
   "cell_type": "code",
   "execution_count": 15,
   "id": "8d5a5daa",
   "metadata": {},
   "outputs": [
    {
     "name": "stdout",
     "output_type": "stream",
     "text": [
      "<class 'pandas.core.frame.DataFrame'>\n",
      "RangeIndex: 21525 entries, 0 to 21524\n",
      "Data columns (total 12 columns):\n",
      " #   Column            Non-Null Count  Dtype  \n",
      "---  ------            --------------  -----  \n",
      " 0   children          21525 non-null  int64  \n",
      " 1   days_employed     21525 non-null  float64\n",
      " 2   dob_years         21525 non-null  int64  \n",
      " 3   education         21525 non-null  object \n",
      " 4   education_id      21525 non-null  int64  \n",
      " 5   family_status     21525 non-null  object \n",
      " 6   family_status_id  21525 non-null  int64  \n",
      " 7   gender            21525 non-null  object \n",
      " 8   income_type       21525 non-null  object \n",
      " 9   debt              21525 non-null  int64  \n",
      " 10  total_income      21525 non-null  float64\n",
      " 11  purpose           21525 non-null  object \n",
      "dtypes: float64(2), int64(5), object(5)\n",
      "memory usage: 2.0+ MB\n"
     ]
    }
   ],
   "source": [
    "data = data.drop('dob_days_employed', axis=1)\n",
    "data.info()"
   ]
  },
  {
   "cell_type": "markdown",
   "id": "5878ab34",
   "metadata": {},
   "source": [
    "### Шаг 2.2 Проверка данных на аномалии и исправления."
   ]
  },
  {
   "cell_type": "markdown",
   "id": "d112217c",
   "metadata": {},
   "source": [
    "**Решила поменять неизвестный пол на женский**"
   ]
  },
  {
   "cell_type": "code",
   "execution_count": 16,
   "id": "fcf8419a",
   "metadata": {},
   "outputs": [
    {
     "name": "stdout",
     "output_type": "stream",
     "text": [
      "       children  days_employed  dob_years            education  education_id  \\\n",
      "10701         0    2358.600502         24  неоконченное высшее             2   \n",
      "\n",
      "          family_status  family_status_id gender income_type  debt  \\\n",
      "10701  гражданский брак                 1    XNA   компаньон     0   \n",
      "\n",
      "        total_income               purpose  \n",
      "10701  203905.157261  покупка недвижимости  \n",
      "F      14236\n",
      "M       7288\n",
      "XNA        1\n",
      "Name: gender, dtype: int64\n",
      "F    14237\n",
      "M     7288\n",
      "Name: gender, dtype: int64\n",
      "children                               0\n",
      "days_employed                2358.600502\n",
      "dob_years                             24\n",
      "education            неоконченное высшее\n",
      "education_id                           2\n",
      "family_status           гражданский брак\n",
      "family_status_id                       1\n",
      "gender                                 F\n",
      "income_type                    компаньон\n",
      "debt                                   0\n",
      "total_income               203905.157261\n",
      "purpose             покупка недвижимости\n",
      "Name: 10701, dtype: object\n"
     ]
    }
   ],
   "source": [
    "print(data.loc[data['gender']=='XNA'])\n",
    "print(data['gender'].value_counts())\n",
    "data.loc[data['gender']=='XNA','gender'] = 'F' # Замена \"XNA\" на \"F\"\n",
    "print(data['gender'].value_counts())\n",
    "print(data.loc[10701]) # Вывод строки где было \"XNA\""
   ]
  },
  {
   "cell_type": "markdown",
   "id": "a1dd2b0f",
   "metadata": {},
   "source": [
    "**необходимо исправавить минимальное значение по 'children' (-1) на 0, хоть значений мало, можно было бы удалить эти строки, а 'children' (20 детей) оставим, мне кажется это логичным.\n",
    "Также нужно обработать нулевой возраст по строкам 'dob_years'.**"
   ]
  },
  {
   "cell_type": "code",
   "execution_count": 17,
   "id": "d4b488d6",
   "metadata": {},
   "outputs": [
    {
     "name": "stdout",
     "output_type": "stream",
     "text": [
      "Количество строк с 'children' (-1): 47\n",
      "Количество строк с 'children' (0): 14149\n",
      "Количество строк с 'children' (20): 76\n"
     ]
    }
   ],
   "source": [
    "print(\"Количество строк с 'children' (-1):\", data[data['children'] == -1].count()[0])\n",
    "print(\"Количество строк с 'children' (0):\", data[data['children'] == 0].count()[0])\n",
    "print(\"Количество строк с 'children' (20):\", data[data['children'] == 20].count()[0])"
   ]
  },
  {
   "cell_type": "code",
   "execution_count": 18,
   "id": "faabc09e",
   "metadata": {},
   "outputs": [],
   "source": [
    "#47 строк со значением по количеству детей равному \"-1\", изменим на \"0\"\n",
    "data['children'] = data['children'].replace(-1, 0)\n",
    "data['children'] = data['children'].replace(20, 2)"
   ]
  },
  {
   "cell_type": "code",
   "execution_count": 19,
   "id": "89861420",
   "metadata": {},
   "outputs": [
    {
     "name": "stdout",
     "output_type": "stream",
     "text": [
      "0    14196\n",
      "1     4818\n",
      "2     2131\n",
      "3      330\n",
      "4       41\n",
      "5        9\n",
      "Name: children, dtype: int64\n"
     ]
    }
   ],
   "source": [
    "print(data['children'].value_counts())"
   ]
  },
  {
   "cell_type": "code",
   "execution_count": 20,
   "id": "9c5c491d",
   "metadata": {},
   "outputs": [
    {
     "name": "stdout",
     "output_type": "stream",
     "text": [
      "Количество строк с 'dob_years' 0 - 101\n",
      "Количество строк с 'dob_years' < 19 - 101\n"
     ]
    }
   ],
   "source": [
    "# посмотрим кол-во \"0\" по возрасту 'dob_years' и количество несовершеннолетних\n",
    "print(\"Количество строк с 'dob_years' 0 -\", data[data['dob_years'] == 0].count()[0])\n",
    "print(\"Количество строк с 'dob_years' < 19 -\", data[data['dob_years'] < 19].count()[0])"
   ]
  },
  {
   "cell_type": "markdown",
   "id": "e9e0a40e",
   "metadata": {},
   "source": [
    "**Кол-ва совпадает, скорее всего, это одни и те же люди. Заполним значения по ним средним по каждой группе**"
   ]
  },
  {
   "cell_type": "code",
   "execution_count": 21,
   "id": "804fd1d0",
   "metadata": {},
   "outputs": [
    {
     "name": "stdout",
     "output_type": "stream",
     "text": [
      "Количество строк с нулевым'dob_years': 0\n"
     ]
    }
   ],
   "source": [
    "data['dob_years'] = data.groupby('income_type')['dob_years'].transform(lambda x: x.replace(0, int(x.mean())))\n",
    "#Проверяем кол-во оставшихся строк с нулевым значением по 'dob_years':\n",
    "print(\"Количество строк с нулевым'dob_years':\", data[data['dob_years'] == 0].count()[0])"
   ]
  },
  {
   "cell_type": "markdown",
   "id": "5c242f45",
   "metadata": {},
   "source": [
    "### Шаг 2.3. Изменение типов данных."
   ]
  },
  {
   "cell_type": "markdown",
   "id": "3b14b4ba",
   "metadata": {},
   "source": [
    "**Месячную зарплату 'total_income', а также стаж в днях 'days_employed' перевожу в 'int'. (по заданию сказано только зарплату перевести, но, мне кажется, не будет критичным перевести и стаж). Использую функцию 'astype'**"
   ]
  },
  {
   "cell_type": "code",
   "execution_count": 22,
   "id": "7558a04b",
   "metadata": {},
   "outputs": [
    {
     "data": {
      "text/plain": [
       "children             int64\n",
       "days_employed        int64\n",
       "dob_years            int64\n",
       "education           object\n",
       "education_id         int64\n",
       "family_status       object\n",
       "family_status_id     int64\n",
       "gender              object\n",
       "income_type         object\n",
       "debt                 int64\n",
       "total_income         int64\n",
       "purpose             object\n",
       "dtype: object"
      ]
     },
     "execution_count": 22,
     "metadata": {},
     "output_type": "execute_result"
    }
   ],
   "source": [
    "data['days_employed'] = data['days_employed'].astype('int')\n",
    "data['total_income'] = data['total_income'].astype('int')\n",
    "data.dtypes"
   ]
  },
  {
   "cell_type": "markdown",
   "id": "0d186ce0",
   "metadata": {},
   "source": [
    "### Шаг 2.4. Удаление дубликатов."
   ]
  },
  {
   "cell_type": "markdown",
   "id": "d664924d",
   "metadata": {},
   "source": [
    "**у столбца 'education' присутствуют разные регистры- необходимо привести к общему регистру**"
   ]
  },
  {
   "cell_type": "code",
   "execution_count": 23,
   "id": "8a4c56ad",
   "metadata": {},
   "outputs": [],
   "source": [
    "# 'education' в low-индекс\n",
    "data['education'] = data['education'].str.lower()"
   ]
  },
  {
   "cell_type": "markdown",
   "id": "fecefef8",
   "metadata": {},
   "source": [
    "**Ещё раз посчитаем количество дубликатов. Используем duplicated() и выводим суммарное количество дубликатов по датафрейму**"
   ]
  },
  {
   "cell_type": "code",
   "execution_count": 24,
   "id": "4f80103b",
   "metadata": {},
   "outputs": [
    {
     "data": {
      "text/plain": [
       "71"
      ]
     },
     "execution_count": 24,
     "metadata": {},
     "output_type": "execute_result"
    }
   ],
   "source": [
    "data.duplicated().sum()"
   ]
  },
  {
   "cell_type": "code",
   "execution_count": 25,
   "id": "f6df2de2",
   "metadata": {},
   "outputs": [
    {
     "data": {
      "text/html": [
       "<div>\n",
       "<style scoped>\n",
       "    .dataframe tbody tr th:only-of-type {\n",
       "        vertical-align: middle;\n",
       "    }\n",
       "\n",
       "    .dataframe tbody tr th {\n",
       "        vertical-align: top;\n",
       "    }\n",
       "\n",
       "    .dataframe thead th {\n",
       "        text-align: right;\n",
       "    }\n",
       "</style>\n",
       "<table border=\"1\" class=\"dataframe\">\n",
       "  <thead>\n",
       "    <tr style=\"text-align: right;\">\n",
       "      <th></th>\n",
       "      <th>children</th>\n",
       "      <th>days_employed</th>\n",
       "      <th>dob_years</th>\n",
       "      <th>education</th>\n",
       "      <th>education_id</th>\n",
       "      <th>family_status</th>\n",
       "      <th>family_status_id</th>\n",
       "      <th>gender</th>\n",
       "      <th>income_type</th>\n",
       "      <th>debt</th>\n",
       "      <th>total_income</th>\n",
       "      <th>purpose</th>\n",
       "    </tr>\n",
       "  </thead>\n",
       "  <tbody>\n",
       "    <tr>\n",
       "      <th>17787</th>\n",
       "      <td>0</td>\n",
       "      <td>7198354266</td>\n",
       "      <td>54</td>\n",
       "      <td>среднее</td>\n",
       "      <td>1</td>\n",
       "      <td>женат / замужем</td>\n",
       "      <td>0</td>\n",
       "      <td>F</td>\n",
       "      <td>пенсионер</td>\n",
       "      <td>0</td>\n",
       "      <td>118514</td>\n",
       "      <td>операции с жильем</td>\n",
       "    </tr>\n",
       "    <tr>\n",
       "      <th>21415</th>\n",
       "      <td>0</td>\n",
       "      <td>7198354266</td>\n",
       "      <td>54</td>\n",
       "      <td>среднее</td>\n",
       "      <td>1</td>\n",
       "      <td>женат / замужем</td>\n",
       "      <td>0</td>\n",
       "      <td>F</td>\n",
       "      <td>пенсионер</td>\n",
       "      <td>0</td>\n",
       "      <td>118514</td>\n",
       "      <td>операции с жильем</td>\n",
       "    </tr>\n",
       "    <tr>\n",
       "      <th>3344</th>\n",
       "      <td>0</td>\n",
       "      <td>7464959980</td>\n",
       "      <td>56</td>\n",
       "      <td>среднее</td>\n",
       "      <td>1</td>\n",
       "      <td>женат / замужем</td>\n",
       "      <td>0</td>\n",
       "      <td>F</td>\n",
       "      <td>пенсионер</td>\n",
       "      <td>0</td>\n",
       "      <td>118514</td>\n",
       "      <td>операции со своей недвижимостью</td>\n",
       "    </tr>\n",
       "    <tr>\n",
       "      <th>9627</th>\n",
       "      <td>0</td>\n",
       "      <td>7464959980</td>\n",
       "      <td>56</td>\n",
       "      <td>среднее</td>\n",
       "      <td>1</td>\n",
       "      <td>женат / замужем</td>\n",
       "      <td>0</td>\n",
       "      <td>F</td>\n",
       "      <td>пенсионер</td>\n",
       "      <td>0</td>\n",
       "      <td>118514</td>\n",
       "      <td>операции со своей недвижимостью</td>\n",
       "    </tr>\n",
       "    <tr>\n",
       "      <th>13300</th>\n",
       "      <td>0</td>\n",
       "      <td>7464959980</td>\n",
       "      <td>56</td>\n",
       "      <td>среднее</td>\n",
       "      <td>1</td>\n",
       "      <td>женат / замужем</td>\n",
       "      <td>0</td>\n",
       "      <td>F</td>\n",
       "      <td>пенсионер</td>\n",
       "      <td>0</td>\n",
       "      <td>118514</td>\n",
       "      <td>на покупку автомобиля</td>\n",
       "    </tr>\n",
       "    <tr>\n",
       "      <th>...</th>\n",
       "      <td>...</td>\n",
       "      <td>...</td>\n",
       "      <td>...</td>\n",
       "      <td>...</td>\n",
       "      <td>...</td>\n",
       "      <td>...</td>\n",
       "      <td>...</td>\n",
       "      <td>...</td>\n",
       "      <td>...</td>\n",
       "      <td>...</td>\n",
       "      <td>...</td>\n",
       "      <td>...</td>\n",
       "    </tr>\n",
       "    <tr>\n",
       "      <th>19369</th>\n",
       "      <td>0</td>\n",
       "      <td>25415753</td>\n",
       "      <td>45</td>\n",
       "      <td>среднее</td>\n",
       "      <td>1</td>\n",
       "      <td>гражданский брак</td>\n",
       "      <td>1</td>\n",
       "      <td>F</td>\n",
       "      <td>компаньон</td>\n",
       "      <td>0</td>\n",
       "      <td>172357</td>\n",
       "      <td>свадьба</td>\n",
       "    </tr>\n",
       "    <tr>\n",
       "      <th>9920</th>\n",
       "      <td>0</td>\n",
       "      <td>28804520</td>\n",
       "      <td>51</td>\n",
       "      <td>среднее</td>\n",
       "      <td>1</td>\n",
       "      <td>гражданский брак</td>\n",
       "      <td>1</td>\n",
       "      <td>F</td>\n",
       "      <td>компаньон</td>\n",
       "      <td>0</td>\n",
       "      <td>172357</td>\n",
       "      <td>на проведение свадьбы</td>\n",
       "    </tr>\n",
       "    <tr>\n",
       "      <th>15991</th>\n",
       "      <td>0</td>\n",
       "      <td>28804520</td>\n",
       "      <td>51</td>\n",
       "      <td>среднее</td>\n",
       "      <td>1</td>\n",
       "      <td>гражданский брак</td>\n",
       "      <td>1</td>\n",
       "      <td>F</td>\n",
       "      <td>компаньон</td>\n",
       "      <td>0</td>\n",
       "      <td>172357</td>\n",
       "      <td>на проведение свадьбы</td>\n",
       "    </tr>\n",
       "    <tr>\n",
       "      <th>2254</th>\n",
       "      <td>0</td>\n",
       "      <td>30498903</td>\n",
       "      <td>54</td>\n",
       "      <td>высшее</td>\n",
       "      <td>0</td>\n",
       "      <td>женат / замужем</td>\n",
       "      <td>0</td>\n",
       "      <td>M</td>\n",
       "      <td>компаньон</td>\n",
       "      <td>0</td>\n",
       "      <td>172357</td>\n",
       "      <td>операции с коммерческой недвижимостью</td>\n",
       "    </tr>\n",
       "    <tr>\n",
       "      <th>17379</th>\n",
       "      <td>0</td>\n",
       "      <td>30498903</td>\n",
       "      <td>54</td>\n",
       "      <td>высшее</td>\n",
       "      <td>0</td>\n",
       "      <td>женат / замужем</td>\n",
       "      <td>0</td>\n",
       "      <td>M</td>\n",
       "      <td>компаньон</td>\n",
       "      <td>0</td>\n",
       "      <td>172357</td>\n",
       "      <td>операции с коммерческой недвижимостью</td>\n",
       "    </tr>\n",
       "  </tbody>\n",
       "</table>\n",
       "<p>137 rows × 12 columns</p>\n",
       "</div>"
      ],
      "text/plain": [
       "       children  days_employed  dob_years education  education_id  \\\n",
       "17787         0     7198354266         54   среднее             1   \n",
       "21415         0     7198354266         54   среднее             1   \n",
       "3344          0     7464959980         56   среднее             1   \n",
       "9627          0     7464959980         56   среднее             1   \n",
       "13300         0     7464959980         56   среднее             1   \n",
       "...         ...            ...        ...       ...           ...   \n",
       "19369         0       25415753         45   среднее             1   \n",
       "9920          0       28804520         51   среднее             1   \n",
       "15991         0       28804520         51   среднее             1   \n",
       "2254          0       30498903         54    высшее             0   \n",
       "17379         0       30498903         54    высшее             0   \n",
       "\n",
       "          family_status  family_status_id gender income_type  debt  \\\n",
       "17787   женат / замужем                 0      F   пенсионер     0   \n",
       "21415   женат / замужем                 0      F   пенсионер     0   \n",
       "3344    женат / замужем                 0      F   пенсионер     0   \n",
       "9627    женат / замужем                 0      F   пенсионер     0   \n",
       "13300   женат / замужем                 0      F   пенсионер     0   \n",
       "...                 ...               ...    ...         ...   ...   \n",
       "19369  гражданский брак                 1      F   компаньон     0   \n",
       "9920   гражданский брак                 1      F   компаньон     0   \n",
       "15991  гражданский брак                 1      F   компаньон     0   \n",
       "2254    женат / замужем                 0      M   компаньон     0   \n",
       "17379   женат / замужем                 0      M   компаньон     0   \n",
       "\n",
       "       total_income                                purpose  \n",
       "17787        118514                      операции с жильем  \n",
       "21415        118514                      операции с жильем  \n",
       "3344         118514        операции со своей недвижимостью  \n",
       "9627         118514        операции со своей недвижимостью  \n",
       "13300        118514                  на покупку автомобиля  \n",
       "...             ...                                    ...  \n",
       "19369        172357                                свадьба  \n",
       "9920         172357                  на проведение свадьбы  \n",
       "15991        172357                  на проведение свадьбы  \n",
       "2254         172357  операции с коммерческой недвижимостью  \n",
       "17379        172357  операции с коммерческой недвижимостью  \n",
       "\n",
       "[137 rows x 12 columns]"
      ]
     },
     "execution_count": 25,
     "metadata": {},
     "output_type": "execute_result"
    }
   ],
   "source": [
    "data[data.duplicated(keep=False)].sort_values(by=['total_income', 'days_employed'])"
   ]
  },
  {
   "cell_type": "markdown",
   "id": "772695b4",
   "metadata": {},
   "source": [
    "**Выглядит, действительно, как дубликаты, наверное ошибочно добавили одни и те же данные несколько раз, поэтому удалим их**"
   ]
  },
  {
   "cell_type": "code",
   "execution_count": 26,
   "id": "5a509369",
   "metadata": {},
   "outputs": [
    {
     "data": {
      "text/plain": [
       "0"
      ]
     },
     "execution_count": 26,
     "metadata": {},
     "output_type": "execute_result"
    }
   ],
   "source": [
    "data = data.drop_duplicates()\n",
    "data.duplicated().sum()"
   ]
  },
  {
   "cell_type": "markdown",
   "id": "da8decf6",
   "metadata": {},
   "source": [
    "### Шаг 2.5. Формирование дополнительных датафреймов словарей, декомпозиция исходного датафрейма."
   ]
  },
  {
   "cell_type": "markdown",
   "id": "a0b019ef",
   "metadata": {},
   "source": [
    "**Создадим два новых датафрейма dict_education и dict_family, удалим из исходного датафрейма столбцы education и family_status, оставив только их идентификаторы: education_id и family_status_id**"
   ]
  },
  {
   "cell_type": "markdown",
   "id": "6d53ff54",
   "metadata": {},
   "source": [
    "<div class=\"alert alert-block alert-info\">\n",
    "<b>Комментарий студента:</b> \n",
    "Исправила.\n",
    "1)выделяем словари для education и family_status\n",
    "2)удаляем дубликаты из словаря\n",
    "3)проверяем содержимое\n",
    "4)т.к. словари мы сохранили, а id проставлены, удалим столбцы education и family_status из основной таблицы\n",
    "</div>"
   ]
  },
  {
   "cell_type": "code",
   "execution_count": 27,
   "id": "dc160e89",
   "metadata": {},
   "outputs": [],
   "source": [
    "dict_education = data[['education_id', 'education']]\n",
    "dict_family = data[['family_status_id', 'family_status']]"
   ]
  },
  {
   "cell_type": "markdown",
   "id": "f3ed03de",
   "metadata": {},
   "source": [
    "**удаляю дубликаты из словаря**"
   ]
  },
  {
   "cell_type": "code",
   "execution_count": 28,
   "id": "3811fe68",
   "metadata": {},
   "outputs": [
    {
     "data": {
      "text/html": [
       "<div>\n",
       "<style scoped>\n",
       "    .dataframe tbody tr th:only-of-type {\n",
       "        vertical-align: middle;\n",
       "    }\n",
       "\n",
       "    .dataframe tbody tr th {\n",
       "        vertical-align: top;\n",
       "    }\n",
       "\n",
       "    .dataframe thead th {\n",
       "        text-align: right;\n",
       "    }\n",
       "</style>\n",
       "<table border=\"1\" class=\"dataframe\">\n",
       "  <thead>\n",
       "    <tr style=\"text-align: right;\">\n",
       "      <th></th>\n",
       "      <th>education_id</th>\n",
       "      <th>education</th>\n",
       "    </tr>\n",
       "  </thead>\n",
       "  <tbody>\n",
       "    <tr>\n",
       "      <th>0</th>\n",
       "      <td>0</td>\n",
       "      <td>высшее</td>\n",
       "    </tr>\n",
       "    <tr>\n",
       "      <th>1</th>\n",
       "      <td>1</td>\n",
       "      <td>среднее</td>\n",
       "    </tr>\n",
       "    <tr>\n",
       "      <th>2</th>\n",
       "      <td>2</td>\n",
       "      <td>неоконченное высшее</td>\n",
       "    </tr>\n",
       "    <tr>\n",
       "      <th>3</th>\n",
       "      <td>3</td>\n",
       "      <td>начальное</td>\n",
       "    </tr>\n",
       "    <tr>\n",
       "      <th>4</th>\n",
       "      <td>4</td>\n",
       "      <td>ученая степень</td>\n",
       "    </tr>\n",
       "  </tbody>\n",
       "</table>\n",
       "</div>"
      ],
      "text/plain": [
       "   education_id            education\n",
       "0             0               высшее\n",
       "1             1              среднее\n",
       "2             2  неоконченное высшее\n",
       "3             3            начальное\n",
       "4             4       ученая степень"
      ]
     },
     "execution_count": 28,
     "metadata": {},
     "output_type": "execute_result"
    }
   ],
   "source": [
    "dict_education = dict_education.drop_duplicates().reset_index(drop=True)\n",
    "dict_education.head(10)"
   ]
  },
  {
   "cell_type": "markdown",
   "id": "2a72f023",
   "metadata": {},
   "source": [
    "**аналогично с dict_family**"
   ]
  },
  {
   "cell_type": "code",
   "execution_count": 29,
   "id": "54c03c5d",
   "metadata": {},
   "outputs": [
    {
     "data": {
      "text/html": [
       "<div>\n",
       "<style scoped>\n",
       "    .dataframe tbody tr th:only-of-type {\n",
       "        vertical-align: middle;\n",
       "    }\n",
       "\n",
       "    .dataframe tbody tr th {\n",
       "        vertical-align: top;\n",
       "    }\n",
       "\n",
       "    .dataframe thead th {\n",
       "        text-align: right;\n",
       "    }\n",
       "</style>\n",
       "<table border=\"1\" class=\"dataframe\">\n",
       "  <thead>\n",
       "    <tr style=\"text-align: right;\">\n",
       "      <th></th>\n",
       "      <th>family_status_id</th>\n",
       "      <th>family_status</th>\n",
       "    </tr>\n",
       "  </thead>\n",
       "  <tbody>\n",
       "    <tr>\n",
       "      <th>0</th>\n",
       "      <td>0</td>\n",
       "      <td>женат / замужем</td>\n",
       "    </tr>\n",
       "    <tr>\n",
       "      <th>1</th>\n",
       "      <td>1</td>\n",
       "      <td>гражданский брак</td>\n",
       "    </tr>\n",
       "    <tr>\n",
       "      <th>2</th>\n",
       "      <td>2</td>\n",
       "      <td>вдовец / вдова</td>\n",
       "    </tr>\n",
       "    <tr>\n",
       "      <th>3</th>\n",
       "      <td>3</td>\n",
       "      <td>в разводе</td>\n",
       "    </tr>\n",
       "    <tr>\n",
       "      <th>4</th>\n",
       "      <td>4</td>\n",
       "      <td>Не женат / не замужем</td>\n",
       "    </tr>\n",
       "  </tbody>\n",
       "</table>\n",
       "</div>"
      ],
      "text/plain": [
       "   family_status_id          family_status\n",
       "0                 0        женат / замужем\n",
       "1                 1       гражданский брак\n",
       "2                 2         вдовец / вдова\n",
       "3                 3              в разводе\n",
       "4                 4  Не женат / не замужем"
      ]
     },
     "execution_count": 29,
     "metadata": {},
     "output_type": "execute_result"
    }
   ],
   "source": [
    "dict_family = dict_family.drop_duplicates().reset_index(drop=True)\n",
    "dict_family.head(10)"
   ]
  },
  {
   "cell_type": "code",
   "execution_count": 30,
   "id": "61f49d20",
   "metadata": {},
   "outputs": [
    {
     "name": "stdout",
     "output_type": "stream",
     "text": [
      "<class 'pandas.core.frame.DataFrame'>\n",
      "Int64Index: 21454 entries, 0 to 21524\n",
      "Data columns (total 10 columns):\n",
      " #   Column            Non-Null Count  Dtype \n",
      "---  ------            --------------  ----- \n",
      " 0   children          21454 non-null  int64 \n",
      " 1   days_employed     21454 non-null  int64 \n",
      " 2   dob_years         21454 non-null  int64 \n",
      " 3   education_id      21454 non-null  int64 \n",
      " 4   family_status_id  21454 non-null  int64 \n",
      " 5   gender            21454 non-null  object\n",
      " 6   income_type       21454 non-null  object\n",
      " 7   debt              21454 non-null  int64 \n",
      " 8   total_income      21454 non-null  int64 \n",
      " 9   purpose           21454 non-null  object\n",
      "dtypes: int64(7), object(3)\n",
      "memory usage: 1.8+ MB\n"
     ]
    }
   ],
   "source": [
    "data = data.drop('education', axis=1)\n",
    "data = data.drop('family_status', axis=1)\n",
    "data.info()"
   ]
  },
  {
   "cell_type": "code",
   "execution_count": 31,
   "id": "a0208b6e",
   "metadata": {},
   "outputs": [
    {
     "data": {
      "text/html": [
       "<div>\n",
       "<style scoped>\n",
       "    .dataframe tbody tr th:only-of-type {\n",
       "        vertical-align: middle;\n",
       "    }\n",
       "\n",
       "    .dataframe tbody tr th {\n",
       "        vertical-align: top;\n",
       "    }\n",
       "\n",
       "    .dataframe thead th {\n",
       "        text-align: right;\n",
       "    }\n",
       "</style>\n",
       "<table border=\"1\" class=\"dataframe\">\n",
       "  <thead>\n",
       "    <tr style=\"text-align: right;\">\n",
       "      <th></th>\n",
       "      <th>children</th>\n",
       "      <th>days_employed</th>\n",
       "      <th>dob_years</th>\n",
       "      <th>education_id</th>\n",
       "      <th>family_status_id</th>\n",
       "      <th>gender</th>\n",
       "      <th>income_type</th>\n",
       "      <th>debt</th>\n",
       "      <th>total_income</th>\n",
       "      <th>purpose</th>\n",
       "    </tr>\n",
       "  </thead>\n",
       "  <tbody>\n",
       "    <tr>\n",
       "      <th>0</th>\n",
       "      <td>1</td>\n",
       "      <td>8437</td>\n",
       "      <td>42</td>\n",
       "      <td>0</td>\n",
       "      <td>0</td>\n",
       "      <td>F</td>\n",
       "      <td>сотрудник</td>\n",
       "      <td>0</td>\n",
       "      <td>253875</td>\n",
       "      <td>покупка жилья</td>\n",
       "    </tr>\n",
       "    <tr>\n",
       "      <th>1</th>\n",
       "      <td>1</td>\n",
       "      <td>4024</td>\n",
       "      <td>36</td>\n",
       "      <td>1</td>\n",
       "      <td>0</td>\n",
       "      <td>F</td>\n",
       "      <td>сотрудник</td>\n",
       "      <td>0</td>\n",
       "      <td>112080</td>\n",
       "      <td>приобретение автомобиля</td>\n",
       "    </tr>\n",
       "    <tr>\n",
       "      <th>2</th>\n",
       "      <td>0</td>\n",
       "      <td>5623</td>\n",
       "      <td>33</td>\n",
       "      <td>1</td>\n",
       "      <td>0</td>\n",
       "      <td>M</td>\n",
       "      <td>сотрудник</td>\n",
       "      <td>0</td>\n",
       "      <td>145885</td>\n",
       "      <td>покупка жилья</td>\n",
       "    </tr>\n",
       "    <tr>\n",
       "      <th>3</th>\n",
       "      <td>3</td>\n",
       "      <td>4124</td>\n",
       "      <td>32</td>\n",
       "      <td>1</td>\n",
       "      <td>0</td>\n",
       "      <td>M</td>\n",
       "      <td>сотрудник</td>\n",
       "      <td>0</td>\n",
       "      <td>267628</td>\n",
       "      <td>дополнительное образование</td>\n",
       "    </tr>\n",
       "    <tr>\n",
       "      <th>4</th>\n",
       "      <td>0</td>\n",
       "      <td>340266</td>\n",
       "      <td>53</td>\n",
       "      <td>1</td>\n",
       "      <td>1</td>\n",
       "      <td>F</td>\n",
       "      <td>пенсионер</td>\n",
       "      <td>0</td>\n",
       "      <td>158616</td>\n",
       "      <td>сыграть свадьбу</td>\n",
       "    </tr>\n",
       "    <tr>\n",
       "      <th>...</th>\n",
       "      <td>...</td>\n",
       "      <td>...</td>\n",
       "      <td>...</td>\n",
       "      <td>...</td>\n",
       "      <td>...</td>\n",
       "      <td>...</td>\n",
       "      <td>...</td>\n",
       "      <td>...</td>\n",
       "      <td>...</td>\n",
       "      <td>...</td>\n",
       "    </tr>\n",
       "    <tr>\n",
       "      <th>21520</th>\n",
       "      <td>1</td>\n",
       "      <td>4529</td>\n",
       "      <td>43</td>\n",
       "      <td>1</td>\n",
       "      <td>1</td>\n",
       "      <td>F</td>\n",
       "      <td>компаньон</td>\n",
       "      <td>0</td>\n",
       "      <td>224791</td>\n",
       "      <td>операции с жильем</td>\n",
       "    </tr>\n",
       "    <tr>\n",
       "      <th>21521</th>\n",
       "      <td>0</td>\n",
       "      <td>343937</td>\n",
       "      <td>67</td>\n",
       "      <td>1</td>\n",
       "      <td>0</td>\n",
       "      <td>F</td>\n",
       "      <td>пенсионер</td>\n",
       "      <td>0</td>\n",
       "      <td>155999</td>\n",
       "      <td>сделка с автомобилем</td>\n",
       "    </tr>\n",
       "    <tr>\n",
       "      <th>21522</th>\n",
       "      <td>1</td>\n",
       "      <td>2113</td>\n",
       "      <td>38</td>\n",
       "      <td>1</td>\n",
       "      <td>1</td>\n",
       "      <td>M</td>\n",
       "      <td>сотрудник</td>\n",
       "      <td>1</td>\n",
       "      <td>89672</td>\n",
       "      <td>недвижимость</td>\n",
       "    </tr>\n",
       "    <tr>\n",
       "      <th>21523</th>\n",
       "      <td>3</td>\n",
       "      <td>3112</td>\n",
       "      <td>38</td>\n",
       "      <td>1</td>\n",
       "      <td>0</td>\n",
       "      <td>M</td>\n",
       "      <td>сотрудник</td>\n",
       "      <td>1</td>\n",
       "      <td>244093</td>\n",
       "      <td>на покупку своего автомобиля</td>\n",
       "    </tr>\n",
       "    <tr>\n",
       "      <th>21524</th>\n",
       "      <td>2</td>\n",
       "      <td>1984</td>\n",
       "      <td>40</td>\n",
       "      <td>1</td>\n",
       "      <td>0</td>\n",
       "      <td>F</td>\n",
       "      <td>сотрудник</td>\n",
       "      <td>0</td>\n",
       "      <td>82047</td>\n",
       "      <td>на покупку автомобиля</td>\n",
       "    </tr>\n",
       "  </tbody>\n",
       "</table>\n",
       "<p>21454 rows × 10 columns</p>\n",
       "</div>"
      ],
      "text/plain": [
       "       children  days_employed  dob_years  education_id  family_status_id  \\\n",
       "0             1           8437         42             0                 0   \n",
       "1             1           4024         36             1                 0   \n",
       "2             0           5623         33             1                 0   \n",
       "3             3           4124         32             1                 0   \n",
       "4             0         340266         53             1                 1   \n",
       "...         ...            ...        ...           ...               ...   \n",
       "21520         1           4529         43             1                 1   \n",
       "21521         0         343937         67             1                 0   \n",
       "21522         1           2113         38             1                 1   \n",
       "21523         3           3112         38             1                 0   \n",
       "21524         2           1984         40             1                 0   \n",
       "\n",
       "      gender income_type  debt  total_income                       purpose  \n",
       "0          F   сотрудник     0        253875                 покупка жилья  \n",
       "1          F   сотрудник     0        112080       приобретение автомобиля  \n",
       "2          M   сотрудник     0        145885                 покупка жилья  \n",
       "3          M   сотрудник     0        267628    дополнительное образование  \n",
       "4          F   пенсионер     0        158616               сыграть свадьбу  \n",
       "...      ...         ...   ...           ...                           ...  \n",
       "21520      F   компаньон     0        224791             операции с жильем  \n",
       "21521      F   пенсионер     0        155999          сделка с автомобилем  \n",
       "21522      M   сотрудник     1         89672                  недвижимость  \n",
       "21523      M   сотрудник     1        244093  на покупку своего автомобиля  \n",
       "21524      F   сотрудник     0         82047         на покупку автомобиля  \n",
       "\n",
       "[21454 rows x 10 columns]"
      ]
     },
     "metadata": {},
     "output_type": "display_data"
    }
   ],
   "source": [
    "display(data)"
   ]
  },
  {
   "cell_type": "markdown",
   "id": "e4ceed34",
   "metadata": {},
   "source": [
    "### Шаг 2.6. Категоризация дохода."
   ]
  },
  {
   "cell_type": "markdown",
   "id": "10d4c132",
   "metadata": {},
   "source": [
    "**Создадим функцию, которая на освновании диапазонов разобьет доходы на категории, а затем создадим новый столбец total_income_category с этими категориями**"
   ]
  },
  {
   "cell_type": "code",
   "execution_count": 32,
   "id": "c5a793cd",
   "metadata": {},
   "outputs": [],
   "source": [
    "def ti_category(category):\n",
    "    if category <= 30000 and category > 0:\n",
    "        return 'E'\n",
    "    if category <= 50000 and category > 30001:\n",
    "        return 'D'\n",
    "    if category <= 200000 and category > 50001:\n",
    "        return 'C'\n",
    "    if category <= 1000000 and category > 200001:\n",
    "        return 'B'\n",
    "    if category > 1000001:\n",
    "        return 'A'"
   ]
  },
  {
   "cell_type": "code",
   "execution_count": 33,
   "id": "a9de419f",
   "metadata": {},
   "outputs": [],
   "source": [
    "data['total_income_category'] = data['total_income'].apply(ti_category)"
   ]
  },
  {
   "cell_type": "code",
   "execution_count": 34,
   "id": "d22b9a6f",
   "metadata": {},
   "outputs": [
    {
     "data": {
      "text/html": [
       "<div>\n",
       "<style scoped>\n",
       "    .dataframe tbody tr th:only-of-type {\n",
       "        vertical-align: middle;\n",
       "    }\n",
       "\n",
       "    .dataframe tbody tr th {\n",
       "        vertical-align: top;\n",
       "    }\n",
       "\n",
       "    .dataframe thead th {\n",
       "        text-align: right;\n",
       "    }\n",
       "</style>\n",
       "<table border=\"1\" class=\"dataframe\">\n",
       "  <thead>\n",
       "    <tr style=\"text-align: right;\">\n",
       "      <th></th>\n",
       "      <th>children</th>\n",
       "      <th>days_employed</th>\n",
       "      <th>dob_years</th>\n",
       "      <th>education_id</th>\n",
       "      <th>family_status_id</th>\n",
       "      <th>gender</th>\n",
       "      <th>income_type</th>\n",
       "      <th>debt</th>\n",
       "      <th>total_income</th>\n",
       "      <th>purpose</th>\n",
       "      <th>total_income_category</th>\n",
       "    </tr>\n",
       "  </thead>\n",
       "  <tbody>\n",
       "    <tr>\n",
       "      <th>0</th>\n",
       "      <td>1</td>\n",
       "      <td>8437</td>\n",
       "      <td>42</td>\n",
       "      <td>0</td>\n",
       "      <td>0</td>\n",
       "      <td>F</td>\n",
       "      <td>сотрудник</td>\n",
       "      <td>0</td>\n",
       "      <td>253875</td>\n",
       "      <td>покупка жилья</td>\n",
       "      <td>B</td>\n",
       "    </tr>\n",
       "    <tr>\n",
       "      <th>1</th>\n",
       "      <td>1</td>\n",
       "      <td>4024</td>\n",
       "      <td>36</td>\n",
       "      <td>1</td>\n",
       "      <td>0</td>\n",
       "      <td>F</td>\n",
       "      <td>сотрудник</td>\n",
       "      <td>0</td>\n",
       "      <td>112080</td>\n",
       "      <td>приобретение автомобиля</td>\n",
       "      <td>C</td>\n",
       "    </tr>\n",
       "    <tr>\n",
       "      <th>2</th>\n",
       "      <td>0</td>\n",
       "      <td>5623</td>\n",
       "      <td>33</td>\n",
       "      <td>1</td>\n",
       "      <td>0</td>\n",
       "      <td>M</td>\n",
       "      <td>сотрудник</td>\n",
       "      <td>0</td>\n",
       "      <td>145885</td>\n",
       "      <td>покупка жилья</td>\n",
       "      <td>C</td>\n",
       "    </tr>\n",
       "    <tr>\n",
       "      <th>3</th>\n",
       "      <td>3</td>\n",
       "      <td>4124</td>\n",
       "      <td>32</td>\n",
       "      <td>1</td>\n",
       "      <td>0</td>\n",
       "      <td>M</td>\n",
       "      <td>сотрудник</td>\n",
       "      <td>0</td>\n",
       "      <td>267628</td>\n",
       "      <td>дополнительное образование</td>\n",
       "      <td>B</td>\n",
       "    </tr>\n",
       "    <tr>\n",
       "      <th>4</th>\n",
       "      <td>0</td>\n",
       "      <td>340266</td>\n",
       "      <td>53</td>\n",
       "      <td>1</td>\n",
       "      <td>1</td>\n",
       "      <td>F</td>\n",
       "      <td>пенсионер</td>\n",
       "      <td>0</td>\n",
       "      <td>158616</td>\n",
       "      <td>сыграть свадьбу</td>\n",
       "      <td>C</td>\n",
       "    </tr>\n",
       "    <tr>\n",
       "      <th>...</th>\n",
       "      <td>...</td>\n",
       "      <td>...</td>\n",
       "      <td>...</td>\n",
       "      <td>...</td>\n",
       "      <td>...</td>\n",
       "      <td>...</td>\n",
       "      <td>...</td>\n",
       "      <td>...</td>\n",
       "      <td>...</td>\n",
       "      <td>...</td>\n",
       "      <td>...</td>\n",
       "    </tr>\n",
       "    <tr>\n",
       "      <th>21520</th>\n",
       "      <td>1</td>\n",
       "      <td>4529</td>\n",
       "      <td>43</td>\n",
       "      <td>1</td>\n",
       "      <td>1</td>\n",
       "      <td>F</td>\n",
       "      <td>компаньон</td>\n",
       "      <td>0</td>\n",
       "      <td>224791</td>\n",
       "      <td>операции с жильем</td>\n",
       "      <td>B</td>\n",
       "    </tr>\n",
       "    <tr>\n",
       "      <th>21521</th>\n",
       "      <td>0</td>\n",
       "      <td>343937</td>\n",
       "      <td>67</td>\n",
       "      <td>1</td>\n",
       "      <td>0</td>\n",
       "      <td>F</td>\n",
       "      <td>пенсионер</td>\n",
       "      <td>0</td>\n",
       "      <td>155999</td>\n",
       "      <td>сделка с автомобилем</td>\n",
       "      <td>C</td>\n",
       "    </tr>\n",
       "    <tr>\n",
       "      <th>21522</th>\n",
       "      <td>1</td>\n",
       "      <td>2113</td>\n",
       "      <td>38</td>\n",
       "      <td>1</td>\n",
       "      <td>1</td>\n",
       "      <td>M</td>\n",
       "      <td>сотрудник</td>\n",
       "      <td>1</td>\n",
       "      <td>89672</td>\n",
       "      <td>недвижимость</td>\n",
       "      <td>C</td>\n",
       "    </tr>\n",
       "    <tr>\n",
       "      <th>21523</th>\n",
       "      <td>3</td>\n",
       "      <td>3112</td>\n",
       "      <td>38</td>\n",
       "      <td>1</td>\n",
       "      <td>0</td>\n",
       "      <td>M</td>\n",
       "      <td>сотрудник</td>\n",
       "      <td>1</td>\n",
       "      <td>244093</td>\n",
       "      <td>на покупку своего автомобиля</td>\n",
       "      <td>B</td>\n",
       "    </tr>\n",
       "    <tr>\n",
       "      <th>21524</th>\n",
       "      <td>2</td>\n",
       "      <td>1984</td>\n",
       "      <td>40</td>\n",
       "      <td>1</td>\n",
       "      <td>0</td>\n",
       "      <td>F</td>\n",
       "      <td>сотрудник</td>\n",
       "      <td>0</td>\n",
       "      <td>82047</td>\n",
       "      <td>на покупку автомобиля</td>\n",
       "      <td>C</td>\n",
       "    </tr>\n",
       "  </tbody>\n",
       "</table>\n",
       "<p>21454 rows × 11 columns</p>\n",
       "</div>"
      ],
      "text/plain": [
       "       children  days_employed  dob_years  education_id  family_status_id  \\\n",
       "0             1           8437         42             0                 0   \n",
       "1             1           4024         36             1                 0   \n",
       "2             0           5623         33             1                 0   \n",
       "3             3           4124         32             1                 0   \n",
       "4             0         340266         53             1                 1   \n",
       "...         ...            ...        ...           ...               ...   \n",
       "21520         1           4529         43             1                 1   \n",
       "21521         0         343937         67             1                 0   \n",
       "21522         1           2113         38             1                 1   \n",
       "21523         3           3112         38             1                 0   \n",
       "21524         2           1984         40             1                 0   \n",
       "\n",
       "      gender income_type  debt  total_income                       purpose  \\\n",
       "0          F   сотрудник     0        253875                 покупка жилья   \n",
       "1          F   сотрудник     0        112080       приобретение автомобиля   \n",
       "2          M   сотрудник     0        145885                 покупка жилья   \n",
       "3          M   сотрудник     0        267628    дополнительное образование   \n",
       "4          F   пенсионер     0        158616               сыграть свадьбу   \n",
       "...      ...         ...   ...           ...                           ...   \n",
       "21520      F   компаньон     0        224791             операции с жильем   \n",
       "21521      F   пенсионер     0        155999          сделка с автомобилем   \n",
       "21522      M   сотрудник     1         89672                  недвижимость   \n",
       "21523      M   сотрудник     1        244093  на покупку своего автомобиля   \n",
       "21524      F   сотрудник     0         82047         на покупку автомобиля   \n",
       "\n",
       "      total_income_category  \n",
       "0                         B  \n",
       "1                         C  \n",
       "2                         C  \n",
       "3                         B  \n",
       "4                         C  \n",
       "...                     ...  \n",
       "21520                     B  \n",
       "21521                     C  \n",
       "21522                     C  \n",
       "21523                     B  \n",
       "21524                     C  \n",
       "\n",
       "[21454 rows x 11 columns]"
      ]
     },
     "metadata": {},
     "output_type": "display_data"
    }
   ],
   "source": [
    "display(data)"
   ]
  },
  {
   "cell_type": "markdown",
   "id": "20c5c4b4",
   "metadata": {},
   "source": [
    "### Шаг 2.7. Категоризация целей кредита."
   ]
  },
  {
   "cell_type": "markdown",
   "id": "c048d54b",
   "metadata": {},
   "source": [
    "**Создадим функцию, которая на основании данных из столбца purpose сформирует новый столбец purpose_category**"
   ]
  },
  {
   "cell_type": "code",
   "execution_count": 35,
   "id": "6aaca8b9",
   "metadata": {},
   "outputs": [],
   "source": [
    "def purpose_category(purpose):\n",
    "    if 'автомоб' in purpose:\n",
    "        return 'операции с автомобилем'\n",
    "    elif 'свадьб' in purpose:\n",
    "        return 'проведение свадьбы'\n",
    "    elif 'недвиж' in purpose or 'жил' in purpose:\n",
    "        return 'операции с недвижимостью'\n",
    "    else:\n",
    "        return 'получение образования'"
   ]
  },
  {
   "cell_type": "code",
   "execution_count": 36,
   "id": "efc9b9e1",
   "metadata": {},
   "outputs": [],
   "source": [
    "data[\"purpose_category\"] = data[\"purpose\"].apply(purpose_category)"
   ]
  },
  {
   "cell_type": "code",
   "execution_count": 37,
   "id": "14c8cdb6",
   "metadata": {},
   "outputs": [
    {
     "data": {
      "text/html": [
       "<div>\n",
       "<style scoped>\n",
       "    .dataframe tbody tr th:only-of-type {\n",
       "        vertical-align: middle;\n",
       "    }\n",
       "\n",
       "    .dataframe tbody tr th {\n",
       "        vertical-align: top;\n",
       "    }\n",
       "\n",
       "    .dataframe thead th {\n",
       "        text-align: right;\n",
       "    }\n",
       "</style>\n",
       "<table border=\"1\" class=\"dataframe\">\n",
       "  <thead>\n",
       "    <tr style=\"text-align: right;\">\n",
       "      <th></th>\n",
       "      <th>children</th>\n",
       "      <th>days_employed</th>\n",
       "      <th>dob_years</th>\n",
       "      <th>education_id</th>\n",
       "      <th>family_status_id</th>\n",
       "      <th>gender</th>\n",
       "      <th>income_type</th>\n",
       "      <th>debt</th>\n",
       "      <th>total_income</th>\n",
       "      <th>purpose</th>\n",
       "      <th>total_income_category</th>\n",
       "      <th>purpose_category</th>\n",
       "    </tr>\n",
       "  </thead>\n",
       "  <tbody>\n",
       "    <tr>\n",
       "      <th>0</th>\n",
       "      <td>1</td>\n",
       "      <td>8437</td>\n",
       "      <td>42</td>\n",
       "      <td>0</td>\n",
       "      <td>0</td>\n",
       "      <td>F</td>\n",
       "      <td>сотрудник</td>\n",
       "      <td>0</td>\n",
       "      <td>253875</td>\n",
       "      <td>покупка жилья</td>\n",
       "      <td>B</td>\n",
       "      <td>операции с недвижимостью</td>\n",
       "    </tr>\n",
       "    <tr>\n",
       "      <th>1</th>\n",
       "      <td>1</td>\n",
       "      <td>4024</td>\n",
       "      <td>36</td>\n",
       "      <td>1</td>\n",
       "      <td>0</td>\n",
       "      <td>F</td>\n",
       "      <td>сотрудник</td>\n",
       "      <td>0</td>\n",
       "      <td>112080</td>\n",
       "      <td>приобретение автомобиля</td>\n",
       "      <td>C</td>\n",
       "      <td>операции с автомобилем</td>\n",
       "    </tr>\n",
       "    <tr>\n",
       "      <th>2</th>\n",
       "      <td>0</td>\n",
       "      <td>5623</td>\n",
       "      <td>33</td>\n",
       "      <td>1</td>\n",
       "      <td>0</td>\n",
       "      <td>M</td>\n",
       "      <td>сотрудник</td>\n",
       "      <td>0</td>\n",
       "      <td>145885</td>\n",
       "      <td>покупка жилья</td>\n",
       "      <td>C</td>\n",
       "      <td>операции с недвижимостью</td>\n",
       "    </tr>\n",
       "    <tr>\n",
       "      <th>3</th>\n",
       "      <td>3</td>\n",
       "      <td>4124</td>\n",
       "      <td>32</td>\n",
       "      <td>1</td>\n",
       "      <td>0</td>\n",
       "      <td>M</td>\n",
       "      <td>сотрудник</td>\n",
       "      <td>0</td>\n",
       "      <td>267628</td>\n",
       "      <td>дополнительное образование</td>\n",
       "      <td>B</td>\n",
       "      <td>получение образования</td>\n",
       "    </tr>\n",
       "    <tr>\n",
       "      <th>4</th>\n",
       "      <td>0</td>\n",
       "      <td>340266</td>\n",
       "      <td>53</td>\n",
       "      <td>1</td>\n",
       "      <td>1</td>\n",
       "      <td>F</td>\n",
       "      <td>пенсионер</td>\n",
       "      <td>0</td>\n",
       "      <td>158616</td>\n",
       "      <td>сыграть свадьбу</td>\n",
       "      <td>C</td>\n",
       "      <td>проведение свадьбы</td>\n",
       "    </tr>\n",
       "    <tr>\n",
       "      <th>...</th>\n",
       "      <td>...</td>\n",
       "      <td>...</td>\n",
       "      <td>...</td>\n",
       "      <td>...</td>\n",
       "      <td>...</td>\n",
       "      <td>...</td>\n",
       "      <td>...</td>\n",
       "      <td>...</td>\n",
       "      <td>...</td>\n",
       "      <td>...</td>\n",
       "      <td>...</td>\n",
       "      <td>...</td>\n",
       "    </tr>\n",
       "    <tr>\n",
       "      <th>21520</th>\n",
       "      <td>1</td>\n",
       "      <td>4529</td>\n",
       "      <td>43</td>\n",
       "      <td>1</td>\n",
       "      <td>1</td>\n",
       "      <td>F</td>\n",
       "      <td>компаньон</td>\n",
       "      <td>0</td>\n",
       "      <td>224791</td>\n",
       "      <td>операции с жильем</td>\n",
       "      <td>B</td>\n",
       "      <td>операции с недвижимостью</td>\n",
       "    </tr>\n",
       "    <tr>\n",
       "      <th>21521</th>\n",
       "      <td>0</td>\n",
       "      <td>343937</td>\n",
       "      <td>67</td>\n",
       "      <td>1</td>\n",
       "      <td>0</td>\n",
       "      <td>F</td>\n",
       "      <td>пенсионер</td>\n",
       "      <td>0</td>\n",
       "      <td>155999</td>\n",
       "      <td>сделка с автомобилем</td>\n",
       "      <td>C</td>\n",
       "      <td>операции с автомобилем</td>\n",
       "    </tr>\n",
       "    <tr>\n",
       "      <th>21522</th>\n",
       "      <td>1</td>\n",
       "      <td>2113</td>\n",
       "      <td>38</td>\n",
       "      <td>1</td>\n",
       "      <td>1</td>\n",
       "      <td>M</td>\n",
       "      <td>сотрудник</td>\n",
       "      <td>1</td>\n",
       "      <td>89672</td>\n",
       "      <td>недвижимость</td>\n",
       "      <td>C</td>\n",
       "      <td>операции с недвижимостью</td>\n",
       "    </tr>\n",
       "    <tr>\n",
       "      <th>21523</th>\n",
       "      <td>3</td>\n",
       "      <td>3112</td>\n",
       "      <td>38</td>\n",
       "      <td>1</td>\n",
       "      <td>0</td>\n",
       "      <td>M</td>\n",
       "      <td>сотрудник</td>\n",
       "      <td>1</td>\n",
       "      <td>244093</td>\n",
       "      <td>на покупку своего автомобиля</td>\n",
       "      <td>B</td>\n",
       "      <td>операции с автомобилем</td>\n",
       "    </tr>\n",
       "    <tr>\n",
       "      <th>21524</th>\n",
       "      <td>2</td>\n",
       "      <td>1984</td>\n",
       "      <td>40</td>\n",
       "      <td>1</td>\n",
       "      <td>0</td>\n",
       "      <td>F</td>\n",
       "      <td>сотрудник</td>\n",
       "      <td>0</td>\n",
       "      <td>82047</td>\n",
       "      <td>на покупку автомобиля</td>\n",
       "      <td>C</td>\n",
       "      <td>операции с автомобилем</td>\n",
       "    </tr>\n",
       "  </tbody>\n",
       "</table>\n",
       "<p>21454 rows × 12 columns</p>\n",
       "</div>"
      ],
      "text/plain": [
       "       children  days_employed  dob_years  education_id  family_status_id  \\\n",
       "0             1           8437         42             0                 0   \n",
       "1             1           4024         36             1                 0   \n",
       "2             0           5623         33             1                 0   \n",
       "3             3           4124         32             1                 0   \n",
       "4             0         340266         53             1                 1   \n",
       "...         ...            ...        ...           ...               ...   \n",
       "21520         1           4529         43             1                 1   \n",
       "21521         0         343937         67             1                 0   \n",
       "21522         1           2113         38             1                 1   \n",
       "21523         3           3112         38             1                 0   \n",
       "21524         2           1984         40             1                 0   \n",
       "\n",
       "      gender income_type  debt  total_income                       purpose  \\\n",
       "0          F   сотрудник     0        253875                 покупка жилья   \n",
       "1          F   сотрудник     0        112080       приобретение автомобиля   \n",
       "2          M   сотрудник     0        145885                 покупка жилья   \n",
       "3          M   сотрудник     0        267628    дополнительное образование   \n",
       "4          F   пенсионер     0        158616               сыграть свадьбу   \n",
       "...      ...         ...   ...           ...                           ...   \n",
       "21520      F   компаньон     0        224791             операции с жильем   \n",
       "21521      F   пенсионер     0        155999          сделка с автомобилем   \n",
       "21522      M   сотрудник     1         89672                  недвижимость   \n",
       "21523      M   сотрудник     1        244093  на покупку своего автомобиля   \n",
       "21524      F   сотрудник     0         82047         на покупку автомобиля   \n",
       "\n",
       "      total_income_category          purpose_category  \n",
       "0                         B  операции с недвижимостью  \n",
       "1                         C    операции с автомобилем  \n",
       "2                         C  операции с недвижимостью  \n",
       "3                         B     получение образования  \n",
       "4                         C        проведение свадьбы  \n",
       "...                     ...                       ...  \n",
       "21520                     B  операции с недвижимостью  \n",
       "21521                     C    операции с автомобилем  \n",
       "21522                     C  операции с недвижимостью  \n",
       "21523                     B    операции с автомобилем  \n",
       "21524                     C    операции с автомобилем  \n",
       "\n",
       "[21454 rows x 12 columns]"
      ]
     },
     "metadata": {},
     "output_type": "display_data"
    }
   ],
   "source": [
    "display(data)"
   ]
  },
  {
   "cell_type": "code",
   "execution_count": 38,
   "id": "ff84b590",
   "metadata": {},
   "outputs": [
    {
     "data": {
      "text/plain": [
       "0"
      ]
     },
     "execution_count": 38,
     "metadata": {},
     "output_type": "execute_result"
    }
   ],
   "source": [
    "data.duplicated().sum()"
   ]
  },
  {
   "cell_type": "markdown",
   "id": "0488d97d",
   "metadata": {},
   "source": [
    "## Ответы на вопросы."
   ]
  },
  {
   "cell_type": "markdown",
   "id": "72a54c06",
   "metadata": {},
   "source": [
    "### Вопрос 1:  Есть ли зависимость между количеством детей и возвратом кредита в срок?"
   ]
  },
  {
   "cell_type": "markdown",
   "id": "dafcafcb",
   "metadata": {},
   "source": [
    "**Я написала два варианта для кажого вопроса, в первом строила pivot_table, а во втором написала функцию, так и не поняла, что лучше, надеюсь, вы мне подскажете**"
   ]
  },
  {
   "cell_type": "markdown",
   "id": "0713042b",
   "metadata": {},
   "source": [
    "**Для первого вопроса, для начала я написала функцию, которая возвращает тип семьи в зависимости от кол-ва детей(разбила на многодетных и бездетных)**"
   ]
  },
  {
   "cell_type": "code",
   "execution_count": 39,
   "id": "ad5b4c68",
   "metadata": {},
   "outputs": [],
   "source": [
    "def family_count_of_child(row):\n",
    "    if row == 0:\n",
    "        return 'семьи без детей'\n",
    "    else:\n",
    "        return 'многодетные'\n",
    "data['type_of_family'] = data['children'].apply(family_count_of_child)"
   ]
  },
  {
   "cell_type": "code",
   "execution_count": 40,
   "id": "1c3e0318",
   "metadata": {},
   "outputs": [
    {
     "data": {
      "text/html": [
       "<div>\n",
       "<style scoped>\n",
       "    .dataframe tbody tr th:only-of-type {\n",
       "        vertical-align: middle;\n",
       "    }\n",
       "\n",
       "    .dataframe tbody tr th {\n",
       "        vertical-align: top;\n",
       "    }\n",
       "\n",
       "    .dataframe thead tr th {\n",
       "        text-align: left;\n",
       "    }\n",
       "\n",
       "    .dataframe thead tr:last-of-type th {\n",
       "        text-align: right;\n",
       "    }\n",
       "</style>\n",
       "<table border=\"1\" class=\"dataframe\">\n",
       "  <thead>\n",
       "    <tr>\n",
       "      <th></th>\n",
       "      <th></th>\n",
       "      <th>debt</th>\n",
       "    </tr>\n",
       "    <tr>\n",
       "      <th></th>\n",
       "      <th></th>\n",
       "      <th>count</th>\n",
       "    </tr>\n",
       "    <tr>\n",
       "      <th>type_of_family</th>\n",
       "      <th>debt</th>\n",
       "      <th></th>\n",
       "    </tr>\n",
       "  </thead>\n",
       "  <tbody>\n",
       "    <tr>\n",
       "      <th rowspan=\"2\" valign=\"top\">многодетные</th>\n",
       "      <th>0</th>\n",
       "      <td>6639</td>\n",
       "    </tr>\n",
       "    <tr>\n",
       "      <th>1</th>\n",
       "      <td>677</td>\n",
       "    </tr>\n",
       "    <tr>\n",
       "      <th rowspan=\"2\" valign=\"top\">семьи без детей</th>\n",
       "      <th>0</th>\n",
       "      <td>13074</td>\n",
       "    </tr>\n",
       "    <tr>\n",
       "      <th>1</th>\n",
       "      <td>1064</td>\n",
       "    </tr>\n",
       "  </tbody>\n",
       "</table>\n",
       "</div>"
      ],
      "text/plain": [
       "                       debt\n",
       "                      count\n",
       "type_of_family  debt       \n",
       "многодетные     0      6639\n",
       "                1       677\n",
       "семьи без детей 0     13074\n",
       "                1      1064"
      ]
     },
     "execution_count": 40,
     "metadata": {},
     "output_type": "execute_result"
    }
   ],
   "source": [
    "family = data.groupby(['type_of_family','debt']).agg({'debt':[\"count\"]})\n",
    "family"
   ]
  },
  {
   "cell_type": "markdown",
   "id": "a364c09e",
   "metadata": {},
   "source": []
  },
  {
   "cell_type": "markdown",
   "id": "3a0bbd46",
   "metadata": {},
   "source": [
    "Вероятность клиента, принадлежащего к типу семьи - многодетные стать должником составляет прмерно 9.25%, а клиента, принадлежащего к типу семьи - без детей составляет примерно 7.53%, таким образом, зависимость прослеживается, многодетные семьи на 1.7% чаще имеют задолженность по кредиту."
   ]
  },
  {
   "cell_type": "markdown",
   "id": "3a505fd1",
   "metadata": {},
   "source": [
    "**Для второго варианта написала функцию, которая принимает список столбцов (или один столбец) для анализа задолженности и выводит таблицу с колонками: принятые столбцы, кол-во задолжностей, кол-во записей в категории, доля невыплат по категории**"
   ]
  },
  {
   "cell_type": "code",
   "execution_count": 41,
   "id": "76f718e4",
   "metadata": {},
   "outputs": [
    {
     "data": {
      "text/html": [
       "<div>\n",
       "<style scoped>\n",
       "    .dataframe tbody tr th:only-of-type {\n",
       "        vertical-align: middle;\n",
       "    }\n",
       "\n",
       "    .dataframe tbody tr th {\n",
       "        vertical-align: top;\n",
       "    }\n",
       "\n",
       "    .dataframe thead tr th {\n",
       "        text-align: left;\n",
       "    }\n",
       "\n",
       "    .dataframe thead tr:last-of-type th {\n",
       "        text-align: right;\n",
       "    }\n",
       "</style>\n",
       "<table border=\"1\" class=\"dataframe\">\n",
       "  <thead>\n",
       "    <tr>\n",
       "      <th></th>\n",
       "      <th colspan=\"3\" halign=\"left\">debt</th>\n",
       "    </tr>\n",
       "    <tr>\n",
       "      <th></th>\n",
       "      <th>sum</th>\n",
       "      <th>count</th>\n",
       "      <th>part/cat,%</th>\n",
       "    </tr>\n",
       "    <tr>\n",
       "      <th>children</th>\n",
       "      <th></th>\n",
       "      <th></th>\n",
       "      <th></th>\n",
       "    </tr>\n",
       "  </thead>\n",
       "  <tbody>\n",
       "    <tr>\n",
       "      <th>0</th>\n",
       "      <td>1064</td>\n",
       "      <td>14138</td>\n",
       "      <td>7.525817</td>\n",
       "    </tr>\n",
       "    <tr>\n",
       "      <th>1</th>\n",
       "      <td>444</td>\n",
       "      <td>4808</td>\n",
       "      <td>9.234609</td>\n",
       "    </tr>\n",
       "    <tr>\n",
       "      <th>2</th>\n",
       "      <td>202</td>\n",
       "      <td>2128</td>\n",
       "      <td>9.492481</td>\n",
       "    </tr>\n",
       "    <tr>\n",
       "      <th>3</th>\n",
       "      <td>27</td>\n",
       "      <td>330</td>\n",
       "      <td>8.181818</td>\n",
       "    </tr>\n",
       "    <tr>\n",
       "      <th>4</th>\n",
       "      <td>4</td>\n",
       "      <td>41</td>\n",
       "      <td>9.756098</td>\n",
       "    </tr>\n",
       "    <tr>\n",
       "      <th>5</th>\n",
       "      <td>0</td>\n",
       "      <td>9</td>\n",
       "      <td>0.000000</td>\n",
       "    </tr>\n",
       "  </tbody>\n",
       "</table>\n",
       "</div>"
      ],
      "text/plain": [
       "          debt                  \n",
       "           sum  count part/cat,%\n",
       "children                        \n",
       "0         1064  14138   7.525817\n",
       "1          444   4808   9.234609\n",
       "2          202   2128   9.492481\n",
       "3           27    330   8.181818\n",
       "4            4     41   9.756098\n",
       "5            0      9   0.000000"
      ]
     },
     "metadata": {},
     "output_type": "display_data"
    }
   ],
   "source": [
    "def analyse_debt(column_list):\n",
    "    analyse_table = data.groupby(column_list).agg({'debt':['sum', 'count']})\n",
    "    analyse_table[('debt', 'part/cat,%')] = analyse_table[('debt', 'sum')] / analyse_table[('debt', 'count')]*100\n",
    "    return analyse_table\n",
    "\n",
    "display(analyse_debt(['children']))"
   ]
  },
  {
   "cell_type": "markdown",
   "id": "2b9b650f",
   "metadata": {},
   "source": [
    "#### Вывод 1:"
   ]
  },
  {
   "cell_type": "markdown",
   "id": "1dbf592c",
   "metadata": {},
   "source": [
    "**Вывод в данном случае такой: клиенты, не имеющие детей, менее склонны к просрочке по выплатам кредита.**"
   ]
  },
  {
   "cell_type": "markdown",
   "id": "c1ab7e16",
   "metadata": {},
   "source": [
    "### Вопрос 2: \tЕсть ли зависимость между семейным положением и возвратом кредита в срок?"
   ]
  },
  {
   "cell_type": "markdown",
   "id": "bb6bdf7d",
   "metadata": {},
   "source": [
    "**Первый вариант: строим pivot_table и считаем доли задолжностей в соответствии с семейным статусом**"
   ]
  },
  {
   "cell_type": "code",
   "execution_count": 42,
   "id": "36290ec2",
   "metadata": {},
   "outputs": [
    {
     "data": {
      "text/html": [
       "<div>\n",
       "<style scoped>\n",
       "    .dataframe tbody tr th:only-of-type {\n",
       "        vertical-align: middle;\n",
       "    }\n",
       "\n",
       "    .dataframe tbody tr th {\n",
       "        vertical-align: top;\n",
       "    }\n",
       "\n",
       "    .dataframe thead tr th {\n",
       "        text-align: left;\n",
       "    }\n",
       "\n",
       "    .dataframe thead tr:last-of-type th {\n",
       "        text-align: right;\n",
       "    }\n",
       "</style>\n",
       "<table border=\"1\" class=\"dataframe\">\n",
       "  <thead>\n",
       "    <tr>\n",
       "      <th></th>\n",
       "      <th colspan=\"2\" halign=\"left\">debt</th>\n",
       "    </tr>\n",
       "    <tr>\n",
       "      <th></th>\n",
       "      <th>count</th>\n",
       "      <th>sum</th>\n",
       "    </tr>\n",
       "    <tr>\n",
       "      <th>family_status</th>\n",
       "      <th></th>\n",
       "      <th></th>\n",
       "    </tr>\n",
       "  </thead>\n",
       "  <tbody>\n",
       "    <tr>\n",
       "      <th>Не женат / не замужем</th>\n",
       "      <td>1</td>\n",
       "      <td>0</td>\n",
       "    </tr>\n",
       "    <tr>\n",
       "      <th>в разводе</th>\n",
       "      <td>1</td>\n",
       "      <td>0</td>\n",
       "    </tr>\n",
       "    <tr>\n",
       "      <th>вдовец / вдова</th>\n",
       "      <td>1</td>\n",
       "      <td>0</td>\n",
       "    </tr>\n",
       "    <tr>\n",
       "      <th>гражданский брак</th>\n",
       "      <td>1</td>\n",
       "      <td>0</td>\n",
       "    </tr>\n",
       "    <tr>\n",
       "      <th>женат / замужем</th>\n",
       "      <td>1</td>\n",
       "      <td>0</td>\n",
       "    </tr>\n",
       "  </tbody>\n",
       "</table>\n",
       "</div>"
      ],
      "text/plain": [
       "                       debt    \n",
       "                      count sum\n",
       "family_status                  \n",
       "Не женат / не замужем     1   0\n",
       "в разводе                 1   0\n",
       "вдовец / вдова            1   0\n",
       "гражданский брак          1   0\n",
       "женат / замужем           1   0"
      ]
     },
     "execution_count": 42,
     "metadata": {},
     "output_type": "execute_result"
    }
   ],
   "source": [
    "family_grouped = data.groupby(dict_family['family_status']).agg({'debt':['count','sum']}) \n",
    "family_grouped"
   ]
  },
  {
   "cell_type": "code",
   "execution_count": 43,
   "id": "27ae9cbf",
   "metadata": {},
   "outputs": [
    {
     "data": {
      "text/plain": [
       "family_status\n",
       "Не женат / не замужем    0.0\n",
       "в разводе                0.0\n",
       "вдовец / вдова           0.0\n",
       "гражданский брак         0.0\n",
       "женат / замужем          0.0\n",
       "dtype: float64"
      ]
     },
     "execution_count": 43,
     "metadata": {},
     "output_type": "execute_result"
    }
   ],
   "source": [
    "family_debt_quality=family_grouped['debt']['sum']/family_grouped['debt']['count']\n",
    "family_debt_quality"
   ]
  },
  {
   "cell_type": "markdown",
   "id": "439550ca",
   "metadata": {},
   "source": [
    "Вероятность клиента с семейным статусом - не женат/не замужем - стать должником составляет 9.8%, клиента с семейным статусом - в разводе - стать должником составляет 7.1%, клиента с семейным статусом - вдовец/вдова - стать должником составляет 6.6%, клиента с семейным статусом - гражданский брак - стать должником составляет 9.3%, клиента с семейным статусом - женат/замужем - стать должником составляет 7.5%\n",
    "\n",
    "Таким образом, не состоящие в браке наиболее склонны к задержке выплат, в то же время вдовцы/вдовы меньше всех склонны к задолженностям по кредиту"
   ]
  },
  {
   "cell_type": "markdown",
   "id": "02a753b6",
   "metadata": {},
   "source": [
    "**Вызываю функцию из первого вопроса**"
   ]
  },
  {
   "cell_type": "code",
   "execution_count": 44,
   "id": "92c08bd3",
   "metadata": {},
   "outputs": [
    {
     "data": {
      "text/html": [
       "<div>\n",
       "<style scoped>\n",
       "    .dataframe tbody tr th:only-of-type {\n",
       "        vertical-align: middle;\n",
       "    }\n",
       "\n",
       "    .dataframe tbody tr th {\n",
       "        vertical-align: top;\n",
       "    }\n",
       "\n",
       "    .dataframe thead tr th {\n",
       "        text-align: left;\n",
       "    }\n",
       "\n",
       "    .dataframe thead tr:last-of-type th {\n",
       "        text-align: right;\n",
       "    }\n",
       "</style>\n",
       "<table border=\"1\" class=\"dataframe\">\n",
       "  <thead>\n",
       "    <tr>\n",
       "      <th></th>\n",
       "      <th colspan=\"3\" halign=\"left\">debt</th>\n",
       "    </tr>\n",
       "    <tr>\n",
       "      <th></th>\n",
       "      <th>sum</th>\n",
       "      <th>count</th>\n",
       "      <th>part/cat,%</th>\n",
       "    </tr>\n",
       "    <tr>\n",
       "      <th>family_status</th>\n",
       "      <th></th>\n",
       "      <th></th>\n",
       "      <th></th>\n",
       "    </tr>\n",
       "  </thead>\n",
       "  <tbody>\n",
       "    <tr>\n",
       "      <th>Не женат / не замужем</th>\n",
       "      <td>0</td>\n",
       "      <td>1</td>\n",
       "      <td>0.0</td>\n",
       "    </tr>\n",
       "    <tr>\n",
       "      <th>в разводе</th>\n",
       "      <td>0</td>\n",
       "      <td>1</td>\n",
       "      <td>0.0</td>\n",
       "    </tr>\n",
       "    <tr>\n",
       "      <th>вдовец / вдова</th>\n",
       "      <td>0</td>\n",
       "      <td>1</td>\n",
       "      <td>0.0</td>\n",
       "    </tr>\n",
       "    <tr>\n",
       "      <th>гражданский брак</th>\n",
       "      <td>0</td>\n",
       "      <td>1</td>\n",
       "      <td>0.0</td>\n",
       "    </tr>\n",
       "    <tr>\n",
       "      <th>женат / замужем</th>\n",
       "      <td>0</td>\n",
       "      <td>1</td>\n",
       "      <td>0.0</td>\n",
       "    </tr>\n",
       "  </tbody>\n",
       "</table>\n",
       "</div>"
      ],
      "text/plain": [
       "                      debt                 \n",
       "                       sum count part/cat,%\n",
       "family_status                              \n",
       "Не женат / не замужем    0     1        0.0\n",
       "в разводе                0     1        0.0\n",
       "вдовец / вдова           0     1        0.0\n",
       "гражданский брак         0     1        0.0\n",
       "женат / замужем          0     1        0.0"
      ]
     },
     "metadata": {},
     "output_type": "display_data"
    }
   ],
   "source": [
    "display(analyse_debt(dict_family['family_status']))"
   ]
  },
  {
   "cell_type": "markdown",
   "id": "615dd699",
   "metadata": {},
   "source": [
    "### Вопрос 3: \tЕсть ли зависимость между уровнем дохода и возвратом кредита в срок?"
   ]
  },
  {
   "cell_type": "markdown",
   "id": "86feb671",
   "metadata": {},
   "source": [
    "**Первый вариант: строим pivot_table и считаем доли задолжностей в соответствии с уровнем дохода**"
   ]
  },
  {
   "cell_type": "code",
   "execution_count": 45,
   "id": "0d4185ba",
   "metadata": {},
   "outputs": [
    {
     "data": {
      "text/html": [
       "<div>\n",
       "<style scoped>\n",
       "    .dataframe tbody tr th:only-of-type {\n",
       "        vertical-align: middle;\n",
       "    }\n",
       "\n",
       "    .dataframe tbody tr th {\n",
       "        vertical-align: top;\n",
       "    }\n",
       "\n",
       "    .dataframe thead th {\n",
       "        text-align: right;\n",
       "    }\n",
       "</style>\n",
       "<table border=\"1\" class=\"dataframe\">\n",
       "  <thead>\n",
       "    <tr style=\"text-align: right;\">\n",
       "      <th></th>\n",
       "      <th>sum</th>\n",
       "      <th>count</th>\n",
       "    </tr>\n",
       "    <tr>\n",
       "      <th>total_income_category</th>\n",
       "      <th></th>\n",
       "      <th></th>\n",
       "    </tr>\n",
       "  </thead>\n",
       "  <tbody>\n",
       "    <tr>\n",
       "      <th>A</th>\n",
       "      <td>2</td>\n",
       "      <td>25</td>\n",
       "    </tr>\n",
       "    <tr>\n",
       "      <th>B</th>\n",
       "      <td>356</td>\n",
       "      <td>5041</td>\n",
       "    </tr>\n",
       "    <tr>\n",
       "      <th>C</th>\n",
       "      <td>1360</td>\n",
       "      <td>16015</td>\n",
       "    </tr>\n",
       "    <tr>\n",
       "      <th>D</th>\n",
       "      <td>21</td>\n",
       "      <td>350</td>\n",
       "    </tr>\n",
       "    <tr>\n",
       "      <th>E</th>\n",
       "      <td>2</td>\n",
       "      <td>22</td>\n",
       "    </tr>\n",
       "  </tbody>\n",
       "</table>\n",
       "</div>"
      ],
      "text/plain": [
       "                        sum  count\n",
       "total_income_category             \n",
       "A                         2     25\n",
       "B                       356   5041\n",
       "C                      1360  16015\n",
       "D                        21    350\n",
       "E                         2     22"
      ]
     },
     "execution_count": 45,
     "metadata": {},
     "output_type": "execute_result"
    }
   ],
   "source": [
    "total_income_grouped=data.groupby('total_income_category').agg({'debt':['sum','count']})\n",
    "total_income_quality=total_income_grouped['debt']['sum']/total_income_grouped['debt']['count']\n",
    "total_income_grouped['debt']"
   ]
  },
  {
   "cell_type": "markdown",
   "id": "edf65f80",
   "metadata": {},
   "source": [
    "**Вызываю функцию из первого вопроса**"
   ]
  },
  {
   "cell_type": "code",
   "execution_count": 46,
   "id": "e54b1279",
   "metadata": {},
   "outputs": [
    {
     "data": {
      "text/html": [
       "<div>\n",
       "<style scoped>\n",
       "    .dataframe tbody tr th:only-of-type {\n",
       "        vertical-align: middle;\n",
       "    }\n",
       "\n",
       "    .dataframe tbody tr th {\n",
       "        vertical-align: top;\n",
       "    }\n",
       "\n",
       "    .dataframe thead tr th {\n",
       "        text-align: left;\n",
       "    }\n",
       "\n",
       "    .dataframe thead tr:last-of-type th {\n",
       "        text-align: right;\n",
       "    }\n",
       "</style>\n",
       "<table border=\"1\" class=\"dataframe\">\n",
       "  <thead>\n",
       "    <tr>\n",
       "      <th></th>\n",
       "      <th colspan=\"3\" halign=\"left\">debt</th>\n",
       "    </tr>\n",
       "    <tr>\n",
       "      <th></th>\n",
       "      <th>sum</th>\n",
       "      <th>count</th>\n",
       "      <th>part/cat,%</th>\n",
       "    </tr>\n",
       "    <tr>\n",
       "      <th>total_income_category</th>\n",
       "      <th></th>\n",
       "      <th></th>\n",
       "      <th></th>\n",
       "    </tr>\n",
       "  </thead>\n",
       "  <tbody>\n",
       "    <tr>\n",
       "      <th>A</th>\n",
       "      <td>2</td>\n",
       "      <td>25</td>\n",
       "      <td>8.000000</td>\n",
       "    </tr>\n",
       "    <tr>\n",
       "      <th>B</th>\n",
       "      <td>356</td>\n",
       "      <td>5041</td>\n",
       "      <td>7.062091</td>\n",
       "    </tr>\n",
       "    <tr>\n",
       "      <th>C</th>\n",
       "      <td>1360</td>\n",
       "      <td>16015</td>\n",
       "      <td>8.492039</td>\n",
       "    </tr>\n",
       "    <tr>\n",
       "      <th>D</th>\n",
       "      <td>21</td>\n",
       "      <td>350</td>\n",
       "      <td>6.000000</td>\n",
       "    </tr>\n",
       "    <tr>\n",
       "      <th>E</th>\n",
       "      <td>2</td>\n",
       "      <td>22</td>\n",
       "      <td>9.090909</td>\n",
       "    </tr>\n",
       "  </tbody>\n",
       "</table>\n",
       "</div>"
      ],
      "text/plain": [
       "                       debt                  \n",
       "                        sum  count part/cat,%\n",
       "total_income_category                        \n",
       "A                         2     25   8.000000\n",
       "B                       356   5041   7.062091\n",
       "C                      1360  16015   8.492039\n",
       "D                        21    350   6.000000\n",
       "E                         2     22   9.090909"
      ]
     },
     "metadata": {},
     "output_type": "display_data"
    }
   ],
   "source": [
    "display(analyse_debt(['total_income_category']))"
   ]
  },
  {
   "cell_type": "markdown",
   "id": "9b2896d6",
   "metadata": {},
   "source": [
    "#### Вывод 3:"
   ]
  },
  {
   "cell_type": "markdown",
   "id": "2344307c",
   "metadata": {},
   "source": [
    "**Количество задолжностей меньше сего у клиентов с самым высоким и самым низким уровнем дохода. Самое высокое кол-во задолжностей у клиентов с уровнем дохода \"С\". А доля невыплат больше всего у людей с уровнем дохода \"Е\", то есть с самым низким**"
   ]
  },
  {
   "cell_type": "markdown",
   "id": "85d866b4",
   "metadata": {},
   "source": [
    "### Вопрос 4: \tКак разные цели кредита влияют на его возврат в срок?"
   ]
  },
  {
   "cell_type": "markdown",
   "id": "325e2153",
   "metadata": {},
   "source": [
    "**Первый вариант: строим pivot_table и считаем доли задолжностей в соответствии с целями кредита**"
   ]
  },
  {
   "cell_type": "code",
   "execution_count": 47,
   "id": "4f87cac8",
   "metadata": {},
   "outputs": [
    {
     "data": {
      "text/html": [
       "<div>\n",
       "<style scoped>\n",
       "    .dataframe tbody tr th:only-of-type {\n",
       "        vertical-align: middle;\n",
       "    }\n",
       "\n",
       "    .dataframe tbody tr th {\n",
       "        vertical-align: top;\n",
       "    }\n",
       "\n",
       "    .dataframe thead tr th {\n",
       "        text-align: left;\n",
       "    }\n",
       "\n",
       "    .dataframe thead tr:last-of-type th {\n",
       "        text-align: right;\n",
       "    }\n",
       "</style>\n",
       "<table border=\"1\" class=\"dataframe\">\n",
       "  <thead>\n",
       "    <tr>\n",
       "      <th></th>\n",
       "      <th colspan=\"2\" halign=\"left\">debt</th>\n",
       "    </tr>\n",
       "    <tr>\n",
       "      <th></th>\n",
       "      <th>sum</th>\n",
       "      <th>count</th>\n",
       "    </tr>\n",
       "    <tr>\n",
       "      <th>purpose_category</th>\n",
       "      <th></th>\n",
       "      <th></th>\n",
       "    </tr>\n",
       "  </thead>\n",
       "  <tbody>\n",
       "    <tr>\n",
       "      <th>операции с автомобилем</th>\n",
       "      <td>403</td>\n",
       "      <td>4306</td>\n",
       "    </tr>\n",
       "    <tr>\n",
       "      <th>операции с недвижимостью</th>\n",
       "      <td>782</td>\n",
       "      <td>10811</td>\n",
       "    </tr>\n",
       "    <tr>\n",
       "      <th>получение образования</th>\n",
       "      <td>370</td>\n",
       "      <td>4013</td>\n",
       "    </tr>\n",
       "    <tr>\n",
       "      <th>проведение свадьбы</th>\n",
       "      <td>186</td>\n",
       "      <td>2324</td>\n",
       "    </tr>\n",
       "  </tbody>\n",
       "</table>\n",
       "</div>"
      ],
      "text/plain": [
       "                         debt       \n",
       "                          sum  count\n",
       "purpose_category                    \n",
       "операции с автомобилем    403   4306\n",
       "операции с недвижимостью  782  10811\n",
       "получение образования     370   4013\n",
       "проведение свадьбы        186   2324"
      ]
     },
     "execution_count": 47,
     "metadata": {},
     "output_type": "execute_result"
    }
   ],
   "source": [
    "purpose_grouped=data.groupby('purpose_category').agg({'debt':['sum','count']})\n",
    "purpose_grouped"
   ]
  },
  {
   "cell_type": "code",
   "execution_count": 48,
   "id": "bee86077",
   "metadata": {},
   "outputs": [
    {
     "data": {
      "text/plain": [
       "purpose_category\n",
       "операции с автомобилем      0.093590\n",
       "операции с недвижимостью    0.072334\n",
       "получение образования       0.092200\n",
       "проведение свадьбы          0.080034\n",
       "dtype: float64"
      ]
     },
     "execution_count": 48,
     "metadata": {},
     "output_type": "execute_result"
    }
   ],
   "source": [
    "purpose_convers=purpose_grouped['debt']['sum']/purpose_grouped['debt']['count']\n",
    "purpose_convers"
   ]
  },
  {
   "cell_type": "markdown",
   "id": "18156722",
   "metadata": {},
   "source": [
    "**Вызываю функцию из первого вопроса**"
   ]
  },
  {
   "cell_type": "code",
   "execution_count": 49,
   "id": "699e3901",
   "metadata": {},
   "outputs": [
    {
     "data": {
      "text/html": [
       "<div>\n",
       "<style scoped>\n",
       "    .dataframe tbody tr th:only-of-type {\n",
       "        vertical-align: middle;\n",
       "    }\n",
       "\n",
       "    .dataframe tbody tr th {\n",
       "        vertical-align: top;\n",
       "    }\n",
       "\n",
       "    .dataframe thead tr th {\n",
       "        text-align: left;\n",
       "    }\n",
       "\n",
       "    .dataframe thead tr:last-of-type th {\n",
       "        text-align: right;\n",
       "    }\n",
       "</style>\n",
       "<table border=\"1\" class=\"dataframe\">\n",
       "  <thead>\n",
       "    <tr>\n",
       "      <th></th>\n",
       "      <th colspan=\"3\" halign=\"left\">debt</th>\n",
       "    </tr>\n",
       "    <tr>\n",
       "      <th></th>\n",
       "      <th>sum</th>\n",
       "      <th>count</th>\n",
       "      <th>part/cat,%</th>\n",
       "    </tr>\n",
       "    <tr>\n",
       "      <th>purpose_category</th>\n",
       "      <th></th>\n",
       "      <th></th>\n",
       "      <th></th>\n",
       "    </tr>\n",
       "  </thead>\n",
       "  <tbody>\n",
       "    <tr>\n",
       "      <th>операции с автомобилем</th>\n",
       "      <td>403</td>\n",
       "      <td>4306</td>\n",
       "      <td>9.359034</td>\n",
       "    </tr>\n",
       "    <tr>\n",
       "      <th>операции с недвижимостью</th>\n",
       "      <td>782</td>\n",
       "      <td>10811</td>\n",
       "      <td>7.233373</td>\n",
       "    </tr>\n",
       "    <tr>\n",
       "      <th>получение образования</th>\n",
       "      <td>370</td>\n",
       "      <td>4013</td>\n",
       "      <td>9.220035</td>\n",
       "    </tr>\n",
       "    <tr>\n",
       "      <th>проведение свадьбы</th>\n",
       "      <td>186</td>\n",
       "      <td>2324</td>\n",
       "      <td>8.003442</td>\n",
       "    </tr>\n",
       "  </tbody>\n",
       "</table>\n",
       "</div>"
      ],
      "text/plain": [
       "                         debt                  \n",
       "                          sum  count part/cat,%\n",
       "purpose_category                               \n",
       "операции с автомобилем    403   4306   9.359034\n",
       "операции с недвижимостью  782  10811   7.233373\n",
       "получение образования     370   4013   9.220035\n",
       "проведение свадьбы        186   2324   8.003442"
      ]
     },
     "metadata": {},
     "output_type": "display_data"
    }
   ],
   "source": [
    "display(analyse_debt(['purpose_category']))"
   ]
  },
  {
   "cell_type": "markdown",
   "id": "89926ef4",
   "metadata": {},
   "source": [
    "#### Вывод 4:"
   ]
  },
  {
   "cell_type": "markdown",
   "id": "ab8ccfb6",
   "metadata": {},
   "source": [
    "**Больше всего задолжностей в категории \"операции с недвижимостью\", но зато доля невыплат по категории 7,23% - самая низкая.\n",
    "Категории \"операции с автомобилем\" и \"получение образования\" находятся посередине по кол-ву задолжностей, а доля значительно выше - около 9,2-9,35%.\n",
    "И меньше всего задолжностей, соответственно, в категории \"проведение свадьбы\" и доля 8% (на 0,8% выше чем \"операции с недвижимостью\") - невысоко по сравнению с \"операции с автомобилем\" и \"получение образования\"**"
   ]
  },
  {
   "cell_type": "markdown",
   "id": "09caed9f",
   "metadata": {},
   "source": [
    "## Общий вывод:"
   ]
  },
  {
   "cell_type": "markdown",
   "id": "1ef78daf",
   "metadata": {},
   "source": [
    "**Основываясь на полученных данных можно прийти к следующему выводу: Семейное положение и наличие детей в семье безусловно влияют на факт погашения кредита. Поэтому логично будет предположить, что наиболее безопасными для банка заемщиками являются семьи без детей и люди являющиеся вдовой/вдовцом, также это люди, которые берут кредит, с низким или очень высоким уровнем заработка, кроме этого, клиент, который выбирает целью кредита - операции с недвижимостью - чаще платят в срок.**"
   ]
  },
  {
   "cell_type": "markdown",
   "id": "92bd50e0",
   "metadata": {},
   "source": [
    "<div class=\"alert alert-block alert-info\">\n",
    "<b>Комментарий студента:</b> \n",
    "В ходе процесса выполнения проекта были проанализировали данные. При предобработке данных были заполнены пропущенные значения медианным значением по столбцам, где это необходимо, также были обработаны значения в столбцах с аномалиями, где необходимо - изменен тип данных в стобцах(поменяли в двух столбцах типы - для лучшей наглядности и более быстрой обработки). Удалили дубликаты, были созданы новые столцы с категориями. После подготовки данных были сделаны сводные таблицы (ипользовали функцию) и ответили на все 4 поставленных вопроса.\n",
    "Применив сводные таблицы были оценены, какие критерии влияют на возврат кредита. Дополнительный анализ может помочь более точно предсказать вероятность вылпаты кредита в срок.\n",
    "</div>"
   ]
  }
 ],
 "metadata": {
  "ExecuteTimeLog": [
   {
    "duration": 66,
    "start_time": "2022-04-07T12:54:47.364Z"
   },
   {
    "duration": 412,
    "start_time": "2022-04-07T12:54:50.630Z"
   },
   {
    "duration": 82,
    "start_time": "2022-04-07T12:54:51.411Z"
   },
   {
    "duration": 25,
    "start_time": "2022-04-07T12:55:03.797Z"
   },
   {
    "duration": 17,
    "start_time": "2022-04-07T12:58:27.584Z"
   },
   {
    "duration": 16,
    "start_time": "2022-04-07T13:00:46.861Z"
   },
   {
    "duration": 21,
    "start_time": "2022-04-07T13:00:51.116Z"
   },
   {
    "duration": 23,
    "start_time": "2022-04-07T13:03:56.811Z"
   },
   {
    "duration": 16,
    "start_time": "2022-04-07T13:04:07.349Z"
   },
   {
    "duration": 21,
    "start_time": "2022-04-07T13:04:09.050Z"
   },
   {
    "duration": 84,
    "start_time": "2022-04-07T13:04:16.751Z"
   },
   {
    "duration": 16,
    "start_time": "2022-04-07T13:04:17.481Z"
   },
   {
    "duration": 16,
    "start_time": "2022-04-07T13:04:18.629Z"
   },
   {
    "duration": 109,
    "start_time": "2022-04-07T13:06:32.112Z"
   },
   {
    "duration": 111,
    "start_time": "2022-04-07T13:06:37.562Z"
   },
   {
    "duration": 106,
    "start_time": "2022-04-07T13:06:43.074Z"
   },
   {
    "duration": 30,
    "start_time": "2022-04-07T13:22:34.403Z"
   },
   {
    "duration": 497,
    "start_time": "2022-04-07T14:34:39.223Z"
   },
   {
    "duration": 78,
    "start_time": "2022-04-07T14:34:39.723Z"
   },
   {
    "duration": 29,
    "start_time": "2022-04-07T14:34:39.803Z"
   },
   {
    "duration": 35,
    "start_time": "2022-04-07T14:34:39.835Z"
   },
   {
    "duration": 15,
    "start_time": "2022-04-07T14:34:39.874Z"
   },
   {
    "duration": 17,
    "start_time": "2022-04-07T14:34:56.519Z"
   },
   {
    "duration": 37,
    "start_time": "2022-04-07T14:35:40.111Z"
   },
   {
    "duration": 62,
    "start_time": "2022-04-07T14:36:12.159Z"
   },
   {
    "duration": 37,
    "start_time": "2022-04-07T14:36:27.919Z"
   },
   {
    "duration": 4,
    "start_time": "2022-04-07T15:11:33.920Z"
   },
   {
    "duration": 3,
    "start_time": "2022-04-07T15:11:34.570Z"
   },
   {
    "duration": 4,
    "start_time": "2022-04-07T15:11:35.340Z"
   },
   {
    "duration": 3,
    "start_time": "2022-04-07T15:11:36.049Z"
   },
   {
    "duration": 4,
    "start_time": "2022-04-07T15:11:36.472Z"
   },
   {
    "duration": 4,
    "start_time": "2022-04-07T15:11:37.019Z"
   },
   {
    "duration": 4,
    "start_time": "2022-04-07T15:11:37.784Z"
   },
   {
    "duration": 4,
    "start_time": "2022-04-07T15:11:38.265Z"
   },
   {
    "duration": 4,
    "start_time": "2022-04-07T15:11:38.771Z"
   },
   {
    "duration": 3,
    "start_time": "2022-04-07T15:11:40.760Z"
   },
   {
    "duration": 4,
    "start_time": "2022-04-07T15:11:41.130Z"
   },
   {
    "duration": 7,
    "start_time": "2022-04-07T15:15:16.238Z"
   },
   {
    "duration": 100,
    "start_time": "2022-04-07T15:16:36.451Z"
   },
   {
    "duration": 26,
    "start_time": "2022-04-07T15:16:53.134Z"
   },
   {
    "duration": 26,
    "start_time": "2022-04-07T15:17:09.403Z"
   },
   {
    "duration": 30,
    "start_time": "2022-04-07T15:25:44.191Z"
   },
   {
    "duration": 43,
    "start_time": "2022-04-07T15:28:29.338Z"
   },
   {
    "duration": 115,
    "start_time": "2022-04-07T15:30:14.473Z"
   },
   {
    "duration": 123,
    "start_time": "2022-04-07T15:30:32.969Z"
   },
   {
    "duration": 114,
    "start_time": "2022-04-07T15:31:34.545Z"
   },
   {
    "duration": 120,
    "start_time": "2022-04-07T15:32:45.065Z"
   },
   {
    "duration": 8,
    "start_time": "2022-04-07T15:33:48.987Z"
   },
   {
    "duration": 46,
    "start_time": "2022-04-07T15:33:52.618Z"
   },
   {
    "duration": 25,
    "start_time": "2022-04-07T15:33:54.099Z"
   },
   {
    "duration": 127,
    "start_time": "2022-04-07T15:33:55.166Z"
   },
   {
    "duration": 1607,
    "start_time": "2022-04-07T15:34:19.432Z"
   },
   {
    "duration": 0,
    "start_time": "2022-04-07T15:34:21.041Z"
   },
   {
    "duration": 4,
    "start_time": "2022-04-07T15:34:55.648Z"
   },
   {
    "duration": 76,
    "start_time": "2022-04-07T15:34:55.654Z"
   },
   {
    "duration": 20,
    "start_time": "2022-04-07T15:34:55.733Z"
   },
   {
    "duration": 24,
    "start_time": "2022-04-07T15:34:55.775Z"
   },
   {
    "duration": 17,
    "start_time": "2022-04-07T15:34:55.803Z"
   },
   {
    "duration": 73,
    "start_time": "2022-04-07T15:34:55.822Z"
   },
   {
    "duration": 3,
    "start_time": "2022-04-07T15:34:55.897Z"
   },
   {
    "duration": 7,
    "start_time": "2022-04-07T15:34:55.902Z"
   },
   {
    "duration": 5,
    "start_time": "2022-04-07T15:34:55.911Z"
   },
   {
    "duration": 6,
    "start_time": "2022-04-07T15:34:55.919Z"
   },
   {
    "duration": 13,
    "start_time": "2022-04-07T15:34:55.928Z"
   },
   {
    "duration": 12,
    "start_time": "2022-04-07T15:34:55.943Z"
   },
   {
    "duration": 10,
    "start_time": "2022-04-07T15:34:55.973Z"
   },
   {
    "duration": 15,
    "start_time": "2022-04-07T15:34:55.985Z"
   },
   {
    "duration": 9,
    "start_time": "2022-04-07T15:34:56.002Z"
   },
   {
    "duration": 15,
    "start_time": "2022-04-07T15:34:56.013Z"
   },
   {
    "duration": 15,
    "start_time": "2022-04-07T15:34:56.030Z"
   },
   {
    "duration": 27,
    "start_time": "2022-04-07T15:34:56.047Z"
   },
   {
    "duration": 31,
    "start_time": "2022-04-07T15:34:56.083Z"
   },
   {
    "duration": 61,
    "start_time": "2022-04-07T15:34:56.116Z"
   },
   {
    "duration": 130,
    "start_time": "2022-04-07T15:34:56.182Z"
   },
   {
    "duration": 10,
    "start_time": "2022-04-07T15:35:14.736Z"
   },
   {
    "duration": 18,
    "start_time": "2022-04-07T15:35:16.937Z"
   },
   {
    "duration": 17,
    "start_time": "2022-04-07T15:35:25.115Z"
   },
   {
    "duration": 4,
    "start_time": "2022-04-07T15:35:30.344Z"
   },
   {
    "duration": 82,
    "start_time": "2022-04-07T15:35:30.352Z"
   },
   {
    "duration": 22,
    "start_time": "2022-04-07T15:35:30.436Z"
   },
   {
    "duration": 42,
    "start_time": "2022-04-07T15:35:30.460Z"
   },
   {
    "duration": 19,
    "start_time": "2022-04-07T15:35:30.504Z"
   },
   {
    "duration": 79,
    "start_time": "2022-04-07T15:35:30.526Z"
   },
   {
    "duration": 4,
    "start_time": "2022-04-07T15:35:30.608Z"
   },
   {
    "duration": 10,
    "start_time": "2022-04-07T15:35:30.615Z"
   },
   {
    "duration": 16,
    "start_time": "2022-04-07T15:35:30.631Z"
   },
   {
    "duration": 31,
    "start_time": "2022-04-07T15:35:30.650Z"
   },
   {
    "duration": 3,
    "start_time": "2022-04-07T15:35:30.685Z"
   },
   {
    "duration": 17,
    "start_time": "2022-04-07T15:35:30.690Z"
   },
   {
    "duration": 9,
    "start_time": "2022-04-07T15:35:30.709Z"
   },
   {
    "duration": 6,
    "start_time": "2022-04-07T15:35:30.721Z"
   },
   {
    "duration": 14,
    "start_time": "2022-04-07T15:35:30.729Z"
   },
   {
    "duration": 9,
    "start_time": "2022-04-07T15:35:30.745Z"
   },
   {
    "duration": 9,
    "start_time": "2022-04-07T15:35:30.756Z"
   },
   {
    "duration": 34,
    "start_time": "2022-04-07T15:35:30.767Z"
   },
   {
    "duration": 33,
    "start_time": "2022-04-07T15:35:30.803Z"
   },
   {
    "duration": 27,
    "start_time": "2022-04-07T15:35:30.839Z"
   },
   {
    "duration": 38,
    "start_time": "2022-04-07T15:35:30.868Z"
   },
   {
    "duration": 150,
    "start_time": "2022-04-07T15:35:30.908Z"
   },
   {
    "duration": 110,
    "start_time": "2022-04-07T15:36:18.984Z"
   },
   {
    "duration": 3,
    "start_time": "2022-04-07T15:36:26.818Z"
   },
   {
    "duration": 98,
    "start_time": "2022-04-07T15:36:26.825Z"
   },
   {
    "duration": 21,
    "start_time": "2022-04-07T15:36:26.925Z"
   },
   {
    "duration": 45,
    "start_time": "2022-04-07T15:36:26.948Z"
   },
   {
    "duration": 18,
    "start_time": "2022-04-07T15:36:26.995Z"
   },
   {
    "duration": 66,
    "start_time": "2022-04-07T15:36:27.015Z"
   },
   {
    "duration": 4,
    "start_time": "2022-04-07T15:36:27.088Z"
   },
   {
    "duration": 16,
    "start_time": "2022-04-07T15:36:27.094Z"
   },
   {
    "duration": 31,
    "start_time": "2022-04-07T15:36:27.113Z"
   },
   {
    "duration": 6,
    "start_time": "2022-04-07T15:36:27.147Z"
   },
   {
    "duration": 13,
    "start_time": "2022-04-07T15:36:27.155Z"
   },
   {
    "duration": 15,
    "start_time": "2022-04-07T15:36:27.170Z"
   },
   {
    "duration": 16,
    "start_time": "2022-04-07T15:36:27.187Z"
   },
   {
    "duration": 8,
    "start_time": "2022-04-07T15:36:27.206Z"
   },
   {
    "duration": 11,
    "start_time": "2022-04-07T15:36:27.217Z"
   },
   {
    "duration": 16,
    "start_time": "2022-04-07T15:36:27.230Z"
   },
   {
    "duration": 12,
    "start_time": "2022-04-07T15:36:27.249Z"
   },
   {
    "duration": 30,
    "start_time": "2022-04-07T15:36:27.263Z"
   },
   {
    "duration": 38,
    "start_time": "2022-04-07T15:36:27.296Z"
   },
   {
    "duration": 47,
    "start_time": "2022-04-07T15:36:27.337Z"
   },
   {
    "duration": 32,
    "start_time": "2022-04-07T15:36:27.386Z"
   },
   {
    "duration": 164,
    "start_time": "2022-04-07T15:36:27.420Z"
   },
   {
    "duration": 84,
    "start_time": "2022-04-07T15:37:01.928Z"
   },
   {
    "duration": 4,
    "start_time": "2022-04-07T15:37:05.873Z"
   },
   {
    "duration": 79,
    "start_time": "2022-04-07T15:37:05.879Z"
   },
   {
    "duration": 32,
    "start_time": "2022-04-07T15:37:05.961Z"
   },
   {
    "duration": 20,
    "start_time": "2022-04-07T15:37:05.995Z"
   },
   {
    "duration": 17,
    "start_time": "2022-04-07T15:37:06.018Z"
   },
   {
    "duration": 79,
    "start_time": "2022-04-07T15:37:06.037Z"
   },
   {
    "duration": 3,
    "start_time": "2022-04-07T15:37:06.119Z"
   },
   {
    "duration": 11,
    "start_time": "2022-04-07T15:37:06.125Z"
   },
   {
    "duration": 7,
    "start_time": "2022-04-07T15:37:06.138Z"
   },
   {
    "duration": 11,
    "start_time": "2022-04-07T15:37:06.147Z"
   },
   {
    "duration": 6,
    "start_time": "2022-04-07T15:37:06.179Z"
   },
   {
    "duration": 7,
    "start_time": "2022-04-07T15:37:06.187Z"
   },
   {
    "duration": 11,
    "start_time": "2022-04-07T15:37:06.196Z"
   },
   {
    "duration": 7,
    "start_time": "2022-04-07T15:37:06.209Z"
   },
   {
    "duration": 6,
    "start_time": "2022-04-07T15:37:06.218Z"
   },
   {
    "duration": 18,
    "start_time": "2022-04-07T15:37:06.226Z"
   },
   {
    "duration": 9,
    "start_time": "2022-04-07T15:37:06.246Z"
   },
   {
    "duration": 20,
    "start_time": "2022-04-07T15:37:06.257Z"
   },
   {
    "duration": 26,
    "start_time": "2022-04-07T15:37:06.280Z"
   },
   {
    "duration": 74,
    "start_time": "2022-04-07T15:37:06.309Z"
   },
   {
    "duration": 31,
    "start_time": "2022-04-07T15:37:06.386Z"
   },
   {
    "duration": 114,
    "start_time": "2022-04-07T15:37:06.419Z"
   },
   {
    "duration": 1436,
    "start_time": "2022-04-07T15:37:24.042Z"
   },
   {
    "duration": 97,
    "start_time": "2022-04-07T15:37:48.829Z"
   },
   {
    "duration": 4,
    "start_time": "2022-04-07T15:37:53.892Z"
   },
   {
    "duration": 82,
    "start_time": "2022-04-07T15:37:53.900Z"
   },
   {
    "duration": 20,
    "start_time": "2022-04-07T15:37:53.984Z"
   },
   {
    "duration": 22,
    "start_time": "2022-04-07T15:37:54.007Z"
   },
   {
    "duration": 17,
    "start_time": "2022-04-07T15:37:54.031Z"
   },
   {
    "duration": 59,
    "start_time": "2022-04-07T15:37:54.050Z"
   },
   {
    "duration": 4,
    "start_time": "2022-04-07T15:37:54.111Z"
   },
   {
    "duration": 6,
    "start_time": "2022-04-07T15:37:54.117Z"
   },
   {
    "duration": 5,
    "start_time": "2022-04-07T15:37:54.126Z"
   },
   {
    "duration": 45,
    "start_time": "2022-04-07T15:37:54.133Z"
   },
   {
    "duration": 4,
    "start_time": "2022-04-07T15:37:54.180Z"
   },
   {
    "duration": 11,
    "start_time": "2022-04-07T15:37:54.186Z"
   },
   {
    "duration": 5,
    "start_time": "2022-04-07T15:37:54.199Z"
   },
   {
    "duration": 5,
    "start_time": "2022-04-07T15:37:54.206Z"
   },
   {
    "duration": 5,
    "start_time": "2022-04-07T15:37:54.213Z"
   },
   {
    "duration": 5,
    "start_time": "2022-04-07T15:37:54.221Z"
   },
   {
    "duration": 8,
    "start_time": "2022-04-07T15:37:54.228Z"
   },
   {
    "duration": 45,
    "start_time": "2022-04-07T15:37:54.238Z"
   },
   {
    "duration": 24,
    "start_time": "2022-04-07T15:37:54.286Z"
   },
   {
    "duration": 27,
    "start_time": "2022-04-07T15:37:54.312Z"
   },
   {
    "duration": 69,
    "start_time": "2022-04-07T15:37:54.341Z"
   },
   {
    "duration": 118,
    "start_time": "2022-04-07T15:37:54.413Z"
   },
   {
    "duration": 84,
    "start_time": "2022-04-07T15:38:44.120Z"
   },
   {
    "duration": 3,
    "start_time": "2022-04-07T15:38:53.229Z"
   },
   {
    "duration": 82,
    "start_time": "2022-04-07T15:38:53.235Z"
   },
   {
    "duration": 19,
    "start_time": "2022-04-07T15:38:53.319Z"
   },
   {
    "duration": 41,
    "start_time": "2022-04-07T15:38:53.341Z"
   },
   {
    "duration": 19,
    "start_time": "2022-04-07T15:38:53.385Z"
   },
   {
    "duration": 36,
    "start_time": "2022-04-07T15:38:53.406Z"
   },
   {
    "duration": 32,
    "start_time": "2022-04-07T15:38:53.445Z"
   },
   {
    "duration": 12,
    "start_time": "2022-04-07T15:38:53.480Z"
   },
   {
    "duration": 7,
    "start_time": "2022-04-07T15:38:53.496Z"
   },
   {
    "duration": 7,
    "start_time": "2022-04-07T15:38:53.505Z"
   },
   {
    "duration": 7,
    "start_time": "2022-04-07T15:38:53.514Z"
   },
   {
    "duration": 7,
    "start_time": "2022-04-07T15:38:53.523Z"
   },
   {
    "duration": 11,
    "start_time": "2022-04-07T15:38:53.532Z"
   },
   {
    "duration": 5,
    "start_time": "2022-04-07T15:38:53.545Z"
   },
   {
    "duration": 27,
    "start_time": "2022-04-07T15:38:53.553Z"
   },
   {
    "duration": 6,
    "start_time": "2022-04-07T15:38:53.583Z"
   },
   {
    "duration": 8,
    "start_time": "2022-04-07T15:38:53.591Z"
   },
   {
    "duration": 13,
    "start_time": "2022-04-07T15:38:53.601Z"
   },
   {
    "duration": 23,
    "start_time": "2022-04-07T15:38:53.616Z"
   },
   {
    "duration": 55,
    "start_time": "2022-04-07T15:38:53.641Z"
   },
   {
    "duration": 31,
    "start_time": "2022-04-07T15:38:53.699Z"
   },
   {
    "duration": 118,
    "start_time": "2022-04-07T15:38:53.732Z"
   },
   {
    "duration": 85,
    "start_time": "2022-04-07T15:44:20.343Z"
   },
   {
    "duration": 4,
    "start_time": "2022-04-07T15:44:26.346Z"
   },
   {
    "duration": 70,
    "start_time": "2022-04-07T15:44:26.353Z"
   },
   {
    "duration": 19,
    "start_time": "2022-04-07T15:44:26.425Z"
   },
   {
    "duration": 41,
    "start_time": "2022-04-07T15:44:26.447Z"
   },
   {
    "duration": 15,
    "start_time": "2022-04-07T15:44:26.490Z"
   },
   {
    "duration": 35,
    "start_time": "2022-04-07T15:44:26.507Z"
   },
   {
    "duration": 4,
    "start_time": "2022-04-07T15:44:26.573Z"
   },
   {
    "duration": 8,
    "start_time": "2022-04-07T15:44:26.579Z"
   },
   {
    "duration": 4,
    "start_time": "2022-04-07T15:44:26.592Z"
   },
   {
    "duration": 5,
    "start_time": "2022-04-07T15:44:26.599Z"
   },
   {
    "duration": 7,
    "start_time": "2022-04-07T15:44:26.606Z"
   },
   {
    "duration": 8,
    "start_time": "2022-04-07T15:44:26.615Z"
   },
   {
    "duration": 6,
    "start_time": "2022-04-07T15:44:26.625Z"
   },
   {
    "duration": 41,
    "start_time": "2022-04-07T15:44:26.634Z"
   },
   {
    "duration": 7,
    "start_time": "2022-04-07T15:44:26.678Z"
   },
   {
    "duration": 7,
    "start_time": "2022-04-07T15:44:26.687Z"
   },
   {
    "duration": 6,
    "start_time": "2022-04-07T15:44:26.697Z"
   },
   {
    "duration": 11,
    "start_time": "2022-04-07T15:44:26.706Z"
   },
   {
    "duration": 23,
    "start_time": "2022-04-07T15:44:26.719Z"
   },
   {
    "duration": 29,
    "start_time": "2022-04-07T15:44:26.773Z"
   },
   {
    "duration": 32,
    "start_time": "2022-04-07T15:44:26.803Z"
   },
   {
    "duration": 103,
    "start_time": "2022-04-07T15:44:26.874Z"
   },
   {
    "duration": 28,
    "start_time": "2022-04-07T15:56:26.863Z"
   },
   {
    "duration": 7,
    "start_time": "2022-04-07T16:28:23.305Z"
   },
   {
    "duration": 23,
    "start_time": "2022-04-07T16:28:41.311Z"
   },
   {
    "duration": 21,
    "start_time": "2022-04-07T16:34:48.316Z"
   },
   {
    "duration": 17,
    "start_time": "2022-04-07T16:59:19.178Z"
   },
   {
    "duration": 30,
    "start_time": "2022-04-07T17:00:01.976Z"
   },
   {
    "duration": 30,
    "start_time": "2022-04-07T17:01:31.787Z"
   },
   {
    "duration": 51,
    "start_time": "2022-04-07T17:02:56.696Z"
   },
   {
    "duration": 24,
    "start_time": "2022-04-07T17:03:25.263Z"
   },
   {
    "duration": 29,
    "start_time": "2022-04-07T17:04:25.212Z"
   },
   {
    "duration": 28,
    "start_time": "2022-04-07T17:04:26.186Z"
   },
   {
    "duration": 51,
    "start_time": "2022-04-07T17:04:27.081Z"
   },
   {
    "duration": 23,
    "start_time": "2022-04-07T17:04:28.485Z"
   },
   {
    "duration": 417,
    "start_time": "2022-04-08T14:54:28.146Z"
   },
   {
    "duration": 62,
    "start_time": "2022-04-08T14:54:28.564Z"
   },
   {
    "duration": 20,
    "start_time": "2022-04-08T14:54:28.628Z"
   },
   {
    "duration": 19,
    "start_time": "2022-04-08T14:54:28.649Z"
   },
   {
    "duration": 12,
    "start_time": "2022-04-08T14:54:28.670Z"
   },
   {
    "duration": 24,
    "start_time": "2022-04-08T14:54:28.684Z"
   },
   {
    "duration": 2,
    "start_time": "2022-04-08T14:54:28.710Z"
   },
   {
    "duration": 10,
    "start_time": "2022-04-08T14:54:28.713Z"
   },
   {
    "duration": 7,
    "start_time": "2022-04-08T14:54:28.725Z"
   },
   {
    "duration": 7,
    "start_time": "2022-04-08T14:54:28.733Z"
   },
   {
    "duration": 10,
    "start_time": "2022-04-08T14:54:28.758Z"
   },
   {
    "duration": 6,
    "start_time": "2022-04-08T14:54:28.769Z"
   },
   {
    "duration": 9,
    "start_time": "2022-04-08T14:54:28.776Z"
   },
   {
    "duration": 7,
    "start_time": "2022-04-08T14:54:28.787Z"
   },
   {
    "duration": 12,
    "start_time": "2022-04-08T14:54:28.796Z"
   },
   {
    "duration": 6,
    "start_time": "2022-04-08T14:54:28.810Z"
   },
   {
    "duration": 5,
    "start_time": "2022-04-08T14:54:28.817Z"
   },
   {
    "duration": 10,
    "start_time": "2022-04-08T14:54:28.824Z"
   },
   {
    "duration": 16,
    "start_time": "2022-04-08T14:54:28.835Z"
   },
   {
    "duration": 25,
    "start_time": "2022-04-08T14:54:28.852Z"
   },
   {
    "duration": 20,
    "start_time": "2022-04-08T14:54:28.878Z"
   },
   {
    "duration": 87,
    "start_time": "2022-04-08T14:54:28.899Z"
   },
   {
    "duration": 18,
    "start_time": "2022-04-08T14:54:28.987Z"
   },
   {
    "duration": 16,
    "start_time": "2022-04-08T14:54:29.007Z"
   },
   {
    "duration": 55,
    "start_time": "2022-04-08T14:54:29.025Z"
   },
   {
    "duration": 17,
    "start_time": "2022-04-08T14:54:29.081Z"
   },
   {
    "duration": 16,
    "start_time": "2022-04-08T14:54:29.100Z"
   },
   {
    "duration": 28,
    "start_time": "2022-04-08T14:54:29.118Z"
   },
   {
    "duration": 20,
    "start_time": "2022-04-08T15:34:12.962Z"
   },
   {
    "duration": 3,
    "start_time": "2022-04-08T15:36:04.690Z"
   },
   {
    "duration": 62,
    "start_time": "2022-04-08T15:36:04.695Z"
   },
   {
    "duration": 13,
    "start_time": "2022-04-08T15:36:04.760Z"
   },
   {
    "duration": 18,
    "start_time": "2022-04-08T15:36:04.775Z"
   },
   {
    "duration": 17,
    "start_time": "2022-04-08T15:36:04.795Z"
   },
   {
    "duration": 64,
    "start_time": "2022-04-08T15:36:04.814Z"
   },
   {
    "duration": 3,
    "start_time": "2022-04-08T15:36:04.880Z"
   },
   {
    "duration": 9,
    "start_time": "2022-04-08T15:36:04.885Z"
   },
   {
    "duration": 10,
    "start_time": "2022-04-08T15:36:04.896Z"
   },
   {
    "duration": 9,
    "start_time": "2022-04-08T15:36:04.908Z"
   },
   {
    "duration": 6,
    "start_time": "2022-04-08T15:36:04.920Z"
   },
   {
    "duration": 10,
    "start_time": "2022-04-08T15:36:04.928Z"
   },
   {
    "duration": 5,
    "start_time": "2022-04-08T15:36:04.940Z"
   },
   {
    "duration": 5,
    "start_time": "2022-04-08T15:36:04.947Z"
   },
   {
    "duration": 12,
    "start_time": "2022-04-08T15:36:04.953Z"
   },
   {
    "duration": 6,
    "start_time": "2022-04-08T15:36:04.966Z"
   },
   {
    "duration": 7,
    "start_time": "2022-04-08T15:36:04.973Z"
   },
   {
    "duration": 11,
    "start_time": "2022-04-08T15:36:04.982Z"
   },
   {
    "duration": 19,
    "start_time": "2022-04-08T15:36:04.995Z"
   },
   {
    "duration": 44,
    "start_time": "2022-04-08T15:36:05.017Z"
   },
   {
    "duration": 21,
    "start_time": "2022-04-08T15:36:05.063Z"
   },
   {
    "duration": 92,
    "start_time": "2022-04-08T15:36:05.085Z"
   },
   {
    "duration": 33,
    "start_time": "2022-04-08T15:36:05.179Z"
   },
   {
    "duration": 19,
    "start_time": "2022-04-08T15:36:05.214Z"
   },
   {
    "duration": 57,
    "start_time": "2022-04-08T15:36:05.235Z"
   },
   {
    "duration": 17,
    "start_time": "2022-04-08T15:36:05.293Z"
   },
   {
    "duration": 18,
    "start_time": "2022-04-08T15:36:05.311Z"
   },
   {
    "duration": 5,
    "start_time": "2022-04-08T15:36:05.359Z"
   },
   {
    "duration": 56,
    "start_time": "2022-04-08T15:43:21.805Z"
   },
   {
    "duration": 129,
    "start_time": "2022-04-08T15:44:43.272Z"
   },
   {
    "duration": 3,
    "start_time": "2022-04-08T15:44:56.310Z"
   },
   {
    "duration": 59,
    "start_time": "2022-04-08T15:44:56.315Z"
   },
   {
    "duration": 12,
    "start_time": "2022-04-08T15:44:56.375Z"
   },
   {
    "duration": 26,
    "start_time": "2022-04-08T15:44:56.389Z"
   },
   {
    "duration": 11,
    "start_time": "2022-04-08T15:44:56.416Z"
   },
   {
    "duration": 41,
    "start_time": "2022-04-08T15:44:56.429Z"
   },
   {
    "duration": 2,
    "start_time": "2022-04-08T15:44:56.472Z"
   },
   {
    "duration": 12,
    "start_time": "2022-04-08T15:44:56.476Z"
   },
   {
    "duration": 5,
    "start_time": "2022-04-08T15:44:56.491Z"
   },
   {
    "duration": 4,
    "start_time": "2022-04-08T15:44:56.499Z"
   },
   {
    "duration": 12,
    "start_time": "2022-04-08T15:44:56.505Z"
   },
   {
    "duration": 19,
    "start_time": "2022-04-08T15:44:56.519Z"
   },
   {
    "duration": 6,
    "start_time": "2022-04-08T15:44:56.540Z"
   },
   {
    "duration": 18,
    "start_time": "2022-04-08T15:44:56.547Z"
   },
   {
    "duration": 13,
    "start_time": "2022-04-08T15:44:56.567Z"
   },
   {
    "duration": 14,
    "start_time": "2022-04-08T15:44:56.581Z"
   },
   {
    "duration": 16,
    "start_time": "2022-04-08T15:44:56.597Z"
   },
   {
    "duration": 17,
    "start_time": "2022-04-08T15:44:56.615Z"
   },
   {
    "duration": 15,
    "start_time": "2022-04-08T15:44:56.633Z"
   },
   {
    "duration": 18,
    "start_time": "2022-04-08T15:44:56.650Z"
   },
   {
    "duration": 20,
    "start_time": "2022-04-08T15:44:56.669Z"
   },
   {
    "duration": 83,
    "start_time": "2022-04-08T15:44:56.691Z"
   },
   {
    "duration": 18,
    "start_time": "2022-04-08T15:44:56.776Z"
   },
   {
    "duration": 17,
    "start_time": "2022-04-08T15:44:56.797Z"
   },
   {
    "duration": 54,
    "start_time": "2022-04-08T15:44:56.816Z"
   },
   {
    "duration": 16,
    "start_time": "2022-04-08T15:44:56.872Z"
   },
   {
    "duration": 20,
    "start_time": "2022-04-08T15:44:56.890Z"
   },
   {
    "duration": 17,
    "start_time": "2022-04-08T15:44:56.912Z"
   },
   {
    "duration": 18,
    "start_time": "2022-04-08T16:10:30.750Z"
   },
   {
    "duration": 27,
    "start_time": "2022-04-08T16:10:40.837Z"
   },
   {
    "duration": 4,
    "start_time": "2022-04-08T16:11:18.394Z"
   },
   {
    "duration": 7,
    "start_time": "2022-04-08T16:11:45.250Z"
   },
   {
    "duration": 10,
    "start_time": "2022-04-08T16:13:05.137Z"
   },
   {
    "duration": 67,
    "start_time": "2022-04-08T16:18:07.416Z"
   },
   {
    "duration": 15,
    "start_time": "2022-04-08T16:18:30.216Z"
   },
   {
    "duration": 8,
    "start_time": "2022-04-08T16:23:10.068Z"
   },
   {
    "duration": 11,
    "start_time": "2022-04-08T16:24:19.520Z"
   },
   {
    "duration": 19,
    "start_time": "2022-04-08T16:27:09.441Z"
   },
   {
    "duration": 25,
    "start_time": "2022-04-08T16:27:10.799Z"
   },
   {
    "duration": 34,
    "start_time": "2022-04-08T16:27:25.264Z"
   },
   {
    "duration": 30,
    "start_time": "2022-04-08T16:29:17.929Z"
   },
   {
    "duration": 12,
    "start_time": "2022-04-08T17:13:31.212Z"
   },
   {
    "duration": 6,
    "start_time": "2022-04-08T17:14:24.595Z"
   },
   {
    "duration": 7,
    "start_time": "2022-04-08T17:14:39.951Z"
   },
   {
    "duration": 5,
    "start_time": "2022-04-08T17:15:58.611Z"
   },
   {
    "duration": 6,
    "start_time": "2022-04-08T17:15:59.946Z"
   },
   {
    "duration": 5,
    "start_time": "2022-04-08T17:16:20.276Z"
   },
   {
    "duration": 5,
    "start_time": "2022-04-08T17:16:58.857Z"
   },
   {
    "duration": 5,
    "start_time": "2022-04-08T17:16:59.448Z"
   },
   {
    "duration": 6,
    "start_time": "2022-04-08T17:17:00.013Z"
   },
   {
    "duration": 2,
    "start_time": "2022-04-08T17:17:05.335Z"
   },
   {
    "duration": 61,
    "start_time": "2022-04-08T17:17:05.340Z"
   },
   {
    "duration": 13,
    "start_time": "2022-04-08T17:17:05.403Z"
   },
   {
    "duration": 19,
    "start_time": "2022-04-08T17:17:05.418Z"
   },
   {
    "duration": 13,
    "start_time": "2022-04-08T17:17:05.457Z"
   },
   {
    "duration": 25,
    "start_time": "2022-04-08T17:17:05.472Z"
   },
   {
    "duration": 3,
    "start_time": "2022-04-08T17:17:05.499Z"
   },
   {
    "duration": 7,
    "start_time": "2022-04-08T17:17:05.503Z"
   },
   {
    "duration": 5,
    "start_time": "2022-04-08T17:17:05.512Z"
   },
   {
    "duration": 9,
    "start_time": "2022-04-08T17:17:05.518Z"
   },
   {
    "duration": 30,
    "start_time": "2022-04-08T17:17:05.529Z"
   },
   {
    "duration": 7,
    "start_time": "2022-04-08T17:17:05.560Z"
   },
   {
    "duration": 5,
    "start_time": "2022-04-08T17:17:05.568Z"
   },
   {
    "duration": 5,
    "start_time": "2022-04-08T17:17:05.574Z"
   },
   {
    "duration": 5,
    "start_time": "2022-04-08T17:17:05.580Z"
   },
   {
    "duration": 4,
    "start_time": "2022-04-08T17:17:05.587Z"
   },
   {
    "duration": 7,
    "start_time": "2022-04-08T17:17:05.593Z"
   },
   {
    "duration": 9,
    "start_time": "2022-04-08T17:17:05.601Z"
   },
   {
    "duration": 14,
    "start_time": "2022-04-08T17:17:05.612Z"
   },
   {
    "duration": 47,
    "start_time": "2022-04-08T17:17:05.627Z"
   },
   {
    "duration": 19,
    "start_time": "2022-04-08T17:17:05.676Z"
   },
   {
    "duration": 80,
    "start_time": "2022-04-08T17:17:05.697Z"
   },
   {
    "duration": 18,
    "start_time": "2022-04-08T17:17:05.778Z"
   },
   {
    "duration": 17,
    "start_time": "2022-04-08T17:17:05.799Z"
   },
   {
    "duration": 48,
    "start_time": "2022-04-08T17:17:05.818Z"
   },
   {
    "duration": 16,
    "start_time": "2022-04-08T17:17:05.867Z"
   },
   {
    "duration": 16,
    "start_time": "2022-04-08T17:17:05.885Z"
   },
   {
    "duration": 20,
    "start_time": "2022-04-08T17:17:05.903Z"
   },
   {
    "duration": 4,
    "start_time": "2022-04-08T17:17:05.924Z"
   },
   {
    "duration": 30,
    "start_time": "2022-04-08T17:17:05.929Z"
   },
   {
    "duration": 11,
    "start_time": "2022-04-08T17:17:05.960Z"
   },
   {
    "duration": 18,
    "start_time": "2022-04-08T17:17:05.972Z"
   },
   {
    "duration": 7,
    "start_time": "2022-04-08T17:17:05.992Z"
   },
   {
    "duration": 13,
    "start_time": "2022-04-08T17:17:06.000Z"
   },
   {
    "duration": 45,
    "start_time": "2022-04-08T17:17:06.014Z"
   },
   {
    "duration": 34,
    "start_time": "2022-04-08T17:17:06.061Z"
   },
   {
    "duration": 31,
    "start_time": "2022-04-08T17:17:06.096Z"
   },
   {
    "duration": 5,
    "start_time": "2022-04-08T17:17:06.129Z"
   },
   {
    "duration": 6,
    "start_time": "2022-04-08T17:17:06.158Z"
   },
   {
    "duration": 10,
    "start_time": "2022-04-08T17:17:06.165Z"
   },
   {
    "duration": 8,
    "start_time": "2022-04-08T17:17:36.064Z"
   },
   {
    "duration": 15,
    "start_time": "2022-04-08T17:17:41.891Z"
   },
   {
    "duration": 2160,
    "start_time": "2022-04-08T17:43:52.318Z"
   },
   {
    "duration": 4,
    "start_time": "2022-04-08T17:45:59.107Z"
   },
   {
    "duration": 2067,
    "start_time": "2022-04-08T17:46:03.203Z"
   },
   {
    "duration": 2065,
    "start_time": "2022-04-08T17:46:17.629Z"
   },
   {
    "duration": 2097,
    "start_time": "2022-04-08T17:46:37.312Z"
   },
   {
    "duration": 10,
    "start_time": "2022-04-08T17:51:08.410Z"
   },
   {
    "duration": 17,
    "start_time": "2022-04-08T17:51:22.352Z"
   },
   {
    "duration": 9,
    "start_time": "2022-04-08T17:51:33.855Z"
   },
   {
    "duration": 15,
    "start_time": "2022-04-08T17:51:43.510Z"
   },
   {
    "duration": 4,
    "start_time": "2022-04-08T17:52:34.731Z"
   },
   {
    "duration": 13,
    "start_time": "2022-04-08T17:52:36.248Z"
   },
   {
    "duration": 24,
    "start_time": "2022-04-08T17:52:37.191Z"
   },
   {
    "duration": 3,
    "start_time": "2022-04-08T17:53:17.666Z"
   },
   {
    "duration": 10,
    "start_time": "2022-04-08T17:53:18.246Z"
   },
   {
    "duration": 15,
    "start_time": "2022-04-08T17:53:19.052Z"
   },
   {
    "duration": 4,
    "start_time": "2022-04-08T17:53:30.676Z"
   },
   {
    "duration": 10,
    "start_time": "2022-04-08T17:53:31.203Z"
   },
   {
    "duration": 16,
    "start_time": "2022-04-08T17:53:31.846Z"
   },
   {
    "duration": 16,
    "start_time": "2022-04-08T17:58:12.779Z"
   },
   {
    "duration": 16,
    "start_time": "2022-04-08T17:58:42.177Z"
   },
   {
    "duration": 25,
    "start_time": "2022-04-08T17:58:52.302Z"
   },
   {
    "duration": 19,
    "start_time": "2022-04-08T17:59:02.892Z"
   },
   {
    "duration": 16,
    "start_time": "2022-04-08T17:59:11.227Z"
   },
   {
    "duration": 489,
    "start_time": "2022-04-09T09:20:19.495Z"
   },
   {
    "duration": 74,
    "start_time": "2022-04-09T09:20:19.987Z"
   },
   {
    "duration": 35,
    "start_time": "2022-04-09T09:20:20.063Z"
   },
   {
    "duration": 19,
    "start_time": "2022-04-09T09:20:20.101Z"
   },
   {
    "duration": 49,
    "start_time": "2022-04-09T09:20:20.122Z"
   },
   {
    "duration": 39,
    "start_time": "2022-04-09T09:20:20.174Z"
   },
   {
    "duration": 3,
    "start_time": "2022-04-09T09:20:20.216Z"
   },
   {
    "duration": 5,
    "start_time": "2022-04-09T09:20:20.221Z"
   },
   {
    "duration": 6,
    "start_time": "2022-04-09T09:20:20.228Z"
   },
   {
    "duration": 3,
    "start_time": "2022-04-09T09:20:20.271Z"
   },
   {
    "duration": 18,
    "start_time": "2022-04-09T09:20:20.277Z"
   },
   {
    "duration": 5,
    "start_time": "2022-04-09T09:20:20.298Z"
   },
   {
    "duration": 5,
    "start_time": "2022-04-09T09:20:20.305Z"
   },
   {
    "duration": 6,
    "start_time": "2022-04-09T09:20:20.313Z"
   },
   {
    "duration": 5,
    "start_time": "2022-04-09T09:20:20.321Z"
   },
   {
    "duration": 6,
    "start_time": "2022-04-09T09:20:20.328Z"
   },
   {
    "duration": 33,
    "start_time": "2022-04-09T09:20:20.336Z"
   },
   {
    "duration": 18,
    "start_time": "2022-04-09T09:20:20.373Z"
   },
   {
    "duration": 27,
    "start_time": "2022-04-09T09:20:20.393Z"
   },
   {
    "duration": 65,
    "start_time": "2022-04-09T09:20:20.423Z"
   },
   {
    "duration": 34,
    "start_time": "2022-04-09T09:20:20.490Z"
   },
   {
    "duration": 120,
    "start_time": "2022-04-09T09:20:20.528Z"
   },
   {
    "duration": 38,
    "start_time": "2022-04-09T09:20:20.667Z"
   },
   {
    "duration": 28,
    "start_time": "2022-04-09T09:20:20.707Z"
   },
   {
    "duration": 46,
    "start_time": "2022-04-09T09:20:20.767Z"
   },
   {
    "duration": 22,
    "start_time": "2022-04-09T09:20:20.815Z"
   },
   {
    "duration": 53,
    "start_time": "2022-04-09T09:20:20.839Z"
   },
   {
    "duration": 35,
    "start_time": "2022-04-09T09:20:20.895Z"
   },
   {
    "duration": 5,
    "start_time": "2022-04-09T09:20:20.932Z"
   },
   {
    "duration": 34,
    "start_time": "2022-04-09T09:20:20.938Z"
   },
   {
    "duration": 25,
    "start_time": "2022-04-09T09:20:20.975Z"
   },
   {
    "duration": 19,
    "start_time": "2022-04-09T09:20:21.003Z"
   },
   {
    "duration": 10,
    "start_time": "2022-04-09T09:20:21.025Z"
   },
   {
    "duration": 50,
    "start_time": "2022-04-09T09:20:21.037Z"
   },
   {
    "duration": 27,
    "start_time": "2022-04-09T09:20:21.089Z"
   },
   {
    "duration": 77,
    "start_time": "2022-04-09T09:20:21.118Z"
   },
   {
    "duration": 49,
    "start_time": "2022-04-09T09:20:21.198Z"
   },
   {
    "duration": 10,
    "start_time": "2022-04-09T09:20:21.272Z"
   },
   {
    "duration": 9,
    "start_time": "2022-04-09T09:20:21.285Z"
   },
   {
    "duration": 8,
    "start_time": "2022-04-09T09:20:21.297Z"
   },
   {
    "duration": 25,
    "start_time": "2022-04-09T09:20:21.307Z"
   },
   {
    "duration": 36,
    "start_time": "2022-04-09T09:20:21.334Z"
   },
   {
    "duration": 26,
    "start_time": "2022-04-09T09:20:21.374Z"
   },
   {
    "duration": 31,
    "start_time": "2022-04-09T09:20:21.402Z"
   },
   {
    "duration": 101,
    "start_time": "2022-04-09T09:20:21.435Z"
   },
   {
    "duration": 4,
    "start_time": "2022-04-09T09:26:21.397Z"
   },
   {
    "duration": 158,
    "start_time": "2022-04-09T09:27:25.127Z"
   },
   {
    "duration": 15,
    "start_time": "2022-04-09T09:27:42.972Z"
   },
   {
    "duration": 25,
    "start_time": "2022-04-09T09:27:53.601Z"
   },
   {
    "duration": 37,
    "start_time": "2022-04-09T09:28:57.526Z"
   },
   {
    "duration": 21,
    "start_time": "2022-04-09T09:39:56.869Z"
   },
   {
    "duration": 17,
    "start_time": "2022-04-09T09:40:58.384Z"
   },
   {
    "duration": 18,
    "start_time": "2022-04-09T09:41:55.118Z"
   },
   {
    "duration": 20,
    "start_time": "2022-04-09T09:43:18.165Z"
   },
   {
    "duration": 10,
    "start_time": "2022-04-09T09:44:08.575Z"
   },
   {
    "duration": 21,
    "start_time": "2022-04-09T09:44:13.340Z"
   },
   {
    "duration": 418,
    "start_time": "2022-04-10T12:26:23.847Z"
   },
   {
    "duration": 62,
    "start_time": "2022-04-10T12:26:24.267Z"
   },
   {
    "duration": 21,
    "start_time": "2022-04-10T12:26:24.331Z"
   },
   {
    "duration": 30,
    "start_time": "2022-04-10T12:26:24.354Z"
   },
   {
    "duration": 15,
    "start_time": "2022-04-10T12:26:24.386Z"
   },
   {
    "duration": 25,
    "start_time": "2022-04-10T12:26:24.403Z"
   },
   {
    "duration": 2,
    "start_time": "2022-04-10T12:26:24.430Z"
   },
   {
    "duration": 5,
    "start_time": "2022-04-10T12:26:24.433Z"
   },
   {
    "duration": 4,
    "start_time": "2022-04-10T12:26:24.440Z"
   },
   {
    "duration": 4,
    "start_time": "2022-04-10T12:26:24.446Z"
   },
   {
    "duration": 3,
    "start_time": "2022-04-10T12:26:24.479Z"
   },
   {
    "duration": 8,
    "start_time": "2022-04-10T12:26:24.484Z"
   },
   {
    "duration": 8,
    "start_time": "2022-04-10T12:26:24.494Z"
   },
   {
    "duration": 3,
    "start_time": "2022-04-10T12:26:24.504Z"
   },
   {
    "duration": 4,
    "start_time": "2022-04-10T12:26:24.509Z"
   },
   {
    "duration": 7,
    "start_time": "2022-04-10T12:26:24.514Z"
   },
   {
    "duration": 14,
    "start_time": "2022-04-10T12:26:24.523Z"
   },
   {
    "duration": 7,
    "start_time": "2022-04-10T12:26:24.539Z"
   },
   {
    "duration": 49,
    "start_time": "2022-04-10T12:26:24.548Z"
   },
   {
    "duration": 22,
    "start_time": "2022-04-10T12:26:24.599Z"
   },
   {
    "duration": 21,
    "start_time": "2022-04-10T12:26:24.622Z"
   },
   {
    "duration": 94,
    "start_time": "2022-04-10T12:26:24.645Z"
   },
   {
    "duration": 48,
    "start_time": "2022-04-10T12:26:24.741Z"
   },
   {
    "duration": 23,
    "start_time": "2022-04-10T12:26:24.791Z"
   },
   {
    "duration": 25,
    "start_time": "2022-04-10T12:26:24.816Z"
   },
   {
    "duration": 44,
    "start_time": "2022-04-10T12:26:24.843Z"
   },
   {
    "duration": 24,
    "start_time": "2022-04-10T12:26:24.889Z"
   },
   {
    "duration": 17,
    "start_time": "2022-04-10T12:26:24.916Z"
   },
   {
    "duration": 3,
    "start_time": "2022-04-10T12:26:24.935Z"
   },
   {
    "duration": 7,
    "start_time": "2022-04-10T12:26:24.939Z"
   },
   {
    "duration": 42,
    "start_time": "2022-04-10T12:26:24.947Z"
   },
   {
    "duration": 19,
    "start_time": "2022-04-10T12:26:24.992Z"
   },
   {
    "duration": 7,
    "start_time": "2022-04-10T12:26:25.012Z"
   },
   {
    "duration": 11,
    "start_time": "2022-04-10T12:26:25.021Z"
   },
   {
    "duration": 52,
    "start_time": "2022-04-10T12:26:25.034Z"
   },
   {
    "duration": 38,
    "start_time": "2022-04-10T12:26:25.088Z"
   },
   {
    "duration": 51,
    "start_time": "2022-04-10T12:26:25.127Z"
   },
   {
    "duration": 8,
    "start_time": "2022-04-10T12:26:25.181Z"
   },
   {
    "duration": 6,
    "start_time": "2022-04-10T12:26:25.191Z"
   },
   {
    "duration": 7,
    "start_time": "2022-04-10T12:26:25.199Z"
   },
   {
    "duration": 16,
    "start_time": "2022-04-10T12:26:25.208Z"
   },
   {
    "duration": 4,
    "start_time": "2022-04-10T12:26:25.226Z"
   },
   {
    "duration": 10,
    "start_time": "2022-04-10T12:26:25.232Z"
   },
   {
    "duration": 51,
    "start_time": "2022-04-10T12:26:25.243Z"
   },
   {
    "duration": 7,
    "start_time": "2022-04-10T12:26:25.296Z"
   },
   {
    "duration": 10,
    "start_time": "2022-04-10T12:26:25.304Z"
   },
   {
    "duration": 17,
    "start_time": "2022-04-10T12:26:25.316Z"
   },
   {
    "duration": 17,
    "start_time": "2022-04-10T12:26:25.335Z"
   },
   {
    "duration": 14,
    "start_time": "2022-04-10T12:26:25.379Z"
   },
   {
    "duration": 15,
    "start_time": "2022-04-10T12:26:25.395Z"
   },
   {
    "duration": 12,
    "start_time": "2022-04-10T12:26:25.412Z"
   },
   {
    "duration": 13,
    "start_time": "2022-04-10T12:26:25.426Z"
   },
   {
    "duration": 10,
    "start_time": "2022-04-10T12:32:53.176Z"
   },
   {
    "duration": 13,
    "start_time": "2022-04-10T12:32:54.811Z"
   },
   {
    "duration": 1719,
    "start_time": "2022-04-10T12:49:40.489Z"
   },
   {
    "duration": 16,
    "start_time": "2022-04-10T12:49:52.620Z"
   },
   {
    "duration": 11,
    "start_time": "2022-04-10T13:18:31.798Z"
   },
   {
    "duration": 11,
    "start_time": "2022-04-10T13:18:49.170Z"
   },
   {
    "duration": 6,
    "start_time": "2022-04-10T13:18:59.364Z"
   },
   {
    "duration": 15,
    "start_time": "2022-04-10T13:20:34.417Z"
   },
   {
    "duration": 29,
    "start_time": "2022-04-10T13:21:36.230Z"
   },
   {
    "duration": 11,
    "start_time": "2022-04-10T13:29:40.392Z"
   },
   {
    "duration": 12,
    "start_time": "2022-04-10T13:30:05.302Z"
   },
   {
    "duration": 14,
    "start_time": "2022-04-10T13:30:58.222Z"
   },
   {
    "duration": 16,
    "start_time": "2022-04-10T13:32:15.024Z"
   },
   {
    "duration": 13,
    "start_time": "2022-04-10T13:32:38.938Z"
   },
   {
    "duration": 12,
    "start_time": "2022-04-10T13:34:52.245Z"
   },
   {
    "duration": 31,
    "start_time": "2022-04-10T13:56:28.518Z"
   },
   {
    "duration": 68,
    "start_time": "2022-04-10T13:56:49.080Z"
   },
   {
    "duration": 13,
    "start_time": "2022-04-10T14:14:17.055Z"
   },
   {
    "duration": 14,
    "start_time": "2022-04-10T14:20:30.614Z"
   },
   {
    "duration": 6,
    "start_time": "2022-04-10T14:20:39.064Z"
   },
   {
    "duration": 16,
    "start_time": "2022-04-10T14:23:27.648Z"
   },
   {
    "duration": 14,
    "start_time": "2022-04-10T14:24:39.554Z"
   },
   {
    "duration": 14,
    "start_time": "2022-04-10T14:24:52.508Z"
   },
   {
    "duration": 12,
    "start_time": "2022-04-10T14:31:30.593Z"
   },
   {
    "duration": 456,
    "start_time": "2022-04-20T07:57:45.567Z"
   },
   {
    "duration": 61,
    "start_time": "2022-04-20T07:57:46.025Z"
   },
   {
    "duration": 30,
    "start_time": "2022-04-20T07:57:46.088Z"
   },
   {
    "duration": 16,
    "start_time": "2022-04-20T07:57:46.120Z"
   },
   {
    "duration": 14,
    "start_time": "2022-04-20T07:57:46.138Z"
   },
   {
    "duration": 69,
    "start_time": "2022-04-20T07:57:46.154Z"
   },
   {
    "duration": 2,
    "start_time": "2022-04-20T07:57:46.225Z"
   },
   {
    "duration": 4,
    "start_time": "2022-04-20T07:57:46.230Z"
   },
   {
    "duration": 3,
    "start_time": "2022-04-20T07:57:46.236Z"
   },
   {
    "duration": 4,
    "start_time": "2022-04-20T07:57:46.241Z"
   },
   {
    "duration": 4,
    "start_time": "2022-04-20T07:57:46.246Z"
   },
   {
    "duration": 4,
    "start_time": "2022-04-20T07:57:46.252Z"
   },
   {
    "duration": 8,
    "start_time": "2022-04-20T07:57:46.257Z"
   },
   {
    "duration": 8,
    "start_time": "2022-04-20T07:57:46.296Z"
   },
   {
    "duration": 4,
    "start_time": "2022-04-20T07:57:46.306Z"
   },
   {
    "duration": 11,
    "start_time": "2022-04-20T07:57:46.311Z"
   },
   {
    "duration": 9,
    "start_time": "2022-04-20T07:57:46.324Z"
   },
   {
    "duration": 11,
    "start_time": "2022-04-20T07:57:46.335Z"
   },
   {
    "duration": 23,
    "start_time": "2022-04-20T07:57:46.347Z"
   },
   {
    "duration": 34,
    "start_time": "2022-04-20T07:57:46.371Z"
   },
   {
    "duration": 25,
    "start_time": "2022-04-20T07:57:46.407Z"
   },
   {
    "duration": 93,
    "start_time": "2022-04-20T07:57:46.433Z"
   },
   {
    "duration": 22,
    "start_time": "2022-04-20T07:57:46.527Z"
   },
   {
    "duration": 20,
    "start_time": "2022-04-20T07:57:46.550Z"
   },
   {
    "duration": 59,
    "start_time": "2022-04-20T07:57:46.571Z"
   },
   {
    "duration": 18,
    "start_time": "2022-04-20T07:57:46.632Z"
   },
   {
    "duration": 48,
    "start_time": "2022-04-20T07:57:46.651Z"
   },
   {
    "duration": 20,
    "start_time": "2022-04-20T07:57:46.701Z"
   },
   {
    "duration": 4,
    "start_time": "2022-04-20T07:57:46.722Z"
   },
   {
    "duration": 14,
    "start_time": "2022-04-20T07:57:46.727Z"
   },
   {
    "duration": 10,
    "start_time": "2022-04-20T07:57:46.743Z"
   },
   {
    "duration": 13,
    "start_time": "2022-04-20T07:57:46.755Z"
   },
   {
    "duration": 33,
    "start_time": "2022-04-20T07:57:46.770Z"
   },
   {
    "duration": 17,
    "start_time": "2022-04-20T07:57:46.805Z"
   },
   {
    "duration": 23,
    "start_time": "2022-04-20T07:57:46.824Z"
   },
   {
    "duration": 47,
    "start_time": "2022-04-20T07:57:46.849Z"
   },
   {
    "duration": 36,
    "start_time": "2022-04-20T07:57:46.898Z"
   },
   {
    "duration": 5,
    "start_time": "2022-04-20T07:57:46.936Z"
   },
   {
    "duration": 11,
    "start_time": "2022-04-20T07:57:46.942Z"
   },
   {
    "duration": 7,
    "start_time": "2022-04-20T07:57:46.955Z"
   },
   {
    "duration": 33,
    "start_time": "2022-04-20T07:57:46.966Z"
   },
   {
    "duration": 17,
    "start_time": "2022-04-20T07:57:47.001Z"
   },
   {
    "duration": 12,
    "start_time": "2022-04-20T07:57:47.020Z"
   },
   {
    "duration": 17,
    "start_time": "2022-04-20T07:57:47.034Z"
   },
   {
    "duration": 4,
    "start_time": "2022-04-20T07:57:47.052Z"
   },
   {
    "duration": 17,
    "start_time": "2022-04-20T07:57:47.057Z"
   },
   {
    "duration": 30,
    "start_time": "2022-04-20T07:57:47.076Z"
   },
   {
    "duration": 18,
    "start_time": "2022-04-20T07:57:47.108Z"
   },
   {
    "duration": 8,
    "start_time": "2022-04-20T07:57:47.128Z"
   },
   {
    "duration": 17,
    "start_time": "2022-04-20T07:57:47.137Z"
   },
   {
    "duration": 48,
    "start_time": "2022-04-20T07:57:47.156Z"
   },
   {
    "duration": 15,
    "start_time": "2022-04-20T07:57:47.206Z"
   },
   {
    "duration": 7,
    "start_time": "2022-04-20T07:57:47.223Z"
   },
   {
    "duration": 17,
    "start_time": "2022-04-20T07:57:47.232Z"
   },
   {
    "duration": 50,
    "start_time": "2022-04-20T07:57:47.250Z"
   },
   {
    "duration": 19,
    "start_time": "2022-04-20T07:57:47.302Z"
   },
   {
    "duration": 13,
    "start_time": "2022-04-20T07:57:47.322Z"
   },
   {
    "duration": 7,
    "start_time": "2022-04-20T07:57:47.336Z"
   },
   {
    "duration": 18,
    "start_time": "2022-04-20T07:57:47.344Z"
   },
   {
    "duration": 459,
    "start_time": "2022-04-20T08:07:21.188Z"
   },
   {
    "duration": 62,
    "start_time": "2022-04-20T08:07:21.649Z"
   },
   {
    "duration": 22,
    "start_time": "2022-04-20T08:07:21.713Z"
   },
   {
    "duration": 17,
    "start_time": "2022-04-20T08:07:21.736Z"
   },
   {
    "duration": 42,
    "start_time": "2022-04-20T08:07:21.755Z"
   },
   {
    "duration": 28,
    "start_time": "2022-04-20T08:07:21.799Z"
   },
   {
    "duration": 3,
    "start_time": "2022-04-20T08:07:21.829Z"
   },
   {
    "duration": 19,
    "start_time": "2022-04-20T08:07:21.833Z"
   },
   {
    "duration": 6,
    "start_time": "2022-04-20T08:07:21.854Z"
   },
   {
    "duration": 6,
    "start_time": "2022-04-20T08:07:21.862Z"
   },
   {
    "duration": 9,
    "start_time": "2022-04-20T08:07:21.869Z"
   },
   {
    "duration": 5,
    "start_time": "2022-04-20T08:07:21.892Z"
   },
   {
    "duration": 8,
    "start_time": "2022-04-20T08:07:21.900Z"
   },
   {
    "duration": 3,
    "start_time": "2022-04-20T08:07:21.915Z"
   },
   {
    "duration": 19,
    "start_time": "2022-04-20T08:07:21.920Z"
   },
   {
    "duration": 13,
    "start_time": "2022-04-20T08:07:21.941Z"
   },
   {
    "duration": 16,
    "start_time": "2022-04-20T08:07:21.957Z"
   },
   {
    "duration": 25,
    "start_time": "2022-04-20T08:07:21.975Z"
   },
   {
    "duration": 27,
    "start_time": "2022-04-20T08:07:22.002Z"
   },
   {
    "duration": 23,
    "start_time": "2022-04-20T08:07:22.031Z"
   },
   {
    "duration": 47,
    "start_time": "2022-04-20T08:07:22.056Z"
   },
   {
    "duration": 64,
    "start_time": "2022-04-20T08:07:22.105Z"
   },
   {
    "duration": 23,
    "start_time": "2022-04-20T08:07:22.192Z"
   },
   {
    "duration": 21,
    "start_time": "2022-04-20T08:07:22.217Z"
   },
   {
    "duration": 59,
    "start_time": "2022-04-20T08:07:22.239Z"
   },
   {
    "duration": 18,
    "start_time": "2022-04-20T08:07:22.300Z"
   },
   {
    "duration": 18,
    "start_time": "2022-04-20T08:07:22.320Z"
   },
   {
    "duration": 16,
    "start_time": "2022-04-20T08:07:22.340Z"
   },
   {
    "duration": 35,
    "start_time": "2022-04-20T08:07:22.358Z"
   },
   {
    "duration": 28,
    "start_time": "2022-04-20T08:07:22.394Z"
   },
   {
    "duration": 13,
    "start_time": "2022-04-20T08:07:22.425Z"
   },
   {
    "duration": 14,
    "start_time": "2022-04-20T08:07:22.440Z"
   },
   {
    "duration": 8,
    "start_time": "2022-04-20T08:07:22.456Z"
   },
   {
    "duration": 27,
    "start_time": "2022-04-20T08:07:22.466Z"
   },
   {
    "duration": 23,
    "start_time": "2022-04-20T08:07:22.495Z"
   },
   {
    "duration": 35,
    "start_time": "2022-04-20T08:07:22.521Z"
   },
   {
    "duration": 81,
    "start_time": "2022-04-20T08:07:22.559Z"
   },
   {
    "duration": 8,
    "start_time": "2022-04-20T08:07:22.642Z"
   },
   {
    "duration": 9,
    "start_time": "2022-04-20T08:07:22.652Z"
   },
   {
    "duration": 8,
    "start_time": "2022-04-20T08:07:22.663Z"
   },
   {
    "duration": 16,
    "start_time": "2022-04-20T08:07:22.692Z"
   },
   {
    "duration": 5,
    "start_time": "2022-04-20T08:07:22.710Z"
   },
   {
    "duration": 12,
    "start_time": "2022-04-20T08:07:22.717Z"
   },
   {
    "duration": 16,
    "start_time": "2022-04-20T08:07:22.731Z"
   },
   {
    "duration": 6,
    "start_time": "2022-04-20T08:07:22.749Z"
   },
   {
    "duration": 46,
    "start_time": "2022-04-20T08:07:22.757Z"
   },
   {
    "duration": 26,
    "start_time": "2022-04-20T08:07:22.805Z"
   },
   {
    "duration": 28,
    "start_time": "2022-04-20T08:07:22.833Z"
   },
   {
    "duration": 11,
    "start_time": "2022-04-20T08:07:22.863Z"
   },
   {
    "duration": 21,
    "start_time": "2022-04-20T08:07:22.892Z"
   },
   {
    "duration": 19,
    "start_time": "2022-04-20T08:07:22.914Z"
   },
   {
    "duration": 20,
    "start_time": "2022-04-20T08:07:22.935Z"
   },
   {
    "duration": 43,
    "start_time": "2022-04-20T08:07:22.957Z"
   },
   {
    "duration": 26,
    "start_time": "2022-04-20T08:07:23.003Z"
   },
   {
    "duration": 19,
    "start_time": "2022-04-20T08:07:23.032Z"
   },
   {
    "duration": 43,
    "start_time": "2022-04-20T08:07:23.054Z"
   },
   {
    "duration": 15,
    "start_time": "2022-04-20T08:07:23.099Z"
   },
   {
    "duration": 8,
    "start_time": "2022-04-20T08:07:23.116Z"
   },
   {
    "duration": 16,
    "start_time": "2022-04-20T08:07:23.126Z"
   },
   {
    "duration": 45,
    "start_time": "2022-04-21T08:15:36.880Z"
   },
   {
    "duration": 409,
    "start_time": "2022-04-21T08:15:44.842Z"
   },
   {
    "duration": 50,
    "start_time": "2022-04-21T08:15:45.253Z"
   },
   {
    "duration": 24,
    "start_time": "2022-04-21T08:15:45.305Z"
   },
   {
    "duration": 15,
    "start_time": "2022-04-21T08:15:45.331Z"
   },
   {
    "duration": 11,
    "start_time": "2022-04-21T08:15:45.348Z"
   },
   {
    "duration": 22,
    "start_time": "2022-04-21T08:15:45.360Z"
   },
   {
    "duration": 2,
    "start_time": "2022-04-21T08:15:45.384Z"
   },
   {
    "duration": 36,
    "start_time": "2022-04-21T08:15:45.388Z"
   },
   {
    "duration": 4,
    "start_time": "2022-04-21T08:15:45.426Z"
   },
   {
    "duration": 5,
    "start_time": "2022-04-21T08:15:45.433Z"
   },
   {
    "duration": 6,
    "start_time": "2022-04-21T08:15:45.440Z"
   },
   {
    "duration": 5,
    "start_time": "2022-04-21T08:15:45.448Z"
   },
   {
    "duration": 4,
    "start_time": "2022-04-21T08:15:45.454Z"
   },
   {
    "duration": 4,
    "start_time": "2022-04-21T08:15:45.459Z"
   },
   {
    "duration": 4,
    "start_time": "2022-04-21T08:15:45.465Z"
   },
   {
    "duration": 7,
    "start_time": "2022-04-21T08:15:45.470Z"
   },
   {
    "duration": 5,
    "start_time": "2022-04-21T08:15:45.479Z"
   },
   {
    "duration": 7,
    "start_time": "2022-04-21T08:15:45.485Z"
   },
   {
    "duration": 36,
    "start_time": "2022-04-21T08:15:45.494Z"
   },
   {
    "duration": 20,
    "start_time": "2022-04-21T08:15:45.531Z"
   },
   {
    "duration": 20,
    "start_time": "2022-04-21T08:15:45.553Z"
   },
   {
    "duration": 83,
    "start_time": "2022-04-21T08:15:45.574Z"
   },
   {
    "duration": 18,
    "start_time": "2022-04-21T08:15:45.658Z"
   },
   {
    "duration": 16,
    "start_time": "2022-04-21T08:15:45.677Z"
   },
   {
    "duration": 46,
    "start_time": "2022-04-21T08:15:45.694Z"
   },
   {
    "duration": 16,
    "start_time": "2022-04-21T08:15:45.742Z"
   },
   {
    "duration": 16,
    "start_time": "2022-04-21T08:15:45.760Z"
   },
   {
    "duration": 15,
    "start_time": "2022-04-21T08:15:45.780Z"
   },
   {
    "duration": 30,
    "start_time": "2022-04-21T08:15:45.797Z"
   },
   {
    "duration": 6,
    "start_time": "2022-04-21T08:15:45.829Z"
   },
   {
    "duration": 14,
    "start_time": "2022-04-21T08:15:45.836Z"
   },
   {
    "duration": 17,
    "start_time": "2022-04-21T08:15:45.852Z"
   },
   {
    "duration": 5,
    "start_time": "2022-04-21T08:15:45.870Z"
   },
   {
    "duration": 9,
    "start_time": "2022-04-21T08:15:45.877Z"
   },
   {
    "duration": 44,
    "start_time": "2022-04-21T08:15:45.888Z"
   },
   {
    "duration": 30,
    "start_time": "2022-04-21T08:15:45.934Z"
   },
   {
    "duration": 26,
    "start_time": "2022-04-21T08:15:45.966Z"
   },
   {
    "duration": 4,
    "start_time": "2022-04-21T08:15:45.994Z"
   },
   {
    "duration": 29,
    "start_time": "2022-04-21T08:15:45.999Z"
   },
   {
    "duration": 11,
    "start_time": "2022-04-21T08:15:46.030Z"
   },
   {
    "duration": 23,
    "start_time": "2022-04-21T08:15:46.043Z"
   },
   {
    "duration": 5,
    "start_time": "2022-04-21T08:15:46.068Z"
   },
   {
    "duration": 11,
    "start_time": "2022-04-21T08:15:46.075Z"
   },
   {
    "duration": 13,
    "start_time": "2022-04-21T08:15:46.087Z"
   },
   {
    "duration": 3,
    "start_time": "2022-04-21T08:15:46.101Z"
   },
   {
    "duration": 19,
    "start_time": "2022-04-21T08:15:46.105Z"
   },
   {
    "duration": 16,
    "start_time": "2022-04-21T08:15:46.125Z"
   },
   {
    "duration": 18,
    "start_time": "2022-04-21T08:15:46.143Z"
   },
   {
    "duration": 6,
    "start_time": "2022-04-21T08:15:46.163Z"
   },
   {
    "duration": 14,
    "start_time": "2022-04-21T08:15:46.170Z"
   },
   {
    "duration": 11,
    "start_time": "2022-04-21T08:15:46.185Z"
   },
   {
    "duration": 38,
    "start_time": "2022-04-21T08:15:46.198Z"
   },
   {
    "duration": 7,
    "start_time": "2022-04-21T08:15:46.237Z"
   },
   {
    "duration": 18,
    "start_time": "2022-04-21T08:15:46.246Z"
   },
   {
    "duration": 10,
    "start_time": "2022-04-21T08:15:46.266Z"
   },
   {
    "duration": 11,
    "start_time": "2022-04-21T08:15:46.278Z"
   },
   {
    "duration": 40,
    "start_time": "2022-04-21T08:15:46.291Z"
   },
   {
    "duration": 6,
    "start_time": "2022-04-21T08:15:46.333Z"
   },
   {
    "duration": 16,
    "start_time": "2022-04-21T08:15:46.341Z"
   },
   {
    "duration": 30,
    "start_time": "2022-04-21T11:27:18.873Z"
   },
   {
    "duration": 3,
    "start_time": "2022-04-21T11:27:30.468Z"
   },
   {
    "duration": 59,
    "start_time": "2022-04-21T11:27:30.473Z"
   },
   {
    "duration": 13,
    "start_time": "2022-04-21T11:27:30.534Z"
   },
   {
    "duration": 22,
    "start_time": "2022-04-21T11:27:30.549Z"
   },
   {
    "duration": 17,
    "start_time": "2022-04-21T11:27:30.573Z"
   },
   {
    "duration": 49,
    "start_time": "2022-04-21T11:27:30.592Z"
   },
   {
    "duration": 2,
    "start_time": "2022-04-21T11:27:30.643Z"
   },
   {
    "duration": 15,
    "start_time": "2022-04-21T11:27:30.647Z"
   },
   {
    "duration": 15,
    "start_time": "2022-04-21T11:27:30.664Z"
   },
   {
    "duration": 14,
    "start_time": "2022-04-21T11:27:30.680Z"
   },
   {
    "duration": 20,
    "start_time": "2022-04-21T11:27:30.697Z"
   },
   {
    "duration": 9,
    "start_time": "2022-04-21T11:27:30.719Z"
   },
   {
    "duration": 11,
    "start_time": "2022-04-21T11:27:30.730Z"
   },
   {
    "duration": 13,
    "start_time": "2022-04-21T11:27:30.744Z"
   },
   {
    "duration": 14,
    "start_time": "2022-04-21T11:27:30.758Z"
   },
   {
    "duration": 9,
    "start_time": "2022-04-21T11:27:30.774Z"
   },
   {
    "duration": 7,
    "start_time": "2022-04-21T11:27:30.784Z"
   },
   {
    "duration": 18,
    "start_time": "2022-04-21T11:27:30.794Z"
   },
   {
    "duration": 25,
    "start_time": "2022-04-21T11:27:30.813Z"
   },
   {
    "duration": 22,
    "start_time": "2022-04-21T11:27:30.840Z"
   },
   {
    "duration": 18,
    "start_time": "2022-04-21T11:27:30.863Z"
   },
   {
    "duration": 83,
    "start_time": "2022-04-21T11:27:30.883Z"
   },
   {
    "duration": 17,
    "start_time": "2022-04-21T11:27:30.968Z"
   },
   {
    "duration": 39,
    "start_time": "2022-04-21T11:27:30.986Z"
   },
   {
    "duration": 50,
    "start_time": "2022-04-21T11:27:31.027Z"
   },
   {
    "duration": 14,
    "start_time": "2022-04-21T11:27:31.078Z"
   },
   {
    "duration": 62,
    "start_time": "2022-04-21T11:27:31.093Z"
   },
   {
    "duration": 18,
    "start_time": "2022-04-21T11:27:31.157Z"
   },
   {
    "duration": 4,
    "start_time": "2022-04-21T11:27:31.179Z"
   },
   {
    "duration": 13,
    "start_time": "2022-04-21T11:27:31.184Z"
   },
   {
    "duration": 22,
    "start_time": "2022-04-21T11:27:31.199Z"
   },
   {
    "duration": 27,
    "start_time": "2022-04-21T11:27:31.223Z"
   },
   {
    "duration": 9,
    "start_time": "2022-04-21T11:27:31.252Z"
   },
   {
    "duration": 23,
    "start_time": "2022-04-21T11:27:31.262Z"
   },
   {
    "duration": 17,
    "start_time": "2022-04-21T11:27:31.287Z"
   },
   {
    "duration": 36,
    "start_time": "2022-04-21T11:27:31.305Z"
   },
   {
    "duration": 30,
    "start_time": "2022-04-21T11:27:31.343Z"
   },
   {
    "duration": 5,
    "start_time": "2022-04-21T11:27:31.374Z"
   },
   {
    "duration": 7,
    "start_time": "2022-04-21T11:27:31.380Z"
   },
   {
    "duration": 9,
    "start_time": "2022-04-21T11:27:31.389Z"
   },
   {
    "duration": 26,
    "start_time": "2022-04-21T11:27:31.400Z"
   },
   {
    "duration": 0,
    "start_time": "2022-04-21T11:27:31.428Z"
   },
   {
    "duration": 1,
    "start_time": "2022-04-21T11:27:31.429Z"
   },
   {
    "duration": 0,
    "start_time": "2022-04-21T11:27:31.431Z"
   },
   {
    "duration": 0,
    "start_time": "2022-04-21T11:27:31.432Z"
   },
   {
    "duration": 0,
    "start_time": "2022-04-21T11:27:31.433Z"
   },
   {
    "duration": 0,
    "start_time": "2022-04-21T11:27:31.434Z"
   },
   {
    "duration": 0,
    "start_time": "2022-04-21T11:27:31.436Z"
   },
   {
    "duration": 0,
    "start_time": "2022-04-21T11:27:31.437Z"
   },
   {
    "duration": 0,
    "start_time": "2022-04-21T11:27:31.438Z"
   },
   {
    "duration": 0,
    "start_time": "2022-04-21T11:27:31.439Z"
   },
   {
    "duration": 0,
    "start_time": "2022-04-21T11:27:31.440Z"
   },
   {
    "duration": 0,
    "start_time": "2022-04-21T11:27:31.441Z"
   },
   {
    "duration": 0,
    "start_time": "2022-04-21T11:27:31.442Z"
   },
   {
    "duration": 0,
    "start_time": "2022-04-21T11:27:31.443Z"
   },
   {
    "duration": 0,
    "start_time": "2022-04-21T11:27:31.444Z"
   },
   {
    "duration": 0,
    "start_time": "2022-04-21T11:27:31.445Z"
   },
   {
    "duration": 0,
    "start_time": "2022-04-21T11:27:31.446Z"
   },
   {
    "duration": 0,
    "start_time": "2022-04-21T11:27:31.447Z"
   },
   {
    "duration": 0,
    "start_time": "2022-04-21T11:27:31.448Z"
   },
   {
    "duration": 0,
    "start_time": "2022-04-21T11:27:31.449Z"
   },
   {
    "duration": 10,
    "start_time": "2022-04-21T11:28:27.254Z"
   },
   {
    "duration": 11,
    "start_time": "2022-04-21T11:29:01.050Z"
   },
   {
    "duration": 2035,
    "start_time": "2022-04-21T11:29:52.766Z"
   },
   {
    "duration": 10,
    "start_time": "2022-04-21T11:32:15.906Z"
   },
   {
    "duration": 2,
    "start_time": "2022-04-21T11:32:52.229Z"
   },
   {
    "duration": 47,
    "start_time": "2022-04-21T11:32:52.233Z"
   },
   {
    "duration": 11,
    "start_time": "2022-04-21T11:32:52.282Z"
   },
   {
    "duration": 29,
    "start_time": "2022-04-21T11:32:52.295Z"
   },
   {
    "duration": 10,
    "start_time": "2022-04-21T11:32:52.325Z"
   },
   {
    "duration": 21,
    "start_time": "2022-04-21T11:32:52.337Z"
   },
   {
    "duration": 2,
    "start_time": "2022-04-21T11:32:52.360Z"
   },
   {
    "duration": 4,
    "start_time": "2022-04-21T11:32:52.363Z"
   },
   {
    "duration": 7,
    "start_time": "2022-04-21T11:32:52.370Z"
   },
   {
    "duration": 5,
    "start_time": "2022-04-21T11:32:52.378Z"
   },
   {
    "duration": 5,
    "start_time": "2022-04-21T11:32:52.384Z"
   },
   {
    "duration": 4,
    "start_time": "2022-04-21T11:32:52.391Z"
   },
   {
    "duration": 8,
    "start_time": "2022-04-21T11:32:52.424Z"
   },
   {
    "duration": 6,
    "start_time": "2022-04-21T11:32:52.434Z"
   },
   {
    "duration": 15,
    "start_time": "2022-04-21T11:32:52.442Z"
   },
   {
    "duration": 9,
    "start_time": "2022-04-21T11:32:52.458Z"
   },
   {
    "duration": 6,
    "start_time": "2022-04-21T11:32:52.469Z"
   },
   {
    "duration": 9,
    "start_time": "2022-04-21T11:32:52.476Z"
   },
   {
    "duration": 14,
    "start_time": "2022-04-21T11:32:52.487Z"
   },
   {
    "duration": 32,
    "start_time": "2022-04-21T11:32:52.502Z"
   },
   {
    "duration": 19,
    "start_time": "2022-04-21T11:32:52.536Z"
   },
   {
    "duration": 80,
    "start_time": "2022-04-21T11:32:52.557Z"
   },
   {
    "duration": 18,
    "start_time": "2022-04-21T11:32:52.639Z"
   },
   {
    "duration": 16,
    "start_time": "2022-04-21T11:32:52.661Z"
   },
   {
    "duration": 24,
    "start_time": "2022-04-21T11:32:52.678Z"
   },
   {
    "duration": 14,
    "start_time": "2022-04-21T11:32:52.724Z"
   },
   {
    "duration": 14,
    "start_time": "2022-04-21T11:32:52.739Z"
   },
   {
    "duration": 16,
    "start_time": "2022-04-21T11:32:52.755Z"
   },
   {
    "duration": 3,
    "start_time": "2022-04-21T11:32:52.772Z"
   },
   {
    "duration": 7,
    "start_time": "2022-04-21T11:32:52.777Z"
   },
   {
    "duration": 9,
    "start_time": "2022-04-21T11:32:52.786Z"
   },
   {
    "duration": 36,
    "start_time": "2022-04-21T11:32:52.796Z"
   },
   {
    "duration": 9,
    "start_time": "2022-04-21T11:32:52.833Z"
   },
   {
    "duration": 9,
    "start_time": "2022-04-21T11:32:52.844Z"
   },
   {
    "duration": 18,
    "start_time": "2022-04-21T11:32:52.854Z"
   },
   {
    "duration": 27,
    "start_time": "2022-04-21T11:32:52.873Z"
   },
   {
    "duration": 48,
    "start_time": "2022-04-21T11:32:52.901Z"
   },
   {
    "duration": 6,
    "start_time": "2022-04-21T11:32:52.950Z"
   },
   {
    "duration": 14,
    "start_time": "2022-04-21T11:32:52.958Z"
   },
   {
    "duration": 9,
    "start_time": "2022-04-21T11:32:52.974Z"
   },
   {
    "duration": 41,
    "start_time": "2022-04-21T11:32:52.985Z"
   },
   {
    "duration": 12,
    "start_time": "2022-04-21T11:32:53.027Z"
   },
   {
    "duration": 5,
    "start_time": "2022-04-21T11:32:53.040Z"
   },
   {
    "duration": 12,
    "start_time": "2022-04-21T11:32:53.046Z"
   },
   {
    "duration": 13,
    "start_time": "2022-04-21T11:32:53.060Z"
   },
   {
    "duration": 4,
    "start_time": "2022-04-21T11:32:53.074Z"
   },
   {
    "duration": 10,
    "start_time": "2022-04-21T11:32:53.079Z"
   },
   {
    "duration": 34,
    "start_time": "2022-04-21T11:32:53.091Z"
   },
   {
    "duration": 15,
    "start_time": "2022-04-21T11:32:53.127Z"
   },
   {
    "duration": 6,
    "start_time": "2022-04-21T11:32:53.144Z"
   },
   {
    "duration": 15,
    "start_time": "2022-04-21T11:32:53.152Z"
   },
   {
    "duration": 69,
    "start_time": "2022-04-21T11:32:53.169Z"
   },
   {
    "duration": 10,
    "start_time": "2022-04-21T11:32:53.240Z"
   },
   {
    "duration": 7,
    "start_time": "2022-04-21T11:32:53.251Z"
   },
   {
    "duration": 15,
    "start_time": "2022-04-21T11:32:53.259Z"
   },
   {
    "duration": 10,
    "start_time": "2022-04-21T11:32:53.275Z"
   },
   {
    "duration": 10,
    "start_time": "2022-04-21T11:32:53.287Z"
   },
   {
    "duration": 34,
    "start_time": "2022-04-21T11:32:53.298Z"
   },
   {
    "duration": 5,
    "start_time": "2022-04-21T11:32:53.334Z"
   },
   {
    "duration": 13,
    "start_time": "2022-04-21T11:32:53.340Z"
   },
   {
    "duration": 380,
    "start_time": "2022-04-21T13:46:53.633Z"
   },
   {
    "duration": 54,
    "start_time": "2022-04-21T13:46:54.015Z"
   },
   {
    "duration": 19,
    "start_time": "2022-04-21T13:46:54.071Z"
   },
   {
    "duration": 14,
    "start_time": "2022-04-21T13:46:54.092Z"
   },
   {
    "duration": 23,
    "start_time": "2022-04-21T13:46:54.109Z"
   },
   {
    "duration": 23,
    "start_time": "2022-04-21T13:46:54.134Z"
   },
   {
    "duration": 2,
    "start_time": "2022-04-21T13:46:54.159Z"
   },
   {
    "duration": 5,
    "start_time": "2022-04-21T13:46:54.162Z"
   },
   {
    "duration": 5,
    "start_time": "2022-04-21T13:46:54.168Z"
   },
   {
    "duration": 5,
    "start_time": "2022-04-21T13:46:54.174Z"
   },
   {
    "duration": 7,
    "start_time": "2022-04-21T13:46:54.180Z"
   },
   {
    "duration": 5,
    "start_time": "2022-04-21T13:46:54.188Z"
   },
   {
    "duration": 6,
    "start_time": "2022-04-21T13:46:54.194Z"
   },
   {
    "duration": 2,
    "start_time": "2022-04-21T13:46:54.226Z"
   },
   {
    "duration": 3,
    "start_time": "2022-04-21T13:46:54.230Z"
   },
   {
    "duration": 4,
    "start_time": "2022-04-21T13:46:54.235Z"
   },
   {
    "duration": 5,
    "start_time": "2022-04-21T13:46:54.240Z"
   },
   {
    "duration": 7,
    "start_time": "2022-04-21T13:46:54.247Z"
   },
   {
    "duration": 14,
    "start_time": "2022-04-21T13:46:54.256Z"
   },
   {
    "duration": 17,
    "start_time": "2022-04-21T13:46:54.272Z"
   },
   {
    "duration": 50,
    "start_time": "2022-04-21T13:46:54.290Z"
   },
   {
    "duration": 48,
    "start_time": "2022-04-21T13:46:54.342Z"
   },
   {
    "duration": 43,
    "start_time": "2022-04-21T13:46:54.391Z"
   },
   {
    "duration": 16,
    "start_time": "2022-04-21T13:46:54.436Z"
   },
   {
    "duration": 25,
    "start_time": "2022-04-21T13:46:54.454Z"
   },
   {
    "duration": 15,
    "start_time": "2022-04-21T13:46:54.480Z"
   },
   {
    "duration": 41,
    "start_time": "2022-04-21T13:46:54.496Z"
   },
   {
    "duration": 16,
    "start_time": "2022-04-21T13:46:54.539Z"
   },
   {
    "duration": 4,
    "start_time": "2022-04-21T13:46:54.556Z"
   },
   {
    "duration": 11,
    "start_time": "2022-04-21T13:46:54.563Z"
   },
   {
    "duration": 11,
    "start_time": "2022-04-21T13:46:54.576Z"
   },
   {
    "duration": 43,
    "start_time": "2022-04-21T13:46:54.589Z"
   },
   {
    "duration": 7,
    "start_time": "2022-04-21T13:46:54.634Z"
   },
   {
    "duration": 11,
    "start_time": "2022-04-21T13:46:54.643Z"
   },
   {
    "duration": 19,
    "start_time": "2022-04-21T13:46:54.656Z"
   },
   {
    "duration": 59,
    "start_time": "2022-04-21T13:46:54.677Z"
   },
   {
    "duration": 31,
    "start_time": "2022-04-21T13:46:54.738Z"
   },
   {
    "duration": 5,
    "start_time": "2022-04-21T13:46:54.772Z"
   },
   {
    "duration": 12,
    "start_time": "2022-04-21T13:46:54.779Z"
   },
   {
    "duration": 36,
    "start_time": "2022-04-21T13:46:54.793Z"
   },
   {
    "duration": 18,
    "start_time": "2022-04-21T13:46:54.834Z"
   },
   {
    "duration": 13,
    "start_time": "2022-04-21T13:46:54.853Z"
   },
   {
    "duration": 3,
    "start_time": "2022-04-21T13:46:54.868Z"
   },
   {
    "duration": 9,
    "start_time": "2022-04-21T13:46:54.873Z"
   },
   {
    "duration": 46,
    "start_time": "2022-04-21T13:46:54.883Z"
   },
   {
    "duration": 4,
    "start_time": "2022-04-21T13:46:54.931Z"
   },
   {
    "duration": 11,
    "start_time": "2022-04-21T13:46:54.936Z"
   },
   {
    "duration": 16,
    "start_time": "2022-04-21T13:46:54.949Z"
   },
   {
    "duration": 15,
    "start_time": "2022-04-21T13:46:54.966Z"
   },
   {
    "duration": 6,
    "start_time": "2022-04-21T13:46:54.983Z"
   },
   {
    "duration": 44,
    "start_time": "2022-04-21T13:46:54.991Z"
   },
   {
    "duration": 13,
    "start_time": "2022-04-21T13:46:55.036Z"
   },
   {
    "duration": 11,
    "start_time": "2022-04-21T13:46:55.051Z"
   },
   {
    "duration": 6,
    "start_time": "2022-04-21T13:46:55.063Z"
   },
   {
    "duration": 15,
    "start_time": "2022-04-21T13:46:55.070Z"
   },
   {
    "duration": 40,
    "start_time": "2022-04-21T13:46:55.087Z"
   },
   {
    "duration": 13,
    "start_time": "2022-04-21T13:46:55.128Z"
   },
   {
    "duration": 12,
    "start_time": "2022-04-21T13:46:55.143Z"
   },
   {
    "duration": 6,
    "start_time": "2022-04-21T13:46:55.156Z"
   },
   {
    "duration": 15,
    "start_time": "2022-04-21T13:46:55.164Z"
   },
   {
    "duration": 361,
    "start_time": "2022-04-21T13:48:29.857Z"
   },
   {
    "duration": 49,
    "start_time": "2022-04-21T13:48:30.219Z"
   },
   {
    "duration": 18,
    "start_time": "2022-04-21T13:48:30.269Z"
   },
   {
    "duration": 13,
    "start_time": "2022-04-21T13:48:30.289Z"
   },
   {
    "duration": 28,
    "start_time": "2022-04-21T13:48:30.303Z"
   },
   {
    "duration": 23,
    "start_time": "2022-04-21T13:48:30.332Z"
   },
   {
    "duration": 6,
    "start_time": "2022-04-21T13:48:30.357Z"
   },
   {
    "duration": 11,
    "start_time": "2022-04-21T13:48:30.364Z"
   },
   {
    "duration": 14,
    "start_time": "2022-04-21T13:48:30.377Z"
   },
   {
    "duration": 7,
    "start_time": "2022-04-21T13:48:30.393Z"
   },
   {
    "duration": 12,
    "start_time": "2022-04-21T13:48:30.402Z"
   },
   {
    "duration": 7,
    "start_time": "2022-04-21T13:48:30.416Z"
   },
   {
    "duration": 21,
    "start_time": "2022-04-21T13:48:30.424Z"
   },
   {
    "duration": 12,
    "start_time": "2022-04-21T13:48:30.447Z"
   },
   {
    "duration": 10,
    "start_time": "2022-04-21T13:48:30.460Z"
   },
   {
    "duration": 12,
    "start_time": "2022-04-21T13:48:30.471Z"
   },
   {
    "duration": 17,
    "start_time": "2022-04-21T13:48:30.484Z"
   },
   {
    "duration": 19,
    "start_time": "2022-04-21T13:48:30.502Z"
   },
   {
    "duration": 27,
    "start_time": "2022-04-21T13:48:30.523Z"
   },
   {
    "duration": 18,
    "start_time": "2022-04-21T13:48:30.551Z"
   },
   {
    "duration": 25,
    "start_time": "2022-04-21T13:48:30.571Z"
   },
   {
    "duration": 64,
    "start_time": "2022-04-21T13:48:30.597Z"
   },
   {
    "duration": 19,
    "start_time": "2022-04-21T13:48:30.663Z"
   },
   {
    "duration": 17,
    "start_time": "2022-04-21T13:48:30.683Z"
   },
   {
    "duration": 45,
    "start_time": "2022-04-21T13:48:30.702Z"
   },
   {
    "duration": 15,
    "start_time": "2022-04-21T13:48:30.749Z"
   },
   {
    "duration": 26,
    "start_time": "2022-04-21T13:48:30.765Z"
   },
   {
    "duration": 32,
    "start_time": "2022-04-21T13:48:30.794Z"
   },
   {
    "duration": 6,
    "start_time": "2022-04-21T13:48:30.827Z"
   },
   {
    "duration": 13,
    "start_time": "2022-04-21T13:48:30.834Z"
   },
   {
    "duration": 18,
    "start_time": "2022-04-21T13:48:30.848Z"
   },
   {
    "duration": 23,
    "start_time": "2022-04-21T13:48:30.867Z"
   },
   {
    "duration": 9,
    "start_time": "2022-04-21T13:48:30.891Z"
   },
   {
    "duration": 24,
    "start_time": "2022-04-21T13:48:30.902Z"
   },
   {
    "duration": 29,
    "start_time": "2022-04-21T13:48:30.928Z"
   },
   {
    "duration": 32,
    "start_time": "2022-04-21T13:48:30.959Z"
   },
   {
    "duration": 39,
    "start_time": "2022-04-21T13:48:30.992Z"
   },
   {
    "duration": 5,
    "start_time": "2022-04-21T13:48:31.032Z"
   },
   {
    "duration": 46,
    "start_time": "2022-04-21T13:48:31.038Z"
   },
   {
    "duration": 38,
    "start_time": "2022-04-21T13:48:31.085Z"
   },
   {
    "duration": 32,
    "start_time": "2022-04-21T13:48:31.124Z"
   },
   {
    "duration": 12,
    "start_time": "2022-04-21T13:48:31.158Z"
   },
   {
    "duration": 20,
    "start_time": "2022-04-21T13:48:31.171Z"
   },
   {
    "duration": 16,
    "start_time": "2022-04-21T13:48:31.192Z"
   },
   {
    "duration": 18,
    "start_time": "2022-04-21T13:48:31.210Z"
   },
   {
    "duration": 9,
    "start_time": "2022-04-21T13:48:31.229Z"
   },
   {
    "duration": 14,
    "start_time": "2022-04-21T13:48:31.240Z"
   },
   {
    "duration": 17,
    "start_time": "2022-04-21T13:48:31.255Z"
   },
   {
    "duration": 28,
    "start_time": "2022-04-21T13:48:31.273Z"
   },
   {
    "duration": 6,
    "start_time": "2022-04-21T13:48:31.303Z"
   },
   {
    "duration": 19,
    "start_time": "2022-04-21T13:48:31.311Z"
   },
   {
    "duration": 13,
    "start_time": "2022-04-21T13:48:31.331Z"
   },
   {
    "duration": 11,
    "start_time": "2022-04-21T13:48:31.345Z"
   },
   {
    "duration": 5,
    "start_time": "2022-04-21T13:48:31.358Z"
   },
   {
    "duration": 22,
    "start_time": "2022-04-21T13:48:31.365Z"
   },
   {
    "duration": 36,
    "start_time": "2022-04-21T13:48:31.388Z"
   },
   {
    "duration": 12,
    "start_time": "2022-04-21T13:48:31.426Z"
   },
   {
    "duration": 12,
    "start_time": "2022-04-21T13:48:31.440Z"
   },
   {
    "duration": 6,
    "start_time": "2022-04-21T13:48:31.453Z"
   },
   {
    "duration": 14,
    "start_time": "2022-04-21T13:48:31.460Z"
   },
   {
    "duration": 384,
    "start_time": "2022-07-24T10:44:50.166Z"
   },
   {
    "duration": 329,
    "start_time": "2022-07-24T10:44:50.552Z"
   },
   {
    "duration": 20,
    "start_time": "2022-07-24T10:44:50.883Z"
   },
   {
    "duration": 22,
    "start_time": "2022-07-24T10:44:50.905Z"
   },
   {
    "duration": 20,
    "start_time": "2022-07-24T10:44:50.929Z"
   },
   {
    "duration": 44,
    "start_time": "2022-07-24T10:44:50.951Z"
   },
   {
    "duration": 6,
    "start_time": "2022-07-24T10:44:50.997Z"
   },
   {
    "duration": 34,
    "start_time": "2022-07-24T10:44:51.005Z"
   },
   {
    "duration": 37,
    "start_time": "2022-07-24T10:44:51.041Z"
   },
   {
    "duration": 23,
    "start_time": "2022-07-24T10:44:51.080Z"
   },
   {
    "duration": 96,
    "start_time": "2022-07-24T10:44:51.104Z"
   },
   {
    "duration": 33,
    "start_time": "2022-07-24T10:44:51.202Z"
   },
   {
    "duration": 34,
    "start_time": "2022-07-24T10:44:51.237Z"
   },
   {
    "duration": 27,
    "start_time": "2022-07-24T10:44:51.274Z"
   },
   {
    "duration": 23,
    "start_time": "2022-07-24T10:44:51.303Z"
   },
   {
    "duration": 34,
    "start_time": "2022-07-24T10:44:51.328Z"
   },
   {
    "duration": 25,
    "start_time": "2022-07-24T10:44:51.364Z"
   },
   {
    "duration": 5,
    "start_time": "2022-07-24T10:44:51.391Z"
   },
   {
    "duration": 9,
    "start_time": "2022-07-24T10:44:51.398Z"
   },
   {
    "duration": 23,
    "start_time": "2022-07-24T10:44:51.409Z"
   },
   {
    "duration": 22,
    "start_time": "2022-07-24T10:44:51.434Z"
   },
   {
    "duration": 10,
    "start_time": "2022-07-24T10:44:51.458Z"
   },
   {
    "duration": 15,
    "start_time": "2022-07-24T10:44:51.469Z"
   },
   {
    "duration": 55,
    "start_time": "2022-07-24T10:44:51.486Z"
   },
   {
    "duration": 31,
    "start_time": "2022-07-24T10:44:51.544Z"
   },
   {
    "duration": 46,
    "start_time": "2022-07-24T10:44:51.577Z"
   },
   {
    "duration": 7,
    "start_time": "2022-07-24T10:44:51.626Z"
   },
   {
    "duration": 31,
    "start_time": "2022-07-24T10:44:51.635Z"
   },
   {
    "duration": 15,
    "start_time": "2022-07-24T10:44:51.667Z"
   },
   {
    "duration": 16,
    "start_time": "2022-07-24T10:44:51.684Z"
   },
   {
    "duration": 25,
    "start_time": "2022-07-24T10:44:51.702Z"
   },
   {
    "duration": 34,
    "start_time": "2022-07-24T10:44:51.729Z"
   },
   {
    "duration": 26,
    "start_time": "2022-07-24T10:44:51.765Z"
   },
   {
    "duration": 27,
    "start_time": "2022-07-24T10:44:51.793Z"
   },
   {
    "duration": 37,
    "start_time": "2022-07-24T10:44:51.822Z"
   },
   {
    "duration": 23,
    "start_time": "2022-07-24T10:44:51.861Z"
   },
   {
    "duration": 31,
    "start_time": "2022-07-24T10:44:51.886Z"
   },
   {
    "duration": 45,
    "start_time": "2022-07-24T10:44:51.919Z"
   },
   {
    "duration": 9,
    "start_time": "2022-07-24T10:44:51.966Z"
   },
   {
    "duration": 19,
    "start_time": "2022-07-24T10:44:51.977Z"
   },
   {
    "duration": 17,
    "start_time": "2022-07-24T10:44:52.000Z"
   },
   {
    "duration": 14,
    "start_time": "2022-07-24T10:44:52.019Z"
   },
   {
    "duration": 27,
    "start_time": "2022-07-24T10:44:52.035Z"
   },
   {
    "duration": 20,
    "start_time": "2022-07-24T10:44:52.064Z"
   },
   {
    "duration": 16,
    "start_time": "2022-07-24T10:44:52.086Z"
   },
   {
    "duration": 33,
    "start_time": "2022-07-24T10:44:52.105Z"
   },
   {
    "duration": 26,
    "start_time": "2022-07-24T10:44:52.140Z"
   },
   {
    "duration": 8,
    "start_time": "2022-07-24T10:44:52.169Z"
   },
   {
    "duration": 30,
    "start_time": "2022-07-24T10:44:52.178Z"
   }
  ],
  "kernelspec": {
   "display_name": "Python 3 (ipykernel)",
   "language": "python",
   "name": "python3"
  },
  "language_info": {
   "codemirror_mode": {
    "name": "ipython",
    "version": 3
   },
   "file_extension": ".py",
   "mimetype": "text/x-python",
   "name": "python",
   "nbconvert_exporter": "python",
   "pygments_lexer": "ipython3",
   "version": "3.9.5"
  },
  "toc": {
   "base_numbering": 1,
   "nav_menu": {},
   "number_sections": true,
   "sideBar": true,
   "skip_h1_title": true,
   "title_cell": "Table of Contents",
   "title_sidebar": "Contents",
   "toc_cell": false,
   "toc_position": {},
   "toc_section_display": true,
   "toc_window_display": false
  }
 },
 "nbformat": 4,
 "nbformat_minor": 5
}
