{
 "cells": [
  {
   "cell_type": "markdown",
   "metadata": {
    "toc": true
   },
   "source": [
    "<h1>Содержание<span class=\"tocSkip\"></span></h1>\n",
    "<div class=\"toc\"><ul class=\"toc-item\"><li><span><a href=\"#Описание-данных\" data-toc-modified-id=\"Описание-данных-1\"><span class=\"toc-item-num\">1&nbsp;&nbsp;</span>Описание данных</a></span></li><li><span><a href=\"#Подготовка-данных\" data-toc-modified-id=\"Подготовка-данных-2\"><span class=\"toc-item-num\">2&nbsp;&nbsp;</span>Подготовка данных</a></span><ul class=\"toc-item\"><li><span><a href=\"#ОТВЕТ:\" data-toc-modified-id=\"ОТВЕТ:-2.1\"><span class=\"toc-item-num\">2.1&nbsp;&nbsp;</span>ОТВЕТ:</a></span></li></ul></li><li><span><a href=\"#Исследование-задачи\" data-toc-modified-id=\"Исследование-задачи-3\"><span class=\"toc-item-num\">3&nbsp;&nbsp;</span>Исследование задачи</a></span></li><li><span><a href=\"#Борьба-с-дисбалансом\" data-toc-modified-id=\"Борьба-с-дисбалансом-4\"><span class=\"toc-item-num\">4&nbsp;&nbsp;</span>Борьба с дисбалансом</a></span></li><li><span><a href=\"#Тестирование-модели\" data-toc-modified-id=\"Тестирование-модели-5\"><span class=\"toc-item-num\">5&nbsp;&nbsp;</span>Тестирование модели</a></span><ul class=\"toc-item\"><li><span><a href=\"#Проверка-на-адекватность\" data-toc-modified-id=\"Проверка-на-адекватность-5.1\"><span class=\"toc-item-num\">5.1&nbsp;&nbsp;</span>Проверка на адекватность</a></span></li><li><span><a href=\"#Тестируем-модель\" data-toc-modified-id=\"Тестируем-модель-5.2\"><span class=\"toc-item-num\">5.2&nbsp;&nbsp;</span>Тестируем модель</a></span></li><li><span><a href=\"#Вывод:\" data-toc-modified-id=\"Вывод:-5.3\"><span class=\"toc-item-num\">5.3&nbsp;&nbsp;</span>Вывод:</a></span></li></ul></li><li><span><a href=\"#Вывод-по-результатам-исследования\" data-toc-modified-id=\"Вывод-по-результатам-исследования-6\"><span class=\"toc-item-num\">6&nbsp;&nbsp;</span>Вывод по результатам исследования</a></span></li><li><span><a href=\"#Чек-лист-готовности-проекта\" data-toc-modified-id=\"Чек-лист-готовности-проекта-7\"><span class=\"toc-item-num\">7&nbsp;&nbsp;</span>Чек-лист готовности проекта</a></span></li></ul></div>"
   ]
  },
  {
   "cell_type": "markdown",
   "metadata": {},
   "source": [
    "# Отток клиентов"
   ]
  },
  {
   "cell_type": "markdown",
   "metadata": {},
   "source": [
    "Из «Бета-Банка» стали уходить клиенты. Каждый месяц. Немного, но заметно. Банковские маркетологи посчитали: сохранять текущих клиентов дешевле, чем привлекать новых.\n",
    "\n",
    "Нужно спрогнозировать, уйдёт клиент из банка в ближайшее время или нет. Вам предоставлены исторические данные о поведении клиентов и расторжении договоров с банком. \n",
    "\n",
    "Постройте модель с предельно большим значением *F1*-меры. Чтобы сдать проект успешно, нужно довести метрику до 0.59. Проверьте *F1*-меру на тестовой выборке самостоятельно.\n",
    "\n",
    "Дополнительно измеряйте *AUC-ROC*, сравнивайте её значение с *F1*-мерой.\n",
    "\n",
    "Источник данных: [https://www.kaggle.com/barelydedicated/bank-customer-churn-modeling](https://www.kaggle.com/barelydedicated/bank-customer-churn-modeling)"
   ]
  },
  {
   "cell_type": "markdown",
   "metadata": {},
   "source": [
    "## Описание данных\n",
    "\n",
    "Признаки:\n",
    "\n",
    "    RowNumber — индекс строки в данных\n",
    "    CustomerId — уникальный идентификатор клиента\n",
    "    Surname — фамилия\n",
    "    CreditScore — кредитный рейтинг\n",
    "    Geography — страна проживания\n",
    "    Gender — пол\n",
    "    Age — возраст\n",
    "    Tenure — количество недвижимости у клиента\n",
    "    Balance — баланс на счёте\n",
    "    NumOfProducts — количество продуктов банка, используемых клиентом\n",
    "    HasCrCard — наличие кредитной карты\n",
    "    IsActiveMember — активность клиента\n",
    "    EstimatedSalary — предполагаемая зарплата\n",
    "    \n",
    "Целевой признак:\n",
    "\n",
    "    Exited — факт ухода клиента"
   ]
  },
  {
   "cell_type": "markdown",
   "metadata": {},
   "source": [
    "## Подготовка данных"
   ]
  },
  {
   "cell_type": "code",
   "execution_count": 1,
   "metadata": {},
   "outputs": [],
   "source": [
    "import pandas as pd\n",
    "import matplotlib.pyplot as plt\n",
    "from sklearn.tree import DecisionTreeClassifier\n",
    "from sklearn.ensemble import RandomForestClassifier\n",
    "from sklearn.linear_model import LogisticRegression\n",
    "from sklearn.model_selection import train_test_split\n",
    "from sklearn.preprocessing import StandardScaler\n",
    "from sklearn.utils import shuffle\n",
    "from sklearn.metrics import accuracy_score, precision_score, recall_score, roc_auc_score, roc_curve, f1_score\n",
    "import warnings\n",
    "warnings.filterwarnings('ignore')\n",
    "df = pd.read_csv('/datasets/Churn.csv')"
   ]
  },
  {
   "cell_type": "code",
   "execution_count": 2,
   "metadata": {},
   "outputs": [
    {
     "name": "stdout",
     "output_type": "stream",
     "text": [
      "<class 'pandas.core.frame.DataFrame'>\n",
      "RangeIndex: 10000 entries, 0 to 9999\n",
      "Data columns (total 14 columns):\n",
      " #   Column           Non-Null Count  Dtype  \n",
      "---  ------           --------------  -----  \n",
      " 0   RowNumber        10000 non-null  int64  \n",
      " 1   CustomerId       10000 non-null  int64  \n",
      " 2   Surname          10000 non-null  object \n",
      " 3   CreditScore      10000 non-null  int64  \n",
      " 4   Geography        10000 non-null  object \n",
      " 5   Gender           10000 non-null  object \n",
      " 6   Age              10000 non-null  int64  \n",
      " 7   Tenure           9091 non-null   float64\n",
      " 8   Balance          10000 non-null  float64\n",
      " 9   NumOfProducts    10000 non-null  int64  \n",
      " 10  HasCrCard        10000 non-null  int64  \n",
      " 11  IsActiveMember   10000 non-null  int64  \n",
      " 12  EstimatedSalary  10000 non-null  float64\n",
      " 13  Exited           10000 non-null  int64  \n",
      "dtypes: float64(3), int64(8), object(3)\n",
      "memory usage: 1.1+ MB\n"
     ]
    }
   ],
   "source": [
    "df.info()"
   ]
  },
  {
   "cell_type": "code",
   "execution_count": 3,
   "metadata": {},
   "outputs": [
    {
     "data": {
      "text/html": [
       "<div>\n",
       "<style scoped>\n",
       "    .dataframe tbody tr th:only-of-type {\n",
       "        vertical-align: middle;\n",
       "    }\n",
       "\n",
       "    .dataframe tbody tr th {\n",
       "        vertical-align: top;\n",
       "    }\n",
       "\n",
       "    .dataframe thead th {\n",
       "        text-align: right;\n",
       "    }\n",
       "</style>\n",
       "<table border=\"1\" class=\"dataframe\">\n",
       "  <thead>\n",
       "    <tr style=\"text-align: right;\">\n",
       "      <th></th>\n",
       "      <th>RowNumber</th>\n",
       "      <th>CustomerId</th>\n",
       "      <th>Surname</th>\n",
       "      <th>CreditScore</th>\n",
       "      <th>Geography</th>\n",
       "      <th>Gender</th>\n",
       "      <th>Age</th>\n",
       "      <th>Tenure</th>\n",
       "      <th>Balance</th>\n",
       "      <th>NumOfProducts</th>\n",
       "      <th>HasCrCard</th>\n",
       "      <th>IsActiveMember</th>\n",
       "      <th>EstimatedSalary</th>\n",
       "      <th>Exited</th>\n",
       "    </tr>\n",
       "  </thead>\n",
       "  <tbody>\n",
       "    <tr>\n",
       "      <th>0</th>\n",
       "      <td>1</td>\n",
       "      <td>15634602</td>\n",
       "      <td>Hargrave</td>\n",
       "      <td>619</td>\n",
       "      <td>France</td>\n",
       "      <td>Female</td>\n",
       "      <td>42</td>\n",
       "      <td>2.0</td>\n",
       "      <td>0.00</td>\n",
       "      <td>1</td>\n",
       "      <td>1</td>\n",
       "      <td>1</td>\n",
       "      <td>101348.88</td>\n",
       "      <td>1</td>\n",
       "    </tr>\n",
       "    <tr>\n",
       "      <th>1</th>\n",
       "      <td>2</td>\n",
       "      <td>15647311</td>\n",
       "      <td>Hill</td>\n",
       "      <td>608</td>\n",
       "      <td>Spain</td>\n",
       "      <td>Female</td>\n",
       "      <td>41</td>\n",
       "      <td>1.0</td>\n",
       "      <td>83807.86</td>\n",
       "      <td>1</td>\n",
       "      <td>0</td>\n",
       "      <td>1</td>\n",
       "      <td>112542.58</td>\n",
       "      <td>0</td>\n",
       "    </tr>\n",
       "    <tr>\n",
       "      <th>2</th>\n",
       "      <td>3</td>\n",
       "      <td>15619304</td>\n",
       "      <td>Onio</td>\n",
       "      <td>502</td>\n",
       "      <td>France</td>\n",
       "      <td>Female</td>\n",
       "      <td>42</td>\n",
       "      <td>8.0</td>\n",
       "      <td>159660.80</td>\n",
       "      <td>3</td>\n",
       "      <td>1</td>\n",
       "      <td>0</td>\n",
       "      <td>113931.57</td>\n",
       "      <td>1</td>\n",
       "    </tr>\n",
       "    <tr>\n",
       "      <th>3</th>\n",
       "      <td>4</td>\n",
       "      <td>15701354</td>\n",
       "      <td>Boni</td>\n",
       "      <td>699</td>\n",
       "      <td>France</td>\n",
       "      <td>Female</td>\n",
       "      <td>39</td>\n",
       "      <td>1.0</td>\n",
       "      <td>0.00</td>\n",
       "      <td>2</td>\n",
       "      <td>0</td>\n",
       "      <td>0</td>\n",
       "      <td>93826.63</td>\n",
       "      <td>0</td>\n",
       "    </tr>\n",
       "    <tr>\n",
       "      <th>4</th>\n",
       "      <td>5</td>\n",
       "      <td>15737888</td>\n",
       "      <td>Mitchell</td>\n",
       "      <td>850</td>\n",
       "      <td>Spain</td>\n",
       "      <td>Female</td>\n",
       "      <td>43</td>\n",
       "      <td>2.0</td>\n",
       "      <td>125510.82</td>\n",
       "      <td>1</td>\n",
       "      <td>1</td>\n",
       "      <td>1</td>\n",
       "      <td>79084.10</td>\n",
       "      <td>0</td>\n",
       "    </tr>\n",
       "  </tbody>\n",
       "</table>\n",
       "</div>"
      ],
      "text/plain": [
       "   RowNumber  CustomerId   Surname  CreditScore Geography  Gender  Age  \\\n",
       "0          1    15634602  Hargrave          619    France  Female   42   \n",
       "1          2    15647311      Hill          608     Spain  Female   41   \n",
       "2          3    15619304      Onio          502    France  Female   42   \n",
       "3          4    15701354      Boni          699    France  Female   39   \n",
       "4          5    15737888  Mitchell          850     Spain  Female   43   \n",
       "\n",
       "   Tenure    Balance  NumOfProducts  HasCrCard  IsActiveMember  \\\n",
       "0     2.0       0.00              1          1               1   \n",
       "1     1.0   83807.86              1          0               1   \n",
       "2     8.0  159660.80              3          1               0   \n",
       "3     1.0       0.00              2          0               0   \n",
       "4     2.0  125510.82              1          1               1   \n",
       "\n",
       "   EstimatedSalary  Exited  \n",
       "0        101348.88       1  \n",
       "1        112542.58       0  \n",
       "2        113931.57       1  \n",
       "3         93826.63       0  \n",
       "4         79084.10       0  "
      ]
     },
     "execution_count": 3,
     "metadata": {},
     "output_type": "execute_result"
    }
   ],
   "source": [
    "df.head()"
   ]
  },
  {
   "cell_type": "code",
   "execution_count": 4,
   "metadata": {},
   "outputs": [
    {
     "data": {
      "image/png": "[encoded data removed]",
      "text/plain": [
       "<Figure size 864x720 with 5 Axes>"
      ]
     },
     "metadata": {
      "needs_background": "light"
     },
     "output_type": "display_data"
    }
   ],
   "source": [
    "import seaborn as sb\n",
    "import matplotlib.pyplot as plt \n",
    "\n",
    "plt.figure(figsize=(12,10))\n",
    "columns = ['HasCrCard', 'Gender', 'IsActiveMember', 'NumOfProducts', 'Geography']\n",
    "for i in range(5):\n",
    "    plt.subplot(3, 2, i+1)\n",
    "    sb.countplot(x=columns[i], hue='Exited', data=df)\n",
    "    plt.xticks(rotation=0)\n",
    "    plt.legend([\"Not Exited\", \"Exited\"])\n",
    "plt.show()"
   ]
  },
  {
   "cell_type": "markdown",
   "metadata": {},
   "source": [
    "    RowNumber — столбец дублирует индекс(можно удалить)\n",
    "    Surname — можно удалить\n",
    "    CustomerId - можно удалить\n",
    "    Geography, Gender — преобразовать методом One hot Encoder\n",
    "    Tenure — заменим средним\n",
    "    CreditScore, Age, Tenur, Balance, NumOfProducts, EstimatedSalary — масштабируем"
   ]
  },
  {
   "cell_type": "code",
   "execution_count": 5,
   "metadata": {},
   "outputs": [],
   "source": [
    "# Удаляю лишние столбцы\n",
    "df=df.drop(['RowNumber','Surname', 'CustomerId'], axis=1)"
   ]
  },
  {
   "cell_type": "code",
   "execution_count": 6,
   "metadata": {},
   "outputs": [],
   "source": [
    "# Заполняю пропуски на среднее\n",
    "df['Tenure'] = df['Tenure'].fillna(df['Tenure'].mean()).astype('int64')"
   ]
  },
  {
   "cell_type": "code",
   "execution_count": 7,
   "metadata": {},
   "outputs": [
    {
     "data": {
      "text/html": [
       "<div>\n",
       "<style scoped>\n",
       "    .dataframe tbody tr th:only-of-type {\n",
       "        vertical-align: middle;\n",
       "    }\n",
       "\n",
       "    .dataframe tbody tr th {\n",
       "        vertical-align: top;\n",
       "    }\n",
       "\n",
       "    .dataframe thead th {\n",
       "        text-align: right;\n",
       "    }\n",
       "</style>\n",
       "<table border=\"1\" class=\"dataframe\">\n",
       "  <thead>\n",
       "    <tr style=\"text-align: right;\">\n",
       "      <th></th>\n",
       "      <th>CreditScore</th>\n",
       "      <th>Age</th>\n",
       "      <th>Tenure</th>\n",
       "      <th>Balance</th>\n",
       "      <th>NumOfProducts</th>\n",
       "      <th>HasCrCard</th>\n",
       "      <th>IsActiveMember</th>\n",
       "      <th>EstimatedSalary</th>\n",
       "      <th>Exited</th>\n",
       "      <th>Geography_Germany</th>\n",
       "      <th>Geography_Spain</th>\n",
       "      <th>Gender_Male</th>\n",
       "    </tr>\n",
       "  </thead>\n",
       "  <tbody>\n",
       "    <tr>\n",
       "      <th>0</th>\n",
       "      <td>619</td>\n",
       "      <td>42</td>\n",
       "      <td>2</td>\n",
       "      <td>0.00</td>\n",
       "      <td>1</td>\n",
       "      <td>1</td>\n",
       "      <td>1</td>\n",
       "      <td>101348.88</td>\n",
       "      <td>1</td>\n",
       "      <td>0</td>\n",
       "      <td>0</td>\n",
       "      <td>0</td>\n",
       "    </tr>\n",
       "    <tr>\n",
       "      <th>1</th>\n",
       "      <td>608</td>\n",
       "      <td>41</td>\n",
       "      <td>1</td>\n",
       "      <td>83807.86</td>\n",
       "      <td>1</td>\n",
       "      <td>0</td>\n",
       "      <td>1</td>\n",
       "      <td>112542.58</td>\n",
       "      <td>0</td>\n",
       "      <td>0</td>\n",
       "      <td>1</td>\n",
       "      <td>0</td>\n",
       "    </tr>\n",
       "    <tr>\n",
       "      <th>2</th>\n",
       "      <td>502</td>\n",
       "      <td>42</td>\n",
       "      <td>8</td>\n",
       "      <td>159660.80</td>\n",
       "      <td>3</td>\n",
       "      <td>1</td>\n",
       "      <td>0</td>\n",
       "      <td>113931.57</td>\n",
       "      <td>1</td>\n",
       "      <td>0</td>\n",
       "      <td>0</td>\n",
       "      <td>0</td>\n",
       "    </tr>\n",
       "    <tr>\n",
       "      <th>3</th>\n",
       "      <td>699</td>\n",
       "      <td>39</td>\n",
       "      <td>1</td>\n",
       "      <td>0.00</td>\n",
       "      <td>2</td>\n",
       "      <td>0</td>\n",
       "      <td>0</td>\n",
       "      <td>93826.63</td>\n",
       "      <td>0</td>\n",
       "      <td>0</td>\n",
       "      <td>0</td>\n",
       "      <td>0</td>\n",
       "    </tr>\n",
       "    <tr>\n",
       "      <th>4</th>\n",
       "      <td>850</td>\n",
       "      <td>43</td>\n",
       "      <td>2</td>\n",
       "      <td>125510.82</td>\n",
       "      <td>1</td>\n",
       "      <td>1</td>\n",
       "      <td>1</td>\n",
       "      <td>79084.10</td>\n",
       "      <td>0</td>\n",
       "      <td>0</td>\n",
       "      <td>1</td>\n",
       "      <td>0</td>\n",
       "    </tr>\n",
       "  </tbody>\n",
       "</table>\n",
       "</div>"
      ],
      "text/plain": [
       "   CreditScore  Age  Tenure    Balance  NumOfProducts  HasCrCard  \\\n",
       "0          619   42       2       0.00              1          1   \n",
       "1          608   41       1   83807.86              1          0   \n",
       "2          502   42       8  159660.80              3          1   \n",
       "3          699   39       1       0.00              2          0   \n",
       "4          850   43       2  125510.82              1          1   \n",
       "\n",
       "   IsActiveMember  EstimatedSalary  Exited  Geography_Germany  \\\n",
       "0               1        101348.88       1                  0   \n",
       "1               1        112542.58       0                  0   \n",
       "2               0        113931.57       1                  0   \n",
       "3               0         93826.63       0                  0   \n",
       "4               1         79084.10       0                  0   \n",
       "\n",
       "   Geography_Spain  Gender_Male  \n",
       "0                0            0  \n",
       "1                1            0  \n",
       "2                0            0  \n",
       "3                0            0  \n",
       "4                1            0  "
      ]
     },
     "execution_count": 7,
     "metadata": {},
     "output_type": "execute_result"
    }
   ],
   "source": [
    "# Избавляюсь от категориальных признаков\n",
    "df = pd.get_dummies(df, drop_first=True)\n",
    "df.head()"
   ]
  },
  {
   "cell_type": "markdown",
   "metadata": {},
   "source": [
    "В нашем случае нет отдельно выделенной тестовой выборки, поэтому существющие данные мы делим на три выборки:\n",
    "обучающая 60% для обучения модели\n",
    "валидационная 20% для выбора лучшего алгоритма и оптимальных параметров\n",
    "тестовая 20% для финального теста лучшей модели.\n",
    "\n",
    "Разделение выборки производили в 2 этапа:\n",
    "Выделили валидационную 60%\n",
    "Разделили оставшиеся 40% на 2 равные части (валидационная и тестовая)"
   ]
  },
  {
   "cell_type": "code",
   "execution_count": 8,
   "metadata": {},
   "outputs": [
    {
     "name": "stdout",
     "output_type": "stream",
     "text": [
      "(6000, 11) (2000, 11) (2000, 11)\n",
      "(6000,) (2000,) (2000,)\n"
     ]
    }
   ],
   "source": [
    "# Разбиваем на параметры и целевой признак\n",
    "features=df.drop(['Exited'],axis=1)\n",
    "target=df['Exited']\n",
    "# Разбиваем на тренировочную, тестовую и валидационную выборки\n",
    "target = df['Exited']\n",
    "features = df.drop('Exited', axis=1)\n",
    "\n",
    "train_features, valid_features, train_target, valid_target = train_test_split(features, target, test_size=0.4, \n",
    "                                                                              random_state=12345)\n",
    "valid_features, test_features, valid_target, test_target = train_test_split(valid_features, valid_target, test_size=0.5, \n",
    "                                                                              random_state=12345 )\n",
    "print(train_features.shape, valid_features.shape, test_features.shape)\n",
    "print(train_target.shape, valid_target.shape, test_target.shape)"
   ]
  },
  {
   "cell_type": "code",
   "execution_count": 9,
   "metadata": {},
   "outputs": [
    {
     "data": {
      "text/html": [
       "<div>\n",
       "<style scoped>\n",
       "    .dataframe tbody tr th:only-of-type {\n",
       "        vertical-align: middle;\n",
       "    }\n",
       "\n",
       "    .dataframe tbody tr th {\n",
       "        vertical-align: top;\n",
       "    }\n",
       "\n",
       "    .dataframe thead th {\n",
       "        text-align: right;\n",
       "    }\n",
       "</style>\n",
       "<table border=\"1\" class=\"dataframe\">\n",
       "  <thead>\n",
       "    <tr style=\"text-align: right;\">\n",
       "      <th></th>\n",
       "      <th>CreditScore</th>\n",
       "      <th>Age</th>\n",
       "      <th>Tenure</th>\n",
       "      <th>Balance</th>\n",
       "      <th>NumOfProducts</th>\n",
       "      <th>HasCrCard</th>\n",
       "      <th>IsActiveMember</th>\n",
       "      <th>EstimatedSalary</th>\n",
       "      <th>Geography_Germany</th>\n",
       "      <th>Geography_Spain</th>\n",
       "      <th>Gender_Male</th>\n",
       "    </tr>\n",
       "  </thead>\n",
       "  <tbody>\n",
       "    <tr>\n",
       "      <th>7479</th>\n",
       "      <td>-0.886751</td>\n",
       "      <td>-0.373192</td>\n",
       "      <td>1.109334</td>\n",
       "      <td>1.232271</td>\n",
       "      <td>-0.891560</td>\n",
       "      <td>1</td>\n",
       "      <td>0</td>\n",
       "      <td>-0.187705</td>\n",
       "      <td>0</td>\n",
       "      <td>1</td>\n",
       "      <td>1</td>\n",
       "    </tr>\n",
       "    <tr>\n",
       "      <th>3411</th>\n",
       "      <td>0.608663</td>\n",
       "      <td>-0.183385</td>\n",
       "      <td>1.109334</td>\n",
       "      <td>0.600563</td>\n",
       "      <td>-0.891560</td>\n",
       "      <td>0</td>\n",
       "      <td>0</td>\n",
       "      <td>-0.333945</td>\n",
       "      <td>0</td>\n",
       "      <td>0</td>\n",
       "      <td>0</td>\n",
       "    </tr>\n",
       "    <tr>\n",
       "      <th>6027</th>\n",
       "      <td>2.052152</td>\n",
       "      <td>0.480939</td>\n",
       "      <td>-0.700051</td>\n",
       "      <td>1.027098</td>\n",
       "      <td>0.830152</td>\n",
       "      <td>0</td>\n",
       "      <td>1</td>\n",
       "      <td>1.503095</td>\n",
       "      <td>1</td>\n",
       "      <td>0</td>\n",
       "      <td>1</td>\n",
       "    </tr>\n",
       "    <tr>\n",
       "      <th>1247</th>\n",
       "      <td>-1.457915</td>\n",
       "      <td>-1.417129</td>\n",
       "      <td>0.385580</td>\n",
       "      <td>-1.233163</td>\n",
       "      <td>0.830152</td>\n",
       "      <td>1</td>\n",
       "      <td>0</td>\n",
       "      <td>-1.071061</td>\n",
       "      <td>0</td>\n",
       "      <td>0</td>\n",
       "      <td>1</td>\n",
       "    </tr>\n",
       "    <tr>\n",
       "      <th>3716</th>\n",
       "      <td>0.130961</td>\n",
       "      <td>-1.132419</td>\n",
       "      <td>-1.061928</td>\n",
       "      <td>1.140475</td>\n",
       "      <td>-0.891560</td>\n",
       "      <td>0</td>\n",
       "      <td>0</td>\n",
       "      <td>1.524268</td>\n",
       "      <td>1</td>\n",
       "      <td>0</td>\n",
       "      <td>0</td>\n",
       "    </tr>\n",
       "  </tbody>\n",
       "</table>\n",
       "</div>"
      ],
      "text/plain": [
       "      CreditScore       Age    Tenure   Balance  NumOfProducts  HasCrCard  \\\n",
       "7479    -0.886751 -0.373192  1.109334  1.232271      -0.891560          1   \n",
       "3411     0.608663 -0.183385  1.109334  0.600563      -0.891560          0   \n",
       "6027     2.052152  0.480939 -0.700051  1.027098       0.830152          0   \n",
       "1247    -1.457915 -1.417129  0.385580 -1.233163       0.830152          1   \n",
       "3716     0.130961 -1.132419 -1.061928  1.140475      -0.891560          0   \n",
       "\n",
       "      IsActiveMember  EstimatedSalary  Geography_Germany  Geography_Spain  \\\n",
       "7479               0        -0.187705                  0                1   \n",
       "3411               0        -0.333945                  0                0   \n",
       "6027               1         1.503095                  1                0   \n",
       "1247               0        -1.071061                  0                0   \n",
       "3716               0         1.524268                  1                0   \n",
       "\n",
       "      Gender_Male  \n",
       "7479            1  \n",
       "3411            0  \n",
       "6027            1  \n",
       "1247            1  \n",
       "3716            0  "
      ]
     },
     "execution_count": 9,
     "metadata": {},
     "output_type": "execute_result"
    }
   ],
   "source": [
    "# Масштабируем численные признаки выборок для выравнивания весов\n",
    "numeric=['CreditScore', 'Age', 'Tenure', 'Balance', 'NumOfProducts', 'EstimatedSalary']\n",
    "scaler=StandardScaler()\n",
    "scaler.fit(train_features[numeric])\n",
    "train_features[numeric]=scaler.transform(train_features[numeric])\n",
    "valid_features[numeric]=scaler.transform(valid_features[numeric])\n",
    "test_features[numeric]=scaler.transform(test_features[numeric])\n",
    "train_features.head()"
   ]
  },
  {
   "cell_type": "markdown",
   "metadata": {},
   "source": [
    "## Исследование задачи"
   ]
  },
  {
   "cell_type": "code",
   "execution_count": 10,
   "metadata": {},
   "outputs": [
    {
     "data": {
      "text/plain": [
       "0    7963\n",
       "1    2037\n",
       "Name: Exited, dtype: int64"
      ]
     },
     "execution_count": 10,
     "metadata": {},
     "output_type": "execute_result"
    },
    {
     "data": {
      "image/png": "[encoded data removed]",
      "text/plain": [
       "<Figure size 648x432 with 1 Axes>"
      ]
     },
     "metadata": {
      "needs_background": "light"
     },
     "output_type": "display_data"
    }
   ],
   "source": [
    "df['Exited'].value_counts().plot(kind='bar',figsize=(9,6),title='Oтношение клиентов')\n",
    "df['Exited'].value_counts()"
   ]
  },
  {
   "cell_type": "markdown",
   "metadata": {},
   "source": [
    "Есть дисбаланс классов в пользу оставшихся клиентов. Это может привести модель к склонению в распространённый вариант ответа."
   ]
  },
  {
   "cell_type": "markdown",
   "metadata": {},
   "source": [
    "Обучение моделей:\n",
    "\n",
    "    Решающее дерево\n",
    "    Случайный лес\n",
    "    Логистическая регрессия\n",
    "\n",
    "1) Обучение модели дерева решений с перебором глубины, найдем гиперпараметры с наибольшей метрикой f1.\n",
    "\n",
    "2) Обучение модели случайного леса с перебором гиперпараметров, которые дают наибольшую метрику f1.\n",
    "\n",
    "3) Обучение и оценка метрик с помощью модели Логистической регрессии"
   ]
  },
  {
   "cell_type": "code",
   "execution_count": 11,
   "metadata": {},
   "outputs": [
    {
     "name": "stdout",
     "output_type": "stream",
     "text": [
      "Max depth 9 F1-score 0.5722300140252455\n"
     ]
    }
   ],
   "source": [
    "# Обучение модели дерева решений\n",
    "f1_best = 0\n",
    "depth_best = 0\n",
    "for depth in range(7, 11):\n",
    "    model = DecisionTreeClassifier(random_state=12345, max_depth=depth)\n",
    "    model.fit(train_features, train_target)\n",
    "    prediction = model.predict(valid_features)\n",
    "    f1 = f1_score(valid_target, prediction)\n",
    "    if f1>f1_best:\n",
    "            f1_best=f1\n",
    "            depth_best=depth\n",
    "print('Max depth', depth_best,'F1-score', f1_best)"
   ]
  },
  {
   "cell_type": "code",
   "execution_count": 12,
   "metadata": {},
   "outputs": [
    {
     "name": "stdout",
     "output_type": "stream",
     "text": [
      "Accuracy 0.8475\n",
      "Precision 0.6915254237288135\n",
      "Recall 0.4880382775119617\n",
      "F1 0.5722300140252455\n",
      "AUC-ROC 0.78270041556022\n"
     ]
    }
   ],
   "source": [
    "#Проведем оценку accuracy, precision, recall, F1, AUC-ROC на полученных гиперпараметрах\n",
    "model = DecisionTreeClassifier(random_state=12345, max_depth=9)\n",
    "model.fit(train_features, train_target)\n",
    "prediction = model.predict(valid_features)\n",
    "print('Accuracy', accuracy_score(valid_target, prediction))\n",
    "print('Precision', precision_score(valid_target, prediction))\n",
    "print('Recall', recall_score(valid_target, prediction))\n",
    "print('F1', f1_score(valid_target, prediction))\n",
    "probabilities_valid = model.predict_proba(valid_features)[:, 1]\n",
    "print(\"AUC-ROC\", roc_auc_score(valid_target, probabilities_valid))"
   ]
  },
  {
   "cell_type": "code",
   "execution_count": 13,
   "metadata": {},
   "outputs": [
    {
     "name": "stdout",
     "output_type": "stream",
     "text": [
      "n_estimators = 62 Max depth 11 F1-score 0.588957055214724\n"
     ]
    }
   ],
   "source": [
    "#Обучение модели случайного леса\n",
    "estim_best = 0\n",
    "depth_best = 0\n",
    "\n",
    "for estim in range (60, 63):\n",
    "    for depth in range(10, 12):\n",
    "        model = RandomForestClassifier(n_estimators=estim, max_depth=depth, random_state=12345)\n",
    "        model.fit(train_features, train_target)\n",
    "        prediction = model.predict(valid_features)\n",
    "        f1 = f1_score(valid_target, prediction)\n",
    "        if f1>f1_best:\n",
    "            f1_best=f1\n",
    "            estim_best=estim\n",
    "            depth_best=depth\n",
    "        \n",
    "\n",
    "print('n_estimators =', estim_best, 'Max depth', depth_best, 'F1-score', f1_best)"
   ]
  },
  {
   "cell_type": "code",
   "execution_count": 14,
   "metadata": {},
   "outputs": [
    {
     "name": "stdout",
     "output_type": "stream",
     "text": [
      "Accuracy 0.8655\n",
      "Precision 0.8170212765957446\n",
      "Recall 0.45933014354066987\n",
      "F1 0.5880551301684532\n",
      "AUC-ROC 0.8474464520109607\n"
     ]
    }
   ],
   "source": [
    "#Проведем оценку accuracy, precision, recall, F1, AUC-ROC на полученных гиперпараметрах\n",
    "model = RandomForestClassifier(n_estimators=60, max_depth=11, random_state=12345)\n",
    "model.fit(train_features, train_target)\n",
    "prediction = model.predict(valid_features)\n",
    "print('Accuracy', accuracy_score(valid_target, prediction))\n",
    "print('Precision', precision_score(valid_target, prediction))\n",
    "print('Recall', recall_score(valid_target, prediction))\n",
    "print('F1', f1_score(valid_target, prediction))\n",
    "probabilities_valid = model.predict_proba(valid_features)[:, 1]\n",
    "print(\"AUC-ROC\", roc_auc_score(valid_target, probabilities_valid))"
   ]
  },
  {
   "cell_type": "code",
   "execution_count": 15,
   "metadata": {},
   "outputs": [
    {
     "name": "stdout",
     "output_type": "stream",
     "text": [
      "Accuracy 0.8025\n",
      "Precision 0.5657142857142857\n",
      "Recall 0.23684210526315788\n",
      "F1 0.33389544688026984\n",
      "AUC-ROC 0.758804190685886\n"
     ]
    }
   ],
   "source": [
    "#Обучение и оценка метрик с помощью модели Логистической регрессии\n",
    "model =  LogisticRegression()\n",
    "model.fit(train_features, train_target)\n",
    "prediction = model.predict(valid_features)\n",
    "print('Accuracy', accuracy_score(valid_target, prediction))\n",
    "print('Precision', precision_score(valid_target, prediction))\n",
    "print('Recall', recall_score(valid_target, prediction))\n",
    "print('F1', f1_score(valid_target, prediction))\n",
    "probabilities_valid = model.predict_proba(valid_features)[:, 1]\n",
    "print(\"AUC-ROC\", roc_auc_score(valid_target, probabilities_valid))"
   ]
  },
  {
   "cell_type": "markdown",
   "metadata": {},
   "source": [
    "Из-за несбалансированности данных, все модели имеют recall ниже, чем percision, это влияет на F-меру"
   ]
  },
  {
   "cell_type": "markdown",
   "metadata": {},
   "source": [
    "## Борьба с дисбалансом"
   ]
  },
  {
   "cell_type": "markdown",
   "metadata": {},
   "source": [
    "1) Обучение моделей с параметром автоматической регулировки весов"
   ]
  },
  {
   "cell_type": "code",
   "execution_count": 16,
   "metadata": {},
   "outputs": [
    {
     "name": "stdout",
     "output_type": "stream",
     "text": [
      "Max depth 5 F1-score 0.5963791267305644\n",
      "Accuracy 0.8105\n",
      "Precision 0.5374280230326296\n",
      "Recall 0.6698564593301436\n",
      "F1 0.5963791267305644\n",
      "AUC-ROC 0.8310244134068074\n"
     ]
    }
   ],
   "source": [
    "# Модель дерева решений\n",
    "# Подбор гиперпараметров\n",
    "f1_best = 0\n",
    "depth_best = 0\n",
    "for depth in range(2, 18): \n",
    "    model = DecisionTreeClassifier(random_state=12345, max_depth=depth, class_weight='balanced')\n",
    "    model.fit(train_features, train_target)\n",
    "    prediction = model.predict(valid_features)\n",
    "    f1 = f1_score(valid_target, prediction)\n",
    "    if f1>f1_best:\n",
    "            f1_best=f1\n",
    "            depth_best=depth\n",
    "print('Max depth', depth_best,'F1-score', f1_best)\n",
    "\n",
    "# Расчет метрик\n",
    "model = DecisionTreeClassifier(random_state=12345, max_depth=depth_best, class_weight='balanced')\n",
    "model.fit(train_features, train_target)\n",
    "prediction = model.predict(valid_features)\n",
    "print('Accuracy', accuracy_score(valid_target, prediction))\n",
    "print('Precision', precision_score(valid_target, prediction))\n",
    "print('Recall', recall_score(valid_target, prediction))\n",
    "print('F1', f1_score(valid_target, prediction))\n",
    "probabilities_valid = model.predict_proba(valid_features)[:, 1]\n",
    "print(\"AUC-ROC\", roc_auc_score(valid_target, probabilities_valid))"
   ]
  },
  {
   "cell_type": "code",
   "execution_count": 17,
   "metadata": {},
   "outputs": [
    {
     "name": "stdout",
     "output_type": "stream",
     "text": [
      "n_estimators = 91 Max depth 7 F1-score 0.630457933972311\n",
      "Accuracy 0.8265\n",
      "Precision 0.5681381957773513\n",
      "Recall 0.7081339712918661\n",
      "F1 0.630457933972311\n",
      "AUC-ROC 0.8543452355748582\n"
     ]
    }
   ],
   "source": [
    "# Модель случайного леса\n",
    "# Подбор гиперпараметров\n",
    "f1_best = 0\n",
    "estim_best = 0\n",
    "depth_best = 0\n",
    "\n",
    "for estim in range (91, 93):\n",
    "    for depth in range(7, 9):\n",
    "        model = RandomForestClassifier(n_estimators=estim, max_depth=depth, random_state=12345, class_weight='balanced')\n",
    "        model.fit(train_features, train_target)\n",
    "        prediction = model.predict(valid_features)\n",
    "        f1 = f1_score(valid_target, prediction)\n",
    "        if f1>f1_best:\n",
    "            f1_best=f1\n",
    "            estim_best=estim\n",
    "            depth_best=depth      \n",
    "print('n_estimators =', estim_best, 'Max depth', depth_best, 'F1-score', f1_best)\n",
    "\n",
    "# Расчет метрик\n",
    "model = RandomForestClassifier(n_estimators=estim_best, max_depth=depth_best, random_state=12345, class_weight='balanced')\n",
    "model.fit(train_features, train_target)\n",
    "prediction = model.predict(valid_features)\n",
    "print('Accuracy', accuracy_score(valid_target, prediction))\n",
    "print('Precision', precision_score(valid_target, prediction))\n",
    "print('Recall', recall_score(valid_target, prediction))\n",
    "print('F1', f1_score(valid_target, prediction))\n",
    "probabilities_valid = model.predict_proba(valid_features)[:, 1]\n",
    "print(\"AUC-ROC\", roc_auc_score(valid_target, probabilities_valid))"
   ]
  },
  {
   "cell_type": "code",
   "execution_count": 18,
   "metadata": {},
   "outputs": [
    {
     "name": "stdout",
     "output_type": "stream",
     "text": [
      "Accuracy 0.7015\n",
      "Precision 0.38050734312416556\n",
      "Recall 0.6818181818181818\n",
      "F1 0.48843187660668386\n",
      "AUC-ROC 0.763661466619082\n"
     ]
    }
   ],
   "source": [
    "# Модель логистической регрессии\n",
    "model =  LogisticRegression(class_weight='balanced')\n",
    "model.fit(train_features, train_target)\n",
    "prediction = model.predict(valid_features)\n",
    "print('Accuracy', accuracy_score(valid_target, prediction))\n",
    "print('Precision', precision_score(valid_target, prediction))\n",
    "print('Recall', recall_score(valid_target, prediction))\n",
    "print('F1', f1_score(valid_target, prediction))\n",
    "probabilities_valid = model.predict_proba(valid_features)[:, 1]\n",
    "print(\"AUC-ROC\", roc_auc_score(valid_target, probabilities_valid))"
   ]
  },
  {
   "cell_type": "markdown",
   "metadata": {},
   "source": [
    "F1-мера стала лучше"
   ]
  },
  {
   "cell_type": "markdown",
   "metadata": {},
   "source": [
    "2) Применим функцию Downsampling и уменьшим колличество target=0"
   ]
  },
  {
   "cell_type": "code",
   "execution_count": 19,
   "metadata": {},
   "outputs": [],
   "source": [
    "def downsampling(features,target,fraction):\n",
    "    #Разделяем выборку по значениям целевой функции\n",
    "    features_null=features[target==0]\n",
    "    features_one=features[target==1]\n",
    "    target_null=target[target==0]\n",
    "    target_one=target[target==1]\n",
    "    \n",
    "    #уменьшаем путем умножения на десятую часть и соединяем обратно\n",
    "    downsampling_features=pd.concat([features_null.sample(frac=fraction,random_state=12345)]+[features_one])\n",
    "    downsampling_target=pd.concat([target_null.sample(frac=fraction,random_state=12345)]+[target_one])\n",
    "    \n",
    "    # Перемешиваем\n",
    "    downsampling_features,downsampling_target=shuffle(downsampling_features,downsampling_target,random_state=12345)\n",
    "    \n",
    "    return downsampling_features,downsampling_target"
   ]
  },
  {
   "cell_type": "code",
   "execution_count": 20,
   "metadata": {},
   "outputs": [],
   "source": [
    "features_balance,target_balance=downsampling(features,target,0.25)"
   ]
  },
  {
   "cell_type": "code",
   "execution_count": 21,
   "metadata": {},
   "outputs": [
    {
     "name": "stdout",
     "output_type": "stream",
     "text": [
      "Max depth 4 F1-score 0.4020304568527919\n",
      "Accuracy 0.7055\n",
      "Precision 0.3492063492063492\n",
      "Recall 0.47368421052631576\n",
      "F1 0.4020304568527919\n",
      "AUC-ROC 0.6354404212461968\n"
     ]
    }
   ],
   "source": [
    "# Модель дерева решений\n",
    "# Подбор гиперпараметров\n",
    "f1_best = 0\n",
    "depth_best = 0\n",
    "for depth in range(2, 18): #(уменьшил ранг чтобы не грузить сервер, перебрал все заранее)\n",
    "    model = DecisionTreeClassifier(random_state=12345, max_depth=depth)\n",
    "    model.fit(features_balance,target_balance)\n",
    "    prediction = model.predict(valid_features)\n",
    "    f1 = f1_score(valid_target, prediction)\n",
    "    if f1>f1_best:\n",
    "            f1_best=f1\n",
    "            depth_best=depth\n",
    "print('Max depth', depth_best,'F1-score', f1_best)\n",
    "\n",
    "# Расчет метрик\n",
    "model = DecisionTreeClassifier(random_state=12345, max_depth=depth_best)\n",
    "model.fit(features_balance,target_balance)\n",
    "prediction = model.predict(valid_features)\n",
    "print('Accuracy', accuracy_score(valid_target, prediction))\n",
    "print('Precision', precision_score(valid_target, prediction))\n",
    "print('Recall', recall_score(valid_target, prediction))\n",
    "print('F1', f1_score(valid_target, prediction))\n",
    "probabilities_valid = model.predict_proba(valid_features)[:, 1]\n",
    "print(\"AUC-ROC\", roc_auc_score(valid_target, probabilities_valid))"
   ]
  },
  {
   "cell_type": "code",
   "execution_count": 22,
   "metadata": {},
   "outputs": [
    {
     "name": "stdout",
     "output_type": "stream",
     "text": [
      "n_estimators = 30 Max depth 9 F1-score 0.34763948497854075\n",
      "Accuracy 0.544\n",
      "Precision 0.2479591836734694\n",
      "Recall 0.5813397129186603\n",
      "F1 0.34763948497854075\n",
      "AUC-ROC 0.555519934187843\n"
     ]
    }
   ],
   "source": [
    "# Модель случайного леса\n",
    "# Подбор гиперпараметров\n",
    "f1_best = 0\n",
    "estim_best = 0\n",
    "depth_best = 0\n",
    "\n",
    "for estim in range (30, 31):\n",
    "    for depth in range(9, 10):\n",
    "        model = RandomForestClassifier(n_estimators=estim, max_depth=depth, random_state=12345)\n",
    "        model.fit(features_balance,target_balance)\n",
    "        prediction = model.predict(valid_features)\n",
    "        f1 = f1_score(valid_target, prediction)\n",
    "        if f1>f1_best:\n",
    "            f1_best=f1\n",
    "            estim_best=estim\n",
    "            depth_best=depth      \n",
    "print('n_estimators =', estim_best, 'Max depth', depth_best, 'F1-score', f1_best)\n",
    "\n",
    "# Расчет метрик\n",
    "model = RandomForestClassifier(n_estimators=estim_best, max_depth=depth_best, random_state=12345)\n",
    "model.fit(features_balance,target_balance)\n",
    "prediction = model.predict(valid_features)\n",
    "print('Accuracy', accuracy_score(valid_target, prediction))\n",
    "print('Precision', precision_score(valid_target, prediction))\n",
    "print('Recall', recall_score(valid_target, prediction))\n",
    "print('F1', f1_score(valid_target, prediction))\n",
    "probabilities_valid = model.predict_proba(valid_features)[:, 1]\n",
    "print(\"AUC-ROC\", roc_auc_score(valid_target, probabilities_valid))"
   ]
  },
  {
   "cell_type": "code",
   "execution_count": 23,
   "metadata": {},
   "outputs": [
    {
     "name": "stdout",
     "output_type": "stream",
     "text": [
      "Accuracy 0.6715\n",
      "Precision 0.3595769682726204\n",
      "Recall 0.7320574162679426\n",
      "AUC-ROC 0.7452122865490355\n"
     ]
    }
   ],
   "source": [
    "# Модель логистической регрессии\n",
    "model =  LogisticRegression()\n",
    "model.fit(features_balance,target_balance)\n",
    "prediction = model.predict(valid_features)\n",
    "print('Accuracy', accuracy_score(valid_target, prediction))\n",
    "print('Precision', precision_score(valid_target, prediction))\n",
    "print('Recall', recall_score(valid_target, prediction))\n",
    "probabilities_valid = model.predict_proba(valid_features)[:, 1]\n",
    "print(\"AUC-ROC\", roc_auc_score(valid_target, probabilities_valid))"
   ]
  },
  {
   "cell_type": "markdown",
   "metadata": {},
   "source": [
    "Метрики стали хуже, такой баланс данных не подходит"
   ]
  },
  {
   "cell_type": "markdown",
   "metadata": {},
   "source": [
    "3) Применим функцию Upsampling увеличим колличество target=0"
   ]
  },
  {
   "cell_type": "code",
   "execution_count": 24,
   "metadata": {},
   "outputs": [],
   "source": [
    "def upsampling (features,target,repeat):\n",
    "    #Разделяем выборку по значениям целевой функции\n",
    "    target_one=target[target==1]\n",
    "    target_null=target[target==0]\n",
    "    features_one=features[target==1]\n",
    "    features_null=features[target==0]\n",
    "    \n",
    "    #Увеличиваем и соединяем обратно\n",
    "    upsampling_features=pd.concat([features_null]+[features_one]*repeat)\n",
    "    upsampling_target=pd.concat([target_null]+[target_one]*repeat)\n",
    "    \n",
    "    # Перемешиваем\n",
    "    upsampling_features,upsampling_target=shuffle(upsampling_features,upsampling_target,random_state=12345)\n",
    "    \n",
    "    return upsampling_features,upsampling_target"
   ]
  },
  {
   "cell_type": "code",
   "execution_count": 25,
   "metadata": {},
   "outputs": [],
   "source": [
    "features_balance,target_balance=upsampling(train_features,train_target,4)"
   ]
  },
  {
   "cell_type": "code",
   "execution_count": 26,
   "metadata": {},
   "outputs": [
    {
     "name": "stdout",
     "output_type": "stream",
     "text": [
      "Max depth 5 F1-score 0.5963791267305644\n",
      "Accuracy 0.8105\n",
      "Precision 0.5374280230326296\n",
      "Recall 0.6698564593301436\n",
      "F1 0.5963791267305644\n",
      "AUC-ROC 0.8310244134068074\n"
     ]
    }
   ],
   "source": [
    "# Модель дерева решений\n",
    "# Подбор гиперпараметров\n",
    "f1_best = 0\n",
    "depth_best = 0\n",
    "for depth in range(4, 8):\n",
    "    model = DecisionTreeClassifier(random_state=12345, max_depth=depth)\n",
    "    model.fit(features_balance,target_balance)\n",
    "    prediction = model.predict(valid_features)\n",
    "    f1 = f1_score(valid_target, prediction)\n",
    "    if f1>f1_best:\n",
    "            f1_best=f1\n",
    "            depth_best=depth\n",
    "print('Max depth', depth_best,'F1-score', f1_best)\n",
    "\n",
    "# Расчет метрик\n",
    "model = DecisionTreeClassifier(random_state=12345, max_depth=depth_best)\n",
    "model.fit(features_balance,target_balance)\n",
    "prediction = model.predict(valid_features)\n",
    "print('Accuracy', accuracy_score(valid_target, prediction))\n",
    "print('Precision', precision_score(valid_target, prediction))\n",
    "print('Recall', recall_score(valid_target, prediction))\n",
    "print('F1', f1_score(valid_target, prediction))\n",
    "probabilities_valid = model.predict_proba(valid_features)[:, 1]\n",
    "print(\"AUC-ROC\", roc_auc_score(valid_target, probabilities_valid))\n",
    "fpr_tree, tpr_tree, thresholds = roc_curve(valid_target, probabilities_valid)"
   ]
  },
  {
   "cell_type": "code",
   "execution_count": 27,
   "metadata": {},
   "outputs": [
    {
     "name": "stdout",
     "output_type": "stream",
     "text": [
      "n_estimators = 57 Max depth 9 F1-score 0.6328042328042329\n",
      "Accuracy 0.8265\n",
      "Precision 0.5673624288425048\n",
      "Recall 0.715311004784689\n",
      "F1 0.6328042328042329\n",
      "AUC-ROC 0.855075641638287\n"
     ]
    }
   ],
   "source": [
    "# Модель случайного леса\n",
    "# Подбор гиперпараметров\n",
    "f1_best = 0\n",
    "estim_best = 0\n",
    "depth_best = 0\n",
    "\n",
    "for estim in range (56, 58):\n",
    "    for depth in range(8, 10):\n",
    "        model = RandomForestClassifier(n_estimators=estim, max_depth=depth, random_state=12345)\n",
    "        model.fit(features_balance,target_balance)\n",
    "        prediction = model.predict(valid_features)\n",
    "        f1 = f1_score(valid_target, prediction)\n",
    "        if f1>f1_best:\n",
    "            f1_best=f1\n",
    "            estim_best=estim\n",
    "            depth_best=depth      \n",
    "print('n_estimators =', estim_best, 'Max depth', depth_best, 'F1-score', f1_best)\n",
    "\n",
    "# Расчет метрик\n",
    "model = RandomForestClassifier(n_estimators=estim_best, max_depth=depth_best, random_state=12345)\n",
    "model.fit(features_balance,target_balance)\n",
    "prediction = model.predict(valid_features)\n",
    "print('Accuracy', accuracy_score(valid_target, prediction))\n",
    "print('Precision', precision_score(valid_target, prediction))\n",
    "print('Recall', recall_score(valid_target, prediction))\n",
    "print('F1', f1_score(valid_target, prediction))\n",
    "probabilities_valid = model.predict_proba(valid_features)[:, 1]\n",
    "print(\"AUC-ROC\", roc_auc_score(valid_target, probabilities_valid))\n",
    "fpr_forest, tpr_forest, thresholds = roc_curve(valid_target, probabilities_valid)"
   ]
  },
  {
   "cell_type": "code",
   "execution_count": 28,
   "metadata": {},
   "outputs": [
    {
     "name": "stdout",
     "output_type": "stream",
     "text": [
      "Accuracy 0.7015\n",
      "Precision 0.38050734312416556\n",
      "Recall 0.6818181818181818\n",
      "F1 0.48843187660668386\n",
      "AUC-ROC 0.6942592805424663\n"
     ]
    }
   ],
   "source": [
    "# Модель логистической регрессии\n",
    "model =  LogisticRegression()\n",
    "model.fit(features_balance,target_balance)\n",
    "prediction = model.predict(valid_features)\n",
    "print('Accuracy', accuracy_score(valid_target, prediction))\n",
    "print('Precision', precision_score(valid_target, prediction))\n",
    "print('Recall', recall_score(valid_target, prediction))\n",
    "print('F1', f1_score(valid_target, prediction))\n",
    "probabilities_valid = model.predict_proba(valid_features)[:, 1]\n",
    "print(\"AUC-ROC\", roc_auc_score(valid_target, prediction))\n",
    "fpr_log, tpr_log, thresholds = roc_curve(valid_target, probabilities_valid)"
   ]
  },
  {
   "cell_type": "code",
   "execution_count": 29,
   "metadata": {},
   "outputs": [
    {
     "data": {
      "text/plain": [
       "<Figure size 432x288 with 0 Axes>"
      ]
     },
     "metadata": {},
     "output_type": "display_data"
    },
    {
     "data": {
      "image/png": "[encoded data removed]",
      "text/plain": [
       "<Figure size 720x504 with 1 Axes>"
      ]
     },
     "metadata": {
      "needs_background": "light"
     },
     "output_type": "display_data"
    }
   ],
   "source": [
    "#Визуализируем AUC-ROC посредством графика площади\n",
    "\n",
    "plt.figure()\n",
    "\n",
    "plt.figure(figsize=(10,7))\n",
    "plt.plot([0, 1], [0, 1], linestyle='--')\n",
    "plt.xlim([0.0, 1.0])\n",
    "plt.ylim([0.0, 1.0])\n",
    "plt.plot(fpr_forest,tpr_forest)\n",
    "plt.plot(fpr_log,tpr_log)\n",
    "plt.plot(fpr_tree,tpr_tree)\n",
    "\n",
    "plt.xlabel('False Positive Rate')\n",
    "plt.ylabel('True Positive Rate')\n",
    "plt.title('ROC-кривая')\n",
    "plt.legend(('Случайная модель','Случайный лес','Логистическая регрессия','Дерево решения'),\n",
    "           loc= 'upper left') \n",
    "plt.show()"
   ]
  },
  {
   "cell_type": "markdown",
   "metadata": {},
   "source": [
    "Наилучшее качество модели было достигнуто при взвешивании классов параметром class_weight='balanced' с использование модели случайного леса. Так же метрика AUC-ROC случайного леса лучше остальных"
   ]
  },
  {
   "cell_type": "markdown",
   "metadata": {},
   "source": [
    "## Тестирование модели"
   ]
  },
  {
   "cell_type": "code",
   "execution_count": 30,
   "metadata": {},
   "outputs": [
    {
     "name": "stdout",
     "output_type": "stream",
     "text": [
      "Accuracy 0.8315\n",
      "Precision 0.5828220858895705\n",
      "Recall 0.6818181818181818\n",
      "F1 0.6284454244762954\n",
      "AUC-ROC 0.8569371941519124\n"
     ]
    }
   ],
   "source": [
    "#Обучим финальную модель\n",
    "model_final = RandomForestClassifier(n_estimators=100, max_depth=8, random_state=12345, class_weight='balanced')\n",
    "model_final.fit(train_features, train_target)\n",
    "prediction = model_final.predict(valid_features)\n",
    "print('Accuracy', accuracy_score(valid_target, prediction))\n",
    "print('Precision', precision_score(valid_target, prediction))\n",
    "print('Recall', recall_score(valid_target, prediction))\n",
    "print('F1', f1_score(valid_target, prediction))\n",
    "probabilities_valid = model_final.predict_proba(valid_features)[:, 1]\n",
    "print(\"AUC-ROC\", roc_auc_score(valid_target, probabilities_valid))"
   ]
  },
  {
   "cell_type": "markdown",
   "metadata": {},
   "source": [
    "### Проверка на адекватность"
   ]
  },
  {
   "cell_type": "code",
   "execution_count": 31,
   "metadata": {},
   "outputs": [
    {
     "data": {
      "text/plain": [
       "0    2000\n",
       "dtype: int64"
      ]
     },
     "execution_count": 31,
     "metadata": {},
     "output_type": "execute_result"
    }
   ],
   "source": [
    "#Создаем константную модель\n",
    "target_predict_constant = pd.Series([0]*len(valid_target))\n",
    "target_predict_constant.value_counts()"
   ]
  },
  {
   "cell_type": "code",
   "execution_count": 32,
   "metadata": {},
   "outputs": [
    {
     "name": "stdout",
     "output_type": "stream",
     "text": [
      "accuracy_score константой модели: 0.791\n",
      "accuracy_score финальной модели: 0.8315\n"
     ]
    }
   ],
   "source": [
    "#Сравним показатель точности (accuracy_score) константной модели и финальной\n",
    "print('accuracy_score константой модели:', accuracy_score(valid_target, target_predict_constant))\n",
    "print('accuracy_score финальной модели:', accuracy_score(valid_target, prediction))"
   ]
  },
  {
   "cell_type": "code",
   "execution_count": 33,
   "metadata": {},
   "outputs": [
    {
     "name": "stdout",
     "output_type": "stream",
     "text": [
      "AUC-ROC константой модели: 0.5\n",
      "AUC-ROC финальной модели: 0.8569371941519124\n"
     ]
    }
   ],
   "source": [
    "#Сравним AUC-ROC, остальные метрики не работают на константной модели.\n",
    "print('AUC-ROC константой модели:', roc_auc_score(valid_target, target_predict_constant))\n",
    "print('AUC-ROC финальной модели:', roc_auc_score(valid_target, probabilities_valid))"
   ]
  },
  {
   "cell_type": "markdown",
   "metadata": {},
   "source": [
    "Метрики финальной модели лучше, чем константной, соответственно, модель является адекватной"
   ]
  },
  {
   "cell_type": "markdown",
   "metadata": {},
   "source": [
    "### Тестируем модель"
   ]
  },
  {
   "cell_type": "code",
   "execution_count": 34,
   "metadata": {},
   "outputs": [
    {
     "name": "stdout",
     "output_type": "stream",
     "text": [
      "Accuracy 0.8235\n",
      "Precision 0.5697211155378487\n",
      "Recall 0.6761229314420804\n",
      "F1 0.6183783783783784\n",
      "AUC-ROC 0.856683921201791\n"
     ]
    }
   ],
   "source": [
    "model_final\n",
    "prediction = model_final.predict(test_features)\n",
    "print('Accuracy', accuracy_score(test_target, prediction))\n",
    "print('Precision', precision_score(test_target, prediction))\n",
    "print('Recall', recall_score(test_target, prediction))\n",
    "print('F1', f1_score(test_target, prediction))\n",
    "probabilities_valid = model_final.predict_proba(test_features)[:, 1]\n",
    "print(\"AUC-ROC\", roc_auc_score(test_target, probabilities_valid))\n",
    "fpr, tpr, thresholds = roc_curve(test_target, probabilities_valid)"
   ]
  },
  {
   "cell_type": "code",
   "execution_count": 35,
   "metadata": {},
   "outputs": [
    {
     "data": {
      "text/plain": [
       "<Figure size 432x288 with 0 Axes>"
      ]
     },
     "metadata": {},
     "output_type": "display_data"
    },
    {
     "data": {
      "image/png": "[encoded data removed]",
      "text/plain": [
       "<Figure size 720x504 with 1 Axes>"
      ]
     },
     "metadata": {
      "needs_background": "light"
     },
     "output_type": "display_data"
    }
   ],
   "source": [
    "plt.figure()\n",
    "\n",
    "plt.figure(figsize=(10,7))\n",
    "plt.plot([0, 1], [0, 1], linestyle='--')\n",
    "plt.xlim([0.0, 1.0])\n",
    "plt.ylim([0.0, 1.0])\n",
    "plt.plot(fpr,tpr)\n",
    "plt.xlabel('False Positive Rate')\n",
    "plt.ylabel('True Positive Rate')\n",
    "plt.title('ROC-кривая')\n",
    "plt.legend(('Случайная модель','Тестируемая модель'),\n",
    "           loc= 'upper left') \n",
    "plt.show()"
   ]
  },
  {
   "cell_type": "markdown",
   "metadata": {},
   "source": [
    "### Вывод:"
   ]
  },
  {
   "cell_type": "markdown",
   "metadata": {},
   "source": [
    "    Модели со сбалансированными данными путем увеличения количества недостающих классов показали себя лучше других видов баланса и несбалансированных моделей. \n",
    "    Финальная модель достигла заданой метрики (F1 > 0.59) и показывает адекватные результаты.\n",
    "    Модель характеризуется высоким показателем полноты = 0.67 (min = 0, max = 1), поэтому она с высокой вероятностью предскажит уход клиента из банка.\n",
    "    Показатель точности невысокий = 0.56 (min = 0, max = 1) — модель верно предсказывает только половину ухода клиентов.\n",
    "\n",
    "    С точки зрения бизнеса полученная модель поможет маркетологам лучше определять килентов, которые могут уйти в ближайшее время. Важно, что модель покрывает большое количество клиентов, в данном случае это важнее чем точность.\n",
    "    \n",
    "    Для улучшения модели следует использовать данные, отражающие отношения клиента с банком в динамике."
   ]
  },
  {
   "cell_type": "markdown",
   "metadata": {},
   "source": [
    "## Вывод по результатам исследования\n",
    "\n",
    "    В первоначальные данных наблюдался значительный дисбаланс (80% ответов целевого признака были негативными и только 20% позитивными), из-за чего обученная на этих данных модель не проходила проверку на адекватность. Все модели не первоначальных данных характеризовались высокой степенью ошибок и низким качеством взвешенной величины (F1) — модели показывали низкие результаты точности и полноты.\n",
    "\n",
    "    Мы устранили дисбаланс классов в обучающей выборки методом увеличения количества недостающих классов. \n",
    "\n",
    "    На новых данных все модели показали результат выше, чем на несбалансированной выборке. Лучшие показатели были у модели случайного леса.\n",
    "\n",
    "    Было принято решение продолжать улучшение модели на основании алгоритма случайный лес (RandomForestClassifier)\n",
    "\n",
    "    Финальные параметры выбранной модели RandomForestClassifier(n_estimators=100, max_depth=8, random_state=12345, class_weight='balanced')\n",
    "\n",
    "    Финальная модель прошла проверку на адекватность в сравнении с контантной моделью: accuracy_score константой модели < accuracy_score финальной модели.\n",
    "    AUC-ROC константой модели: 0.5 < AUC-ROC финальной модели"
   ]
  },
  {
   "cell_type": "markdown",
   "metadata": {},
   "source": [
    "## Чек-лист готовности проекта"
   ]
  },
  {
   "cell_type": "markdown",
   "metadata": {},
   "source": [
    "Поставьте 'x' в выполненных пунктах. Далее нажмите Shift+Enter."
   ]
  },
  {
   "cell_type": "markdown",
   "metadata": {},
   "source": [
    "- [x]  Jupyter Notebook открыт\n",
    "- [x]  Весь код выполняется без ошибок\n",
    "- [x]  Ячейки с кодом расположены в порядке исполнения\n",
    "- [x]  Выполнен шаг 1: данные подготовлены\n",
    "- [x]  Выполнен шаг 2: задача исследована\n",
    "    - [x]  Исследован баланс классов\n",
    "    - [x]  Изучены модели без учёта дисбаланса\n",
    "    - [x]  Написаны выводы по результатам исследования\n",
    "- [x]  Выполнен шаг 3: учтён дисбаланс\n",
    "    - [x]  Применено несколько способов борьбы с дисбалансом\n",
    "    - [x]  Написаны выводы по результатам исследования\n",
    "- [x]  Выполнен шаг 4: проведено тестирование\n",
    "- [x]  Удалось достичь *F1*-меры не менее 0.59\n",
    "- [x]  Исследована метрика *AUC-ROC*"
   ]
  }
 ],
 "metadata": {
  "ExecuteTimeLog": [
   {
    "duration": 1572,
    "start_time": "2022-06-18T11:01:09.434Z"
   },
   {
    "duration": 14,
    "start_time": "2022-06-18T11:01:23.065Z"
   },
   {
    "duration": 22,
    "start_time": "2022-06-18T11:03:37.902Z"
   },
   {
    "duration": 108,
    "start_time": "2022-06-18T11:09:29.762Z"
   },
   {
    "duration": 12,
    "start_time": "2022-06-18T11:09:30.642Z"
   },
   {
    "duration": 49,
    "start_time": "2022-06-18T11:09:43.348Z"
   },
   {
    "duration": 16,
    "start_time": "2022-06-18T11:09:44.088Z"
   },
   {
    "duration": 3,
    "start_time": "2022-06-18T11:09:47.886Z"
   },
   {
    "duration": 12,
    "start_time": "2022-06-18T11:09:54.473Z"
   },
   {
    "duration": 11,
    "start_time": "2022-06-18T11:11:17.920Z"
   },
   {
    "duration": 13,
    "start_time": "2022-06-18T11:11:20.822Z"
   },
   {
    "duration": 11,
    "start_time": "2022-06-18T11:11:21.712Z"
   },
   {
    "duration": 41,
    "start_time": "2022-06-18T11:11:28.514Z"
   },
   {
    "duration": 11,
    "start_time": "2022-06-18T11:11:29.120Z"
   },
   {
    "duration": 12,
    "start_time": "2022-06-18T11:11:29.817Z"
   },
   {
    "duration": 8,
    "start_time": "2022-06-18T11:14:09.190Z"
   },
   {
    "duration": 5,
    "start_time": "2022-06-18T11:14:22.897Z"
   },
   {
    "duration": 5,
    "start_time": "2022-06-18T11:14:33.752Z"
   },
   {
    "duration": 26,
    "start_time": "2022-06-18T11:14:53.107Z"
   },
   {
    "duration": 16,
    "start_time": "2022-06-18T11:15:31.041Z"
   },
   {
    "duration": 47,
    "start_time": "2022-06-18T11:15:44.572Z"
   },
   {
    "duration": 13,
    "start_time": "2022-06-18T11:15:45.312Z"
   },
   {
    "duration": 11,
    "start_time": "2022-06-18T11:15:46.218Z"
   },
   {
    "duration": 4,
    "start_time": "2022-06-18T11:15:47.911Z"
   },
   {
    "duration": 5,
    "start_time": "2022-06-18T11:15:49.584Z"
   },
   {
    "duration": 18,
    "start_time": "2022-06-18T11:15:50.486Z"
   },
   {
    "duration": 12,
    "start_time": "2022-06-18T11:17:00.505Z"
   },
   {
    "duration": 35,
    "start_time": "2022-06-18T11:17:23.136Z"
   },
   {
    "duration": 169,
    "start_time": "2022-06-18T11:19:57.324Z"
   },
   {
    "duration": 195,
    "start_time": "2022-06-18T11:20:28.765Z"
   },
   {
    "duration": 221,
    "start_time": "2022-06-18T11:20:40.058Z"
   },
   {
    "duration": 219,
    "start_time": "2022-06-18T11:21:10.914Z"
   },
   {
    "duration": 40,
    "start_time": "2022-06-18T11:21:16.828Z"
   },
   {
    "duration": 12,
    "start_time": "2022-06-18T11:21:17.552Z"
   },
   {
    "duration": 12,
    "start_time": "2022-06-18T11:21:18.348Z"
   },
   {
    "duration": 4,
    "start_time": "2022-06-18T11:21:19.339Z"
   },
   {
    "duration": 4,
    "start_time": "2022-06-18T11:21:19.829Z"
   },
   {
    "duration": 18,
    "start_time": "2022-06-18T11:21:20.192Z"
   },
   {
    "duration": 271,
    "start_time": "2022-06-18T11:21:20.973Z"
   },
   {
    "duration": 39,
    "start_time": "2022-06-18T11:22:13.479Z"
   },
   {
    "duration": 13,
    "start_time": "2022-06-18T11:22:13.999Z"
   },
   {
    "duration": 13,
    "start_time": "2022-06-18T11:22:15.124Z"
   },
   {
    "duration": 586,
    "start_time": "2022-06-18T11:22:16.587Z"
   },
   {
    "duration": 5,
    "start_time": "2022-06-18T11:22:22.209Z"
   },
   {
    "duration": 5,
    "start_time": "2022-06-18T11:22:22.724Z"
   },
   {
    "duration": 18,
    "start_time": "2022-06-18T11:22:23.400Z"
   },
   {
    "duration": 12,
    "start_time": "2022-06-18T11:22:24.196Z"
   },
   {
    "duration": 43,
    "start_time": "2022-06-18T11:22:25.597Z"
   },
   {
    "duration": 133,
    "start_time": "2022-06-18T11:23:25.628Z"
   },
   {
    "duration": 117,
    "start_time": "2022-06-18T11:23:34.925Z"
   },
   {
    "duration": 128,
    "start_time": "2022-06-18T11:24:12.763Z"
   },
   {
    "duration": 89,
    "start_time": "2022-06-18T11:29:02.507Z"
   },
   {
    "duration": 34,
    "start_time": "2022-06-18T11:29:31.565Z"
   },
   {
    "duration": 1996,
    "start_time": "2022-06-18T11:30:03.413Z"
   },
   {
    "duration": 367,
    "start_time": "2022-06-18T11:30:22.773Z"
   },
   {
    "duration": 368,
    "start_time": "2022-06-18T11:30:44.501Z"
   },
   {
    "duration": 428,
    "start_time": "2022-06-18T11:37:48.066Z"
   },
   {
    "duration": 2260,
    "start_time": "2022-06-18T11:38:04.597Z"
   },
   {
    "duration": 167,
    "start_time": "2022-06-18T11:38:30.608Z"
   },
   {
    "duration": 4,
    "start_time": "2022-06-18T11:40:21.900Z"
   },
   {
    "duration": 13,
    "start_time": "2022-06-18T11:40:52.346Z"
   },
   {
    "duration": 300,
    "start_time": "2022-06-18T11:41:20.806Z"
   },
   {
    "duration": 305,
    "start_time": "2022-06-18T11:41:39.369Z"
   },
   {
    "duration": 162,
    "start_time": "2022-06-18T11:42:02.404Z"
   },
   {
    "duration": 4,
    "start_time": "2022-06-18T11:44:06.559Z"
   },
   {
    "duration": 11,
    "start_time": "2022-06-18T11:44:19.278Z"
   },
   {
    "duration": 136,
    "start_time": "2022-06-18T11:44:43.578Z"
   },
   {
    "duration": 2101,
    "start_time": "2022-06-18T11:45:12.591Z"
   },
   {
    "duration": 338,
    "start_time": "2022-06-18T11:45:32.534Z"
   },
   {
    "duration": 184,
    "start_time": "2022-06-18T11:49:56.845Z"
   },
   {
    "duration": 24,
    "start_time": "2022-06-18T11:54:32.214Z"
   },
   {
    "duration": 613,
    "start_time": "2022-06-18T11:54:38.587Z"
   },
   {
    "duration": 8,
    "start_time": "2022-06-18T11:55:35.387Z"
   },
   {
    "duration": 6,
    "start_time": "2022-06-18T11:55:51.259Z"
   },
   {
    "duration": 9,
    "start_time": "2022-06-18T11:56:05.713Z"
   },
   {
    "duration": 77,
    "start_time": "2022-06-18T11:57:26.076Z"
   },
   {
    "duration": 161,
    "start_time": "2022-06-18T11:57:53.907Z"
   },
   {
    "duration": 532,
    "start_time": "2022-06-18T12:03:52.165Z"
   },
   {
    "duration": 8,
    "start_time": "2022-06-18T12:03:58.899Z"
   },
   {
    "duration": 5,
    "start_time": "2022-06-18T12:04:00.047Z"
   },
   {
    "duration": 9,
    "start_time": "2022-06-18T12:04:01.379Z"
   },
   {
    "duration": 86,
    "start_time": "2022-06-18T12:04:05.298Z"
   },
   {
    "duration": 165,
    "start_time": "2022-06-18T12:05:13.643Z"
   },
   {
    "duration": 134,
    "start_time": "2022-06-18T12:16:56.495Z"
   },
   {
    "duration": 1461,
    "start_time": "2022-06-18T12:17:07.043Z"
   },
   {
    "duration": 16,
    "start_time": "2022-06-18T12:17:08.506Z"
   },
   {
    "duration": 54,
    "start_time": "2022-06-18T12:17:08.524Z"
   },
   {
    "duration": 812,
    "start_time": "2022-06-18T12:17:08.581Z"
   },
   {
    "duration": 5,
    "start_time": "2022-06-18T12:17:09.395Z"
   },
   {
    "duration": 8,
    "start_time": "2022-06-18T12:17:09.402Z"
   },
   {
    "duration": 27,
    "start_time": "2022-06-18T12:17:09.412Z"
   },
   {
    "duration": 32,
    "start_time": "2022-06-18T12:17:09.441Z"
   },
   {
    "duration": 42,
    "start_time": "2022-06-18T12:17:09.475Z"
   },
   {
    "duration": 150,
    "start_time": "2022-06-18T12:17:09.520Z"
   },
   {
    "duration": 109,
    "start_time": "2022-06-18T12:17:09.673Z"
   },
   {
    "duration": 41,
    "start_time": "2022-06-18T12:17:09.784Z"
   },
   {
    "duration": 2369,
    "start_time": "2022-06-18T12:17:09.827Z"
   },
   {
    "duration": 426,
    "start_time": "2022-06-18T12:17:12.198Z"
   },
   {
    "duration": 239,
    "start_time": "2022-06-18T12:17:12.626Z"
   },
   {
    "duration": 506,
    "start_time": "2022-06-18T12:17:12.868Z"
   },
   {
    "duration": 2398,
    "start_time": "2022-06-18T12:17:13.375Z"
   },
   {
    "duration": 195,
    "start_time": "2022-06-18T12:17:15.775Z"
   },
   {
    "duration": 92,
    "start_time": "2022-06-18T12:17:15.972Z"
   },
   {
    "duration": 104,
    "start_time": "2022-06-18T12:17:16.066Z"
   },
   {
    "duration": 296,
    "start_time": "2022-06-18T12:17:16.172Z"
   },
   {
    "duration": 310,
    "start_time": "2022-06-18T12:17:16.469Z"
   },
   {
    "duration": 193,
    "start_time": "2022-06-18T12:17:16.781Z"
   },
   {
    "duration": 87,
    "start_time": "2022-06-18T12:17:16.977Z"
   },
   {
    "duration": 106,
    "start_time": "2022-06-18T12:17:17.066Z"
   },
   {
    "duration": 147,
    "start_time": "2022-06-18T12:17:17.173Z"
   },
   {
    "duration": 2276,
    "start_time": "2022-06-18T12:17:17.322Z"
   },
   {
    "duration": 568,
    "start_time": "2022-06-18T12:17:19.603Z"
   },
   {
    "duration": 389,
    "start_time": "2022-06-18T12:17:20.173Z"
   },
   {
    "duration": 589,
    "start_time": "2022-06-18T12:17:20.564Z"
   },
   {
    "duration": 13,
    "start_time": "2022-06-18T12:17:21.155Z"
   },
   {
    "duration": 10,
    "start_time": "2022-06-18T12:17:21.170Z"
   },
   {
    "duration": 10,
    "start_time": "2022-06-18T12:17:21.182Z"
   },
   {
    "duration": 106,
    "start_time": "2022-06-18T12:17:21.194Z"
   },
   {
    "duration": 187,
    "start_time": "2022-06-18T12:17:21.302Z"
   },
   {
    "duration": 1476,
    "start_time": "2022-06-19T09:46:08.260Z"
   },
   {
    "duration": 13,
    "start_time": "2022-06-19T09:46:09.738Z"
   },
   {
    "duration": 17,
    "start_time": "2022-06-19T09:46:09.753Z"
   },
   {
    "duration": 556,
    "start_time": "2022-06-19T09:46:09.772Z"
   },
   {
    "duration": 6,
    "start_time": "2022-06-19T09:46:10.330Z"
   },
   {
    "duration": 17,
    "start_time": "2022-06-19T09:46:10.337Z"
   },
   {
    "duration": 21,
    "start_time": "2022-06-19T09:46:10.356Z"
   },
   {
    "duration": 11,
    "start_time": "2022-06-19T09:46:10.378Z"
   },
   {
    "duration": 33,
    "start_time": "2022-06-19T09:46:10.391Z"
   },
   {
    "duration": 159,
    "start_time": "2022-06-19T09:46:10.427Z"
   },
   {
    "duration": 97,
    "start_time": "2022-06-19T09:46:10.588Z"
   },
   {
    "duration": 34,
    "start_time": "2022-06-19T09:46:10.687Z"
   },
   {
    "duration": 2165,
    "start_time": "2022-06-19T09:46:10.722Z"
   },
   {
    "duration": 380,
    "start_time": "2022-06-19T09:46:12.888Z"
   },
   {
    "duration": 294,
    "start_time": "2022-06-19T09:46:13.269Z"
   },
   {
    "duration": 546,
    "start_time": "2022-06-19T09:46:13.564Z"
   },
   {
    "duration": 2166,
    "start_time": "2022-06-19T09:46:14.111Z"
   },
   {
    "duration": 275,
    "start_time": "2022-06-19T09:46:16.278Z"
   },
   {
    "duration": 5,
    "start_time": "2022-06-19T09:46:16.555Z"
   },
   {
    "duration": 111,
    "start_time": "2022-06-19T09:46:16.561Z"
   },
   {
    "duration": 257,
    "start_time": "2022-06-19T09:46:16.674Z"
   },
   {
    "duration": 262,
    "start_time": "2022-06-19T09:46:16.933Z"
   },
   {
    "duration": 458,
    "start_time": "2022-06-19T09:46:17.196Z"
   },
   {
    "duration": 5,
    "start_time": "2022-06-19T09:46:17.656Z"
   },
   {
    "duration": 10,
    "start_time": "2022-06-19T09:46:17.752Z"
   },
   {
    "duration": 121,
    "start_time": "2022-06-19T09:46:17.763Z"
   },
   {
    "duration": 1883,
    "start_time": "2022-06-19T09:46:17.886Z"
   },
   {
    "duration": 380,
    "start_time": "2022-06-19T09:46:19.772Z"
   },
   {
    "duration": 257,
    "start_time": "2022-06-19T09:46:20.154Z"
   },
   {
    "duration": 509,
    "start_time": "2022-06-19T09:46:20.413Z"
   },
   {
    "duration": 6,
    "start_time": "2022-06-19T09:46:20.924Z"
   },
   {
    "duration": 8,
    "start_time": "2022-06-19T09:46:20.931Z"
   },
   {
    "duration": 15,
    "start_time": "2022-06-19T09:46:20.940Z"
   },
   {
    "duration": 83,
    "start_time": "2022-06-19T09:46:20.957Z"
   },
   {
    "duration": 163,
    "start_time": "2022-06-19T09:46:21.051Z"
   },
   {
    "duration": 1620,
    "start_time": "2022-07-24T11:34:32.804Z"
   },
   {
    "duration": 16,
    "start_time": "2022-07-24T11:34:34.426Z"
   },
   {
    "duration": 26,
    "start_time": "2022-07-24T11:34:34.444Z"
   },
   {
    "duration": 676,
    "start_time": "2022-07-24T11:34:34.473Z"
   },
   {
    "duration": 6,
    "start_time": "2022-07-24T11:34:35.151Z"
   },
   {
    "duration": 28,
    "start_time": "2022-07-24T11:34:35.159Z"
   },
   {
    "duration": 26,
    "start_time": "2022-07-24T11:34:35.189Z"
   },
   {
    "duration": 21,
    "start_time": "2022-07-24T11:34:35.217Z"
   },
   {
    "duration": 55,
    "start_time": "2022-07-24T11:34:35.241Z"
   },
   {
    "duration": 197,
    "start_time": "2022-07-24T11:34:35.301Z"
   },
   {
    "duration": 140,
    "start_time": "2022-07-24T11:34:35.501Z"
   },
   {
    "duration": 41,
    "start_time": "2022-07-24T11:34:35.642Z"
   },
   {
    "duration": 2242,
    "start_time": "2022-07-24T11:34:35.685Z"
   },
   {
    "duration": 455,
    "start_time": "2022-07-24T11:34:37.930Z"
   },
   {
    "duration": 143,
    "start_time": "2022-07-24T11:34:38.387Z"
   },
   {
    "duration": 616,
    "start_time": "2022-07-24T11:34:38.532Z"
   },
   {
    "duration": 2298,
    "start_time": "2022-07-24T11:34:39.150Z"
   },
   {
    "duration": 86,
    "start_time": "2022-07-24T11:34:41.450Z"
   },
   {
    "duration": 7,
    "start_time": "2022-07-24T11:34:41.538Z"
   },
   {
    "duration": 84,
    "start_time": "2022-07-24T11:34:41.548Z"
   },
   {
    "duration": 374,
    "start_time": "2022-07-24T11:34:41.634Z"
   },
   {
    "duration": 353,
    "start_time": "2022-07-24T11:34:42.010Z"
   },
   {
    "duration": 365,
    "start_time": "2022-07-24T11:34:42.365Z"
   },
   {
    "duration": 6,
    "start_time": "2022-07-24T11:34:42.733Z"
   },
   {
    "duration": 185,
    "start_time": "2022-07-24T11:34:42.741Z"
   },
   {
    "duration": 141,
    "start_time": "2022-07-24T11:34:42.929Z"
   },
   {
    "duration": 2034,
    "start_time": "2022-07-24T11:34:43.072Z"
   },
   {
    "duration": 129,
    "start_time": "2022-07-24T11:34:45.109Z"
   },
   {
    "duration": 364,
    "start_time": "2022-07-24T11:34:45.241Z"
   },
   {
    "duration": 585,
    "start_time": "2022-07-24T11:34:45.607Z"
   },
   {
    "duration": 8,
    "start_time": "2022-07-24T11:34:46.194Z"
   },
   {
    "duration": 20,
    "start_time": "2022-07-24T11:34:46.204Z"
   },
   {
    "duration": 13,
    "start_time": "2022-07-24T11:34:46.226Z"
   },
   {
    "duration": 100,
    "start_time": "2022-07-24T11:34:46.242Z"
   },
   {
    "duration": 203,
    "start_time": "2022-07-24T11:34:46.344Z"
   }
  ],
  "kernelspec": {
   "display_name": "Python 3 (ipykernel)",
   "language": "python",
   "name": "python3"
  },
  "language_info": {
   "codemirror_mode": {
    "name": "ipython",
    "version": 3
   },
   "file_extension": ".py",
   "mimetype": "text/x-python",
   "name": "python",
   "nbconvert_exporter": "python",
   "pygments_lexer": "ipython3",
   "version": "3.9.5"
  },
  "toc": {
   "base_numbering": 1,
   "nav_menu": {},
   "number_sections": true,
   "sideBar": true,
   "skip_h1_title": true,
   "title_cell": "Содержание",
   "title_sidebar": "Contents",
   "toc_cell": true,
   "toc_position": {},
   "toc_section_display": true,
   "toc_window_display": true
  }
 },
 "nbformat": 4,
 "nbformat_minor": 2
}
