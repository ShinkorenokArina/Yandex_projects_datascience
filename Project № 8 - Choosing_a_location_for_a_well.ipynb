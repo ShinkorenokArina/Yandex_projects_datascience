{
 "cells": [
  {
   "cell_type": "markdown",
   "metadata": {},
   "source": [
    "# Выбор локации для скважины"
   ]
  },
  {
   "cell_type": "markdown",
   "metadata": {},
   "source": [
    "Допустим, вы работаете в добывающей компании «ГлавРосГосНефть». Нужно решить, где бурить новую скважину.\n",
    "\n",
    "Вам предоставлены пробы нефти в трёх регионах: в каждом 10 000 месторождений, где измерили качество нефти и объём её запасов. Постройте модель машинного обучения, которая поможет определить регион, где добыча принесёт наибольшую прибыль. Проанализируйте возможную прибыль и риски техникой *Bootstrap.*\n",
    "\n",
    "Шаги для выбора локации:\n",
    "\n",
    "- В избранном регионе ищут месторождения, для каждого определяют значения признаков;\n",
    "- Строят модель и оценивают объём запасов;\n",
    "- Выбирают месторождения с самым высокими оценками значений. Количество месторождений зависит от бюджета компании и стоимости разработки одной скважины;\n",
    "- Прибыль равна суммарной прибыли отобранных месторождений."
   ]
  },
  {
   "cell_type": "markdown",
   "metadata": {},
   "source": [
    "-\tid — уникальный идентификатор скважины;\n",
    "-\tf0, f1, f2 — три признака точек (неважно, что они означают, но сами признаки значимы);\n",
    "-\tproduct — объём запасов в скважине (тыс. баррелей).\n",
    "\n",
    "Условия задачи:\n",
    "\n",
    "-\tДля обучения модели подходит только линейная регрессия (остальные — недостаточно предсказуемые).\n",
    "-\tПри разведке региона исследуют 500 точек, из которых с помощью машинного обучения выбирают 200 лучших для разработки.\n",
    "-\tБюджет на разработку скважин в регионе — 10 млрд рублей.\n",
    "-\tПри нынешних ценах один баррель сырья приносит 450 рублей дохода. Доход с каждой единицы продукта составляет 450 тыс. рублей, поскольку объём указан в тысячах баррелей.\n",
    "-\tПосле оценки рисков нужно оставить лишь те регионы, в которых вероятность убытков меньше 2.5%. Среди них выбирают регион с наибольшей средней прибылью."
   ]
  },
  {
   "cell_type": "markdown",
   "metadata": {},
   "source": [
    "## Загрузка и подготовка данных"
   ]
  },
  {
   "cell_type": "code",
   "execution_count": 1,
   "metadata": {},
   "outputs": [],
   "source": [
    "import pandas as pd\n",
    "import numpy as np\n",
    "import matplotlib.pyplot as plt \n",
    "from sklearn.model_selection import train_test_split\n",
    "from sklearn.linear_model import LinearRegression\n",
    "from sklearn.preprocessing import StandardScaler\n",
    "from sklearn.metrics import mean_squared_error\n",
    "from sklearn.metrics import mean_absolute_error\n",
    "from sklearn.metrics import mean_squared_error\n",
    "from numpy.random import RandomState\n",
    "from scipy import stats\n",
    "\n",
    "RANDOM = 42\n",
    "state = RandomState(RANDOM) "
   ]
  },
  {
   "cell_type": "code",
   "execution_count": 2,
   "metadata": {},
   "outputs": [],
   "source": [
    "geo_data_0 = pd.read_csv(\"/datasets/geo_data_0.csv\")\n",
    "geo_data_1 = pd.read_csv(\"/datasets/geo_data_1.csv\")\n",
    "geo_data_2 = pd.read_csv(\"/datasets/geo_data_2.csv\")"
   ]
  },
  {
   "cell_type": "code",
   "execution_count": 3,
   "metadata": {},
   "outputs": [],
   "source": [
    "geo_data_0 = geo_data_0.drop(['id'], axis = 1)\n",
    "geo_data_1 = geo_data_1.drop(['id'], axis = 1)\n",
    "geo_data_2 = geo_data_2.drop(['id'], axis = 1)"
   ]
  },
  {
   "cell_type": "code",
   "execution_count": 4,
   "metadata": {},
   "outputs": [],
   "source": [
    "def line():\n",
    "    print('-------------------------------------------------')"
   ]
  },
  {
   "cell_type": "code",
   "execution_count": 5,
   "metadata": {},
   "outputs": [
    {
     "data": {
      "text/html": [
       "<div>\n",
       "<style scoped>\n",
       "    .dataframe tbody tr th:only-of-type {\n",
       "        vertical-align: middle;\n",
       "    }\n",
       "\n",
       "    .dataframe tbody tr th {\n",
       "        vertical-align: top;\n",
       "    }\n",
       "\n",
       "    .dataframe thead th {\n",
       "        text-align: right;\n",
       "    }\n",
       "</style>\n",
       "<table border=\"1\" class=\"dataframe\">\n",
       "  <thead>\n",
       "    <tr style=\"text-align: right;\">\n",
       "      <th></th>\n",
       "      <th>f0</th>\n",
       "      <th>f1</th>\n",
       "      <th>f2</th>\n",
       "      <th>product</th>\n",
       "    </tr>\n",
       "  </thead>\n",
       "  <tbody>\n",
       "    <tr>\n",
       "      <th>0</th>\n",
       "      <td>0.705745</td>\n",
       "      <td>-0.497823</td>\n",
       "      <td>1.221170</td>\n",
       "      <td>105.280062</td>\n",
       "    </tr>\n",
       "    <tr>\n",
       "      <th>1</th>\n",
       "      <td>1.334711</td>\n",
       "      <td>-0.340164</td>\n",
       "      <td>4.365080</td>\n",
       "      <td>73.037750</td>\n",
       "    </tr>\n",
       "    <tr>\n",
       "      <th>2</th>\n",
       "      <td>1.022732</td>\n",
       "      <td>0.151990</td>\n",
       "      <td>1.419926</td>\n",
       "      <td>85.265647</td>\n",
       "    </tr>\n",
       "    <tr>\n",
       "      <th>3</th>\n",
       "      <td>-0.032172</td>\n",
       "      <td>0.139033</td>\n",
       "      <td>2.978566</td>\n",
       "      <td>168.620776</td>\n",
       "    </tr>\n",
       "    <tr>\n",
       "      <th>4</th>\n",
       "      <td>1.988431</td>\n",
       "      <td>0.155413</td>\n",
       "      <td>4.751769</td>\n",
       "      <td>154.036647</td>\n",
       "    </tr>\n",
       "  </tbody>\n",
       "</table>\n",
       "</div>"
      ],
      "text/plain": [
       "         f0        f1        f2     product\n",
       "0  0.705745 -0.497823  1.221170  105.280062\n",
       "1  1.334711 -0.340164  4.365080   73.037750\n",
       "2  1.022732  0.151990  1.419926   85.265647\n",
       "3 -0.032172  0.139033  2.978566  168.620776\n",
       "4  1.988431  0.155413  4.751769  154.036647"
      ]
     },
     "metadata": {},
     "output_type": "display_data"
    },
    {
     "name": "stdout",
     "output_type": "stream",
     "text": [
      "-------------------------------------------------\n"
     ]
    },
    {
     "data": {
      "text/html": [
       "<div>\n",
       "<style scoped>\n",
       "    .dataframe tbody tr th:only-of-type {\n",
       "        vertical-align: middle;\n",
       "    }\n",
       "\n",
       "    .dataframe tbody tr th {\n",
       "        vertical-align: top;\n",
       "    }\n",
       "\n",
       "    .dataframe thead th {\n",
       "        text-align: right;\n",
       "    }\n",
       "</style>\n",
       "<table border=\"1\" class=\"dataframe\">\n",
       "  <thead>\n",
       "    <tr style=\"text-align: right;\">\n",
       "      <th></th>\n",
       "      <th>f0</th>\n",
       "      <th>f1</th>\n",
       "      <th>f2</th>\n",
       "      <th>product</th>\n",
       "    </tr>\n",
       "  </thead>\n",
       "  <tbody>\n",
       "    <tr>\n",
       "      <th>0</th>\n",
       "      <td>-15.001348</td>\n",
       "      <td>-8.276000</td>\n",
       "      <td>-0.005876</td>\n",
       "      <td>3.179103</td>\n",
       "    </tr>\n",
       "    <tr>\n",
       "      <th>1</th>\n",
       "      <td>14.272088</td>\n",
       "      <td>-3.475083</td>\n",
       "      <td>0.999183</td>\n",
       "      <td>26.953261</td>\n",
       "    </tr>\n",
       "    <tr>\n",
       "      <th>2</th>\n",
       "      <td>6.263187</td>\n",
       "      <td>-5.948386</td>\n",
       "      <td>5.001160</td>\n",
       "      <td>134.766305</td>\n",
       "    </tr>\n",
       "    <tr>\n",
       "      <th>3</th>\n",
       "      <td>-13.081196</td>\n",
       "      <td>-11.506057</td>\n",
       "      <td>4.999415</td>\n",
       "      <td>137.945408</td>\n",
       "    </tr>\n",
       "    <tr>\n",
       "      <th>4</th>\n",
       "      <td>12.702195</td>\n",
       "      <td>-8.147433</td>\n",
       "      <td>5.004363</td>\n",
       "      <td>134.766305</td>\n",
       "    </tr>\n",
       "  </tbody>\n",
       "</table>\n",
       "</div>"
      ],
      "text/plain": [
       "          f0         f1        f2     product\n",
       "0 -15.001348  -8.276000 -0.005876    3.179103\n",
       "1  14.272088  -3.475083  0.999183   26.953261\n",
       "2   6.263187  -5.948386  5.001160  134.766305\n",
       "3 -13.081196 -11.506057  4.999415  137.945408\n",
       "4  12.702195  -8.147433  5.004363  134.766305"
      ]
     },
     "metadata": {},
     "output_type": "display_data"
    },
    {
     "name": "stdout",
     "output_type": "stream",
     "text": [
      "-------------------------------------------------\n"
     ]
    },
    {
     "data": {
      "text/html": [
       "<div>\n",
       "<style scoped>\n",
       "    .dataframe tbody tr th:only-of-type {\n",
       "        vertical-align: middle;\n",
       "    }\n",
       "\n",
       "    .dataframe tbody tr th {\n",
       "        vertical-align: top;\n",
       "    }\n",
       "\n",
       "    .dataframe thead th {\n",
       "        text-align: right;\n",
       "    }\n",
       "</style>\n",
       "<table border=\"1\" class=\"dataframe\">\n",
       "  <thead>\n",
       "    <tr style=\"text-align: right;\">\n",
       "      <th></th>\n",
       "      <th>f0</th>\n",
       "      <th>f1</th>\n",
       "      <th>f2</th>\n",
       "      <th>product</th>\n",
       "    </tr>\n",
       "  </thead>\n",
       "  <tbody>\n",
       "    <tr>\n",
       "      <th>0</th>\n",
       "      <td>-1.146987</td>\n",
       "      <td>0.963328</td>\n",
       "      <td>-0.828965</td>\n",
       "      <td>27.758673</td>\n",
       "    </tr>\n",
       "    <tr>\n",
       "      <th>1</th>\n",
       "      <td>0.262778</td>\n",
       "      <td>0.269839</td>\n",
       "      <td>-2.530187</td>\n",
       "      <td>56.069697</td>\n",
       "    </tr>\n",
       "    <tr>\n",
       "      <th>2</th>\n",
       "      <td>0.194587</td>\n",
       "      <td>0.289035</td>\n",
       "      <td>-5.586433</td>\n",
       "      <td>62.871910</td>\n",
       "    </tr>\n",
       "    <tr>\n",
       "      <th>3</th>\n",
       "      <td>2.236060</td>\n",
       "      <td>-0.553760</td>\n",
       "      <td>0.930038</td>\n",
       "      <td>114.572842</td>\n",
       "    </tr>\n",
       "    <tr>\n",
       "      <th>4</th>\n",
       "      <td>-0.515993</td>\n",
       "      <td>1.716266</td>\n",
       "      <td>5.899011</td>\n",
       "      <td>149.600746</td>\n",
       "    </tr>\n",
       "  </tbody>\n",
       "</table>\n",
       "</div>"
      ],
      "text/plain": [
       "         f0        f1        f2     product\n",
       "0 -1.146987  0.963328 -0.828965   27.758673\n",
       "1  0.262778  0.269839 -2.530187   56.069697\n",
       "2  0.194587  0.289035 -5.586433   62.871910\n",
       "3  2.236060 -0.553760  0.930038  114.572842\n",
       "4 -0.515993  1.716266  5.899011  149.600746"
      ]
     },
     "metadata": {},
     "output_type": "display_data"
    }
   ],
   "source": [
    "display(geo_data_0.head())\n",
    "line()\n",
    "display(geo_data_1.head())\n",
    "line()\n",
    "display(geo_data_2.head())"
   ]
  },
  {
   "cell_type": "code",
   "execution_count": 6,
   "metadata": {},
   "outputs": [
    {
     "name": "stdout",
     "output_type": "stream",
     "text": [
      "<class 'pandas.core.frame.DataFrame'>\n",
      "RangeIndex: 100000 entries, 0 to 99999\n",
      "Data columns (total 4 columns):\n",
      " #   Column   Non-Null Count   Dtype  \n",
      "---  ------   --------------   -----  \n",
      " 0   f0       100000 non-null  float64\n",
      " 1   f1       100000 non-null  float64\n",
      " 2   f2       100000 non-null  float64\n",
      " 3   product  100000 non-null  float64\n",
      "dtypes: float64(4)\n",
      "memory usage: 3.1 MB\n",
      "-------------------------------------------------\n",
      "<class 'pandas.core.frame.DataFrame'>\n",
      "RangeIndex: 100000 entries, 0 to 99999\n",
      "Data columns (total 4 columns):\n",
      " #   Column   Non-Null Count   Dtype  \n",
      "---  ------   --------------   -----  \n",
      " 0   f0       100000 non-null  float64\n",
      " 1   f1       100000 non-null  float64\n",
      " 2   f2       100000 non-null  float64\n",
      " 3   product  100000 non-null  float64\n",
      "dtypes: float64(4)\n",
      "memory usage: 3.1 MB\n",
      "-------------------------------------------------\n",
      "<class 'pandas.core.frame.DataFrame'>\n",
      "RangeIndex: 100000 entries, 0 to 99999\n",
      "Data columns (total 4 columns):\n",
      " #   Column   Non-Null Count   Dtype  \n",
      "---  ------   --------------   -----  \n",
      " 0   f0       100000 non-null  float64\n",
      " 1   f1       100000 non-null  float64\n",
      " 2   f2       100000 non-null  float64\n",
      " 3   product  100000 non-null  float64\n",
      "dtypes: float64(4)\n",
      "memory usage: 3.1 MB\n"
     ]
    }
   ],
   "source": [
    "geo_data_0.info()\n",
    "line()\n",
    "geo_data_1.info()\n",
    "line()\n",
    "geo_data_2.info()"
   ]
  },
  {
   "cell_type": "code",
   "execution_count": 7,
   "metadata": {},
   "outputs": [
    {
     "name": "stdout",
     "output_type": "stream",
     "text": [
      "Количество дубликатов 0: 0\n",
      "Количество дубликатов 1: 0\n",
      "Количество дубликатов 2: 0\n"
     ]
    }
   ],
   "source": [
    "print('Количество дубликатов 0:', geo_data_0.duplicated().sum())\n",
    "print('Количество дубликатов 1:', geo_data_1.duplicated().sum())\n",
    "print('Количество дубликатов 2:', geo_data_2.duplicated().sum())"
   ]
  },
  {
   "cell_type": "code",
   "execution_count": 8,
   "metadata": {},
   "outputs": [
    {
     "data": {
      "text/html": [
       "<div>\n",
       "<style scoped>\n",
       "    .dataframe tbody tr th:only-of-type {\n",
       "        vertical-align: middle;\n",
       "    }\n",
       "\n",
       "    .dataframe tbody tr th {\n",
       "        vertical-align: top;\n",
       "    }\n",
       "\n",
       "    .dataframe thead th {\n",
       "        text-align: right;\n",
       "    }\n",
       "</style>\n",
       "<table border=\"1\" class=\"dataframe\">\n",
       "  <thead>\n",
       "    <tr style=\"text-align: right;\">\n",
       "      <th></th>\n",
       "      <th>f0</th>\n",
       "      <th>f1</th>\n",
       "      <th>f2</th>\n",
       "      <th>product</th>\n",
       "    </tr>\n",
       "  </thead>\n",
       "  <tbody>\n",
       "    <tr>\n",
       "      <th>count</th>\n",
       "      <td>100000.000000</td>\n",
       "      <td>100000.000000</td>\n",
       "      <td>100000.000000</td>\n",
       "      <td>100000.000000</td>\n",
       "    </tr>\n",
       "    <tr>\n",
       "      <th>mean</th>\n",
       "      <td>0.500419</td>\n",
       "      <td>0.250143</td>\n",
       "      <td>2.502647</td>\n",
       "      <td>92.500000</td>\n",
       "    </tr>\n",
       "    <tr>\n",
       "      <th>std</th>\n",
       "      <td>0.871832</td>\n",
       "      <td>0.504433</td>\n",
       "      <td>3.248248</td>\n",
       "      <td>44.288691</td>\n",
       "    </tr>\n",
       "    <tr>\n",
       "      <th>min</th>\n",
       "      <td>-1.408605</td>\n",
       "      <td>-0.848218</td>\n",
       "      <td>-12.088328</td>\n",
       "      <td>0.000000</td>\n",
       "    </tr>\n",
       "    <tr>\n",
       "      <th>25%</th>\n",
       "      <td>-0.072580</td>\n",
       "      <td>-0.200881</td>\n",
       "      <td>0.287748</td>\n",
       "      <td>56.497507</td>\n",
       "    </tr>\n",
       "    <tr>\n",
       "      <th>50%</th>\n",
       "      <td>0.502360</td>\n",
       "      <td>0.250252</td>\n",
       "      <td>2.515969</td>\n",
       "      <td>91.849972</td>\n",
       "    </tr>\n",
       "    <tr>\n",
       "      <th>75%</th>\n",
       "      <td>1.073581</td>\n",
       "      <td>0.700646</td>\n",
       "      <td>4.715088</td>\n",
       "      <td>128.564089</td>\n",
       "    </tr>\n",
       "    <tr>\n",
       "      <th>max</th>\n",
       "      <td>2.362331</td>\n",
       "      <td>1.343769</td>\n",
       "      <td>16.003790</td>\n",
       "      <td>185.364347</td>\n",
       "    </tr>\n",
       "  </tbody>\n",
       "</table>\n",
       "</div>"
      ],
      "text/plain": [
       "                  f0             f1             f2        product\n",
       "count  100000.000000  100000.000000  100000.000000  100000.000000\n",
       "mean        0.500419       0.250143       2.502647      92.500000\n",
       "std         0.871832       0.504433       3.248248      44.288691\n",
       "min        -1.408605      -0.848218     -12.088328       0.000000\n",
       "25%        -0.072580      -0.200881       0.287748      56.497507\n",
       "50%         0.502360       0.250252       2.515969      91.849972\n",
       "75%         1.073581       0.700646       4.715088     128.564089\n",
       "max         2.362331       1.343769      16.003790     185.364347"
      ]
     },
     "execution_count": 8,
     "metadata": {},
     "output_type": "execute_result"
    }
   ],
   "source": [
    "geo_data_0.describe()"
   ]
  },
  {
   "cell_type": "code",
   "execution_count": 9,
   "metadata": {},
   "outputs": [
    {
     "data": {
      "text/html": [
       "<div>\n",
       "<style scoped>\n",
       "    .dataframe tbody tr th:only-of-type {\n",
       "        vertical-align: middle;\n",
       "    }\n",
       "\n",
       "    .dataframe tbody tr th {\n",
       "        vertical-align: top;\n",
       "    }\n",
       "\n",
       "    .dataframe thead th {\n",
       "        text-align: right;\n",
       "    }\n",
       "</style>\n",
       "<table border=\"1\" class=\"dataframe\">\n",
       "  <thead>\n",
       "    <tr style=\"text-align: right;\">\n",
       "      <th></th>\n",
       "      <th>f0</th>\n",
       "      <th>f1</th>\n",
       "      <th>f2</th>\n",
       "      <th>product</th>\n",
       "    </tr>\n",
       "  </thead>\n",
       "  <tbody>\n",
       "    <tr>\n",
       "      <th>count</th>\n",
       "      <td>100000.000000</td>\n",
       "      <td>100000.000000</td>\n",
       "      <td>100000.000000</td>\n",
       "      <td>100000.000000</td>\n",
       "    </tr>\n",
       "    <tr>\n",
       "      <th>mean</th>\n",
       "      <td>1.141296</td>\n",
       "      <td>-4.796579</td>\n",
       "      <td>2.494541</td>\n",
       "      <td>68.825000</td>\n",
       "    </tr>\n",
       "    <tr>\n",
       "      <th>std</th>\n",
       "      <td>8.965932</td>\n",
       "      <td>5.119872</td>\n",
       "      <td>1.703572</td>\n",
       "      <td>45.944423</td>\n",
       "    </tr>\n",
       "    <tr>\n",
       "      <th>min</th>\n",
       "      <td>-31.609576</td>\n",
       "      <td>-26.358598</td>\n",
       "      <td>-0.018144</td>\n",
       "      <td>0.000000</td>\n",
       "    </tr>\n",
       "    <tr>\n",
       "      <th>25%</th>\n",
       "      <td>-6.298551</td>\n",
       "      <td>-8.267985</td>\n",
       "      <td>1.000021</td>\n",
       "      <td>26.953261</td>\n",
       "    </tr>\n",
       "    <tr>\n",
       "      <th>50%</th>\n",
       "      <td>1.153055</td>\n",
       "      <td>-4.813172</td>\n",
       "      <td>2.011479</td>\n",
       "      <td>57.085625</td>\n",
       "    </tr>\n",
       "    <tr>\n",
       "      <th>75%</th>\n",
       "      <td>8.621015</td>\n",
       "      <td>-1.332816</td>\n",
       "      <td>3.999904</td>\n",
       "      <td>107.813044</td>\n",
       "    </tr>\n",
       "    <tr>\n",
       "      <th>max</th>\n",
       "      <td>29.421755</td>\n",
       "      <td>18.734063</td>\n",
       "      <td>5.019721</td>\n",
       "      <td>137.945408</td>\n",
       "    </tr>\n",
       "  </tbody>\n",
       "</table>\n",
       "</div>"
      ],
      "text/plain": [
       "                  f0             f1             f2        product\n",
       "count  100000.000000  100000.000000  100000.000000  100000.000000\n",
       "mean        1.141296      -4.796579       2.494541      68.825000\n",
       "std         8.965932       5.119872       1.703572      45.944423\n",
       "min       -31.609576     -26.358598      -0.018144       0.000000\n",
       "25%        -6.298551      -8.267985       1.000021      26.953261\n",
       "50%         1.153055      -4.813172       2.011479      57.085625\n",
       "75%         8.621015      -1.332816       3.999904     107.813044\n",
       "max        29.421755      18.734063       5.019721     137.945408"
      ]
     },
     "execution_count": 9,
     "metadata": {},
     "output_type": "execute_result"
    }
   ],
   "source": [
    "geo_data_1.describe()"
   ]
  },
  {
   "cell_type": "code",
   "execution_count": 10,
   "metadata": {},
   "outputs": [
    {
     "data": {
      "text/html": [
       "<div>\n",
       "<style scoped>\n",
       "    .dataframe tbody tr th:only-of-type {\n",
       "        vertical-align: middle;\n",
       "    }\n",
       "\n",
       "    .dataframe tbody tr th {\n",
       "        vertical-align: top;\n",
       "    }\n",
       "\n",
       "    .dataframe thead th {\n",
       "        text-align: right;\n",
       "    }\n",
       "</style>\n",
       "<table border=\"1\" class=\"dataframe\">\n",
       "  <thead>\n",
       "    <tr style=\"text-align: right;\">\n",
       "      <th></th>\n",
       "      <th>f0</th>\n",
       "      <th>f1</th>\n",
       "      <th>f2</th>\n",
       "      <th>product</th>\n",
       "    </tr>\n",
       "  </thead>\n",
       "  <tbody>\n",
       "    <tr>\n",
       "      <th>count</th>\n",
       "      <td>100000.000000</td>\n",
       "      <td>100000.000000</td>\n",
       "      <td>100000.000000</td>\n",
       "      <td>100000.000000</td>\n",
       "    </tr>\n",
       "    <tr>\n",
       "      <th>mean</th>\n",
       "      <td>0.002023</td>\n",
       "      <td>-0.002081</td>\n",
       "      <td>2.495128</td>\n",
       "      <td>95.000000</td>\n",
       "    </tr>\n",
       "    <tr>\n",
       "      <th>std</th>\n",
       "      <td>1.732045</td>\n",
       "      <td>1.730417</td>\n",
       "      <td>3.473445</td>\n",
       "      <td>44.749921</td>\n",
       "    </tr>\n",
       "    <tr>\n",
       "      <th>min</th>\n",
       "      <td>-8.760004</td>\n",
       "      <td>-7.084020</td>\n",
       "      <td>-11.970335</td>\n",
       "      <td>0.000000</td>\n",
       "    </tr>\n",
       "    <tr>\n",
       "      <th>25%</th>\n",
       "      <td>-1.162288</td>\n",
       "      <td>-1.174820</td>\n",
       "      <td>0.130359</td>\n",
       "      <td>59.450441</td>\n",
       "    </tr>\n",
       "    <tr>\n",
       "      <th>50%</th>\n",
       "      <td>0.009424</td>\n",
       "      <td>-0.009482</td>\n",
       "      <td>2.484236</td>\n",
       "      <td>94.925613</td>\n",
       "    </tr>\n",
       "    <tr>\n",
       "      <th>75%</th>\n",
       "      <td>1.158535</td>\n",
       "      <td>1.163678</td>\n",
       "      <td>4.858794</td>\n",
       "      <td>130.595027</td>\n",
       "    </tr>\n",
       "    <tr>\n",
       "      <th>max</th>\n",
       "      <td>7.238262</td>\n",
       "      <td>7.844801</td>\n",
       "      <td>16.739402</td>\n",
       "      <td>190.029838</td>\n",
       "    </tr>\n",
       "  </tbody>\n",
       "</table>\n",
       "</div>"
      ],
      "text/plain": [
       "                  f0             f1             f2        product\n",
       "count  100000.000000  100000.000000  100000.000000  100000.000000\n",
       "mean        0.002023      -0.002081       2.495128      95.000000\n",
       "std         1.732045       1.730417       3.473445      44.749921\n",
       "min        -8.760004      -7.084020     -11.970335       0.000000\n",
       "25%        -1.162288      -1.174820       0.130359      59.450441\n",
       "50%         0.009424      -0.009482       2.484236      94.925613\n",
       "75%         1.158535       1.163678       4.858794     130.595027\n",
       "max         7.238262       7.844801      16.739402     190.029838"
      ]
     },
     "execution_count": 10,
     "metadata": {},
     "output_type": "execute_result"
    }
   ],
   "source": [
    "geo_data_2.describe()"
   ]
  },
  {
   "cell_type": "markdown",
   "metadata": {},
   "source": [
    "### Вопрос: Нужно ли удалять выбросы в данных для того, чтобы они не мешали модели обучаться? (Алан Кабисов сказал, что, в целом, данные чистые и можно не трогать)"
   ]
  },
  {
   "cell_type": "code",
   "execution_count": 11,
   "metadata": {},
   "outputs": [],
   "source": [
    "geo_data_0 = geo_data_0.reset_index(drop = True)\n",
    "geo_data_1 = geo_data_1.reset_index(drop = True)\n",
    "geo_data_2 = geo_data_2.reset_index(drop = True)"
   ]
  },
  {
   "cell_type": "code",
   "execution_count": 12,
   "metadata": {},
   "outputs": [
    {
     "data": {
      "text/html": [
       "<div>\n",
       "<style scoped>\n",
       "    .dataframe tbody tr th:only-of-type {\n",
       "        vertical-align: middle;\n",
       "    }\n",
       "\n",
       "    .dataframe tbody tr th {\n",
       "        vertical-align: top;\n",
       "    }\n",
       "\n",
       "    .dataframe thead th {\n",
       "        text-align: right;\n",
       "    }\n",
       "</style>\n",
       "<table border=\"1\" class=\"dataframe\">\n",
       "  <thead>\n",
       "    <tr style=\"text-align: right;\">\n",
       "      <th></th>\n",
       "      <th>f0</th>\n",
       "      <th>f1</th>\n",
       "      <th>f2</th>\n",
       "      <th>product</th>\n",
       "    </tr>\n",
       "  </thead>\n",
       "  <tbody>\n",
       "    <tr>\n",
       "      <th>f0</th>\n",
       "      <td>1.000000</td>\n",
       "      <td>-0.440723</td>\n",
       "      <td>-0.003153</td>\n",
       "      <td>0.143536</td>\n",
       "    </tr>\n",
       "    <tr>\n",
       "      <th>f1</th>\n",
       "      <td>-0.440723</td>\n",
       "      <td>1.000000</td>\n",
       "      <td>0.001724</td>\n",
       "      <td>-0.192356</td>\n",
       "    </tr>\n",
       "    <tr>\n",
       "      <th>f2</th>\n",
       "      <td>-0.003153</td>\n",
       "      <td>0.001724</td>\n",
       "      <td>1.000000</td>\n",
       "      <td>0.483663</td>\n",
       "    </tr>\n",
       "    <tr>\n",
       "      <th>product</th>\n",
       "      <td>0.143536</td>\n",
       "      <td>-0.192356</td>\n",
       "      <td>0.483663</td>\n",
       "      <td>1.000000</td>\n",
       "    </tr>\n",
       "  </tbody>\n",
       "</table>\n",
       "</div>"
      ],
      "text/plain": [
       "               f0        f1        f2   product\n",
       "f0       1.000000 -0.440723 -0.003153  0.143536\n",
       "f1      -0.440723  1.000000  0.001724 -0.192356\n",
       "f2      -0.003153  0.001724  1.000000  0.483663\n",
       "product  0.143536 -0.192356  0.483663  1.000000"
      ]
     },
     "execution_count": 12,
     "metadata": {},
     "output_type": "execute_result"
    }
   ],
   "source": [
    "geo_data_0.corr()"
   ]
  },
  {
   "cell_type": "code",
   "execution_count": 13,
   "metadata": {},
   "outputs": [
    {
     "data": {
      "text/html": [
       "<div>\n",
       "<style scoped>\n",
       "    .dataframe tbody tr th:only-of-type {\n",
       "        vertical-align: middle;\n",
       "    }\n",
       "\n",
       "    .dataframe tbody tr th {\n",
       "        vertical-align: top;\n",
       "    }\n",
       "\n",
       "    .dataframe thead th {\n",
       "        text-align: right;\n",
       "    }\n",
       "</style>\n",
       "<table border=\"1\" class=\"dataframe\">\n",
       "  <thead>\n",
       "    <tr style=\"text-align: right;\">\n",
       "      <th></th>\n",
       "      <th>f0</th>\n",
       "      <th>f1</th>\n",
       "      <th>f2</th>\n",
       "      <th>product</th>\n",
       "    </tr>\n",
       "  </thead>\n",
       "  <tbody>\n",
       "    <tr>\n",
       "      <th>f0</th>\n",
       "      <td>1.000000</td>\n",
       "      <td>0.182287</td>\n",
       "      <td>-0.001777</td>\n",
       "      <td>-0.030491</td>\n",
       "    </tr>\n",
       "    <tr>\n",
       "      <th>f1</th>\n",
       "      <td>0.182287</td>\n",
       "      <td>1.000000</td>\n",
       "      <td>-0.002595</td>\n",
       "      <td>-0.010155</td>\n",
       "    </tr>\n",
       "    <tr>\n",
       "      <th>f2</th>\n",
       "      <td>-0.001777</td>\n",
       "      <td>-0.002595</td>\n",
       "      <td>1.000000</td>\n",
       "      <td>0.999397</td>\n",
       "    </tr>\n",
       "    <tr>\n",
       "      <th>product</th>\n",
       "      <td>-0.030491</td>\n",
       "      <td>-0.010155</td>\n",
       "      <td>0.999397</td>\n",
       "      <td>1.000000</td>\n",
       "    </tr>\n",
       "  </tbody>\n",
       "</table>\n",
       "</div>"
      ],
      "text/plain": [
       "               f0        f1        f2   product\n",
       "f0       1.000000  0.182287 -0.001777 -0.030491\n",
       "f1       0.182287  1.000000 -0.002595 -0.010155\n",
       "f2      -0.001777 -0.002595  1.000000  0.999397\n",
       "product -0.030491 -0.010155  0.999397  1.000000"
      ]
     },
     "execution_count": 13,
     "metadata": {},
     "output_type": "execute_result"
    }
   ],
   "source": [
    "geo_data_1.corr()"
   ]
  },
  {
   "cell_type": "code",
   "execution_count": 14,
   "metadata": {},
   "outputs": [
    {
     "data": {
      "text/html": [
       "<div>\n",
       "<style scoped>\n",
       "    .dataframe tbody tr th:only-of-type {\n",
       "        vertical-align: middle;\n",
       "    }\n",
       "\n",
       "    .dataframe tbody tr th {\n",
       "        vertical-align: top;\n",
       "    }\n",
       "\n",
       "    .dataframe thead th {\n",
       "        text-align: right;\n",
       "    }\n",
       "</style>\n",
       "<table border=\"1\" class=\"dataframe\">\n",
       "  <thead>\n",
       "    <tr style=\"text-align: right;\">\n",
       "      <th></th>\n",
       "      <th>f0</th>\n",
       "      <th>f1</th>\n",
       "      <th>f2</th>\n",
       "      <th>product</th>\n",
       "    </tr>\n",
       "  </thead>\n",
       "  <tbody>\n",
       "    <tr>\n",
       "      <th>f0</th>\n",
       "      <td>1.000000</td>\n",
       "      <td>0.000528</td>\n",
       "      <td>-0.000448</td>\n",
       "      <td>-0.001987</td>\n",
       "    </tr>\n",
       "    <tr>\n",
       "      <th>f1</th>\n",
       "      <td>0.000528</td>\n",
       "      <td>1.000000</td>\n",
       "      <td>0.000779</td>\n",
       "      <td>-0.001012</td>\n",
       "    </tr>\n",
       "    <tr>\n",
       "      <th>f2</th>\n",
       "      <td>-0.000448</td>\n",
       "      <td>0.000779</td>\n",
       "      <td>1.000000</td>\n",
       "      <td>0.445871</td>\n",
       "    </tr>\n",
       "    <tr>\n",
       "      <th>product</th>\n",
       "      <td>-0.001987</td>\n",
       "      <td>-0.001012</td>\n",
       "      <td>0.445871</td>\n",
       "      <td>1.000000</td>\n",
       "    </tr>\n",
       "  </tbody>\n",
       "</table>\n",
       "</div>"
      ],
      "text/plain": [
       "               f0        f1        f2   product\n",
       "f0       1.000000  0.000528 -0.000448 -0.001987\n",
       "f1       0.000528  1.000000  0.000779 -0.001012\n",
       "f2      -0.000448  0.000779  1.000000  0.445871\n",
       "product -0.001987 -0.001012  0.445871  1.000000"
      ]
     },
     "execution_count": 14,
     "metadata": {},
     "output_type": "execute_result"
    }
   ],
   "source": [
    "geo_data_2.corr()"
   ]
  },
  {
   "cell_type": "markdown",
   "metadata": {},
   "source": [
    "### Вывод\n",
    "\n",
    "Пропуски отсутствуют, типы столбцов корректны, названия столбцов корректны, дубликаты отсутствуют, объем запасов положительный, коррелирующие признаки учтены."
   ]
  },
  {
   "cell_type": "markdown",
   "metadata": {},
   "source": [
    "## Обучение и проверка модели"
   ]
  },
  {
   "cell_type": "code",
   "execution_count": 15,
   "metadata": {},
   "outputs": [
    {
     "name": "stdout",
     "output_type": "stream",
     "text": [
      "(75000,) (25000,)\n",
      "(75000,) (25000,)\n",
      "(75000,) (25000,)\n"
     ]
    }
   ],
   "source": [
    "# Разделим признаки и цели по каждому региону\n",
    "features_geo_0 = geo_data_0.drop(['product'], axis = 1)\n",
    "target_geo_0 = geo_data_0['product']\n",
    "\n",
    "features_geo_1 = geo_data_1.drop(['product'], axis = 1)\n",
    "target_geo_1 = geo_data_1['product']\n",
    "\n",
    "features_geo_2 = geo_data_2.drop(['product'], axis = 1)\n",
    "target_geo_2 = geo_data_2['product']\n",
    "\n",
    "features_train_geo_0, features_valid_geo_0, target_train_geo_0, target_valid_geo_0 = train_test_split(\n",
    "    features_geo_0, target_geo_0, test_size = 0.25, random_state = 12345)\n",
    "\n",
    "features_train_geo_1, features_valid_geo_1, target_train_geo_1, target_valid_geo_1 = train_test_split(\n",
    "    features_geo_1, target_geo_1, test_size = 0.25, random_state = 12345)\n",
    "\n",
    "features_train_geo_2, features_valid_geo_2, target_train_geo_2, target_valid_geo_2 = train_test_split(\n",
    "    features_geo_2, target_geo_2, test_size = 0.25, random_state = 12345)\n",
    "\n",
    "# Проверим размерность наборов: тренировочного и тестового\n",
    "print(target_train_geo_0.shape, target_valid_geo_0.shape)\n",
    "print(target_train_geo_1.shape, target_valid_geo_1.shape)\n",
    "print(target_train_geo_2.shape, target_valid_geo_2.shape)"
   ]
  },
  {
   "cell_type": "code",
   "execution_count": 16,
   "metadata": {},
   "outputs": [
    {
     "name": "stdout",
     "output_type": "stream",
     "text": [
      "RMSE для региона №0 37.5794217150813\n",
      "Cредний запас предсказанного сырья для региона 92.59256778438035 \n",
      "\n",
      "RMSE для региона №1 0.893099286775617\n",
      "Cредний запас предсказанного сырья для региона 68.728546895446 \n",
      "\n",
      "RMSE для региона №2 40.02970873393434\n",
      "Cредний запас предсказанного сырья для региона 94.96504596800489 \n",
      "\n"
     ]
    }
   ],
   "source": [
    "# Обучим модель, для удобства создадим массив с тренировочными и валидными наборами\n",
    "mass_train_features = [features_train_geo_0, features_train_geo_1, features_train_geo_2]\n",
    "mass_train_targets = [target_train_geo_0, target_train_geo_1, target_train_geo_2]\n",
    "\n",
    "mass_valid_features = [features_valid_geo_0, features_valid_geo_1, features_valid_geo_2]\n",
    "mass_valid_targets = [target_valid_geo_0, target_valid_geo_1, target_valid_geo_2]\n",
    "\n",
    "mass_predictions = []\n",
    "\n",
    "for num_geo in range(len(mass_train_features)):\n",
    "    model = LinearRegression()\n",
    "    model.fit(mass_train_features[num_geo], mass_train_targets[num_geo])\n",
    "    predictions = model.predict(mass_valid_features[num_geo])\n",
    "    mass_predictions.append(pd.Series(predictions))\n",
    "    print('RMSE для региона №' + str(num_geo + 0), mean_squared_error(mass_valid_targets[num_geo], predictions) ** 0.5)\n",
    "    print('Cредний запас предсказанного сырья для региона', predictions.mean(), '\\n')"
   ]
  },
  {
   "cell_type": "markdown",
   "metadata": {},
   "source": [
    "### Вывод:\n",
    "- Нулевой регион:\n",
    "по среднему объему запасов регион на втором месте\n",
    "- Первый регион:\n",
    "Ошибка в первом регионе самая маленькая, средний запас проигрывает другим регионам\n",
    "- Второй регион:\n",
    "Самый большой средний объем запасов\n",
    "\n",
    "По полученным данным мы определили, что в нулевом и втором регионе наша модель предсказывает значения хуже чем в первом. Но самый большой запас сырья по предсказаниям находится в третьем регионе."
   ]
  },
  {
   "cell_type": "markdown",
   "metadata": {},
   "source": [
    "## Подготовка к расчёту прибыли"
   ]
  },
  {
   "cell_type": "code",
   "execution_count": 17,
   "metadata": {},
   "outputs": [
    {
     "name": "stdout",
     "output_type": "stream",
     "text": [
      "Для безубыточной разработки необходимо чтобы одна скважина добывала не менее: 112 тыс. баррелей \n",
      "\n",
      "В среднем первый регион добывает: 93 тыс. баррелей\n",
      "В среднем второй регион добывает: 69 тыс. баррелей\n",
      "В среднем третий регион добывает: 95 тыс. баррелей\n"
     ]
    }
   ],
   "source": [
    "BUDGET = 10 ** 10\n",
    "REVENUE_BARREL= 450000\n",
    "COUNT_BOREHOLE= 200\n",
    "\n",
    "# Достаточное количество добычи нефти, для безубыточности\n",
    "SUFFICIENT_VOLUME= BUDGET / REVENUE_BARREL / COUNT_BOREHOLE\n",
    "\n",
    "print('Для безубыточной разработки необходимо чтобы одна скважина добывала не менее:', round(SUFFICIENT_VOLUME + 1), 'тыс. баррелей \\n')\n",
    "\n",
    "# Рассчитаем средний запас по каждому региону\n",
    "print('В среднем первый регион добывает:', round(geo_data_0['product'].mean()), 'тыс. баррелей')\n",
    "print('В среднем второй регион добывает:', round(geo_data_1['product'].mean()), 'тыс. баррелей')\n",
    "print('В среднем третий регион добывает:', round(geo_data_2['product'].mean()), 'тыс. баррелей')"
   ]
  },
  {
   "cell_type": "markdown",
   "metadata": {},
   "source": [
    "Одна скважина должна добывать не менее 112 тыс. баррелей, а средние значения по каждому из регионов меньше."
   ]
  },
  {
   "cell_type": "markdown",
   "metadata": {},
   "source": [
    "## Расчёт прибыли и рисков "
   ]
  },
  {
   "cell_type": "code",
   "execution_count": 18,
   "metadata": {},
   "outputs": [
    {
     "name": "stdout",
     "output_type": "stream",
     "text": [
      "Прибыль региона №0 3.3208260431398506\n",
      "Прибыль региона №1 2.4150866966815108\n",
      "Прибыль региона №2 2.7103499635998327\n"
     ]
    }
   ],
   "source": [
    "def profit(target, probabilities, count):\n",
    "    probs_sorted = probabilities.sort_values(ascending=False)\n",
    "    selected = target[probs_sorted.index][:count].sum()\n",
    "    price = selected * REVENUE_BARREL\n",
    "    return (price - BUDGET) / 10 ** 9\n",
    "\n",
    "for i in range(3):\n",
    "    print('Прибыль региона №' +  str(i + 0), profit(mass_valid_targets[i].reset_index(drop=True), mass_predictions[i], 200))"
   ]
  },
  {
   "cell_type": "markdown",
   "metadata": {},
   "source": [
    "Cамый прибыльный регион - нулевой"
   ]
  },
  {
   "cell_type": "code",
   "execution_count": 19,
   "metadata": {},
   "outputs": [
    {
     "name": "stdout",
     "output_type": "stream",
     "text": [
      "95%-й доверительный интервал: (-0.10209009483793655 : 0.9479763533583688)\n",
      "Средняя прибыль: 0.42593852691059236\n",
      "Риск убытка: 6.0\n"
     ]
    },
    {
     "data": {
      "image/png": "[encoded data removed]",
      "text/plain": [
       "<Figure size 432x288 with 1 Axes>"
      ]
     },
     "metadata": {
      "needs_background": "light"
     },
     "output_type": "display_data"
    },
    {
     "name": "stdout",
     "output_type": "stream",
     "text": [
      "95%-й доверительный интервал: (0.12812323143308443 : 0.9536129820669085)\n",
      "Средняя прибыль: 0.5182594936973248\n",
      "Риск убытка: 0.3\n"
     ]
    },
    {
     "data": {
      "image/png": "[encoded data removed]",
      "text/plain": [
       "<Figure size 432x288 with 1 Axes>"
      ]
     },
     "metadata": {
      "needs_background": "light"
     },
     "output_type": "display_data"
    },
    {
     "name": "stdout",
     "output_type": "stream",
     "text": [
      "95%-й доверительный интервал: (-0.11585260916001143 : 0.9896299398445739)\n",
      "Средняя прибыль: 0.4201940053440501\n",
      "Риск убытка: 6.2\n"
     ]
    },
    {
     "data": {
      "image/png": "[encoded data removed]",
      "text/plain": [
       "<Figure size 432x288 with 1 Axes>"
      ]
     },
     "metadata": {
      "needs_background": "light"
     },
     "output_type": "display_data"
    }
   ],
   "source": [
    "# Bootstrap\n",
    "values = [[],[],[]]\n",
    "state = np.random.RandomState(12345)\n",
    "\n",
    "for i in range(3):\n",
    "    for j in range(1000):\n",
    "        target_sample = mass_valid_targets[i].reset_index(drop=True).sample(n = 500, replace = True, random_state=state)\n",
    "        probs_subsample = mass_predictions[i][target_sample.index]\n",
    "        \n",
    "        values[i].append(profit(target_sample, probs_subsample, 200))\n",
    "        \n",
    "    values[i] = pd.Series(values[i])\n",
    "    values[i].hist()\n",
    "    print('95%-й доверительный интервал: (' + str(values[i].quantile(0.025)) + ' : ' + str(values[i].quantile(0.975)) + ')')\n",
    "    print('Средняя прибыль:', values[i].mean())\n",
    "    print('Риск убытка:', stats.percentileofscore(values[i], 0))\n",
    "    plt.show()"
   ]
  },
  {
   "cell_type": "markdown",
   "metadata": {},
   "source": [
    "### Вывод\n",
    "По полученным данным можно сделать вывод, что первый регион больше подходит, так как:\n",
    "- Доверительный интервал: (0.12812323143308443 : 0.9536129820669085)\n",
    "- Средняя прибыль в первом регионе: 0.5182594936973248\n",
    "- Риски: 0.3 %"
   ]
  }
 ],
 "metadata": {
  "ExecuteTimeLog": [
   {
    "duration": 1616,
    "start_time": "2022-06-29T08:01:32.255Z"
   },
   {
    "duration": 2110,
    "start_time": "2022-06-29T08:02:06.485Z"
   },
   {
    "duration": 1447,
    "start_time": "2022-07-02T08:37:52.729Z"
   },
   {
    "duration": 672,
    "start_time": "2022-07-02T08:38:09.625Z"
   },
   {
    "duration": 13,
    "start_time": "2022-07-02T08:39:18.917Z"
   },
   {
    "duration": 116,
    "start_time": "2022-07-02T08:39:43.029Z"
   },
   {
    "duration": 2,
    "start_time": "2022-07-02T08:40:09.623Z"
   },
   {
    "duration": 23,
    "start_time": "2022-07-02T08:40:11.053Z"
   },
   {
    "duration": 35,
    "start_time": "2022-07-02T08:41:07.681Z"
   },
   {
    "duration": 47,
    "start_time": "2022-07-02T08:41:57.112Z"
   },
   {
    "duration": 45,
    "start_time": "2022-07-02T08:42:10.080Z"
   },
   {
    "duration": 122,
    "start_time": "2022-07-02T08:42:24.917Z"
   },
   {
    "duration": 112,
    "start_time": "2022-07-02T08:42:58.993Z"
   },
   {
    "duration": 82,
    "start_time": "2022-07-02T08:43:47.353Z"
   },
   {
    "duration": 80,
    "start_time": "2022-07-02T08:44:12.829Z"
   },
   {
    "duration": 38,
    "start_time": "2022-07-02T08:44:24.637Z"
   },
   {
    "duration": 36,
    "start_time": "2022-07-02T08:44:33.869Z"
   },
   {
    "duration": 35,
    "start_time": "2022-07-02T08:44:48.009Z"
   },
   {
    "duration": 13,
    "start_time": "2022-07-02T08:48:59.045Z"
   },
   {
    "duration": 15,
    "start_time": "2022-07-02T08:49:18.169Z"
   },
   {
    "duration": 13,
    "start_time": "2022-07-02T08:49:28.741Z"
   },
   {
    "duration": 14,
    "start_time": "2022-07-02T08:49:38.781Z"
   },
   {
    "duration": 34,
    "start_time": "2022-07-02T08:50:06.621Z"
   },
   {
    "duration": 15,
    "start_time": "2022-07-02T08:50:13.045Z"
   },
   {
    "duration": 21,
    "start_time": "2022-07-02T08:50:14.413Z"
   },
   {
    "duration": 16,
    "start_time": "2022-07-02T08:50:15.369Z"
   },
   {
    "duration": 12,
    "start_time": "2022-07-02T08:54:24.509Z"
   },
   {
    "duration": 1159,
    "start_time": "2022-07-02T08:54:35.981Z"
   },
   {
    "duration": 351,
    "start_time": "2022-07-02T08:54:37.142Z"
   },
   {
    "duration": 14,
    "start_time": "2022-07-02T08:54:37.495Z"
   },
   {
    "duration": 7,
    "start_time": "2022-07-02T08:54:37.511Z"
   },
   {
    "duration": 25,
    "start_time": "2022-07-02T08:54:37.526Z"
   },
   {
    "duration": 21,
    "start_time": "2022-07-02T08:54:37.553Z"
   },
   {
    "duration": 90,
    "start_time": "2022-07-02T08:54:37.575Z"
   },
   {
    "duration": 32,
    "start_time": "2022-07-02T08:54:37.667Z"
   },
   {
    "duration": 46,
    "start_time": "2022-07-02T08:54:37.701Z"
   },
   {
    "duration": 32,
    "start_time": "2022-07-02T08:54:37.749Z"
   },
   {
    "duration": 5,
    "start_time": "2022-07-02T08:54:37.783Z"
   },
   {
    "duration": 15,
    "start_time": "2022-07-02T08:54:37.790Z"
   },
   {
    "duration": 28,
    "start_time": "2022-07-02T08:54:37.806Z"
   },
   {
    "duration": 14,
    "start_time": "2022-07-02T08:54:37.835Z"
   },
   {
    "duration": 342,
    "start_time": "2022-07-02T09:00:51.589Z"
   },
   {
    "duration": 401,
    "start_time": "2022-07-02T09:01:06.433Z"
   },
   {
    "duration": 4,
    "start_time": "2022-07-02T09:01:25.081Z"
   },
   {
    "duration": 101,
    "start_time": "2022-07-02T09:03:41.965Z"
   },
   {
    "duration": 31,
    "start_time": "2022-07-02T09:04:10.321Z"
   },
   {
    "duration": 4,
    "start_time": "2022-07-02T09:04:39.709Z"
   },
   {
    "duration": 63,
    "start_time": "2022-07-02T09:05:00.569Z"
   },
   {
    "duration": 4,
    "start_time": "2022-07-02T09:05:34.529Z"
   },
   {
    "duration": 164,
    "start_time": "2022-07-02T09:05:40.965Z"
   },
   {
    "duration": 2,
    "start_time": "2022-07-02T09:06:59.789Z"
   },
   {
    "duration": 1296,
    "start_time": "2022-07-02T09:07:06.414Z"
   },
   {
    "duration": 343,
    "start_time": "2022-07-02T09:07:07.712Z"
   },
   {
    "duration": 16,
    "start_time": "2022-07-02T09:07:08.057Z"
   },
   {
    "duration": 7,
    "start_time": "2022-07-02T09:07:08.075Z"
   },
   {
    "duration": 25,
    "start_time": "2022-07-02T09:07:08.084Z"
   },
   {
    "duration": 34,
    "start_time": "2022-07-02T09:07:08.111Z"
   },
   {
    "duration": 84,
    "start_time": "2022-07-02T09:07:08.147Z"
   },
   {
    "duration": 42,
    "start_time": "2022-07-02T09:07:08.232Z"
   },
   {
    "duration": 34,
    "start_time": "2022-07-02T09:07:08.276Z"
   },
   {
    "duration": 39,
    "start_time": "2022-07-02T09:07:08.328Z"
   },
   {
    "duration": 7,
    "start_time": "2022-07-02T09:07:08.369Z"
   },
   {
    "duration": 21,
    "start_time": "2022-07-02T09:07:08.378Z"
   },
   {
    "duration": 40,
    "start_time": "2022-07-02T09:07:08.401Z"
   },
   {
    "duration": 15,
    "start_time": "2022-07-02T09:07:08.443Z"
   },
   {
    "duration": 3,
    "start_time": "2022-07-02T09:07:08.459Z"
   },
   {
    "duration": 117,
    "start_time": "2022-07-02T09:07:08.464Z"
   },
   {
    "duration": 0,
    "start_time": "2022-07-02T09:07:08.582Z"
   },
   {
    "duration": 0,
    "start_time": "2022-07-02T09:07:08.584Z"
   },
   {
    "duration": 0,
    "start_time": "2022-07-02T09:07:08.585Z"
   },
   {
    "duration": 3,
    "start_time": "2022-07-02T09:07:36.793Z"
   },
   {
    "duration": 32,
    "start_time": "2022-07-02T09:07:38.742Z"
   },
   {
    "duration": 4,
    "start_time": "2022-07-02T09:07:40.358Z"
   },
   {
    "duration": 64,
    "start_time": "2022-07-02T09:07:41.671Z"
   },
   {
    "duration": 4,
    "start_time": "2022-07-02T09:08:16.846Z"
   },
   {
    "duration": 294,
    "start_time": "2022-07-02T09:08:22.237Z"
   },
   {
    "duration": 40,
    "start_time": "2022-07-02T09:10:43.697Z"
   },
   {
    "duration": 193,
    "start_time": "2022-07-02T09:11:01.838Z"
   },
   {
    "duration": 36,
    "start_time": "2022-07-02T09:12:06.584Z"
   },
   {
    "duration": 145,
    "start_time": "2022-07-02T09:12:44.194Z"
   },
   {
    "duration": 3,
    "start_time": "2022-07-02T09:27:38.227Z"
   },
   {
    "duration": 5,
    "start_time": "2022-07-02T09:27:50.978Z"
   },
   {
    "duration": 13,
    "start_time": "2022-07-02T09:27:52.922Z"
   },
   {
    "duration": 15,
    "start_time": "2022-07-02T09:28:24.515Z"
   },
   {
    "duration": 8,
    "start_time": "2022-07-02T09:28:32.387Z"
   },
   {
    "duration": 12,
    "start_time": "2022-07-02T09:28:41.390Z"
   },
   {
    "duration": 8,
    "start_time": "2022-07-02T09:32:11.756Z"
   },
   {
    "duration": 19,
    "start_time": "2022-07-02T09:32:48.303Z"
   },
   {
    "duration": 24,
    "start_time": "2022-07-02T09:32:58.148Z"
   },
   {
    "duration": 19,
    "start_time": "2022-07-02T09:33:05.247Z"
   },
   {
    "duration": 1725,
    "start_time": "2022-07-02T09:34:55.092Z"
   },
   {
    "duration": 4,
    "start_time": "2022-07-02T09:35:20.335Z"
   },
   {
    "duration": 5737,
    "start_time": "2022-07-02T09:35:26.823Z"
   },
   {
    "duration": 5,
    "start_time": "2022-07-02T09:44:20.396Z"
   },
   {
    "duration": 1324,
    "start_time": "2022-07-02T09:44:26.145Z"
   },
   {
    "duration": 339,
    "start_time": "2022-07-02T09:44:27.471Z"
   },
   {
    "duration": 17,
    "start_time": "2022-07-02T09:44:27.811Z"
   },
   {
    "duration": 8,
    "start_time": "2022-07-02T09:44:27.831Z"
   },
   {
    "duration": 29,
    "start_time": "2022-07-02T09:44:27.840Z"
   },
   {
    "duration": 23,
    "start_time": "2022-07-02T09:44:27.871Z"
   },
   {
    "duration": 127,
    "start_time": "2022-07-02T09:44:27.895Z"
   },
   {
    "duration": 43,
    "start_time": "2022-07-02T09:44:28.026Z"
   },
   {
    "duration": 34,
    "start_time": "2022-07-02T09:44:28.071Z"
   },
   {
    "duration": 34,
    "start_time": "2022-07-02T09:44:28.126Z"
   },
   {
    "duration": 5,
    "start_time": "2022-07-02T09:44:28.162Z"
   },
   {
    "duration": 20,
    "start_time": "2022-07-02T09:44:28.169Z"
   },
   {
    "duration": 36,
    "start_time": "2022-07-02T09:44:28.191Z"
   },
   {
    "duration": 18,
    "start_time": "2022-07-02T09:44:28.229Z"
   },
   {
    "duration": 39,
    "start_time": "2022-07-02T09:44:28.249Z"
   },
   {
    "duration": 148,
    "start_time": "2022-07-02T09:44:28.289Z"
   },
   {
    "duration": 93,
    "start_time": "2022-07-02T09:44:28.439Z"
   },
   {
    "duration": 121,
    "start_time": "2022-07-02T09:44:28.534Z"
   },
   {
    "duration": 5073,
    "start_time": "2022-07-02T09:44:28.657Z"
   },
   {
    "duration": 5,
    "start_time": "2022-07-02T09:45:39.224Z"
   },
   {
    "duration": 1352,
    "start_time": "2022-07-02T09:45:47.428Z"
   },
   {
    "duration": 375,
    "start_time": "2022-07-02T09:45:48.781Z"
   },
   {
    "duration": 18,
    "start_time": "2022-07-02T09:45:49.158Z"
   },
   {
    "duration": 6,
    "start_time": "2022-07-02T09:45:49.178Z"
   },
   {
    "duration": 38,
    "start_time": "2022-07-02T09:45:49.186Z"
   },
   {
    "duration": 31,
    "start_time": "2022-07-02T09:45:49.227Z"
   },
   {
    "duration": 94,
    "start_time": "2022-07-02T09:45:49.259Z"
   },
   {
    "duration": 43,
    "start_time": "2022-07-02T09:45:49.355Z"
   },
   {
    "duration": 59,
    "start_time": "2022-07-02T09:45:49.400Z"
   },
   {
    "duration": 48,
    "start_time": "2022-07-02T09:45:49.462Z"
   },
   {
    "duration": 20,
    "start_time": "2022-07-02T09:45:49.512Z"
   },
   {
    "duration": 31,
    "start_time": "2022-07-02T09:45:49.537Z"
   },
   {
    "duration": 22,
    "start_time": "2022-07-02T09:45:49.570Z"
   },
   {
    "duration": 33,
    "start_time": "2022-07-02T09:45:49.594Z"
   },
   {
    "duration": 45,
    "start_time": "2022-07-02T09:45:49.628Z"
   },
   {
    "duration": 158,
    "start_time": "2022-07-02T09:45:49.675Z"
   },
   {
    "duration": 13,
    "start_time": "2022-07-02T09:45:49.835Z"
   },
   {
    "duration": 124,
    "start_time": "2022-07-02T09:45:49.927Z"
   },
   {
    "duration": 4945,
    "start_time": "2022-07-02T09:45:50.053Z"
   },
   {
    "duration": 1306,
    "start_time": "2022-07-02T09:47:50.052Z"
   },
   {
    "duration": 408,
    "start_time": "2022-07-02T09:47:51.360Z"
   },
   {
    "duration": 19,
    "start_time": "2022-07-02T09:47:51.770Z"
   },
   {
    "duration": 7,
    "start_time": "2022-07-02T09:47:51.792Z"
   },
   {
    "duration": 40,
    "start_time": "2022-07-02T09:47:51.801Z"
   },
   {
    "duration": 28,
    "start_time": "2022-07-02T09:47:51.843Z"
   },
   {
    "duration": 88,
    "start_time": "2022-07-02T09:47:51.873Z"
   },
   {
    "duration": 35,
    "start_time": "2022-07-02T09:47:51.962Z"
   },
   {
    "duration": 56,
    "start_time": "2022-07-02T09:47:51.998Z"
   },
   {
    "duration": 33,
    "start_time": "2022-07-02T09:47:52.056Z"
   },
   {
    "duration": 5,
    "start_time": "2022-07-02T09:47:52.091Z"
   },
   {
    "duration": 35,
    "start_time": "2022-07-02T09:47:52.097Z"
   },
   {
    "duration": 14,
    "start_time": "2022-07-02T09:47:52.134Z"
   },
   {
    "duration": 14,
    "start_time": "2022-07-02T09:47:52.150Z"
   },
   {
    "duration": 62,
    "start_time": "2022-07-02T09:47:52.166Z"
   },
   {
    "duration": 206,
    "start_time": "2022-07-02T09:47:52.229Z"
   },
   {
    "duration": 91,
    "start_time": "2022-07-02T09:47:52.438Z"
   },
   {
    "duration": 120,
    "start_time": "2022-07-02T09:47:52.531Z"
   },
   {
    "duration": 4805,
    "start_time": "2022-07-02T09:47:52.652Z"
   },
   {
    "duration": 1256,
    "start_time": "2022-07-02T09:49:26.797Z"
   },
   {
    "duration": 335,
    "start_time": "2022-07-02T09:49:28.055Z"
   },
   {
    "duration": 15,
    "start_time": "2022-07-02T09:49:28.392Z"
   },
   {
    "duration": 8,
    "start_time": "2022-07-02T09:49:28.409Z"
   },
   {
    "duration": 36,
    "start_time": "2022-07-02T09:49:28.418Z"
   },
   {
    "duration": 33,
    "start_time": "2022-07-02T09:49:28.456Z"
   },
   {
    "duration": 68,
    "start_time": "2022-07-02T09:49:28.491Z"
   },
   {
    "duration": 33,
    "start_time": "2022-07-02T09:49:28.561Z"
   },
   {
    "duration": 51,
    "start_time": "2022-07-02T09:49:28.596Z"
   },
   {
    "duration": 41,
    "start_time": "2022-07-02T09:49:28.649Z"
   },
   {
    "duration": 5,
    "start_time": "2022-07-02T09:49:28.692Z"
   },
   {
    "duration": 37,
    "start_time": "2022-07-02T09:49:28.698Z"
   },
   {
    "duration": 28,
    "start_time": "2022-07-02T09:49:28.737Z"
   },
   {
    "duration": 16,
    "start_time": "2022-07-02T09:49:28.767Z"
   },
   {
    "duration": 41,
    "start_time": "2022-07-02T09:49:28.785Z"
   },
   {
    "duration": 199,
    "start_time": "2022-07-02T09:49:28.828Z"
   },
   {
    "duration": 10,
    "start_time": "2022-07-02T09:49:29.030Z"
   },
   {
    "duration": 40,
    "start_time": "2022-07-02T09:49:29.126Z"
   },
   {
    "duration": 4783,
    "start_time": "2022-07-02T09:49:29.167Z"
   },
   {
    "duration": 56,
    "start_time": "2022-07-02T13:03:33.237Z"
   },
   {
    "duration": 9,
    "start_time": "2022-07-02T13:03:51.975Z"
   },
   {
    "duration": 11,
    "start_time": "2022-07-02T13:07:04.870Z"
   },
   {
    "duration": 10,
    "start_time": "2022-07-02T13:07:18.772Z"
   },
   {
    "duration": 10,
    "start_time": "2022-07-02T13:07:36.378Z"
   },
   {
    "duration": 1892,
    "start_time": "2022-07-02T13:07:43.231Z"
   },
   {
    "duration": 932,
    "start_time": "2022-07-02T13:07:45.126Z"
   },
   {
    "duration": 18,
    "start_time": "2022-07-02T13:07:46.059Z"
   },
   {
    "duration": 8,
    "start_time": "2022-07-02T13:07:46.080Z"
   },
   {
    "duration": 35,
    "start_time": "2022-07-02T13:07:46.089Z"
   },
   {
    "duration": 31,
    "start_time": "2022-07-02T13:07:46.125Z"
   },
   {
    "duration": 98,
    "start_time": "2022-07-02T13:07:46.158Z"
   },
   {
    "duration": 44,
    "start_time": "2022-07-02T13:07:46.260Z"
   },
   {
    "duration": 62,
    "start_time": "2022-07-02T13:07:46.306Z"
   },
   {
    "duration": 45,
    "start_time": "2022-07-02T13:07:46.371Z"
   },
   {
    "duration": 7,
    "start_time": "2022-07-02T13:07:46.431Z"
   },
   {
    "duration": 41,
    "start_time": "2022-07-02T13:07:46.440Z"
   },
   {
    "duration": 15,
    "start_time": "2022-07-02T13:07:46.483Z"
   },
   {
    "duration": 14,
    "start_time": "2022-07-02T13:07:46.500Z"
   },
   {
    "duration": 52,
    "start_time": "2022-07-02T13:07:46.515Z"
   },
   {
    "duration": 261,
    "start_time": "2022-07-02T13:07:46.569Z"
   },
   {
    "duration": 26,
    "start_time": "2022-07-02T13:07:46.835Z"
   },
   {
    "duration": 126,
    "start_time": "2022-07-02T13:07:46.863Z"
   },
   {
    "duration": 5621,
    "start_time": "2022-07-02T13:07:46.991Z"
   },
   {
    "duration": 1299,
    "start_time": "2022-07-02T13:09:34.579Z"
   },
   {
    "duration": 378,
    "start_time": "2022-07-02T13:09:35.880Z"
   },
   {
    "duration": 26,
    "start_time": "2022-07-02T13:09:36.260Z"
   },
   {
    "duration": 8,
    "start_time": "2022-07-02T13:09:36.289Z"
   },
   {
    "duration": 37,
    "start_time": "2022-07-02T13:09:36.300Z"
   },
   {
    "duration": 31,
    "start_time": "2022-07-02T13:09:36.341Z"
   },
   {
    "duration": 76,
    "start_time": "2022-07-02T13:09:36.374Z"
   },
   {
    "duration": 38,
    "start_time": "2022-07-02T13:09:36.451Z"
   },
   {
    "duration": 58,
    "start_time": "2022-07-02T13:09:36.491Z"
   },
   {
    "duration": 37,
    "start_time": "2022-07-02T13:09:36.550Z"
   },
   {
    "duration": 6,
    "start_time": "2022-07-02T13:09:36.589Z"
   },
   {
    "duration": 45,
    "start_time": "2022-07-02T13:09:36.596Z"
   },
   {
    "duration": 20,
    "start_time": "2022-07-02T13:09:36.643Z"
   },
   {
    "duration": 20,
    "start_time": "2022-07-02T13:09:36.666Z"
   },
   {
    "duration": 60,
    "start_time": "2022-07-02T13:09:36.688Z"
   },
   {
    "duration": 182,
    "start_time": "2022-07-02T13:09:36.750Z"
   },
   {
    "duration": 11,
    "start_time": "2022-07-02T13:09:36.933Z"
   },
   {
    "duration": 197,
    "start_time": "2022-07-02T13:09:36.945Z"
   },
   {
    "duration": 5235,
    "start_time": "2022-07-02T13:09:37.144Z"
   },
   {
    "duration": 1335,
    "start_time": "2022-07-24T11:40:27.001Z"
   },
   {
    "duration": 822,
    "start_time": "2022-07-24T11:40:28.338Z"
   },
   {
    "duration": 25,
    "start_time": "2022-07-24T11:40:29.162Z"
   },
   {
    "duration": 9,
    "start_time": "2022-07-24T11:40:29.190Z"
   },
   {
    "duration": 39,
    "start_time": "2022-07-24T11:40:29.201Z"
   },
   {
    "duration": 23,
    "start_time": "2022-07-24T11:40:29.242Z"
   },
   {
    "duration": 87,
    "start_time": "2022-07-24T11:40:29.267Z"
   },
   {
    "duration": 43,
    "start_time": "2022-07-24T11:40:29.356Z"
   },
   {
    "duration": 62,
    "start_time": "2022-07-24T11:40:29.400Z"
   },
   {
    "duration": 34,
    "start_time": "2022-07-24T11:40:29.465Z"
   },
   {
    "duration": 25,
    "start_time": "2022-07-24T11:40:29.501Z"
   },
   {
    "duration": 16,
    "start_time": "2022-07-24T11:40:29.528Z"
   },
   {
    "duration": 18,
    "start_time": "2022-07-24T11:40:29.546Z"
   },
   {
    "duration": 18,
    "start_time": "2022-07-24T11:40:29.566Z"
   },
   {
    "duration": 81,
    "start_time": "2022-07-24T11:40:29.586Z"
   },
   {
    "duration": 263,
    "start_time": "2022-07-24T11:40:29.669Z"
   },
   {
    "duration": 98,
    "start_time": "2022-07-24T11:40:29.934Z"
   },
   {
    "duration": 113,
    "start_time": "2022-07-24T11:40:30.034Z"
   },
   {
    "duration": 5039,
    "start_time": "2022-07-24T11:40:30.149Z"
   }
  ],
  "kernelspec": {
   "display_name": "Python 3 (ipykernel)",
   "language": "python",
   "name": "python3"
  },
  "language_info": {
   "codemirror_mode": {
    "name": "ipython",
    "version": 3
   },
   "file_extension": ".py",
   "mimetype": "text/x-python",
   "name": "python",
   "nbconvert_exporter": "python",
   "pygments_lexer": "ipython3",
   "version": "3.9.5"
  },
  "toc": {
   "base_numbering": 1,
   "nav_menu": {},
   "number_sections": true,
   "sideBar": true,
   "skip_h1_title": true,
   "title_cell": "Table of Contents",
   "title_sidebar": "Contents",
   "toc_cell": false,
   "toc_position": {},
   "toc_section_display": true,
   "toc_window_display": false
  }
 },
 "nbformat": 4,
 "nbformat_minor": 2
}
