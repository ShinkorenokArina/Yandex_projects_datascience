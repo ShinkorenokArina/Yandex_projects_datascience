{
 "cells": [
  {
   "cell_type": "markdown",
   "metadata": {},
   "source": [
    "# Сборный проект"
   ]
  },
  {
   "cell_type": "markdown",
   "metadata": {},
   "source": [
    "# Описание проекта\n",
    "Вы работаете в интернет-магазине «Стримчик», который продаёт по всему миру компьютерные игры. Из открытых источников доступны исторические данные о продажах игр, оценки пользователей и экспертов, жанры и платформы (например, Xbox или PlayStation). Вам нужно выявить определяющие успешность игры закономерности. Это позволит сделать ставку на потенциально популярный продукт и спланировать рекламные кампании.\n",
    "\n",
    "Перед вами данные до 2016 года. Представим, что сейчас декабрь 2016 г., и вы планируете кампанию на 2017-й. Нужно отработать принцип работы с данными. Неважно, прогнозируете ли вы продажи на 2017 год по данным 2016-го или же 2027-й — по данным 2026 года.\n",
    "\n",
    "В наборе данных попадается аббревиатура ESRB (Entertainment Software Rating Board) — это ассоциация, определяющая возрастной рейтинг компьютерных игр. ESRB оценивает игровой контент и присваивает ему подходящую возрастную категорию, например, «Для взрослых», «Для детей младшего возраста» или «Для подростков».\n"
   ]
  },
  {
   "cell_type": "markdown",
   "metadata": {},
   "source": [
    "## Описание данных\n",
    "-   Name — название игры\n",
    "-\tPlatform — платформа\n",
    "-\tYear_of_Release — год выпуска\n",
    "-\tGenre — жанр игры\n",
    "-\tNA_sales — продажи в Северной Америке (миллионы проданных копий)\n",
    "-\tEU_sales — продажи в Европе (миллионы проданных копий)\n",
    "-\tJP_sales — продажи в Японии (миллионы проданных копий)\n",
    "-\tOther_sales — продажи в других странах (миллионы проданных копий)\n",
    "-\tCritic_Score — оценка критиков (максимум 100)\n",
    "-\tUser_Score — оценка пользователей (максимум 10)\n",
    "-\tRating — рейтинг от организации ESRB (англ. Entertainment Software Rating Board). Эта ассоциация определяет рейтинг компьютерных игр и присваивает им подходящую возрастную категорию.\n",
    "\n",
    "Данные за 2016 год могут быть неполными.\n"
   ]
  },
  {
   "cell_type": "markdown",
   "metadata": {},
   "source": [
    "## Шаг 1. Откройте файл с данными и изучите общую информацию"
   ]
  },
  {
   "cell_type": "code",
   "execution_count": 1,
   "metadata": {},
   "outputs": [],
   "source": [
    "import pandas as pd\n",
    "import numpy as np\n",
    "import math\n",
    "import matplotlib.pyplot as plt\n",
    "import seaborn as sns\n",
    "import scipy.stats as st"
   ]
  },
  {
   "cell_type": "code",
   "execution_count": 2,
   "metadata": {},
   "outputs": [
    {
     "data": {
      "text/html": [
       "<div>\n",
       "<style scoped>\n",
       "    .dataframe tbody tr th:only-of-type {\n",
       "        vertical-align: middle;\n",
       "    }\n",
       "\n",
       "    .dataframe tbody tr th {\n",
       "        vertical-align: top;\n",
       "    }\n",
       "\n",
       "    .dataframe thead th {\n",
       "        text-align: right;\n",
       "    }\n",
       "</style>\n",
       "<table border=\"1\" class=\"dataframe\">\n",
       "  <thead>\n",
       "    <tr style=\"text-align: right;\">\n",
       "      <th></th>\n",
       "      <th>Name</th>\n",
       "      <th>Platform</th>\n",
       "      <th>Year_of_Release</th>\n",
       "      <th>Genre</th>\n",
       "      <th>NA_sales</th>\n",
       "      <th>EU_sales</th>\n",
       "      <th>JP_sales</th>\n",
       "      <th>Other_sales</th>\n",
       "      <th>Critic_Score</th>\n",
       "      <th>User_Score</th>\n",
       "      <th>Rating</th>\n",
       "    </tr>\n",
       "  </thead>\n",
       "  <tbody>\n",
       "    <tr>\n",
       "      <th>0</th>\n",
       "      <td>Wii Sports</td>\n",
       "      <td>Wii</td>\n",
       "      <td>2006.0</td>\n",
       "      <td>Sports</td>\n",
       "      <td>41.36</td>\n",
       "      <td>28.96</td>\n",
       "      <td>3.77</td>\n",
       "      <td>8.45</td>\n",
       "      <td>76.0</td>\n",
       "      <td>8</td>\n",
       "      <td>E</td>\n",
       "    </tr>\n",
       "    <tr>\n",
       "      <th>1</th>\n",
       "      <td>Super Mario Bros.</td>\n",
       "      <td>NES</td>\n",
       "      <td>1985.0</td>\n",
       "      <td>Platform</td>\n",
       "      <td>29.08</td>\n",
       "      <td>3.58</td>\n",
       "      <td>6.81</td>\n",
       "      <td>0.77</td>\n",
       "      <td>NaN</td>\n",
       "      <td>NaN</td>\n",
       "      <td>NaN</td>\n",
       "    </tr>\n",
       "    <tr>\n",
       "      <th>2</th>\n",
       "      <td>Mario Kart Wii</td>\n",
       "      <td>Wii</td>\n",
       "      <td>2008.0</td>\n",
       "      <td>Racing</td>\n",
       "      <td>15.68</td>\n",
       "      <td>12.76</td>\n",
       "      <td>3.79</td>\n",
       "      <td>3.29</td>\n",
       "      <td>82.0</td>\n",
       "      <td>8.3</td>\n",
       "      <td>E</td>\n",
       "    </tr>\n",
       "    <tr>\n",
       "      <th>3</th>\n",
       "      <td>Wii Sports Resort</td>\n",
       "      <td>Wii</td>\n",
       "      <td>2009.0</td>\n",
       "      <td>Sports</td>\n",
       "      <td>15.61</td>\n",
       "      <td>10.93</td>\n",
       "      <td>3.28</td>\n",
       "      <td>2.95</td>\n",
       "      <td>80.0</td>\n",
       "      <td>8</td>\n",
       "      <td>E</td>\n",
       "    </tr>\n",
       "    <tr>\n",
       "      <th>4</th>\n",
       "      <td>Pokemon Red/Pokemon Blue</td>\n",
       "      <td>GB</td>\n",
       "      <td>1996.0</td>\n",
       "      <td>Role-Playing</td>\n",
       "      <td>11.27</td>\n",
       "      <td>8.89</td>\n",
       "      <td>10.22</td>\n",
       "      <td>1.00</td>\n",
       "      <td>NaN</td>\n",
       "      <td>NaN</td>\n",
       "      <td>NaN</td>\n",
       "    </tr>\n",
       "  </tbody>\n",
       "</table>\n",
       "</div>"
      ],
      "text/plain": [
       "                       Name Platform  Year_of_Release         Genre  NA_sales  \\\n",
       "0                Wii Sports      Wii           2006.0        Sports     41.36   \n",
       "1         Super Mario Bros.      NES           1985.0      Platform     29.08   \n",
       "2            Mario Kart Wii      Wii           2008.0        Racing     15.68   \n",
       "3         Wii Sports Resort      Wii           2009.0        Sports     15.61   \n",
       "4  Pokemon Red/Pokemon Blue       GB           1996.0  Role-Playing     11.27   \n",
       "\n",
       "   EU_sales  JP_sales  Other_sales  Critic_Score User_Score Rating  \n",
       "0     28.96      3.77         8.45          76.0          8      E  \n",
       "1      3.58      6.81         0.77           NaN        NaN    NaN  \n",
       "2     12.76      3.79         3.29          82.0        8.3      E  \n",
       "3     10.93      3.28         2.95          80.0          8      E  \n",
       "4      8.89     10.22         1.00           NaN        NaN    NaN  "
      ]
     },
     "execution_count": 2,
     "metadata": {},
     "output_type": "execute_result"
    }
   ],
   "source": [
    "df = pd.read_csv('/datasets/games.csv')\n",
    "df.head()"
   ]
  },
  {
   "cell_type": "code",
   "execution_count": 3,
   "metadata": {},
   "outputs": [
    {
     "name": "stdout",
     "output_type": "stream",
     "text": [
      "<class 'pandas.core.frame.DataFrame'>\n",
      "RangeIndex: 16715 entries, 0 to 16714\n",
      "Data columns (total 11 columns):\n",
      " #   Column           Non-Null Count  Dtype  \n",
      "---  ------           --------------  -----  \n",
      " 0   Name             16713 non-null  object \n",
      " 1   Platform         16715 non-null  object \n",
      " 2   Year_of_Release  16446 non-null  float64\n",
      " 3   Genre            16713 non-null  object \n",
      " 4   NA_sales         16715 non-null  float64\n",
      " 5   EU_sales         16715 non-null  float64\n",
      " 6   JP_sales         16715 non-null  float64\n",
      " 7   Other_sales      16715 non-null  float64\n",
      " 8   Critic_Score     8137 non-null   float64\n",
      " 9   User_Score       10014 non-null  object \n",
      " 10  Rating           9949 non-null   object \n",
      "dtypes: float64(6), object(5)\n",
      "memory usage: 1.4+ MB\n"
     ]
    }
   ],
   "source": [
    "df.info()"
   ]
  },
  {
   "cell_type": "code",
   "execution_count": 4,
   "metadata": {},
   "outputs": [
    {
     "name": "stdout",
     "output_type": "stream",
     "text": [
      "\n",
      " Количество дубликатов: 0\n"
     ]
    }
   ],
   "source": [
    "print('\\n Количество дубликатов:', len(df.duplicated()) - len(df))"
   ]
  },
  {
   "cell_type": "code",
   "execution_count": 5,
   "metadata": {},
   "outputs": [
    {
     "name": "stdout",
     "output_type": "stream",
     "text": [
      "Name                  2\n",
      "Platform              0\n",
      "Year_of_Release     269\n",
      "Genre                 2\n",
      "NA_sales              0\n",
      "EU_sales              0\n",
      "JP_sales              0\n",
      "Other_sales           0\n",
      "Critic_Score       8578\n",
      "User_Score         6701\n",
      "Rating             6766\n",
      "dtype: int64\n"
     ]
    }
   ],
   "source": [
    "#Количество пропусков в каждом столбце\n",
    "print(df.isnull().sum())"
   ]
  },
  {
   "cell_type": "code",
   "execution_count": 6,
   "metadata": {},
   "outputs": [
    {
     "data": {
      "text/html": [
       "<div>\n",
       "<style scoped>\n",
       "    .dataframe tbody tr th:only-of-type {\n",
       "        vertical-align: middle;\n",
       "    }\n",
       "\n",
       "    .dataframe tbody tr th {\n",
       "        vertical-align: top;\n",
       "    }\n",
       "\n",
       "    .dataframe thead th {\n",
       "        text-align: right;\n",
       "    }\n",
       "</style>\n",
       "<table border=\"1\" class=\"dataframe\">\n",
       "  <thead>\n",
       "    <tr style=\"text-align: right;\">\n",
       "      <th></th>\n",
       "      <th>missing_values</th>\n",
       "      <th>% of total</th>\n",
       "    </tr>\n",
       "  </thead>\n",
       "  <tbody>\n",
       "    <tr>\n",
       "      <th>Critic_Score</th>\n",
       "      <td>8578</td>\n",
       "      <td>0.51</td>\n",
       "    </tr>\n",
       "    <tr>\n",
       "      <th>Rating</th>\n",
       "      <td>6766</td>\n",
       "      <td>0.40</td>\n",
       "    </tr>\n",
       "    <tr>\n",
       "      <th>User_Score</th>\n",
       "      <td>6701</td>\n",
       "      <td>0.40</td>\n",
       "    </tr>\n",
       "    <tr>\n",
       "      <th>Year_of_Release</th>\n",
       "      <td>269</td>\n",
       "      <td>0.02</td>\n",
       "    </tr>\n",
       "    <tr>\n",
       "      <th>Name</th>\n",
       "      <td>2</td>\n",
       "      <td>0.00</td>\n",
       "    </tr>\n",
       "    <tr>\n",
       "      <th>Genre</th>\n",
       "      <td>2</td>\n",
       "      <td>0.00</td>\n",
       "    </tr>\n",
       "    <tr>\n",
       "      <th>Platform</th>\n",
       "      <td>0</td>\n",
       "      <td>0.00</td>\n",
       "    </tr>\n",
       "    <tr>\n",
       "      <th>NA_sales</th>\n",
       "      <td>0</td>\n",
       "      <td>0.00</td>\n",
       "    </tr>\n",
       "    <tr>\n",
       "      <th>EU_sales</th>\n",
       "      <td>0</td>\n",
       "      <td>0.00</td>\n",
       "    </tr>\n",
       "    <tr>\n",
       "      <th>JP_sales</th>\n",
       "      <td>0</td>\n",
       "      <td>0.00</td>\n",
       "    </tr>\n",
       "    <tr>\n",
       "      <th>Other_sales</th>\n",
       "      <td>0</td>\n",
       "      <td>0.00</td>\n",
       "    </tr>\n",
       "  </tbody>\n",
       "</table>\n",
       "</div>"
      ],
      "text/plain": [
       "                 missing_values  % of total\n",
       "Critic_Score               8578        0.51\n",
       "Rating                     6766        0.40\n",
       "User_Score                 6701        0.40\n",
       "Year_of_Release             269        0.02\n",
       "Name                          2        0.00\n",
       "Genre                         2        0.00\n",
       "Platform                      0        0.00\n",
       "NA_sales                      0        0.00\n",
       "EU_sales                      0        0.00\n",
       "JP_sales                      0        0.00\n",
       "Other_sales                   0        0.00"
      ]
     },
     "execution_count": 6,
     "metadata": {},
     "output_type": "execute_result"
    }
   ],
   "source": [
    "report = df.isna().sum().to_frame()\n",
    "report = report.rename(columns = {0: 'missing_values'})\n",
    "report['% of total'] = (report['missing_values'] / df.shape[0]).round(2)\n",
    "report.sort_values(by = 'missing_values', ascending = False)"
   ]
  },
  {
   "cell_type": "markdown",
   "metadata": {},
   "source": [
    "В качестве исходных данных предоставлена таблица, состоящая из 11 колонок и 16715 строк. Названия столбцов не в едином формате, типы данных некоторых колонок не соответствуют значениям, также есть пропуски."
   ]
  },
  {
   "cell_type": "markdown",
   "metadata": {},
   "source": [
    "Пропуски в столбцах year_of_release, critic_score, user_score, относятся к категориальным пропускам, при более подробном рассмотрении подумаем как их заменить, но на данном этапе можно сказать что такие переменные лучше заменить на медиану, опираясь на прошлый опыт.\n",
    "Пропуски в столбцах name, rating относятся к категориальным пропускам, которые в последующем мы заменим на пустые значения или на более подходящие по смыслу. \n",
    "Пропуски в имени могут быть из за ошибки выгрузки данных или могут быть просто случайными т.к таких пропусков 2, пропуски в рейтинге могут говорить о том, что данные игры не имеют ограничения , оставшиеся пропуски скорее всего появляются когда оценки критиков и пользователей ещё не выставлены, но если мы заменим их на медианное значение это не повлияет на результат и распределения"
   ]
  },
  {
   "cell_type": "markdown",
   "metadata": {},
   "source": [
    "## Шаг 2. Подготовьте данные"
   ]
  },
  {
   "cell_type": "markdown",
   "metadata": {},
   "source": [
    "-\tЗамените названия столбцов (приведите к нижнему регистру);\n",
    "-\tПреобразуйте данные в нужные типы. Опишите, в каких столбцах заменили тип данных и почему;\n",
    "-\tОбработайте пропуски при необходимости:\n",
    "-\tОбъясните, почему заполнили пропуски определённым образом или почему не стали это делать;\n",
    "-\tОпишите причины, которые могли привести к пропускам;\n",
    "-\tОбратите внимание на аббревиатуру 'tbd' в столбце с оценкой пользователей. Отдельно разберите это значение и опишите, как его обработать;\n",
    "-\tПосчитайте суммарные продажи во всех регионах и запишите их в отдельный столбец.\n"
   ]
  },
  {
   "cell_type": "code",
   "execution_count": 7,
   "metadata": {},
   "outputs": [
    {
     "data": {
      "text/html": [
       "<div>\n",
       "<style scoped>\n",
       "    .dataframe tbody tr th:only-of-type {\n",
       "        vertical-align: middle;\n",
       "    }\n",
       "\n",
       "    .dataframe tbody tr th {\n",
       "        vertical-align: top;\n",
       "    }\n",
       "\n",
       "    .dataframe thead th {\n",
       "        text-align: right;\n",
       "    }\n",
       "</style>\n",
       "<table border=\"1\" class=\"dataframe\">\n",
       "  <thead>\n",
       "    <tr style=\"text-align: right;\">\n",
       "      <th></th>\n",
       "      <th>name</th>\n",
       "      <th>platform</th>\n",
       "      <th>year_of_release</th>\n",
       "      <th>genre</th>\n",
       "      <th>na_sales</th>\n",
       "      <th>eu_sales</th>\n",
       "      <th>jp_sales</th>\n",
       "      <th>other_sales</th>\n",
       "      <th>critic_score</th>\n",
       "      <th>user_score</th>\n",
       "      <th>rating</th>\n",
       "    </tr>\n",
       "  </thead>\n",
       "  <tbody>\n",
       "    <tr>\n",
       "      <th>0</th>\n",
       "      <td>Wii Sports</td>\n",
       "      <td>Wii</td>\n",
       "      <td>2006.0</td>\n",
       "      <td>Sports</td>\n",
       "      <td>41.36</td>\n",
       "      <td>28.96</td>\n",
       "      <td>3.77</td>\n",
       "      <td>8.45</td>\n",
       "      <td>76.0</td>\n",
       "      <td>8</td>\n",
       "      <td>E</td>\n",
       "    </tr>\n",
       "    <tr>\n",
       "      <th>1</th>\n",
       "      <td>Super Mario Bros.</td>\n",
       "      <td>NES</td>\n",
       "      <td>1985.0</td>\n",
       "      <td>Platform</td>\n",
       "      <td>29.08</td>\n",
       "      <td>3.58</td>\n",
       "      <td>6.81</td>\n",
       "      <td>0.77</td>\n",
       "      <td>NaN</td>\n",
       "      <td>NaN</td>\n",
       "      <td>NaN</td>\n",
       "    </tr>\n",
       "    <tr>\n",
       "      <th>2</th>\n",
       "      <td>Mario Kart Wii</td>\n",
       "      <td>Wii</td>\n",
       "      <td>2008.0</td>\n",
       "      <td>Racing</td>\n",
       "      <td>15.68</td>\n",
       "      <td>12.76</td>\n",
       "      <td>3.79</td>\n",
       "      <td>3.29</td>\n",
       "      <td>82.0</td>\n",
       "      <td>8.3</td>\n",
       "      <td>E</td>\n",
       "    </tr>\n",
       "    <tr>\n",
       "      <th>3</th>\n",
       "      <td>Wii Sports Resort</td>\n",
       "      <td>Wii</td>\n",
       "      <td>2009.0</td>\n",
       "      <td>Sports</td>\n",
       "      <td>15.61</td>\n",
       "      <td>10.93</td>\n",
       "      <td>3.28</td>\n",
       "      <td>2.95</td>\n",
       "      <td>80.0</td>\n",
       "      <td>8</td>\n",
       "      <td>E</td>\n",
       "    </tr>\n",
       "    <tr>\n",
       "      <th>4</th>\n",
       "      <td>Pokemon Red/Pokemon Blue</td>\n",
       "      <td>GB</td>\n",
       "      <td>1996.0</td>\n",
       "      <td>Role-Playing</td>\n",
       "      <td>11.27</td>\n",
       "      <td>8.89</td>\n",
       "      <td>10.22</td>\n",
       "      <td>1.00</td>\n",
       "      <td>NaN</td>\n",
       "      <td>NaN</td>\n",
       "      <td>NaN</td>\n",
       "    </tr>\n",
       "  </tbody>\n",
       "</table>\n",
       "</div>"
      ],
      "text/plain": [
       "                       name platform  year_of_release         genre  na_sales  \\\n",
       "0                Wii Sports      Wii           2006.0        Sports     41.36   \n",
       "1         Super Mario Bros.      NES           1985.0      Platform     29.08   \n",
       "2            Mario Kart Wii      Wii           2008.0        Racing     15.68   \n",
       "3         Wii Sports Resort      Wii           2009.0        Sports     15.61   \n",
       "4  Pokemon Red/Pokemon Blue       GB           1996.0  Role-Playing     11.27   \n",
       "\n",
       "   eu_sales  jp_sales  other_sales  critic_score user_score rating  \n",
       "0     28.96      3.77         8.45          76.0          8      E  \n",
       "1      3.58      6.81         0.77           NaN        NaN    NaN  \n",
       "2     12.76      3.79         3.29          82.0        8.3      E  \n",
       "3     10.93      3.28         2.95          80.0          8      E  \n",
       "4      8.89     10.22         1.00           NaN        NaN    NaN  "
      ]
     },
     "execution_count": 7,
     "metadata": {},
     "output_type": "execute_result"
    }
   ],
   "source": [
    "# Приводим к нижнему регистру названия столбцов\n",
    "df.columns = df.columns.str.lower()\n",
    "df.head()"
   ]
  },
  {
   "cell_type": "code",
   "execution_count": 8,
   "metadata": {},
   "outputs": [
    {
     "data": {
      "text/html": [
       "<div>\n",
       "<style scoped>\n",
       "    .dataframe tbody tr th:only-of-type {\n",
       "        vertical-align: middle;\n",
       "    }\n",
       "\n",
       "    .dataframe tbody tr th {\n",
       "        vertical-align: top;\n",
       "    }\n",
       "\n",
       "    .dataframe thead th {\n",
       "        text-align: right;\n",
       "    }\n",
       "</style>\n",
       "<table border=\"1\" class=\"dataframe\">\n",
       "  <thead>\n",
       "    <tr style=\"text-align: right;\">\n",
       "      <th></th>\n",
       "      <th>name</th>\n",
       "      <th>platform</th>\n",
       "      <th>year_of_release</th>\n",
       "      <th>genre</th>\n",
       "      <th>na_sales</th>\n",
       "      <th>eu_sales</th>\n",
       "      <th>jp_sales</th>\n",
       "      <th>other_sales</th>\n",
       "      <th>critic_score</th>\n",
       "      <th>user_score</th>\n",
       "      <th>rating</th>\n",
       "    </tr>\n",
       "  </thead>\n",
       "  <tbody>\n",
       "    <tr>\n",
       "      <th>659</th>\n",
       "      <td>NaN</td>\n",
       "      <td>GEN</td>\n",
       "      <td>1993.0</td>\n",
       "      <td>NaN</td>\n",
       "      <td>1.78</td>\n",
       "      <td>0.53</td>\n",
       "      <td>0.00</td>\n",
       "      <td>0.08</td>\n",
       "      <td>NaN</td>\n",
       "      <td>NaN</td>\n",
       "      <td>NaN</td>\n",
       "    </tr>\n",
       "    <tr>\n",
       "      <th>14244</th>\n",
       "      <td>NaN</td>\n",
       "      <td>GEN</td>\n",
       "      <td>1993.0</td>\n",
       "      <td>NaN</td>\n",
       "      <td>0.00</td>\n",
       "      <td>0.00</td>\n",
       "      <td>0.03</td>\n",
       "      <td>0.00</td>\n",
       "      <td>NaN</td>\n",
       "      <td>NaN</td>\n",
       "      <td>NaN</td>\n",
       "    </tr>\n",
       "  </tbody>\n",
       "</table>\n",
       "</div>"
      ],
      "text/plain": [
       "      name platform  year_of_release genre  na_sales  eu_sales  jp_sales  \\\n",
       "659    NaN      GEN           1993.0   NaN      1.78      0.53      0.00   \n",
       "14244  NaN      GEN           1993.0   NaN      0.00      0.00      0.03   \n",
       "\n",
       "       other_sales  critic_score user_score rating  \n",
       "659           0.08           NaN        NaN    NaN  \n",
       "14244         0.00           NaN        NaN    NaN  "
      ]
     },
     "execution_count": 8,
     "metadata": {},
     "output_type": "execute_result"
    }
   ],
   "source": [
    "df[df['name'].isnull()]"
   ]
  },
  {
   "cell_type": "code",
   "execution_count": 9,
   "metadata": {},
   "outputs": [],
   "source": [
    "#Оказалась что пропуски у этих столбцов совпадают. Заполнить их как-либо мы не в силах, поэтому их лучше отбросить.\n",
    "df = df.dropna(subset=['name'])"
   ]
  },
  {
   "cell_type": "code",
   "execution_count": 10,
   "metadata": {},
   "outputs": [],
   "source": [
    "# Пропусков в year_of_release не много - 1,6% всех данных. Заполнить их не прдставляется возможным, поэтому тоже их отбросим.\n",
    "df = df.dropna(subset=['year_of_release'])\n",
    "df['year_of_release'] = df['year_of_release'].astype('int')"
   ]
  },
  {
   "cell_type": "code",
   "execution_count": 11,
   "metadata": {},
   "outputs": [
    {
     "data": {
      "text/plain": [
       "119      tbd\n",
       "301      tbd\n",
       "520      tbd\n",
       "645      tbd\n",
       "718      tbd\n",
       "        ... \n",
       "16695    tbd\n",
       "16697    tbd\n",
       "16698    tbd\n",
       "16704    tbd\n",
       "16706    tbd\n",
       "Name: user_score, Length: 2376, dtype: object"
      ]
     },
     "execution_count": 11,
     "metadata": {},
     "output_type": "execute_result"
    }
   ],
   "source": [
    "#Пропусков в столбцах critic_score и user_score очень много и заполнить их также не представляется возможным, как и удалить. \n",
    "#Однако есть любопытные пропуски в user_score - 'tbd'.\n",
    "df[df['user_score']=='tbd']['user_score']"
   ]
  },
  {
   "cell_type": "code",
   "execution_count": 12,
   "metadata": {},
   "outputs": [],
   "source": [
    "# В столбце 'user_score', кроме пропусков и значений содержится значения \"tbd\" (to be defined), которые стоит заменить на NaN, \n",
    "#так как эта аббревиатура обозначает \"Будет определено\"\n",
    "\n",
    "df.loc[df['user_score'] =='tbd','user_score'] = np.nan\n",
    "df['user_score'] = pd.to_numeric(df['user_score'])"
   ]
  },
  {
   "cell_type": "code",
   "execution_count": 13,
   "metadata": {},
   "outputs": [],
   "source": [
    "#Пропуски в столбцах critic_score и user_score заменим на -1, чтобы в дальнейшем можно было проводить анализ.\n",
    "# В канале project преподаватель Алан Кабисов рекомендовыал делать именно так, потому что пропусков очень много \n",
    "# и их заполнение каким-либо значением может сместить наши оценки\n",
    "\n",
    "df['critic_score'] = df['critic_score'].fillna(-1)\n",
    "df['user_score'] = df['user_score'].fillna(-1)"
   ]
  },
  {
   "cell_type": "code",
   "execution_count": 14,
   "metadata": {},
   "outputs": [
    {
     "name": "stdout",
     "output_type": "stream",
     "text": [
      "Количество пропусков в столбце critic_score - 0\n",
      "Количество пропусков в столбце user_score - 0\n"
     ]
    }
   ],
   "source": [
    "print('Количество пропусков в столбце critic_score - {}'.format(df['critic_score'].isnull().sum()))\n",
    "print('Количество пропусков в столбце user_score - {}'.format(df['user_score'].isnull().sum()))"
   ]
  },
  {
   "cell_type": "code",
   "execution_count": 15,
   "metadata": {},
   "outputs": [],
   "source": [
    "# также заменим тип данных в колонке critic_score на целочисленный.\n",
    "df['critic_score'] = df['critic_score'].astype('int')"
   ]
  },
  {
   "cell_type": "code",
   "execution_count": 16,
   "metadata": {},
   "outputs": [],
   "source": [
    "#В столбце rating заменим все пропуски на 'unknown', т.е. рейтинг неизвестный. Так сможем учесть эти данные \n",
    "#при дальнейшем анализе.\n",
    "\n",
    "df['rating'] = df['rating'].fillna('unknown')"
   ]
  },
  {
   "cell_type": "code",
   "execution_count": 17,
   "metadata": {},
   "outputs": [
    {
     "data": {
      "text/plain": [
       "0"
      ]
     },
     "execution_count": 17,
     "metadata": {},
     "output_type": "execute_result"
    }
   ],
   "source": [
    "df.duplicated().sum()"
   ]
  },
  {
   "cell_type": "code",
   "execution_count": 18,
   "metadata": {},
   "outputs": [
    {
     "data": {
      "text/html": [
       "<div>\n",
       "<style scoped>\n",
       "    .dataframe tbody tr th:only-of-type {\n",
       "        vertical-align: middle;\n",
       "    }\n",
       "\n",
       "    .dataframe tbody tr th {\n",
       "        vertical-align: top;\n",
       "    }\n",
       "\n",
       "    .dataframe thead th {\n",
       "        text-align: right;\n",
       "    }\n",
       "</style>\n",
       "<table border=\"1\" class=\"dataframe\">\n",
       "  <thead>\n",
       "    <tr style=\"text-align: right;\">\n",
       "      <th></th>\n",
       "      <th>name</th>\n",
       "      <th>platform</th>\n",
       "      <th>year_of_release</th>\n",
       "      <th>genre</th>\n",
       "      <th>na_sales</th>\n",
       "      <th>eu_sales</th>\n",
       "      <th>jp_sales</th>\n",
       "      <th>other_sales</th>\n",
       "      <th>critic_score</th>\n",
       "      <th>user_score</th>\n",
       "      <th>rating</th>\n",
       "    </tr>\n",
       "  </thead>\n",
       "  <tbody>\n",
       "    <tr>\n",
       "      <th>0</th>\n",
       "      <td>Wii Sports</td>\n",
       "      <td>Wii</td>\n",
       "      <td>2006</td>\n",
       "      <td>Sports</td>\n",
       "      <td>41.36</td>\n",
       "      <td>28.96</td>\n",
       "      <td>3.77</td>\n",
       "      <td>8.45</td>\n",
       "      <td>76</td>\n",
       "      <td>8.0</td>\n",
       "      <td>E</td>\n",
       "    </tr>\n",
       "    <tr>\n",
       "      <th>1</th>\n",
       "      <td>Super Mario Bros.</td>\n",
       "      <td>NES</td>\n",
       "      <td>1985</td>\n",
       "      <td>Platform</td>\n",
       "      <td>29.08</td>\n",
       "      <td>3.58</td>\n",
       "      <td>6.81</td>\n",
       "      <td>0.77</td>\n",
       "      <td>-1</td>\n",
       "      <td>-1.0</td>\n",
       "      <td>unknown</td>\n",
       "    </tr>\n",
       "    <tr>\n",
       "      <th>2</th>\n",
       "      <td>Mario Kart Wii</td>\n",
       "      <td>Wii</td>\n",
       "      <td>2008</td>\n",
       "      <td>Racing</td>\n",
       "      <td>15.68</td>\n",
       "      <td>12.76</td>\n",
       "      <td>3.79</td>\n",
       "      <td>3.29</td>\n",
       "      <td>82</td>\n",
       "      <td>8.3</td>\n",
       "      <td>E</td>\n",
       "    </tr>\n",
       "    <tr>\n",
       "      <th>3</th>\n",
       "      <td>Wii Sports Resort</td>\n",
       "      <td>Wii</td>\n",
       "      <td>2009</td>\n",
       "      <td>Sports</td>\n",
       "      <td>15.61</td>\n",
       "      <td>10.93</td>\n",
       "      <td>3.28</td>\n",
       "      <td>2.95</td>\n",
       "      <td>80</td>\n",
       "      <td>8.0</td>\n",
       "      <td>E</td>\n",
       "    </tr>\n",
       "    <tr>\n",
       "      <th>4</th>\n",
       "      <td>Pokemon Red/Pokemon Blue</td>\n",
       "      <td>GB</td>\n",
       "      <td>1996</td>\n",
       "      <td>Role-Playing</td>\n",
       "      <td>11.27</td>\n",
       "      <td>8.89</td>\n",
       "      <td>10.22</td>\n",
       "      <td>1.00</td>\n",
       "      <td>-1</td>\n",
       "      <td>-1.0</td>\n",
       "      <td>unknown</td>\n",
       "    </tr>\n",
       "    <tr>\n",
       "      <th>...</th>\n",
       "      <td>...</td>\n",
       "      <td>...</td>\n",
       "      <td>...</td>\n",
       "      <td>...</td>\n",
       "      <td>...</td>\n",
       "      <td>...</td>\n",
       "      <td>...</td>\n",
       "      <td>...</td>\n",
       "      <td>...</td>\n",
       "      <td>...</td>\n",
       "      <td>...</td>\n",
       "    </tr>\n",
       "    <tr>\n",
       "      <th>16710</th>\n",
       "      <td>Samurai Warriors: Sanada Maru</td>\n",
       "      <td>PS3</td>\n",
       "      <td>2016</td>\n",
       "      <td>Action</td>\n",
       "      <td>0.00</td>\n",
       "      <td>0.00</td>\n",
       "      <td>0.01</td>\n",
       "      <td>0.00</td>\n",
       "      <td>-1</td>\n",
       "      <td>-1.0</td>\n",
       "      <td>unknown</td>\n",
       "    </tr>\n",
       "    <tr>\n",
       "      <th>16711</th>\n",
       "      <td>LMA Manager 2007</td>\n",
       "      <td>X360</td>\n",
       "      <td>2006</td>\n",
       "      <td>Sports</td>\n",
       "      <td>0.00</td>\n",
       "      <td>0.01</td>\n",
       "      <td>0.00</td>\n",
       "      <td>0.00</td>\n",
       "      <td>-1</td>\n",
       "      <td>-1.0</td>\n",
       "      <td>unknown</td>\n",
       "    </tr>\n",
       "    <tr>\n",
       "      <th>16712</th>\n",
       "      <td>Haitaka no Psychedelica</td>\n",
       "      <td>PSV</td>\n",
       "      <td>2016</td>\n",
       "      <td>Adventure</td>\n",
       "      <td>0.00</td>\n",
       "      <td>0.00</td>\n",
       "      <td>0.01</td>\n",
       "      <td>0.00</td>\n",
       "      <td>-1</td>\n",
       "      <td>-1.0</td>\n",
       "      <td>unknown</td>\n",
       "    </tr>\n",
       "    <tr>\n",
       "      <th>16713</th>\n",
       "      <td>Spirits &amp; Spells</td>\n",
       "      <td>GBA</td>\n",
       "      <td>2003</td>\n",
       "      <td>Platform</td>\n",
       "      <td>0.01</td>\n",
       "      <td>0.00</td>\n",
       "      <td>0.00</td>\n",
       "      <td>0.00</td>\n",
       "      <td>-1</td>\n",
       "      <td>-1.0</td>\n",
       "      <td>unknown</td>\n",
       "    </tr>\n",
       "    <tr>\n",
       "      <th>16714</th>\n",
       "      <td>Winning Post 8 2016</td>\n",
       "      <td>PSV</td>\n",
       "      <td>2016</td>\n",
       "      <td>Simulation</td>\n",
       "      <td>0.00</td>\n",
       "      <td>0.00</td>\n",
       "      <td>0.01</td>\n",
       "      <td>0.00</td>\n",
       "      <td>-1</td>\n",
       "      <td>-1.0</td>\n",
       "      <td>unknown</td>\n",
       "    </tr>\n",
       "  </tbody>\n",
       "</table>\n",
       "<p>16444 rows × 11 columns</p>\n",
       "</div>"
      ],
      "text/plain": [
       "                                name platform  year_of_release         genre  \\\n",
       "0                         Wii Sports      Wii             2006        Sports   \n",
       "1                  Super Mario Bros.      NES             1985      Platform   \n",
       "2                     Mario Kart Wii      Wii             2008        Racing   \n",
       "3                  Wii Sports Resort      Wii             2009        Sports   \n",
       "4           Pokemon Red/Pokemon Blue       GB             1996  Role-Playing   \n",
       "...                              ...      ...              ...           ...   \n",
       "16710  Samurai Warriors: Sanada Maru      PS3             2016        Action   \n",
       "16711               LMA Manager 2007     X360             2006        Sports   \n",
       "16712        Haitaka no Psychedelica      PSV             2016     Adventure   \n",
       "16713               Spirits & Spells      GBA             2003      Platform   \n",
       "16714            Winning Post 8 2016      PSV             2016    Simulation   \n",
       "\n",
       "       na_sales  eu_sales  jp_sales  other_sales  critic_score  user_score  \\\n",
       "0         41.36     28.96      3.77         8.45            76         8.0   \n",
       "1         29.08      3.58      6.81         0.77            -1        -1.0   \n",
       "2         15.68     12.76      3.79         3.29            82         8.3   \n",
       "3         15.61     10.93      3.28         2.95            80         8.0   \n",
       "4         11.27      8.89     10.22         1.00            -1        -1.0   \n",
       "...         ...       ...       ...          ...           ...         ...   \n",
       "16710      0.00      0.00      0.01         0.00            -1        -1.0   \n",
       "16711      0.00      0.01      0.00         0.00            -1        -1.0   \n",
       "16712      0.00      0.00      0.01         0.00            -1        -1.0   \n",
       "16713      0.01      0.00      0.00         0.00            -1        -1.0   \n",
       "16714      0.00      0.00      0.01         0.00            -1        -1.0   \n",
       "\n",
       "        rating  \n",
       "0            E  \n",
       "1      unknown  \n",
       "2            E  \n",
       "3            E  \n",
       "4      unknown  \n",
       "...        ...  \n",
       "16710  unknown  \n",
       "16711  unknown  \n",
       "16712  unknown  \n",
       "16713  unknown  \n",
       "16714  unknown  \n",
       "\n",
       "[16444 rows x 11 columns]"
      ]
     },
     "execution_count": 18,
     "metadata": {},
     "output_type": "execute_result"
    }
   ],
   "source": [
    "df"
   ]
  },
  {
   "cell_type": "code",
   "execution_count": 19,
   "metadata": {},
   "outputs": [
    {
     "data": {
      "text/html": [
       "<div>\n",
       "<style scoped>\n",
       "    .dataframe tbody tr th:only-of-type {\n",
       "        vertical-align: middle;\n",
       "    }\n",
       "\n",
       "    .dataframe tbody tr th {\n",
       "        vertical-align: top;\n",
       "    }\n",
       "\n",
       "    .dataframe thead th {\n",
       "        text-align: right;\n",
       "    }\n",
       "</style>\n",
       "<table border=\"1\" class=\"dataframe\">\n",
       "  <thead>\n",
       "    <tr style=\"text-align: right;\">\n",
       "      <th></th>\n",
       "      <th>name</th>\n",
       "      <th>platform</th>\n",
       "      <th>year_of_release</th>\n",
       "      <th>genre</th>\n",
       "      <th>na_sales</th>\n",
       "      <th>eu_sales</th>\n",
       "      <th>jp_sales</th>\n",
       "      <th>other_sales</th>\n",
       "      <th>critic_score</th>\n",
       "      <th>user_score</th>\n",
       "      <th>rating</th>\n",
       "      <th>total_sales</th>\n",
       "    </tr>\n",
       "  </thead>\n",
       "  <tbody>\n",
       "    <tr>\n",
       "      <th>0</th>\n",
       "      <td>Wii Sports</td>\n",
       "      <td>Wii</td>\n",
       "      <td>2006</td>\n",
       "      <td>Sports</td>\n",
       "      <td>41.36</td>\n",
       "      <td>28.96</td>\n",
       "      <td>3.77</td>\n",
       "      <td>8.45</td>\n",
       "      <td>76</td>\n",
       "      <td>8.0</td>\n",
       "      <td>E</td>\n",
       "      <td>82.54</td>\n",
       "    </tr>\n",
       "    <tr>\n",
       "      <th>1</th>\n",
       "      <td>Super Mario Bros.</td>\n",
       "      <td>NES</td>\n",
       "      <td>1985</td>\n",
       "      <td>Platform</td>\n",
       "      <td>29.08</td>\n",
       "      <td>3.58</td>\n",
       "      <td>6.81</td>\n",
       "      <td>0.77</td>\n",
       "      <td>-1</td>\n",
       "      <td>-1.0</td>\n",
       "      <td>unknown</td>\n",
       "      <td>40.24</td>\n",
       "    </tr>\n",
       "    <tr>\n",
       "      <th>2</th>\n",
       "      <td>Mario Kart Wii</td>\n",
       "      <td>Wii</td>\n",
       "      <td>2008</td>\n",
       "      <td>Racing</td>\n",
       "      <td>15.68</td>\n",
       "      <td>12.76</td>\n",
       "      <td>3.79</td>\n",
       "      <td>3.29</td>\n",
       "      <td>82</td>\n",
       "      <td>8.3</td>\n",
       "      <td>E</td>\n",
       "      <td>35.52</td>\n",
       "    </tr>\n",
       "    <tr>\n",
       "      <th>3</th>\n",
       "      <td>Wii Sports Resort</td>\n",
       "      <td>Wii</td>\n",
       "      <td>2009</td>\n",
       "      <td>Sports</td>\n",
       "      <td>15.61</td>\n",
       "      <td>10.93</td>\n",
       "      <td>3.28</td>\n",
       "      <td>2.95</td>\n",
       "      <td>80</td>\n",
       "      <td>8.0</td>\n",
       "      <td>E</td>\n",
       "      <td>32.77</td>\n",
       "    </tr>\n",
       "    <tr>\n",
       "      <th>4</th>\n",
       "      <td>Pokemon Red/Pokemon Blue</td>\n",
       "      <td>GB</td>\n",
       "      <td>1996</td>\n",
       "      <td>Role-Playing</td>\n",
       "      <td>11.27</td>\n",
       "      <td>8.89</td>\n",
       "      <td>10.22</td>\n",
       "      <td>1.00</td>\n",
       "      <td>-1</td>\n",
       "      <td>-1.0</td>\n",
       "      <td>unknown</td>\n",
       "      <td>31.38</td>\n",
       "    </tr>\n",
       "  </tbody>\n",
       "</table>\n",
       "</div>"
      ],
      "text/plain": [
       "                       name platform  year_of_release         genre  na_sales  \\\n",
       "0                Wii Sports      Wii             2006        Sports     41.36   \n",
       "1         Super Mario Bros.      NES             1985      Platform     29.08   \n",
       "2            Mario Kart Wii      Wii             2008        Racing     15.68   \n",
       "3         Wii Sports Resort      Wii             2009        Sports     15.61   \n",
       "4  Pokemon Red/Pokemon Blue       GB             1996  Role-Playing     11.27   \n",
       "\n",
       "   eu_sales  jp_sales  other_sales  critic_score  user_score   rating  \\\n",
       "0     28.96      3.77         8.45            76         8.0        E   \n",
       "1      3.58      6.81         0.77            -1        -1.0  unknown   \n",
       "2     12.76      3.79         3.29            82         8.3        E   \n",
       "3     10.93      3.28         2.95            80         8.0        E   \n",
       "4      8.89     10.22         1.00            -1        -1.0  unknown   \n",
       "\n",
       "   total_sales  \n",
       "0        82.54  \n",
       "1        40.24  \n",
       "2        35.52  \n",
       "3        32.77  \n",
       "4        31.38  "
      ]
     },
     "execution_count": 19,
     "metadata": {},
     "output_type": "execute_result"
    }
   ],
   "source": [
    "# Добавим к исходной таблице столбец, в котором будет сумма продаж по всем регионам для каждой игры.\n",
    "df['total_sales'] = df[['na_sales', 'eu_sales', 'jp_sales', 'other_sales']].sum(axis = 1)\n",
    "df.head()"
   ]
  },
  {
   "cell_type": "markdown",
   "metadata": {},
   "source": [
    "Таким образом, мы сделали следующее:\n",
    "\n",
    "- заменили названия столбцов\n",
    "- заменили типы данных для удобствав у некоторых столбцов\n",
    "- обработали пропущенные значения в названии игры (такие строчки в количестве 2 штук удалили, так как они не несут никакой смысловой нагрузки), оценке критиков и оценке пользователей (все пропущенные значения соответственно были промаркированы -1 ввиду того, что точным образом их обработать нельзя на данном этапе).\n",
    "- Также пропущенные значения в рейтинге заменили на \"unknown\""
   ]
  },
  {
   "cell_type": "markdown",
   "metadata": {},
   "source": [
    "## Шаг 3. Проведите исследовательский анализ данных"
   ]
  },
  {
   "cell_type": "markdown",
   "metadata": {},
   "source": [
    "-\tПосмотрите, сколько игр выпускалось в разные годы. Важны ли данные за все периоды?\n",
    "-\tПосмотрите, как менялись продажи по платформам. Выберите платформы с наибольшими суммарными продажами и постройте распределение по годам. За какой характерный срок появляются новые и исчезают старые платформы?\n",
    "-\tВозьмите данные за соответствующий актуальный период. Актуальный период определите самостоятельно в результате исследования предыдущих вопросов. Основной фактор — эти данные помогут построить прогноз на 2017 год.\n",
    "-\tНе учитывайте в работе данные за предыдущие годы.\n",
    "-\tКакие платформы лидируют по продажам, растут или падают? Выберите несколько потенциально прибыльных платформ.\n",
    "-\tПостройте график «ящик с усами» по глобальным продажам игр в разбивке по платформам. Опишите результат.\n",
    "-\tПосмотрите, как влияют на продажи внутри одной популярной платформы отзывы пользователей и критиков. Постройте диаграмму рассеяния и посчитайте корреляцию между отзывами и продажами. Сформулируйте выводы.\n",
    "-\tСоотнесите выводы с продажами игр на других платформах.\n",
    "-\tПосмотрите на общее распределение игр по жанрам. Что можно сказать о самых прибыльных жанрах? Выделяются ли жанры с высокими и низкими продажами?\n"
   ]
  },
  {
   "cell_type": "markdown",
   "metadata": {},
   "source": [
    "### Выпущенные игры по годам"
   ]
  },
  {
   "cell_type": "code",
   "execution_count": 20,
   "metadata": {},
   "outputs": [],
   "source": [
    "# с помощью сводной таблицы сгруппируем данные по годам и посчитаем количество выпущенных игр для каждого года\n",
    "games_count = df.pivot_table(index='year_of_release', aggfunc={'name':'count'})\n",
    "games_count.columns = ['counts_of_games']\n",
    "#games_count"
   ]
  },
  {
   "cell_type": "code",
   "execution_count": 21,
   "metadata": {},
   "outputs": [
    {
     "data": {
      "image/png": "[encoded data removed]",
      "text/plain": [
       "<Figure size 864x504 with 1 Axes>"
      ]
     },
     "metadata": {
      "needs_background": "light"
     },
     "output_type": "display_data"
    }
   ],
   "source": [
    "# построим график распределения количества выпущенных игр в течение интересующего нас отрезка времени\n",
    "games_count.plot(y='counts_of_games', kind='bar', figsize=(12, 7), legend=False)\n",
    "plt.title(label='Распределение количества выпущенных игр с 1980 по 2016 года\\n')\n",
    "plt.xlabel(\"\\nГод релиза игры\")\n",
    "plt.ylabel(\"Количество игр\")\n",
    "plt.show()"
   ]
  },
  {
   "cell_type": "markdown",
   "metadata": {},
   "source": [
    "Видим что произошел скачок в разработке игр после 1993 года, так продолжалось до 2009 года, после чего пошел спад и резкое падение в разработке в 2012 году.\n",
    "\n",
    "Заметим, что больше всего игр было выпущено в период с 2005 по 2011 год.\n",
    "\n",
    "Для нашего анализа данные за весь предоставленный период не нужны, а нужны только те, которые отражают тенденции последних лет. В данном случае это данные после 2011 года."
   ]
  },
  {
   "cell_type": "markdown",
   "metadata": {},
   "source": [
    "### Изменения продаж платформ"
   ]
  },
  {
   "cell_type": "code",
   "execution_count": 22,
   "metadata": {},
   "outputs": [
    {
     "data": {
      "text/html": [
       "<div>\n",
       "<style scoped>\n",
       "    .dataframe tbody tr th:only-of-type {\n",
       "        vertical-align: middle;\n",
       "    }\n",
       "\n",
       "    .dataframe tbody tr th {\n",
       "        vertical-align: top;\n",
       "    }\n",
       "\n",
       "    .dataframe thead th {\n",
       "        text-align: right;\n",
       "    }\n",
       "</style>\n",
       "<table border=\"1\" class=\"dataframe\">\n",
       "  <thead>\n",
       "    <tr style=\"text-align: right;\">\n",
       "      <th></th>\n",
       "      <th>total_sales</th>\n",
       "    </tr>\n",
       "    <tr>\n",
       "      <th>platform</th>\n",
       "      <th></th>\n",
       "    </tr>\n",
       "  </thead>\n",
       "  <tbody>\n",
       "    <tr>\n",
       "      <th>PS2</th>\n",
       "      <td>1233.56</td>\n",
       "    </tr>\n",
       "    <tr>\n",
       "      <th>X360</th>\n",
       "      <td>961.24</td>\n",
       "    </tr>\n",
       "    <tr>\n",
       "      <th>PS3</th>\n",
       "      <td>931.34</td>\n",
       "    </tr>\n",
       "    <tr>\n",
       "      <th>Wii</th>\n",
       "      <td>891.18</td>\n",
       "    </tr>\n",
       "    <tr>\n",
       "      <th>DS</th>\n",
       "      <td>802.78</td>\n",
       "    </tr>\n",
       "    <tr>\n",
       "      <th>PS</th>\n",
       "      <td>727.58</td>\n",
       "    </tr>\n",
       "    <tr>\n",
       "      <th>PS4</th>\n",
       "      <td>314.14</td>\n",
       "    </tr>\n",
       "    <tr>\n",
       "      <th>GBA</th>\n",
       "      <td>312.88</td>\n",
       "    </tr>\n",
       "    <tr>\n",
       "      <th>PSP</th>\n",
       "      <td>289.53</td>\n",
       "    </tr>\n",
       "    <tr>\n",
       "      <th>3DS</th>\n",
       "      <td>257.81</td>\n",
       "    </tr>\n",
       "  </tbody>\n",
       "</table>\n",
       "</div>"
      ],
      "text/plain": [
       "          total_sales\n",
       "platform             \n",
       "PS2           1233.56\n",
       "X360           961.24\n",
       "PS3            931.34\n",
       "Wii            891.18\n",
       "DS             802.78\n",
       "PS             727.58\n",
       "PS4            314.14\n",
       "GBA            312.88\n",
       "PSP            289.53\n",
       "3DS            257.81"
      ]
     },
     "execution_count": 22,
     "metadata": {},
     "output_type": "execute_result"
    }
   ],
   "source": [
    "#Определим десять платформ с наибольшими суммарными продажами и построим гистограммы распределения продаж для каждой из \n",
    "#этих платформ.\n",
    "\n",
    "platform_sales_sum = (df\n",
    "                      .pivot_table(index=['platform'], aggfunc={'total_sales':sum})\n",
    "                      .nlargest(10, columns='total_sales')\n",
    "                     )\n",
    "platform_sales_sum"
   ]
  },
  {
   "cell_type": "code",
   "execution_count": 23,
   "metadata": {},
   "outputs": [
    {
     "data": {
      "text/html": [
       "<div>\n",
       "<style scoped>\n",
       "    .dataframe tbody tr th:only-of-type {\n",
       "        vertical-align: middle;\n",
       "    }\n",
       "\n",
       "    .dataframe tbody tr th {\n",
       "        vertical-align: top;\n",
       "    }\n",
       "\n",
       "    .dataframe thead th {\n",
       "        text-align: right;\n",
       "    }\n",
       "</style>\n",
       "<table border=\"1\" class=\"dataframe\">\n",
       "  <thead>\n",
       "    <tr style=\"text-align: right;\">\n",
       "      <th></th>\n",
       "      <th>name</th>\n",
       "      <th>platform</th>\n",
       "      <th>year_of_release</th>\n",
       "      <th>genre</th>\n",
       "      <th>na_sales</th>\n",
       "      <th>eu_sales</th>\n",
       "      <th>jp_sales</th>\n",
       "      <th>other_sales</th>\n",
       "      <th>critic_score</th>\n",
       "      <th>user_score</th>\n",
       "      <th>rating</th>\n",
       "      <th>total_sales</th>\n",
       "    </tr>\n",
       "  </thead>\n",
       "  <tbody>\n",
       "    <tr>\n",
       "      <th>0</th>\n",
       "      <td>Wii Sports</td>\n",
       "      <td>Wii</td>\n",
       "      <td>2006</td>\n",
       "      <td>Sports</td>\n",
       "      <td>41.36</td>\n",
       "      <td>28.96</td>\n",
       "      <td>3.77</td>\n",
       "      <td>8.45</td>\n",
       "      <td>76</td>\n",
       "      <td>8.0</td>\n",
       "      <td>E</td>\n",
       "      <td>82.54</td>\n",
       "    </tr>\n",
       "    <tr>\n",
       "      <th>2</th>\n",
       "      <td>Mario Kart Wii</td>\n",
       "      <td>Wii</td>\n",
       "      <td>2008</td>\n",
       "      <td>Racing</td>\n",
       "      <td>15.68</td>\n",
       "      <td>12.76</td>\n",
       "      <td>3.79</td>\n",
       "      <td>3.29</td>\n",
       "      <td>82</td>\n",
       "      <td>8.3</td>\n",
       "      <td>E</td>\n",
       "      <td>35.52</td>\n",
       "    </tr>\n",
       "    <tr>\n",
       "      <th>3</th>\n",
       "      <td>Wii Sports Resort</td>\n",
       "      <td>Wii</td>\n",
       "      <td>2009</td>\n",
       "      <td>Sports</td>\n",
       "      <td>15.61</td>\n",
       "      <td>10.93</td>\n",
       "      <td>3.28</td>\n",
       "      <td>2.95</td>\n",
       "      <td>80</td>\n",
       "      <td>8.0</td>\n",
       "      <td>E</td>\n",
       "      <td>32.77</td>\n",
       "    </tr>\n",
       "    <tr>\n",
       "      <th>6</th>\n",
       "      <td>New Super Mario Bros.</td>\n",
       "      <td>DS</td>\n",
       "      <td>2006</td>\n",
       "      <td>Platform</td>\n",
       "      <td>11.28</td>\n",
       "      <td>9.14</td>\n",
       "      <td>6.50</td>\n",
       "      <td>2.88</td>\n",
       "      <td>89</td>\n",
       "      <td>8.5</td>\n",
       "      <td>E</td>\n",
       "      <td>29.80</td>\n",
       "    </tr>\n",
       "    <tr>\n",
       "      <th>7</th>\n",
       "      <td>Wii Play</td>\n",
       "      <td>Wii</td>\n",
       "      <td>2006</td>\n",
       "      <td>Misc</td>\n",
       "      <td>13.96</td>\n",
       "      <td>9.18</td>\n",
       "      <td>2.93</td>\n",
       "      <td>2.84</td>\n",
       "      <td>58</td>\n",
       "      <td>6.6</td>\n",
       "      <td>E</td>\n",
       "      <td>28.91</td>\n",
       "    </tr>\n",
       "    <tr>\n",
       "      <th>...</th>\n",
       "      <td>...</td>\n",
       "      <td>...</td>\n",
       "      <td>...</td>\n",
       "      <td>...</td>\n",
       "      <td>...</td>\n",
       "      <td>...</td>\n",
       "      <td>...</td>\n",
       "      <td>...</td>\n",
       "      <td>...</td>\n",
       "      <td>...</td>\n",
       "      <td>...</td>\n",
       "      <td>...</td>\n",
       "    </tr>\n",
       "    <tr>\n",
       "      <th>16708</th>\n",
       "      <td>Woody Woodpecker in Crazy Castle 5</td>\n",
       "      <td>GBA</td>\n",
       "      <td>2002</td>\n",
       "      <td>Platform</td>\n",
       "      <td>0.01</td>\n",
       "      <td>0.00</td>\n",
       "      <td>0.00</td>\n",
       "      <td>0.00</td>\n",
       "      <td>-1</td>\n",
       "      <td>-1.0</td>\n",
       "      <td>unknown</td>\n",
       "      <td>0.01</td>\n",
       "    </tr>\n",
       "    <tr>\n",
       "      <th>16709</th>\n",
       "      <td>SCORE International Baja 1000: The Official Game</td>\n",
       "      <td>PS2</td>\n",
       "      <td>2008</td>\n",
       "      <td>Racing</td>\n",
       "      <td>0.00</td>\n",
       "      <td>0.00</td>\n",
       "      <td>0.00</td>\n",
       "      <td>0.00</td>\n",
       "      <td>-1</td>\n",
       "      <td>-1.0</td>\n",
       "      <td>unknown</td>\n",
       "      <td>0.00</td>\n",
       "    </tr>\n",
       "    <tr>\n",
       "      <th>16710</th>\n",
       "      <td>Samurai Warriors: Sanada Maru</td>\n",
       "      <td>PS3</td>\n",
       "      <td>2016</td>\n",
       "      <td>Action</td>\n",
       "      <td>0.00</td>\n",
       "      <td>0.00</td>\n",
       "      <td>0.01</td>\n",
       "      <td>0.00</td>\n",
       "      <td>-1</td>\n",
       "      <td>-1.0</td>\n",
       "      <td>unknown</td>\n",
       "      <td>0.01</td>\n",
       "    </tr>\n",
       "    <tr>\n",
       "      <th>16711</th>\n",
       "      <td>LMA Manager 2007</td>\n",
       "      <td>X360</td>\n",
       "      <td>2006</td>\n",
       "      <td>Sports</td>\n",
       "      <td>0.00</td>\n",
       "      <td>0.01</td>\n",
       "      <td>0.00</td>\n",
       "      <td>0.00</td>\n",
       "      <td>-1</td>\n",
       "      <td>-1.0</td>\n",
       "      <td>unknown</td>\n",
       "      <td>0.01</td>\n",
       "    </tr>\n",
       "    <tr>\n",
       "      <th>16713</th>\n",
       "      <td>Spirits &amp; Spells</td>\n",
       "      <td>GBA</td>\n",
       "      <td>2003</td>\n",
       "      <td>Platform</td>\n",
       "      <td>0.01</td>\n",
       "      <td>0.00</td>\n",
       "      <td>0.00</td>\n",
       "      <td>0.00</td>\n",
       "      <td>-1</td>\n",
       "      <td>-1.0</td>\n",
       "      <td>unknown</td>\n",
       "      <td>0.01</td>\n",
       "    </tr>\n",
       "  </tbody>\n",
       "</table>\n",
       "<p>12170 rows × 12 columns</p>\n",
       "</div>"
      ],
      "text/plain": [
       "                                                   name platform  \\\n",
       "0                                            Wii Sports      Wii   \n",
       "2                                        Mario Kart Wii      Wii   \n",
       "3                                     Wii Sports Resort      Wii   \n",
       "6                                 New Super Mario Bros.       DS   \n",
       "7                                              Wii Play      Wii   \n",
       "...                                                 ...      ...   \n",
       "16708                Woody Woodpecker in Crazy Castle 5      GBA   \n",
       "16709  SCORE International Baja 1000: The Official Game      PS2   \n",
       "16710                     Samurai Warriors: Sanada Maru      PS3   \n",
       "16711                                  LMA Manager 2007     X360   \n",
       "16713                                  Spirits & Spells      GBA   \n",
       "\n",
       "       year_of_release     genre  na_sales  eu_sales  jp_sales  other_sales  \\\n",
       "0                 2006    Sports     41.36     28.96      3.77         8.45   \n",
       "2                 2008    Racing     15.68     12.76      3.79         3.29   \n",
       "3                 2009    Sports     15.61     10.93      3.28         2.95   \n",
       "6                 2006  Platform     11.28      9.14      6.50         2.88   \n",
       "7                 2006      Misc     13.96      9.18      2.93         2.84   \n",
       "...                ...       ...       ...       ...       ...          ...   \n",
       "16708             2002  Platform      0.01      0.00      0.00         0.00   \n",
       "16709             2008    Racing      0.00      0.00      0.00         0.00   \n",
       "16710             2016    Action      0.00      0.00      0.01         0.00   \n",
       "16711             2006    Sports      0.00      0.01      0.00         0.00   \n",
       "16713             2003  Platform      0.01      0.00      0.00         0.00   \n",
       "\n",
       "       critic_score  user_score   rating  total_sales  \n",
       "0                76         8.0        E        82.54  \n",
       "2                82         8.3        E        35.52  \n",
       "3                80         8.0        E        32.77  \n",
       "6                89         8.5        E        29.80  \n",
       "7                58         6.6        E        28.91  \n",
       "...             ...         ...      ...          ...  \n",
       "16708            -1        -1.0  unknown         0.01  \n",
       "16709            -1        -1.0  unknown         0.00  \n",
       "16710            -1        -1.0  unknown         0.01  \n",
       "16711            -1        -1.0  unknown         0.01  \n",
       "16713            -1        -1.0  unknown         0.01  \n",
       "\n",
       "[12170 rows x 12 columns]"
      ]
     },
     "execution_count": 23,
     "metadata": {},
     "output_type": "execute_result"
    }
   ],
   "source": [
    "# создадим новый датафрэйм отфильтрованный по топ-10 платформ:\n",
    "platform_years = df.query('platform in @platform_sales_sum.index')\n",
    "platform_years"
   ]
  },
  {
   "cell_type": "code",
   "execution_count": 24,
   "metadata": {},
   "outputs": [],
   "source": [
    "#Построим гистограммы\n",
    "# создаем список с названиями платформ:\n",
    "platform_list = platform_years['platform'].unique()"
   ]
  },
  {
   "cell_type": "code",
   "execution_count": 25,
   "metadata": {},
   "outputs": [],
   "source": [
    "# создаем список с временным диапазоном:\n",
    "years_list = []\n",
    "for i in range(1980, 2017):\n",
    "    years_list.append(i)"
   ]
  },
  {
   "cell_type": "code",
   "execution_count": 26,
   "metadata": {},
   "outputs": [
    {
     "data": {
      "image/png": "[encoded data removed]",
      "text/plain": [
       "<Figure size 432x288 with 1 Axes>"
      ]
     },
     "metadata": {
      "needs_background": "light"
     },
     "output_type": "display_data"
    },
    {
     "data": {
      "image/png": "[encoded data removed]",
      "text/plain": [
       "<Figure size 432x288 with 1 Axes>"
      ]
     },
     "metadata": {
      "needs_background": "light"
     },
     "output_type": "display_data"
    },
    {
     "data": {
      "image/png": "[encoded data removed]",
      "text/plain": [
       "<Figure size 432x288 with 1 Axes>"
      ]
     },
     "metadata": {
      "needs_background": "light"
     },
     "output_type": "display_data"
    },
    {
     "data": {
      "image/png": "[encoded data removed]",
      "text/plain": [
       "<Figure size 432x288 with 1 Axes>"
      ]
     },
     "metadata": {
      "needs_background": "light"
     },
     "output_type": "display_data"
    },
    {
     "data": {
      "image/png": "[encoded data removed]",
      "text/plain": [
       "<Figure size 432x288 with 1 Axes>"
      ]
     },
     "metadata": {
      "needs_background": "light"
     },
     "output_type": "display_data"
    },
    {
     "data": {
      "image/png": "[encoded data removed]",
      "text/plain": [
       "<Figure size 432x288 with 1 Axes>"
      ]
     },
     "metadata": {
      "needs_background": "light"
     },
     "output_type": "display_data"
    },
    {
     "data": {
      "image/png": "[encoded data removed]",
      "text/plain": [
       "<Figure size 432x288 with 1 Axes>"
      ]
     },
     "metadata": {
      "needs_background": "light"
     },
     "output_type": "display_data"
    },
    {
     "data": {
      "image/png": "[encoded data removed]",
      "text/plain": [
       "<Figure size 432x288 with 1 Axes>"
      ]
     },
     "metadata": {
      "needs_background": "light"
     },
     "output_type": "display_data"
    },
    {
     "data": {
      "image/png": "[encoded data removed]",
      "text/plain": [
       "<Figure size 432x288 with 1 Axes>"
      ]
     },
     "metadata": {
      "needs_background": "light"
     },
     "output_type": "display_data"
    },
    {
     "data": {
      "image/png": "[encoded data removed]",
      "text/plain": [
       "<Figure size 432x288 with 1 Axes>"
      ]
     },
     "metadata": {
      "needs_background": "light"
     },
     "output_type": "display_data"
    }
   ],
   "source": [
    "# цикл для построения гистограмм:\n",
    "for i in range(0, len(platform_list)):\n",
    "    platform_years[platform_years['platform'] == platform_list[i]].plot(kind='hist', bins = years_list, legend=False, grid=True)\n",
    "    plt.title(label = platform_list[i])\n",
    "    plt.xlabel(\"Год релиза игры\")\n",
    "    plt.ylabel(\"Частота\")"
   ]
  },
  {
   "cell_type": "markdown",
   "metadata": {},
   "source": [
    "Графики наглядно показывают поведение платформы за время ее существования.\n",
    "\n",
    "Каков же срок жизни платформы? Попробуем ответить на этот вопрос вычислив среднюю продолжительность жизни.\n",
    "Но для этого буду использовать только те платформы, продажи по которым совершенно упали. Увидеть это можно из гистограмм, построенных для всех платформ из исходного датасета. Также лучше применить медиану для оценки продолжительности жизни, т.к. есть платформы \"умершие\" очень быстро, в течение одного двух лет."
   ]
  },
  {
   "cell_type": "code",
   "execution_count": null,
   "metadata": {},
   "outputs": [],
   "source": [
    "# строим гистограммы распределения продаж для всех платформ на основании исходного датафрейма\n",
    "all_platform_list = df['platform'].unique()\n",
    "for i in range(0, len(all_platform_list)):\n",
    "    df[df['platform'] == all_platform_list[i]].plot(kind='hist', bins=years_list, legend=False, grid=True)\n",
    "    plt.title(label = all_platform_list[i])\n",
    "    plt.xlabel(\"Год релиза игры\")\n",
    "    plt.ylabel(\"Частота\")"
   ]
  },
  {
   "cell_type": "code",
   "execution_count": null,
   "metadata": {},
   "outputs": [],
   "source": [
    "# исключающий список\n",
    "platforms = ['PC', 'X360', 'PS3', '3DS', 'PSV', 'WiiU', 'XOne', 'PS4']\n",
    "# с помощью сводной таблицы вычислим разность между годом окончания существования платформы и началом\n",
    "platform_lifetime = df.pivot_table(index='platform', values='year_of_release', aggfunc=[min, max])\n",
    "platform_lifetime.columns = ['beginnig', 'end']\n",
    "platform_lifetime['duration'] = platform_lifetime['end'] - platform_lifetime['beginnig']\n",
    "\n",
    "# отфильтруем полученную таблицу по списку platform_exclude\n",
    "platform_lifetime_new = (platform_lifetime\n",
    "                     .reset_index()\n",
    "                     .query('platform not in @platforms')\n",
    "                    )\n",
    "platform_lifetime_new"
   ]
  },
  {
   "cell_type": "code",
   "execution_count": null,
   "metadata": {},
   "outputs": [],
   "source": [
    "mean_lifetime = platform_lifetime_new['duration'].median()\n",
    "mean_lifetime"
   ]
  },
  {
   "cell_type": "markdown",
   "metadata": {},
   "source": [
    "Средний срок жизни платформы составляет 7 лет.\n",
    "\n",
    "Чтобы определить тенденцию изменения продолжительности жизни платформ построим график."
   ]
  },
  {
   "cell_type": "code",
   "execution_count": null,
   "metadata": {},
   "outputs": [],
   "source": [
    "# отсортируем таблицу по годам появления на рынке платформ\n",
    "platform_lifetime_x = platform_lifetime_new.sort_values(by='beginnig')['beginnig']\n",
    "platform_lifetime_y = platform_lifetime_new.sort_values(by='beginnig')['duration']\n",
    "plt.figure(figsize=(12,7))\n",
    "plt.scatter(platform_lifetime_x, platform_lifetime_y)\n",
    "# построим линию, показывающую тенденцию продолжительности жизни\n",
    "z = np.polyfit(platform_lifetime_x, platform_lifetime_y, 1)\n",
    "p = np.poly1d(z)\n",
    "plt.plot(platform_lifetime_x,p(platform_lifetime_x))\n",
    "\n",
    "plt.title(label='Тенденция изменения продолжительности жизни игровых платформ\\n')\n",
    "plt.xlabel(\"\\nГод релиза платформы\")\n",
    "plt.ylabel(\"Продолжительность жизни платформы\")\n",
    "plt.show()"
   ]
  },
  {
   "cell_type": "markdown",
   "metadata": {},
   "source": [
    "Как видим продолжительность жизни платформ снижается с течением времени.\n",
    "\n",
    "Также посчитаем через сколько времени в среднем появляется новая платформа. \n",
    "Посмотрим на изменение этого параметра в расматриваемом промежутке времени."
   ]
  },
  {
   "cell_type": "code",
   "execution_count": null,
   "metadata": {},
   "outputs": [],
   "source": [
    "# отсортируем сгруппированную по платформам таблицу по возрастанию\n",
    "platform_lifetime_up = platform_lifetime.sort_values(by='beginnig')\n",
    "#platform_lifetime_up"
   ]
  },
  {
   "cell_type": "code",
   "execution_count": null,
   "metadata": {},
   "outputs": [],
   "source": [
    "# значения столбца beginnig переведем в список\n",
    "list_year_begin = list(platform_lifetime_up['beginnig'])\n",
    "# создаем пустой список куда будет записываться разность в годах между релизами новых платформ\n",
    "list_year_begin_difference = []\n",
    "\n",
    "for i in range(0, len(list_year_begin)-1):\n",
    "    difference = list_year_begin[i+1] - list_year_begin[i]\n",
    "    list_year_begin_difference.append(difference)\n",
    "\n",
    "# добавим последним значением NaN чтобы можно было присоединить полученные значения к датафрейму platform_lifetime_up\n",
    "list_year_begin_difference.append(np.nan)\n",
    "# добавляем полученные значения к датафрейму\n",
    "platform_lifetime_up['difference'] = list_year_begin_difference\n",
    "\n",
    "# удаляем строку с пропуском чтобы можно было построить график\n",
    "platform_lifetime_up = platform_lifetime_up.dropna()\n",
    "platform_lifetime_up"
   ]
  },
  {
   "cell_type": "code",
   "execution_count": null,
   "metadata": {},
   "outputs": [],
   "source": [
    "# посторим точечный график рассеяния\n",
    "up_x = platform_lifetime_up['beginnig']\n",
    "up_y = platform_lifetime_up['difference']\n",
    "plt.figure(figsize=(12,7))\n",
    "plt.scatter(up_x, up_y)\n",
    "\n",
    "plt.title(label='Тенденция изменения продолжительности жизни игровых платформ\\n')\n",
    "plt.xlabel(\"\\nВремя в годах\")\n",
    "plt.ylabel(\"Время до появления новой платформы в годах\")\n",
    "plt.show()"
   ]
  },
  {
   "cell_type": "code",
   "execution_count": null,
   "metadata": {},
   "outputs": [],
   "source": [
    "platform_lifetime_up['difference'].median()"
   ]
  },
  {
   "cell_type": "markdown",
   "metadata": {},
   "source": [
    "Время между появлениями новых платформ сокращается. Все быстрее и быстрее появляются новые платформы.\n",
    "\n",
    "Среднее время появления новой платформы составляет 1 год"
   ]
  },
  {
   "cell_type": "markdown",
   "metadata": {},
   "source": [
    "### Потенциально прибыльные платформы"
   ]
  },
  {
   "cell_type": "code",
   "execution_count": null,
   "metadata": {},
   "outputs": [],
   "source": [
    "#Актуальным периодом будем считать 2012 - 2016 года. Сделаем срез данных по этому периоду.\n",
    "relevant_years = []\n",
    "for i in range(2012, 2017):\n",
    "    relevant_years.append(i)\n",
    "\n",
    "df_relevant = df.query('year_of_release in @relevant_years')\n",
    "df_relevant"
   ]
  },
  {
   "cell_type": "code",
   "execution_count": null,
   "metadata": {},
   "outputs": [],
   "source": [
    "#Посмотрим какие платформы лидируют по суммарным продажам в этом периоде времени:\n",
    "relevant_platform_sales_sum = (df_relevant\n",
    "                          .pivot_table(index='platform', values='total_sales', aggfunc=sum)\n",
    "                          .sort_values(by='total_sales', ascending=False)\n",
    "                         )\n",
    "relevant_platform_sales_sum"
   ]
  },
  {
   "cell_type": "code",
   "execution_count": null,
   "metadata": {},
   "outputs": [],
   "source": [
    "# Построим гистограммы\n",
    "for i in range(0, len(relevant_platform_sales_sum.index)):\n",
    "    df_relevant[df_relevant['platform'] == relevant_platform_sales_sum.index[i]].plot(kind='hist', bins=years_list, legend=False, title=relevant_platform_sales_sum.index[i], grid=True)\n",
    "    \n",
    "    plt.title(label = relevant_platform_sales_sum.index[i])\n",
    "    plt.xlabel(\"Год релиза игры\")\n",
    "    plt.ylabel(\"Частота\")"
   ]
  },
  {
   "cell_type": "code",
   "execution_count": null,
   "metadata": {},
   "outputs": [],
   "source": [
    "# Построим гистограммы\n",
    "for i in range(0, len(relevant_platform_sales_sum.index)):\n",
    "    df_relevant[df_relevant['platform'] == relevant_platform_sales_sum.index[i]].plot(kind='hist', bins=years_list, legend=False, title=relevant_platform_sales_sum.index[i], grid=True)\n",
    "    \n",
    "    plt.title(label = relevant_platform_sales_sum.index[i])\n",
    "    plt.xlabel(\"Год релиза игры\")\n",
    "    plt.ylabel(\"Частота\")"
   ]
  },
  {
   "cell_type": "code",
   "execution_count": null,
   "metadata": {},
   "outputs": [],
   "source": [
    "# посмотрим сколько было платформ в исходном датасете\n",
    "len(df['platform'].unique())"
   ]
  },
  {
   "cell_type": "markdown",
   "metadata": {},
   "source": [
    "Вывод: В актуальном периоде, который мы выбрали, из 31 платформы остались только 11. Из этих 11 платформы DS и PSP можно исключить из потенциально прибыльных платформ, т.к. DS уже прекратила свое существование, а у PSP продажи практически равно нулю. Список потенциально прибыльных платформ в актуальном периоде выглядит так: relevant_platforms = ['PS4', 'PS3', 'X360', '3DS', 'XOne', 'WiiU', 'PC', 'PSV', 'Wii']"
   ]
  },
  {
   "cell_type": "markdown",
   "metadata": {},
   "source": [
    "### Продажи игр"
   ]
  },
  {
   "cell_type": "code",
   "execution_count": null,
   "metadata": {},
   "outputs": [],
   "source": [
    "plt.figure(figsize=(15,10))\n",
    "sns.boxplot(data = df_relevant, x='total_sales', y='platform')\n",
    "\n",
    "plt.title(label='Продажи игр по платформам\\n')\n",
    "plt.xlabel(\"\\nСуммарные продажи\")\n",
    "plt.ylabel(\"Платформы\")\n",
    "plt.xlim(0, 2.5)\n",
    "plt.show()"
   ]
  },
  {
   "cell_type": "markdown",
   "metadata": {},
   "source": [
    "По данным диаграммам легко определить была ли популярна платформа в интересующий нас отрезок времени. Определить можно по объему продаж, входящему в межквартильный размах и медианному значению, чем они выше тем популярнее платформа. \n",
    "\n",
    "Например, по графику видно, что PS4, X360 без сомнений популярны, также к популярным можно отнести XOne, Wii - они примерно на одном уровне. Наибольшая медиана у X360 из представленных платформ."
   ]
  },
  {
   "cell_type": "markdown",
   "metadata": {},
   "source": [
    "### Зависимость продаж от оценок критиков и пользователей"
   ]
  },
  {
   "cell_type": "code",
   "execution_count": null,
   "metadata": {},
   "outputs": [],
   "source": [
    "ps4 = df_relevant.query('platform == \"PS4\" and (user_score != -1) and (critic_score != -1)')\n",
    "\n",
    "# посчитаем коэффициент корреляции для отзывов пользователей и критиков относительно объема продаж\n",
    "# и построим корреляционную диаграмму\n",
    "for column in ['user_score', 'critic_score']:\n",
    "    print(round(ps4[column].corr(ps4['total_sales']), 2))\n",
    "    sns.relplot(x=column, y=\"total_sales\", data=ps4)"
   ]
  },
  {
   "cell_type": "code",
   "execution_count": null,
   "metadata": {},
   "outputs": [],
   "source": [
    "# Загуглила, оказалось 'PSP' уже неактуальна, а 'DS' прекратила существование, поэтому создала спиоск без этих платформ. \n",
    "#к устаревшим платформам можно отнести X360, PS3, Wii\n",
    "\n",
    "# посчитаем коэффициент корреляции для отзывов пользователей и критиков относительно объема продаж\n",
    "# и построим корреляционную диаграмму\n",
    "for platform in ['PS4', '3DS', 'XOne', 'WiiU', 'PC', 'PSV']:\n",
    "    print('\\n{0}:'.format(platform))\n",
    "    for column in ['user_score', 'critic_score']:\n",
    "        temp = df_relevant.query('platform == @platform and (user_score != -1) and (critic_score != -1)')\n",
    "        print('Коэффициент корреляции {0} и total_sales: {1}'.\\\n",
    "              format(column, round(temp[column].corr(temp['total_sales']), 2)))\n",
    "        sns.relplot(x=column, y=\"total_sales\", data=temp)\n",
    "        _ = plt.title(platform)"
   ]
  },
  {
   "cell_type": "markdown",
   "metadata": {},
   "source": [
    "Заметим, что между пользовательской оценкой и продажами есть корреляция, но она небольшая, по сравнению с оценками критиков. Это логично, так как если оценки критиков у фильмов хорошие, то большое количество людей решат пойти на него, хотя не стоит недооценивать пользователей, их оценки тоже могут повлиять на продажи, хоть и не так сащественно"
   ]
  },
  {
   "cell_type": "markdown",
   "metadata": {},
   "source": [
    "Исходя из графиков расеяния можно сказать, что объем продаж довольно резко возрастает при оценке критиков от 60 и выше, а до этой отметки продажи малы.\n",
    "\n",
    "Зависимость продаж от оценок пользователей менее выраженная, но можно сказать, что продажи растут начиная с отметок в 4 балла.\n",
    "\n",
    "Коэффициент корреляции показывает, что зависимость продаж от оценок критиков сильнее, чем от оценок пользователей."
   ]
  },
  {
   "cell_type": "markdown",
   "metadata": {},
   "source": [
    "### Распределение игр по жанрам"
   ]
  },
  {
   "cell_type": "code",
   "execution_count": null,
   "metadata": {},
   "outputs": [],
   "source": [
    "#Рассмотрим как распределяются игры в зависимости от жанра.\n",
    "#Сначала оценим количественное распределение по жанрам.\n",
    "df_relevant['genre'].value_counts().plot(kind='pie', figsize=(8, 8), legend=False)"
   ]
  },
  {
   "cell_type": "markdown",
   "metadata": {},
   "source": [
    "Самое больше кол-во игр в жанре Action"
   ]
  },
  {
   "cell_type": "code",
   "execution_count": null,
   "metadata": {},
   "outputs": [],
   "source": [
    "#Посмотрим как распределяются продажи в зависимости от жанра игры.\n",
    "(df_relevant\n",
    "                   .pivot_table(index='genre', aggfunc={'total_sales':sum})\n",
    "                   .sort_values(by='total_sales', ascending=False)\n",
    "                   .plot(y='total_sales', kind='bar', figsize=(10, 5)))"
   ]
  },
  {
   "cell_type": "markdown",
   "metadata": {},
   "source": [
    "Вывод: жанр Action лидирует в продажах."
   ]
  },
  {
   "cell_type": "code",
   "execution_count": null,
   "metadata": {},
   "outputs": [],
   "source": [
    "genre_analysis_pivot_table = df_relevant.groupby('genre').agg({'name':'count','total_sales':['median','sum']})\n",
    "genre_analysis_pivot_table.columns = ['count', 'median','sum']\n",
    "genre_analysis_pivot_table = genre_analysis_pivot_table.sort_values(by = 'sum', ascending = False)\n",
    "genre_analysis_pivot_table"
   ]
  },
  {
   "cell_type": "markdown",
   "metadata": {},
   "source": [
    "Можно заметить, что не всегда количество игр жанра гарантирует хорошие продажи, например, в жанре adventure выпущено много игр, но они имеют очень маленькое медианное значение продаж. Так же можно увидеть, что существуют обратные случаи, когда медианное значение продаж приближается к максимальному, среди всех жанров, но количество игр очень маленькое, примером может служить жанр simulation. Если рассматривать только самые прибыльные жанры, то можно заметить, что в них сочетаются два параметра, у них большое количество игр и высокое медианное значение."
   ]
  },
  {
   "cell_type": "markdown",
   "metadata": {},
   "source": [
    "## Шаг 4. Составьте портрет пользователя каждого региона"
   ]
  },
  {
   "cell_type": "markdown",
   "metadata": {},
   "source": [
    "Определите для пользователя каждого региона (NA, EU, JP):\n",
    "\n",
    "-\tСамые популярные платформы (топ-5). Опишите различия в долях продаж.\n",
    "-\tСамые популярные жанры (топ-5). Поясните разницу.\n",
    "-\tВлияет ли рейтинг ESRB на продажи в отдельном регионе?"
   ]
  },
  {
   "cell_type": "markdown",
   "metadata": {},
   "source": [
    "### Портрет пользователя"
   ]
  },
  {
   "cell_type": "markdown",
   "metadata": {},
   "source": [
    "#### топ-5 платформ"
   ]
  },
  {
   "cell_type": "code",
   "execution_count": null,
   "metadata": {},
   "outputs": [],
   "source": [
    "#Для каждого региона посчитаем суммарные продажи по платформам и определим 5 самых популярных.\n",
    "top5_platforms_per_region = (df_relevant.pivot_table(index='platform', aggfunc={'na_sales':sum, 'eu_sales':sum, 'jp_sales':sum}))\n",
    "top5_platforms_per_region"
   ]
  },
  {
   "cell_type": "code",
   "execution_count": null,
   "metadata": {},
   "outputs": [],
   "source": [
    "#Построим графики распределения продаж по платформам оставив самые популярные.\n",
    "# список регионов для цикла\n",
    "region = ['eu_sales', 'na_sales', 'jp_sales']\n",
    "\n",
    "for i in range(0, 3):\n",
    "    (top5_platforms_per_region\n",
    "     .nlargest(5, columns=region[i])\n",
    "     .plot(y=region[i], kind='bar', figsize=(10, 5), title=region[i]+'_top_5_platforms'))"
   ]
  },
  {
   "cell_type": "markdown",
   "metadata": {},
   "source": [
    "Из графиков видно, что в Европе самая популярная платформа - PS4, в Северной Америке - X360, в Японии - 3DS."
   ]
  },
  {
   "cell_type": "markdown",
   "metadata": {},
   "source": [
    "#### топ-5 жанров"
   ]
  },
  {
   "cell_type": "code",
   "execution_count": null,
   "metadata": {},
   "outputs": [],
   "source": [
    "#Для каждого региона посчитаем суммарные продажи по жанрам и определим 5 самых популярных.\n",
    "top5_genre_per_region = (df_relevant.pivot_table(index='genre', aggfunc={'na_sales':sum, 'eu_sales':sum, 'jp_sales':sum}))\n",
    "top5_genre_per_region"
   ]
  },
  {
   "cell_type": "code",
   "execution_count": null,
   "metadata": {},
   "outputs": [],
   "source": [
    "for i in range(0, 3):\n",
    "    (top5_genre_per_region\n",
    "     .nlargest(5, columns=region[i])\n",
    "     .plot(y=region[i], kind='bar', figsize=(10, 5), title=region[i]+'_top_5_genre'))"
   ]
  },
  {
   "cell_type": "markdown",
   "metadata": {},
   "source": [
    "Из графиков видно, что популярность жанров Европы и Северной Америки практически одинаковые, за исключением последнего жанра - в Европе Racing, а в Северной Америке - Misc. Жанры в Японии Role и Action лидеры в продажах с большим и резким отрывом от остальных жанров."
   ]
  },
  {
   "cell_type": "markdown",
   "metadata": {},
   "source": [
    "#### Рейтинг ESRB"
   ]
  },
  {
   "cell_type": "code",
   "execution_count": null,
   "metadata": {},
   "outputs": [],
   "source": [
    "#посмотрим как влияет рейтинг на продажи в каждом регионе.\n",
    "rating_sum = df_relevant.pivot_table(index='rating', aggfunc={'na_sales':sum, 'eu_sales':sum, 'jp_sales':sum})\n",
    "rating_sum"
   ]
  },
  {
   "cell_type": "code",
   "execution_count": null,
   "metadata": {},
   "outputs": [],
   "source": [
    "for i in range(0, 3):\n",
    "    (rating_sum\n",
    "     .sort_values(by=region[i], ascending=False)\n",
    "     .plot(y=region[i], kind='bar', figsize=(10, 5), title=region[i]+'_rating'))"
   ]
  },
  {
   "cell_type": "markdown",
   "metadata": {},
   "source": [
    "В Америке и Европе идентичное распределение продаж в зависимости от рейтингов: преобладают, с большим отрывом, игры c рейтингом М, далее игры с рейтингом Е, на третьем месте игры с неизвестным рейтингом, затем с рейтингом Е10+ и замыкают игры с рейтингом Т. В Японии лидируют игры с неизвестным рейтингом с большим отрывом, меньше всего популярны игры с рейтингом Е10+.\n",
    "\n",
    "В целом можно сказать, что американцы и европейцы схожи в выборе платформ, жанров и возрастного рейтинга игр. Т.е. портреты пользователей идентичны.\n",
    "\n",
    "Японцы сильно отличаются в предпочтениях от западных игроков."
   ]
  },
  {
   "cell_type": "markdown",
   "metadata": {},
   "source": [
    "## Шаг 5. Проверьте гипотезы"
   ]
  },
  {
   "cell_type": "markdown",
   "metadata": {},
   "source": [
    "-\tСредние пользовательские рейтинги платформ Xbox One и PC одинаковые;\n",
    "-\tСредние пользовательские рейтинги жанров Action (англ. «действие», экшен-игры) и Sports (англ. «спортивные соревнования») разные.\n",
    "\n",
    "Задайте самостоятельно пороговое значение alpha.\n",
    "\n",
    "Поясните:\n",
    "\n",
    "-\tКак вы сформулировали нулевую и альтернативную гипотезы;\n",
    "-\tКакой критерий применили для проверки гипотез и почему.\n"
   ]
  },
  {
   "cell_type": "markdown",
   "metadata": {},
   "source": [
    "#### гипотеза №1\n",
    "\n",
    "Первая гипотеза которую нужно проверить - средние пользовательские рейтинги платформ Xbox One и PC одинаковые.\n",
    "\n",
    "Сформулируем нулевую и альтернативную гипотезы:\n",
    "\n",
    "H0 - средние пользовательские рейтинги платформ Xbox One и PC одинаковые(равны) (в H0 всегда используется знак равенства);\n",
    "H1 - средний пользовательский рейтинг платформы Xbox One отличается от среднего пользовательского рейтинга платформы PC .\n",
    "Альтернативная гипотеза у нас двусторонняя, т.к. средний рейтинг может отличаться от как в большую так и в меньшую сторону."
   ]
  },
  {
   "cell_type": "code",
   "execution_count": null,
   "metadata": {},
   "outputs": [],
   "source": [
    "# удалим из выборки отрицательные значения, которыми ранее заменили пропуски чтобы они не влияли на распределения\n",
    "xbox_one_ttest = df_relevant[(df_relevant['platform']=='XOne')&(df_relevant['user_score'] >= 0)]['user_score']\n",
    "pc_ttest = df_relevant[(df_relevant['platform']=='PC')&(df_relevant['user_score'] >= 0)]['user_score']\n",
    "\n",
    "# проверим дисперсии рассматриваемых выборок\n",
    "xbox_one_ttest_var = np.var(xbox_one_ttest, ddof=1)\n",
    "pc_ttest_var = np.var(pc_ttest, ddof=1)\n",
    "\n",
    "print('Дисперсия платформы Xbox One:', xbox_one_ttest_var)\n",
    "print('Дисперсия платформы PC:', pc_ttest_var)"
   ]
  },
  {
   "cell_type": "markdown",
   "metadata": {},
   "source": [
    "Разница между дисперсиями выборок довольно большая и считать дисперсии выборок равными нельзя, поэтому зададим аргумент equal_var=False."
   ]
  },
  {
   "cell_type": "code",
   "execution_count": null,
   "metadata": {},
   "outputs": [],
   "source": [
    "# уровень значимости 5%\n",
    "alpha = 0.05\n",
    "\n",
    "results = st.ttest_ind(xbox_one_ttest, pc_ttest, equal_var=False)\n",
    "\n",
    "print('p-значение: ', results.pvalue)\n",
    "\n",
    "if results.pvalue < alpha:\n",
    "    print(\"Отвергаем нулевую гипотезу\")\n",
    "else:\n",
    "    print(\"Не получилось отвергнуть нулевую гипотезу\")"
   ]
  },
  {
   "cell_type": "markdown",
   "metadata": {},
   "source": [
    "р-уровень значимости составил почти 55%, что значительно выше 5% => средний рейтинг платформ Xbox One и PC статистически значимо не отличается.\n",
    "Гипотеза о том, что средние пользовательские рейтинги платформ Xbox One и PC одинаковые, может быть подтверждена, у нас нет оснований утверждать, что средние пользовательские рейтинги платформ Xbox One и PC значимо различаются."
   ]
  },
  {
   "cell_type": "markdown",
   "metadata": {},
   "source": [
    "#### гипотеза №2\n",
    "\n",
    "Вторая гипотеза - средние пользовательские рейтинги жанров Action и Sports разные.\n",
    "\n",
    "H0 - средние пользовательские рейтинги жанров Action и Sports равны (в H0 всегда используется знак равенства);\n",
    "H1 - средние пользовательские рейтинги жанров Action и Sports отличаются.\n",
    "В этой гипотезе нам также нужно сравнить средние двух выборок, поэтому применим тот же тест ttest_ind."
   ]
  },
  {
   "cell_type": "code",
   "execution_count": null,
   "metadata": {},
   "outputs": [],
   "source": [
    "# удалим из выборки отрицательные значения, которыми ранее заменили пропуски чтобы они не влияли на распределения\n",
    "action_ttest = df_relevant[(df_relevant['genre']=='Action')&(df_relevant['user_score'] >= 0)]['user_score']\n",
    "sports_ttest = df_relevant[(df_relevant['genre']=='Sports')&(df_relevant['user_score'] >= 0)]['user_score']\n",
    "\n",
    "# проверим дисперсии рассматриваемых выборок\n",
    "action_ttest_var = np.var(action_ttest, ddof=1)\n",
    "sports_ttest_var = np.var(sports_ttest, ddof=1)\n",
    "\n",
    "print('Дисперсия жанра Action:', action_ttest_var)\n",
    "print('Дисперсия жанра Sports:', sports_ttest_var)"
   ]
  },
  {
   "cell_type": "markdown",
   "metadata": {},
   "source": [
    "Разница между дисперсиями выборок довольно большая и считать дисперсии выборок равными нельзя, поэтому зададим аргумент equal_var=False."
   ]
  },
  {
   "cell_type": "code",
   "execution_count": null,
   "metadata": {},
   "outputs": [],
   "source": [
    "# уровень значимости зададим равным 5%\n",
    "alpha = 0.05\n",
    "\n",
    "results = st.ttest_ind(action_ttest, sports_ttest, equal_var=False)\n",
    "\n",
    "print('p-значение:', results.pvalue)\n",
    "\n",
    "if (results.pvalue < alpha):\n",
    "    print(\"Отвергаем нулевую гипотезу\")\n",
    "else:\n",
    "    print(\"Не получилось отвергнуть нулевую гипотезу\")"
   ]
  },
  {
   "cell_type": "markdown",
   "metadata": {},
   "source": [
    "p-уровень значимости слишком мал, гораздо меньше определенного нами порогового значения в 5% => средние пользовательские рейтинги жанров Action и Sports статистически значимо различаются.\n",
    "Альтернативная гипотеза о том, что средние пользовательские рейтинги жанров Action и Sports отличаются, может быть подтверждена. Данные из выборок говорят о том, что скорее всего средние пользовательские рейтинги жанров Action и Sports отличаются."
   ]
  },
  {
   "cell_type": "markdown",
   "metadata": {},
   "source": [
    "## Шаг 6. Напишите общий вывод"
   ]
  },
  {
   "cell_type": "markdown",
   "metadata": {},
   "source": [
    "Для нашего анализа была проведена подготовка данных:\n",
    "Изменены названия столбцов, преобразованы данные в нужные типы, обработаны пропуски, были посчитаны суммарные продажи во всех регионах.\n",
    "\n",
    "Из нашего анализа можно сделать следующий вывод:\n",
    "\n",
    "В первую очередь обращаем внимание на прибыльные игровые платформы. Таковыми являются 'PS4', 'PS3', 'X360', '3DS', 'XOne', 'WiiU', 'PC', 'PSV', 'Wii'. Нужно иметь в виду, что в разных регионах популярные платформы могут отличаться, например платформа 3DS очень популярна в Японии, но менее популярна в Европе и Америке. Платформы 3DS, PS3, PS4 популярны во всех регионах.\n",
    "\n",
    "Среди жанров видеоигр также можно выделить наиболее популярные и перспективные, например жанр Action перспективный во всех регионах, а также жанры Shooter, Sports и Role-Playing являются потенциально прибыльными. Следует быть аккуратными с таким жанром как Adventure. Несмотря на то, что игры с таким жанром занимают серьезную долю рынка в количественном отношении, их продажи маленькие.\n",
    "\n",
    "К сожелению, очень многие игры не имеют рейтинга ESRB, поэтому данные анализа здесь не совсем полные и корректные. Но даже сейчас можно сказать, что среди игроков Европы и Северной Америки наибеолее популярны игры для взрослых и для любого возраста. В то время, как в Японии с большим отрывом лидируют игры, для которых рейтинг неустановлен.\n",
    "\n",
    "Большое влияние на продажи игр оказывают их оценки. Оценки делятся на оценки критиков и пользователей. Мы выявили, что оценки критиков имеют в два раза более тесную связь с продажами, чем оценки пользователей. Поэтому стоит учитывать только оценки критиков. При этом нами была выявлена закономерность: продажи видеоигр начинают активно расти при оценки критиков от 60 пунктов и выше.\n",
    "\n",
    "Пользователи из регионов Европы и Северной Америки схожи в своих предпочтених. \n",
    "\n",
    "Основываясь на всем вышеперечисленном, сделаем вывод, что игра имеет больше шансов на успех, если она выходит на Xbox One, а так же на платформе PS4, относится к жанру Action."
   ]
  }
 ],
 "metadata": {
  "ExecuteTimeLog": [
   {
    "duration": 1465,
    "start_time": "2022-05-17T09:14:01.818Z"
   },
   {
    "duration": 44,
    "start_time": "2022-05-17T09:15:33.344Z"
   },
   {
    "duration": 15,
    "start_time": "2022-05-17T09:16:42.835Z"
   },
   {
    "duration": 13,
    "start_time": "2022-05-17T09:50:10.543Z"
   },
   {
    "duration": 17,
    "start_time": "2022-05-17T09:54:30.735Z"
   },
   {
    "duration": 8,
    "start_time": "2022-05-17T09:55:06.075Z"
   },
   {
    "duration": 14,
    "start_time": "2022-05-17T09:58:48.855Z"
   },
   {
    "duration": 6,
    "start_time": "2022-05-17T10:17:47.821Z"
   },
   {
    "duration": 13,
    "start_time": "2022-05-17T10:25:03.104Z"
   },
   {
    "duration": 42,
    "start_time": "2022-05-17T10:25:53.414Z"
   },
   {
    "duration": 7,
    "start_time": "2022-05-17T10:26:29.282Z"
   },
   {
    "duration": 8,
    "start_time": "2022-05-17T10:27:23.716Z"
   },
   {
    "duration": 44,
    "start_time": "2022-05-17T10:27:29.792Z"
   },
   {
    "duration": 12,
    "start_time": "2022-05-17T10:27:29.838Z"
   },
   {
    "duration": 13,
    "start_time": "2022-05-17T10:27:29.852Z"
   },
   {
    "duration": 7,
    "start_time": "2022-05-17T10:27:29.867Z"
   },
   {
    "duration": 13,
    "start_time": "2022-05-17T10:27:29.876Z"
   },
   {
    "duration": 19,
    "start_time": "2022-05-17T10:27:29.890Z"
   },
   {
    "duration": 7,
    "start_time": "2022-05-17T10:27:29.911Z"
   },
   {
    "duration": 28,
    "start_time": "2022-05-17T10:27:29.919Z"
   },
   {
    "duration": 8,
    "start_time": "2022-05-17T10:27:29.948Z"
   },
   {
    "duration": 10,
    "start_time": "2022-05-17T10:27:29.958Z"
   },
   {
    "duration": 7,
    "start_time": "2022-05-17T10:28:26.104Z"
   },
   {
    "duration": 4,
    "start_time": "2022-05-17T10:29:18.745Z"
   },
   {
    "duration": 5,
    "start_time": "2022-05-17T10:31:08.205Z"
   },
   {
    "duration": 5,
    "start_time": "2022-05-17T10:31:17.210Z"
   },
   {
    "duration": 4,
    "start_time": "2022-05-17T10:31:50.395Z"
   },
   {
    "duration": 5,
    "start_time": "2022-05-17T10:32:14.843Z"
   },
   {
    "duration": 14,
    "start_time": "2022-05-17T10:32:55.323Z"
   },
   {
    "duration": 21,
    "start_time": "2022-05-17T10:33:34.130Z"
   },
   {
    "duration": 33,
    "start_time": "2022-05-17T10:34:10.022Z"
   },
   {
    "duration": 6,
    "start_time": "2022-05-17T10:35:21.274Z"
   },
   {
    "duration": 9,
    "start_time": "2022-05-17T10:38:59.364Z"
   },
   {
    "duration": 7,
    "start_time": "2022-05-17T10:39:08.742Z"
   },
   {
    "duration": 155,
    "start_time": "2022-05-17T10:39:19.265Z"
   },
   {
    "duration": 17,
    "start_time": "2022-05-17T10:39:26.373Z"
   },
   {
    "duration": 48,
    "start_time": "2022-05-17T10:43:31.941Z"
   },
   {
    "duration": 16,
    "start_time": "2022-05-17T10:43:31.991Z"
   },
   {
    "duration": 37,
    "start_time": "2022-05-17T10:43:32.009Z"
   },
   {
    "duration": 21,
    "start_time": "2022-05-17T10:43:32.048Z"
   },
   {
    "duration": 16,
    "start_time": "2022-05-17T10:43:32.071Z"
   },
   {
    "duration": 15,
    "start_time": "2022-05-17T10:43:32.089Z"
   },
   {
    "duration": 13,
    "start_time": "2022-05-17T10:43:32.106Z"
   },
   {
    "duration": 10,
    "start_time": "2022-05-17T10:43:32.120Z"
   },
   {
    "duration": 10,
    "start_time": "2022-05-17T10:43:32.142Z"
   },
   {
    "duration": 10,
    "start_time": "2022-05-17T10:43:32.153Z"
   },
   {
    "duration": 11,
    "start_time": "2022-05-17T10:43:32.165Z"
   },
   {
    "duration": 8,
    "start_time": "2022-05-17T10:43:32.177Z"
   },
   {
    "duration": 6,
    "start_time": "2022-05-17T10:43:32.187Z"
   },
   {
    "duration": 5,
    "start_time": "2022-05-17T10:43:32.196Z"
   },
   {
    "duration": 20,
    "start_time": "2022-05-17T10:43:32.203Z"
   },
   {
    "duration": 22,
    "start_time": "2022-05-17T10:43:32.242Z"
   },
   {
    "duration": 16,
    "start_time": "2022-05-17T10:43:32.266Z"
   },
   {
    "duration": 11,
    "start_time": "2022-05-17T10:53:19.351Z"
   },
   {
    "duration": 9,
    "start_time": "2022-05-17T10:56:38.874Z"
   },
   {
    "duration": 369,
    "start_time": "2022-05-17T10:57:38.086Z"
   },
   {
    "duration": 343,
    "start_time": "2022-05-17T10:57:48.096Z"
   },
   {
    "duration": 289,
    "start_time": "2022-05-17T10:58:04.150Z"
   },
   {
    "duration": 15,
    "start_time": "2022-05-17T11:01:48.212Z"
   },
   {
    "duration": 24,
    "start_time": "2022-05-17T11:02:25.604Z"
   },
   {
    "duration": 102,
    "start_time": "2022-05-17T11:07:54.923Z"
   },
   {
    "duration": 4,
    "start_time": "2022-05-17T11:08:02.676Z"
   },
   {
    "duration": 3,
    "start_time": "2022-05-17T11:08:19.963Z"
   },
   {
    "duration": 10,
    "start_time": "2022-05-17T11:09:36.235Z"
   },
   {
    "duration": 51,
    "start_time": "2022-05-17T11:09:39.505Z"
   },
   {
    "duration": 15,
    "start_time": "2022-05-17T11:09:39.560Z"
   },
   {
    "duration": 20,
    "start_time": "2022-05-17T11:09:39.577Z"
   },
   {
    "duration": 13,
    "start_time": "2022-05-17T11:09:39.598Z"
   },
   {
    "duration": 14,
    "start_time": "2022-05-17T11:09:39.613Z"
   },
   {
    "duration": 16,
    "start_time": "2022-05-17T11:09:39.644Z"
   },
   {
    "duration": 7,
    "start_time": "2022-05-17T11:09:39.662Z"
   },
   {
    "duration": 8,
    "start_time": "2022-05-17T11:09:39.670Z"
   },
   {
    "duration": 12,
    "start_time": "2022-05-17T11:09:39.679Z"
   },
   {
    "duration": 9,
    "start_time": "2022-05-17T11:09:39.693Z"
   },
   {
    "duration": 6,
    "start_time": "2022-05-17T11:09:39.704Z"
   },
   {
    "duration": 35,
    "start_time": "2022-05-17T11:09:39.711Z"
   },
   {
    "duration": 19,
    "start_time": "2022-05-17T11:09:39.747Z"
   },
   {
    "duration": 15,
    "start_time": "2022-05-17T11:09:39.769Z"
   },
   {
    "duration": 17,
    "start_time": "2022-05-17T11:09:39.786Z"
   },
   {
    "duration": 21,
    "start_time": "2022-05-17T11:09:39.805Z"
   },
   {
    "duration": 24,
    "start_time": "2022-05-17T11:09:39.828Z"
   },
   {
    "duration": 11,
    "start_time": "2022-05-17T11:09:39.857Z"
   },
   {
    "duration": 320,
    "start_time": "2022-05-17T11:09:39.870Z"
   },
   {
    "duration": 15,
    "start_time": "2022-05-17T11:09:40.192Z"
   },
   {
    "duration": 41,
    "start_time": "2022-05-17T11:09:40.208Z"
   },
   {
    "duration": 7,
    "start_time": "2022-05-17T11:09:40.251Z"
   },
   {
    "duration": 6,
    "start_time": "2022-05-17T11:09:40.260Z"
   },
   {
    "duration": 14,
    "start_time": "2022-05-17T11:09:40.267Z"
   },
   {
    "duration": 24,
    "start_time": "2022-05-17T11:09:48.266Z"
   },
   {
    "duration": 4,
    "start_time": "2022-05-17T11:09:51.293Z"
   },
   {
    "duration": 3,
    "start_time": "2022-05-17T11:09:52.287Z"
   },
   {
    "duration": 9,
    "start_time": "2022-05-17T11:09:53.111Z"
   },
   {
    "duration": 4796,
    "start_time": "2022-05-17T11:10:26.175Z"
   },
   {
    "duration": 5098,
    "start_time": "2022-05-17T11:13:43.704Z"
   },
   {
    "duration": 16215,
    "start_time": "2022-05-17T11:14:03.880Z"
   },
   {
    "duration": 29,
    "start_time": "2022-05-17T11:17:01.093Z"
   },
   {
    "duration": 6,
    "start_time": "2022-05-17T11:17:27.556Z"
   },
   {
    "duration": 269,
    "start_time": "2022-05-17T11:21:51.558Z"
   },
   {
    "duration": 158,
    "start_time": "2022-05-17T11:22:00.781Z"
   },
   {
    "duration": 9,
    "start_time": "2022-05-17T11:23:53.731Z"
   },
   {
    "duration": 3,
    "start_time": "2022-05-17T11:24:36.805Z"
   },
   {
    "duration": 17,
    "start_time": "2022-05-17T11:26:05.334Z"
   },
   {
    "duration": 19,
    "start_time": "2022-05-17T11:26:42.441Z"
   },
   {
    "duration": 14,
    "start_time": "2022-05-17T11:27:32.189Z"
   },
   {
    "duration": 14,
    "start_time": "2022-05-17T11:27:40.763Z"
   },
   {
    "duration": 14,
    "start_time": "2022-05-17T11:28:01.645Z"
   },
   {
    "duration": 15,
    "start_time": "2022-05-17T11:28:20.906Z"
   },
   {
    "duration": 18,
    "start_time": "2022-05-17T11:29:27.472Z"
   },
   {
    "duration": 163,
    "start_time": "2022-05-17T11:30:31.114Z"
   },
   {
    "duration": 1443,
    "start_time": "2022-05-17T11:30:51.825Z"
   },
   {
    "duration": 47,
    "start_time": "2022-05-17T11:30:56.245Z"
   },
   {
    "duration": 19,
    "start_time": "2022-05-17T11:30:56.294Z"
   },
   {
    "duration": 47,
    "start_time": "2022-05-17T11:30:56.315Z"
   },
   {
    "duration": 13,
    "start_time": "2022-05-17T11:30:56.365Z"
   },
   {
    "duration": 21,
    "start_time": "2022-05-17T11:30:56.379Z"
   },
   {
    "duration": 52,
    "start_time": "2022-05-17T11:30:56.402Z"
   },
   {
    "duration": 9,
    "start_time": "2022-05-17T11:30:56.456Z"
   },
   {
    "duration": 16,
    "start_time": "2022-05-17T11:30:56.466Z"
   },
   {
    "duration": 9,
    "start_time": "2022-05-17T11:30:56.484Z"
   },
   {
    "duration": 17,
    "start_time": "2022-05-17T11:30:56.496Z"
   },
   {
    "duration": 8,
    "start_time": "2022-05-17T11:30:56.514Z"
   },
   {
    "duration": 24,
    "start_time": "2022-05-17T11:30:56.523Z"
   },
   {
    "duration": 7,
    "start_time": "2022-05-17T11:30:56.548Z"
   },
   {
    "duration": 7,
    "start_time": "2022-05-17T11:30:56.557Z"
   },
   {
    "duration": 21,
    "start_time": "2022-05-17T11:30:56.566Z"
   },
   {
    "duration": 24,
    "start_time": "2022-05-17T11:30:56.589Z"
   },
   {
    "duration": 50,
    "start_time": "2022-05-17T11:30:56.615Z"
   },
   {
    "duration": 15,
    "start_time": "2022-05-17T11:30:56.668Z"
   },
   {
    "duration": 502,
    "start_time": "2022-05-17T11:30:56.685Z"
   },
   {
    "duration": 23,
    "start_time": "2022-05-17T11:30:57.190Z"
   },
   {
    "duration": 53,
    "start_time": "2022-05-17T11:30:57.215Z"
   },
   {
    "duration": 4,
    "start_time": "2022-05-17T11:30:57.271Z"
   },
   {
    "duration": 6,
    "start_time": "2022-05-17T11:30:57.277Z"
   },
   {
    "duration": 7987,
    "start_time": "2022-05-17T11:30:57.285Z"
   },
   {
    "duration": 43,
    "start_time": "2022-05-17T11:31:25.155Z"
   },
   {
    "duration": 14,
    "start_time": "2022-05-17T11:31:25.199Z"
   },
   {
    "duration": 33,
    "start_time": "2022-05-17T11:31:25.214Z"
   },
   {
    "duration": 16,
    "start_time": "2022-05-17T11:31:25.248Z"
   },
   {
    "duration": 25,
    "start_time": "2022-05-17T11:31:25.266Z"
   },
   {
    "duration": 28,
    "start_time": "2022-05-17T11:31:25.293Z"
   },
   {
    "duration": 10,
    "start_time": "2022-05-17T11:31:25.322Z"
   },
   {
    "duration": 21,
    "start_time": "2022-05-17T11:31:25.334Z"
   },
   {
    "duration": 31,
    "start_time": "2022-05-17T11:31:25.357Z"
   },
   {
    "duration": 18,
    "start_time": "2022-05-17T11:31:25.389Z"
   },
   {
    "duration": 9,
    "start_time": "2022-05-17T11:31:25.408Z"
   },
   {
    "duration": 32,
    "start_time": "2022-05-17T11:31:25.418Z"
   },
   {
    "duration": 20,
    "start_time": "2022-05-17T11:31:25.452Z"
   },
   {
    "duration": 9,
    "start_time": "2022-05-17T11:31:25.474Z"
   },
   {
    "duration": 25,
    "start_time": "2022-05-17T11:31:25.485Z"
   },
   {
    "duration": 19,
    "start_time": "2022-05-17T11:31:25.512Z"
   },
   {
    "duration": 15,
    "start_time": "2022-05-17T11:31:25.533Z"
   },
   {
    "duration": 10,
    "start_time": "2022-05-17T11:31:25.549Z"
   },
   {
    "duration": 305,
    "start_time": "2022-05-17T11:31:25.560Z"
   },
   {
    "duration": 14,
    "start_time": "2022-05-17T11:31:25.866Z"
   },
   {
    "duration": 41,
    "start_time": "2022-05-17T11:31:25.882Z"
   },
   {
    "duration": 4,
    "start_time": "2022-05-17T11:31:25.924Z"
   },
   {
    "duration": 22,
    "start_time": "2022-05-17T11:31:25.929Z"
   },
   {
    "duration": 4443,
    "start_time": "2022-05-17T11:31:25.953Z"
   },
   {
    "duration": 14826,
    "start_time": "2022-05-17T11:31:30.398Z"
   },
   {
    "duration": 34,
    "start_time": "2022-05-17T11:31:45.226Z"
   },
   {
    "duration": 4,
    "start_time": "2022-05-17T11:31:45.262Z"
   },
   {
    "duration": 165,
    "start_time": "2022-05-17T11:31:45.268Z"
   },
   {
    "duration": 8,
    "start_time": "2022-05-17T11:31:45.435Z"
   },
   {
    "duration": 15,
    "start_time": "2022-05-17T11:31:45.444Z"
   },
   {
    "duration": 1396,
    "start_time": "2022-05-17T11:31:45.461Z"
   },
   {
    "duration": 202,
    "start_time": "2022-05-17T11:32:04.340Z"
   },
   {
    "duration": 160,
    "start_time": "2022-05-17T11:32:14.947Z"
   },
   {
    "duration": 4,
    "start_time": "2022-05-17T11:34:17.962Z"
   },
   {
    "duration": 153,
    "start_time": "2022-05-17T11:36:30.242Z"
   },
   {
    "duration": 61,
    "start_time": "2022-05-17T11:36:38.584Z"
   },
   {
    "duration": 20,
    "start_time": "2022-05-17T11:36:38.648Z"
   },
   {
    "duration": 22,
    "start_time": "2022-05-17T11:36:38.671Z"
   },
   {
    "duration": 18,
    "start_time": "2022-05-17T11:36:38.696Z"
   },
   {
    "duration": 34,
    "start_time": "2022-05-17T11:36:38.717Z"
   },
   {
    "duration": 28,
    "start_time": "2022-05-17T11:36:38.753Z"
   },
   {
    "duration": 27,
    "start_time": "2022-05-17T11:36:38.783Z"
   },
   {
    "duration": 18,
    "start_time": "2022-05-17T11:36:38.813Z"
   },
   {
    "duration": 15,
    "start_time": "2022-05-17T11:36:38.833Z"
   },
   {
    "duration": 31,
    "start_time": "2022-05-17T11:36:38.850Z"
   },
   {
    "duration": 14,
    "start_time": "2022-05-17T11:36:38.884Z"
   },
   {
    "duration": 21,
    "start_time": "2022-05-17T11:36:38.900Z"
   },
   {
    "duration": 10,
    "start_time": "2022-05-17T11:36:38.923Z"
   },
   {
    "duration": 20,
    "start_time": "2022-05-17T11:36:38.936Z"
   },
   {
    "duration": 52,
    "start_time": "2022-05-17T11:36:38.959Z"
   },
   {
    "duration": 19,
    "start_time": "2022-05-17T11:36:39.012Z"
   },
   {
    "duration": 21,
    "start_time": "2022-05-17T11:36:39.034Z"
   },
   {
    "duration": 22,
    "start_time": "2022-05-17T11:36:39.057Z"
   },
   {
    "duration": 306,
    "start_time": "2022-05-17T11:36:39.080Z"
   },
   {
    "duration": 15,
    "start_time": "2022-05-17T11:36:39.388Z"
   },
   {
    "duration": 41,
    "start_time": "2022-05-17T11:36:39.405Z"
   },
   {
    "duration": 4,
    "start_time": "2022-05-17T11:36:39.447Z"
   },
   {
    "duration": 9,
    "start_time": "2022-05-17T11:36:39.453Z"
   },
   {
    "duration": 4724,
    "start_time": "2022-05-17T11:36:39.464Z"
   },
   {
    "duration": 16158,
    "start_time": "2022-05-17T11:36:44.191Z"
   },
   {
    "duration": 27,
    "start_time": "2022-05-17T11:37:00.351Z"
   },
   {
    "duration": 15,
    "start_time": "2022-05-17T11:37:00.379Z"
   },
   {
    "duration": 176,
    "start_time": "2022-05-17T11:37:00.396Z"
   },
   {
    "duration": 4,
    "start_time": "2022-05-17T11:37:00.574Z"
   },
   {
    "duration": 40,
    "start_time": "2022-05-17T11:37:00.579Z"
   },
   {
    "duration": 183,
    "start_time": "2022-05-17T11:37:00.622Z"
   },
   {
    "duration": 6,
    "start_time": "2022-05-17T11:37:00.806Z"
   },
   {
    "duration": 283,
    "start_time": "2022-05-17T11:39:03.273Z"
   },
   {
    "duration": 147,
    "start_time": "2022-05-17T11:39:19.235Z"
   },
   {
    "duration": 5,
    "start_time": "2022-05-17T11:39:26.622Z"
   },
   {
    "duration": 148,
    "start_time": "2022-05-17T11:40:34.439Z"
   },
   {
    "duration": 130,
    "start_time": "2022-05-17T11:40:58.955Z"
   },
   {
    "duration": 147,
    "start_time": "2022-05-17T11:41:12.770Z"
   },
   {
    "duration": 23,
    "start_time": "2022-05-17T11:47:19.511Z"
   },
   {
    "duration": 14,
    "start_time": "2022-05-17T11:47:49.007Z"
   },
   {
    "duration": 15,
    "start_time": "2022-05-17T11:48:04.755Z"
   },
   {
    "duration": 6448,
    "start_time": "2022-05-17T11:49:24.249Z"
   },
   {
    "duration": 6,
    "start_time": "2022-05-17T11:50:06.244Z"
   },
   {
    "duration": 270,
    "start_time": "2022-05-17T11:52:57.643Z"
   },
   {
    "duration": 259,
    "start_time": "2022-05-17T11:53:09.758Z"
   },
   {
    "duration": 14,
    "start_time": "2022-05-17T11:57:30.008Z"
   },
   {
    "duration": 5614,
    "start_time": "2022-05-17T11:57:59.173Z"
   },
   {
    "duration": 5,
    "start_time": "2022-05-17T11:58:04.789Z"
   },
   {
    "duration": 236,
    "start_time": "2022-05-17T11:58:10.252Z"
   },
   {
    "duration": 4667,
    "start_time": "2022-05-17T11:59:53.186Z"
   },
   {
    "duration": 3366,
    "start_time": "2022-05-17T12:01:46.752Z"
   },
   {
    "duration": 2455,
    "start_time": "2022-05-17T12:01:56.980Z"
   },
   {
    "duration": 3467,
    "start_time": "2022-05-17T12:03:02.093Z"
   },
   {
    "duration": 3452,
    "start_time": "2022-05-17T12:03:09.567Z"
   },
   {
    "duration": 42,
    "start_time": "2022-05-17T12:04:33.218Z"
   },
   {
    "duration": 45,
    "start_time": "2022-05-17T12:04:51.007Z"
   },
   {
    "duration": 43,
    "start_time": "2022-05-17T12:05:19.005Z"
   },
   {
    "duration": 127,
    "start_time": "2022-05-17T12:08:42.157Z"
   },
   {
    "duration": 263,
    "start_time": "2022-05-17T12:10:23.032Z"
   },
   {
    "duration": 46,
    "start_time": "2022-05-17T12:12:31.682Z"
   },
   {
    "duration": 124,
    "start_time": "2022-05-17T12:12:31.730Z"
   },
   {
    "duration": 40,
    "start_time": "2022-05-17T12:12:31.856Z"
   },
   {
    "duration": 35,
    "start_time": "2022-05-17T12:12:31.897Z"
   },
   {
    "duration": 50,
    "start_time": "2022-05-17T12:12:31.934Z"
   },
   {
    "duration": 42,
    "start_time": "2022-05-17T12:12:31.986Z"
   },
   {
    "duration": 35,
    "start_time": "2022-05-17T12:12:32.030Z"
   },
   {
    "duration": 87,
    "start_time": "2022-05-17T12:12:32.067Z"
   },
   {
    "duration": 171,
    "start_time": "2022-05-17T12:12:32.156Z"
   },
   {
    "duration": 36,
    "start_time": "2022-05-17T12:12:32.328Z"
   },
   {
    "duration": 20,
    "start_time": "2022-05-17T12:12:32.366Z"
   },
   {
    "duration": 33,
    "start_time": "2022-05-17T12:12:32.387Z"
   },
   {
    "duration": 43,
    "start_time": "2022-05-17T12:12:32.422Z"
   },
   {
    "duration": 30,
    "start_time": "2022-05-17T12:12:32.468Z"
   },
   {
    "duration": 41,
    "start_time": "2022-05-17T12:12:32.500Z"
   },
   {
    "duration": 41,
    "start_time": "2022-05-17T12:12:32.543Z"
   },
   {
    "duration": 43,
    "start_time": "2022-05-17T12:12:32.586Z"
   },
   {
    "duration": 28,
    "start_time": "2022-05-17T12:12:32.631Z"
   },
   {
    "duration": 303,
    "start_time": "2022-05-17T12:12:32.660Z"
   },
   {
    "duration": 15,
    "start_time": "2022-05-17T12:12:32.964Z"
   },
   {
    "duration": 51,
    "start_time": "2022-05-17T12:12:32.981Z"
   },
   {
    "duration": 3,
    "start_time": "2022-05-17T12:12:33.034Z"
   },
   {
    "duration": 33,
    "start_time": "2022-05-17T12:12:33.039Z"
   },
   {
    "duration": 4876,
    "start_time": "2022-05-17T12:12:33.073Z"
   },
   {
    "duration": 15466,
    "start_time": "2022-05-17T12:12:37.951Z"
   },
   {
    "duration": 36,
    "start_time": "2022-05-17T12:12:53.419Z"
   },
   {
    "duration": 4,
    "start_time": "2022-05-17T12:12:53.457Z"
   },
   {
    "duration": 168,
    "start_time": "2022-05-17T12:12:53.463Z"
   },
   {
    "duration": 9,
    "start_time": "2022-05-17T12:12:53.633Z"
   },
   {
    "duration": 16,
    "start_time": "2022-05-17T12:12:53.645Z"
   },
   {
    "duration": 196,
    "start_time": "2022-05-17T12:12:53.663Z"
   },
   {
    "duration": 4,
    "start_time": "2022-05-17T12:12:53.861Z"
   },
   {
    "duration": 32,
    "start_time": "2022-05-17T12:12:53.867Z"
   },
   {
    "duration": 13,
    "start_time": "2022-05-17T12:12:53.901Z"
   },
   {
    "duration": 6407,
    "start_time": "2022-05-17T12:12:53.916Z"
   },
   {
    "duration": 5,
    "start_time": "2022-05-17T12:13:00.325Z"
   },
   {
    "duration": 694,
    "start_time": "2022-05-17T12:13:00.343Z"
   },
   {
    "duration": 3343,
    "start_time": "2022-05-17T12:13:01.043Z"
   },
   {
    "duration": 57,
    "start_time": "2022-05-17T12:13:04.388Z"
   },
   {
    "duration": 142,
    "start_time": "2022-05-17T12:13:04.446Z"
   },
   {
    "duration": 175,
    "start_time": "2022-05-17T12:13:04.592Z"
   },
   {
    "duration": 17,
    "start_time": "2022-05-17T12:15:33.802Z"
   },
   {
    "duration": 494,
    "start_time": "2022-05-17T12:16:13.834Z"
   },
   {
    "duration": 24,
    "start_time": "2022-05-17T12:19:09.440Z"
   },
   {
    "duration": 432,
    "start_time": "2022-05-17T12:19:42.035Z"
   },
   {
    "duration": 15,
    "start_time": "2022-05-17T12:23:05.771Z"
   },
   {
    "duration": 366,
    "start_time": "2022-05-17T12:23:25.241Z"
   },
   {
    "duration": 9,
    "start_time": "2022-05-17T12:29:17.897Z"
   },
   {
    "duration": 10,
    "start_time": "2022-05-17T12:29:34.242Z"
   },
   {
    "duration": 9,
    "start_time": "2022-05-17T12:29:44.504Z"
   },
   {
    "duration": 5,
    "start_time": "2022-05-17T12:30:40.498Z"
   },
   {
    "duration": 9,
    "start_time": "2022-05-17T12:32:47.614Z"
   },
   {
    "duration": 4,
    "start_time": "2022-05-17T12:33:36.914Z"
   },
   {
    "duration": 1619,
    "start_time": "2022-05-18T09:24:01.327Z"
   },
   {
    "duration": 15,
    "start_time": "2022-05-18T09:24:02.948Z"
   },
   {
    "duration": 16,
    "start_time": "2022-05-18T09:24:02.965Z"
   },
   {
    "duration": 13,
    "start_time": "2022-05-18T09:24:02.984Z"
   },
   {
    "duration": 46,
    "start_time": "2022-05-18T09:24:03.000Z"
   },
   {
    "duration": 28,
    "start_time": "2022-05-18T09:24:03.048Z"
   },
   {
    "duration": 10,
    "start_time": "2022-05-18T09:24:03.077Z"
   },
   {
    "duration": 8,
    "start_time": "2022-05-18T09:24:03.090Z"
   },
   {
    "duration": 38,
    "start_time": "2022-05-18T09:24:03.099Z"
   },
   {
    "duration": 12,
    "start_time": "2022-05-18T09:24:03.140Z"
   },
   {
    "duration": 9,
    "start_time": "2022-05-18T09:24:03.154Z"
   },
   {
    "duration": 14,
    "start_time": "2022-05-18T09:24:03.165Z"
   },
   {
    "duration": 11,
    "start_time": "2022-05-18T09:24:03.181Z"
   },
   {
    "duration": 8,
    "start_time": "2022-05-18T09:24:03.193Z"
   },
   {
    "duration": 31,
    "start_time": "2022-05-18T09:24:03.204Z"
   },
   {
    "duration": 35,
    "start_time": "2022-05-18T09:24:03.238Z"
   },
   {
    "duration": 26,
    "start_time": "2022-05-18T09:24:03.275Z"
   },
   {
    "duration": 35,
    "start_time": "2022-05-18T09:24:03.303Z"
   },
   {
    "duration": 443,
    "start_time": "2022-05-18T09:24:03.343Z"
   },
   {
    "duration": 16,
    "start_time": "2022-05-18T09:24:03.788Z"
   },
   {
    "duration": 43,
    "start_time": "2022-05-18T09:24:03.805Z"
   },
   {
    "duration": 4,
    "start_time": "2022-05-18T09:24:03.850Z"
   },
   {
    "duration": 6,
    "start_time": "2022-05-18T09:24:03.855Z"
   },
   {
    "duration": 6200,
    "start_time": "2022-05-18T09:24:03.862Z"
   },
   {
    "duration": 18634,
    "start_time": "2022-05-18T09:24:10.064Z"
   },
   {
    "duration": 46,
    "start_time": "2022-05-18T09:24:28.701Z"
   },
   {
    "duration": 5,
    "start_time": "2022-05-18T09:24:28.749Z"
   },
   {
    "duration": 236,
    "start_time": "2022-05-18T09:24:28.757Z"
   },
   {
    "duration": 4,
    "start_time": "2022-05-18T09:24:28.994Z"
   },
   {
    "duration": 40,
    "start_time": "2022-05-18T09:24:29.000Z"
   },
   {
    "duration": 168,
    "start_time": "2022-05-18T09:24:29.042Z"
   },
   {
    "duration": 5,
    "start_time": "2022-05-18T09:24:29.211Z"
   },
   {
    "duration": 31,
    "start_time": "2022-05-18T09:24:29.227Z"
   },
   {
    "duration": 14,
    "start_time": "2022-05-18T09:24:29.259Z"
   },
   {
    "duration": 662,
    "start_time": "2022-05-18T09:24:29.275Z"
   },
   {
    "duration": 0,
    "start_time": "2022-05-18T09:24:29.948Z"
   },
   {
    "duration": 0,
    "start_time": "2022-05-18T09:24:29.949Z"
   },
   {
    "duration": 0,
    "start_time": "2022-05-18T09:24:29.950Z"
   },
   {
    "duration": 0,
    "start_time": "2022-05-18T09:24:29.951Z"
   },
   {
    "duration": 0,
    "start_time": "2022-05-18T09:24:29.951Z"
   },
   {
    "duration": 0,
    "start_time": "2022-05-18T09:24:29.952Z"
   },
   {
    "duration": 0,
    "start_time": "2022-05-18T09:24:29.953Z"
   },
   {
    "duration": 0,
    "start_time": "2022-05-18T09:24:29.954Z"
   },
   {
    "duration": 0,
    "start_time": "2022-05-18T09:24:29.956Z"
   },
   {
    "duration": 0,
    "start_time": "2022-05-18T09:24:29.957Z"
   },
   {
    "duration": 0,
    "start_time": "2022-05-18T09:24:29.958Z"
   },
   {
    "duration": 0,
    "start_time": "2022-05-18T09:24:29.958Z"
   },
   {
    "duration": 0,
    "start_time": "2022-05-18T09:24:29.960Z"
   },
   {
    "duration": 0,
    "start_time": "2022-05-18T09:24:29.961Z"
   },
   {
    "duration": 0,
    "start_time": "2022-05-18T09:24:29.961Z"
   },
   {
    "duration": 0,
    "start_time": "2022-05-18T09:24:29.962Z"
   },
   {
    "duration": 4,
    "start_time": "2022-05-18T09:56:12.707Z"
   },
   {
    "duration": 25,
    "start_time": "2022-05-18T10:02:55.549Z"
   },
   {
    "duration": 7274,
    "start_time": "2022-05-18T10:07:05.264Z"
   },
   {
    "duration": 5,
    "start_time": "2022-05-18T10:09:19.270Z"
   },
   {
    "duration": 285,
    "start_time": "2022-05-18T10:09:27.155Z"
   },
   {
    "duration": 4514,
    "start_time": "2022-05-18T10:14:10.160Z"
   },
   {
    "duration": 45,
    "start_time": "2022-05-18T10:15:25.119Z"
   },
   {
    "duration": 160,
    "start_time": "2022-05-18T10:18:57.148Z"
   },
   {
    "duration": 240,
    "start_time": "2022-05-18T10:20:48.233Z"
   },
   {
    "duration": 27,
    "start_time": "2022-05-18T10:21:52.648Z"
   },
   {
    "duration": 725,
    "start_time": "2022-05-18T10:22:06.327Z"
   },
   {
    "duration": 33,
    "start_time": "2022-05-18T10:22:19.721Z"
   },
   {
    "duration": 975,
    "start_time": "2022-05-18T10:22:21.494Z"
   },
   {
    "duration": 31,
    "start_time": "2022-05-18T10:22:27.015Z"
   },
   {
    "duration": 1121,
    "start_time": "2022-05-18T10:22:28.690Z"
   },
   {
    "duration": 12,
    "start_time": "2022-05-18T10:30:35.210Z"
   },
   {
    "duration": 5,
    "start_time": "2022-05-18T10:31:05.661Z"
   },
   {
    "duration": 10,
    "start_time": "2022-05-18T10:32:12.772Z"
   },
   {
    "duration": 5,
    "start_time": "2022-05-18T10:32:17.083Z"
   },
   {
    "duration": 4,
    "start_time": "2022-05-18T11:00:44.350Z"
   },
   {
    "duration": 65,
    "start_time": "2022-05-18T11:00:49.398Z"
   },
   {
    "duration": 6304,
    "start_time": "2022-05-18T11:01:55.996Z"
   },
   {
    "duration": 18,
    "start_time": "2022-05-18T11:12:52.874Z"
   },
   {
    "duration": 245,
    "start_time": "2022-05-18T11:20:02.849Z"
   },
   {
    "duration": 242,
    "start_time": "2022-05-18T11:20:43.312Z"
   },
   {
    "duration": 3,
    "start_time": "2022-05-18T11:20:47.196Z"
   },
   {
    "duration": 63,
    "start_time": "2022-05-18T11:20:47.202Z"
   },
   {
    "duration": 15,
    "start_time": "2022-05-18T11:20:47.267Z"
   },
   {
    "duration": 16,
    "start_time": "2022-05-18T11:20:47.284Z"
   },
   {
    "duration": 37,
    "start_time": "2022-05-18T11:20:47.326Z"
   },
   {
    "duration": 15,
    "start_time": "2022-05-18T11:20:47.365Z"
   },
   {
    "duration": 16,
    "start_time": "2022-05-18T11:20:47.382Z"
   },
   {
    "duration": 11,
    "start_time": "2022-05-18T11:20:47.399Z"
   },
   {
    "duration": 12,
    "start_time": "2022-05-18T11:20:47.412Z"
   },
   {
    "duration": 20,
    "start_time": "2022-05-18T11:20:47.427Z"
   },
   {
    "duration": 9,
    "start_time": "2022-05-18T11:20:47.886Z"
   },
   {
    "duration": 8,
    "start_time": "2022-05-18T11:20:47.897Z"
   },
   {
    "duration": 20,
    "start_time": "2022-05-18T11:20:47.907Z"
   },
   {
    "duration": 23,
    "start_time": "2022-05-18T11:20:47.929Z"
   },
   {
    "duration": 8,
    "start_time": "2022-05-18T11:20:47.954Z"
   },
   {
    "duration": 21,
    "start_time": "2022-05-18T11:20:47.963Z"
   },
   {
    "duration": 22,
    "start_time": "2022-05-18T11:20:47.986Z"
   },
   {
    "duration": 25,
    "start_time": "2022-05-18T11:20:48.011Z"
   },
   {
    "duration": 14,
    "start_time": "2022-05-18T11:20:48.037Z"
   },
   {
    "duration": 345,
    "start_time": "2022-05-18T11:20:48.052Z"
   },
   {
    "duration": 16,
    "start_time": "2022-05-18T11:20:48.399Z"
   },
   {
    "duration": 44,
    "start_time": "2022-05-18T11:20:48.416Z"
   },
   {
    "duration": 11,
    "start_time": "2022-05-18T11:20:48.461Z"
   },
   {
    "duration": 6,
    "start_time": "2022-05-18T11:20:48.474Z"
   },
   {
    "duration": 5772,
    "start_time": "2022-05-18T11:20:48.481Z"
   },
   {
    "duration": 18970,
    "start_time": "2022-05-18T11:20:54.255Z"
   },
   {
    "duration": 43,
    "start_time": "2022-05-18T11:21:13.227Z"
   },
   {
    "duration": 7,
    "start_time": "2022-05-18T11:21:13.272Z"
   },
   {
    "duration": 192,
    "start_time": "2022-05-18T11:21:13.284Z"
   },
   {
    "duration": 4,
    "start_time": "2022-05-18T11:21:13.478Z"
   },
   {
    "duration": 18,
    "start_time": "2022-05-18T11:21:13.484Z"
   },
   {
    "duration": 197,
    "start_time": "2022-05-18T11:21:13.504Z"
   },
   {
    "duration": 5,
    "start_time": "2022-05-18T11:21:13.703Z"
   },
   {
    "duration": 38,
    "start_time": "2022-05-18T11:21:13.710Z"
   },
   {
    "duration": 20,
    "start_time": "2022-05-18T11:21:13.750Z"
   },
   {
    "duration": 7662,
    "start_time": "2022-05-18T11:21:13.772Z"
   },
   {
    "duration": 6602,
    "start_time": "2022-05-18T11:21:21.436Z"
   },
   {
    "duration": 7,
    "start_time": "2022-05-18T11:21:28.039Z"
   },
   {
    "duration": 306,
    "start_time": "2022-05-18T11:21:28.048Z"
   },
   {
    "duration": 244,
    "start_time": "2022-05-18T11:21:28.357Z"
   },
   {
    "duration": 3839,
    "start_time": "2022-05-18T11:21:28.603Z"
   },
   {
    "duration": 44,
    "start_time": "2022-05-18T11:21:32.446Z"
   },
   {
    "duration": 685,
    "start_time": "2022-05-18T11:21:32.492Z"
   },
   {
    "duration": 204,
    "start_time": "2022-05-18T11:21:33.179Z"
   },
   {
    "duration": 15,
    "start_time": "2022-05-18T11:21:33.385Z"
   },
   {
    "duration": 27,
    "start_time": "2022-05-18T11:21:33.402Z"
   },
   {
    "duration": 447,
    "start_time": "2022-05-18T11:21:33.431Z"
   },
   {
    "duration": 18,
    "start_time": "2022-05-18T11:21:33.880Z"
   },
   {
    "duration": 463,
    "start_time": "2022-05-18T11:21:33.901Z"
   },
   {
    "duration": 16,
    "start_time": "2022-05-18T11:21:34.366Z"
   },
   {
    "duration": 423,
    "start_time": "2022-05-18T11:21:34.384Z"
   },
   {
    "duration": 21,
    "start_time": "2022-05-18T11:21:34.809Z"
   },
   {
    "duration": 17,
    "start_time": "2022-05-18T11:21:34.838Z"
   },
   {
    "duration": 16,
    "start_time": "2022-05-18T11:21:34.857Z"
   },
   {
    "duration": 10,
    "start_time": "2022-05-18T11:21:34.875Z"
   },
   {
    "duration": 15,
    "start_time": "2022-05-18T11:22:09.065Z"
   },
   {
    "duration": 301,
    "start_time": "2022-05-18T11:22:42.513Z"
   },
   {
    "duration": 267,
    "start_time": "2022-05-18T11:24:12.116Z"
   },
   {
    "duration": 2877,
    "start_time": "2022-05-18T11:25:01.622Z"
   },
   {
    "duration": 9,
    "start_time": "2022-05-18T11:27:44.810Z"
   },
   {
    "duration": 3333,
    "start_time": "2022-05-18T11:27:53.054Z"
   },
   {
    "duration": 2809,
    "start_time": "2022-05-18T11:28:48.240Z"
   },
   {
    "duration": 38,
    "start_time": "2022-05-18T11:28:59.745Z"
   },
   {
    "duration": 16,
    "start_time": "2022-05-18T11:30:00.200Z"
   },
   {
    "duration": 14,
    "start_time": "2022-05-18T11:32:05.650Z"
   },
   {
    "duration": 13,
    "start_time": "2022-05-18T11:32:53.302Z"
   },
   {
    "duration": 19,
    "start_time": "2022-05-18T11:33:29.522Z"
   },
   {
    "duration": 3,
    "start_time": "2022-05-18T11:37:20.913Z"
   },
   {
    "duration": 78,
    "start_time": "2022-05-18T11:37:20.919Z"
   },
   {
    "duration": 15,
    "start_time": "2022-05-18T11:37:20.999Z"
   },
   {
    "duration": 18,
    "start_time": "2022-05-18T11:37:21.016Z"
   },
   {
    "duration": 13,
    "start_time": "2022-05-18T11:37:21.036Z"
   },
   {
    "duration": 41,
    "start_time": "2022-05-18T11:37:21.051Z"
   },
   {
    "duration": 18,
    "start_time": "2022-05-18T11:37:21.094Z"
   },
   {
    "duration": 14,
    "start_time": "2022-05-18T11:37:21.115Z"
   },
   {
    "duration": 12,
    "start_time": "2022-05-18T11:37:21.131Z"
   },
   {
    "duration": 14,
    "start_time": "2022-05-18T11:37:21.144Z"
   },
   {
    "duration": 21,
    "start_time": "2022-05-18T11:37:21.161Z"
   },
   {
    "duration": 19,
    "start_time": "2022-05-18T11:37:21.184Z"
   },
   {
    "duration": 42,
    "start_time": "2022-05-18T11:37:21.205Z"
   },
   {
    "duration": 25,
    "start_time": "2022-05-18T11:37:21.249Z"
   },
   {
    "duration": 26,
    "start_time": "2022-05-18T11:37:21.276Z"
   },
   {
    "duration": 37,
    "start_time": "2022-05-18T11:37:21.304Z"
   },
   {
    "duration": 22,
    "start_time": "2022-05-18T11:37:21.343Z"
   },
   {
    "duration": 17,
    "start_time": "2022-05-18T11:37:21.366Z"
   },
   {
    "duration": 20,
    "start_time": "2022-05-18T11:37:21.385Z"
   },
   {
    "duration": 338,
    "start_time": "2022-05-18T11:37:21.407Z"
   },
   {
    "duration": 15,
    "start_time": "2022-05-18T11:37:21.747Z"
   },
   {
    "duration": 28,
    "start_time": "2022-05-18T11:37:21.764Z"
   },
   {
    "duration": 3,
    "start_time": "2022-05-18T11:37:21.793Z"
   },
   {
    "duration": 9,
    "start_time": "2022-05-18T11:37:21.798Z"
   },
   {
    "duration": 5750,
    "start_time": "2022-05-18T11:37:21.828Z"
   },
   {
    "duration": 17518,
    "start_time": "2022-05-18T11:37:27.580Z"
   },
   {
    "duration": 46,
    "start_time": "2022-05-18T11:37:45.100Z"
   },
   {
    "duration": 4,
    "start_time": "2022-05-18T11:37:45.148Z"
   },
   {
    "duration": 179,
    "start_time": "2022-05-18T11:37:45.156Z"
   },
   {
    "duration": 4,
    "start_time": "2022-05-18T11:37:45.336Z"
   },
   {
    "duration": 22,
    "start_time": "2022-05-18T11:37:45.342Z"
   },
   {
    "duration": 219,
    "start_time": "2022-05-18T11:37:45.366Z"
   },
   {
    "duration": 6,
    "start_time": "2022-05-18T11:37:45.587Z"
   },
   {
    "duration": 65,
    "start_time": "2022-05-18T11:37:45.594Z"
   },
   {
    "duration": 14,
    "start_time": "2022-05-18T11:37:45.663Z"
   },
   {
    "duration": 7274,
    "start_time": "2022-05-18T11:37:45.679Z"
   },
   {
    "duration": 6357,
    "start_time": "2022-05-18T11:37:52.955Z"
   },
   {
    "duration": 5,
    "start_time": "2022-05-18T11:37:59.314Z"
   },
   {
    "duration": 301,
    "start_time": "2022-05-18T11:37:59.320Z"
   },
   {
    "duration": 3131,
    "start_time": "2022-05-18T11:37:59.627Z"
   },
   {
    "duration": 34,
    "start_time": "2022-05-18T11:38:02.761Z"
   },
   {
    "duration": 32,
    "start_time": "2022-05-18T11:38:02.797Z"
   },
   {
    "duration": 172,
    "start_time": "2022-05-18T11:38:02.831Z"
   },
   {
    "duration": 209,
    "start_time": "2022-05-18T11:38:03.006Z"
   },
   {
    "duration": 17,
    "start_time": "2022-05-18T11:38:03.217Z"
   },
   {
    "duration": 20,
    "start_time": "2022-05-18T11:38:03.236Z"
   },
   {
    "duration": 474,
    "start_time": "2022-05-18T11:38:03.258Z"
   },
   {
    "duration": 19,
    "start_time": "2022-05-18T11:38:03.734Z"
   },
   {
    "duration": 505,
    "start_time": "2022-05-18T11:38:03.755Z"
   },
   {
    "duration": 22,
    "start_time": "2022-05-18T11:38:04.261Z"
   },
   {
    "duration": 445,
    "start_time": "2022-05-18T11:38:04.285Z"
   },
   {
    "duration": 9,
    "start_time": "2022-05-18T11:38:04.733Z"
   },
   {
    "duration": 10,
    "start_time": "2022-05-18T11:38:04.743Z"
   },
   {
    "duration": 13,
    "start_time": "2022-05-18T11:38:04.755Z"
   },
   {
    "duration": 7,
    "start_time": "2022-05-18T11:38:04.770Z"
   },
   {
    "duration": 1241,
    "start_time": "2022-05-18T13:11:05.145Z"
   },
   {
    "duration": 63,
    "start_time": "2022-05-18T13:11:06.388Z"
   },
   {
    "duration": 15,
    "start_time": "2022-05-18T13:11:06.453Z"
   },
   {
    "duration": 19,
    "start_time": "2022-05-18T13:11:06.470Z"
   },
   {
    "duration": 8,
    "start_time": "2022-05-18T13:11:06.490Z"
   },
   {
    "duration": 43,
    "start_time": "2022-05-18T13:11:06.500Z"
   },
   {
    "duration": 14,
    "start_time": "2022-05-18T13:11:06.545Z"
   },
   {
    "duration": 10,
    "start_time": "2022-05-18T13:11:06.561Z"
   },
   {
    "duration": 8,
    "start_time": "2022-05-18T13:11:06.573Z"
   },
   {
    "duration": 7,
    "start_time": "2022-05-18T13:11:06.584Z"
   },
   {
    "duration": 42,
    "start_time": "2022-05-18T13:11:06.593Z"
   },
   {
    "duration": 5,
    "start_time": "2022-05-18T13:11:06.641Z"
   },
   {
    "duration": 11,
    "start_time": "2022-05-18T13:11:06.647Z"
   },
   {
    "duration": 6,
    "start_time": "2022-05-18T13:11:06.659Z"
   },
   {
    "duration": 10,
    "start_time": "2022-05-18T13:11:06.666Z"
   },
   {
    "duration": 24,
    "start_time": "2022-05-18T13:11:06.677Z"
   },
   {
    "duration": 37,
    "start_time": "2022-05-18T13:11:06.703Z"
   },
   {
    "duration": 17,
    "start_time": "2022-05-18T13:11:06.742Z"
   },
   {
    "duration": 9,
    "start_time": "2022-05-18T13:11:06.761Z"
   },
   {
    "duration": 459,
    "start_time": "2022-05-18T13:11:06.772Z"
   },
   {
    "duration": 19,
    "start_time": "2022-05-18T13:11:07.233Z"
   },
   {
    "duration": 28,
    "start_time": "2022-05-18T13:11:07.254Z"
   },
   {
    "duration": 4,
    "start_time": "2022-05-18T13:11:07.283Z"
   },
   {
    "duration": 13,
    "start_time": "2022-05-18T13:11:07.289Z"
   },
   {
    "duration": 5887,
    "start_time": "2022-05-18T13:11:07.305Z"
   },
   {
    "duration": 19525,
    "start_time": "2022-05-18T13:11:13.194Z"
   },
   {
    "duration": 42,
    "start_time": "2022-05-18T13:11:32.721Z"
   },
   {
    "duration": 5,
    "start_time": "2022-05-18T13:11:32.768Z"
   },
   {
    "duration": 214,
    "start_time": "2022-05-18T13:11:32.775Z"
   },
   {
    "duration": 4,
    "start_time": "2022-05-18T13:11:32.990Z"
   },
   {
    "duration": 31,
    "start_time": "2022-05-18T13:11:32.996Z"
   },
   {
    "duration": 200,
    "start_time": "2022-05-18T13:11:33.029Z"
   },
   {
    "duration": 11,
    "start_time": "2022-05-18T13:11:33.231Z"
   },
   {
    "duration": 30,
    "start_time": "2022-05-18T13:11:33.244Z"
   },
   {
    "duration": 14,
    "start_time": "2022-05-18T13:11:33.276Z"
   },
   {
    "duration": 7704,
    "start_time": "2022-05-18T13:11:33.292Z"
   },
   {
    "duration": 6852,
    "start_time": "2022-05-18T13:11:40.998Z"
   },
   {
    "duration": 4,
    "start_time": "2022-05-18T13:11:47.852Z"
   },
   {
    "duration": 319,
    "start_time": "2022-05-18T13:11:47.858Z"
   },
   {
    "duration": 3061,
    "start_time": "2022-05-18T13:11:48.179Z"
   },
   {
    "duration": 34,
    "start_time": "2022-05-18T13:11:51.244Z"
   },
   {
    "duration": 12,
    "start_time": "2022-05-18T13:11:51.280Z"
   },
   {
    "duration": 185,
    "start_time": "2022-05-18T13:11:51.293Z"
   },
   {
    "duration": 210,
    "start_time": "2022-05-18T13:11:51.480Z"
   },
   {
    "duration": 18,
    "start_time": "2022-05-18T13:11:51.692Z"
   },
   {
    "duration": 32,
    "start_time": "2022-05-18T13:11:51.725Z"
   },
   {
    "duration": 457,
    "start_time": "2022-05-18T13:11:51.759Z"
   },
   {
    "duration": 36,
    "start_time": "2022-05-18T13:11:52.218Z"
   },
   {
    "duration": 505,
    "start_time": "2022-05-18T13:11:52.256Z"
   },
   {
    "duration": 20,
    "start_time": "2022-05-18T13:11:52.763Z"
   },
   {
    "duration": 482,
    "start_time": "2022-05-18T13:11:52.785Z"
   },
   {
    "duration": 9,
    "start_time": "2022-05-18T13:11:53.269Z"
   },
   {
    "duration": 15,
    "start_time": "2022-05-18T13:11:53.280Z"
   },
   {
    "duration": 12,
    "start_time": "2022-05-18T13:11:53.297Z"
   },
   {
    "duration": 9,
    "start_time": "2022-05-18T13:11:53.327Z"
   },
   {
    "duration": 1255,
    "start_time": "2022-05-18T18:55:30.029Z"
   },
   {
    "duration": 136,
    "start_time": "2022-05-18T18:55:49.387Z"
   },
   {
    "duration": 26,
    "start_time": "2022-05-18T18:57:52.406Z"
   },
   {
    "duration": 2756,
    "start_time": "2022-05-18T18:57:55.424Z"
   },
   {
    "duration": 21,
    "start_time": "2022-05-18T18:58:41.747Z"
   },
   {
    "duration": 3307,
    "start_time": "2022-05-18T18:58:43.109Z"
   },
   {
    "duration": 2625,
    "start_time": "2022-05-18T19:00:11.620Z"
   },
   {
    "duration": 42,
    "start_time": "2022-05-18T19:01:20.771Z"
   },
   {
    "duration": 18,
    "start_time": "2022-05-18T19:01:27.000Z"
   },
   {
    "duration": 18,
    "start_time": "2022-05-18T19:01:46.602Z"
   },
   {
    "duration": 6,
    "start_time": "2022-05-18T19:03:11.729Z"
   },
   {
    "duration": 442,
    "start_time": "2022-05-18T19:03:19.256Z"
   },
   {
    "duration": 2524,
    "start_time": "2022-05-18T19:03:52.641Z"
   },
   {
    "duration": 49,
    "start_time": "2022-05-18T19:05:01.803Z"
   },
   {
    "duration": 187,
    "start_time": "2022-05-18T19:05:27.310Z"
   },
   {
    "duration": 15,
    "start_time": "2022-05-18T19:05:45.300Z"
   },
   {
    "duration": 15,
    "start_time": "2022-05-18T19:06:53.987Z"
   },
   {
    "duration": 841,
    "start_time": "2022-05-18T19:07:45.815Z"
   },
   {
    "duration": 634,
    "start_time": "2022-05-18T19:10:10.930Z"
   },
   {
    "duration": 4005,
    "start_time": "2022-05-18T19:11:20.595Z"
   },
   {
    "duration": 4258,
    "start_time": "2022-05-18T19:12:06.373Z"
   },
   {
    "duration": 4,
    "start_time": "2022-05-18T19:13:22.549Z"
   },
   {
    "duration": 3,
    "start_time": "2022-05-18T19:14:30.901Z"
   },
   {
    "duration": 90,
    "start_time": "2022-05-18T19:14:30.906Z"
   },
   {
    "duration": 25,
    "start_time": "2022-05-18T19:14:30.998Z"
   },
   {
    "duration": 18,
    "start_time": "2022-05-18T19:14:31.025Z"
   },
   {
    "duration": 11,
    "start_time": "2022-05-18T19:14:31.046Z"
   },
   {
    "duration": 44,
    "start_time": "2022-05-18T19:14:31.059Z"
   },
   {
    "duration": 27,
    "start_time": "2022-05-18T19:14:31.105Z"
   },
   {
    "duration": 20,
    "start_time": "2022-05-18T19:14:31.134Z"
   },
   {
    "duration": 23,
    "start_time": "2022-05-18T19:14:31.155Z"
   },
   {
    "duration": 37,
    "start_time": "2022-05-18T19:14:31.180Z"
   },
   {
    "duration": 21,
    "start_time": "2022-05-18T19:14:31.218Z"
   },
   {
    "duration": 9,
    "start_time": "2022-05-18T19:14:31.241Z"
   },
   {
    "duration": 16,
    "start_time": "2022-05-18T19:14:31.252Z"
   },
   {
    "duration": 39,
    "start_time": "2022-05-18T19:14:31.270Z"
   },
   {
    "duration": 14,
    "start_time": "2022-05-18T19:14:31.310Z"
   },
   {
    "duration": 23,
    "start_time": "2022-05-18T19:14:31.326Z"
   },
   {
    "duration": 20,
    "start_time": "2022-05-18T19:14:31.350Z"
   },
   {
    "duration": 50,
    "start_time": "2022-05-18T19:14:31.371Z"
   },
   {
    "duration": 9,
    "start_time": "2022-05-18T19:14:31.423Z"
   },
   {
    "duration": 396,
    "start_time": "2022-05-18T19:14:31.434Z"
   },
   {
    "duration": 14,
    "start_time": "2022-05-18T19:14:31.831Z"
   },
   {
    "duration": 64,
    "start_time": "2022-05-18T19:14:31.847Z"
   },
   {
    "duration": 4,
    "start_time": "2022-05-18T19:14:31.913Z"
   },
   {
    "duration": 10,
    "start_time": "2022-05-18T19:14:31.918Z"
   },
   {
    "duration": 6815,
    "start_time": "2022-05-18T19:14:31.930Z"
   },
   {
    "duration": 22088,
    "start_time": "2022-05-18T19:14:38.747Z"
   },
   {
    "duration": 37,
    "start_time": "2022-05-18T19:15:00.838Z"
   },
   {
    "duration": 4,
    "start_time": "2022-05-18T19:15:00.886Z"
   },
   {
    "duration": 237,
    "start_time": "2022-05-18T19:15:00.892Z"
   },
   {
    "duration": 4,
    "start_time": "2022-05-18T19:15:01.130Z"
   },
   {
    "duration": 21,
    "start_time": "2022-05-18T19:15:01.137Z"
   },
   {
    "duration": 250,
    "start_time": "2022-05-18T19:15:01.160Z"
   },
   {
    "duration": 5,
    "start_time": "2022-05-18T19:15:01.413Z"
   },
   {
    "duration": 34,
    "start_time": "2022-05-18T19:15:01.421Z"
   },
   {
    "duration": 43,
    "start_time": "2022-05-18T19:15:01.457Z"
   },
   {
    "duration": 8358,
    "start_time": "2022-05-18T19:15:01.502Z"
   },
   {
    "duration": 8107,
    "start_time": "2022-05-18T19:15:09.866Z"
   },
   {
    "duration": 10,
    "start_time": "2022-05-18T19:15:17.977Z"
   },
   {
    "duration": 374,
    "start_time": "2022-05-18T19:15:17.990Z"
   },
   {
    "duration": 19,
    "start_time": "2022-05-18T19:15:18.366Z"
   },
   {
    "duration": 746,
    "start_time": "2022-05-18T19:15:18.387Z"
   },
   {
    "duration": 4860,
    "start_time": "2022-05-18T19:15:19.135Z"
   },
   {
    "duration": 38,
    "start_time": "2022-05-18T19:15:23.997Z"
   },
   {
    "duration": 12,
    "start_time": "2022-05-18T19:15:24.037Z"
   },
   {
    "duration": 204,
    "start_time": "2022-05-18T19:15:24.050Z"
   },
   {
    "duration": 233,
    "start_time": "2022-05-18T19:15:24.256Z"
   },
   {
    "duration": 25,
    "start_time": "2022-05-18T19:15:24.491Z"
   },
   {
    "duration": 17,
    "start_time": "2022-05-18T19:15:24.517Z"
   },
   {
    "duration": 531,
    "start_time": "2022-05-18T19:15:24.536Z"
   },
   {
    "duration": 31,
    "start_time": "2022-05-18T19:15:25.068Z"
   },
   {
    "duration": 716,
    "start_time": "2022-05-18T19:15:25.102Z"
   },
   {
    "duration": 16,
    "start_time": "2022-05-18T19:15:25.820Z"
   },
   {
    "duration": 517,
    "start_time": "2022-05-18T19:15:25.837Z"
   },
   {
    "duration": 10,
    "start_time": "2022-05-18T19:15:26.356Z"
   },
   {
    "duration": 37,
    "start_time": "2022-05-18T19:15:26.380Z"
   },
   {
    "duration": 12,
    "start_time": "2022-05-18T19:15:26.418Z"
   },
   {
    "duration": 7,
    "start_time": "2022-05-18T19:15:26.431Z"
   },
   {
    "duration": 4,
    "start_time": "2022-05-18T19:15:43.529Z"
   },
   {
    "duration": 4,
    "start_time": "2022-05-18T19:16:09.297Z"
   },
   {
    "duration": 1257,
    "start_time": "2022-05-19T09:20:55.500Z"
   },
   {
    "duration": 86,
    "start_time": "2022-05-19T09:20:56.760Z"
   },
   {
    "duration": 18,
    "start_time": "2022-05-19T09:20:56.847Z"
   },
   {
    "duration": 18,
    "start_time": "2022-05-19T09:20:56.868Z"
   },
   {
    "duration": 8,
    "start_time": "2022-05-19T09:20:56.888Z"
   },
   {
    "duration": 33,
    "start_time": "2022-05-19T09:20:56.897Z"
   },
   {
    "duration": 18,
    "start_time": "2022-05-19T09:20:56.932Z"
   },
   {
    "duration": 12,
    "start_time": "2022-05-19T09:20:56.952Z"
   },
   {
    "duration": 9,
    "start_time": "2022-05-19T09:20:56.966Z"
   },
   {
    "duration": 12,
    "start_time": "2022-05-19T09:20:56.977Z"
   },
   {
    "duration": 33,
    "start_time": "2022-05-19T09:20:56.990Z"
   },
   {
    "duration": 5,
    "start_time": "2022-05-19T09:20:57.024Z"
   },
   {
    "duration": 9,
    "start_time": "2022-05-19T09:20:57.030Z"
   },
   {
    "duration": 6,
    "start_time": "2022-05-19T09:20:57.041Z"
   },
   {
    "duration": 8,
    "start_time": "2022-05-19T09:20:57.049Z"
   },
   {
    "duration": 18,
    "start_time": "2022-05-19T09:20:57.059Z"
   },
   {
    "duration": 49,
    "start_time": "2022-05-19T09:20:57.079Z"
   },
   {
    "duration": 18,
    "start_time": "2022-05-19T09:20:57.130Z"
   },
   {
    "duration": 9,
    "start_time": "2022-05-19T09:20:57.150Z"
   },
   {
    "duration": 440,
    "start_time": "2022-05-19T09:20:57.161Z"
   },
   {
    "duration": 32,
    "start_time": "2022-05-19T09:20:57.602Z"
   },
   {
    "duration": 28,
    "start_time": "2022-05-19T09:20:57.635Z"
   },
   {
    "duration": 4,
    "start_time": "2022-05-19T09:20:57.664Z"
   },
   {
    "duration": 6,
    "start_time": "2022-05-19T09:20:57.670Z"
   },
   {
    "duration": 5589,
    "start_time": "2022-05-19T09:20:57.678Z"
   },
   {
    "duration": 18051,
    "start_time": "2022-05-19T09:21:03.269Z"
   },
   {
    "duration": 27,
    "start_time": "2022-05-19T09:21:21.324Z"
   },
   {
    "duration": 5,
    "start_time": "2022-05-19T09:21:21.355Z"
   },
   {
    "duration": 209,
    "start_time": "2022-05-19T09:21:21.362Z"
   },
   {
    "duration": 5,
    "start_time": "2022-05-19T09:21:21.572Z"
   },
   {
    "duration": 20,
    "start_time": "2022-05-19T09:21:21.579Z"
   },
   {
    "duration": 189,
    "start_time": "2022-05-19T09:21:21.600Z"
   },
   {
    "duration": 5,
    "start_time": "2022-05-19T09:21:21.791Z"
   },
   {
    "duration": 41,
    "start_time": "2022-05-19T09:21:21.797Z"
   },
   {
    "duration": 16,
    "start_time": "2022-05-19T09:21:21.839Z"
   },
   {
    "duration": 6961,
    "start_time": "2022-05-19T09:21:21.857Z"
   },
   {
    "duration": 6558,
    "start_time": "2022-05-19T09:21:28.823Z"
   },
   {
    "duration": 6,
    "start_time": "2022-05-19T09:21:35.383Z"
   },
   {
    "duration": 344,
    "start_time": "2022-05-19T09:21:35.390Z"
   },
   {
    "duration": 3,
    "start_time": "2022-05-19T09:21:35.735Z"
   },
   {
    "duration": 668,
    "start_time": "2022-05-19T09:21:35.740Z"
   },
   {
    "duration": 4427,
    "start_time": "2022-05-19T09:21:36.409Z"
   },
   {
    "duration": 4,
    "start_time": "2022-05-19T09:21:40.838Z"
   },
   {
    "duration": 16,
    "start_time": "2022-05-19T09:21:40.843Z"
   },
   {
    "duration": 165,
    "start_time": "2022-05-19T09:21:40.861Z"
   },
   {
    "duration": 221,
    "start_time": "2022-05-19T09:21:41.027Z"
   },
   {
    "duration": 17,
    "start_time": "2022-05-19T09:21:41.250Z"
   },
   {
    "duration": 26,
    "start_time": "2022-05-19T09:21:41.269Z"
   },
   {
    "duration": 487,
    "start_time": "2022-05-19T09:21:41.297Z"
   },
   {
    "duration": 18,
    "start_time": "2022-05-19T09:21:41.786Z"
   },
   {
    "duration": 623,
    "start_time": "2022-05-19T09:21:41.806Z"
   },
   {
    "duration": 19,
    "start_time": "2022-05-19T09:21:42.431Z"
   },
   {
    "duration": 557,
    "start_time": "2022-05-19T09:21:42.454Z"
   },
   {
    "duration": 14,
    "start_time": "2022-05-19T09:21:43.013Z"
   },
   {
    "duration": 15,
    "start_time": "2022-05-19T09:21:43.029Z"
   },
   {
    "duration": 14,
    "start_time": "2022-05-19T09:21:43.046Z"
   },
   {
    "duration": 33,
    "start_time": "2022-05-19T09:21:43.061Z"
   },
   {
    "duration": 47,
    "start_time": "2022-07-24T11:17:36.722Z"
   },
   {
    "duration": 8,
    "start_time": "2022-07-24T11:17:48.610Z"
   },
   {
    "duration": 9,
    "start_time": "2022-07-24T11:17:55.691Z"
   },
   {
    "duration": 1208,
    "start_time": "2022-07-24T11:18:22.915Z"
   },
   {
    "duration": 129,
    "start_time": "2022-07-24T11:18:24.126Z"
   },
   {
    "duration": 20,
    "start_time": "2022-07-24T11:18:24.258Z"
   },
   {
    "duration": 34,
    "start_time": "2022-07-24T11:18:24.281Z"
   },
   {
    "duration": 15,
    "start_time": "2022-07-24T11:18:24.317Z"
   },
   {
    "duration": 26,
    "start_time": "2022-07-24T11:18:24.336Z"
   },
   {
    "duration": 25,
    "start_time": "2022-07-24T11:18:24.365Z"
   },
   {
    "duration": 46,
    "start_time": "2022-07-24T11:18:24.393Z"
   },
   {
    "duration": 9,
    "start_time": "2022-07-24T11:18:24.442Z"
   },
   {
    "duration": 13,
    "start_time": "2022-07-24T11:18:24.455Z"
   },
   {
    "duration": 19,
    "start_time": "2022-07-24T11:18:24.471Z"
   },
   {
    "duration": 32,
    "start_time": "2022-07-24T11:18:24.493Z"
   },
   {
    "duration": 17,
    "start_time": "2022-07-24T11:18:24.528Z"
   },
   {
    "duration": 11,
    "start_time": "2022-07-24T11:18:24.547Z"
   },
   {
    "duration": 16,
    "start_time": "2022-07-24T11:18:24.560Z"
   },
   {
    "duration": 8,
    "start_time": "2022-07-24T11:18:24.578Z"
   },
   {
    "duration": 35,
    "start_time": "2022-07-24T11:18:24.588Z"
   },
   {
    "duration": 33,
    "start_time": "2022-07-24T11:18:24.625Z"
   },
   {
    "duration": 19,
    "start_time": "2022-07-24T11:18:24.660Z"
   },
   {
    "duration": 16,
    "start_time": "2022-07-24T11:18:24.681Z"
   },
   {
    "duration": 387,
    "start_time": "2022-07-24T11:18:24.699Z"
   },
   {
    "duration": 19,
    "start_time": "2022-07-24T11:18:25.088Z"
   },
   {
    "duration": 40,
    "start_time": "2022-07-24T11:18:25.110Z"
   },
   {
    "duration": 5,
    "start_time": "2022-07-24T11:18:25.153Z"
   },
   {
    "duration": 15,
    "start_time": "2022-07-24T11:18:25.160Z"
   },
   {
    "duration": 6055,
    "start_time": "2022-07-24T11:18:25.178Z"
   },
   {
    "duration": 19620,
    "start_time": "2022-07-24T11:18:31.236Z"
   },
   {
    "duration": 28,
    "start_time": "2022-07-24T11:18:50.861Z"
   },
   {
    "duration": 5,
    "start_time": "2022-07-24T11:18:50.892Z"
   },
   {
    "duration": 236,
    "start_time": "2022-07-24T11:18:50.900Z"
   },
   {
    "duration": 4,
    "start_time": "2022-07-24T11:18:51.138Z"
   },
   {
    "duration": 42,
    "start_time": "2022-07-24T11:18:51.143Z"
   },
   {
    "duration": 255,
    "start_time": "2022-07-24T11:18:51.188Z"
   },
   {
    "duration": 5,
    "start_time": "2022-07-24T11:18:51.445Z"
   },
   {
    "duration": 31,
    "start_time": "2022-07-24T11:18:51.452Z"
   },
   {
    "duration": 40,
    "start_time": "2022-07-24T11:18:51.486Z"
   },
   {
    "duration": 7613,
    "start_time": "2022-07-24T11:18:51.528Z"
   },
   {
    "duration": 6483,
    "start_time": "2022-07-24T11:18:59.144Z"
   },
   {
    "duration": 9,
    "start_time": "2022-07-24T11:19:05.629Z"
   },
   {
    "duration": 741,
    "start_time": "2022-07-24T11:19:05.642Z"
   },
   {
    "duration": 4,
    "start_time": "2022-07-24T11:19:06.386Z"
   },
   {
    "duration": 726,
    "start_time": "2022-07-24T11:19:06.392Z"
   },
   {
    "duration": 4169,
    "start_time": "2022-07-24T11:19:07.120Z"
   },
   {
    "duration": 4,
    "start_time": "2022-07-24T11:19:11.291Z"
   },
   {
    "duration": 16,
    "start_time": "2022-07-24T11:19:11.298Z"
   },
   {
    "duration": 187,
    "start_time": "2022-07-24T11:19:11.316Z"
   },
   {
    "duration": 323,
    "start_time": "2022-07-24T11:19:11.507Z"
   },
   {
    "duration": 16,
    "start_time": "2022-07-24T11:19:11.832Z"
   },
   {
    "duration": 17,
    "start_time": "2022-07-24T11:19:11.850Z"
   },
   {
    "duration": 504,
    "start_time": "2022-07-24T11:19:11.869Z"
   },
   {
    "duration": 18,
    "start_time": "2022-07-24T11:19:12.375Z"
   },
   {
    "duration": 452,
    "start_time": "2022-07-24T11:19:12.395Z"
   },
   {
    "duration": 17,
    "start_time": "2022-07-24T11:19:12.848Z"
   },
   {
    "duration": 438,
    "start_time": "2022-07-24T11:19:12.867Z"
   },
   {
    "duration": 8,
    "start_time": "2022-07-24T11:19:13.307Z"
   },
   {
    "duration": 8,
    "start_time": "2022-07-24T11:19:13.326Z"
   },
   {
    "duration": 16,
    "start_time": "2022-07-24T11:19:13.336Z"
   },
   {
    "duration": 7,
    "start_time": "2022-07-24T11:19:13.354Z"
   },
   {
    "duration": 1125,
    "start_time": "2022-07-24T11:24:27.839Z"
   },
   {
    "duration": 77,
    "start_time": "2022-07-24T11:24:28.966Z"
   },
   {
    "duration": 18,
    "start_time": "2022-07-24T11:24:29.045Z"
   },
   {
    "duration": 58,
    "start_time": "2022-07-24T11:24:29.066Z"
   },
   {
    "duration": 18,
    "start_time": "2022-07-24T11:24:29.126Z"
   },
   {
    "duration": 51,
    "start_time": "2022-07-24T11:24:29.148Z"
   },
   {
    "duration": 30,
    "start_time": "2022-07-24T11:24:29.201Z"
   },
   {
    "duration": 33,
    "start_time": "2022-07-24T11:24:29.233Z"
   },
   {
    "duration": 23,
    "start_time": "2022-07-24T11:24:29.267Z"
   },
   {
    "duration": 16,
    "start_time": "2022-07-24T11:24:29.293Z"
   },
   {
    "duration": 15,
    "start_time": "2022-07-24T11:24:29.311Z"
   },
   {
    "duration": 34,
    "start_time": "2022-07-24T11:24:29.327Z"
   },
   {
    "duration": 19,
    "start_time": "2022-07-24T11:24:29.363Z"
   },
   {
    "duration": 18,
    "start_time": "2022-07-24T11:24:29.384Z"
   },
   {
    "duration": 21,
    "start_time": "2022-07-24T11:24:29.403Z"
   },
   {
    "duration": 23,
    "start_time": "2022-07-24T11:24:29.426Z"
   },
   {
    "duration": 43,
    "start_time": "2022-07-24T11:24:29.451Z"
   },
   {
    "duration": 19,
    "start_time": "2022-07-24T11:24:29.495Z"
   },
   {
    "duration": 20,
    "start_time": "2022-07-24T11:24:29.516Z"
   },
   {
    "duration": 16,
    "start_time": "2022-07-24T11:24:29.537Z"
   },
   {
    "duration": 396,
    "start_time": "2022-07-24T11:24:29.554Z"
   },
   {
    "duration": 17,
    "start_time": "2022-07-24T11:24:29.952Z"
   },
   {
    "duration": 75,
    "start_time": "2022-07-24T11:24:29.971Z"
   },
   {
    "duration": 11,
    "start_time": "2022-07-24T11:24:30.049Z"
   },
   {
    "duration": 25,
    "start_time": "2022-07-24T11:24:30.062Z"
   },
   {
    "duration": 5296,
    "start_time": "2022-07-24T11:24:30.089Z"
   }
  ],
  "kernelspec": {
   "display_name": "Python 3 (ipykernel)",
   "language": "python",
   "name": "python3"
  },
  "language_info": {
   "codemirror_mode": {
    "name": "ipython",
    "version": 3
   },
   "file_extension": ".py",
   "mimetype": "text/x-python",
   "name": "python",
   "nbconvert_exporter": "python",
   "pygments_lexer": "ipython3",
   "version": "3.9.5"
  },
  "toc": {
   "base_numbering": 1,
   "nav_menu": {},
   "number_sections": true,
   "sideBar": true,
   "skip_h1_title": true,
   "title_cell": "Table of Contents",
   "title_sidebar": "Contents",
   "toc_cell": false,
   "toc_position": {},
   "toc_section_display": true,
   "toc_window_display": false
  }
 },
 "nbformat": 4,
 "nbformat_minor": 2
}
