{
 "cells": [
  {
   "cell_type": "markdown",
   "metadata": {},
   "source": [
    "# Определение перспективного тарифа для телеком компании"
   ]
  },
  {
   "cell_type": "markdown",
   "metadata": {},
   "source": [
    "# Введение"
   ]
  },
  {
   "cell_type": "markdown",
   "metadata": {},
   "source": [
    "Вы аналитик компании «Мегалайн» — федерального оператора сотовой связи. Клиентам предлагают два тарифных плана: «Смарт» и «Ультра». Чтобы скорректировать рекламный бюджет, коммерческий департамент хочет понять, какой тариф приносит больше денег.\n",
    "Вам предстоит сделать предварительный анализ тарифов на небольшой выборке клиентов. В вашем распоряжении данные 500 пользователей «Мегалайна»: кто они, откуда, каким тарифом пользуются, сколько звонков и сообщений каждый отправил за 2018 год. Нужно проанализировать поведение клиентов и сделать вывод — какой тариф лучше.\n",
    "\n",
    "Описание тарифов\n",
    "\n",
    "Тариф «Смарт»\n",
    "\n",
    "1.\tЕжемесячная плата: 550 рублей\n",
    "2.\tВключено 500 минут разговора, 50 сообщений и 15 Гб интернет-трафика\n",
    "3.\tСтоимость услуг сверх тарифного пакета:\n",
    "o\tминута разговора: 3 рубля\n",
    "o\tсообщение: 3 рубля\n",
    "o\t1 Гб интернет-трафика: 200 рублей\n",
    "\n",
    "Тариф «Ультра»\n",
    "\n",
    "1.\tЕжемесячная плата: 1950 рублей\n",
    "2.\tВключено 3000 минут разговора, 1000 сообщений и 30 Гб интернет-трафика\n",
    "3.\tСтоимость услуг сверх тарифного пакета:\n",
    "o\tминута разговора: 1 рубль\n",
    "o\tсообщение: 1 рубль\n",
    "o\t1 Гб интернет-трафика: 150 рублей\n"
   ]
  },
  {
   "cell_type": "markdown",
   "metadata": {},
   "source": [
    "Примечание:\n",
    "«Мегалайн» всегда округляет секунды до минут, а мегабайты — до гигабайт. Каждый звонок округляется отдельно: даже если он длился всего 1 секунду, будет засчитан как 1 минута.\n",
    "Для веб-трафика отдельные сессии не считаются. Вместо этого общая сумма за месяц округляется в бо́льшую сторону. Если абонент использует 1025 мегабайт в этом месяце, с него возьмут плату за 2 гигабайта.\n"
   ]
  },
  {
   "cell_type": "markdown",
   "metadata": {},
   "source": [
    "**Описание данных**\n",
    "\n",
    "Таблица users (информация о пользователях):\n",
    "\n",
    "- user_id — уникальный идентификатор пользователя\n",
    "- first_name — имя пользователя\n",
    "- last_name — фамилия пользователя\n",
    "- age — возраст пользователя (годы)\n",
    "- reg_date — дата подключения тарифа (день, месяц, год)\n",
    "- churn_date — дата прекращения пользования тарифом (если значение пропущено, то тариф ещё действовал на момент выгрузки данных)\n",
    "- city — город проживания пользователя\n",
    "- tariff — название тарифного плана\n",
    "\n",
    "Таблица calls (информация о звонках):\n",
    "\n",
    "- id — уникальный номер звонка\n",
    "- call_date — дата звонка\n",
    "- duration — длительность звонка в минутах\n",
    "- user_id — идентификатор пользователя, сделавшего звонок\n",
    "\n",
    "Таблица messages (информация о сообщениях):\n",
    "\n",
    "- id — уникальный номер сообщения\n",
    "- message_date — дата сообщения\n",
    "- user_id — идентификатор пользователя, отправившего сообщение\n",
    "\n",
    "Таблица internet (информация об интернет-сессиях):\n",
    "\n",
    "- id — уникальный номер сессии\n",
    "- mb_used — объём потраченного за сессию интернет-трафика (в мегабайтах)\n",
    "- session_date — дата интернет-сессии\n",
    "- user_id — идентификатор пользователя\n",
    "\n",
    "Таблица tariffs (информация о тарифах):\n",
    "\n",
    "- tariff_name — название тарифа\n",
    "- rub_monthly_fee — ежемесячная абонентская плата в рублях\n",
    "- minutes_included — количество минут разговора в месяц, включённых в абонентскую плату\n",
    "- messages_included — количество сообщений в месяц, включённых в абонентскую плату\n",
    "- mb_per_month_included — объём интернет-трафика, включённого в абонентскую плату (в мегабайтах)\n",
    "- rub_per_minute — стоимость минуты разговора сверх тарифного пакета (например, если в тарифе 100 минут разговора в месяц, то со 101 минуты будет взиматься плата)\n",
    "- rub_per_message — стоимость отправки сообщения сверх тарифного пакета\n",
    "- rub_per_gb — стоимость дополнительного гигабайта интернет-трафика сверх тарифного пакета (1 гигабайт = 1024 мегабайта)\n"
   ]
  },
  {
   "cell_type": "markdown",
   "metadata": {},
   "source": [
    "## Шаг 1. Откройте файл с данными и изучите общую информацию"
   ]
  },
  {
   "cell_type": "code",
   "execution_count": 1,
   "metadata": {},
   "outputs": [],
   "source": [
    "import pandas as pd\n",
    "import numpy as np\n",
    "import math\n",
    "import datetime\n",
    "import scipy.stats as st\n",
    "import matplotlib.pyplot as plt\n",
    "calls = pd.read_csv('/datasets/calls.csv')\n",
    "internet = pd.read_csv('/datasets/internet.csv').drop(['Unnamed: 0'],axis = 1)\n",
    "messages = pd.read_csv('/datasets/messages.csv')\n",
    "tariffs = pd.read_csv('/datasets/tariffs.csv')\n",
    "users = pd.read_csv('/datasets/users.csv')"
   ]
  },
  {
   "cell_type": "code",
   "execution_count": 2,
   "metadata": {},
   "outputs": [
    {
     "name": "stdout",
     "output_type": "stream",
     "text": [
      "<class 'pandas.core.frame.DataFrame'>\n",
      "RangeIndex: 202607 entries, 0 to 202606\n",
      "Data columns (total 4 columns):\n",
      " #   Column     Non-Null Count   Dtype  \n",
      "---  ------     --------------   -----  \n",
      " 0   id         202607 non-null  object \n",
      " 1   call_date  202607 non-null  object \n",
      " 2   duration   202607 non-null  float64\n",
      " 3   user_id    202607 non-null  int64  \n",
      "dtypes: float64(1), int64(1), object(2)\n",
      "memory usage: 6.2+ MB\n"
     ]
    },
    {
     "data": {
      "text/html": [
       "<div>\n",
       "<style scoped>\n",
       "    .dataframe tbody tr th:only-of-type {\n",
       "        vertical-align: middle;\n",
       "    }\n",
       "\n",
       "    .dataframe tbody tr th {\n",
       "        vertical-align: top;\n",
       "    }\n",
       "\n",
       "    .dataframe thead th {\n",
       "        text-align: right;\n",
       "    }\n",
       "</style>\n",
       "<table border=\"1\" class=\"dataframe\">\n",
       "  <thead>\n",
       "    <tr style=\"text-align: right;\">\n",
       "      <th></th>\n",
       "      <th>id</th>\n",
       "      <th>call_date</th>\n",
       "      <th>duration</th>\n",
       "      <th>user_id</th>\n",
       "    </tr>\n",
       "  </thead>\n",
       "  <tbody>\n",
       "    <tr>\n",
       "      <th>0</th>\n",
       "      <td>1000_0</td>\n",
       "      <td>2018-07-25</td>\n",
       "      <td>0.00</td>\n",
       "      <td>1000</td>\n",
       "    </tr>\n",
       "    <tr>\n",
       "      <th>1</th>\n",
       "      <td>1000_1</td>\n",
       "      <td>2018-08-17</td>\n",
       "      <td>0.00</td>\n",
       "      <td>1000</td>\n",
       "    </tr>\n",
       "    <tr>\n",
       "      <th>2</th>\n",
       "      <td>1000_2</td>\n",
       "      <td>2018-06-11</td>\n",
       "      <td>2.85</td>\n",
       "      <td>1000</td>\n",
       "    </tr>\n",
       "    <tr>\n",
       "      <th>3</th>\n",
       "      <td>1000_3</td>\n",
       "      <td>2018-09-21</td>\n",
       "      <td>13.80</td>\n",
       "      <td>1000</td>\n",
       "    </tr>\n",
       "    <tr>\n",
       "      <th>4</th>\n",
       "      <td>1000_4</td>\n",
       "      <td>2018-12-15</td>\n",
       "      <td>5.18</td>\n",
       "      <td>1000</td>\n",
       "    </tr>\n",
       "    <tr>\n",
       "      <th>...</th>\n",
       "      <td>...</td>\n",
       "      <td>...</td>\n",
       "      <td>...</td>\n",
       "      <td>...</td>\n",
       "    </tr>\n",
       "    <tr>\n",
       "      <th>202602</th>\n",
       "      <td>1499_215</td>\n",
       "      <td>2018-12-26</td>\n",
       "      <td>0.76</td>\n",
       "      <td>1499</td>\n",
       "    </tr>\n",
       "    <tr>\n",
       "      <th>202603</th>\n",
       "      <td>1499_216</td>\n",
       "      <td>2018-10-18</td>\n",
       "      <td>18.83</td>\n",
       "      <td>1499</td>\n",
       "    </tr>\n",
       "    <tr>\n",
       "      <th>202604</th>\n",
       "      <td>1499_217</td>\n",
       "      <td>2018-11-10</td>\n",
       "      <td>10.81</td>\n",
       "      <td>1499</td>\n",
       "    </tr>\n",
       "    <tr>\n",
       "      <th>202605</th>\n",
       "      <td>1499_218</td>\n",
       "      <td>2018-10-06</td>\n",
       "      <td>4.27</td>\n",
       "      <td>1499</td>\n",
       "    </tr>\n",
       "    <tr>\n",
       "      <th>202606</th>\n",
       "      <td>1499_219</td>\n",
       "      <td>2018-12-14</td>\n",
       "      <td>19.62</td>\n",
       "      <td>1499</td>\n",
       "    </tr>\n",
       "  </tbody>\n",
       "</table>\n",
       "<p>202607 rows × 4 columns</p>\n",
       "</div>"
      ],
      "text/plain": [
       "              id   call_date  duration  user_id\n",
       "0         1000_0  2018-07-25      0.00     1000\n",
       "1         1000_1  2018-08-17      0.00     1000\n",
       "2         1000_2  2018-06-11      2.85     1000\n",
       "3         1000_3  2018-09-21     13.80     1000\n",
       "4         1000_4  2018-12-15      5.18     1000\n",
       "...          ...         ...       ...      ...\n",
       "202602  1499_215  2018-12-26      0.76     1499\n",
       "202603  1499_216  2018-10-18     18.83     1499\n",
       "202604  1499_217  2018-11-10     10.81     1499\n",
       "202605  1499_218  2018-10-06      4.27     1499\n",
       "202606  1499_219  2018-12-14     19.62     1499\n",
       "\n",
       "[202607 rows x 4 columns]"
      ]
     },
     "execution_count": 2,
     "metadata": {},
     "output_type": "execute_result"
    }
   ],
   "source": [
    "# Поочередно изучим информацию о датасетах\n",
    "calls.info()\n",
    "calls"
   ]
  },
  {
   "cell_type": "code",
   "execution_count": 3,
   "metadata": {},
   "outputs": [
    {
     "name": "stdout",
     "output_type": "stream",
     "text": [
      "<class 'pandas.core.frame.DataFrame'>\n",
      "RangeIndex: 149396 entries, 0 to 149395\n",
      "Data columns (total 4 columns):\n",
      " #   Column        Non-Null Count   Dtype  \n",
      "---  ------        --------------   -----  \n",
      " 0   id            149396 non-null  object \n",
      " 1   mb_used       149396 non-null  float64\n",
      " 2   session_date  149396 non-null  object \n",
      " 3   user_id       149396 non-null  int64  \n",
      "dtypes: float64(1), int64(1), object(2)\n",
      "memory usage: 4.6+ MB\n"
     ]
    },
    {
     "data": {
      "text/html": [
       "<div>\n",
       "<style scoped>\n",
       "    .dataframe tbody tr th:only-of-type {\n",
       "        vertical-align: middle;\n",
       "    }\n",
       "\n",
       "    .dataframe tbody tr th {\n",
       "        vertical-align: top;\n",
       "    }\n",
       "\n",
       "    .dataframe thead th {\n",
       "        text-align: right;\n",
       "    }\n",
       "</style>\n",
       "<table border=\"1\" class=\"dataframe\">\n",
       "  <thead>\n",
       "    <tr style=\"text-align: right;\">\n",
       "      <th></th>\n",
       "      <th>id</th>\n",
       "      <th>mb_used</th>\n",
       "      <th>session_date</th>\n",
       "      <th>user_id</th>\n",
       "    </tr>\n",
       "  </thead>\n",
       "  <tbody>\n",
       "    <tr>\n",
       "      <th>0</th>\n",
       "      <td>1000_0</td>\n",
       "      <td>112.95</td>\n",
       "      <td>2018-11-25</td>\n",
       "      <td>1000</td>\n",
       "    </tr>\n",
       "    <tr>\n",
       "      <th>1</th>\n",
       "      <td>1000_1</td>\n",
       "      <td>1052.81</td>\n",
       "      <td>2018-09-07</td>\n",
       "      <td>1000</td>\n",
       "    </tr>\n",
       "    <tr>\n",
       "      <th>2</th>\n",
       "      <td>1000_2</td>\n",
       "      <td>1197.26</td>\n",
       "      <td>2018-06-25</td>\n",
       "      <td>1000</td>\n",
       "    </tr>\n",
       "    <tr>\n",
       "      <th>3</th>\n",
       "      <td>1000_3</td>\n",
       "      <td>550.27</td>\n",
       "      <td>2018-08-22</td>\n",
       "      <td>1000</td>\n",
       "    </tr>\n",
       "    <tr>\n",
       "      <th>4</th>\n",
       "      <td>1000_4</td>\n",
       "      <td>302.56</td>\n",
       "      <td>2018-09-24</td>\n",
       "      <td>1000</td>\n",
       "    </tr>\n",
       "    <tr>\n",
       "      <th>...</th>\n",
       "      <td>...</td>\n",
       "      <td>...</td>\n",
       "      <td>...</td>\n",
       "      <td>...</td>\n",
       "    </tr>\n",
       "    <tr>\n",
       "      <th>149391</th>\n",
       "      <td>1499_152</td>\n",
       "      <td>318.90</td>\n",
       "      <td>2018-10-03</td>\n",
       "      <td>1499</td>\n",
       "    </tr>\n",
       "    <tr>\n",
       "      <th>149392</th>\n",
       "      <td>1499_153</td>\n",
       "      <td>490.13</td>\n",
       "      <td>2018-12-14</td>\n",
       "      <td>1499</td>\n",
       "    </tr>\n",
       "    <tr>\n",
       "      <th>149393</th>\n",
       "      <td>1499_154</td>\n",
       "      <td>0.00</td>\n",
       "      <td>2018-10-27</td>\n",
       "      <td>1499</td>\n",
       "    </tr>\n",
       "    <tr>\n",
       "      <th>149394</th>\n",
       "      <td>1499_155</td>\n",
       "      <td>1246.32</td>\n",
       "      <td>2018-11-26</td>\n",
       "      <td>1499</td>\n",
       "    </tr>\n",
       "    <tr>\n",
       "      <th>149395</th>\n",
       "      <td>1499_156</td>\n",
       "      <td>544.37</td>\n",
       "      <td>2018-10-26</td>\n",
       "      <td>1499</td>\n",
       "    </tr>\n",
       "  </tbody>\n",
       "</table>\n",
       "<p>149396 rows × 4 columns</p>\n",
       "</div>"
      ],
      "text/plain": [
       "              id  mb_used session_date  user_id\n",
       "0         1000_0   112.95   2018-11-25     1000\n",
       "1         1000_1  1052.81   2018-09-07     1000\n",
       "2         1000_2  1197.26   2018-06-25     1000\n",
       "3         1000_3   550.27   2018-08-22     1000\n",
       "4         1000_4   302.56   2018-09-24     1000\n",
       "...          ...      ...          ...      ...\n",
       "149391  1499_152   318.90   2018-10-03     1499\n",
       "149392  1499_153   490.13   2018-12-14     1499\n",
       "149393  1499_154     0.00   2018-10-27     1499\n",
       "149394  1499_155  1246.32   2018-11-26     1499\n",
       "149395  1499_156   544.37   2018-10-26     1499\n",
       "\n",
       "[149396 rows x 4 columns]"
      ]
     },
     "execution_count": 3,
     "metadata": {},
     "output_type": "execute_result"
    }
   ],
   "source": [
    "#Посмотрим датасет с информацией об используемом интернете\n",
    "internet.info()\n",
    "internet"
   ]
  },
  {
   "cell_type": "code",
   "execution_count": 4,
   "metadata": {},
   "outputs": [
    {
     "name": "stdout",
     "output_type": "stream",
     "text": [
      "<class 'pandas.core.frame.DataFrame'>\n",
      "RangeIndex: 123036 entries, 0 to 123035\n",
      "Data columns (total 3 columns):\n",
      " #   Column        Non-Null Count   Dtype \n",
      "---  ------        --------------   ----- \n",
      " 0   id            123036 non-null  object\n",
      " 1   message_date  123036 non-null  object\n",
      " 2   user_id       123036 non-null  int64 \n",
      "dtypes: int64(1), object(2)\n",
      "memory usage: 2.8+ MB\n"
     ]
    },
    {
     "data": {
      "text/html": [
       "<div>\n",
       "<style scoped>\n",
       "    .dataframe tbody tr th:only-of-type {\n",
       "        vertical-align: middle;\n",
       "    }\n",
       "\n",
       "    .dataframe tbody tr th {\n",
       "        vertical-align: top;\n",
       "    }\n",
       "\n",
       "    .dataframe thead th {\n",
       "        text-align: right;\n",
       "    }\n",
       "</style>\n",
       "<table border=\"1\" class=\"dataframe\">\n",
       "  <thead>\n",
       "    <tr style=\"text-align: right;\">\n",
       "      <th></th>\n",
       "      <th>id</th>\n",
       "      <th>message_date</th>\n",
       "      <th>user_id</th>\n",
       "    </tr>\n",
       "  </thead>\n",
       "  <tbody>\n",
       "    <tr>\n",
       "      <th>0</th>\n",
       "      <td>1000_0</td>\n",
       "      <td>2018-06-27</td>\n",
       "      <td>1000</td>\n",
       "    </tr>\n",
       "    <tr>\n",
       "      <th>1</th>\n",
       "      <td>1000_1</td>\n",
       "      <td>2018-10-08</td>\n",
       "      <td>1000</td>\n",
       "    </tr>\n",
       "    <tr>\n",
       "      <th>2</th>\n",
       "      <td>1000_2</td>\n",
       "      <td>2018-08-04</td>\n",
       "      <td>1000</td>\n",
       "    </tr>\n",
       "    <tr>\n",
       "      <th>3</th>\n",
       "      <td>1000_3</td>\n",
       "      <td>2018-06-16</td>\n",
       "      <td>1000</td>\n",
       "    </tr>\n",
       "    <tr>\n",
       "      <th>4</th>\n",
       "      <td>1000_4</td>\n",
       "      <td>2018-12-05</td>\n",
       "      <td>1000</td>\n",
       "    </tr>\n",
       "    <tr>\n",
       "      <th>...</th>\n",
       "      <td>...</td>\n",
       "      <td>...</td>\n",
       "      <td>...</td>\n",
       "    </tr>\n",
       "    <tr>\n",
       "      <th>123031</th>\n",
       "      <td>1499_179</td>\n",
       "      <td>2018-12-12</td>\n",
       "      <td>1499</td>\n",
       "    </tr>\n",
       "    <tr>\n",
       "      <th>123032</th>\n",
       "      <td>1499_180</td>\n",
       "      <td>2018-09-28</td>\n",
       "      <td>1499</td>\n",
       "    </tr>\n",
       "    <tr>\n",
       "      <th>123033</th>\n",
       "      <td>1499_181</td>\n",
       "      <td>2018-09-27</td>\n",
       "      <td>1499</td>\n",
       "    </tr>\n",
       "    <tr>\n",
       "      <th>123034</th>\n",
       "      <td>1499_182</td>\n",
       "      <td>2018-11-15</td>\n",
       "      <td>1499</td>\n",
       "    </tr>\n",
       "    <tr>\n",
       "      <th>123035</th>\n",
       "      <td>1499_183</td>\n",
       "      <td>2018-11-16</td>\n",
       "      <td>1499</td>\n",
       "    </tr>\n",
       "  </tbody>\n",
       "</table>\n",
       "<p>123036 rows × 3 columns</p>\n",
       "</div>"
      ],
      "text/plain": [
       "              id message_date  user_id\n",
       "0         1000_0   2018-06-27     1000\n",
       "1         1000_1   2018-10-08     1000\n",
       "2         1000_2   2018-08-04     1000\n",
       "3         1000_3   2018-06-16     1000\n",
       "4         1000_4   2018-12-05     1000\n",
       "...          ...          ...      ...\n",
       "123031  1499_179   2018-12-12     1499\n",
       "123032  1499_180   2018-09-28     1499\n",
       "123033  1499_181   2018-09-27     1499\n",
       "123034  1499_182   2018-11-15     1499\n",
       "123035  1499_183   2018-11-16     1499\n",
       "\n",
       "[123036 rows x 3 columns]"
      ]
     },
     "execution_count": 4,
     "metadata": {},
     "output_type": "execute_result"
    }
   ],
   "source": [
    "#Посмотрим датасет с информацией об смс\n",
    "messages.info()\n",
    "messages"
   ]
  },
  {
   "cell_type": "code",
   "execution_count": 5,
   "metadata": {},
   "outputs": [
    {
     "name": "stdout",
     "output_type": "stream",
     "text": [
      "<class 'pandas.core.frame.DataFrame'>\n",
      "RangeIndex: 2 entries, 0 to 1\n",
      "Data columns (total 8 columns):\n",
      " #   Column                 Non-Null Count  Dtype \n",
      "---  ------                 --------------  ----- \n",
      " 0   messages_included      2 non-null      int64 \n",
      " 1   mb_per_month_included  2 non-null      int64 \n",
      " 2   minutes_included       2 non-null      int64 \n",
      " 3   rub_monthly_fee        2 non-null      int64 \n",
      " 4   rub_per_gb             2 non-null      int64 \n",
      " 5   rub_per_message        2 non-null      int64 \n",
      " 6   rub_per_minute         2 non-null      int64 \n",
      " 7   tariff_name            2 non-null      object\n",
      "dtypes: int64(7), object(1)\n",
      "memory usage: 256.0+ bytes\n"
     ]
    },
    {
     "data": {
      "text/html": [
       "<div>\n",
       "<style scoped>\n",
       "    .dataframe tbody tr th:only-of-type {\n",
       "        vertical-align: middle;\n",
       "    }\n",
       "\n",
       "    .dataframe tbody tr th {\n",
       "        vertical-align: top;\n",
       "    }\n",
       "\n",
       "    .dataframe thead th {\n",
       "        text-align: right;\n",
       "    }\n",
       "</style>\n",
       "<table border=\"1\" class=\"dataframe\">\n",
       "  <thead>\n",
       "    <tr style=\"text-align: right;\">\n",
       "      <th></th>\n",
       "      <th>messages_included</th>\n",
       "      <th>mb_per_month_included</th>\n",
       "      <th>minutes_included</th>\n",
       "      <th>rub_monthly_fee</th>\n",
       "      <th>rub_per_gb</th>\n",
       "      <th>rub_per_message</th>\n",
       "      <th>rub_per_minute</th>\n",
       "      <th>tariff_name</th>\n",
       "    </tr>\n",
       "  </thead>\n",
       "  <tbody>\n",
       "    <tr>\n",
       "      <th>0</th>\n",
       "      <td>50</td>\n",
       "      <td>15360</td>\n",
       "      <td>500</td>\n",
       "      <td>550</td>\n",
       "      <td>200</td>\n",
       "      <td>3</td>\n",
       "      <td>3</td>\n",
       "      <td>smart</td>\n",
       "    </tr>\n",
       "    <tr>\n",
       "      <th>1</th>\n",
       "      <td>1000</td>\n",
       "      <td>30720</td>\n",
       "      <td>3000</td>\n",
       "      <td>1950</td>\n",
       "      <td>150</td>\n",
       "      <td>1</td>\n",
       "      <td>1</td>\n",
       "      <td>ultra</td>\n",
       "    </tr>\n",
       "  </tbody>\n",
       "</table>\n",
       "</div>"
      ],
      "text/plain": [
       "   messages_included  mb_per_month_included  minutes_included  \\\n",
       "0                 50                  15360               500   \n",
       "1               1000                  30720              3000   \n",
       "\n",
       "   rub_monthly_fee  rub_per_gb  rub_per_message  rub_per_minute tariff_name  \n",
       "0              550         200                3               3       smart  \n",
       "1             1950         150                1               1       ultra  "
      ]
     },
     "execution_count": 5,
     "metadata": {},
     "output_type": "execute_result"
    }
   ],
   "source": [
    "#Посмотрим датасет с информацией о тарифах\n",
    "tariffs.info()\n",
    "tariffs"
   ]
  },
  {
   "cell_type": "code",
   "execution_count": 6,
   "metadata": {},
   "outputs": [
    {
     "name": "stdout",
     "output_type": "stream",
     "text": [
      "<class 'pandas.core.frame.DataFrame'>\n",
      "RangeIndex: 500 entries, 0 to 499\n",
      "Data columns (total 8 columns):\n",
      " #   Column      Non-Null Count  Dtype \n",
      "---  ------      --------------  ----- \n",
      " 0   user_id     500 non-null    int64 \n",
      " 1   age         500 non-null    int64 \n",
      " 2   churn_date  38 non-null     object\n",
      " 3   city        500 non-null    object\n",
      " 4   first_name  500 non-null    object\n",
      " 5   last_name   500 non-null    object\n",
      " 6   reg_date    500 non-null    object\n",
      " 7   tariff      500 non-null    object\n",
      "dtypes: int64(2), object(6)\n",
      "memory usage: 31.4+ KB\n"
     ]
    },
    {
     "data": {
      "text/html": [
       "<div>\n",
       "<style scoped>\n",
       "    .dataframe tbody tr th:only-of-type {\n",
       "        vertical-align: middle;\n",
       "    }\n",
       "\n",
       "    .dataframe tbody tr th {\n",
       "        vertical-align: top;\n",
       "    }\n",
       "\n",
       "    .dataframe thead th {\n",
       "        text-align: right;\n",
       "    }\n",
       "</style>\n",
       "<table border=\"1\" class=\"dataframe\">\n",
       "  <thead>\n",
       "    <tr style=\"text-align: right;\">\n",
       "      <th></th>\n",
       "      <th>user_id</th>\n",
       "      <th>age</th>\n",
       "      <th>churn_date</th>\n",
       "      <th>city</th>\n",
       "      <th>first_name</th>\n",
       "      <th>last_name</th>\n",
       "      <th>reg_date</th>\n",
       "      <th>tariff</th>\n",
       "    </tr>\n",
       "  </thead>\n",
       "  <tbody>\n",
       "    <tr>\n",
       "      <th>0</th>\n",
       "      <td>1000</td>\n",
       "      <td>52</td>\n",
       "      <td>NaN</td>\n",
       "      <td>Краснодар</td>\n",
       "      <td>Рафаил</td>\n",
       "      <td>Верещагин</td>\n",
       "      <td>2018-05-25</td>\n",
       "      <td>ultra</td>\n",
       "    </tr>\n",
       "    <tr>\n",
       "      <th>1</th>\n",
       "      <td>1001</td>\n",
       "      <td>41</td>\n",
       "      <td>NaN</td>\n",
       "      <td>Москва</td>\n",
       "      <td>Иван</td>\n",
       "      <td>Ежов</td>\n",
       "      <td>2018-11-01</td>\n",
       "      <td>smart</td>\n",
       "    </tr>\n",
       "    <tr>\n",
       "      <th>2</th>\n",
       "      <td>1002</td>\n",
       "      <td>59</td>\n",
       "      <td>NaN</td>\n",
       "      <td>Стерлитамак</td>\n",
       "      <td>Евгений</td>\n",
       "      <td>Абрамович</td>\n",
       "      <td>2018-06-17</td>\n",
       "      <td>smart</td>\n",
       "    </tr>\n",
       "    <tr>\n",
       "      <th>3</th>\n",
       "      <td>1003</td>\n",
       "      <td>23</td>\n",
       "      <td>NaN</td>\n",
       "      <td>Москва</td>\n",
       "      <td>Белла</td>\n",
       "      <td>Белякова</td>\n",
       "      <td>2018-08-17</td>\n",
       "      <td>ultra</td>\n",
       "    </tr>\n",
       "    <tr>\n",
       "      <th>4</th>\n",
       "      <td>1004</td>\n",
       "      <td>68</td>\n",
       "      <td>NaN</td>\n",
       "      <td>Новокузнецк</td>\n",
       "      <td>Татьяна</td>\n",
       "      <td>Авдеенко</td>\n",
       "      <td>2018-05-14</td>\n",
       "      <td>ultra</td>\n",
       "    </tr>\n",
       "    <tr>\n",
       "      <th>...</th>\n",
       "      <td>...</td>\n",
       "      <td>...</td>\n",
       "      <td>...</td>\n",
       "      <td>...</td>\n",
       "      <td>...</td>\n",
       "      <td>...</td>\n",
       "      <td>...</td>\n",
       "      <td>...</td>\n",
       "    </tr>\n",
       "    <tr>\n",
       "      <th>495</th>\n",
       "      <td>1495</td>\n",
       "      <td>65</td>\n",
       "      <td>NaN</td>\n",
       "      <td>Иркутск</td>\n",
       "      <td>Авксентий</td>\n",
       "      <td>Фокин</td>\n",
       "      <td>2018-08-28</td>\n",
       "      <td>ultra</td>\n",
       "    </tr>\n",
       "    <tr>\n",
       "      <th>496</th>\n",
       "      <td>1496</td>\n",
       "      <td>36</td>\n",
       "      <td>NaN</td>\n",
       "      <td>Вологда</td>\n",
       "      <td>Трифон</td>\n",
       "      <td>Блохин</td>\n",
       "      <td>2018-01-27</td>\n",
       "      <td>smart</td>\n",
       "    </tr>\n",
       "    <tr>\n",
       "      <th>497</th>\n",
       "      <td>1497</td>\n",
       "      <td>32</td>\n",
       "      <td>NaN</td>\n",
       "      <td>Челябинск</td>\n",
       "      <td>Каролина</td>\n",
       "      <td>Агеева</td>\n",
       "      <td>2018-10-09</td>\n",
       "      <td>smart</td>\n",
       "    </tr>\n",
       "    <tr>\n",
       "      <th>498</th>\n",
       "      <td>1498</td>\n",
       "      <td>68</td>\n",
       "      <td>2018-10-25</td>\n",
       "      <td>Владикавказ</td>\n",
       "      <td>Всеволод</td>\n",
       "      <td>Акимчин</td>\n",
       "      <td>2018-07-19</td>\n",
       "      <td>smart</td>\n",
       "    </tr>\n",
       "    <tr>\n",
       "      <th>499</th>\n",
       "      <td>1499</td>\n",
       "      <td>35</td>\n",
       "      <td>NaN</td>\n",
       "      <td>Пермь</td>\n",
       "      <td>Гектор</td>\n",
       "      <td>Корнилов</td>\n",
       "      <td>2018-09-27</td>\n",
       "      <td>smart</td>\n",
       "    </tr>\n",
       "  </tbody>\n",
       "</table>\n",
       "<p>500 rows × 8 columns</p>\n",
       "</div>"
      ],
      "text/plain": [
       "     user_id  age  churn_date         city first_name  last_name    reg_date  \\\n",
       "0       1000   52         NaN    Краснодар     Рафаил  Верещагин  2018-05-25   \n",
       "1       1001   41         NaN       Москва       Иван       Ежов  2018-11-01   \n",
       "2       1002   59         NaN  Стерлитамак    Евгений  Абрамович  2018-06-17   \n",
       "3       1003   23         NaN       Москва      Белла   Белякова  2018-08-17   \n",
       "4       1004   68         NaN  Новокузнецк    Татьяна   Авдеенко  2018-05-14   \n",
       "..       ...  ...         ...          ...        ...        ...         ...   \n",
       "495     1495   65         NaN      Иркутск  Авксентий      Фокин  2018-08-28   \n",
       "496     1496   36         NaN      Вологда     Трифон     Блохин  2018-01-27   \n",
       "497     1497   32         NaN    Челябинск   Каролина     Агеева  2018-10-09   \n",
       "498     1498   68  2018-10-25  Владикавказ   Всеволод    Акимчин  2018-07-19   \n",
       "499     1499   35         NaN        Пермь     Гектор   Корнилов  2018-09-27   \n",
       "\n",
       "    tariff  \n",
       "0    ultra  \n",
       "1    smart  \n",
       "2    smart  \n",
       "3    ultra  \n",
       "4    ultra  \n",
       "..     ...  \n",
       "495  ultra  \n",
       "496  smart  \n",
       "497  smart  \n",
       "498  smart  \n",
       "499  smart  \n",
       "\n",
       "[500 rows x 8 columns]"
      ]
     },
     "execution_count": 6,
     "metadata": {},
     "output_type": "execute_result"
    }
   ],
   "source": [
    "#Посмотрим датасет с информацией об используемом интернете\n",
    "users.info()\n",
    "users"
   ]
  },
  {
   "cell_type": "markdown",
   "metadata": {},
   "source": [
    "Получили несколько таблиц, необходимо объеденить таблицы в одну по заданию и для удобства. \n",
    "Таблица юзеров имеет пропуски в столбце \"churn_date\", так как churn_date — дата прекращения пользования тарифом (если значение пропущено, то тариф ещё действовал на момент выгрузки данных). Поэтому просто оставим это как есть."
   ]
  },
  {
   "cell_type": "code",
   "execution_count": 7,
   "metadata": {},
   "outputs": [
    {
     "name": "stdout",
     "output_type": "stream",
     "text": [
      "Число дубликатов в calls: 0\n",
      "Число дубликатов в internet: 0\n",
      "Число дубликатов в messages: 0\n",
      "Число дубликатов в tariffs: 0\n"
     ]
    }
   ],
   "source": [
    "#Проверим число дубликатов:\n",
    "print(\"Число дубликатов в calls:\", calls.duplicated().sum())\n",
    "print(\"Число дубликатов в internet:\", internet.duplicated().sum())\n",
    "print(\"Число дубликатов в messages:\", messages.duplicated().sum())\n",
    "print(\"Число дубликатов в tariffs:\", tariffs.duplicated().sum())"
   ]
  },
  {
   "cell_type": "code",
   "execution_count": 8,
   "metadata": {},
   "outputs": [
    {
     "name": "stdout",
     "output_type": "stream",
     "text": [
      "Число строк в датафрейме users: 500\n",
      "Число уникальных пользователей: 500\n",
      "Число дубликатов: 0\n"
     ]
    }
   ],
   "source": [
    "print(\"Число строк в датафрейме users:\", users.shape[0])\n",
    "print(\"Число уникальных пользователей:\", users['user_id'].count())\n",
    "print(\"Число дубликатов:\", users.duplicated().sum())"
   ]
  },
  {
   "cell_type": "code",
   "execution_count": 9,
   "metadata": {},
   "outputs": [
    {
     "name": "stdout",
     "output_type": "stream",
     "text": [
      "Количество звонков с длительностью, равной нулю: 39613\n"
     ]
    }
   ],
   "source": [
    "print('Количество звонков с длительностью, равной нулю:', calls[calls['duration']==0]['duration'].count())"
   ]
  },
  {
   "cell_type": "code",
   "execution_count": 10,
   "metadata": {},
   "outputs": [
    {
     "name": "stdout",
     "output_type": "stream",
     "text": [
      "Кол-во дубликатов = 0\n"
     ]
    }
   ],
   "source": [
    "print('Кол-во дубликатов =', users.loc[:,['age', 'churn_date', 'city', 'first_name', \\\n",
    "                                          'last_name', 'reg_date', 'tariff']].duplicated().sum())"
   ]
  },
  {
   "cell_type": "markdown",
   "metadata": {},
   "source": [
    "## Шаг 2. Подготовьте данные"
   ]
  },
  {
   "cell_type": "markdown",
   "metadata": {},
   "source": [
    "**Приведите данные к нужным типам;\n",
    "Найдите и исправьте ошибки в данных, если они есть.**\n"
   ]
  },
  {
   "cell_type": "code",
   "execution_count": 11,
   "metadata": {},
   "outputs": [],
   "source": [
    "#Приводим данные к нужным типам\n",
    "calls['call_date'] = pd.to_datetime(calls['call_date'], format='%Y-%m-%d')\n",
    "internet['session_date'] = pd.to_datetime(internet['session_date'], format='%Y-%m-%d')\n",
    "messages['message_date'] = pd.to_datetime(messages['message_date'], format='%Y-%m-%d')\n",
    "users['churn_date'] = pd.to_datetime(users['churn_date'], format='%Y-%m-%d')\n",
    "users['reg_date'] = pd.to_datetime(users['reg_date'], format='%Y-%m-%d')"
   ]
  },
  {
   "cell_type": "code",
   "execution_count": 12,
   "metadata": {},
   "outputs": [
    {
     "data": {
      "text/plain": [
       "<AxesSubplot:ylabel='Frequency'>"
      ]
     },
     "execution_count": 12,
     "metadata": {},
     "output_type": "execute_result"
    },
    {
     "data": {
      "image/png": "[encoded data removed]",
      "text/plain": [
       "<Figure size 432x288 with 1 Axes>"
      ]
     },
     "metadata": {
      "needs_background": "light"
     },
     "output_type": "display_data"
    }
   ],
   "source": [
    "#Рассмотрим подробнее таблицу calls\n",
    "#Посмотрим на гистограмму распределения длительности звонков:\n",
    "calls['duration'].plot(kind='hist', bins=50)"
   ]
  },
  {
   "cell_type": "code",
   "execution_count": 13,
   "metadata": {},
   "outputs": [
    {
     "data": {
      "text/html": [
       "<div>\n",
       "<style scoped>\n",
       "    .dataframe tbody tr th:only-of-type {\n",
       "        vertical-align: middle;\n",
       "    }\n",
       "\n",
       "    .dataframe tbody tr th {\n",
       "        vertical-align: top;\n",
       "    }\n",
       "\n",
       "    .dataframe thead th {\n",
       "        text-align: right;\n",
       "    }\n",
       "</style>\n",
       "<table border=\"1\" class=\"dataframe\">\n",
       "  <thead>\n",
       "    <tr style=\"text-align: right;\">\n",
       "      <th></th>\n",
       "      <th>id</th>\n",
       "      <th>call_date</th>\n",
       "      <th>duration</th>\n",
       "      <th>user_id</th>\n",
       "    </tr>\n",
       "  </thead>\n",
       "  <tbody>\n",
       "    <tr>\n",
       "      <th>55</th>\n",
       "      <td>1000_55</td>\n",
       "      <td>2018-09-19</td>\n",
       "      <td>0.31</td>\n",
       "      <td>1000</td>\n",
       "    </tr>\n",
       "    <tr>\n",
       "      <th>65</th>\n",
       "      <td>1000_65</td>\n",
       "      <td>2018-10-28</td>\n",
       "      <td>0.34</td>\n",
       "      <td>1000</td>\n",
       "    </tr>\n",
       "    <tr>\n",
       "      <th>97</th>\n",
       "      <td>1000_97</td>\n",
       "      <td>2018-10-26</td>\n",
       "      <td>0.33</td>\n",
       "      <td>1000</td>\n",
       "    </tr>\n",
       "    <tr>\n",
       "      <th>122</th>\n",
       "      <td>1000_122</td>\n",
       "      <td>2018-10-07</td>\n",
       "      <td>0.13</td>\n",
       "      <td>1000</td>\n",
       "    </tr>\n",
       "    <tr>\n",
       "      <th>135</th>\n",
       "      <td>1000_135</td>\n",
       "      <td>2018-10-25</td>\n",
       "      <td>0.02</td>\n",
       "      <td>1000</td>\n",
       "    </tr>\n",
       "    <tr>\n",
       "      <th>...</th>\n",
       "      <td>...</td>\n",
       "      <td>...</td>\n",
       "      <td>...</td>\n",
       "      <td>...</td>\n",
       "    </tr>\n",
       "    <tr>\n",
       "      <th>202318</th>\n",
       "      <td>1498_111</td>\n",
       "      <td>2018-10-17</td>\n",
       "      <td>0.46</td>\n",
       "      <td>1498</td>\n",
       "    </tr>\n",
       "    <tr>\n",
       "      <th>202322</th>\n",
       "      <td>1498_115</td>\n",
       "      <td>2018-10-02</td>\n",
       "      <td>0.49</td>\n",
       "      <td>1498</td>\n",
       "    </tr>\n",
       "    <tr>\n",
       "      <th>202438</th>\n",
       "      <td>1499_51</td>\n",
       "      <td>2018-10-08</td>\n",
       "      <td>0.47</td>\n",
       "      <td>1499</td>\n",
       "    </tr>\n",
       "    <tr>\n",
       "      <th>202452</th>\n",
       "      <td>1499_65</td>\n",
       "      <td>2018-11-30</td>\n",
       "      <td>0.20</td>\n",
       "      <td>1499</td>\n",
       "    </tr>\n",
       "    <tr>\n",
       "      <th>202484</th>\n",
       "      <td>1499_97</td>\n",
       "      <td>2018-12-22</td>\n",
       "      <td>0.07</td>\n",
       "      <td>1499</td>\n",
       "    </tr>\n",
       "  </tbody>\n",
       "</table>\n",
       "<p>4074 rows × 4 columns</p>\n",
       "</div>"
      ],
      "text/plain": [
       "              id  call_date  duration  user_id\n",
       "55       1000_55 2018-09-19      0.31     1000\n",
       "65       1000_65 2018-10-28      0.34     1000\n",
       "97       1000_97 2018-10-26      0.33     1000\n",
       "122     1000_122 2018-10-07      0.13     1000\n",
       "135     1000_135 2018-10-25      0.02     1000\n",
       "...          ...        ...       ...      ...\n",
       "202318  1498_111 2018-10-17      0.46     1498\n",
       "202322  1498_115 2018-10-02      0.49     1498\n",
       "202438   1499_51 2018-10-08      0.47     1499\n",
       "202452   1499_65 2018-11-30      0.20     1499\n",
       "202484   1499_97 2018-12-22      0.07     1499\n",
       "\n",
       "[4074 rows x 4 columns]"
      ]
     },
     "execution_count": 13,
     "metadata": {},
     "output_type": "execute_result"
    }
   ],
   "source": [
    "#Можем быть, все звонки длительностью до 1 минуты, имеют длительность \"0\"?\n",
    "calls.query('0 < duration < 0.5')"
   ]
  },
  {
   "cell_type": "code",
   "execution_count": 14,
   "metadata": {},
   "outputs": [
    {
     "data": {
      "text/html": [
       "<div>\n",
       "<style scoped>\n",
       "    .dataframe tbody tr th:only-of-type {\n",
       "        vertical-align: middle;\n",
       "    }\n",
       "\n",
       "    .dataframe tbody tr th {\n",
       "        vertical-align: top;\n",
       "    }\n",
       "\n",
       "    .dataframe thead th {\n",
       "        text-align: right;\n",
       "    }\n",
       "</style>\n",
       "<table border=\"1\" class=\"dataframe\">\n",
       "  <thead>\n",
       "    <tr style=\"text-align: right;\">\n",
       "      <th></th>\n",
       "      <th>id</th>\n",
       "      <th>call_date</th>\n",
       "      <th>duration</th>\n",
       "      <th>user_id</th>\n",
       "    </tr>\n",
       "  </thead>\n",
       "  <tbody>\n",
       "    <tr>\n",
       "      <th>0</th>\n",
       "      <td>1000_0</td>\n",
       "      <td>2018-07-25</td>\n",
       "      <td>0.0</td>\n",
       "      <td>1000</td>\n",
       "    </tr>\n",
       "    <tr>\n",
       "      <th>1</th>\n",
       "      <td>1000_1</td>\n",
       "      <td>2018-08-17</td>\n",
       "      <td>0.0</td>\n",
       "      <td>1000</td>\n",
       "    </tr>\n",
       "    <tr>\n",
       "      <th>2</th>\n",
       "      <td>1000_2</td>\n",
       "      <td>2018-06-11</td>\n",
       "      <td>3.0</td>\n",
       "      <td>1000</td>\n",
       "    </tr>\n",
       "    <tr>\n",
       "      <th>3</th>\n",
       "      <td>1000_3</td>\n",
       "      <td>2018-09-21</td>\n",
       "      <td>14.0</td>\n",
       "      <td>1000</td>\n",
       "    </tr>\n",
       "    <tr>\n",
       "      <th>4</th>\n",
       "      <td>1000_4</td>\n",
       "      <td>2018-12-15</td>\n",
       "      <td>6.0</td>\n",
       "      <td>1000</td>\n",
       "    </tr>\n",
       "  </tbody>\n",
       "</table>\n",
       "</div>"
      ],
      "text/plain": [
       "       id  call_date  duration  user_id\n",
       "0  1000_0 2018-07-25       0.0     1000\n",
       "1  1000_1 2018-08-17       0.0     1000\n",
       "2  1000_2 2018-06-11       3.0     1000\n",
       "3  1000_3 2018-09-21      14.0     1000\n",
       "4  1000_4 2018-12-15       6.0     1000"
      ]
     },
     "execution_count": 14,
     "metadata": {},
     "output_type": "execute_result"
    }
   ],
   "source": [
    "#Есть звонки и околонулевой длительности.\n",
    "#«Мегалайн» всегда округляет вверх значения минут и мегабайтов. Если пользователь проговорил всего 1 секунду, в тарифе засчитывается целая минута.\n",
    "#Округляем в большую сторону до минуты все звонки при помощи np.ceil:\n",
    "calls['duration'] = np.ceil(calls['duration'])\n",
    "calls.head()"
   ]
  },
  {
   "cell_type": "code",
   "execution_count": 15,
   "metadata": {},
   "outputs": [
    {
     "data": {
      "text/plain": [
       "<AxesSubplot:ylabel='Frequency'>"
      ]
     },
     "execution_count": 15,
     "metadata": {},
     "output_type": "execute_result"
    },
    {
     "data": {
      "image/png": "[encoded data removed]",
      "text/plain": [
       "<Figure size 432x288 with 1 Axes>"
      ]
     },
     "metadata": {
      "needs_background": "light"
     },
     "output_type": "display_data"
    }
   ],
   "source": [
    "#Повторно посмотрим на гистограмму распределения длительности звонков:\n",
    "calls['duration'].plot(kind='hist', bins=50)"
   ]
  },
  {
   "cell_type": "code",
   "execution_count": 16,
   "metadata": {},
   "outputs": [
    {
     "data": {
      "text/html": [
       "<div>\n",
       "<style scoped>\n",
       "    .dataframe tbody tr th:only-of-type {\n",
       "        vertical-align: middle;\n",
       "    }\n",
       "\n",
       "    .dataframe tbody tr th {\n",
       "        vertical-align: top;\n",
       "    }\n",
       "\n",
       "    .dataframe thead th {\n",
       "        text-align: right;\n",
       "    }\n",
       "</style>\n",
       "<table border=\"1\" class=\"dataframe\">\n",
       "  <thead>\n",
       "    <tr style=\"text-align: right;\">\n",
       "      <th></th>\n",
       "      <th>id</th>\n",
       "      <th>call_date</th>\n",
       "      <th>duration</th>\n",
       "      <th>user_id</th>\n",
       "    </tr>\n",
       "  </thead>\n",
       "  <tbody>\n",
       "    <tr>\n",
       "      <th>0</th>\n",
       "      <td>1000_0</td>\n",
       "      <td>2018-07-25</td>\n",
       "      <td>0.0</td>\n",
       "      <td>1000</td>\n",
       "    </tr>\n",
       "    <tr>\n",
       "      <th>1</th>\n",
       "      <td>1000_1</td>\n",
       "      <td>2018-08-17</td>\n",
       "      <td>0.0</td>\n",
       "      <td>1000</td>\n",
       "    </tr>\n",
       "    <tr>\n",
       "      <th>5</th>\n",
       "      <td>1000_5</td>\n",
       "      <td>2018-11-02</td>\n",
       "      <td>0.0</td>\n",
       "      <td>1000</td>\n",
       "    </tr>\n",
       "    <tr>\n",
       "      <th>6</th>\n",
       "      <td>1000_6</td>\n",
       "      <td>2018-10-18</td>\n",
       "      <td>0.0</td>\n",
       "      <td>1000</td>\n",
       "    </tr>\n",
       "    <tr>\n",
       "      <th>9</th>\n",
       "      <td>1000_9</td>\n",
       "      <td>2018-08-15</td>\n",
       "      <td>0.0</td>\n",
       "      <td>1000</td>\n",
       "    </tr>\n",
       "    <tr>\n",
       "      <th>...</th>\n",
       "      <td>...</td>\n",
       "      <td>...</td>\n",
       "      <td>...</td>\n",
       "      <td>...</td>\n",
       "    </tr>\n",
       "    <tr>\n",
       "      <th>202590</th>\n",
       "      <td>1499_203</td>\n",
       "      <td>2018-12-03</td>\n",
       "      <td>0.0</td>\n",
       "      <td>1499</td>\n",
       "    </tr>\n",
       "    <tr>\n",
       "      <th>202592</th>\n",
       "      <td>1499_205</td>\n",
       "      <td>2018-10-13</td>\n",
       "      <td>0.0</td>\n",
       "      <td>1499</td>\n",
       "    </tr>\n",
       "    <tr>\n",
       "      <th>202593</th>\n",
       "      <td>1499_206</td>\n",
       "      <td>2018-12-26</td>\n",
       "      <td>0.0</td>\n",
       "      <td>1499</td>\n",
       "    </tr>\n",
       "    <tr>\n",
       "      <th>202594</th>\n",
       "      <td>1499_207</td>\n",
       "      <td>2018-10-28</td>\n",
       "      <td>0.0</td>\n",
       "      <td>1499</td>\n",
       "    </tr>\n",
       "    <tr>\n",
       "      <th>202596</th>\n",
       "      <td>1499_209</td>\n",
       "      <td>2018-12-16</td>\n",
       "      <td>0.0</td>\n",
       "      <td>1499</td>\n",
       "    </tr>\n",
       "  </tbody>\n",
       "</table>\n",
       "<p>39613 rows × 4 columns</p>\n",
       "</div>"
      ],
      "text/plain": [
       "              id  call_date  duration  user_id\n",
       "0         1000_0 2018-07-25       0.0     1000\n",
       "1         1000_1 2018-08-17       0.0     1000\n",
       "5         1000_5 2018-11-02       0.0     1000\n",
       "6         1000_6 2018-10-18       0.0     1000\n",
       "9         1000_9 2018-08-15       0.0     1000\n",
       "...          ...        ...       ...      ...\n",
       "202590  1499_203 2018-12-03       0.0     1499\n",
       "202592  1499_205 2018-10-13       0.0     1499\n",
       "202593  1499_206 2018-12-26       0.0     1499\n",
       "202594  1499_207 2018-10-28       0.0     1499\n",
       "202596  1499_209 2018-12-16       0.0     1499\n",
       "\n",
       "[39613 rows x 4 columns]"
      ]
     },
     "execution_count": 16,
     "metadata": {},
     "output_type": "execute_result"
    }
   ],
   "source": [
    "#Посмотрим на \"нулевые\" звонки:\n",
    "calls.query('duration == 0.0')"
   ]
  },
  {
   "cell_type": "code",
   "execution_count": 17,
   "metadata": {},
   "outputs": [
    {
     "data": {
      "text/plain": [
       "smart    130315\n",
       "ultra     72292\n",
       "Name: Тариф, dtype: int64"
      ]
     },
     "execution_count": 17,
     "metadata": {},
     "output_type": "execute_result"
    }
   ],
   "source": [
    "#Проверим, к одному ли тарифу они относятся. Может быть, на каком-то тарифе так некорректно округлились данные, которые должны были округлиться в большую сторону (до 1 минуты):\n",
    "map_to_fill_tariff = dict(pd.Series(users['tariff'].values, index=users['user_id']))\n",
    "calls['Тариф'] = calls['user_id'].map(map_to_fill_tariff)\n",
    "calls['Тариф'].value_counts()"
   ]
  },
  {
   "cell_type": "markdown",
   "metadata": {},
   "source": [
    "по каждому из тарифов есть нулевые звонки. Предполагаю, что это несостоявшиеся звонки. Нулевая их длительность вызвана прерыванием связи или случаями, когда у другого абонента было \"занято\" и поэтому происходил моментальный сброс вызова. "
   ]
  },
  {
   "cell_type": "code",
   "execution_count": 18,
   "metadata": {},
   "outputs": [],
   "source": [
    "#тк они не расходуют лимиты минут и вообще не принимают участия в формировании конечной выручки, может стоит вовсе удалить эти строки?\n",
    "calls['duration'] = calls['duration'].replace(0, np.NaN)\n",
    "calls = calls.dropna()"
   ]
  },
  {
   "cell_type": "code",
   "execution_count": 19,
   "metadata": {},
   "outputs": [
    {
     "data": {
      "text/plain": [
       "<AxesSubplot:ylabel='Frequency'>"
      ]
     },
     "execution_count": 19,
     "metadata": {},
     "output_type": "execute_result"
    },
    {
     "data": {
      "image/png": "[encoded data removed]",
      "text/plain": [
       "<Figure size 432x288 with 1 Axes>"
      ]
     },
     "metadata": {
      "needs_background": "light"
     },
     "output_type": "display_data"
    }
   ],
   "source": [
    "calls['duration'].plot(kind='hist', bins=50)"
   ]
  },
  {
   "cell_type": "code",
   "execution_count": 20,
   "metadata": {},
   "outputs": [
    {
     "data": {
      "text/html": [
       "<div>\n",
       "<style scoped>\n",
       "    .dataframe tbody tr th:only-of-type {\n",
       "        vertical-align: middle;\n",
       "    }\n",
       "\n",
       "    .dataframe tbody tr th {\n",
       "        vertical-align: top;\n",
       "    }\n",
       "\n",
       "    .dataframe thead th {\n",
       "        text-align: right;\n",
       "    }\n",
       "</style>\n",
       "<table border=\"1\" class=\"dataframe\">\n",
       "  <thead>\n",
       "    <tr style=\"text-align: right;\">\n",
       "      <th></th>\n",
       "      <th>id</th>\n",
       "      <th>mb_used</th>\n",
       "      <th>session_date</th>\n",
       "      <th>user_id</th>\n",
       "    </tr>\n",
       "  </thead>\n",
       "  <tbody>\n",
       "    <tr>\n",
       "      <th>0</th>\n",
       "      <td>1000_0</td>\n",
       "      <td>112.95</td>\n",
       "      <td>2018-11-25</td>\n",
       "      <td>1000</td>\n",
       "    </tr>\n",
       "    <tr>\n",
       "      <th>1</th>\n",
       "      <td>1000_1</td>\n",
       "      <td>1052.81</td>\n",
       "      <td>2018-09-07</td>\n",
       "      <td>1000</td>\n",
       "    </tr>\n",
       "    <tr>\n",
       "      <th>2</th>\n",
       "      <td>1000_2</td>\n",
       "      <td>1197.26</td>\n",
       "      <td>2018-06-25</td>\n",
       "      <td>1000</td>\n",
       "    </tr>\n",
       "    <tr>\n",
       "      <th>3</th>\n",
       "      <td>1000_3</td>\n",
       "      <td>550.27</td>\n",
       "      <td>2018-08-22</td>\n",
       "      <td>1000</td>\n",
       "    </tr>\n",
       "    <tr>\n",
       "      <th>4</th>\n",
       "      <td>1000_4</td>\n",
       "      <td>302.56</td>\n",
       "      <td>2018-09-24</td>\n",
       "      <td>1000</td>\n",
       "    </tr>\n",
       "  </tbody>\n",
       "</table>\n",
       "</div>"
      ],
      "text/plain": [
       "       id  mb_used session_date  user_id\n",
       "0  1000_0   112.95   2018-11-25     1000\n",
       "1  1000_1  1052.81   2018-09-07     1000\n",
       "2  1000_2  1197.26   2018-06-25     1000\n",
       "3  1000_3   550.27   2018-08-22     1000\n",
       "4  1000_4   302.56   2018-09-24     1000"
      ]
     },
     "execution_count": 20,
     "metadata": {},
     "output_type": "execute_result"
    }
   ],
   "source": [
    "#Рассмотрим подробнее таблицу internet\n",
    "internet.head()"
   ]
  },
  {
   "cell_type": "code",
   "execution_count": 21,
   "metadata": {
    "scrolled": true
   },
   "outputs": [],
   "source": [
    "#«Мегалайн» всегда округляет вверх значения минут и мегабайт. Если пользователь проговорил всего 1 секунду, в тарифе засчитывается целая минута.\n",
    "#Округляем в большую сторону до мегабайта весь трафик по каждой сессии при помощи np.ceil:\n",
    "#internet['mb_used'] = np.ceil(internet['mb_used'])\n",
    "#internet.head()"
   ]
  },
  {
   "cell_type": "code",
   "execution_count": 22,
   "metadata": {},
   "outputs": [
    {
     "data": {
      "text/plain": [
       "<AxesSubplot:ylabel='Frequency'>"
      ]
     },
     "execution_count": 22,
     "metadata": {},
     "output_type": "execute_result"
    },
    {
     "data": {
      "image/png": "[encoded data removed]",
      "text/plain": [
       "<Figure size 432x288 with 1 Axes>"
      ]
     },
     "metadata": {
      "needs_background": "light"
     },
     "output_type": "display_data"
    }
   ],
   "source": [
    "#Посмотрим на гистограмму распределения использования интернет-трафика в сессиях:\n",
    "internet['mb_used'].plot(kind='hist', bins=50)"
   ]
  },
  {
   "cell_type": "code",
   "execution_count": 23,
   "metadata": {},
   "outputs": [
    {
     "data": {
      "text/html": [
       "<div>\n",
       "<style scoped>\n",
       "    .dataframe tbody tr th:only-of-type {\n",
       "        vertical-align: middle;\n",
       "    }\n",
       "\n",
       "    .dataframe tbody tr th {\n",
       "        vertical-align: top;\n",
       "    }\n",
       "\n",
       "    .dataframe thead th {\n",
       "        text-align: right;\n",
       "    }\n",
       "</style>\n",
       "<table border=\"1\" class=\"dataframe\">\n",
       "  <thead>\n",
       "    <tr style=\"text-align: right;\">\n",
       "      <th></th>\n",
       "      <th>id</th>\n",
       "      <th>mb_used</th>\n",
       "      <th>session_date</th>\n",
       "      <th>user_id</th>\n",
       "    </tr>\n",
       "  </thead>\n",
       "  <tbody>\n",
       "    <tr>\n",
       "      <th>11</th>\n",
       "      <td>1000_11</td>\n",
       "      <td>0.0</td>\n",
       "      <td>2018-08-28</td>\n",
       "      <td>1000</td>\n",
       "    </tr>\n",
       "    <tr>\n",
       "      <th>38</th>\n",
       "      <td>1000_38</td>\n",
       "      <td>0.0</td>\n",
       "      <td>2018-11-27</td>\n",
       "      <td>1000</td>\n",
       "    </tr>\n",
       "    <tr>\n",
       "      <th>46</th>\n",
       "      <td>1000_46</td>\n",
       "      <td>0.0</td>\n",
       "      <td>2018-06-30</td>\n",
       "      <td>1000</td>\n",
       "    </tr>\n",
       "    <tr>\n",
       "      <th>67</th>\n",
       "      <td>1000_67</td>\n",
       "      <td>0.0</td>\n",
       "      <td>2018-06-16</td>\n",
       "      <td>1000</td>\n",
       "    </tr>\n",
       "    <tr>\n",
       "      <th>72</th>\n",
       "      <td>1000_72</td>\n",
       "      <td>0.0</td>\n",
       "      <td>2018-06-15</td>\n",
       "      <td>1000</td>\n",
       "    </tr>\n",
       "    <tr>\n",
       "      <th>...</th>\n",
       "      <td>...</td>\n",
       "      <td>...</td>\n",
       "      <td>...</td>\n",
       "      <td>...</td>\n",
       "    </tr>\n",
       "    <tr>\n",
       "      <th>149380</th>\n",
       "      <td>1499_141</td>\n",
       "      <td>0.0</td>\n",
       "      <td>2018-12-11</td>\n",
       "      <td>1499</td>\n",
       "    </tr>\n",
       "    <tr>\n",
       "      <th>149381</th>\n",
       "      <td>1499_142</td>\n",
       "      <td>0.0</td>\n",
       "      <td>2018-11-01</td>\n",
       "      <td>1499</td>\n",
       "    </tr>\n",
       "    <tr>\n",
       "      <th>149383</th>\n",
       "      <td>1499_144</td>\n",
       "      <td>0.0</td>\n",
       "      <td>2018-11-27</td>\n",
       "      <td>1499</td>\n",
       "    </tr>\n",
       "    <tr>\n",
       "      <th>149386</th>\n",
       "      <td>1499_147</td>\n",
       "      <td>0.0</td>\n",
       "      <td>2018-10-21</td>\n",
       "      <td>1499</td>\n",
       "    </tr>\n",
       "    <tr>\n",
       "      <th>149393</th>\n",
       "      <td>1499_154</td>\n",
       "      <td>0.0</td>\n",
       "      <td>2018-10-27</td>\n",
       "      <td>1499</td>\n",
       "    </tr>\n",
       "  </tbody>\n",
       "</table>\n",
       "<p>19598 rows × 4 columns</p>\n",
       "</div>"
      ],
      "text/plain": [
       "              id  mb_used session_date  user_id\n",
       "11       1000_11      0.0   2018-08-28     1000\n",
       "38       1000_38      0.0   2018-11-27     1000\n",
       "46       1000_46      0.0   2018-06-30     1000\n",
       "67       1000_67      0.0   2018-06-16     1000\n",
       "72       1000_72      0.0   2018-06-15     1000\n",
       "...          ...      ...          ...      ...\n",
       "149380  1499_141      0.0   2018-12-11     1499\n",
       "149381  1499_142      0.0   2018-11-01     1499\n",
       "149383  1499_144      0.0   2018-11-27     1499\n",
       "149386  1499_147      0.0   2018-10-21     1499\n",
       "149393  1499_154      0.0   2018-10-27     1499\n",
       "\n",
       "[19598 rows x 4 columns]"
      ]
     },
     "execution_count": 23,
     "metadata": {},
     "output_type": "execute_result"
    }
   ],
   "source": [
    "#Посмотрим на строки с нулевым трафиком:\n",
    "internet.query('mb_used == 0')"
   ]
  },
  {
   "cell_type": "code",
   "execution_count": 24,
   "metadata": {},
   "outputs": [],
   "source": [
    "#Это сессии, когда подключение к интернету было включено, но в дальнейшем ни одной операции произведено не было \n",
    "#(например, случаи, когда появляется и сразу пропадает связь).\n",
    "#Эти строки можно тоже исключить из датафрейма:\n",
    "internet['mb_used'] = internet['mb_used'].replace(0, np.NaN)\n",
    "internet = internet.dropna()"
   ]
  },
  {
   "cell_type": "code",
   "execution_count": 25,
   "metadata": {},
   "outputs": [
    {
     "data": {
      "text/plain": [
       "<AxesSubplot:ylabel='Frequency'>"
      ]
     },
     "execution_count": 25,
     "metadata": {},
     "output_type": "execute_result"
    },
    {
     "data": {
      "image/png": "[encoded data removed]",
      "text/plain": [
       "<Figure size 432x288 with 1 Axes>"
      ]
     },
     "metadata": {
      "needs_background": "light"
     },
     "output_type": "display_data"
    }
   ],
   "source": [
    "internet['mb_used'].plot(kind='hist', bins=50)"
   ]
  },
  {
   "cell_type": "code",
   "execution_count": 26,
   "metadata": {},
   "outputs": [
    {
     "name": "stderr",
     "output_type": "stream",
     "text": [
      "/tmp/ipykernel_189/954118506.py:2: SettingWithCopyWarning: \n",
      "A value is trying to be set on a copy of a slice from a DataFrame.\n",
      "Try using .loc[row_indexer,col_indexer] = value instead\n",
      "\n",
      "See the caveats in the documentation: https://pandas.pydata.org/pandas-docs/stable/user_guide/indexing.html#returning-a-view-versus-a-copy\n",
      "  calls['month'] = pd.DatetimeIndex(calls['call_date']).month\n",
      "/tmp/ipykernel_189/954118506.py:4: SettingWithCopyWarning: \n",
      "A value is trying to be set on a copy of a slice from a DataFrame.\n",
      "Try using .loc[row_indexer,col_indexer] = value instead\n",
      "\n",
      "See the caveats in the documentation: https://pandas.pydata.org/pandas-docs/stable/user_guide/indexing.html#returning-a-view-versus-a-copy\n",
      "  internet['month'] = pd.DatetimeIndex(internet['session_date']).month\n"
     ]
    },
    {
     "data": {
      "text/html": [
       "<div>\n",
       "<style scoped>\n",
       "    .dataframe tbody tr th:only-of-type {\n",
       "        vertical-align: middle;\n",
       "    }\n",
       "\n",
       "    .dataframe tbody tr th {\n",
       "        vertical-align: top;\n",
       "    }\n",
       "\n",
       "    .dataframe thead th {\n",
       "        text-align: right;\n",
       "    }\n",
       "</style>\n",
       "<table border=\"1\" class=\"dataframe\">\n",
       "  <thead>\n",
       "    <tr style=\"text-align: right;\">\n",
       "      <th></th>\n",
       "      <th>id</th>\n",
       "      <th>call_date</th>\n",
       "      <th>duration</th>\n",
       "      <th>user_id</th>\n",
       "      <th>Тариф</th>\n",
       "      <th>month</th>\n",
       "    </tr>\n",
       "  </thead>\n",
       "  <tbody>\n",
       "    <tr>\n",
       "      <th>28288</th>\n",
       "      <td>1070_163</td>\n",
       "      <td>2018-10-22</td>\n",
       "      <td>3.0</td>\n",
       "      <td>1070</td>\n",
       "      <td>smart</td>\n",
       "      <td>10</td>\n",
       "    </tr>\n",
       "    <tr>\n",
       "      <th>172888</th>\n",
       "      <td>1427_252</td>\n",
       "      <td>2018-07-21</td>\n",
       "      <td>1.0</td>\n",
       "      <td>1427</td>\n",
       "      <td>smart</td>\n",
       "      <td>7</td>\n",
       "    </tr>\n",
       "    <tr>\n",
       "      <th>55289</th>\n",
       "      <td>1140_44</td>\n",
       "      <td>2018-12-31</td>\n",
       "      <td>4.0</td>\n",
       "      <td>1140</td>\n",
       "      <td>smart</td>\n",
       "      <td>12</td>\n",
       "    </tr>\n",
       "  </tbody>\n",
       "</table>\n",
       "</div>"
      ],
      "text/plain": [
       "              id  call_date  duration  user_id  Тариф  month\n",
       "28288   1070_163 2018-10-22       3.0     1070  smart     10\n",
       "172888  1427_252 2018-07-21       1.0     1427  smart      7\n",
       "55289    1140_44 2018-12-31       4.0     1140  smart     12"
      ]
     },
     "metadata": {},
     "output_type": "display_data"
    },
    {
     "data": {
      "text/html": [
       "<div>\n",
       "<style scoped>\n",
       "    .dataframe tbody tr th:only-of-type {\n",
       "        vertical-align: middle;\n",
       "    }\n",
       "\n",
       "    .dataframe tbody tr th {\n",
       "        vertical-align: top;\n",
       "    }\n",
       "\n",
       "    .dataframe thead th {\n",
       "        text-align: right;\n",
       "    }\n",
       "</style>\n",
       "<table border=\"1\" class=\"dataframe\">\n",
       "  <thead>\n",
       "    <tr style=\"text-align: right;\">\n",
       "      <th></th>\n",
       "      <th>id</th>\n",
       "      <th>message_date</th>\n",
       "      <th>user_id</th>\n",
       "      <th>month</th>\n",
       "    </tr>\n",
       "  </thead>\n",
       "  <tbody>\n",
       "    <tr>\n",
       "      <th>37165</th>\n",
       "      <td>1161_57</td>\n",
       "      <td>2018-08-10</td>\n",
       "      <td>1161</td>\n",
       "      <td>8</td>\n",
       "    </tr>\n",
       "    <tr>\n",
       "      <th>96229</th>\n",
       "      <td>1395_216</td>\n",
       "      <td>2018-03-29</td>\n",
       "      <td>1395</td>\n",
       "      <td>3</td>\n",
       "    </tr>\n",
       "    <tr>\n",
       "      <th>118666</th>\n",
       "      <td>1482_228</td>\n",
       "      <td>2018-06-07</td>\n",
       "      <td>1482</td>\n",
       "      <td>6</td>\n",
       "    </tr>\n",
       "  </tbody>\n",
       "</table>\n",
       "</div>"
      ],
      "text/plain": [
       "              id message_date  user_id  month\n",
       "37165    1161_57   2018-08-10     1161      8\n",
       "96229   1395_216   2018-03-29     1395      3\n",
       "118666  1482_228   2018-06-07     1482      6"
      ]
     },
     "metadata": {},
     "output_type": "display_data"
    },
    {
     "data": {
      "text/html": [
       "<div>\n",
       "<style scoped>\n",
       "    .dataframe tbody tr th:only-of-type {\n",
       "        vertical-align: middle;\n",
       "    }\n",
       "\n",
       "    .dataframe tbody tr th {\n",
       "        vertical-align: top;\n",
       "    }\n",
       "\n",
       "    .dataframe thead th {\n",
       "        text-align: right;\n",
       "    }\n",
       "</style>\n",
       "<table border=\"1\" class=\"dataframe\">\n",
       "  <thead>\n",
       "    <tr style=\"text-align: right;\">\n",
       "      <th></th>\n",
       "      <th>id</th>\n",
       "      <th>mb_used</th>\n",
       "      <th>session_date</th>\n",
       "      <th>user_id</th>\n",
       "      <th>month</th>\n",
       "    </tr>\n",
       "  </thead>\n",
       "  <tbody>\n",
       "    <tr>\n",
       "      <th>45585</th>\n",
       "      <td>1157_97</td>\n",
       "      <td>550.68</td>\n",
       "      <td>2018-08-19</td>\n",
       "      <td>1157</td>\n",
       "      <td>8</td>\n",
       "    </tr>\n",
       "    <tr>\n",
       "      <th>38723</th>\n",
       "      <td>1135_203</td>\n",
       "      <td>220.02</td>\n",
       "      <td>2018-11-28</td>\n",
       "      <td>1135</td>\n",
       "      <td>11</td>\n",
       "    </tr>\n",
       "    <tr>\n",
       "      <th>148265</th>\n",
       "      <td>1496_213</td>\n",
       "      <td>771.57</td>\n",
       "      <td>2018-08-22</td>\n",
       "      <td>1496</td>\n",
       "      <td>8</td>\n",
       "    </tr>\n",
       "  </tbody>\n",
       "</table>\n",
       "</div>"
      ],
      "text/plain": [
       "              id  mb_used session_date  user_id  month\n",
       "45585    1157_97   550.68   2018-08-19     1157      8\n",
       "38723   1135_203   220.02   2018-11-28     1135     11\n",
       "148265  1496_213   771.57   2018-08-22     1496      8"
      ]
     },
     "metadata": {},
     "output_type": "display_data"
    }
   ],
   "source": [
    "# добавим столбцы со значением месяца\n",
    "calls['month'] = pd.DatetimeIndex(calls['call_date']).month\n",
    "messages['month'] = pd.DatetimeIndex(messages['message_date']).month\n",
    "internet['month'] = pd.DatetimeIndex(internet['session_date']).month\n",
    "display(calls.sample(3), messages.sample(3), internet.sample(3))"
   ]
  },
  {
   "cell_type": "markdown",
   "metadata": {},
   "source": [
    "### Необходимо посчитать следующие данные:\n",
    "Посчитайте для каждого пользователя:\n",
    "- количество сделанных звонков и израсходованных минут разговора по месяцам;\n",
    "- количество отправленных сообщений по месяцам;\n",
    "- объем израсходованного интернет-трафика по месяцам;\n",
    "- помесячную выручку с каждого пользователя (вычтите бесплатный лимит из суммарного количества звонков, сообщений и интернет-трафика; остаток умножьте на значение из тарифного плана; прибавьте абонентскую плату, соответствующую тарифному плану).\n"
   ]
  },
  {
   "cell_type": "code",
   "execution_count": 27,
   "metadata": {},
   "outputs": [
    {
     "data": {
      "text/html": [
       "<div>\n",
       "<style scoped>\n",
       "    .dataframe tbody tr th:only-of-type {\n",
       "        vertical-align: middle;\n",
       "    }\n",
       "\n",
       "    .dataframe tbody tr th {\n",
       "        vertical-align: top;\n",
       "    }\n",
       "\n",
       "    .dataframe thead th {\n",
       "        text-align: right;\n",
       "    }\n",
       "</style>\n",
       "<table border=\"1\" class=\"dataframe\">\n",
       "  <thead>\n",
       "    <tr style=\"text-align: right;\">\n",
       "      <th></th>\n",
       "      <th>user_id</th>\n",
       "      <th>month</th>\n",
       "      <th>calls</th>\n",
       "      <th>minutes</th>\n",
       "    </tr>\n",
       "  </thead>\n",
       "  <tbody>\n",
       "    <tr>\n",
       "      <th>0</th>\n",
       "      <td>1000</td>\n",
       "      <td>5</td>\n",
       "      <td>17</td>\n",
       "      <td>159.0</td>\n",
       "    </tr>\n",
       "    <tr>\n",
       "      <th>1</th>\n",
       "      <td>1000</td>\n",
       "      <td>6</td>\n",
       "      <td>28</td>\n",
       "      <td>172.0</td>\n",
       "    </tr>\n",
       "    <tr>\n",
       "      <th>2</th>\n",
       "      <td>1000</td>\n",
       "      <td>7</td>\n",
       "      <td>41</td>\n",
       "      <td>340.0</td>\n",
       "    </tr>\n",
       "    <tr>\n",
       "      <th>3</th>\n",
       "      <td>1000</td>\n",
       "      <td>8</td>\n",
       "      <td>42</td>\n",
       "      <td>408.0</td>\n",
       "    </tr>\n",
       "    <tr>\n",
       "      <th>4</th>\n",
       "      <td>1000</td>\n",
       "      <td>9</td>\n",
       "      <td>46</td>\n",
       "      <td>466.0</td>\n",
       "    </tr>\n",
       "  </tbody>\n",
       "</table>\n",
       "</div>"
      ],
      "text/plain": [
       "   user_id  month  calls  minutes\n",
       "0     1000      5     17    159.0\n",
       "1     1000      6     28    172.0\n",
       "2     1000      7     41    340.0\n",
       "3     1000      8     42    408.0\n",
       "4     1000      9     46    466.0"
      ]
     },
     "metadata": {},
     "output_type": "display_data"
    },
    {
     "data": {
      "text/html": [
       "<div>\n",
       "<style scoped>\n",
       "    .dataframe tbody tr th:only-of-type {\n",
       "        vertical-align: middle;\n",
       "    }\n",
       "\n",
       "    .dataframe tbody tr th {\n",
       "        vertical-align: top;\n",
       "    }\n",
       "\n",
       "    .dataframe thead th {\n",
       "        text-align: right;\n",
       "    }\n",
       "</style>\n",
       "<table border=\"1\" class=\"dataframe\">\n",
       "  <thead>\n",
       "    <tr style=\"text-align: right;\">\n",
       "      <th></th>\n",
       "      <th>user_id</th>\n",
       "      <th>month</th>\n",
       "      <th>messages</th>\n",
       "    </tr>\n",
       "  </thead>\n",
       "  <tbody>\n",
       "    <tr>\n",
       "      <th>0</th>\n",
       "      <td>1000</td>\n",
       "      <td>5</td>\n",
       "      <td>22</td>\n",
       "    </tr>\n",
       "    <tr>\n",
       "      <th>1</th>\n",
       "      <td>1000</td>\n",
       "      <td>6</td>\n",
       "      <td>60</td>\n",
       "    </tr>\n",
       "    <tr>\n",
       "      <th>2</th>\n",
       "      <td>1000</td>\n",
       "      <td>7</td>\n",
       "      <td>75</td>\n",
       "    </tr>\n",
       "    <tr>\n",
       "      <th>3</th>\n",
       "      <td>1000</td>\n",
       "      <td>8</td>\n",
       "      <td>81</td>\n",
       "    </tr>\n",
       "    <tr>\n",
       "      <th>4</th>\n",
       "      <td>1000</td>\n",
       "      <td>9</td>\n",
       "      <td>57</td>\n",
       "    </tr>\n",
       "  </tbody>\n",
       "</table>\n",
       "</div>"
      ],
      "text/plain": [
       "   user_id  month  messages\n",
       "0     1000      5        22\n",
       "1     1000      6        60\n",
       "2     1000      7        75\n",
       "3     1000      8        81\n",
       "4     1000      9        57"
      ]
     },
     "metadata": {},
     "output_type": "display_data"
    },
    {
     "data": {
      "text/html": [
       "<div>\n",
       "<style scoped>\n",
       "    .dataframe tbody tr th:only-of-type {\n",
       "        vertical-align: middle;\n",
       "    }\n",
       "\n",
       "    .dataframe tbody tr th {\n",
       "        vertical-align: top;\n",
       "    }\n",
       "\n",
       "    .dataframe thead th {\n",
       "        text-align: right;\n",
       "    }\n",
       "</style>\n",
       "<table border=\"1\" class=\"dataframe\">\n",
       "  <thead>\n",
       "    <tr style=\"text-align: right;\">\n",
       "      <th></th>\n",
       "      <th>user_id</th>\n",
       "      <th>month</th>\n",
       "      <th>mb</th>\n",
       "    </tr>\n",
       "  </thead>\n",
       "  <tbody>\n",
       "    <tr>\n",
       "      <th>0</th>\n",
       "      <td>1000</td>\n",
       "      <td>5</td>\n",
       "      <td>2253.49</td>\n",
       "    </tr>\n",
       "    <tr>\n",
       "      <th>1</th>\n",
       "      <td>1000</td>\n",
       "      <td>6</td>\n",
       "      <td>23233.77</td>\n",
       "    </tr>\n",
       "    <tr>\n",
       "      <th>2</th>\n",
       "      <td>1000</td>\n",
       "      <td>7</td>\n",
       "      <td>14003.64</td>\n",
       "    </tr>\n",
       "    <tr>\n",
       "      <th>3</th>\n",
       "      <td>1000</td>\n",
       "      <td>8</td>\n",
       "      <td>14055.93</td>\n",
       "    </tr>\n",
       "    <tr>\n",
       "      <th>4</th>\n",
       "      <td>1000</td>\n",
       "      <td>9</td>\n",
       "      <td>14568.91</td>\n",
       "    </tr>\n",
       "  </tbody>\n",
       "</table>\n",
       "</div>"
      ],
      "text/plain": [
       "   user_id  month        mb\n",
       "0     1000      5   2253.49\n",
       "1     1000      6  23233.77\n",
       "2     1000      7  14003.64\n",
       "3     1000      8  14055.93\n",
       "4     1000      9  14568.91"
      ]
     },
     "metadata": {},
     "output_type": "display_data"
    }
   ],
   "source": [
    "#Создадим 3 таблицы: new_calls, new_messages, new_internet, сгруппированные по user_id и month, в которых будет \n",
    "#записан результат выполнения первых трех заданий\n",
    "abonent = pd.DataFrame()\n",
    "\n",
    "new_calls = calls.groupby(['user_id', 'month'])['duration'].agg(['count','sum']).reset_index()\n",
    "new_calls.columns = ['user_id', 'month', 'calls', 'minutes']\n",
    "\n",
    "new_messages = messages.groupby(['user_id', 'month'])['id'].count().reset_index()\n",
    "new_messages.columns = ['user_id', 'month', 'messages']\n",
    "\n",
    "new_internet = internet.groupby(['user_id', 'month'])['mb_used'].sum().reset_index()\n",
    "new_internet.columns = ['user_id', 'month', 'mb']\n",
    "\n",
    "display(new_calls.head())\n",
    "display(new_messages.head())\n",
    "display(new_internet.head())"
   ]
  },
  {
   "cell_type": "code",
   "execution_count": 28,
   "metadata": {},
   "outputs": [
    {
     "data": {
      "text/html": [
       "<div>\n",
       "<style scoped>\n",
       "    .dataframe tbody tr th:only-of-type {\n",
       "        vertical-align: middle;\n",
       "    }\n",
       "\n",
       "    .dataframe tbody tr th {\n",
       "        vertical-align: top;\n",
       "    }\n",
       "\n",
       "    .dataframe thead th {\n",
       "        text-align: right;\n",
       "    }\n",
       "</style>\n",
       "<table border=\"1\" class=\"dataframe\">\n",
       "  <thead>\n",
       "    <tr style=\"text-align: right;\">\n",
       "      <th></th>\n",
       "      <th>user_id</th>\n",
       "      <th>month</th>\n",
       "      <th>calls</th>\n",
       "      <th>minutes</th>\n",
       "      <th>messages</th>\n",
       "      <th>mb</th>\n",
       "      <th>city</th>\n",
       "      <th>tariff</th>\n",
       "    </tr>\n",
       "  </thead>\n",
       "  <tbody>\n",
       "    <tr>\n",
       "      <th>0</th>\n",
       "      <td>1000</td>\n",
       "      <td>5.0</td>\n",
       "      <td>17.0</td>\n",
       "      <td>159.0</td>\n",
       "      <td>22.0</td>\n",
       "      <td>2253.49</td>\n",
       "      <td>Краснодар</td>\n",
       "      <td>ultra</td>\n",
       "    </tr>\n",
       "    <tr>\n",
       "      <th>1</th>\n",
       "      <td>1000</td>\n",
       "      <td>6.0</td>\n",
       "      <td>28.0</td>\n",
       "      <td>172.0</td>\n",
       "      <td>60.0</td>\n",
       "      <td>23233.77</td>\n",
       "      <td>Краснодар</td>\n",
       "      <td>ultra</td>\n",
       "    </tr>\n",
       "    <tr>\n",
       "      <th>2</th>\n",
       "      <td>1000</td>\n",
       "      <td>7.0</td>\n",
       "      <td>41.0</td>\n",
       "      <td>340.0</td>\n",
       "      <td>75.0</td>\n",
       "      <td>14003.64</td>\n",
       "      <td>Краснодар</td>\n",
       "      <td>ultra</td>\n",
       "    </tr>\n",
       "    <tr>\n",
       "      <th>3</th>\n",
       "      <td>1000</td>\n",
       "      <td>8.0</td>\n",
       "      <td>42.0</td>\n",
       "      <td>408.0</td>\n",
       "      <td>81.0</td>\n",
       "      <td>14055.93</td>\n",
       "      <td>Краснодар</td>\n",
       "      <td>ultra</td>\n",
       "    </tr>\n",
       "    <tr>\n",
       "      <th>4</th>\n",
       "      <td>1000</td>\n",
       "      <td>9.0</td>\n",
       "      <td>46.0</td>\n",
       "      <td>466.0</td>\n",
       "      <td>57.0</td>\n",
       "      <td>14568.91</td>\n",
       "      <td>Краснодар</td>\n",
       "      <td>ultra</td>\n",
       "    </tr>\n",
       "    <tr>\n",
       "      <th>...</th>\n",
       "      <td>...</td>\n",
       "      <td>...</td>\n",
       "      <td>...</td>\n",
       "      <td>...</td>\n",
       "      <td>...</td>\n",
       "      <td>...</td>\n",
       "      <td>...</td>\n",
       "      <td>...</td>\n",
       "    </tr>\n",
       "    <tr>\n",
       "      <th>3211</th>\n",
       "      <td>1489</td>\n",
       "      <td>10.0</td>\n",
       "      <td>NaN</td>\n",
       "      <td>NaN</td>\n",
       "      <td>21.0</td>\n",
       "      <td>19559.44</td>\n",
       "      <td>Санкт-Петербург</td>\n",
       "      <td>smart</td>\n",
       "    </tr>\n",
       "    <tr>\n",
       "      <th>3212</th>\n",
       "      <td>1489</td>\n",
       "      <td>11.0</td>\n",
       "      <td>NaN</td>\n",
       "      <td>NaN</td>\n",
       "      <td>20.0</td>\n",
       "      <td>17491.56</td>\n",
       "      <td>Санкт-Петербург</td>\n",
       "      <td>smart</td>\n",
       "    </tr>\n",
       "    <tr>\n",
       "      <th>3213</th>\n",
       "      <td>1489</td>\n",
       "      <td>12.0</td>\n",
       "      <td>NaN</td>\n",
       "      <td>NaN</td>\n",
       "      <td>35.0</td>\n",
       "      <td>17322.51</td>\n",
       "      <td>Санкт-Петербург</td>\n",
       "      <td>smart</td>\n",
       "    </tr>\n",
       "    <tr>\n",
       "      <th>3214</th>\n",
       "      <td>1128</td>\n",
       "      <td>NaN</td>\n",
       "      <td>NaN</td>\n",
       "      <td>NaN</td>\n",
       "      <td>NaN</td>\n",
       "      <td>NaN</td>\n",
       "      <td>Волжский</td>\n",
       "      <td>ultra</td>\n",
       "    </tr>\n",
       "    <tr>\n",
       "      <th>3215</th>\n",
       "      <td>1371</td>\n",
       "      <td>NaN</td>\n",
       "      <td>NaN</td>\n",
       "      <td>NaN</td>\n",
       "      <td>NaN</td>\n",
       "      <td>NaN</td>\n",
       "      <td>Омск</td>\n",
       "      <td>smart</td>\n",
       "    </tr>\n",
       "  </tbody>\n",
       "</table>\n",
       "<p>3216 rows × 8 columns</p>\n",
       "</div>"
      ],
      "text/plain": [
       "      user_id  month  calls  minutes  messages        mb             city  \\\n",
       "0        1000    5.0   17.0    159.0      22.0   2253.49        Краснодар   \n",
       "1        1000    6.0   28.0    172.0      60.0  23233.77        Краснодар   \n",
       "2        1000    7.0   41.0    340.0      75.0  14003.64        Краснодар   \n",
       "3        1000    8.0   42.0    408.0      81.0  14055.93        Краснодар   \n",
       "4        1000    9.0   46.0    466.0      57.0  14568.91        Краснодар   \n",
       "...       ...    ...    ...      ...       ...       ...              ...   \n",
       "3211     1489   10.0    NaN      NaN      21.0  19559.44  Санкт-Петербург   \n",
       "3212     1489   11.0    NaN      NaN      20.0  17491.56  Санкт-Петербург   \n",
       "3213     1489   12.0    NaN      NaN      35.0  17322.51  Санкт-Петербург   \n",
       "3214     1128    NaN    NaN      NaN       NaN       NaN         Волжский   \n",
       "3215     1371    NaN    NaN      NaN       NaN       NaN             Омск   \n",
       "\n",
       "     tariff  \n",
       "0     ultra  \n",
       "1     ultra  \n",
       "2     ultra  \n",
       "3     ultra  \n",
       "4     ultra  \n",
       "...     ...  \n",
       "3211  smart  \n",
       "3212  smart  \n",
       "3213  smart  \n",
       "3214  ultra  \n",
       "3215  smart  \n",
       "\n",
       "[3216 rows x 8 columns]"
      ]
     },
     "execution_count": 28,
     "metadata": {},
     "output_type": "execute_result"
    }
   ],
   "source": [
    "#Тепрерь создадим из 3 таблиц new_calls, new_messages, new_internet главную таблицу abonents\n",
    "\n",
    "all_abonents = users.loc[:,['user_id', 'city', 'tariff']]\n",
    "\n",
    "# abonents = pd.merge(abonents, ab_calls, how='inner', on='user_id')\n",
    "abonents = pd.merge(new_calls, new_messages, how='outer', on=['user_id', 'month'])\n",
    "abonents = pd.merge(abonents, new_internet, how='outer', on=['user_id', 'month'])\n",
    "abonents = pd.merge(abonents, all_abonents, how='outer', on=['user_id'])\n",
    "abonents"
   ]
  },
  {
   "cell_type": "code",
   "execution_count": 29,
   "metadata": {},
   "outputs": [
    {
     "data": {
      "text/plain": [
       "500"
      ]
     },
     "execution_count": 29,
     "metadata": {},
     "output_type": "execute_result"
    }
   ],
   "source": [
    "# Проверим все ли абоненты на месте, должно быть 500\n",
    "abonents['user_id'].nunique()"
   ]
  },
  {
   "cell_type": "code",
   "execution_count": 30,
   "metadata": {},
   "outputs": [
    {
     "data": {
      "text/plain": [
       "user_id       0\n",
       "month         2\n",
       "calls        48\n",
       "minutes      48\n",
       "messages    499\n",
       "mb           15\n",
       "city          0\n",
       "tariff        0\n",
       "dtype: int64"
      ]
     },
     "execution_count": 30,
     "metadata": {},
     "output_type": "execute_result"
    }
   ],
   "source": [
    "#Чтобы посчитать выручку income за месяц надо избавиться от пропусков NaN. Логично заполнить их нулями. \n",
    "#Там где не было звонков - 0, минут - 0, не было СМС - 0, не было интернет-трафика - 0 МБ\n",
    "#Посмотрим сколько у нас пропусков в таблице abonents\n",
    "abonents.isna().sum()"
   ]
  },
  {
   "cell_type": "code",
   "execution_count": 31,
   "metadata": {},
   "outputs": [
    {
     "data": {
      "text/html": [
       "<div>\n",
       "<style scoped>\n",
       "    .dataframe tbody tr th:only-of-type {\n",
       "        vertical-align: middle;\n",
       "    }\n",
       "\n",
       "    .dataframe tbody tr th {\n",
       "        vertical-align: top;\n",
       "    }\n",
       "\n",
       "    .dataframe thead th {\n",
       "        text-align: right;\n",
       "    }\n",
       "</style>\n",
       "<table border=\"1\" class=\"dataframe\">\n",
       "  <thead>\n",
       "    <tr style=\"text-align: right;\">\n",
       "      <th></th>\n",
       "      <th>user_id</th>\n",
       "      <th>month</th>\n",
       "      <th>calls</th>\n",
       "      <th>minutes</th>\n",
       "      <th>messages</th>\n",
       "      <th>mb</th>\n",
       "      <th>city</th>\n",
       "      <th>tariff</th>\n",
       "    </tr>\n",
       "  </thead>\n",
       "  <tbody>\n",
       "    <tr>\n",
       "      <th>3214</th>\n",
       "      <td>1128</td>\n",
       "      <td>NaN</td>\n",
       "      <td>NaN</td>\n",
       "      <td>NaN</td>\n",
       "      <td>NaN</td>\n",
       "      <td>NaN</td>\n",
       "      <td>Волжский</td>\n",
       "      <td>ultra</td>\n",
       "    </tr>\n",
       "    <tr>\n",
       "      <th>3215</th>\n",
       "      <td>1371</td>\n",
       "      <td>NaN</td>\n",
       "      <td>NaN</td>\n",
       "      <td>NaN</td>\n",
       "      <td>NaN</td>\n",
       "      <td>NaN</td>\n",
       "      <td>Омск</td>\n",
       "      <td>smart</td>\n",
       "    </tr>\n",
       "  </tbody>\n",
       "</table>\n",
       "</div>"
      ],
      "text/plain": [
       "      user_id  month  calls  minutes  messages  mb      city tariff\n",
       "3214     1128    NaN    NaN      NaN       NaN NaN  Волжский  ultra\n",
       "3215     1371    NaN    NaN      NaN       NaN NaN      Омск  smart"
      ]
     },
     "metadata": {},
     "output_type": "display_data"
    }
   ],
   "source": [
    "display(abonents[abonents['month'].isna()])"
   ]
  },
  {
   "cell_type": "markdown",
   "metadata": {},
   "source": [
    "Оказывается есть пропуски в столбце month. Это 2 абонента подключенных недавно или в конце года - поэтому ставим их в столбце с месяцем 12 и будем считать, что раз подключился, то выручка будет равна абонентской плате"
   ]
  },
  {
   "cell_type": "code",
   "execution_count": 32,
   "metadata": {},
   "outputs": [
    {
     "data": {
      "text/plain": [
       "user_id     0\n",
       "month       0\n",
       "calls       0\n",
       "minutes     0\n",
       "messages    0\n",
       "mb          0\n",
       "city        0\n",
       "tariff      0\n",
       "dtype: int64"
      ]
     },
     "execution_count": 32,
     "metadata": {},
     "output_type": "execute_result"
    }
   ],
   "source": [
    "abonents.loc[:,['calls', 'minutes', 'messages', 'mb']] = abonents.loc[:,['calls', 'minutes', 'messages', 'mb']].fillna(0)\n",
    "abonents.loc[:,['month']] = abonents.loc[:,['month']].fillna(12)\n",
    "abonents.isna().sum()"
   ]
  },
  {
   "cell_type": "code",
   "execution_count": 33,
   "metadata": {},
   "outputs": [
    {
     "name": "stdout",
     "output_type": "stream",
     "text": [
      "1\n"
     ]
    },
    {
     "data": {
      "text/html": [
       "<div>\n",
       "<style scoped>\n",
       "    .dataframe tbody tr th:only-of-type {\n",
       "        vertical-align: middle;\n",
       "    }\n",
       "\n",
       "    .dataframe tbody tr th {\n",
       "        vertical-align: top;\n",
       "    }\n",
       "\n",
       "    .dataframe thead th {\n",
       "        text-align: right;\n",
       "    }\n",
       "</style>\n",
       "<table border=\"1\" class=\"dataframe\">\n",
       "  <thead>\n",
       "    <tr style=\"text-align: right;\">\n",
       "      <th></th>\n",
       "      <th>messages_included</th>\n",
       "      <th>mb_per_month_included</th>\n",
       "      <th>minutes_included</th>\n",
       "      <th>rub_monthly_fee</th>\n",
       "      <th>rub_per_gb</th>\n",
       "      <th>rub_per_message</th>\n",
       "      <th>rub_per_minute</th>\n",
       "      <th>tariff_name</th>\n",
       "    </tr>\n",
       "  </thead>\n",
       "  <tbody>\n",
       "    <tr>\n",
       "      <th>0</th>\n",
       "      <td>50</td>\n",
       "      <td>15360</td>\n",
       "      <td>500</td>\n",
       "      <td>550</td>\n",
       "      <td>200</td>\n",
       "      <td>3</td>\n",
       "      <td>3</td>\n",
       "      <td>smart</td>\n",
       "    </tr>\n",
       "    <tr>\n",
       "      <th>1</th>\n",
       "      <td>1000</td>\n",
       "      <td>30720</td>\n",
       "      <td>3000</td>\n",
       "      <td>1950</td>\n",
       "      <td>150</td>\n",
       "      <td>1</td>\n",
       "      <td>1</td>\n",
       "      <td>ultra</td>\n",
       "    </tr>\n",
       "  </tbody>\n",
       "</table>\n",
       "</div>"
      ],
      "text/plain": [
       "   messages_included  mb_per_month_included  minutes_included  \\\n",
       "0                 50                  15360               500   \n",
       "1               1000                  30720              3000   \n",
       "\n",
       "   rub_monthly_fee  rub_per_gb  rub_per_message  rub_per_minute tariff_name  \n",
       "0              550         200                3               3       smart  \n",
       "1             1950         150                1               1       ultra  "
      ]
     },
     "execution_count": 33,
     "metadata": {},
     "output_type": "execute_result"
    }
   ],
   "source": [
    "#Теперь пора добавить новый столбец выручка - income в таблицу abonents. Напишем функцию income_month, которая \n",
    "#принимает строку, и возвращает значение выручки\n",
    "#(вычтите бесплатный лимит из суммарного количества звонков, сообщений и интернет-трафика; \n",
    "#остаток умножьте на значение из тарифного плана; прибавьте абонентскую плату, соответствующую тарифному плану)\n",
    "print(tariffs.loc[1,'rub_per_message'])\n",
    "tariffs"
   ]
  },
  {
   "cell_type": "code",
   "execution_count": 34,
   "metadata": {},
   "outputs": [
    {
     "data": {
      "text/html": [
       "<div>\n",
       "<style scoped>\n",
       "    .dataframe tbody tr th:only-of-type {\n",
       "        vertical-align: middle;\n",
       "    }\n",
       "\n",
       "    .dataframe tbody tr th {\n",
       "        vertical-align: top;\n",
       "    }\n",
       "\n",
       "    .dataframe thead th {\n",
       "        text-align: right;\n",
       "    }\n",
       "</style>\n",
       "<table border=\"1\" class=\"dataframe\">\n",
       "  <thead>\n",
       "    <tr style=\"text-align: right;\">\n",
       "      <th></th>\n",
       "      <th>user_id</th>\n",
       "      <th>month</th>\n",
       "      <th>calls</th>\n",
       "      <th>minutes</th>\n",
       "      <th>messages</th>\n",
       "      <th>mb</th>\n",
       "      <th>city</th>\n",
       "      <th>tariff</th>\n",
       "      <th>revenue</th>\n",
       "    </tr>\n",
       "  </thead>\n",
       "  <tbody>\n",
       "    <tr>\n",
       "      <th>0</th>\n",
       "      <td>1000</td>\n",
       "      <td>5.0</td>\n",
       "      <td>17.0</td>\n",
       "      <td>159.0</td>\n",
       "      <td>22.0</td>\n",
       "      <td>2253.49</td>\n",
       "      <td>Краснодар</td>\n",
       "      <td>ultra</td>\n",
       "      <td>1950.0</td>\n",
       "    </tr>\n",
       "    <tr>\n",
       "      <th>1</th>\n",
       "      <td>1000</td>\n",
       "      <td>6.0</td>\n",
       "      <td>28.0</td>\n",
       "      <td>172.0</td>\n",
       "      <td>60.0</td>\n",
       "      <td>23233.77</td>\n",
       "      <td>Краснодар</td>\n",
       "      <td>ultra</td>\n",
       "      <td>1950.0</td>\n",
       "    </tr>\n",
       "    <tr>\n",
       "      <th>2</th>\n",
       "      <td>1000</td>\n",
       "      <td>7.0</td>\n",
       "      <td>41.0</td>\n",
       "      <td>340.0</td>\n",
       "      <td>75.0</td>\n",
       "      <td>14003.64</td>\n",
       "      <td>Краснодар</td>\n",
       "      <td>ultra</td>\n",
       "      <td>1950.0</td>\n",
       "    </tr>\n",
       "    <tr>\n",
       "      <th>3</th>\n",
       "      <td>1000</td>\n",
       "      <td>8.0</td>\n",
       "      <td>42.0</td>\n",
       "      <td>408.0</td>\n",
       "      <td>81.0</td>\n",
       "      <td>14055.93</td>\n",
       "      <td>Краснодар</td>\n",
       "      <td>ultra</td>\n",
       "      <td>1950.0</td>\n",
       "    </tr>\n",
       "    <tr>\n",
       "      <th>4</th>\n",
       "      <td>1000</td>\n",
       "      <td>9.0</td>\n",
       "      <td>46.0</td>\n",
       "      <td>466.0</td>\n",
       "      <td>57.0</td>\n",
       "      <td>14568.91</td>\n",
       "      <td>Краснодар</td>\n",
       "      <td>ultra</td>\n",
       "      <td>1950.0</td>\n",
       "    </tr>\n",
       "    <tr>\n",
       "      <th>...</th>\n",
       "      <td>...</td>\n",
       "      <td>...</td>\n",
       "      <td>...</td>\n",
       "      <td>...</td>\n",
       "      <td>...</td>\n",
       "      <td>...</td>\n",
       "      <td>...</td>\n",
       "      <td>...</td>\n",
       "      <td>...</td>\n",
       "    </tr>\n",
       "    <tr>\n",
       "      <th>3211</th>\n",
       "      <td>1489</td>\n",
       "      <td>10.0</td>\n",
       "      <td>0.0</td>\n",
       "      <td>0.0</td>\n",
       "      <td>21.0</td>\n",
       "      <td>19559.44</td>\n",
       "      <td>Санкт-Петербург</td>\n",
       "      <td>smart</td>\n",
       "      <td>1550.0</td>\n",
       "    </tr>\n",
       "    <tr>\n",
       "      <th>3212</th>\n",
       "      <td>1489</td>\n",
       "      <td>11.0</td>\n",
       "      <td>0.0</td>\n",
       "      <td>0.0</td>\n",
       "      <td>20.0</td>\n",
       "      <td>17491.56</td>\n",
       "      <td>Санкт-Петербург</td>\n",
       "      <td>smart</td>\n",
       "      <td>1150.0</td>\n",
       "    </tr>\n",
       "    <tr>\n",
       "      <th>3213</th>\n",
       "      <td>1489</td>\n",
       "      <td>12.0</td>\n",
       "      <td>0.0</td>\n",
       "      <td>0.0</td>\n",
       "      <td>35.0</td>\n",
       "      <td>17322.51</td>\n",
       "      <td>Санкт-Петербург</td>\n",
       "      <td>smart</td>\n",
       "      <td>950.0</td>\n",
       "    </tr>\n",
       "    <tr>\n",
       "      <th>3214</th>\n",
       "      <td>1128</td>\n",
       "      <td>12.0</td>\n",
       "      <td>0.0</td>\n",
       "      <td>0.0</td>\n",
       "      <td>0.0</td>\n",
       "      <td>0.00</td>\n",
       "      <td>Волжский</td>\n",
       "      <td>ultra</td>\n",
       "      <td>1950.0</td>\n",
       "    </tr>\n",
       "    <tr>\n",
       "      <th>3215</th>\n",
       "      <td>1371</td>\n",
       "      <td>12.0</td>\n",
       "      <td>0.0</td>\n",
       "      <td>0.0</td>\n",
       "      <td>0.0</td>\n",
       "      <td>0.00</td>\n",
       "      <td>Омск</td>\n",
       "      <td>smart</td>\n",
       "      <td>550.0</td>\n",
       "    </tr>\n",
       "  </tbody>\n",
       "</table>\n",
       "<p>3216 rows × 9 columns</p>\n",
       "</div>"
      ],
      "text/plain": [
       "      user_id  month  calls  minutes  messages        mb             city  \\\n",
       "0        1000    5.0   17.0    159.0      22.0   2253.49        Краснодар   \n",
       "1        1000    6.0   28.0    172.0      60.0  23233.77        Краснодар   \n",
       "2        1000    7.0   41.0    340.0      75.0  14003.64        Краснодар   \n",
       "3        1000    8.0   42.0    408.0      81.0  14055.93        Краснодар   \n",
       "4        1000    9.0   46.0    466.0      57.0  14568.91        Краснодар   \n",
       "...       ...    ...    ...      ...       ...       ...              ...   \n",
       "3211     1489   10.0    0.0      0.0      21.0  19559.44  Санкт-Петербург   \n",
       "3212     1489   11.0    0.0      0.0      20.0  17491.56  Санкт-Петербург   \n",
       "3213     1489   12.0    0.0      0.0      35.0  17322.51  Санкт-Петербург   \n",
       "3214     1128   12.0    0.0      0.0       0.0      0.00         Волжский   \n",
       "3215     1371   12.0    0.0      0.0       0.0      0.00             Омск   \n",
       "\n",
       "     tariff  revenue  \n",
       "0     ultra   1950.0  \n",
       "1     ultra   1950.0  \n",
       "2     ultra   1950.0  \n",
       "3     ultra   1950.0  \n",
       "4     ultra   1950.0  \n",
       "...     ...      ...  \n",
       "3211  smart   1550.0  \n",
       "3212  smart   1150.0  \n",
       "3213  smart    950.0  \n",
       "3214  ultra   1950.0  \n",
       "3215  smart    550.0  \n",
       "\n",
       "[3216 rows x 9 columns]"
      ]
     },
     "execution_count": 34,
     "metadata": {},
     "output_type": "execute_result"
    }
   ],
   "source": [
    "def revenue_month(revenue_month):\n",
    "        \n",
    "    if revenue_month['tariff'] == 'smart':\n",
    "        \n",
    "        inc_calls = (revenue_month['minutes'] - tariffs.loc[0,'minutes_included']) * tariffs.loc[0,'rub_per_minute']\n",
    "        if inc_calls < 0 :\n",
    "            inc_calls = 0\n",
    "        \n",
    "        inc_messages = (revenue_month['messages'] - tariffs.loc[0,'messages_included']) * tariffs.loc[0,'rub_per_message']\n",
    "        if inc_messages < 0 :\n",
    "            inc_messages = 0\n",
    "        \n",
    "        inc_mb  = np.ceil((revenue_month['mb'] - tariffs.loc[0,'mb_per_month_included'])/1024) * tariffs.loc[0,'rub_per_gb'] \n",
    "        if inc_mb < 0 :\n",
    "            inc_mb = 0\n",
    "             \n",
    "        inc = inc_calls + inc_messages + inc_mb + tariffs.loc[0,'rub_monthly_fee']\n",
    "        \n",
    "    elif revenue_month['tariff'] == 'ultra':\n",
    "        \n",
    "        inc_calls = (revenue_month['minutes'] - tariffs.loc[1,'minutes_included']) * tariffs.loc[1,'rub_per_minute']\n",
    "        if inc_calls < 0 :\n",
    "            inc_calls = 0\n",
    "        \n",
    "        inc_messages = (revenue_month['messages'] - tariffs.loc[1,'messages_included']) * tariffs.loc[1,'rub_per_message']\n",
    "        if inc_messages < 0 :\n",
    "            inc_messages = 0\n",
    "        \n",
    "        inc_mb  = ((revenue_month['mb'] - tariffs.loc[1,'mb_per_month_included'])/1024) * tariffs.loc[1,'rub_per_gb'] \n",
    "        if inc_mb < 0 :\n",
    "            inc_mb = 0\n",
    "             \n",
    "        inc = inc_calls + inc_messages + inc_mb + tariffs.loc[1,'rub_monthly_fee']\n",
    "        \n",
    "    else:\n",
    "        print('Неизвестный тариф')\n",
    "        \n",
    "    \n",
    "    return inc\n",
    "\n",
    "abonents['revenue'] = abonents.apply(revenue_month, axis=1)\n",
    "abonents"
   ]
  },
  {
   "cell_type": "markdown",
   "metadata": {},
   "source": [
    "Создали новую таблицу abonents - в которую сгруппировали данные по каждому абоненту за каждый месяц пользования (попутно были созданы еще 3 вспомогательные таблицы). Заполнили образовавшиеся пропуски. Рассчитали для анализа 4 столбца: minutes - минут/мес, messages - СМС/мес, mb - МБ/мес и revenue - выручка за месяц. Таблица готова для анализа."
   ]
  },
  {
   "cell_type": "code",
   "execution_count": 35,
   "metadata": {},
   "outputs": [
    {
     "data": {
      "text/html": [
       "<div>\n",
       "<style scoped>\n",
       "    .dataframe tbody tr th:only-of-type {\n",
       "        vertical-align: middle;\n",
       "    }\n",
       "\n",
       "    .dataframe tbody tr th {\n",
       "        vertical-align: top;\n",
       "    }\n",
       "\n",
       "    .dataframe thead th {\n",
       "        text-align: right;\n",
       "    }\n",
       "</style>\n",
       "<table border=\"1\" class=\"dataframe\">\n",
       "  <thead>\n",
       "    <tr style=\"text-align: right;\">\n",
       "      <th></th>\n",
       "      <th>user_id</th>\n",
       "      <th>month</th>\n",
       "      <th>calls</th>\n",
       "      <th>minutes</th>\n",
       "      <th>messages</th>\n",
       "      <th>gb</th>\n",
       "      <th>city</th>\n",
       "      <th>tariff</th>\n",
       "      <th>revenue</th>\n",
       "    </tr>\n",
       "  </thead>\n",
       "  <tbody>\n",
       "    <tr>\n",
       "      <th>0</th>\n",
       "      <td>1000</td>\n",
       "      <td>5.0</td>\n",
       "      <td>17.0</td>\n",
       "      <td>159.0</td>\n",
       "      <td>22.0</td>\n",
       "      <td>2.200674</td>\n",
       "      <td>Краснодар</td>\n",
       "      <td>ultra</td>\n",
       "      <td>1950.0</td>\n",
       "    </tr>\n",
       "    <tr>\n",
       "      <th>1</th>\n",
       "      <td>1000</td>\n",
       "      <td>6.0</td>\n",
       "      <td>28.0</td>\n",
       "      <td>172.0</td>\n",
       "      <td>60.0</td>\n",
       "      <td>22.689229</td>\n",
       "      <td>Краснодар</td>\n",
       "      <td>ultra</td>\n",
       "      <td>1950.0</td>\n",
       "    </tr>\n",
       "    <tr>\n",
       "      <th>2</th>\n",
       "      <td>1000</td>\n",
       "      <td>7.0</td>\n",
       "      <td>41.0</td>\n",
       "      <td>340.0</td>\n",
       "      <td>75.0</td>\n",
       "      <td>13.675430</td>\n",
       "      <td>Краснодар</td>\n",
       "      <td>ultra</td>\n",
       "      <td>1950.0</td>\n",
       "    </tr>\n",
       "    <tr>\n",
       "      <th>3</th>\n",
       "      <td>1000</td>\n",
       "      <td>8.0</td>\n",
       "      <td>42.0</td>\n",
       "      <td>408.0</td>\n",
       "      <td>81.0</td>\n",
       "      <td>13.726494</td>\n",
       "      <td>Краснодар</td>\n",
       "      <td>ultra</td>\n",
       "      <td>1950.0</td>\n",
       "    </tr>\n",
       "    <tr>\n",
       "      <th>4</th>\n",
       "      <td>1000</td>\n",
       "      <td>9.0</td>\n",
       "      <td>46.0</td>\n",
       "      <td>466.0</td>\n",
       "      <td>57.0</td>\n",
       "      <td>14.227451</td>\n",
       "      <td>Краснодар</td>\n",
       "      <td>ultra</td>\n",
       "      <td>1950.0</td>\n",
       "    </tr>\n",
       "    <tr>\n",
       "      <th>...</th>\n",
       "      <td>...</td>\n",
       "      <td>...</td>\n",
       "      <td>...</td>\n",
       "      <td>...</td>\n",
       "      <td>...</td>\n",
       "      <td>...</td>\n",
       "      <td>...</td>\n",
       "      <td>...</td>\n",
       "      <td>...</td>\n",
       "    </tr>\n",
       "    <tr>\n",
       "      <th>3211</th>\n",
       "      <td>1489</td>\n",
       "      <td>10.0</td>\n",
       "      <td>0.0</td>\n",
       "      <td>0.0</td>\n",
       "      <td>21.0</td>\n",
       "      <td>19.101016</td>\n",
       "      <td>Санкт-Петербург</td>\n",
       "      <td>smart</td>\n",
       "      <td>1550.0</td>\n",
       "    </tr>\n",
       "    <tr>\n",
       "      <th>3212</th>\n",
       "      <td>1489</td>\n",
       "      <td>11.0</td>\n",
       "      <td>0.0</td>\n",
       "      <td>0.0</td>\n",
       "      <td>20.0</td>\n",
       "      <td>17.081602</td>\n",
       "      <td>Санкт-Петербург</td>\n",
       "      <td>smart</td>\n",
       "      <td>1150.0</td>\n",
       "    </tr>\n",
       "    <tr>\n",
       "      <th>3213</th>\n",
       "      <td>1489</td>\n",
       "      <td>12.0</td>\n",
       "      <td>0.0</td>\n",
       "      <td>0.0</td>\n",
       "      <td>35.0</td>\n",
       "      <td>16.916514</td>\n",
       "      <td>Санкт-Петербург</td>\n",
       "      <td>smart</td>\n",
       "      <td>950.0</td>\n",
       "    </tr>\n",
       "    <tr>\n",
       "      <th>3214</th>\n",
       "      <td>1128</td>\n",
       "      <td>12.0</td>\n",
       "      <td>0.0</td>\n",
       "      <td>0.0</td>\n",
       "      <td>0.0</td>\n",
       "      <td>0.000000</td>\n",
       "      <td>Волжский</td>\n",
       "      <td>ultra</td>\n",
       "      <td>1950.0</td>\n",
       "    </tr>\n",
       "    <tr>\n",
       "      <th>3215</th>\n",
       "      <td>1371</td>\n",
       "      <td>12.0</td>\n",
       "      <td>0.0</td>\n",
       "      <td>0.0</td>\n",
       "      <td>0.0</td>\n",
       "      <td>0.000000</td>\n",
       "      <td>Омск</td>\n",
       "      <td>smart</td>\n",
       "      <td>550.0</td>\n",
       "    </tr>\n",
       "  </tbody>\n",
       "</table>\n",
       "<p>3216 rows × 9 columns</p>\n",
       "</div>"
      ],
      "text/plain": [
       "      user_id  month  calls  minutes  messages         gb             city  \\\n",
       "0        1000    5.0   17.0    159.0      22.0   2.200674        Краснодар   \n",
       "1        1000    6.0   28.0    172.0      60.0  22.689229        Краснодар   \n",
       "2        1000    7.0   41.0    340.0      75.0  13.675430        Краснодар   \n",
       "3        1000    8.0   42.0    408.0      81.0  13.726494        Краснодар   \n",
       "4        1000    9.0   46.0    466.0      57.0  14.227451        Краснодар   \n",
       "...       ...    ...    ...      ...       ...        ...              ...   \n",
       "3211     1489   10.0    0.0      0.0      21.0  19.101016  Санкт-Петербург   \n",
       "3212     1489   11.0    0.0      0.0      20.0  17.081602  Санкт-Петербург   \n",
       "3213     1489   12.0    0.0      0.0      35.0  16.916514  Санкт-Петербург   \n",
       "3214     1128   12.0    0.0      0.0       0.0   0.000000         Волжский   \n",
       "3215     1371   12.0    0.0      0.0       0.0   0.000000             Омск   \n",
       "\n",
       "     tariff  revenue  \n",
       "0     ultra   1950.0  \n",
       "1     ultra   1950.0  \n",
       "2     ultra   1950.0  \n",
       "3     ultra   1950.0  \n",
       "4     ultra   1950.0  \n",
       "...     ...      ...  \n",
       "3211  smart   1550.0  \n",
       "3212  smart   1150.0  \n",
       "3213  smart    950.0  \n",
       "3214  ultra   1950.0  \n",
       "3215  smart    550.0  \n",
       "\n",
       "[3216 rows x 9 columns]"
      ]
     },
     "execution_count": 35,
     "metadata": {},
     "output_type": "execute_result"
    }
   ],
   "source": [
    "#Переведем Мб в Гб\n",
    "abonents['mb'] = abonents['mb']/1024\n",
    "abonents.columns = ['user_id', 'month', 'calls', 'minutes', 'messages', 'gb', 'city', 'tariff', 'revenue']\n",
    "abonents"
   ]
  },
  {
   "cell_type": "code",
   "execution_count": 36,
   "metadata": {},
   "outputs": [
    {
     "data": {
      "text/html": [
       "<div>\n",
       "<style scoped>\n",
       "    .dataframe tbody tr th:only-of-type {\n",
       "        vertical-align: middle;\n",
       "    }\n",
       "\n",
       "    .dataframe tbody tr th {\n",
       "        vertical-align: top;\n",
       "    }\n",
       "\n",
       "    .dataframe thead th {\n",
       "        text-align: right;\n",
       "    }\n",
       "</style>\n",
       "<table border=\"1\" class=\"dataframe\">\n",
       "  <thead>\n",
       "    <tr style=\"text-align: right;\">\n",
       "      <th></th>\n",
       "      <th>user_id</th>\n",
       "      <th>month</th>\n",
       "      <th>calls</th>\n",
       "      <th>minutes</th>\n",
       "      <th>messages</th>\n",
       "      <th>gb</th>\n",
       "      <th>city</th>\n",
       "      <th>tariff</th>\n",
       "      <th>revenue</th>\n",
       "    </tr>\n",
       "  </thead>\n",
       "  <tbody>\n",
       "    <tr>\n",
       "      <th>0</th>\n",
       "      <td>1000</td>\n",
       "      <td>5.0</td>\n",
       "      <td>17.0</td>\n",
       "      <td>159.0</td>\n",
       "      <td>22.0</td>\n",
       "      <td>3.0</td>\n",
       "      <td>Краснодар</td>\n",
       "      <td>ultra</td>\n",
       "      <td>1950.0</td>\n",
       "    </tr>\n",
       "    <tr>\n",
       "      <th>1</th>\n",
       "      <td>1000</td>\n",
       "      <td>6.0</td>\n",
       "      <td>28.0</td>\n",
       "      <td>172.0</td>\n",
       "      <td>60.0</td>\n",
       "      <td>23.0</td>\n",
       "      <td>Краснодар</td>\n",
       "      <td>ultra</td>\n",
       "      <td>1950.0</td>\n",
       "    </tr>\n",
       "    <tr>\n",
       "      <th>2</th>\n",
       "      <td>1000</td>\n",
       "      <td>7.0</td>\n",
       "      <td>41.0</td>\n",
       "      <td>340.0</td>\n",
       "      <td>75.0</td>\n",
       "      <td>14.0</td>\n",
       "      <td>Краснодар</td>\n",
       "      <td>ultra</td>\n",
       "      <td>1950.0</td>\n",
       "    </tr>\n",
       "    <tr>\n",
       "      <th>3</th>\n",
       "      <td>1000</td>\n",
       "      <td>8.0</td>\n",
       "      <td>42.0</td>\n",
       "      <td>408.0</td>\n",
       "      <td>81.0</td>\n",
       "      <td>14.0</td>\n",
       "      <td>Краснодар</td>\n",
       "      <td>ultra</td>\n",
       "      <td>1950.0</td>\n",
       "    </tr>\n",
       "    <tr>\n",
       "      <th>4</th>\n",
       "      <td>1000</td>\n",
       "      <td>9.0</td>\n",
       "      <td>46.0</td>\n",
       "      <td>466.0</td>\n",
       "      <td>57.0</td>\n",
       "      <td>15.0</td>\n",
       "      <td>Краснодар</td>\n",
       "      <td>ultra</td>\n",
       "      <td>1950.0</td>\n",
       "    </tr>\n",
       "    <tr>\n",
       "      <th>...</th>\n",
       "      <td>...</td>\n",
       "      <td>...</td>\n",
       "      <td>...</td>\n",
       "      <td>...</td>\n",
       "      <td>...</td>\n",
       "      <td>...</td>\n",
       "      <td>...</td>\n",
       "      <td>...</td>\n",
       "      <td>...</td>\n",
       "    </tr>\n",
       "    <tr>\n",
       "      <th>3211</th>\n",
       "      <td>1489</td>\n",
       "      <td>10.0</td>\n",
       "      <td>0.0</td>\n",
       "      <td>0.0</td>\n",
       "      <td>21.0</td>\n",
       "      <td>20.0</td>\n",
       "      <td>Санкт-Петербург</td>\n",
       "      <td>smart</td>\n",
       "      <td>1550.0</td>\n",
       "    </tr>\n",
       "    <tr>\n",
       "      <th>3212</th>\n",
       "      <td>1489</td>\n",
       "      <td>11.0</td>\n",
       "      <td>0.0</td>\n",
       "      <td>0.0</td>\n",
       "      <td>20.0</td>\n",
       "      <td>18.0</td>\n",
       "      <td>Санкт-Петербург</td>\n",
       "      <td>smart</td>\n",
       "      <td>1150.0</td>\n",
       "    </tr>\n",
       "    <tr>\n",
       "      <th>3213</th>\n",
       "      <td>1489</td>\n",
       "      <td>12.0</td>\n",
       "      <td>0.0</td>\n",
       "      <td>0.0</td>\n",
       "      <td>35.0</td>\n",
       "      <td>17.0</td>\n",
       "      <td>Санкт-Петербург</td>\n",
       "      <td>smart</td>\n",
       "      <td>950.0</td>\n",
       "    </tr>\n",
       "    <tr>\n",
       "      <th>3214</th>\n",
       "      <td>1128</td>\n",
       "      <td>12.0</td>\n",
       "      <td>0.0</td>\n",
       "      <td>0.0</td>\n",
       "      <td>0.0</td>\n",
       "      <td>0.0</td>\n",
       "      <td>Волжский</td>\n",
       "      <td>ultra</td>\n",
       "      <td>1950.0</td>\n",
       "    </tr>\n",
       "    <tr>\n",
       "      <th>3215</th>\n",
       "      <td>1371</td>\n",
       "      <td>12.0</td>\n",
       "      <td>0.0</td>\n",
       "      <td>0.0</td>\n",
       "      <td>0.0</td>\n",
       "      <td>0.0</td>\n",
       "      <td>Омск</td>\n",
       "      <td>smart</td>\n",
       "      <td>550.0</td>\n",
       "    </tr>\n",
       "  </tbody>\n",
       "</table>\n",
       "<p>3216 rows × 9 columns</p>\n",
       "</div>"
      ],
      "text/plain": [
       "      user_id  month  calls  minutes  messages    gb             city tariff  \\\n",
       "0        1000    5.0   17.0    159.0      22.0   3.0        Краснодар  ultra   \n",
       "1        1000    6.0   28.0    172.0      60.0  23.0        Краснодар  ultra   \n",
       "2        1000    7.0   41.0    340.0      75.0  14.0        Краснодар  ultra   \n",
       "3        1000    8.0   42.0    408.0      81.0  14.0        Краснодар  ultra   \n",
       "4        1000    9.0   46.0    466.0      57.0  15.0        Краснодар  ultra   \n",
       "...       ...    ...    ...      ...       ...   ...              ...    ...   \n",
       "3211     1489   10.0    0.0      0.0      21.0  20.0  Санкт-Петербург  smart   \n",
       "3212     1489   11.0    0.0      0.0      20.0  18.0  Санкт-Петербург  smart   \n",
       "3213     1489   12.0    0.0      0.0      35.0  17.0  Санкт-Петербург  smart   \n",
       "3214     1128   12.0    0.0      0.0       0.0   0.0         Волжский  ultra   \n",
       "3215     1371   12.0    0.0      0.0       0.0   0.0             Омск  smart   \n",
       "\n",
       "      revenue  \n",
       "0      1950.0  \n",
       "1      1950.0  \n",
       "2      1950.0  \n",
       "3      1950.0  \n",
       "4      1950.0  \n",
       "...       ...  \n",
       "3211   1550.0  \n",
       "3212   1150.0  \n",
       "3213    950.0  \n",
       "3214   1950.0  \n",
       "3215    550.0  \n",
       "\n",
       "[3216 rows x 9 columns]"
      ]
     },
     "execution_count": 36,
     "metadata": {},
     "output_type": "execute_result"
    }
   ],
   "source": [
    "abonents['gb'] = np.ceil(abonents['gb'])\n",
    "abonents"
   ]
  },
  {
   "cell_type": "markdown",
   "metadata": {},
   "source": [
    "## Шаг 3. Проанализируйте данные"
   ]
  },
  {
   "cell_type": "markdown",
   "metadata": {},
   "source": [
    "**Опишите поведение клиентов оператора, исходя из выборки. Сколько минут разговора, сколько сообщений и какой объём интернет-трафика требуется пользователям каждого тарифа в месяц? Посчитайте среднее количество, дисперсию и стандартное отклонение. Постройте гистограммы. Опишите распределения.**"
   ]
  },
  {
   "cell_type": "code",
   "execution_count": 37,
   "metadata": {},
   "outputs": [
    {
     "name": "stderr",
     "output_type": "stream",
     "text": [
      "/tmp/ipykernel_189/3756012755.py:2: FutureWarning: Indexing with multiple keys (implicitly converted to a tuple of keys) will be deprecated, use a list instead.\n",
      "  all_clients_month = abonents.groupby(['tariff', 'month'])['minutes', 'messages', 'gb', 'revenue'].sum().reset_index()\n"
     ]
    },
    {
     "data": {
      "text/html": [
       "<div>\n",
       "<style scoped>\n",
       "    .dataframe tbody tr th:only-of-type {\n",
       "        vertical-align: middle;\n",
       "    }\n",
       "\n",
       "    .dataframe tbody tr th {\n",
       "        vertical-align: top;\n",
       "    }\n",
       "\n",
       "    .dataframe thead th {\n",
       "        text-align: right;\n",
       "    }\n",
       "</style>\n",
       "<table border=\"1\" class=\"dataframe\">\n",
       "  <thead>\n",
       "    <tr style=\"text-align: right;\">\n",
       "      <th></th>\n",
       "      <th>tariff</th>\n",
       "      <th>month</th>\n",
       "      <th>minutes</th>\n",
       "      <th>messages</th>\n",
       "      <th>gb</th>\n",
       "      <th>revenue</th>\n",
       "    </tr>\n",
       "  </thead>\n",
       "  <tbody>\n",
       "    <tr>\n",
       "      <th>0</th>\n",
       "      <td>smart</td>\n",
       "      <td>1.0</td>\n",
       "      <td>6931.0</td>\n",
       "      <td>620.0</td>\n",
       "      <td>297.0</td>\n",
       "      <td>24525.000000</td>\n",
       "    </tr>\n",
       "    <tr>\n",
       "      <th>1</th>\n",
       "      <td>smart</td>\n",
       "      <td>2.0</td>\n",
       "      <td>17324.0</td>\n",
       "      <td>1397.0</td>\n",
       "      <td>687.0</td>\n",
       "      <td>48001.000000</td>\n",
       "    </tr>\n",
       "    <tr>\n",
       "      <th>2</th>\n",
       "      <td>smart</td>\n",
       "      <td>3.0</td>\n",
       "      <td>30034.0</td>\n",
       "      <td>2453.0</td>\n",
       "      <td>1173.0</td>\n",
       "      <td>89676.000000</td>\n",
       "    </tr>\n",
       "    <tr>\n",
       "      <th>3</th>\n",
       "      <td>smart</td>\n",
       "      <td>4.0</td>\n",
       "      <td>41119.0</td>\n",
       "      <td>3443.0</td>\n",
       "      <td>1526.0</td>\n",
       "      <td>107866.000000</td>\n",
       "    </tr>\n",
       "    <tr>\n",
       "      <th>4</th>\n",
       "      <td>smart</td>\n",
       "      <td>5.0</td>\n",
       "      <td>54618.0</td>\n",
       "      <td>4762.0</td>\n",
       "      <td>2243.0</td>\n",
       "      <td>168849.000000</td>\n",
       "    </tr>\n",
       "    <tr>\n",
       "      <th>5</th>\n",
       "      <td>smart</td>\n",
       "      <td>6.0</td>\n",
       "      <td>64885.0</td>\n",
       "      <td>5478.0</td>\n",
       "      <td>2616.0</td>\n",
       "      <td>197459.000000</td>\n",
       "    </tr>\n",
       "    <tr>\n",
       "      <th>6</th>\n",
       "      <td>smart</td>\n",
       "      <td>7.0</td>\n",
       "      <td>82079.0</td>\n",
       "      <td>6784.0</td>\n",
       "      <td>3191.0</td>\n",
       "      <td>246014.000000</td>\n",
       "    </tr>\n",
       "    <tr>\n",
       "      <th>7</th>\n",
       "      <td>smart</td>\n",
       "      <td>8.0</td>\n",
       "      <td>99045.0</td>\n",
       "      <td>7905.0</td>\n",
       "      <td>3933.0</td>\n",
       "      <td>310340.000000</td>\n",
       "    </tr>\n",
       "    <tr>\n",
       "      <th>8</th>\n",
       "      <td>smart</td>\n",
       "      <td>9.0</td>\n",
       "      <td>111439.0</td>\n",
       "      <td>8746.0</td>\n",
       "      <td>4262.0</td>\n",
       "      <td>324986.000000</td>\n",
       "    </tr>\n",
       "    <tr>\n",
       "      <th>9</th>\n",
       "      <td>smart</td>\n",
       "      <td>10.0</td>\n",
       "      <td>125284.0</td>\n",
       "      <td>9927.0</td>\n",
       "      <td>4963.0</td>\n",
       "      <td>401267.000000</td>\n",
       "    </tr>\n",
       "    <tr>\n",
       "      <th>10</th>\n",
       "      <td>smart</td>\n",
       "      <td>11.0</td>\n",
       "      <td>137544.0</td>\n",
       "      <td>10768.0</td>\n",
       "      <td>5372.0</td>\n",
       "      <td>424403.000000</td>\n",
       "    </tr>\n",
       "    <tr>\n",
       "      <th>11</th>\n",
       "      <td>smart</td>\n",
       "      <td>12.0</td>\n",
       "      <td>161275.0</td>\n",
       "      <td>12130.0</td>\n",
       "      <td>6134.0</td>\n",
       "      <td>532515.000000</td>\n",
       "    </tr>\n",
       "    <tr>\n",
       "      <th>12</th>\n",
       "      <td>ultra</td>\n",
       "      <td>1.0</td>\n",
       "      <td>3853.0</td>\n",
       "      <td>304.0</td>\n",
       "      <td>119.0</td>\n",
       "      <td>17550.000000</td>\n",
       "    </tr>\n",
       "    <tr>\n",
       "      <th>13</th>\n",
       "      <td>ultra</td>\n",
       "      <td>2.0</td>\n",
       "      <td>7131.0</td>\n",
       "      <td>527.0</td>\n",
       "      <td>288.0</td>\n",
       "      <td>47343.958008</td>\n",
       "    </tr>\n",
       "    <tr>\n",
       "      <th>14</th>\n",
       "      <td>ultra</td>\n",
       "      <td>3.0</td>\n",
       "      <td>18117.0</td>\n",
       "      <td>1195.0</td>\n",
       "      <td>653.0</td>\n",
       "      <td>74130.880371</td>\n",
       "    </tr>\n",
       "    <tr>\n",
       "      <th>15</th>\n",
       "      <td>ultra</td>\n",
       "      <td>4.0</td>\n",
       "      <td>25191.0</td>\n",
       "      <td>1736.0</td>\n",
       "      <td>933.0</td>\n",
       "      <td>109725.912598</td>\n",
       "    </tr>\n",
       "    <tr>\n",
       "      <th>16</th>\n",
       "      <td>ultra</td>\n",
       "      <td>5.0</td>\n",
       "      <td>34192.0</td>\n",
       "      <td>2536.0</td>\n",
       "      <td>1298.0</td>\n",
       "      <td>137649.963867</td>\n",
       "    </tr>\n",
       "    <tr>\n",
       "      <th>17</th>\n",
       "      <td>ultra</td>\n",
       "      <td>6.0</td>\n",
       "      <td>40295.0</td>\n",
       "      <td>3505.0</td>\n",
       "      <td>1591.0</td>\n",
       "      <td>170649.014648</td>\n",
       "    </tr>\n",
       "    <tr>\n",
       "      <th>18</th>\n",
       "      <td>ultra</td>\n",
       "      <td>7.0</td>\n",
       "      <td>49667.0</td>\n",
       "      <td>4536.0</td>\n",
       "      <td>1866.0</td>\n",
       "      <td>191806.013672</td>\n",
       "    </tr>\n",
       "    <tr>\n",
       "      <th>19</th>\n",
       "      <td>ultra</td>\n",
       "      <td>8.0</td>\n",
       "      <td>54653.0</td>\n",
       "      <td>5183.0</td>\n",
       "      <td>2097.0</td>\n",
       "      <td>221531.037598</td>\n",
       "    </tr>\n",
       "    <tr>\n",
       "      <th>20</th>\n",
       "      <td>ultra</td>\n",
       "      <td>9.0</td>\n",
       "      <td>62036.0</td>\n",
       "      <td>6013.0</td>\n",
       "      <td>2213.0</td>\n",
       "      <td>231514.627441</td>\n",
       "    </tr>\n",
       "    <tr>\n",
       "      <th>21</th>\n",
       "      <td>ultra</td>\n",
       "      <td>10.0</td>\n",
       "      <td>68644.0</td>\n",
       "      <td>7187.0</td>\n",
       "      <td>2468.0</td>\n",
       "      <td>252922.224609</td>\n",
       "    </tr>\n",
       "    <tr>\n",
       "      <th>22</th>\n",
       "      <td>ultra</td>\n",
       "      <td>11.0</td>\n",
       "      <td>72545.0</td>\n",
       "      <td>7476.0</td>\n",
       "      <td>2654.0</td>\n",
       "      <td>278721.755859</td>\n",
       "    </tr>\n",
       "    <tr>\n",
       "      <th>23</th>\n",
       "      <td>ultra</td>\n",
       "      <td>12.0</td>\n",
       "      <td>82400.0</td>\n",
       "      <td>8425.0</td>\n",
       "      <td>3022.0</td>\n",
       "      <td>297375.495117</td>\n",
       "    </tr>\n",
       "  </tbody>\n",
       "</table>\n",
       "</div>"
      ],
      "text/plain": [
       "   tariff  month   minutes  messages      gb        revenue\n",
       "0   smart    1.0    6931.0     620.0   297.0   24525.000000\n",
       "1   smart    2.0   17324.0    1397.0   687.0   48001.000000\n",
       "2   smart    3.0   30034.0    2453.0  1173.0   89676.000000\n",
       "3   smart    4.0   41119.0    3443.0  1526.0  107866.000000\n",
       "4   smart    5.0   54618.0    4762.0  2243.0  168849.000000\n",
       "5   smart    6.0   64885.0    5478.0  2616.0  197459.000000\n",
       "6   smart    7.0   82079.0    6784.0  3191.0  246014.000000\n",
       "7   smart    8.0   99045.0    7905.0  3933.0  310340.000000\n",
       "8   smart    9.0  111439.0    8746.0  4262.0  324986.000000\n",
       "9   smart   10.0  125284.0    9927.0  4963.0  401267.000000\n",
       "10  smart   11.0  137544.0   10768.0  5372.0  424403.000000\n",
       "11  smart   12.0  161275.0   12130.0  6134.0  532515.000000\n",
       "12  ultra    1.0    3853.0     304.0   119.0   17550.000000\n",
       "13  ultra    2.0    7131.0     527.0   288.0   47343.958008\n",
       "14  ultra    3.0   18117.0    1195.0   653.0   74130.880371\n",
       "15  ultra    4.0   25191.0    1736.0   933.0  109725.912598\n",
       "16  ultra    5.0   34192.0    2536.0  1298.0  137649.963867\n",
       "17  ultra    6.0   40295.0    3505.0  1591.0  170649.014648\n",
       "18  ultra    7.0   49667.0    4536.0  1866.0  191806.013672\n",
       "19  ultra    8.0   54653.0    5183.0  2097.0  221531.037598\n",
       "20  ultra    9.0   62036.0    6013.0  2213.0  231514.627441\n",
       "21  ultra   10.0   68644.0    7187.0  2468.0  252922.224609\n",
       "22  ultra   11.0   72545.0    7476.0  2654.0  278721.755859\n",
       "23  ultra   12.0   82400.0    8425.0  3022.0  297375.495117"
      ]
     },
     "execution_count": 37,
     "metadata": {},
     "output_type": "execute_result"
    }
   ],
   "source": [
    "#Расчитаем общие показатели всех клиентов по месяцам по обоим тарифам\n",
    "all_clients_month = abonents.groupby(['tariff', 'month'])['minutes', 'messages', 'gb', 'revenue'].sum().reset_index()\n",
    "all_clients_month"
   ]
  },
  {
   "cell_type": "code",
   "execution_count": 38,
   "metadata": {},
   "outputs": [],
   "source": [
    "# для наглядности разобьем all_clients_month на 2 таблице по тарифу\n",
    "smart_all_clients_month = all_clients_month.query(' tariff==\"smart\" ')\n",
    "ultra_all_clients_month = all_clients_month.query(' tariff==\"ultra\" ').reset_index(drop=True)"
   ]
  },
  {
   "cell_type": "code",
   "execution_count": 39,
   "metadata": {},
   "outputs": [
    {
     "data": {
      "image/png": "[encoded data removed]",
      "text/plain": [
       "<Figure size 864x360 with 1 Axes>"
      ]
     },
     "metadata": {
      "needs_background": "light"
     },
     "output_type": "display_data"
    },
    {
     "data": {
      "image/png": "[encoded data removed]",
      "text/plain": [
       "<Figure size 864x360 with 1 Axes>"
      ]
     },
     "metadata": {
      "needs_background": "light"
     },
     "output_type": "display_data"
    },
    {
     "data": {
      "image/png": "[encoded data removed]",
      "text/plain": [
       "<Figure size 864x360 with 1 Axes>"
      ]
     },
     "metadata": {
      "needs_background": "light"
     },
     "output_type": "display_data"
    },
    {
     "data": {
      "image/png": "[encoded data removed]",
      "text/plain": [
       "<Figure size 864x360 with 1 Axes>"
      ]
     },
     "metadata": {
      "needs_background": "light"
     },
     "output_type": "display_data"
    }
   ],
   "source": [
    "for x in ['minutes', 'messages', 'gb', 'revenue']:\n",
    "    plt.figure(figsize=(12, 5))\n",
    "    plt.bar(smart_all_clients_month['month'], smart_all_clients_month[x], label='smart', alpha=0.5, width=0.5)\n",
    "    plt.bar(ultra_all_clients_month['month'], ultra_all_clients_month[x], label='ultra', alpha=0.5)\n",
    "\n",
    "    plt.xlabel('month')\n",
    "    plt.ylabel(x)\n",
    "    plt.grid()\n",
    "    plt.title(f'Кол-во {x} всех клиентов по месяцам для 2 тарифов')\n",
    "    plt.legend()\n",
    "    plt.show();"
   ]
  },
  {
   "cell_type": "code",
   "execution_count": 40,
   "metadata": {},
   "outputs": [
    {
     "data": {
      "text/plain": [
       "smart    351\n",
       "ultra    149\n",
       "Name: tariff, dtype: int64"
      ]
     },
     "execution_count": 40,
     "metadata": {},
     "output_type": "execute_result"
    }
   ],
   "source": [
    "users.tariff.value_counts()"
   ]
  },
  {
   "cell_type": "markdown",
   "metadata": {},
   "source": [
    "Из графиков видно, что общий расход минут, СМС, Гб всех абонентов тарифа 'smart' больше, чем 'ultra', но и абонентов у 'smart' в 2 раза больше, чем у 'ultra'.\n",
    "\n",
    "По выручке надо отметить: в первой половине года абоненты обоих тарифов приносят почти одинаковые суммы, а во второй - абоненты smart с каждым месяцем приносят выручки больше, где выручка уже почти в 2 раза больше, чем от тарифа ultra.\n",
    "\n",
    "По всем графикам видно, что гистограммы постоянно возрастают от меcяца к месяцу - это показывает новый приток абонентов каждый месяц. Поэтому логично будет посчитать усредненные показатели расхода на одного абонента за каждый месяц и уже тогда сравнить тарифы."
   ]
  },
  {
   "cell_type": "code",
   "execution_count": 41,
   "metadata": {},
   "outputs": [
    {
     "data": {
      "text/html": [
       "<div>\n",
       "<style scoped>\n",
       "    .dataframe tbody tr th:only-of-type {\n",
       "        vertical-align: middle;\n",
       "    }\n",
       "\n",
       "    .dataframe tbody tr th {\n",
       "        vertical-align: top;\n",
       "    }\n",
       "\n",
       "    .dataframe thead th {\n",
       "        text-align: right;\n",
       "    }\n",
       "</style>\n",
       "<table border=\"1\" class=\"dataframe\">\n",
       "  <thead>\n",
       "    <tr style=\"text-align: right;\">\n",
       "      <th></th>\n",
       "      <th>minutes</th>\n",
       "      <th>messages</th>\n",
       "      <th>gb</th>\n",
       "      <th>revenue</th>\n",
       "    </tr>\n",
       "  </thead>\n",
       "  <tbody>\n",
       "    <tr>\n",
       "      <th>count</th>\n",
       "      <td>3216.000000</td>\n",
       "      <td>3216.000000</td>\n",
       "      <td>3216.000000</td>\n",
       "      <td>3216.000000</td>\n",
       "    </tr>\n",
       "    <tr>\n",
       "      <th>mean</th>\n",
       "      <td>450.964241</td>\n",
       "      <td>38.257463</td>\n",
       "      <td>17.288246</td>\n",
       "      <td>1525.753073</td>\n",
       "    </tr>\n",
       "    <tr>\n",
       "      <th>std</th>\n",
       "      <td>242.096312</td>\n",
       "      <td>36.149684</td>\n",
       "      <td>7.410845</td>\n",
       "      <td>793.099135</td>\n",
       "    </tr>\n",
       "    <tr>\n",
       "      <th>min</th>\n",
       "      <td>0.000000</td>\n",
       "      <td>0.000000</td>\n",
       "      <td>0.000000</td>\n",
       "      <td>550.000000</td>\n",
       "    </tr>\n",
       "    <tr>\n",
       "      <th>25%</th>\n",
       "      <td>282.000000</td>\n",
       "      <td>9.000000</td>\n",
       "      <td>13.000000</td>\n",
       "      <td>750.000000</td>\n",
       "    </tr>\n",
       "    <tr>\n",
       "      <th>50%</th>\n",
       "      <td>443.000000</td>\n",
       "      <td>30.000000</td>\n",
       "      <td>17.000000</td>\n",
       "      <td>1653.500000</td>\n",
       "    </tr>\n",
       "    <tr>\n",
       "      <th>75%</th>\n",
       "      <td>589.000000</td>\n",
       "      <td>57.000000</td>\n",
       "      <td>21.000000</td>\n",
       "      <td>1950.000000</td>\n",
       "    </tr>\n",
       "    <tr>\n",
       "      <th>max</th>\n",
       "      <td>1673.000000</td>\n",
       "      <td>224.000000</td>\n",
       "      <td>49.000000</td>\n",
       "      <td>6770.000000</td>\n",
       "    </tr>\n",
       "  </tbody>\n",
       "</table>\n",
       "</div>"
      ],
      "text/plain": [
       "           minutes     messages           gb      revenue\n",
       "count  3216.000000  3216.000000  3216.000000  3216.000000\n",
       "mean    450.964241    38.257463    17.288246  1525.753073\n",
       "std     242.096312    36.149684     7.410845   793.099135\n",
       "min       0.000000     0.000000     0.000000   550.000000\n",
       "25%     282.000000     9.000000    13.000000   750.000000\n",
       "50%     443.000000    30.000000    17.000000  1653.500000\n",
       "75%     589.000000    57.000000    21.000000  1950.000000\n",
       "max    1673.000000   224.000000    49.000000  6770.000000"
      ]
     },
     "execution_count": 41,
     "metadata": {},
     "output_type": "execute_result"
    }
   ],
   "source": [
    "#Расчитаем средние(медианные) показатели клиента по месяцам по обоим тарифам \n",
    "abonents[['minutes', 'messages', 'gb','revenue']].describe()"
   ]
  },
  {
   "cell_type": "code",
   "execution_count": 42,
   "metadata": {},
   "outputs": [
    {
     "data": {
      "image/png": "[encoded data removed]",
      "text/plain": [
       "<Figure size 1152x576 with 4 Axes>"
      ]
     },
     "metadata": {
      "needs_background": "light"
     },
     "output_type": "display_data"
    }
   ],
   "source": [
    "fig, (ax1, ax2, ax3, ax4) = plt.subplots(nrows=1, ncols=4, figsize=(16, 8))\n",
    "p = {ax1:'minutes', ax2:'messages', ax3:'gb', ax4:'revenue'}\n",
    "for ax in [ax1, ax2, ax3, ax4]:\n",
    "    ax.boxplot(abonents[p[ax]])\n",
    "    ax.grid()\n",
    "    ax.set_title(p[ax])\n",
    "fig.autofmt_xdate()"
   ]
  },
  {
   "cell_type": "markdown",
   "metadata": {},
   "source": [
    "Сильных выбросов нет, вполне адекватные числа, поэтому для вычисления усредненных значений можно использовать и среднее и медиану. "
   ]
  },
  {
   "cell_type": "code",
   "execution_count": 43,
   "metadata": {},
   "outputs": [
    {
     "name": "stderr",
     "output_type": "stream",
     "text": [
      "/tmp/ipykernel_189/1253670303.py:2: FutureWarning: Indexing with multiple keys (implicitly converted to a tuple of keys) will be deprecated, use a list instead.\n",
      "  tariffss = abonents.groupby(['tariff', 'month'])['minutes', 'messages', 'gb','revenue'].mean().reset_index()\n"
     ]
    },
    {
     "data": {
      "text/html": [
       "<div>\n",
       "<style scoped>\n",
       "    .dataframe tbody tr th:only-of-type {\n",
       "        vertical-align: middle;\n",
       "    }\n",
       "\n",
       "    .dataframe tbody tr th {\n",
       "        vertical-align: top;\n",
       "    }\n",
       "\n",
       "    .dataframe thead th {\n",
       "        text-align: right;\n",
       "    }\n",
       "</style>\n",
       "<table border=\"1\" class=\"dataframe\">\n",
       "  <thead>\n",
       "    <tr style=\"text-align: right;\">\n",
       "      <th></th>\n",
       "      <th>tariff</th>\n",
       "      <th>month</th>\n",
       "      <th>minutes</th>\n",
       "      <th>messages</th>\n",
       "      <th>gb</th>\n",
       "      <th>revenue</th>\n",
       "    </tr>\n",
       "  </thead>\n",
       "  <tbody>\n",
       "    <tr>\n",
       "      <th>0</th>\n",
       "      <td>smart</td>\n",
       "      <td>1.0</td>\n",
       "      <td>203.852941</td>\n",
       "      <td>18.235294</td>\n",
       "      <td>8.735294</td>\n",
       "      <td>721.323529</td>\n",
       "    </tr>\n",
       "    <tr>\n",
       "      <th>1</th>\n",
       "      <td>smart</td>\n",
       "      <td>2.0</td>\n",
       "      <td>298.689655</td>\n",
       "      <td>24.086207</td>\n",
       "      <td>11.844828</td>\n",
       "      <td>827.603448</td>\n",
       "    </tr>\n",
       "    <tr>\n",
       "      <th>2</th>\n",
       "      <td>smart</td>\n",
       "      <td>3.0</td>\n",
       "      <td>390.051948</td>\n",
       "      <td>31.857143</td>\n",
       "      <td>15.233766</td>\n",
       "      <td>1164.623377</td>\n",
       "    </tr>\n",
       "    <tr>\n",
       "      <th>3</th>\n",
       "      <td>smart</td>\n",
       "      <td>4.0</td>\n",
       "      <td>367.133929</td>\n",
       "      <td>30.741071</td>\n",
       "      <td>13.625000</td>\n",
       "      <td>963.089286</td>\n",
       "    </tr>\n",
       "    <tr>\n",
       "      <th>4</th>\n",
       "      <td>smart</td>\n",
       "      <td>5.0</td>\n",
       "      <td>387.361702</td>\n",
       "      <td>33.773050</td>\n",
       "      <td>15.907801</td>\n",
       "      <td>1197.510638</td>\n",
       "    </tr>\n",
       "    <tr>\n",
       "      <th>5</th>\n",
       "      <td>smart</td>\n",
       "      <td>6.0</td>\n",
       "      <td>395.640244</td>\n",
       "      <td>33.402439</td>\n",
       "      <td>15.951220</td>\n",
       "      <td>1204.018293</td>\n",
       "    </tr>\n",
       "    <tr>\n",
       "      <th>6</th>\n",
       "      <td>smart</td>\n",
       "      <td>7.0</td>\n",
       "      <td>408.353234</td>\n",
       "      <td>33.751244</td>\n",
       "      <td>15.875622</td>\n",
       "      <td>1223.950249</td>\n",
       "    </tr>\n",
       "    <tr>\n",
       "      <th>7</th>\n",
       "      <td>smart</td>\n",
       "      <td>8.0</td>\n",
       "      <td>421.468085</td>\n",
       "      <td>33.638298</td>\n",
       "      <td>16.736170</td>\n",
       "      <td>1320.595745</td>\n",
       "    </tr>\n",
       "    <tr>\n",
       "      <th>8</th>\n",
       "      <td>smart</td>\n",
       "      <td>9.0</td>\n",
       "      <td>428.611538</td>\n",
       "      <td>33.638462</td>\n",
       "      <td>16.392308</td>\n",
       "      <td>1249.946154</td>\n",
       "    </tr>\n",
       "    <tr>\n",
       "      <th>9</th>\n",
       "      <td>smart</td>\n",
       "      <td>10.0</td>\n",
       "      <td>426.136054</td>\n",
       "      <td>33.765306</td>\n",
       "      <td>16.880952</td>\n",
       "      <td>1364.853741</td>\n",
       "    </tr>\n",
       "    <tr>\n",
       "      <th>10</th>\n",
       "      <td>smart</td>\n",
       "      <td>11.0</td>\n",
       "      <td>435.265823</td>\n",
       "      <td>34.075949</td>\n",
       "      <td>17.000000</td>\n",
       "      <td>1343.047468</td>\n",
       "    </tr>\n",
       "    <tr>\n",
       "      <th>11</th>\n",
       "      <td>smart</td>\n",
       "      <td>12.0</td>\n",
       "      <td>477.144970</td>\n",
       "      <td>35.887574</td>\n",
       "      <td>18.147929</td>\n",
       "      <td>1575.488166</td>\n",
       "    </tr>\n",
       "    <tr>\n",
       "      <th>12</th>\n",
       "      <td>ultra</td>\n",
       "      <td>1.0</td>\n",
       "      <td>428.111111</td>\n",
       "      <td>33.777778</td>\n",
       "      <td>13.222222</td>\n",
       "      <td>1950.000000</td>\n",
       "    </tr>\n",
       "    <tr>\n",
       "      <th>13</th>\n",
       "      <td>ultra</td>\n",
       "      <td>2.0</td>\n",
       "      <td>297.125000</td>\n",
       "      <td>21.958333</td>\n",
       "      <td>12.000000</td>\n",
       "      <td>1972.664917</td>\n",
       "    </tr>\n",
       "    <tr>\n",
       "      <th>14</th>\n",
       "      <td>ultra</td>\n",
       "      <td>3.0</td>\n",
       "      <td>489.648649</td>\n",
       "      <td>32.297297</td>\n",
       "      <td>17.648649</td>\n",
       "      <td>2003.537307</td>\n",
       "    </tr>\n",
       "    <tr>\n",
       "      <th>15</th>\n",
       "      <td>ultra</td>\n",
       "      <td>4.0</td>\n",
       "      <td>458.018182</td>\n",
       "      <td>31.563636</td>\n",
       "      <td>16.963636</td>\n",
       "      <td>1995.016593</td>\n",
       "    </tr>\n",
       "    <tr>\n",
       "      <th>16</th>\n",
       "      <td>ultra</td>\n",
       "      <td>5.0</td>\n",
       "      <td>510.328358</td>\n",
       "      <td>37.850746</td>\n",
       "      <td>19.373134</td>\n",
       "      <td>2054.477073</td>\n",
       "    </tr>\n",
       "    <tr>\n",
       "      <th>17</th>\n",
       "      <td>ultra</td>\n",
       "      <td>6.0</td>\n",
       "      <td>479.702381</td>\n",
       "      <td>41.726190</td>\n",
       "      <td>18.940476</td>\n",
       "      <td>2031.535889</td>\n",
       "    </tr>\n",
       "    <tr>\n",
       "      <th>18</th>\n",
       "      <td>ultra</td>\n",
       "      <td>7.0</td>\n",
       "      <td>545.791209</td>\n",
       "      <td>49.846154</td>\n",
       "      <td>20.505495</td>\n",
       "      <td>2107.758392</td>\n",
       "    </tr>\n",
       "    <tr>\n",
       "      <th>19</th>\n",
       "      <td>ultra</td>\n",
       "      <td>8.0</td>\n",
       "      <td>510.775701</td>\n",
       "      <td>48.439252</td>\n",
       "      <td>19.598131</td>\n",
       "      <td>2070.383529</td>\n",
       "    </tr>\n",
       "    <tr>\n",
       "      <th>20</th>\n",
       "      <td>ultra</td>\n",
       "      <td>9.0</td>\n",
       "      <td>539.443478</td>\n",
       "      <td>52.286957</td>\n",
       "      <td>19.243478</td>\n",
       "      <td>2013.170673</td>\n",
       "    </tr>\n",
       "    <tr>\n",
       "      <th>21</th>\n",
       "      <td>ultra</td>\n",
       "      <td>10.0</td>\n",
       "      <td>558.081301</td>\n",
       "      <td>58.430894</td>\n",
       "      <td>20.065041</td>\n",
       "      <td>2056.278249</td>\n",
       "    </tr>\n",
       "    <tr>\n",
       "      <th>22</th>\n",
       "      <td>ultra</td>\n",
       "      <td>11.0</td>\n",
       "      <td>541.380597</td>\n",
       "      <td>55.791045</td>\n",
       "      <td>19.805970</td>\n",
       "      <td>2080.013103</td>\n",
       "    </tr>\n",
       "    <tr>\n",
       "      <th>23</th>\n",
       "      <td>ultra</td>\n",
       "      <td>12.0</td>\n",
       "      <td>588.571429</td>\n",
       "      <td>60.178571</td>\n",
       "      <td>21.585714</td>\n",
       "      <td>2124.110679</td>\n",
       "    </tr>\n",
       "  </tbody>\n",
       "</table>\n",
       "</div>"
      ],
      "text/plain": [
       "   tariff  month     minutes   messages         gb      revenue\n",
       "0   smart    1.0  203.852941  18.235294   8.735294   721.323529\n",
       "1   smart    2.0  298.689655  24.086207  11.844828   827.603448\n",
       "2   smart    3.0  390.051948  31.857143  15.233766  1164.623377\n",
       "3   smart    4.0  367.133929  30.741071  13.625000   963.089286\n",
       "4   smart    5.0  387.361702  33.773050  15.907801  1197.510638\n",
       "5   smart    6.0  395.640244  33.402439  15.951220  1204.018293\n",
       "6   smart    7.0  408.353234  33.751244  15.875622  1223.950249\n",
       "7   smart    8.0  421.468085  33.638298  16.736170  1320.595745\n",
       "8   smart    9.0  428.611538  33.638462  16.392308  1249.946154\n",
       "9   smart   10.0  426.136054  33.765306  16.880952  1364.853741\n",
       "10  smart   11.0  435.265823  34.075949  17.000000  1343.047468\n",
       "11  smart   12.0  477.144970  35.887574  18.147929  1575.488166\n",
       "12  ultra    1.0  428.111111  33.777778  13.222222  1950.000000\n",
       "13  ultra    2.0  297.125000  21.958333  12.000000  1972.664917\n",
       "14  ultra    3.0  489.648649  32.297297  17.648649  2003.537307\n",
       "15  ultra    4.0  458.018182  31.563636  16.963636  1995.016593\n",
       "16  ultra    5.0  510.328358  37.850746  19.373134  2054.477073\n",
       "17  ultra    6.0  479.702381  41.726190  18.940476  2031.535889\n",
       "18  ultra    7.0  545.791209  49.846154  20.505495  2107.758392\n",
       "19  ultra    8.0  510.775701  48.439252  19.598131  2070.383529\n",
       "20  ultra    9.0  539.443478  52.286957  19.243478  2013.170673\n",
       "21  ultra   10.0  558.081301  58.430894  20.065041  2056.278249\n",
       "22  ultra   11.0  541.380597  55.791045  19.805970  2080.013103\n",
       "23  ultra   12.0  588.571429  60.178571  21.585714  2124.110679"
      ]
     },
     "execution_count": 43,
     "metadata": {},
     "output_type": "execute_result"
    }
   ],
   "source": [
    "#Сгруппируем и создадим новую таблицу tariffss - с общими данными по тарифам\n",
    "tariffss = abonents.groupby(['tariff', 'month'])['minutes', 'messages', 'gb','revenue'].mean().reset_index()\n",
    "tariffss"
   ]
  },
  {
   "cell_type": "code",
   "execution_count": 44,
   "metadata": {},
   "outputs": [],
   "source": [
    "#разделим новую таблицу на две smart и ultra - по каждому тарифу\n",
    "smart = tariffss.query(' tariff==\"smart\" ')\n",
    "ultra = tariffss[tariffss['tariff']=='ultra'].reset_index(drop=True)"
   ]
  },
  {
   "cell_type": "code",
   "execution_count": 45,
   "metadata": {},
   "outputs": [
    {
     "data": {
      "text/html": [
       "<div>\n",
       "<style scoped>\n",
       "    .dataframe tbody tr th:only-of-type {\n",
       "        vertical-align: middle;\n",
       "    }\n",
       "\n",
       "    .dataframe tbody tr th {\n",
       "        vertical-align: top;\n",
       "    }\n",
       "\n",
       "    .dataframe thead th {\n",
       "        text-align: right;\n",
       "    }\n",
       "</style>\n",
       "<table border=\"1\" class=\"dataframe\">\n",
       "  <thead>\n",
       "    <tr style=\"text-align: right;\">\n",
       "      <th></th>\n",
       "      <th>tariff</th>\n",
       "      <th>month</th>\n",
       "      <th>minutes</th>\n",
       "      <th>messages</th>\n",
       "      <th>gb</th>\n",
       "      <th>revenue</th>\n",
       "    </tr>\n",
       "  </thead>\n",
       "  <tbody>\n",
       "    <tr>\n",
       "      <th>0</th>\n",
       "      <td>smart</td>\n",
       "      <td>1.0</td>\n",
       "      <td>203.852941</td>\n",
       "      <td>18.235294</td>\n",
       "      <td>8.735294</td>\n",
       "      <td>721.323529</td>\n",
       "    </tr>\n",
       "    <tr>\n",
       "      <th>1</th>\n",
       "      <td>smart</td>\n",
       "      <td>2.0</td>\n",
       "      <td>298.689655</td>\n",
       "      <td>24.086207</td>\n",
       "      <td>11.844828</td>\n",
       "      <td>827.603448</td>\n",
       "    </tr>\n",
       "    <tr>\n",
       "      <th>2</th>\n",
       "      <td>smart</td>\n",
       "      <td>3.0</td>\n",
       "      <td>390.051948</td>\n",
       "      <td>31.857143</td>\n",
       "      <td>15.233766</td>\n",
       "      <td>1164.623377</td>\n",
       "    </tr>\n",
       "    <tr>\n",
       "      <th>3</th>\n",
       "      <td>smart</td>\n",
       "      <td>4.0</td>\n",
       "      <td>367.133929</td>\n",
       "      <td>30.741071</td>\n",
       "      <td>13.625000</td>\n",
       "      <td>963.089286</td>\n",
       "    </tr>\n",
       "    <tr>\n",
       "      <th>4</th>\n",
       "      <td>smart</td>\n",
       "      <td>5.0</td>\n",
       "      <td>387.361702</td>\n",
       "      <td>33.773050</td>\n",
       "      <td>15.907801</td>\n",
       "      <td>1197.510638</td>\n",
       "    </tr>\n",
       "  </tbody>\n",
       "</table>\n",
       "</div>"
      ],
      "text/plain": [
       "  tariff  month     minutes   messages         gb      revenue\n",
       "0  smart    1.0  203.852941  18.235294   8.735294   721.323529\n",
       "1  smart    2.0  298.689655  24.086207  11.844828   827.603448\n",
       "2  smart    3.0  390.051948  31.857143  15.233766  1164.623377\n",
       "3  smart    4.0  367.133929  30.741071  13.625000   963.089286\n",
       "4  smart    5.0  387.361702  33.773050  15.907801  1197.510638"
      ]
     },
     "execution_count": 45,
     "metadata": {},
     "output_type": "execute_result"
    }
   ],
   "source": [
    "smart.head()"
   ]
  },
  {
   "cell_type": "code",
   "execution_count": 46,
   "metadata": {},
   "outputs": [
    {
     "data": {
      "text/html": [
       "<div>\n",
       "<style scoped>\n",
       "    .dataframe tbody tr th:only-of-type {\n",
       "        vertical-align: middle;\n",
       "    }\n",
       "\n",
       "    .dataframe tbody tr th {\n",
       "        vertical-align: top;\n",
       "    }\n",
       "\n",
       "    .dataframe thead th {\n",
       "        text-align: right;\n",
       "    }\n",
       "</style>\n",
       "<table border=\"1\" class=\"dataframe\">\n",
       "  <thead>\n",
       "    <tr style=\"text-align: right;\">\n",
       "      <th></th>\n",
       "      <th>tariff</th>\n",
       "      <th>month</th>\n",
       "      <th>minutes</th>\n",
       "      <th>messages</th>\n",
       "      <th>gb</th>\n",
       "      <th>revenue</th>\n",
       "    </tr>\n",
       "  </thead>\n",
       "  <tbody>\n",
       "    <tr>\n",
       "      <th>0</th>\n",
       "      <td>ultra</td>\n",
       "      <td>1.0</td>\n",
       "      <td>428.111111</td>\n",
       "      <td>33.777778</td>\n",
       "      <td>13.222222</td>\n",
       "      <td>1950.000000</td>\n",
       "    </tr>\n",
       "    <tr>\n",
       "      <th>1</th>\n",
       "      <td>ultra</td>\n",
       "      <td>2.0</td>\n",
       "      <td>297.125000</td>\n",
       "      <td>21.958333</td>\n",
       "      <td>12.000000</td>\n",
       "      <td>1972.664917</td>\n",
       "    </tr>\n",
       "    <tr>\n",
       "      <th>2</th>\n",
       "      <td>ultra</td>\n",
       "      <td>3.0</td>\n",
       "      <td>489.648649</td>\n",
       "      <td>32.297297</td>\n",
       "      <td>17.648649</td>\n",
       "      <td>2003.537307</td>\n",
       "    </tr>\n",
       "    <tr>\n",
       "      <th>3</th>\n",
       "      <td>ultra</td>\n",
       "      <td>4.0</td>\n",
       "      <td>458.018182</td>\n",
       "      <td>31.563636</td>\n",
       "      <td>16.963636</td>\n",
       "      <td>1995.016593</td>\n",
       "    </tr>\n",
       "    <tr>\n",
       "      <th>4</th>\n",
       "      <td>ultra</td>\n",
       "      <td>5.0</td>\n",
       "      <td>510.328358</td>\n",
       "      <td>37.850746</td>\n",
       "      <td>19.373134</td>\n",
       "      <td>2054.477073</td>\n",
       "    </tr>\n",
       "  </tbody>\n",
       "</table>\n",
       "</div>"
      ],
      "text/plain": [
       "  tariff  month     minutes   messages         gb      revenue\n",
       "0  ultra    1.0  428.111111  33.777778  13.222222  1950.000000\n",
       "1  ultra    2.0  297.125000  21.958333  12.000000  1972.664917\n",
       "2  ultra    3.0  489.648649  32.297297  17.648649  2003.537307\n",
       "3  ultra    4.0  458.018182  31.563636  16.963636  1995.016593\n",
       "4  ultra    5.0  510.328358  37.850746  19.373134  2054.477073"
      ]
     },
     "execution_count": 46,
     "metadata": {},
     "output_type": "execute_result"
    }
   ],
   "source": [
    "ultra.head()"
   ]
  },
  {
   "cell_type": "code",
   "execution_count": 47,
   "metadata": {},
   "outputs": [
    {
     "data": {
      "text/html": [
       "<div>\n",
       "<style scoped>\n",
       "    .dataframe tbody tr th:only-of-type {\n",
       "        vertical-align: middle;\n",
       "    }\n",
       "\n",
       "    .dataframe tbody tr th {\n",
       "        vertical-align: top;\n",
       "    }\n",
       "\n",
       "    .dataframe thead th {\n",
       "        text-align: right;\n",
       "    }\n",
       "</style>\n",
       "<table border=\"1\" class=\"dataframe\">\n",
       "  <thead>\n",
       "    <tr style=\"text-align: right;\">\n",
       "      <th></th>\n",
       "      <th>messages_included</th>\n",
       "      <th>mb_per_month_included</th>\n",
       "      <th>minutes_included</th>\n",
       "      <th>rub_monthly_fee</th>\n",
       "      <th>rub_per_gb</th>\n",
       "      <th>rub_per_message</th>\n",
       "      <th>rub_per_minute</th>\n",
       "      <th>tariff_name</th>\n",
       "    </tr>\n",
       "  </thead>\n",
       "  <tbody>\n",
       "    <tr>\n",
       "      <th>0</th>\n",
       "      <td>50</td>\n",
       "      <td>15360</td>\n",
       "      <td>500</td>\n",
       "      <td>550</td>\n",
       "      <td>200</td>\n",
       "      <td>3</td>\n",
       "      <td>3</td>\n",
       "      <td>smart</td>\n",
       "    </tr>\n",
       "    <tr>\n",
       "      <th>1</th>\n",
       "      <td>1000</td>\n",
       "      <td>30720</td>\n",
       "      <td>3000</td>\n",
       "      <td>1950</td>\n",
       "      <td>150</td>\n",
       "      <td>1</td>\n",
       "      <td>1</td>\n",
       "      <td>ultra</td>\n",
       "    </tr>\n",
       "  </tbody>\n",
       "</table>\n",
       "</div>"
      ],
      "text/plain": [
       "   messages_included  mb_per_month_included  minutes_included  \\\n",
       "0                 50                  15360               500   \n",
       "1               1000                  30720              3000   \n",
       "\n",
       "   rub_monthly_fee  rub_per_gb  rub_per_message  rub_per_minute tariff_name  \n",
       "0              550         200                3               3       smart  \n",
       "1             1950         150                1               1       ultra  "
      ]
     },
     "execution_count": 47,
     "metadata": {},
     "output_type": "execute_result"
    }
   ],
   "source": [
    "tariffs"
   ]
  },
  {
   "cell_type": "code",
   "execution_count": 48,
   "metadata": {},
   "outputs": [
    {
     "data": {
      "image/png": "[encoded data removed]",
      "text/plain": [
       "<Figure size 1008x360 with 1 Axes>"
      ]
     },
     "metadata": {
      "needs_background": "light"
     },
     "output_type": "display_data"
    },
    {
     "data": {
      "image/png": "[encoded data removed]",
      "text/plain": [
       "<Figure size 1008x360 with 1 Axes>"
      ]
     },
     "metadata": {
      "needs_background": "light"
     },
     "output_type": "display_data"
    },
    {
     "data": {
      "image/png": "[encoded data removed]",
      "text/plain": [
       "<Figure size 1008x360 with 1 Axes>"
      ]
     },
     "metadata": {
      "needs_background": "light"
     },
     "output_type": "display_data"
    },
    {
     "data": {
      "image/png": "[encoded data removed]",
      "text/plain": [
       "<Figure size 1008x360 with 1 Axes>"
      ]
     },
     "metadata": {
      "needs_background": "light"
     },
     "output_type": "display_data"
    }
   ],
   "source": [
    "#Нарисуем теперь для обоих тарифов усредненные расходы по месяцам для одного абонента\n",
    "\n",
    "for x in ['minutes', 'messages', 'gb','revenue']:\n",
    "    plt.figure(figsize=(14, 5))\n",
    "    plt.bar(smart['month']-0.4/2, smart[x], label='smart', alpha=0.5, width=0.4)\n",
    "    plt.bar(ultra['month']+0.4/2, ultra[x], label='ultra', alpha=0.4, width=0.4)\n",
    "\n",
    "# max- пороговое значение в smart, после которого идёт оплата сверх абонентской\n",
    "    if x == 'minutes':\n",
    "        max=500\n",
    "    elif x == 'messages':\n",
    "        max=50\n",
    "    elif x == 'gb':\n",
    "        max=15\n",
    "    else:\n",
    "        max=550\n",
    "        \n",
    "    plt.axhline(y=max, label='Порог для smart', color='black')  \n",
    "    plt.xlabel('month')\n",
    "    plt.ylabel(x)\n",
    "    plt.grid()\n",
    "    plt.title(f'Кол-во {x} одного абонента по месяцам для обоих тарифов')\n",
    "    plt.legend()\n",
    "    plt.show();"
   ]
  },
  {
   "cell_type": "code",
   "execution_count": 49,
   "metadata": {},
   "outputs": [
    {
     "name": "stdout",
     "output_type": "stream",
     "text": [
      "Кол-во minutes: smart = 402 / ultra = 511\n",
      "Кол-во messages: smart = 34 / ultra = 45\n",
      "Кол-во gb: smart = 16 / ultra = 19\n",
      "Кол-во revenue: smart = 1214 / ultra = 2043\n"
     ]
    }
   ],
   "source": [
    "#Рассчитаем усредненные значения за месяц, которые требуются абонентам в обоих тарифах\n",
    "for x in ['minutes', 'messages', 'gb','revenue']:\n",
    "    print(f'Кол-во {x}: smart = {round(smart[x].median())} / ultra = {round(ultra[x].median())}')"
   ]
  },
  {
   "cell_type": "code",
   "execution_count": 50,
   "metadata": {},
   "outputs": [
    {
     "data": {
      "image/png": "[encoded data removed]",
      "text/plain": [
       "<Figure size 1008x360 with 1 Axes>"
      ]
     },
     "metadata": {
      "needs_background": "light"
     },
     "output_type": "display_data"
    },
    {
     "data": {
      "image/png": "[encoded data removed]",
      "text/plain": [
       "<Figure size 1008x360 with 1 Axes>"
      ]
     },
     "metadata": {
      "needs_background": "light"
     },
     "output_type": "display_data"
    },
    {
     "data": {
      "image/png": "[encoded data removed]",
      "text/plain": [
       "<Figure size 1008x360 with 1 Axes>"
      ]
     },
     "metadata": {
      "needs_background": "light"
     },
     "output_type": "display_data"
    },
    {
     "data": {
      "image/png": "[encoded data removed]",
      "text/plain": [
       "<Figure size 1008x360 with 1 Axes>"
      ]
     },
     "metadata": {
      "needs_background": "light"
     },
     "output_type": "display_data"
    }
   ],
   "source": [
    "#Распределение абонентов по кол-ву использованых услуг\n",
    "#Посмотрим на гистограммах частоту распределения клиентов по объему использования услуг\n",
    "for x in ['minutes', 'messages', 'gb','revenue']:\n",
    "    plt.figure(figsize=(14, 5))\n",
    "    plt.hist(abonents.loc[abonents['tariff'] == \"smart\", x], label='smart / '+x, alpha=0.65, bins = 50)\n",
    "    plt.hist(abonents.loc[abonents['tariff'] == \"ultra\", x], label='ultra / '+x, alpha=0.35, bins = 50)\n",
    "    \n",
    "    plt.ylabel('частота')\n",
    "    plt.xlabel(x)\n",
    "    plt.grid()\n",
    "    plt.title(f'Распределение {x} в месяцам для обоих тарифов')\n",
    "    plt.legend()\n",
    "    plt.show();"
   ]
  },
  {
   "cell_type": "code",
   "execution_count": 51,
   "metadata": {},
   "outputs": [
    {
     "data": {
      "text/plain": [
       "<matplotlib.legend.Legend at 0x7f36d56b1280>"
      ]
     },
     "execution_count": 51,
     "metadata": {},
     "output_type": "execute_result"
    },
    {
     "data": {
      "image/png": "[encoded data removed]",
      "text/plain": [
       "<Figure size 432x288 with 1 Axes>"
      ]
     },
     "metadata": {
      "needs_background": "light"
     },
     "output_type": "display_data"
    }
   ],
   "source": [
    "#Сравним графики использованного интернета для тарифов \n",
    "analys_data_merge_mb_used = abonents.pivot_table(index = ['tariff','month'], values = 'gb', aggfunc = 'mean')\n",
    "analys_data_merge_mb_used = analys_data_merge_mb_used.reset_index()\n",
    "\n",
    "fig = plt.figure()\n",
    "ax = fig.add_axes([0,0,1,1])\n",
    "ax.grid()\n",
    "ax.set_xlabel('Месяц')\n",
    "ax.set_ylabel('Кол-во использованных Гигабайт')\n",
    "\n",
    "ax.plot(analys_data_merge_mb_used['month'][0:12], analys_data_merge_mb_used['gb'][0:12], label=\"Smart\")\n",
    "ax.plot(analys_data_merge_mb_used['month'][12:], analys_data_merge_mb_used['gb'][12:], label=\"Ultra\")\n",
    "\n",
    "ax.legend()"
   ]
  },
  {
   "cell_type": "code",
   "execution_count": 52,
   "metadata": {},
   "outputs": [
    {
     "data": {
      "text/plain": [
       "<matplotlib.legend.Legend at 0x7f36d4c2bbb0>"
      ]
     },
     "execution_count": 52,
     "metadata": {},
     "output_type": "execute_result"
    },
    {
     "data": {
      "image/png": "[encoded data removed]",
      "text/plain": [
       "<Figure size 432x288 with 1 Axes>"
      ]
     },
     "metadata": {
      "needs_background": "light"
     },
     "output_type": "display_data"
    }
   ],
   "source": [
    "#Сравним графики отправленных сообщений для тарифов\n",
    "analys_data_messages_used = abonents.pivot_table(index = ['tariff','month'], values = 'messages', aggfunc = 'mean')\n",
    "analys_data_messages_used = analys_data_messages_used.reset_index()\n",
    "\n",
    "fig = plt.figure()\n",
    "ax = fig.add_axes([0,0,1,1])\n",
    "ax.grid()\n",
    "ax.set_xlabel('Месяц')\n",
    "ax.set_ylabel('Количество сообщений')\n",
    "\n",
    "ax.plot(analys_data_messages_used['month'][0:12], analys_data_messages_used['messages'][0:12], label=\"Smart\")\n",
    "ax.plot(analys_data_messages_used['month'][12:], analys_data_messages_used['messages'][12:], label=\"Ultra\")\n",
    "\n",
    "ax.legend()\n"
   ]
  },
  {
   "cell_type": "code",
   "execution_count": 53,
   "metadata": {},
   "outputs": [
    {
     "data": {
      "text/plain": [
       "<matplotlib.legend.Legend at 0x7f36d4973970>"
      ]
     },
     "execution_count": 53,
     "metadata": {},
     "output_type": "execute_result"
    },
    {
     "data": {
      "image/png": "[encoded data removed]",
      "text/plain": [
       "<Figure size 432x288 with 1 Axes>"
      ]
     },
     "metadata": {
      "needs_background": "light"
     },
     "output_type": "display_data"
    }
   ],
   "source": [
    "#Сравним графики длительности звонков для тарифов \n",
    "analys_data_calls_used = abonents.pivot_table(index = ['tariff','month'], values = 'minutes', aggfunc = 'mean')\n",
    "analys_data_calls_used = analys_data_calls_used.reset_index()\n",
    "\n",
    "fig = plt.figure()\n",
    "ax = fig.add_axes([0,0,1,1])\n",
    "ax.grid()\n",
    "ax.set_xlabel('Месяц')\n",
    "ax.set_ylabel('Продолжительность звонков')\n",
    "\n",
    "ax.plot(analys_data_calls_used['month'][0:12], analys_data_calls_used['minutes'][0:12], label=\"Smart\")\n",
    "ax.plot(analys_data_calls_used['month'][12:], analys_data_calls_used['minutes'][12:], label=\"Ultra\")\n",
    "\n",
    "ax.legend()"
   ]
  },
  {
   "cell_type": "markdown",
   "metadata": {},
   "source": [
    "По графикам видно следующее: пользователи тарифа Ultra активнее используют свой тариф по каждому из пунктов (звонки, интернет и сообщения), а пользователи тарифа Smart больше выходят за рамки ограничений, бесплатного интернета т.е переплачивают за дополнительлное использование, возможно, абонентская плата меньше, но переплата за услуги больше."
   ]
  },
  {
   "cell_type": "code",
   "execution_count": 54,
   "metadata": {},
   "outputs": [
    {
     "name": "stdout",
     "output_type": "stream",
     "text": [
      "Дисперсия тарифа ultra: 101052.49 \n",
      "Cреднее значение ultra: 526.09 \n",
      "Стандартное отклонение ultra: 317.89 \n",
      "\n",
      "Дисперсия тарифа smart: 36281.39 \n",
      "Cреднее значение smart: 417.75 \n",
      "Стандартное отклонение smart: 190.48 \n",
      "\n"
     ]
    }
   ],
   "source": [
    "#Найдем дисперсию, ско и среднее значение по продолжительности звонков разных тарифов\n",
    "ultra = abonents.loc[abonents['tariff'] == 'ultra']\n",
    "smart = abonents.loc[abonents['tariff'] == 'smart']\n",
    "\n",
    "variance_estimate_ultra_dur = np.var(ultra['minutes'], ddof=1)\n",
    "variance_estimate_smart_dur = np.var(smart['minutes'], ddof=1)\n",
    "\n",
    "(print ('Дисперсия тарифа ultra:', round(variance_estimate_ultra_dur, 2),\n",
    "  '\\nCреднее значение ultra:', round(ultra['minutes'].mean(), 2),\n",
    "  '\\nСтандартное отклонение ultra:', round(np.sqrt(variance_estimate_ultra_dur), 2), '\\n'))\n",
    "\n",
    "(print ('Дисперсия тарифа smart:', round(variance_estimate_smart_dur, 2),\n",
    "  '\\nCреднее значение smart:', round(smart['minutes'].mean(), 2),\n",
    "  '\\nСтандартное отклонение smart:', round(np.sqrt(variance_estimate_smart_dur), 2), '\\n'))"
   ]
  },
  {
   "cell_type": "code",
   "execution_count": 55,
   "metadata": {},
   "outputs": [
    {
     "data": {
      "image/png": "[encoded data removed]",
      "text/plain": [
       "<Figure size 432x288 with 1 Axes>"
      ]
     },
     "metadata": {
      "needs_background": "light"
     },
     "output_type": "display_data"
    }
   ],
   "source": [
    "fig, axes = plt.subplots(sharex=True, sharey=True)\n",
    "\n",
    "ultra.hist('minutes', alpha=0.75, ax=axes, label='ultra', bins = 10)\n",
    "smart.hist('minutes', alpha=0.75, ax=axes, label = 'smart', bins = 10)\n",
    "plt.legend(loc='upper right')\n",
    "\n",
    "\n",
    "plt.suptitle('Гистограмма звонков', x=0.5, y=1.05, ha='center')\n",
    "fig.text(0.5, 0.004, 'Продолжительность', ha='center')\n",
    "fig.text(0.004, 0.5, 'Количество', va='center', rotation='vertical')\n",
    "plt.show()"
   ]
  },
  {
   "cell_type": "markdown",
   "metadata": {},
   "source": [
    "Распределение тарифа smart имеет вид нормального распределения, с средним значением в районе 60 минут, что подтверждают рассчеты и сам график, исходя из этого можно утверждать, что пользователи данного тарифа используют связь довольно редко (60 +- 25 (стандартное отклонение))с возможностью бесплатных звонков 500. Пользователи тарифа ultra также не используют потенциал тарифа в безлимитных звонках, среднее значение находится в диапазоне 47 минут +- 43 с возможностью бесплатных звонков 3000. Распределение могло бы быть похоже на нормальное, но мы видим что большая часть звонков происходит в районе от 0 до 10 минут."
   ]
  },
  {
   "cell_type": "code",
   "execution_count": 56,
   "metadata": {},
   "outputs": [
    {
     "name": "stdout",
     "output_type": "stream",
     "text": [
      "Дисперсия тарифа ultra: 2285.42 \n",
      "Cреднее значение: 49.31 \n",
      "Стандартное отклонение: 47.81 \n",
      "\n",
      "Дисперсия тарифа smart: 796.96 \n",
      "Cреднее значение: 33.37 \n",
      "Стандартное отклонение: 28.23 \n",
      "\n"
     ]
    }
   ],
   "source": [
    "#Найдем дисперсию, ско и среднее значение по количеству сообщений\n",
    "variance_estimate_ultra_message = np.var(ultra['messages'], ddof=1)\n",
    "variance_estimate_smart_message = np.var(smart['messages'], ddof=1)\n",
    "\n",
    "(print ('Дисперсия тарифа ultra:', round(variance_estimate_ultra_message, 2),\n",
    "  '\\nCреднее значение:', round(ultra['messages'].mean(), 2),\n",
    "  '\\nСтандартное отклонение:', round(np.sqrt(variance_estimate_ultra_message), 2), '\\n'))\n",
    "\n",
    "(print ('Дисперсия тарифа smart:', round(variance_estimate_smart_message, 2),\n",
    "  '\\nCреднее значение:', round(smart['messages'].mean(), 2),\n",
    "  '\\nСтандартное отклонение:', round(np.sqrt(variance_estimate_smart_message), 2), '\\n'))"
   ]
  },
  {
   "cell_type": "code",
   "execution_count": 57,
   "metadata": {},
   "outputs": [
    {
     "data": {
      "image/png": "[encoded data removed]",
      "text/plain": [
       "<Figure size 432x288 with 1 Axes>"
      ]
     },
     "metadata": {
      "needs_background": "light"
     },
     "output_type": "display_data"
    }
   ],
   "source": [
    "fig, axes = plt.subplots(sharex=True, sharey=True)\n",
    "\n",
    "ultra.hist('messages', alpha=0.75, ax=axes, label='ultra', bins = 10)\n",
    "smart.hist('messages', alpha=0.75, ax=axes, label = 'smart', bins = 10)\n",
    "plt.legend(loc='upper right')\n",
    "\n",
    "plt.suptitle('Гистограмма сообщений', x=0.5, y=1.05, ha='center')\n",
    "fig.text(0.5, 0.004, 'Сообщения', ha='center')\n",
    "fig.text(0.004, 0.5, 'Количество сообщений', va='center', rotation='vertical')\n",
    "\n",
    "plt.show()"
   ]
  },
  {
   "cell_type": "markdown",
   "metadata": {},
   "source": [
    "Для пользователей тарифа ultra количество бесплатных сообщений установлено в значение 1000, по данному распределению можно сказать, что большая часть пользователей отправляет от 0 до 10 сообщений, и их предел заканчивается у границы с значением в 200, т.е пользователи так же не используют полностью потенциал тарифа, что нельзя сказать о пользователях тарифа smart, с них компания получает большую выгоду т.к количество бесплатных сообщений составляет 50, а пользователи данного тарифа отправляют сообщения сверх лимита, что является несомненным плюсом в рекомендации использования тарифа smart для компании."
   ]
  },
  {
   "cell_type": "code",
   "execution_count": 58,
   "metadata": {},
   "outputs": [
    {
     "data": {
      "image/png": "[encoded data removed]",
      "text/plain": [
       "<Figure size 432x288 with 1 Axes>"
      ]
     },
     "metadata": {
      "needs_background": "light"
     },
     "output_type": "display_data"
    }
   ],
   "source": [
    "fig, axes = plt.subplots(sharex=True, sharey=True)\n",
    "\n",
    "ultra.query('messages > 0').hist('messages', alpha=0.75, ax=axes, label='ultra', bins = 10)\n",
    "smart.query('messages > 0').hist('messages', alpha=0.75, ax=axes, label = 'smart', bins = 10)\n",
    "plt.legend(loc='upper right')\n",
    "\n",
    "plt.suptitle('Гистограмма сообщений', x=0.5, y=1.05, ha='center')\n",
    "fig.text(0.5, 0.004, 'Сообщения', ha='center')\n",
    "fig.text(0.004, 0.5, 'Количество сообщений', va='center', rotation='vertical')\n",
    "\n",
    "plt.show()"
   ]
  },
  {
   "cell_type": "code",
   "execution_count": 59,
   "metadata": {},
   "outputs": [
    {
     "name": "stdout",
     "output_type": "stream",
     "text": [
      "Процент переплат ultra: 0.0\n",
      "Процент переплат smart: 25.29 %\n"
     ]
    }
   ],
   "source": [
    "# Процент пользователей с переплатой за сообщения по каждому тарифу за сообщения\n",
    "print('Процент переплат ultra:', len(ultra.loc[ultra['messages'] > 1000]) / len(ultra))\n",
    "print('Процент переплат smart:', round(len(smart.loc[smart['messages'] > 50]) / len(smart) * 100, 2), '%')"
   ]
  },
  {
   "cell_type": "code",
   "execution_count": 60,
   "metadata": {},
   "outputs": [
    {
     "name": "stdout",
     "output_type": "stream",
     "text": [
      "Дисперсия тарифа ultra: 2285.42 \n",
      "Cреднее значение: 19.47 \n",
      "Стандартное отклонение: 47.81 \n",
      "\n",
      "Дисперсия тарифа smart: 796.96 \n",
      "Cреднее значение: 16.32 \n",
      "Стандартное отклонение: 28.23 \n",
      "\n"
     ]
    }
   ],
   "source": [
    "#Найдем дисперсию, ско и среднее значение по количеству использованных гигабайт\n",
    "variance_estimate_ultra_mb = np.var(ultra['gb'], ddof=1)\n",
    "variance_estimate_smart_mb = np.var(smart['gb'], ddof=1)\n",
    "\n",
    "(print ('Дисперсия тарифа ultra:', round(variance_estimate_ultra_message, 2),\n",
    "  '\\nCреднее значение:', round(ultra['gb'].mean(), 2),\n",
    "  '\\nСтандартное отклонение:', round(np.sqrt(variance_estimate_ultra_message), 2), '\\n'))\n",
    "\n",
    "(print ('Дисперсия тарифа smart:', round(variance_estimate_smart_message, 2),\n",
    "  '\\nCреднее значение:', round(smart['gb'].mean(), 2),\n",
    "  '\\nСтандартное отклонение:', round(np.sqrt(variance_estimate_smart_message), 2), '\\n'))"
   ]
  },
  {
   "cell_type": "code",
   "execution_count": 61,
   "metadata": {},
   "outputs": [
    {
     "data": {
      "image/png": "[encoded data removed]",
      "text/plain": [
       "<Figure size 432x288 with 1 Axes>"
      ]
     },
     "metadata": {
      "needs_background": "light"
     },
     "output_type": "display_data"
    }
   ],
   "source": [
    "fig, axes = plt.subplots(sharex=True, sharey=True)\n",
    "\n",
    "ultra.hist('gb', alpha=0.75, ax=axes, label='ultra', bins = 10)\n",
    "smart.hist('gb', alpha=0.75, ax=axes, label = 'smart', bins = 10)\n",
    "plt.legend(loc='upper right')\n",
    "\n",
    "plt.suptitle('Гистограмма Гигабайт', x=0.5, y=1.05, ha='center')\n",
    "fig.text(0.5, 0.004, 'Гигабайты', ha='center')\n",
    "fig.text(0.004, 0.5, 'Количество', va='center', rotation='vertical')\n",
    "\n",
    "plt.show()"
   ]
  },
  {
   "cell_type": "markdown",
   "metadata": {},
   "source": [
    "Распределение тарифа smart имеет вид нормального распределения. Исходя из данного распределения можно утверждать, что более выгодной рекомндацией для компании будет продажа тарифа smart, т.к пользователи имеют ограничение в 15Гб и видно, что больше половины пользователей используют интернет в диапазоне от 15Гб до +-27Гб, что является существенной переплатой за интернет трафик. Что касается тарифа ultra, у которого ограничение в 30Гб, по графику видно, что только небольшая часть пользователей переплачивают за него."
   ]
  },
  {
   "cell_type": "code",
   "execution_count": 62,
   "metadata": {},
   "outputs": [
    {
     "name": "stdout",
     "output_type": "stream",
     "text": [
      "Процент переплат ultra: 13.59 %\n",
      "Процент переплат smart: 58.48 %\n"
     ]
    }
   ],
   "source": [
    "# Процент пользователей с переплатой за сообщения по каждому тарифу за интернет\n",
    "print('Процент переплат ultra:', round(len(ultra.loc[ultra['gb'] > 30]) / len(ultra) * 100, 2), '%')\n",
    "print('Процент переплат smart:', round(len(smart.loc[smart['gb'] > 15]) / len(smart) * 100, 2), '%')"
   ]
  },
  {
   "cell_type": "code",
   "execution_count": 63,
   "metadata": {},
   "outputs": [
    {
     "data": {
      "text/html": [
       "<div>\n",
       "<style scoped>\n",
       "    .dataframe tbody tr th:only-of-type {\n",
       "        vertical-align: middle;\n",
       "    }\n",
       "\n",
       "    .dataframe tbody tr th {\n",
       "        vertical-align: top;\n",
       "    }\n",
       "\n",
       "    .dataframe thead th {\n",
       "        text-align: right;\n",
       "    }\n",
       "</style>\n",
       "<table border=\"1\" class=\"dataframe\">\n",
       "  <thead>\n",
       "    <tr style=\"text-align: right;\">\n",
       "      <th></th>\n",
       "      <th>tariff</th>\n",
       "      <th>smart</th>\n",
       "      <th>ultra</th>\n",
       "    </tr>\n",
       "  </thead>\n",
       "  <tbody>\n",
       "    <tr>\n",
       "      <th rowspan=\"4\" valign=\"top\">mean</th>\n",
       "      <th>gb</th>\n",
       "      <td>16.0</td>\n",
       "      <td>19.0</td>\n",
       "    </tr>\n",
       "    <tr>\n",
       "      <th>messages</th>\n",
       "      <td>33.0</td>\n",
       "      <td>49.0</td>\n",
       "    </tr>\n",
       "    <tr>\n",
       "      <th>minutes</th>\n",
       "      <td>418.0</td>\n",
       "      <td>526.0</td>\n",
       "    </tr>\n",
       "    <tr>\n",
       "      <th>revenue</th>\n",
       "      <td>1290.0</td>\n",
       "      <td>2060.0</td>\n",
       "    </tr>\n",
       "    <tr>\n",
       "      <th rowspan=\"4\" valign=\"top\">median</th>\n",
       "      <th>gb</th>\n",
       "      <td>17.0</td>\n",
       "      <td>19.0</td>\n",
       "    </tr>\n",
       "    <tr>\n",
       "      <th>messages</th>\n",
       "      <td>28.0</td>\n",
       "      <td>38.0</td>\n",
       "    </tr>\n",
       "    <tr>\n",
       "      <th>minutes</th>\n",
       "      <td>422.0</td>\n",
       "      <td>518.0</td>\n",
       "    </tr>\n",
       "    <tr>\n",
       "      <th>revenue</th>\n",
       "      <td>1021.0</td>\n",
       "      <td>1950.0</td>\n",
       "    </tr>\n",
       "    <tr>\n",
       "      <th rowspan=\"4\" valign=\"top\">std</th>\n",
       "      <th>gb</th>\n",
       "      <td>6.0</td>\n",
       "      <td>10.0</td>\n",
       "    </tr>\n",
       "    <tr>\n",
       "      <th>messages</th>\n",
       "      <td>28.0</td>\n",
       "      <td>48.0</td>\n",
       "    </tr>\n",
       "    <tr>\n",
       "      <th>minutes</th>\n",
       "      <td>190.0</td>\n",
       "      <td>318.0</td>\n",
       "    </tr>\n",
       "    <tr>\n",
       "      <th>revenue</th>\n",
       "      <td>818.0</td>\n",
       "      <td>355.0</td>\n",
       "    </tr>\n",
       "    <tr>\n",
       "      <th rowspan=\"4\" valign=\"top\">var</th>\n",
       "      <th>gb</th>\n",
       "      <td>33.0</td>\n",
       "      <td>97.0</td>\n",
       "    </tr>\n",
       "    <tr>\n",
       "      <th>messages</th>\n",
       "      <td>797.0</td>\n",
       "      <td>2285.0</td>\n",
       "    </tr>\n",
       "    <tr>\n",
       "      <th>minutes</th>\n",
       "      <td>36281.0</td>\n",
       "      <td>101052.0</td>\n",
       "    </tr>\n",
       "    <tr>\n",
       "      <th>revenue</th>\n",
       "      <td>669731.0</td>\n",
       "      <td>125825.0</td>\n",
       "    </tr>\n",
       "  </tbody>\n",
       "</table>\n",
       "</div>"
      ],
      "text/plain": [
       "tariff              smart     ultra\n",
       "mean   gb            16.0      19.0\n",
       "       messages      33.0      49.0\n",
       "       minutes      418.0     526.0\n",
       "       revenue     1290.0    2060.0\n",
       "median gb            17.0      19.0\n",
       "       messages      28.0      38.0\n",
       "       minutes      422.0     518.0\n",
       "       revenue     1021.0    1950.0\n",
       "std    gb             6.0      10.0\n",
       "       messages      28.0      48.0\n",
       "       minutes      190.0     318.0\n",
       "       revenue      818.0     355.0\n",
       "var    gb            33.0      97.0\n",
       "       messages     797.0    2285.0\n",
       "       minutes    36281.0  101052.0\n",
       "       revenue   669731.0  125825.0"
      ]
     },
     "execution_count": 63,
     "metadata": {},
     "output_type": "execute_result"
    }
   ],
   "source": [
    "(\n",
    "    abonents\n",
    "         .pivot_table(index = 'tariff', values = ['minutes', 'messages', 'gb','revenue'], \n",
    "                                                                  aggfunc = ['mean', 'median', 'std', 'var'])\n",
    "         .round()\n",
    "        .transpose()\n",
    ")"
   ]
  },
  {
   "cell_type": "markdown",
   "metadata": {},
   "source": [
    "Исходя из полученных результатов и рассмотренных гистограмм делаем вывод, что наиболее выгодной продажей является тариф smart - меньше абонентская плата - но большое количество пользователей переплачивают за сообщения и интернет."
   ]
  },
  {
   "cell_type": "markdown",
   "metadata": {},
   "source": [
    "## Шаг 4. Проверьте гипотезы"
   ]
  },
  {
   "cell_type": "markdown",
   "metadata": {},
   "source": [
    "- средняя выручка пользователей тарифов «Ультра» и «Смарт» различаются;\n",
    "- средняя выручка пользователей из Москвы отличается от выручки пользователей из других регионов."
   ]
  },
  {
   "cell_type": "markdown",
   "metadata": {},
   "source": [
    "### Первая гипотеза"
   ]
  },
  {
   "cell_type": "markdown",
   "metadata": {},
   "source": [
    "H0  — средняя выручка пользователей тарифа «Ультра» равна средней выручке пользователей тарифа «Смарт».\n",
    "H1 — средняя выручка пользователей тарифов «Ультра» и «Смарт» различаются.\n",
    "α=1%"
   ]
  },
  {
   "cell_type": "code",
   "execution_count": 64,
   "metadata": {},
   "outputs": [
    {
     "name": "stdout",
     "output_type": "stream",
     "text": [
      "p-значение: 1.6156508226843834e-252\n",
      "Отвергаем нулевую гипотезу\n"
     ]
    }
   ],
   "source": [
    "ultra = abonents.query('tariff == \"ultra\"')['revenue']\n",
    "smart = abonents.query('tariff == \"smart\"')['revenue']\n",
    "\n",
    "alpha = .01\n",
    "\n",
    "results = st.ttest_ind(\n",
    "    ultra, \n",
    "    smart, \n",
    "    equal_var=False)\n",
    "\n",
    "print('p-значение:', results.pvalue)\n",
    "\n",
    "if (results.pvalue < alpha):\n",
    "    print(\"Отвергаем нулевую гипотезу\")\n",
    "else:\n",
    "    print(\"Не получилось отвергнуть нулевую гипотезу\")"
   ]
  },
  {
   "cell_type": "code",
   "execution_count": 65,
   "metadata": {},
   "outputs": [
    {
     "data": {
      "text/html": [
       "<div>\n",
       "<style scoped>\n",
       "    .dataframe tbody tr th:only-of-type {\n",
       "        vertical-align: middle;\n",
       "    }\n",
       "\n",
       "    .dataframe tbody tr th {\n",
       "        vertical-align: top;\n",
       "    }\n",
       "\n",
       "    .dataframe thead th {\n",
       "        text-align: right;\n",
       "    }\n",
       "</style>\n",
       "<table border=\"1\" class=\"dataframe\">\n",
       "  <thead>\n",
       "    <tr style=\"text-align: right;\">\n",
       "      <th></th>\n",
       "      <th>revenue</th>\n",
       "    </tr>\n",
       "    <tr>\n",
       "      <th>tariff</th>\n",
       "      <th></th>\n",
       "    </tr>\n",
       "  </thead>\n",
       "  <tbody>\n",
       "    <tr>\n",
       "      <th>smart</th>\n",
       "      <td>1021.0</td>\n",
       "    </tr>\n",
       "    <tr>\n",
       "      <th>ultra</th>\n",
       "      <td>1950.0</td>\n",
       "    </tr>\n",
       "  </tbody>\n",
       "</table>\n",
       "</div>"
      ],
      "text/plain": [
       "        revenue\n",
       "tariff         \n",
       "smart    1021.0\n",
       "ultra    1950.0"
      ]
     },
     "execution_count": 65,
     "metadata": {},
     "output_type": "execute_result"
    }
   ],
   "source": [
    "abonents.pivot_table(index='tariff', values='revenue', aggfunc='median')"
   ]
  },
  {
   "cell_type": "code",
   "execution_count": 66,
   "metadata": {},
   "outputs": [
    {
     "data": {
      "image/png": "[encoded data removed]",
      "text/plain": [
       "<Figure size 360x360 with 1 Axes>"
      ]
     },
     "metadata": {},
     "output_type": "display_data"
    }
   ],
   "source": [
    "import seaborn as sns\n",
    "sns.set(color_codes=True)\n",
    "snsplot = sns.catplot(x=\"tariff\", y='revenue', kind=\"box\", data=abonents, orient='v')"
   ]
  },
  {
   "cell_type": "markdown",
   "metadata": {},
   "source": [
    "Средние значения выручки по тарифам различаются почти в 2 раза. Если у пользователя подключен тариф smart с абонентской платой в 500 рублей, то он скорее всего по итогам месяца заплатит гораздо больше из-за нехватки услуг в рамках тарифного пакета.\n",
    "В заключение можно подтвердить с уверенностью 99%, что доходы \"Мегалайна\" с пользователя по тарифу ultra действительно отличаются по сравнению с доходами от тарифа smart."
   ]
  },
  {
   "cell_type": "markdown",
   "metadata": {},
   "source": [
    "### Вторая гипотеза"
   ]
  },
  {
   "cell_type": "markdown",
   "metadata": {},
   "source": [
    "H0  — средняя выручка пользователей из Москвы равна средней выручке пользователей из других регионов.\n",
    "H1 — средняя выручка пользователей из Москвы отличается от средней выручке пользователей из других регионов.\n",
    "α=1%"
   ]
  },
  {
   "cell_type": "code",
   "execution_count": 67,
   "metadata": {},
   "outputs": [
    {
     "name": "stdout",
     "output_type": "stream",
     "text": [
      "p-значение: 0.5411182259648013\n",
      "Не получилось отвергнуть нулевую гипотезу\n"
     ]
    }
   ],
   "source": [
    "moscow = abonents.query('city == \"Москва\"')['revenue']\n",
    "regions = abonents.query('city != \"Москва\"')['revenue']\n",
    "\n",
    "alpha = .01\n",
    "\n",
    "results = st.ttest_ind(\n",
    "    moscow, \n",
    "    regions, \n",
    "    equal_var=False)\n",
    "\n",
    "print('p-значение:', results.pvalue)\n",
    "\n",
    "if (results.pvalue < alpha):\n",
    "    print(\"Отвергаем нулевую гипотезу\")\n",
    "else:\n",
    "    print(\"Не получилось отвергнуть нулевую гипотезу\")"
   ]
  },
  {
   "cell_type": "markdown",
   "metadata": {},
   "source": [
    "P-значения используются при проверке истинности нулевых гипотез: чем оно меньше, тем больше вероятность, что мы отклоним нулевую гипотезу. В данном случае р-уровень значимости составил почти 54%, что значительно выше 5% => средняя выручка по Москве статистически значимо не отличается от средней выручки по другим регионам."
   ]
  },
  {
   "cell_type": "code",
   "execution_count": 68,
   "metadata": {},
   "outputs": [
    {
     "data": {
      "text/html": [
       "<div>\n",
       "<style scoped>\n",
       "    .dataframe tbody tr th:only-of-type {\n",
       "        vertical-align: middle;\n",
       "    }\n",
       "\n",
       "    .dataframe tbody tr th {\n",
       "        vertical-align: top;\n",
       "    }\n",
       "\n",
       "    .dataframe thead th {\n",
       "        text-align: right;\n",
       "    }\n",
       "</style>\n",
       "<table border=\"1\" class=\"dataframe\">\n",
       "  <thead>\n",
       "    <tr style=\"text-align: right;\">\n",
       "      <th></th>\n",
       "      <th>revenue</th>\n",
       "    </tr>\n",
       "    <tr>\n",
       "      <th>region</th>\n",
       "      <th></th>\n",
       "    </tr>\n",
       "  </thead>\n",
       "  <tbody>\n",
       "    <tr>\n",
       "      <th>Другой регион</th>\n",
       "      <td>1583.0</td>\n",
       "    </tr>\n",
       "    <tr>\n",
       "      <th>Москва</th>\n",
       "      <td>1750.0</td>\n",
       "    </tr>\n",
       "  </tbody>\n",
       "</table>\n",
       "</div>"
      ],
      "text/plain": [
       "               revenue\n",
       "region                \n",
       "Другой регион   1583.0\n",
       "Москва          1750.0"
      ]
     },
     "execution_count": 68,
     "metadata": {},
     "output_type": "execute_result"
    }
   ],
   "source": [
    "def det_region(city):\n",
    "    if city == 'Москва': return 'Москва'\n",
    "    else: return 'Другой регион'\n",
    "    \n",
    "abonents['region'] = abonents['city'].apply(det_region)\n",
    "abonents.pivot_table(index='region', values='revenue', aggfunc='median')"
   ]
  },
  {
   "cell_type": "code",
   "execution_count": 69,
   "metadata": {},
   "outputs": [
    {
     "data": {
      "image/png": "[encoded data removed]",
      "text/plain": [
       "<Figure size 360x360 with 1 Axes>"
      ]
     },
     "metadata": {},
     "output_type": "display_data"
    }
   ],
   "source": [
    "snsplot = sns.catplot(x=\"region\", y='revenue', kind=\"box\", data=abonents, orient='v')"
   ]
  },
  {
   "cell_type": "markdown",
   "metadata": {},
   "source": [
    "Данный статистический тест не дал возможности опровергунть исходную гипотезу о том, что доходы от пользователей из Москвы и из других регионов равны. Действительно, доходы в Московском регионе практически не отличаются от других населенных пунктов.\n",
    "\n",
    "Вывод: Таким образом мы принимаем нулевую гипотезу и говорим, что средняя выручка пользователей из Москвы равна выручке пользователей из других регионов. Поэтому утверждение из задания не подтвердилось."
   ]
  },
  {
   "cell_type": "markdown",
   "metadata": {},
   "source": [
    "### Сравнение двух тарифов "
   ]
  },
  {
   "cell_type": "code",
   "execution_count": 70,
   "metadata": {},
   "outputs": [
    {
     "data": {
      "text/plain": [
       "Index(['user_id', 'month', 'calls', 'minutes', 'messages', 'gb', 'city',\n",
       "       'tariff', 'revenue', 'region'],\n",
       "      dtype='object')"
      ]
     },
     "execution_count": 70,
     "metadata": {},
     "output_type": "execute_result"
    }
   ],
   "source": [
    "abonents.columns"
   ]
  },
  {
   "cell_type": "code",
   "execution_count": 71,
   "metadata": {},
   "outputs": [
    {
     "data": {
      "image/png": "[encoded data removed]",
      "text/plain": [
       "<Figure size 864x144 with 1 Axes>"
      ]
     },
     "metadata": {},
     "output_type": "display_data"
    },
    {
     "data": {
      "image/png": "[encoded data removed]",
      "text/plain": [
       "<Figure size 864x144 with 1 Axes>"
      ]
     },
     "metadata": {},
     "output_type": "display_data"
    },
    {
     "data": {
      "image/png": "[encoded data removed]",
      "text/plain": [
       "<Figure size 864x144 with 1 Axes>"
      ]
     },
     "metadata": {},
     "output_type": "display_data"
    },
    {
     "data": {
      "image/png": "[encoded data removed]",
      "text/plain": [
       "<Figure size 864x144 with 1 Axes>"
      ]
     },
     "metadata": {},
     "output_type": "display_data"
    }
   ],
   "source": [
    "for column in ['minutes', 'messages', 'gb','revenue']:    \n",
    "    g = sns.catplot(y='tariff', x=column, kind=\"box\", data=abonents, orient='h', palette = 'pastel')\n",
    "    g.fig.set_figwidth(12)\n",
    "    g.fig.set_figheight(2)"
   ]
  },
  {
   "cell_type": "code",
   "execution_count": 72,
   "metadata": {},
   "outputs": [
    {
     "data": {
      "image/png": "[encoded data removed]",
      "text/plain": [
       "<Figure size 720x288 with 1 Axes>"
      ]
     },
     "metadata": {},
     "output_type": "display_data"
    }
   ],
   "source": [
    "(abonents\n",
    " .pivot_table(index='tariff', columns='month', values='user_id', aggfunc='count')\n",
    " .T\n",
    " .plot(kind='line', figsize=(10,4),  style = 'o-')\n",
    ")\n",
    "plt.title('Рост кол-ва клиентов по 2-м тарифам за год'+ \"\\n\")\n",
    "plt.xlabel('Месяц')\n",
    "plt.ylabel('кол-во');"
   ]
  },
  {
   "cell_type": "code",
   "execution_count": 73,
   "metadata": {},
   "outputs": [
    {
     "data": {
      "image/png": "[encoded data removed]",
      "text/plain": [
       "<Figure size 720x288 with 1 Axes>"
      ]
     },
     "metadata": {},
     "output_type": "display_data"
    }
   ],
   "source": [
    "(abonents\n",
    " .pivot_table(index='tariff', columns='month', values='revenue', aggfunc='mean')\n",
    " .T\n",
    " .plot(kind='line', figsize=(10,4),  style = 'o-')\n",
    ")\n",
    "plt.title('Средняя ежемесячная выручка от одного абонента'+ \"\\n\")\n",
    "plt.xlabel('Месяц')\n",
    "plt.ylabel('Рубли');"
   ]
  },
  {
   "cell_type": "code",
   "execution_count": 74,
   "metadata": {},
   "outputs": [
    {
     "data": {
      "image/png": "[encoded data removed]",
      "text/plain": [
       "<Figure size 720x288 with 1 Axes>"
      ]
     },
     "metadata": {},
     "output_type": "display_data"
    }
   ],
   "source": [
    "(abonents\n",
    " .pivot_table(index='tariff', columns='month', values='revenue', aggfunc='sum')\n",
    " .T\n",
    " .plot(kind='line', figsize=(10,4),  style = 'o-')\n",
    ")\n",
    "plt.title('Суммарная ежемесячная выручка по 2-м тарифам'+ \"\\n\")\n",
    "plt.xlabel('Месяц')\n",
    "plt.ylabel('Рубли');"
   ]
  },
  {
   "cell_type": "code",
   "execution_count": 75,
   "metadata": {},
   "outputs": [
    {
     "name": "stdout",
     "output_type": "stream",
     "text": [
      "Выручка тарифа Ультра = 2030920.8837890625 13630.341501940016\n",
      "Выручка тарифа Смарт = 2875901.0 8193.450142450143\n"
     ]
    }
   ],
   "source": [
    "ultra_revenue = abonents.query('tariff ==\"ultra\"')['revenue'].sum()\n",
    "ultra_abonents = len(abonents.query('tariff ==\"ultra\"'))\n",
    "smart_revenue = abonents.query('tariff ==\"smart\"')['revenue'].sum()\n",
    "smart_abonents = len(abonents.query('tariff ==\"smart\"'))\n",
    "print(f'Выручка тарифа Ультра = {ultra_revenue} {ultra_revenue/149}')\n",
    "print(f'Выручка тарифа Смарт = {smart_revenue} {smart_revenue/351}')"
   ]
  },
  {
   "cell_type": "markdown",
   "metadata": {},
   "source": [
    "## Шаг 5. Напишите общий вывод"
   ]
  },
  {
   "cell_type": "markdown",
   "metadata": {},
   "source": [
    "### Вывод:\n",
    "- Рассмотрены все таблицы, проведен анализ данных и недороботок в них;\n",
    "- Изменены типы данных, проведена полная проверка соответствующая всем алгоритмам предобработки;\n",
    "- Добавлены необходимые для анализа расчеты;\n",
    "- Все таблицы объеденены в одну для удобства работы с данными;\n",
    "- Построены и проанализированы средние значения по каждому из пунктов (сообщения, мегабайты, звонки);\n",
    "- Проведена проверка полученных данных из рассчетов при помощи гистограмм;\n",
    "- Проверены гипотезы и подтверждены выводы."
   ]
  },
  {
   "cell_type": "markdown",
   "metadata": {},
   "source": [
    "В процессе анализа было выявлено:\n",
    "1) В тарифе smart подавляющее большинство абонентов укладываются в лимит. В тарифе ultra пользователи не используют свой пакет услуг в полном объеме. Также можно наблюдать, что расход минут постепенно возрастает в течение года. \n",
    "\n",
    "2) СМС - мало популярная услуга (много абонентов которых вообще не пишут СМС или почти не пишут). Абоненты тарифа smart вполне укладываются в лимит 50 СМС, даже абоненты тарифа ultra редко превышают порог в 50 СМС.\n",
    "\n",
    "3) А вот с интернет-трафиком другая ситуация. Абоненты smart любят посидеть в интернете и частенько привышают лимитв 15 Гб, даже среднее значение выше - 16 Гб.  Подавляющее большинство абонентов расходуют в месяц трафика от 11 до 23 ГБ\n",
    "\n",
    "4) По выручке можно сказать: что выручка абонентов ultra в подавляющем большинстве случаев ограничивается абонплатой(1950р), а абоненты smart напротив очень часто платят сверх абонплаты.\n",
    "\n",
    "5) В принципе многие абоненты ultra могли бы перейти на тариф smart и платили бы меньше - если исходить из усредненных значений.\n",
    "\n",
    "- Была создана таблица stat_df, куда записаны среднее, дисперсия и стандартное отклонение для 4 параметров (минуты разговора, СМС, кол-во интернет-трафика, выручка) по каждому тарифу Смарт и Ультра и по объединенным значениям обоих тарифов\n",
    "\n",
    "- Проверены две гипотезы:\n",
    "1) Гипотеза №1, где средняя выручка пользователей тарифов Ультра и Смарт отличается: данная гипотеза может быть подтверждена. Данные из выборок говорят о том, что скорее всего средняя выручка на разных тарифах отличается.\n",
    "2) Гипотеза №2, где средняя выручка пользователей из Москвы отличается от выручки пользователей из других регионов: данная гипотеза не может быть подтверждена, так как данные из выборки говорят о том, что скорее всего средняя выручка по регионам не отличается.\n",
    "\n",
    "В итоге можно рекомендовать оператору продвигать тариф Смарт. Он приносит больше выручки (это очень весомый фактор для оператора), его абоненты очень часто переплачивают сверх лимита, в отличие от абонентов Ультры, которые очень редко используют весь свой лимит. Также по абонентской плате он более привлекателен для абонентов - а это очень весомый фактор для потенциальных пользователей."
   ]
  }
 ],
 "metadata": {
  "ExecuteTimeLog": [
   {
    "duration": 1885,
    "start_time": "2022-05-10T13:16:14.750Z"
   },
   {
    "duration": 446,
    "start_time": "2022-05-10T13:16:56.486Z"
   },
   {
    "duration": 477,
    "start_time": "2022-05-10T13:31:50.851Z"
   },
   {
    "duration": 117,
    "start_time": "2022-05-10T13:33:36.140Z"
   },
   {
    "duration": 43,
    "start_time": "2022-05-10T13:33:45.502Z"
   },
   {
    "duration": 11,
    "start_time": "2022-05-10T13:34:14.842Z"
   },
   {
    "duration": 49,
    "start_time": "2022-05-10T13:34:21.167Z"
   },
   {
    "duration": 29,
    "start_time": "2022-05-10T13:34:52.986Z"
   },
   {
    "duration": 16,
    "start_time": "2022-05-10T13:35:27.902Z"
   },
   {
    "duration": 21,
    "start_time": "2022-05-10T13:35:49.714Z"
   },
   {
    "duration": 76,
    "start_time": "2022-05-10T13:50:08.444Z"
   },
   {
    "duration": 138,
    "start_time": "2022-05-10T13:51:55.151Z"
   },
   {
    "duration": 56,
    "start_time": "2022-05-10T13:54:17.555Z"
   },
   {
    "duration": 39,
    "start_time": "2022-05-10T14:03:18.547Z"
   },
   {
    "duration": 3,
    "start_time": "2022-05-10T14:29:36.082Z"
   },
   {
    "duration": 3,
    "start_time": "2022-05-10T14:30:04.990Z"
   },
   {
    "duration": 674,
    "start_time": "2022-05-10T14:30:32.138Z"
   },
   {
    "duration": 195,
    "start_time": "2022-05-10T14:32:17.450Z"
   },
   {
    "duration": 5,
    "start_time": "2022-05-10T14:32:26.461Z"
   },
   {
    "duration": 57,
    "start_time": "2022-05-10T14:32:52.682Z"
   },
   {
    "duration": 3,
    "start_time": "2022-05-10T14:33:04.569Z"
   },
   {
    "duration": 9,
    "start_time": "2022-05-10T14:33:52.105Z"
   },
   {
    "duration": 9,
    "start_time": "2022-05-10T14:33:53.501Z"
   },
   {
    "duration": 9,
    "start_time": "2022-05-10T14:33:54.861Z"
   },
   {
    "duration": 11,
    "start_time": "2022-05-10T14:34:02.025Z"
   },
   {
    "duration": 5,
    "start_time": "2022-05-10T14:34:30.373Z"
   },
   {
    "duration": 9,
    "start_time": "2022-05-10T14:34:49.293Z"
   },
   {
    "duration": 11,
    "start_time": "2022-05-10T14:35:30.786Z"
   },
   {
    "duration": 15,
    "start_time": "2022-05-10T14:36:19.144Z"
   },
   {
    "duration": 2796,
    "start_time": "2022-05-10T14:37:10.889Z"
   },
   {
    "duration": 146,
    "start_time": "2022-05-10T14:39:15.103Z"
   },
   {
    "duration": 1789,
    "start_time": "2022-05-12T15:28:14.509Z"
   },
   {
    "duration": 42,
    "start_time": "2022-05-12T15:28:16.301Z"
   },
   {
    "duration": 34,
    "start_time": "2022-05-12T15:28:16.344Z"
   },
   {
    "duration": 29,
    "start_time": "2022-05-12T15:28:16.380Z"
   },
   {
    "duration": 37,
    "start_time": "2022-05-12T15:28:16.411Z"
   },
   {
    "duration": 22,
    "start_time": "2022-05-12T15:28:16.449Z"
   },
   {
    "duration": 107,
    "start_time": "2022-05-12T15:28:16.473Z"
   },
   {
    "duration": 151,
    "start_time": "2022-05-12T15:28:16.582Z"
   },
   {
    "duration": 62,
    "start_time": "2022-05-12T15:28:16.735Z"
   },
   {
    "duration": 2,
    "start_time": "2022-05-12T15:28:16.800Z"
   },
   {
    "duration": 60,
    "start_time": "2022-05-12T15:28:16.804Z"
   },
   {
    "duration": 3,
    "start_time": "2022-05-12T15:28:16.865Z"
   },
   {
    "duration": 8,
    "start_time": "2022-05-12T15:28:16.870Z"
   },
   {
    "duration": 57,
    "start_time": "2022-05-12T15:28:16.879Z"
   },
   {
    "duration": 3,
    "start_time": "2022-05-12T15:28:16.937Z"
   },
   {
    "duration": 13,
    "start_time": "2022-05-12T15:28:16.942Z"
   },
   {
    "duration": 8,
    "start_time": "2022-05-12T15:28:16.956Z"
   },
   {
    "duration": 8,
    "start_time": "2022-05-12T15:28:16.966Z"
   },
   {
    "duration": 4,
    "start_time": "2022-05-12T15:28:16.976Z"
   },
   {
    "duration": 10,
    "start_time": "2022-05-12T15:28:16.982Z"
   },
   {
    "duration": 46,
    "start_time": "2022-05-12T15:28:16.994Z"
   },
   {
    "duration": 143,
    "start_time": "2022-05-12T15:28:17.041Z"
   },
   {
    "duration": 135,
    "start_time": "2022-05-12T15:33:38.552Z"
   },
   {
    "duration": 3,
    "start_time": "2022-05-12T15:35:43.367Z"
   },
   {
    "duration": 11,
    "start_time": "2022-05-12T15:35:52.255Z"
   },
   {
    "duration": 5,
    "start_time": "2022-05-12T16:11:46.779Z"
   },
   {
    "duration": 201,
    "start_time": "2022-05-12T16:13:45.407Z"
   },
   {
    "duration": 235,
    "start_time": "2022-05-12T16:13:55.279Z"
   },
   {
    "duration": 175,
    "start_time": "2022-05-12T16:14:27.211Z"
   },
   {
    "duration": 1121,
    "start_time": "2022-05-12T16:15:59.167Z"
   },
   {
    "duration": 23,
    "start_time": "2022-05-12T16:16:22.739Z"
   },
   {
    "duration": 16,
    "start_time": "2022-05-12T16:21:09.919Z"
   },
   {
    "duration": 5,
    "start_time": "2022-05-12T16:21:41.703Z"
   },
   {
    "duration": 26,
    "start_time": "2022-05-12T16:28:30.495Z"
   },
   {
    "duration": 439,
    "start_time": "2022-05-12T16:28:38.444Z"
   },
   {
    "duration": 37,
    "start_time": "2022-05-12T16:28:38.885Z"
   },
   {
    "duration": 35,
    "start_time": "2022-05-12T16:28:38.924Z"
   },
   {
    "duration": 27,
    "start_time": "2022-05-12T16:28:38.962Z"
   },
   {
    "duration": 44,
    "start_time": "2022-05-12T16:28:38.991Z"
   },
   {
    "duration": 23,
    "start_time": "2022-05-12T16:28:39.036Z"
   },
   {
    "duration": 1177,
    "start_time": "2022-05-12T16:28:39.061Z"
   },
   {
    "duration": 29,
    "start_time": "2022-05-12T16:28:40.240Z"
   },
   {
    "duration": 80,
    "start_time": "2022-05-12T16:29:27.835Z"
   },
   {
    "duration": 125,
    "start_time": "2022-05-12T16:30:18.351Z"
   },
   {
    "duration": 166,
    "start_time": "2022-05-12T16:30:34.002Z"
   },
   {
    "duration": 25,
    "start_time": "2022-05-12T16:30:44.852Z"
   },
   {
    "duration": 43,
    "start_time": "2022-05-12T16:31:55.338Z"
   },
   {
    "duration": 65,
    "start_time": "2022-05-12T16:35:28.179Z"
   },
   {
    "duration": 46,
    "start_time": "2022-05-12T16:35:56.071Z"
   },
   {
    "duration": 114,
    "start_time": "2022-05-12T16:37:33.831Z"
   },
   {
    "duration": 61,
    "start_time": "2022-05-12T16:39:25.422Z"
   },
   {
    "duration": 90,
    "start_time": "2022-05-12T16:39:28.422Z"
   },
   {
    "duration": 27,
    "start_time": "2022-05-12T16:39:31.503Z"
   },
   {
    "duration": 88,
    "start_time": "2022-05-12T16:40:32.823Z"
   },
   {
    "duration": 39,
    "start_time": "2022-05-12T16:40:33.487Z"
   },
   {
    "duration": 98,
    "start_time": "2022-05-12T16:41:03.614Z"
   },
   {
    "duration": 33,
    "start_time": "2022-05-12T16:42:18.139Z"
   },
   {
    "duration": 7,
    "start_time": "2022-05-12T16:42:27.706Z"
   },
   {
    "duration": 116,
    "start_time": "2022-05-12T16:44:57.516Z"
   },
   {
    "duration": 14,
    "start_time": "2022-05-12T16:45:48.522Z"
   },
   {
    "duration": 2666,
    "start_time": "2022-05-12T16:46:06.314Z"
   },
   {
    "duration": 2737,
    "start_time": "2022-05-12T16:46:35.238Z"
   },
   {
    "duration": 2962,
    "start_time": "2022-05-12T16:46:54.838Z"
   },
   {
    "duration": 118,
    "start_time": "2022-05-12T16:47:19.562Z"
   },
   {
    "duration": 139,
    "start_time": "2022-05-12T16:48:10.542Z"
   },
   {
    "duration": 115,
    "start_time": "2022-05-12T16:48:42.626Z"
   },
   {
    "duration": 32,
    "start_time": "2022-05-12T16:48:47.494Z"
   },
   {
    "duration": 17,
    "start_time": "2022-05-12T16:51:12.474Z"
   },
   {
    "duration": 191,
    "start_time": "2022-05-12T16:52:26.006Z"
   },
   {
    "duration": 149,
    "start_time": "2022-05-12T16:52:35.554Z"
   },
   {
    "duration": 183,
    "start_time": "2022-05-12T16:53:17.906Z"
   },
   {
    "duration": 179,
    "start_time": "2022-05-12T16:54:50.363Z"
   },
   {
    "duration": 18,
    "start_time": "2022-05-12T16:54:54.134Z"
   },
   {
    "duration": 170,
    "start_time": "2022-05-12T16:55:07.682Z"
   },
   {
    "duration": 10,
    "start_time": "2022-05-12T16:59:23.498Z"
   },
   {
    "duration": 10,
    "start_time": "2022-05-12T16:59:52.130Z"
   },
   {
    "duration": 11,
    "start_time": "2022-05-12T17:00:11.470Z"
   },
   {
    "duration": 11,
    "start_time": "2022-05-12T17:00:45.750Z"
   },
   {
    "duration": 302,
    "start_time": "2022-05-12T17:01:23.070Z"
   },
   {
    "duration": 227,
    "start_time": "2022-05-12T17:01:50.562Z"
   },
   {
    "duration": 217,
    "start_time": "2022-05-12T17:02:04.158Z"
   },
   {
    "duration": 192,
    "start_time": "2022-05-12T17:02:13.998Z"
   },
   {
    "duration": 12,
    "start_time": "2022-05-12T17:03:21.547Z"
   },
   {
    "duration": 192,
    "start_time": "2022-05-12T17:03:22.817Z"
   },
   {
    "duration": 9,
    "start_time": "2022-05-12T17:06:04.090Z"
   },
   {
    "duration": 202,
    "start_time": "2022-05-12T17:06:17.014Z"
   },
   {
    "duration": 202,
    "start_time": "2022-05-12T17:06:34.162Z"
   },
   {
    "duration": 212,
    "start_time": "2022-05-12T17:07:00.538Z"
   },
   {
    "duration": 7,
    "start_time": "2022-05-12T17:08:59.285Z"
   },
   {
    "duration": 12,
    "start_time": "2022-05-12T17:10:47.160Z"
   },
   {
    "duration": 192,
    "start_time": "2022-05-12T17:11:25.409Z"
   },
   {
    "duration": 184,
    "start_time": "2022-05-12T17:11:41.877Z"
   },
   {
    "duration": 7,
    "start_time": "2022-05-12T17:12:04.998Z"
   },
   {
    "duration": 12,
    "start_time": "2022-05-12T17:14:45.532Z"
   },
   {
    "duration": 13,
    "start_time": "2022-05-12T17:15:30.311Z"
   },
   {
    "duration": 10,
    "start_time": "2022-05-12T17:15:45.095Z"
   },
   {
    "duration": 9,
    "start_time": "2022-05-12T17:15:53.203Z"
   },
   {
    "duration": 454,
    "start_time": "2022-05-12T17:16:14.899Z"
   },
   {
    "duration": 298,
    "start_time": "2022-05-12T17:16:27.247Z"
   },
   {
    "duration": 313,
    "start_time": "2022-05-12T17:16:59.426Z"
   },
   {
    "duration": 4,
    "start_time": "2022-05-12T17:17:22.387Z"
   },
   {
    "duration": 12,
    "start_time": "2022-05-12T17:19:31.986Z"
   },
   {
    "duration": 16,
    "start_time": "2022-05-12T17:20:02.766Z"
   },
   {
    "duration": 13,
    "start_time": "2022-05-12T17:20:20.566Z"
   },
   {
    "duration": 308,
    "start_time": "2022-05-12T17:20:29.645Z"
   },
   {
    "duration": 49,
    "start_time": "2022-05-13T12:23:19.134Z"
   },
   {
    "duration": 6,
    "start_time": "2022-05-13T12:23:32.524Z"
   },
   {
    "duration": 1695,
    "start_time": "2022-05-13T12:23:39.316Z"
   },
   {
    "duration": 37,
    "start_time": "2022-05-13T12:23:41.013Z"
   },
   {
    "duration": 30,
    "start_time": "2022-05-13T12:23:41.051Z"
   },
   {
    "duration": 25,
    "start_time": "2022-05-13T12:23:41.083Z"
   },
   {
    "duration": 15,
    "start_time": "2022-05-13T12:23:41.110Z"
   },
   {
    "duration": 20,
    "start_time": "2022-05-13T12:23:41.127Z"
   },
   {
    "duration": 102,
    "start_time": "2022-05-13T12:23:41.149Z"
   },
   {
    "duration": 67,
    "start_time": "2022-05-13T12:23:41.253Z"
   },
   {
    "duration": 115,
    "start_time": "2022-05-13T12:23:41.322Z"
   },
   {
    "duration": 25,
    "start_time": "2022-05-13T12:23:41.439Z"
   },
   {
    "duration": 46,
    "start_time": "2022-05-13T12:23:41.465Z"
   },
   {
    "duration": 109,
    "start_time": "2022-05-13T12:23:41.512Z"
   },
   {
    "duration": 26,
    "start_time": "2022-05-13T12:23:41.622Z"
   },
   {
    "duration": 4,
    "start_time": "2022-05-13T12:23:41.650Z"
   },
   {
    "duration": 184,
    "start_time": "2022-05-13T12:23:41.656Z"
   },
   {
    "duration": 160,
    "start_time": "2022-05-13T12:23:41.841Z"
   },
   {
    "duration": 165,
    "start_time": "2022-05-13T12:23:42.003Z"
   },
   {
    "duration": 21,
    "start_time": "2022-05-13T12:23:42.170Z"
   },
   {
    "duration": 182,
    "start_time": "2022-05-13T12:23:42.192Z"
   },
   {
    "duration": 15,
    "start_time": "2022-05-13T12:23:42.375Z"
   },
   {
    "duration": 174,
    "start_time": "2022-05-13T12:23:42.392Z"
   },
   {
    "duration": 6,
    "start_time": "2022-05-13T12:23:42.568Z"
   },
   {
    "duration": 17,
    "start_time": "2022-05-13T12:23:42.575Z"
   },
   {
    "duration": 178,
    "start_time": "2022-05-13T12:23:42.594Z"
   },
   {
    "duration": 18,
    "start_time": "2022-05-13T12:23:42.774Z"
   },
   {
    "duration": 15,
    "start_time": "2022-05-13T12:23:42.793Z"
   },
   {
    "duration": 19,
    "start_time": "2022-05-13T12:23:42.810Z"
   },
   {
    "duration": 388,
    "start_time": "2022-05-13T12:23:42.832Z"
   },
   {
    "duration": 12,
    "start_time": "2022-05-13T12:23:43.221Z"
   },
   {
    "duration": 18,
    "start_time": "2022-05-13T12:23:43.234Z"
   },
   {
    "duration": 399,
    "start_time": "2022-05-13T12:23:43.254Z"
   },
   {
    "duration": 5,
    "start_time": "2022-05-13T12:23:57.835Z"
   },
   {
    "duration": 3,
    "start_time": "2022-05-13T12:24:03.744Z"
   },
   {
    "duration": 2,
    "start_time": "2022-05-13T12:24:08.775Z"
   },
   {
    "duration": 27,
    "start_time": "2022-05-13T12:24:13.124Z"
   },
   {
    "duration": 4,
    "start_time": "2022-05-13T12:24:19.105Z"
   },
   {
    "duration": 18,
    "start_time": "2022-05-13T12:25:04.195Z"
   },
   {
    "duration": 14,
    "start_time": "2022-05-13T12:25:13.785Z"
   },
   {
    "duration": 13,
    "start_time": "2022-05-13T12:26:01.455Z"
   },
   {
    "duration": 117,
    "start_time": "2022-05-13T12:29:39.314Z"
   },
   {
    "duration": 5,
    "start_time": "2022-05-13T12:29:49.642Z"
   },
   {
    "duration": 102,
    "start_time": "2022-05-13T12:29:59.190Z"
   },
   {
    "duration": 6,
    "start_time": "2022-05-13T12:32:46.924Z"
   },
   {
    "duration": 5,
    "start_time": "2022-05-13T12:34:22.073Z"
   },
   {
    "duration": 37,
    "start_time": "2022-05-13T12:34:38.365Z"
   },
   {
    "duration": 31,
    "start_time": "2022-05-13T12:34:54.314Z"
   },
   {
    "duration": 34,
    "start_time": "2022-05-13T12:35:58.364Z"
   },
   {
    "duration": 34,
    "start_time": "2022-05-13T12:36:17.172Z"
   },
   {
    "duration": 185,
    "start_time": "2022-05-13T12:42:34.233Z"
   },
   {
    "duration": 187,
    "start_time": "2022-05-13T12:42:51.034Z"
   },
   {
    "duration": 184,
    "start_time": "2022-05-13T12:42:59.264Z"
   },
   {
    "duration": 1577,
    "start_time": "2022-05-13T12:43:32.054Z"
   },
   {
    "duration": 1551,
    "start_time": "2022-05-13T12:43:41.578Z"
   },
   {
    "duration": 38,
    "start_time": "2022-05-13T12:43:43.131Z"
   },
   {
    "duration": 31,
    "start_time": "2022-05-13T12:43:43.171Z"
   },
   {
    "duration": 23,
    "start_time": "2022-05-13T12:43:43.203Z"
   },
   {
    "duration": 15,
    "start_time": "2022-05-13T12:43:43.228Z"
   },
   {
    "duration": 22,
    "start_time": "2022-05-13T12:43:43.245Z"
   },
   {
    "duration": 76,
    "start_time": "2022-05-13T12:43:43.289Z"
   },
   {
    "duration": 67,
    "start_time": "2022-05-13T12:43:43.367Z"
   },
   {
    "duration": 120,
    "start_time": "2022-05-13T12:43:43.436Z"
   },
   {
    "duration": 34,
    "start_time": "2022-05-13T12:43:43.558Z"
   },
   {
    "duration": 28,
    "start_time": "2022-05-13T12:43:43.594Z"
   },
   {
    "duration": 118,
    "start_time": "2022-05-13T12:43:43.624Z"
   },
   {
    "duration": 29,
    "start_time": "2022-05-13T12:43:43.743Z"
   },
   {
    "duration": 14,
    "start_time": "2022-05-13T12:43:43.775Z"
   },
   {
    "duration": 14,
    "start_time": "2022-05-13T12:43:43.791Z"
   },
   {
    "duration": 196,
    "start_time": "2022-05-13T12:43:43.807Z"
   },
   {
    "duration": 157,
    "start_time": "2022-05-13T12:43:44.004Z"
   },
   {
    "duration": 163,
    "start_time": "2022-05-13T12:43:44.162Z"
   },
   {
    "duration": 11,
    "start_time": "2022-05-13T12:43:44.326Z"
   },
   {
    "duration": 195,
    "start_time": "2022-05-13T12:43:44.338Z"
   },
   {
    "duration": 7,
    "start_time": "2022-05-13T12:43:44.535Z"
   },
   {
    "duration": 190,
    "start_time": "2022-05-13T12:43:44.544Z"
   },
   {
    "duration": 8,
    "start_time": "2022-05-13T12:43:44.736Z"
   },
   {
    "duration": 9,
    "start_time": "2022-05-13T12:43:44.745Z"
   },
   {
    "duration": 204,
    "start_time": "2022-05-13T12:43:44.755Z"
   },
   {
    "duration": 8,
    "start_time": "2022-05-13T12:43:44.961Z"
   },
   {
    "duration": 48,
    "start_time": "2022-05-13T12:43:44.971Z"
   },
   {
    "duration": 14,
    "start_time": "2022-05-13T12:43:45.021Z"
   },
   {
    "duration": 19,
    "start_time": "2022-05-13T12:43:45.037Z"
   },
   {
    "duration": 366,
    "start_time": "2022-05-13T12:43:45.057Z"
   },
   {
    "duration": 11,
    "start_time": "2022-05-13T12:43:45.425Z"
   },
   {
    "duration": 16,
    "start_time": "2022-05-13T12:43:45.437Z"
   },
   {
    "duration": 410,
    "start_time": "2022-05-13T12:43:45.455Z"
   },
   {
    "duration": 2,
    "start_time": "2022-05-13T12:43:45.867Z"
   },
   {
    "duration": 26,
    "start_time": "2022-05-13T12:43:45.870Z"
   },
   {
    "duration": 1524,
    "start_time": "2022-05-13T12:43:45.898Z"
   },
   {
    "duration": 201,
    "start_time": "2022-05-13T12:43:47.424Z"
   },
   {
    "duration": 201,
    "start_time": "2022-05-13T12:43:47.627Z"
   },
   {
    "duration": 196,
    "start_time": "2022-05-13T12:43:47.830Z"
   },
   {
    "duration": 39,
    "start_time": "2022-05-13T12:43:48.028Z"
   },
   {
    "duration": 219,
    "start_time": "2022-05-13T12:47:17.484Z"
   },
   {
    "duration": 1534,
    "start_time": "2022-05-13T12:48:09.097Z"
   },
   {
    "duration": 37,
    "start_time": "2022-05-13T12:48:10.633Z"
   },
   {
    "duration": 29,
    "start_time": "2022-05-13T12:48:10.671Z"
   },
   {
    "duration": 23,
    "start_time": "2022-05-13T12:48:10.702Z"
   },
   {
    "duration": 13,
    "start_time": "2022-05-13T12:48:10.727Z"
   },
   {
    "duration": 18,
    "start_time": "2022-05-13T12:48:10.742Z"
   },
   {
    "duration": 100,
    "start_time": "2022-05-13T12:48:10.761Z"
   },
   {
    "duration": 70,
    "start_time": "2022-05-13T12:48:10.863Z"
   },
   {
    "duration": 117,
    "start_time": "2022-05-13T12:48:10.935Z"
   },
   {
    "duration": 24,
    "start_time": "2022-05-13T12:48:11.053Z"
   },
   {
    "duration": 36,
    "start_time": "2022-05-13T12:48:11.079Z"
   },
   {
    "duration": 116,
    "start_time": "2022-05-13T12:48:11.117Z"
   },
   {
    "duration": 27,
    "start_time": "2022-05-13T12:48:11.235Z"
   },
   {
    "duration": 4,
    "start_time": "2022-05-13T12:48:11.265Z"
   },
   {
    "duration": 24,
    "start_time": "2022-05-13T12:48:11.270Z"
   },
   {
    "duration": 182,
    "start_time": "2022-05-13T12:48:11.295Z"
   },
   {
    "duration": 156,
    "start_time": "2022-05-13T12:48:11.478Z"
   },
   {
    "duration": 161,
    "start_time": "2022-05-13T12:48:11.636Z"
   },
   {
    "duration": 11,
    "start_time": "2022-05-13T12:48:11.799Z"
   },
   {
    "duration": 192,
    "start_time": "2022-05-13T12:48:11.811Z"
   },
   {
    "duration": 8,
    "start_time": "2022-05-13T12:48:12.005Z"
   },
   {
    "duration": 176,
    "start_time": "2022-05-13T12:48:12.014Z"
   },
   {
    "duration": 375,
    "start_time": "2022-05-13T12:48:12.191Z"
   },
   {
    "duration": 7,
    "start_time": "2022-05-13T12:48:12.568Z"
   },
   {
    "duration": 8,
    "start_time": "2022-05-13T12:48:12.588Z"
   },
   {
    "duration": 175,
    "start_time": "2022-05-13T12:48:12.598Z"
   },
   {
    "duration": 15,
    "start_time": "2022-05-13T12:48:12.775Z"
   },
   {
    "duration": 131,
    "start_time": "2022-05-13T12:48:12.791Z"
   },
   {
    "duration": 10,
    "start_time": "2022-05-13T12:48:12.924Z"
   },
   {
    "duration": 14,
    "start_time": "2022-05-13T12:48:12.936Z"
   },
   {
    "duration": 349,
    "start_time": "2022-05-13T12:48:12.951Z"
   },
   {
    "duration": 12,
    "start_time": "2022-05-13T12:48:13.301Z"
   },
   {
    "duration": 15,
    "start_time": "2022-05-13T12:48:13.314Z"
   },
   {
    "duration": 330,
    "start_time": "2022-05-13T12:48:13.331Z"
   },
   {
    "duration": 3,
    "start_time": "2022-05-13T12:48:13.662Z"
   },
   {
    "duration": 7,
    "start_time": "2022-05-13T12:48:13.667Z"
   },
   {
    "duration": 1536,
    "start_time": "2022-05-13T12:48:13.688Z"
   },
   {
    "duration": 203,
    "start_time": "2022-05-13T12:48:15.226Z"
   },
   {
    "duration": 203,
    "start_time": "2022-05-13T12:48:15.431Z"
   },
   {
    "duration": 292,
    "start_time": "2022-05-13T12:48:15.636Z"
   },
   {
    "duration": 36,
    "start_time": "2022-05-13T12:48:15.932Z"
   },
   {
    "duration": 68,
    "start_time": "2022-05-14T06:00:51.434Z"
   },
   {
    "duration": 2132,
    "start_time": "2022-05-14T06:00:56.778Z"
   },
   {
    "duration": 49,
    "start_time": "2022-05-14T06:00:58.913Z"
   },
   {
    "duration": 48,
    "start_time": "2022-05-14T06:00:58.964Z"
   },
   {
    "duration": 32,
    "start_time": "2022-05-14T06:00:59.015Z"
   },
   {
    "duration": 46,
    "start_time": "2022-05-14T06:00:59.049Z"
   },
   {
    "duration": 31,
    "start_time": "2022-05-14T06:00:59.097Z"
   },
   {
    "duration": 10,
    "start_time": "2022-05-14T06:00:59.130Z"
   },
   {
    "duration": 136,
    "start_time": "2022-05-14T06:00:59.142Z"
   },
   {
    "duration": 82,
    "start_time": "2022-05-14T06:00:59.280Z"
   },
   {
    "duration": 150,
    "start_time": "2022-05-14T06:00:59.365Z"
   },
   {
    "duration": 38,
    "start_time": "2022-05-14T06:00:59.517Z"
   },
   {
    "duration": 68,
    "start_time": "2022-05-14T06:00:59.556Z"
   },
   {
    "duration": 178,
    "start_time": "2022-05-14T06:00:59.626Z"
   },
   {
    "duration": 41,
    "start_time": "2022-05-14T06:00:59.806Z"
   },
   {
    "duration": 6,
    "start_time": "2022-05-14T06:00:59.849Z"
   },
   {
    "duration": 17,
    "start_time": "2022-05-14T06:00:59.857Z"
   },
   {
    "duration": 281,
    "start_time": "2022-05-14T06:00:59.876Z"
   },
   {
    "duration": 237,
    "start_time": "2022-05-14T06:01:00.160Z"
   },
   {
    "duration": 256,
    "start_time": "2022-05-14T06:01:00.400Z"
   },
   {
    "duration": 15,
    "start_time": "2022-05-14T06:01:00.658Z"
   },
   {
    "duration": 290,
    "start_time": "2022-05-14T06:01:00.675Z"
   },
   {
    "duration": 12,
    "start_time": "2022-05-14T06:01:00.967Z"
   },
   {
    "duration": 430,
    "start_time": "2022-05-14T06:01:00.981Z"
   },
   {
    "duration": 596,
    "start_time": "2022-05-14T06:01:01.413Z"
   },
   {
    "duration": 10,
    "start_time": "2022-05-14T06:01:02.011Z"
   },
   {
    "duration": 17,
    "start_time": "2022-05-14T06:01:02.023Z"
   },
   {
    "duration": 287,
    "start_time": "2022-05-14T06:01:02.042Z"
   },
   {
    "duration": 10,
    "start_time": "2022-05-14T06:01:02.333Z"
   },
   {
    "duration": 142,
    "start_time": "2022-05-14T06:01:02.345Z"
   },
   {
    "duration": 16,
    "start_time": "2022-05-14T06:01:02.493Z"
   },
   {
    "duration": 24,
    "start_time": "2022-05-14T06:01:02.512Z"
   },
   {
    "duration": 562,
    "start_time": "2022-05-14T06:01:02.538Z"
   },
   {
    "duration": 15,
    "start_time": "2022-05-14T06:01:03.102Z"
   },
   {
    "duration": 22,
    "start_time": "2022-05-14T06:01:03.119Z"
   },
   {
    "duration": 440,
    "start_time": "2022-05-14T06:01:03.144Z"
   },
   {
    "duration": 6,
    "start_time": "2022-05-14T06:01:03.587Z"
   },
   {
    "duration": 17,
    "start_time": "2022-05-14T06:01:03.595Z"
   },
   {
    "duration": 2323,
    "start_time": "2022-05-14T06:01:03.615Z"
   },
   {
    "duration": 309,
    "start_time": "2022-05-14T06:01:05.940Z"
   },
   {
    "duration": 315,
    "start_time": "2022-05-14T06:01:06.252Z"
   },
   {
    "duration": 387,
    "start_time": "2022-05-14T06:01:06.569Z"
   },
   {
    "duration": 48,
    "start_time": "2022-05-14T06:01:06.959Z"
   },
   {
    "duration": 217,
    "start_time": "2022-05-14T06:03:31.302Z"
   },
   {
    "duration": 247,
    "start_time": "2022-05-14T06:03:41.878Z"
   },
   {
    "duration": 269,
    "start_time": "2022-05-14T06:07:23.382Z"
   },
   {
    "duration": 11,
    "start_time": "2022-05-14T06:07:26.854Z"
   },
   {
    "duration": 3132,
    "start_time": "2022-05-14T06:08:31.754Z"
   },
   {
    "duration": 7,
    "start_time": "2022-05-14T06:09:09.558Z"
   },
   {
    "duration": 7,
    "start_time": "2022-05-14T06:09:41.071Z"
   },
   {
    "duration": 11,
    "start_time": "2022-05-14T06:12:54.598Z"
   },
   {
    "duration": 7,
    "start_time": "2022-05-14T06:13:02.989Z"
   },
   {
    "duration": 513,
    "start_time": "2022-05-14T06:13:19.213Z"
   },
   {
    "duration": 45,
    "start_time": "2022-05-14T06:13:19.729Z"
   },
   {
    "duration": 40,
    "start_time": "2022-05-14T06:13:19.777Z"
   },
   {
    "duration": 33,
    "start_time": "2022-05-14T06:13:19.820Z"
   },
   {
    "duration": 42,
    "start_time": "2022-05-14T06:13:19.856Z"
   },
   {
    "duration": 36,
    "start_time": "2022-05-14T06:13:19.900Z"
   },
   {
    "duration": 296,
    "start_time": "2022-05-14T06:13:19.938Z"
   },
   {
    "duration": 9,
    "start_time": "2022-05-14T06:13:20.236Z"
   },
   {
    "duration": 12,
    "start_time": "2022-05-14T06:13:20.247Z"
   },
   {
    "duration": 130,
    "start_time": "2022-05-14T06:13:20.263Z"
   },
   {
    "duration": 72,
    "start_time": "2022-05-14T06:13:20.395Z"
   },
   {
    "duration": 163,
    "start_time": "2022-05-14T06:13:20.470Z"
   },
   {
    "duration": 37,
    "start_time": "2022-05-14T06:13:20.636Z"
   },
   {
    "duration": 60,
    "start_time": "2022-05-14T06:13:20.675Z"
   },
   {
    "duration": 185,
    "start_time": "2022-05-14T06:13:20.737Z"
   },
   {
    "duration": 41,
    "start_time": "2022-05-14T06:13:20.925Z"
   },
   {
    "duration": 26,
    "start_time": "2022-05-14T06:13:20.968Z"
   },
   {
    "duration": 19,
    "start_time": "2022-05-14T06:13:20.996Z"
   },
   {
    "duration": 279,
    "start_time": "2022-05-14T06:13:21.017Z"
   },
   {
    "duration": 248,
    "start_time": "2022-05-14T06:13:21.298Z"
   },
   {
    "duration": 253,
    "start_time": "2022-05-14T06:13:21.549Z"
   },
   {
    "duration": 15,
    "start_time": "2022-05-14T06:13:21.804Z"
   },
   {
    "duration": 317,
    "start_time": "2022-05-14T06:13:21.821Z"
   },
   {
    "duration": 11,
    "start_time": "2022-05-14T06:13:22.140Z"
   },
   {
    "duration": 319,
    "start_time": "2022-05-14T06:13:22.154Z"
   },
   {
    "duration": 623,
    "start_time": "2022-05-14T06:13:22.477Z"
   },
   {
    "duration": 10,
    "start_time": "2022-05-14T06:13:23.103Z"
   },
   {
    "duration": 10,
    "start_time": "2022-05-14T06:13:23.120Z"
   },
   {
    "duration": 326,
    "start_time": "2022-05-14T06:13:23.132Z"
   },
   {
    "duration": 9,
    "start_time": "2022-05-14T06:13:23.461Z"
   },
   {
    "duration": 66,
    "start_time": "2022-05-14T06:13:23.472Z"
   },
   {
    "duration": 118,
    "start_time": "2022-05-14T06:13:23.540Z"
   },
   {
    "duration": 34,
    "start_time": "2022-05-14T06:13:23.660Z"
   },
   {
    "duration": 391,
    "start_time": "2022-05-14T06:13:23.697Z"
   },
   {
    "duration": 16,
    "start_time": "2022-05-14T06:13:24.090Z"
   },
   {
    "duration": 22,
    "start_time": "2022-05-14T06:13:24.108Z"
   },
   {
    "duration": 434,
    "start_time": "2022-05-14T06:13:24.132Z"
   },
   {
    "duration": 4,
    "start_time": "2022-05-14T06:13:24.569Z"
   },
   {
    "duration": 20,
    "start_time": "2022-05-14T06:13:24.576Z"
   },
   {
    "duration": 2711,
    "start_time": "2022-05-14T06:13:24.599Z"
   },
   {
    "duration": 310,
    "start_time": "2022-05-14T06:13:27.313Z"
   },
   {
    "duration": 310,
    "start_time": "2022-05-14T06:13:27.625Z"
   },
   {
    "duration": 299,
    "start_time": "2022-05-14T06:13:27.937Z"
   },
   {
    "duration": 47,
    "start_time": "2022-05-14T06:13:28.239Z"
   },
   {
    "duration": 531,
    "start_time": "2022-05-14T06:15:00.111Z"
   },
   {
    "duration": 718,
    "start_time": "2022-05-14T06:15:15.878Z"
   },
   {
    "duration": 561,
    "start_time": "2022-05-14T06:15:24.697Z"
   },
   {
    "duration": 580,
    "start_time": "2022-05-14T06:16:09.107Z"
   },
   {
    "duration": 553,
    "start_time": "2022-05-14T06:16:19.932Z"
   },
   {
    "duration": 594,
    "start_time": "2022-05-14T06:16:26.784Z"
   },
   {
    "duration": 567,
    "start_time": "2022-05-14T06:16:36.717Z"
   },
   {
    "duration": 560,
    "start_time": "2022-05-14T06:16:48.264Z"
   },
   {
    "duration": 524,
    "start_time": "2022-05-14T06:16:55.073Z"
   },
   {
    "duration": 46,
    "start_time": "2022-05-14T06:16:55.599Z"
   },
   {
    "duration": 60,
    "start_time": "2022-05-14T06:16:55.647Z"
   },
   {
    "duration": 34,
    "start_time": "2022-05-14T06:16:55.709Z"
   },
   {
    "duration": 48,
    "start_time": "2022-05-14T06:16:55.746Z"
   },
   {
    "duration": 32,
    "start_time": "2022-05-14T06:16:55.796Z"
   },
   {
    "duration": 303,
    "start_time": "2022-05-14T06:16:55.829Z"
   },
   {
    "duration": 10,
    "start_time": "2022-05-14T06:16:56.134Z"
   },
   {
    "duration": 16,
    "start_time": "2022-05-14T06:16:56.146Z"
   },
   {
    "duration": 60,
    "start_time": "2022-05-14T06:16:56.166Z"
   },
   {
    "duration": 0,
    "start_time": "2022-05-14T06:16:56.229Z"
   },
   {
    "duration": 0,
    "start_time": "2022-05-14T06:16:56.230Z"
   },
   {
    "duration": 0,
    "start_time": "2022-05-14T06:16:56.232Z"
   },
   {
    "duration": 0,
    "start_time": "2022-05-14T06:16:56.234Z"
   },
   {
    "duration": 0,
    "start_time": "2022-05-14T06:16:56.236Z"
   },
   {
    "duration": 0,
    "start_time": "2022-05-14T06:16:56.237Z"
   },
   {
    "duration": 0,
    "start_time": "2022-05-14T06:16:56.239Z"
   },
   {
    "duration": 0,
    "start_time": "2022-05-14T06:16:56.241Z"
   },
   {
    "duration": 0,
    "start_time": "2022-05-14T06:16:56.242Z"
   },
   {
    "duration": 0,
    "start_time": "2022-05-14T06:16:56.244Z"
   },
   {
    "duration": 0,
    "start_time": "2022-05-14T06:16:56.246Z"
   },
   {
    "duration": 0,
    "start_time": "2022-05-14T06:16:56.247Z"
   },
   {
    "duration": 0,
    "start_time": "2022-05-14T06:16:56.249Z"
   },
   {
    "duration": 0,
    "start_time": "2022-05-14T06:16:56.294Z"
   },
   {
    "duration": 0,
    "start_time": "2022-05-14T06:16:56.295Z"
   },
   {
    "duration": 0,
    "start_time": "2022-05-14T06:16:56.297Z"
   },
   {
    "duration": 0,
    "start_time": "2022-05-14T06:16:56.298Z"
   },
   {
    "duration": 0,
    "start_time": "2022-05-14T06:16:56.300Z"
   },
   {
    "duration": 0,
    "start_time": "2022-05-14T06:16:56.301Z"
   },
   {
    "duration": 0,
    "start_time": "2022-05-14T06:16:56.303Z"
   },
   {
    "duration": 0,
    "start_time": "2022-05-14T06:16:56.304Z"
   },
   {
    "duration": 0,
    "start_time": "2022-05-14T06:16:56.306Z"
   },
   {
    "duration": 0,
    "start_time": "2022-05-14T06:16:56.308Z"
   },
   {
    "duration": 0,
    "start_time": "2022-05-14T06:16:56.309Z"
   },
   {
    "duration": 0,
    "start_time": "2022-05-14T06:16:56.311Z"
   },
   {
    "duration": 0,
    "start_time": "2022-05-14T06:16:56.312Z"
   },
   {
    "duration": 0,
    "start_time": "2022-05-14T06:16:56.314Z"
   },
   {
    "duration": 0,
    "start_time": "2022-05-14T06:16:56.315Z"
   },
   {
    "duration": 0,
    "start_time": "2022-05-14T06:16:56.317Z"
   },
   {
    "duration": 0,
    "start_time": "2022-05-14T06:16:56.319Z"
   },
   {
    "duration": 0,
    "start_time": "2022-05-14T06:16:56.320Z"
   },
   {
    "duration": 0,
    "start_time": "2022-05-14T06:16:56.322Z"
   },
   {
    "duration": 0,
    "start_time": "2022-05-14T06:16:56.323Z"
   },
   {
    "duration": 0,
    "start_time": "2022-05-14T06:16:56.325Z"
   },
   {
    "duration": 0,
    "start_time": "2022-05-14T06:16:56.326Z"
   },
   {
    "duration": 330,
    "start_time": "2022-05-14T06:24:01.884Z"
   },
   {
    "duration": 325,
    "start_time": "2022-05-14T06:24:09.239Z"
   },
   {
    "duration": 25,
    "start_time": "2022-05-14T06:24:35.708Z"
   },
   {
    "duration": 16,
    "start_time": "2022-05-14T06:27:02.415Z"
   },
   {
    "duration": 371,
    "start_time": "2022-05-14T06:27:44.507Z"
   },
   {
    "duration": 476,
    "start_time": "2022-05-14T06:27:53.864Z"
   },
   {
    "duration": 381,
    "start_time": "2022-05-14T06:28:02.308Z"
   },
   {
    "duration": 569,
    "start_time": "2022-05-14T06:28:06.872Z"
   },
   {
    "duration": 46,
    "start_time": "2022-05-14T06:28:07.444Z"
   },
   {
    "duration": 43,
    "start_time": "2022-05-14T06:28:07.493Z"
   },
   {
    "duration": 37,
    "start_time": "2022-05-14T06:28:07.539Z"
   },
   {
    "duration": 23,
    "start_time": "2022-05-14T06:28:07.597Z"
   },
   {
    "duration": 34,
    "start_time": "2022-05-14T06:28:07.622Z"
   },
   {
    "duration": 313,
    "start_time": "2022-05-14T06:28:07.659Z"
   },
   {
    "duration": 23,
    "start_time": "2022-05-14T06:28:07.974Z"
   },
   {
    "duration": 12,
    "start_time": "2022-05-14T06:28:08.000Z"
   },
   {
    "duration": 133,
    "start_time": "2022-05-14T06:28:08.017Z"
   },
   {
    "duration": 365,
    "start_time": "2022-05-14T06:28:08.153Z"
   },
   {
    "duration": 23,
    "start_time": "2022-05-14T06:28:08.520Z"
   },
   {
    "duration": 14,
    "start_time": "2022-05-14T06:28:08.545Z"
   },
   {
    "duration": 500,
    "start_time": "2022-05-14T06:28:08.561Z"
   },
   {
    "duration": 89,
    "start_time": "2022-05-14T06:28:09.063Z"
   },
   {
    "duration": 164,
    "start_time": "2022-05-14T06:28:09.154Z"
   },
   {
    "duration": 44,
    "start_time": "2022-05-14T06:28:09.320Z"
   },
   {
    "duration": 73,
    "start_time": "2022-05-14T06:28:09.367Z"
   },
   {
    "duration": 206,
    "start_time": "2022-05-14T06:28:09.442Z"
   },
   {
    "duration": 58,
    "start_time": "2022-05-14T06:28:09.651Z"
   },
   {
    "duration": 7,
    "start_time": "2022-05-14T06:28:09.712Z"
   },
   {
    "duration": 25,
    "start_time": "2022-05-14T06:28:09.721Z"
   },
   {
    "duration": 308,
    "start_time": "2022-05-14T06:28:09.749Z"
   },
   {
    "duration": 267,
    "start_time": "2022-05-14T06:28:10.061Z"
   },
   {
    "duration": 272,
    "start_time": "2022-05-14T06:28:10.330Z"
   },
   {
    "duration": 17,
    "start_time": "2022-05-14T06:28:10.605Z"
   },
   {
    "duration": 339,
    "start_time": "2022-05-14T06:28:10.624Z"
   },
   {
    "duration": 24,
    "start_time": "2022-05-14T06:28:10.968Z"
   },
   {
    "duration": 335,
    "start_time": "2022-05-14T06:28:10.998Z"
   },
   {
    "duration": 823,
    "start_time": "2022-05-14T06:28:11.335Z"
   },
   {
    "duration": 9,
    "start_time": "2022-05-14T06:28:12.161Z"
   },
   {
    "duration": 28,
    "start_time": "2022-05-14T06:28:12.173Z"
   },
   {
    "duration": 338,
    "start_time": "2022-05-14T06:28:12.203Z"
   },
   {
    "duration": 10,
    "start_time": "2022-05-14T06:28:12.543Z"
   },
   {
    "duration": 75,
    "start_time": "2022-05-14T06:28:12.555Z"
   },
   {
    "duration": 17,
    "start_time": "2022-05-14T06:28:12.633Z"
   },
   {
    "duration": 41,
    "start_time": "2022-05-14T06:28:12.653Z"
   },
   {
    "duration": 431,
    "start_time": "2022-05-14T06:28:12.696Z"
   },
   {
    "duration": 17,
    "start_time": "2022-05-14T06:28:13.130Z"
   },
   {
    "duration": 45,
    "start_time": "2022-05-14T06:28:13.149Z"
   },
   {
    "duration": 450,
    "start_time": "2022-05-14T06:28:13.196Z"
   },
   {
    "duration": 3,
    "start_time": "2022-05-14T06:28:13.649Z"
   },
   {
    "duration": 10,
    "start_time": "2022-05-14T06:28:13.655Z"
   },
   {
    "duration": 2336,
    "start_time": "2022-05-14T06:28:13.668Z"
   },
   {
    "duration": 322,
    "start_time": "2022-05-14T06:28:16.007Z"
   },
   {
    "duration": 482,
    "start_time": "2022-05-14T06:28:16.331Z"
   },
   {
    "duration": 321,
    "start_time": "2022-05-14T06:28:16.815Z"
   },
   {
    "duration": 50,
    "start_time": "2022-05-14T06:28:17.138Z"
   },
   {
    "duration": 18,
    "start_time": "2022-05-14T06:28:45.536Z"
   },
   {
    "duration": 13,
    "start_time": "2022-05-14T06:29:00.006Z"
   },
   {
    "duration": 771,
    "start_time": "2022-05-14T06:29:28.943Z"
   },
   {
    "duration": 74,
    "start_time": "2022-05-14T06:29:29.717Z"
   },
   {
    "duration": 62,
    "start_time": "2022-05-14T06:29:29.794Z"
   },
   {
    "duration": 75,
    "start_time": "2022-05-14T06:29:29.860Z"
   },
   {
    "duration": 26,
    "start_time": "2022-05-14T06:29:29.938Z"
   },
   {
    "duration": 33,
    "start_time": "2022-05-14T06:29:29.995Z"
   },
   {
    "duration": 345,
    "start_time": "2022-05-14T06:29:30.031Z"
   },
   {
    "duration": 22,
    "start_time": "2022-05-14T06:29:30.379Z"
   },
   {
    "duration": 24,
    "start_time": "2022-05-14T06:29:30.404Z"
   },
   {
    "duration": 137,
    "start_time": "2022-05-14T06:29:30.433Z"
   },
   {
    "duration": 377,
    "start_time": "2022-05-14T06:29:30.573Z"
   },
   {
    "duration": 39,
    "start_time": "2022-05-14T06:29:30.953Z"
   },
   {
    "duration": 16,
    "start_time": "2022-05-14T06:29:30.995Z"
   },
   {
    "duration": 433,
    "start_time": "2022-05-14T06:29:31.013Z"
   },
   {
    "duration": 25,
    "start_time": "2022-05-14T06:29:31.449Z"
   },
   {
    "duration": 84,
    "start_time": "2022-05-14T06:29:31.493Z"
   },
   {
    "duration": 178,
    "start_time": "2022-05-14T06:29:31.592Z"
   },
   {
    "duration": 63,
    "start_time": "2022-05-14T06:29:31.774Z"
   },
   {
    "duration": 69,
    "start_time": "2022-05-14T06:29:31.840Z"
   },
   {
    "duration": 209,
    "start_time": "2022-05-14T06:29:31.911Z"
   },
   {
    "duration": 46,
    "start_time": "2022-05-14T06:29:32.123Z"
   },
   {
    "duration": 25,
    "start_time": "2022-05-14T06:29:32.171Z"
   },
   {
    "duration": 36,
    "start_time": "2022-05-14T06:29:32.198Z"
   },
   {
    "duration": 327,
    "start_time": "2022-05-14T06:29:32.237Z"
   },
   {
    "duration": 382,
    "start_time": "2022-05-14T06:29:32.566Z"
   },
   {
    "duration": 303,
    "start_time": "2022-05-14T06:29:32.951Z"
   },
   {
    "duration": 35,
    "start_time": "2022-05-14T06:29:33.257Z"
   },
   {
    "duration": 336,
    "start_time": "2022-05-14T06:29:33.298Z"
   },
   {
    "duration": 13,
    "start_time": "2022-05-14T06:29:33.636Z"
   },
   {
    "duration": 344,
    "start_time": "2022-05-14T06:29:33.652Z"
   },
   {
    "duration": 668,
    "start_time": "2022-05-14T06:29:33.998Z"
   },
   {
    "duration": 10,
    "start_time": "2022-05-14T06:29:34.669Z"
   },
   {
    "duration": 19,
    "start_time": "2022-05-14T06:29:34.692Z"
   },
   {
    "duration": 503,
    "start_time": "2022-05-14T06:29:34.714Z"
   },
   {
    "duration": 11,
    "start_time": "2022-05-14T06:29:35.220Z"
   },
   {
    "duration": 83,
    "start_time": "2022-05-14T06:29:35.234Z"
   },
   {
    "duration": 18,
    "start_time": "2022-05-14T06:29:35.319Z"
   },
   {
    "duration": 19,
    "start_time": "2022-05-14T06:29:35.339Z"
   },
   {
    "duration": 449,
    "start_time": "2022-05-14T06:29:35.360Z"
   },
   {
    "duration": 17,
    "start_time": "2022-05-14T06:29:35.811Z"
   },
   {
    "duration": 32,
    "start_time": "2022-05-14T06:29:35.830Z"
   },
   {
    "duration": 418,
    "start_time": "2022-05-14T06:29:35.865Z"
   },
   {
    "duration": 9,
    "start_time": "2022-05-14T06:29:36.286Z"
   },
   {
    "duration": 16,
    "start_time": "2022-05-14T06:29:36.298Z"
   },
   {
    "duration": 2357,
    "start_time": "2022-05-14T06:29:36.316Z"
   },
   {
    "duration": 321,
    "start_time": "2022-05-14T06:29:38.675Z"
   },
   {
    "duration": 336,
    "start_time": "2022-05-14T06:29:38.998Z"
   },
   {
    "duration": 330,
    "start_time": "2022-05-14T06:29:39.336Z"
   },
   {
    "duration": 51,
    "start_time": "2022-05-14T06:29:39.668Z"
   },
   {
    "duration": 40,
    "start_time": "2022-05-14T06:30:25.516Z"
   },
   {
    "duration": 60,
    "start_time": "2022-05-14T06:41:54.271Z"
   },
   {
    "duration": 327,
    "start_time": "2022-05-14T06:42:12.726Z"
   },
   {
    "duration": 504,
    "start_time": "2022-05-14T06:42:17.635Z"
   },
   {
    "duration": 43,
    "start_time": "2022-05-14T06:42:18.141Z"
   },
   {
    "duration": 39,
    "start_time": "2022-05-14T06:42:18.186Z"
   },
   {
    "duration": 34,
    "start_time": "2022-05-14T06:42:18.228Z"
   },
   {
    "duration": 48,
    "start_time": "2022-05-14T06:42:18.264Z"
   },
   {
    "duration": 31,
    "start_time": "2022-05-14T06:42:18.314Z"
   },
   {
    "duration": 304,
    "start_time": "2022-05-14T06:42:18.347Z"
   },
   {
    "duration": 9,
    "start_time": "2022-05-14T06:42:18.653Z"
   },
   {
    "duration": 33,
    "start_time": "2022-05-14T06:42:18.664Z"
   },
   {
    "duration": 116,
    "start_time": "2022-05-14T06:42:18.701Z"
   },
   {
    "duration": 333,
    "start_time": "2022-05-14T06:42:18.819Z"
   },
   {
    "duration": 22,
    "start_time": "2022-05-14T06:42:19.154Z"
   },
   {
    "duration": 15,
    "start_time": "2022-05-14T06:42:19.192Z"
   },
   {
    "duration": 357,
    "start_time": "2022-05-14T06:42:19.209Z"
   },
   {
    "duration": 34,
    "start_time": "2022-05-14T06:42:19.568Z"
   },
   {
    "duration": 39,
    "start_time": "2022-05-14T06:42:19.604Z"
   },
   {
    "duration": 69,
    "start_time": "2022-05-14T06:42:19.644Z"
   },
   {
    "duration": 336,
    "start_time": "2022-05-14T06:42:19.716Z"
   },
   {
    "duration": 82,
    "start_time": "2022-05-14T06:42:20.054Z"
   },
   {
    "duration": 277,
    "start_time": "2022-05-14T06:42:20.138Z"
   },
   {
    "duration": 38,
    "start_time": "2022-05-14T06:42:20.417Z"
   },
   {
    "duration": 65,
    "start_time": "2022-05-14T06:42:20.457Z"
   },
   {
    "duration": 174,
    "start_time": "2022-05-14T06:42:20.524Z"
   },
   {
    "duration": 42,
    "start_time": "2022-05-14T06:42:20.700Z"
   },
   {
    "duration": 5,
    "start_time": "2022-05-14T06:42:20.745Z"
   },
   {
    "duration": 43,
    "start_time": "2022-05-14T06:42:20.753Z"
   },
   {
    "duration": 271,
    "start_time": "2022-05-14T06:42:20.799Z"
   },
   {
    "duration": 260,
    "start_time": "2022-05-14T06:42:21.075Z"
   },
   {
    "duration": 260,
    "start_time": "2022-05-14T06:42:21.338Z"
   },
   {
    "duration": 16,
    "start_time": "2022-05-14T06:42:21.600Z"
   },
   {
    "duration": 346,
    "start_time": "2022-05-14T06:42:21.618Z"
   },
   {
    "duration": 28,
    "start_time": "2022-05-14T06:42:21.966Z"
   },
   {
    "duration": 326,
    "start_time": "2022-05-14T06:42:21.996Z"
   },
   {
    "duration": 763,
    "start_time": "2022-05-14T06:42:22.324Z"
   },
   {
    "duration": 10,
    "start_time": "2022-05-14T06:42:23.094Z"
   },
   {
    "duration": 23,
    "start_time": "2022-05-14T06:42:23.106Z"
   },
   {
    "duration": 330,
    "start_time": "2022-05-14T06:42:23.131Z"
   },
   {
    "duration": 11,
    "start_time": "2022-05-14T06:42:23.463Z"
   },
   {
    "duration": 55,
    "start_time": "2022-05-14T06:42:23.492Z"
   },
   {
    "duration": 43,
    "start_time": "2022-05-14T06:42:23.550Z"
   },
   {
    "duration": 20,
    "start_time": "2022-05-14T06:42:23.595Z"
   },
   {
    "duration": 450,
    "start_time": "2022-05-14T06:42:23.618Z"
   },
   {
    "duration": 27,
    "start_time": "2022-05-14T06:42:24.071Z"
   },
   {
    "duration": 23,
    "start_time": "2022-05-14T06:42:24.101Z"
   },
   {
    "duration": 449,
    "start_time": "2022-05-14T06:42:24.126Z"
   },
   {
    "duration": 4,
    "start_time": "2022-05-14T06:42:24.578Z"
   },
   {
    "duration": 7,
    "start_time": "2022-05-14T06:42:24.592Z"
   },
   {
    "duration": 2722,
    "start_time": "2022-05-14T06:42:24.602Z"
   },
   {
    "duration": 323,
    "start_time": "2022-05-14T06:42:27.327Z"
   },
   {
    "duration": 321,
    "start_time": "2022-05-14T06:42:27.653Z"
   },
   {
    "duration": 322,
    "start_time": "2022-05-14T06:42:27.976Z"
   },
   {
    "duration": 61,
    "start_time": "2022-05-14T06:42:28.301Z"
   },
   {
    "duration": 15,
    "start_time": "2022-05-14T06:44:11.214Z"
   },
   {
    "duration": 15,
    "start_time": "2022-05-14T06:44:36.031Z"
   },
   {
    "duration": 15,
    "start_time": "2022-05-14T06:44:45.019Z"
   },
   {
    "duration": 14,
    "start_time": "2022-05-14T06:44:50.794Z"
   },
   {
    "duration": 15,
    "start_time": "2022-05-14T06:44:53.634Z"
   },
   {
    "duration": 544,
    "start_time": "2022-05-14T06:44:57.050Z"
   },
   {
    "duration": 46,
    "start_time": "2022-05-14T06:44:57.596Z"
   },
   {
    "duration": 57,
    "start_time": "2022-05-14T06:44:57.644Z"
   },
   {
    "duration": 37,
    "start_time": "2022-05-14T06:44:57.704Z"
   },
   {
    "duration": 52,
    "start_time": "2022-05-14T06:44:57.744Z"
   },
   {
    "duration": 36,
    "start_time": "2022-05-14T06:44:57.799Z"
   },
   {
    "duration": 310,
    "start_time": "2022-05-14T06:44:57.838Z"
   },
   {
    "duration": 10,
    "start_time": "2022-05-14T06:44:58.150Z"
   },
   {
    "duration": 13,
    "start_time": "2022-05-14T06:44:58.162Z"
   },
   {
    "duration": 106,
    "start_time": "2022-05-14T06:44:58.179Z"
   },
   {
    "duration": 347,
    "start_time": "2022-05-14T06:44:58.293Z"
   },
   {
    "duration": 22,
    "start_time": "2022-05-14T06:44:58.642Z"
   },
   {
    "duration": 14,
    "start_time": "2022-05-14T06:44:58.666Z"
   },
   {
    "duration": 346,
    "start_time": "2022-05-14T06:44:58.693Z"
   },
   {
    "duration": 25,
    "start_time": "2022-05-14T06:44:59.041Z"
   },
   {
    "duration": 45,
    "start_time": "2022-05-14T06:44:59.069Z"
   },
   {
    "duration": 54,
    "start_time": "2022-05-14T06:44:59.116Z"
   },
   {
    "duration": 464,
    "start_time": "2022-05-14T06:44:59.172Z"
   },
   {
    "duration": 57,
    "start_time": "2022-05-14T06:44:59.638Z"
   },
   {
    "duration": 17,
    "start_time": "2022-05-14T06:44:59.697Z"
   },
   {
    "duration": 88,
    "start_time": "2022-05-14T06:44:59.716Z"
   },
   {
    "duration": 146,
    "start_time": "2022-05-14T06:44:59.806Z"
   },
   {
    "duration": 45,
    "start_time": "2022-05-14T06:44:59.955Z"
   },
   {
    "duration": 47,
    "start_time": "2022-05-14T06:45:00.003Z"
   },
   {
    "duration": 190,
    "start_time": "2022-05-14T06:45:00.052Z"
   },
   {
    "duration": 50,
    "start_time": "2022-05-14T06:45:00.244Z"
   },
   {
    "duration": 6,
    "start_time": "2022-05-14T06:45:00.296Z"
   },
   {
    "duration": 26,
    "start_time": "2022-05-14T06:45:00.307Z"
   },
   {
    "duration": 390,
    "start_time": "2022-05-14T06:45:00.335Z"
   },
   {
    "duration": 266,
    "start_time": "2022-05-14T06:45:00.727Z"
   },
   {
    "duration": 264,
    "start_time": "2022-05-14T06:45:00.995Z"
   },
   {
    "duration": 15,
    "start_time": "2022-05-14T06:45:01.261Z"
   },
   {
    "duration": 327,
    "start_time": "2022-05-14T06:45:01.294Z"
   },
   {
    "duration": 11,
    "start_time": "2022-05-14T06:45:01.624Z"
   },
   {
    "duration": 332,
    "start_time": "2022-05-14T06:45:01.637Z"
   },
   {
    "duration": 628,
    "start_time": "2022-05-14T06:45:01.971Z"
   },
   {
    "duration": 9,
    "start_time": "2022-05-14T06:45:02.601Z"
   },
   {
    "duration": 16,
    "start_time": "2022-05-14T06:45:02.612Z"
   },
   {
    "duration": 506,
    "start_time": "2022-05-14T06:45:02.630Z"
   },
   {
    "duration": 9,
    "start_time": "2022-05-14T06:45:03.138Z"
   },
   {
    "duration": 69,
    "start_time": "2022-05-14T06:45:03.149Z"
   },
   {
    "duration": 17,
    "start_time": "2022-05-14T06:45:03.220Z"
   },
   {
    "duration": 16,
    "start_time": "2022-05-14T06:45:03.239Z"
   },
   {
    "duration": 417,
    "start_time": "2022-05-14T06:45:03.257Z"
   },
   {
    "duration": 21,
    "start_time": "2022-05-14T06:45:03.676Z"
   },
   {
    "duration": 22,
    "start_time": "2022-05-14T06:45:03.700Z"
   },
   {
    "duration": 435,
    "start_time": "2022-05-14T06:45:03.724Z"
   },
   {
    "duration": 4,
    "start_time": "2022-05-14T06:45:04.162Z"
   },
   {
    "duration": 9,
    "start_time": "2022-05-14T06:45:04.168Z"
   },
   {
    "duration": 2373,
    "start_time": "2022-05-14T06:45:04.193Z"
   },
   {
    "duration": 303,
    "start_time": "2022-05-14T06:45:06.569Z"
   },
   {
    "duration": 307,
    "start_time": "2022-05-14T06:45:06.874Z"
   },
   {
    "duration": 413,
    "start_time": "2022-05-14T06:45:07.183Z"
   },
   {
    "duration": 54,
    "start_time": "2022-05-14T06:45:07.598Z"
   },
   {
    "duration": 316,
    "start_time": "2022-05-14T06:45:51.502Z"
   },
   {
    "duration": 13,
    "start_time": "2022-05-14T06:46:14.386Z"
   },
   {
    "duration": 27,
    "start_time": "2022-05-14T06:47:17.154Z"
   },
   {
    "duration": 326,
    "start_time": "2022-05-14T06:47:33.694Z"
   },
   {
    "duration": 531,
    "start_time": "2022-05-14T06:47:39.250Z"
   },
   {
    "duration": 44,
    "start_time": "2022-05-14T06:47:39.783Z"
   },
   {
    "duration": 40,
    "start_time": "2022-05-14T06:47:39.829Z"
   },
   {
    "duration": 35,
    "start_time": "2022-05-14T06:47:39.893Z"
   },
   {
    "duration": 22,
    "start_time": "2022-05-14T06:47:39.930Z"
   },
   {
    "duration": 64,
    "start_time": "2022-05-14T06:47:39.953Z"
   },
   {
    "duration": 278,
    "start_time": "2022-05-14T06:47:40.019Z"
   },
   {
    "duration": 9,
    "start_time": "2022-05-14T06:47:40.299Z"
   },
   {
    "duration": 11,
    "start_time": "2022-05-14T06:47:40.310Z"
   },
   {
    "duration": 129,
    "start_time": "2022-05-14T06:47:40.325Z"
   },
   {
    "duration": 337,
    "start_time": "2022-05-14T06:47:40.456Z"
   },
   {
    "duration": 23,
    "start_time": "2022-05-14T06:47:40.795Z"
   },
   {
    "duration": 13,
    "start_time": "2022-05-14T06:47:40.820Z"
   },
   {
    "duration": 371,
    "start_time": "2022-05-14T06:47:40.835Z"
   },
   {
    "duration": 23,
    "start_time": "2022-05-14T06:47:41.208Z"
   },
   {
    "duration": 37,
    "start_time": "2022-05-14T06:47:41.233Z"
   },
   {
    "duration": 51,
    "start_time": "2022-05-14T06:47:41.293Z"
   },
   {
    "duration": 347,
    "start_time": "2022-05-14T06:47:41.346Z"
   },
   {
    "duration": 13,
    "start_time": "2022-05-14T06:47:41.695Z"
   },
   {
    "duration": 19,
    "start_time": "2022-05-14T06:47:41.710Z"
   },
   {
    "duration": 348,
    "start_time": "2022-05-14T06:47:41.731Z"
   },
   {
    "duration": 26,
    "start_time": "2022-05-14T06:47:42.081Z"
   },
   {
    "duration": 24,
    "start_time": "2022-05-14T06:47:42.109Z"
   },
   {
    "duration": 575,
    "start_time": "2022-05-14T06:47:42.135Z"
   },
   {
    "duration": 84,
    "start_time": "2022-05-14T06:47:42.713Z"
   },
   {
    "duration": 130,
    "start_time": "2022-05-14T06:47:42.799Z"
   },
   {
    "duration": 39,
    "start_time": "2022-05-14T06:47:42.931Z"
   },
   {
    "duration": 62,
    "start_time": "2022-05-14T06:47:42.975Z"
   },
   {
    "duration": 178,
    "start_time": "2022-05-14T06:47:43.039Z"
   },
   {
    "duration": 44,
    "start_time": "2022-05-14T06:47:43.219Z"
   },
   {
    "duration": 7,
    "start_time": "2022-05-14T06:47:43.265Z"
   },
   {
    "duration": 20,
    "start_time": "2022-05-14T06:47:43.294Z"
   },
   {
    "duration": 288,
    "start_time": "2022-05-14T06:47:43.317Z"
   },
   {
    "duration": 254,
    "start_time": "2022-05-14T06:47:43.607Z"
   },
   {
    "duration": 250,
    "start_time": "2022-05-14T06:47:43.863Z"
   },
   {
    "duration": 16,
    "start_time": "2022-05-14T06:47:44.115Z"
   },
   {
    "duration": 328,
    "start_time": "2022-05-14T06:47:44.134Z"
   },
   {
    "duration": 11,
    "start_time": "2022-05-14T06:47:44.465Z"
   },
   {
    "duration": 303,
    "start_time": "2022-05-14T06:47:44.493Z"
   },
   {
    "duration": 622,
    "start_time": "2022-05-14T06:47:44.798Z"
   },
   {
    "duration": 9,
    "start_time": "2022-05-14T06:47:45.422Z"
   },
   {
    "duration": 13,
    "start_time": "2022-05-14T06:47:45.433Z"
   },
   {
    "duration": 322,
    "start_time": "2022-05-14T06:47:45.448Z"
   },
   {
    "duration": 9,
    "start_time": "2022-05-14T06:47:45.772Z"
   },
   {
    "duration": 52,
    "start_time": "2022-05-14T06:47:45.793Z"
   },
   {
    "duration": 16,
    "start_time": "2022-05-14T06:47:45.847Z"
   },
   {
    "duration": 17,
    "start_time": "2022-05-14T06:47:45.892Z"
   },
   {
    "duration": 435,
    "start_time": "2022-05-14T06:47:45.912Z"
   },
   {
    "duration": 17,
    "start_time": "2022-05-14T06:47:46.350Z"
   },
   {
    "duration": 39,
    "start_time": "2022-05-14T06:47:46.370Z"
   },
   {
    "duration": 433,
    "start_time": "2022-05-14T06:47:46.411Z"
   },
   {
    "duration": 4,
    "start_time": "2022-05-14T06:47:46.846Z"
   },
   {
    "duration": 8,
    "start_time": "2022-05-14T06:47:46.852Z"
   },
   {
    "duration": 2273,
    "start_time": "2022-05-14T06:47:46.863Z"
   },
   {
    "duration": 302,
    "start_time": "2022-05-14T06:47:49.138Z"
   },
   {
    "duration": 309,
    "start_time": "2022-05-14T06:47:49.442Z"
   },
   {
    "duration": 515,
    "start_time": "2022-05-14T06:47:49.754Z"
   },
   {
    "duration": 50,
    "start_time": "2022-05-14T06:47:50.271Z"
   },
   {
    "duration": 59,
    "start_time": "2022-05-14T06:48:58.058Z"
   },
   {
    "duration": 11,
    "start_time": "2022-05-14T06:52:29.026Z"
   },
   {
    "duration": 58,
    "start_time": "2022-05-14T06:56:52.790Z"
   },
   {
    "duration": 97,
    "start_time": "2022-05-14T06:59:43.457Z"
   },
   {
    "duration": 125,
    "start_time": "2022-05-14T06:59:56.193Z"
   },
   {
    "duration": 40,
    "start_time": "2022-05-14T06:59:59.144Z"
   },
   {
    "duration": 78,
    "start_time": "2022-05-14T07:01:53.589Z"
   },
   {
    "duration": 10,
    "start_time": "2022-05-14T07:02:29.469Z"
   },
   {
    "duration": 11,
    "start_time": "2022-05-14T07:03:12.940Z"
   },
   {
    "duration": 47,
    "start_time": "2022-05-14T07:04:00.648Z"
   },
   {
    "duration": 6,
    "start_time": "2022-05-14T07:12:28.120Z"
   },
   {
    "duration": 10,
    "start_time": "2022-05-14T07:13:29.147Z"
   },
   {
    "duration": 16,
    "start_time": "2022-05-14T07:13:41.971Z"
   },
   {
    "duration": 19,
    "start_time": "2022-05-14T07:16:21.131Z"
   },
   {
    "duration": 14,
    "start_time": "2022-05-14T07:17:47.203Z"
   },
   {
    "duration": 35,
    "start_time": "2022-05-14T07:19:25.539Z"
   },
   {
    "duration": 439,
    "start_time": "2022-05-14T07:21:46.807Z"
   },
   {
    "duration": 65,
    "start_time": "2022-05-14T07:24:48.343Z"
   },
   {
    "duration": 45,
    "start_time": "2022-05-14T07:25:27.730Z"
   },
   {
    "duration": 30,
    "start_time": "2022-05-14T07:28:38.203Z"
   },
   {
    "duration": 45,
    "start_time": "2022-05-14T07:29:49.746Z"
   },
   {
    "duration": 331,
    "start_time": "2022-05-14T07:30:10.746Z"
   },
   {
    "duration": 580,
    "start_time": "2022-05-14T07:30:25.195Z"
   },
   {
    "duration": 46,
    "start_time": "2022-05-14T07:30:25.778Z"
   },
   {
    "duration": 43,
    "start_time": "2022-05-14T07:30:25.826Z"
   },
   {
    "duration": 53,
    "start_time": "2022-05-14T07:30:25.872Z"
   },
   {
    "duration": 24,
    "start_time": "2022-05-14T07:30:25.927Z"
   },
   {
    "duration": 67,
    "start_time": "2022-05-14T07:30:25.953Z"
   },
   {
    "duration": 293,
    "start_time": "2022-05-14T07:30:26.022Z"
   },
   {
    "duration": 11,
    "start_time": "2022-05-14T07:30:26.318Z"
   },
   {
    "duration": 16,
    "start_time": "2022-05-14T07:30:26.331Z"
   },
   {
    "duration": 46,
    "start_time": "2022-05-14T07:30:26.353Z"
   },
   {
    "duration": 143,
    "start_time": "2022-05-14T07:30:26.402Z"
   },
   {
    "duration": 352,
    "start_time": "2022-05-14T07:30:26.547Z"
   },
   {
    "duration": 22,
    "start_time": "2022-05-14T07:30:26.902Z"
   },
   {
    "duration": 14,
    "start_time": "2022-05-14T07:30:26.926Z"
   },
   {
    "duration": 401,
    "start_time": "2022-05-14T07:30:26.942Z"
   },
   {
    "duration": 25,
    "start_time": "2022-05-14T07:30:27.345Z"
   },
   {
    "duration": 57,
    "start_time": "2022-05-14T07:30:27.372Z"
   },
   {
    "duration": 70,
    "start_time": "2022-05-14T07:30:27.431Z"
   },
   {
    "duration": 354,
    "start_time": "2022-05-14T07:30:27.503Z"
   },
   {
    "duration": 13,
    "start_time": "2022-05-14T07:30:27.859Z"
   },
   {
    "duration": 30,
    "start_time": "2022-05-14T07:30:27.874Z"
   },
   {
    "duration": 352,
    "start_time": "2022-05-14T07:30:27.906Z"
   },
   {
    "duration": 37,
    "start_time": "2022-05-14T07:30:28.260Z"
   },
   {
    "duration": 26,
    "start_time": "2022-05-14T07:30:28.300Z"
   },
   {
    "duration": 365,
    "start_time": "2022-05-14T07:30:28.329Z"
   },
   {
    "duration": 118,
    "start_time": "2022-05-14T07:30:28.696Z"
   },
   {
    "duration": 109,
    "start_time": "2022-05-14T07:30:28.816Z"
   },
   {
    "duration": 81,
    "start_time": "2022-05-14T07:30:28.933Z"
   },
   {
    "duration": 8,
    "start_time": "2022-05-14T07:30:29.016Z"
   },
   {
    "duration": 13,
    "start_time": "2022-05-14T07:30:29.027Z"
   },
   {
    "duration": 52,
    "start_time": "2022-05-14T07:30:29.043Z"
   },
   {
    "duration": 21,
    "start_time": "2022-05-14T07:30:29.098Z"
   },
   {
    "duration": 13,
    "start_time": "2022-05-14T07:30:29.121Z"
   },
   {
    "duration": 493,
    "start_time": "2022-05-14T07:30:29.136Z"
   },
   {
    "duration": 283,
    "start_time": "2022-05-14T07:30:29.632Z"
   },
   {
    "duration": 279,
    "start_time": "2022-05-14T07:30:29.917Z"
   },
   {
    "duration": 276,
    "start_time": "2022-05-14T07:30:30.198Z"
   },
   {
    "duration": 26,
    "start_time": "2022-05-14T07:30:30.476Z"
   },
   {
    "duration": 354,
    "start_time": "2022-05-14T07:30:30.505Z"
   },
   {
    "duration": 13,
    "start_time": "2022-05-14T07:30:30.861Z"
   },
   {
    "duration": 341,
    "start_time": "2022-05-14T07:30:30.876Z"
   },
   {
    "duration": 662,
    "start_time": "2022-05-14T07:30:31.220Z"
   },
   {
    "duration": 10,
    "start_time": "2022-05-14T07:30:31.892Z"
   },
   {
    "duration": 21,
    "start_time": "2022-05-14T07:30:31.905Z"
   },
   {
    "duration": 328,
    "start_time": "2022-05-14T07:30:31.929Z"
   },
   {
    "duration": 10,
    "start_time": "2022-05-14T07:30:32.259Z"
   },
   {
    "duration": 77,
    "start_time": "2022-05-14T07:30:32.271Z"
   },
   {
    "duration": 3485,
    "start_time": "2022-05-14T07:30:32.350Z"
   },
   {
    "duration": 0,
    "start_time": "2022-05-14T07:30:35.838Z"
   },
   {
    "duration": 0,
    "start_time": "2022-05-14T07:30:35.840Z"
   },
   {
    "duration": 0,
    "start_time": "2022-05-14T07:30:35.843Z"
   },
   {
    "duration": 0,
    "start_time": "2022-05-14T07:30:35.845Z"
   },
   {
    "duration": 0,
    "start_time": "2022-05-14T07:30:35.847Z"
   },
   {
    "duration": 0,
    "start_time": "2022-05-14T07:30:35.849Z"
   },
   {
    "duration": 0,
    "start_time": "2022-05-14T07:30:35.851Z"
   },
   {
    "duration": 0,
    "start_time": "2022-05-14T07:30:35.853Z"
   },
   {
    "duration": 0,
    "start_time": "2022-05-14T07:30:35.855Z"
   },
   {
    "duration": 0,
    "start_time": "2022-05-14T07:30:35.857Z"
   },
   {
    "duration": 0,
    "start_time": "2022-05-14T07:30:35.859Z"
   },
   {
    "duration": 0,
    "start_time": "2022-05-14T07:30:35.862Z"
   },
   {
    "duration": 31,
    "start_time": "2022-05-14T07:37:24.410Z"
   },
   {
    "duration": 746,
    "start_time": "2022-05-14T07:40:18.431Z"
   },
   {
    "duration": 48,
    "start_time": "2022-05-14T07:40:19.180Z"
   },
   {
    "duration": 40,
    "start_time": "2022-05-14T07:40:19.230Z"
   },
   {
    "duration": 36,
    "start_time": "2022-05-14T07:40:19.293Z"
   },
   {
    "duration": 24,
    "start_time": "2022-05-14T07:40:19.332Z"
   },
   {
    "duration": 63,
    "start_time": "2022-05-14T07:40:19.358Z"
   },
   {
    "duration": 294,
    "start_time": "2022-05-14T07:40:19.423Z"
   },
   {
    "duration": 9,
    "start_time": "2022-05-14T07:40:19.720Z"
   },
   {
    "duration": 14,
    "start_time": "2022-05-14T07:40:19.731Z"
   },
   {
    "duration": 11,
    "start_time": "2022-05-14T07:40:19.749Z"
   },
   {
    "duration": 111,
    "start_time": "2022-05-14T07:40:19.794Z"
   },
   {
    "duration": 370,
    "start_time": "2022-05-14T07:40:19.907Z"
   },
   {
    "duration": 32,
    "start_time": "2022-05-14T07:40:20.279Z"
   },
   {
    "duration": 15,
    "start_time": "2022-05-14T07:40:20.313Z"
   },
   {
    "duration": 939,
    "start_time": "2022-05-14T07:40:20.330Z"
   },
   {
    "duration": 48,
    "start_time": "2022-05-14T07:40:21.273Z"
   },
   {
    "duration": 74,
    "start_time": "2022-05-14T07:40:21.324Z"
   },
   {
    "duration": 72,
    "start_time": "2022-05-14T07:40:21.401Z"
   },
   {
    "duration": 603,
    "start_time": "2022-05-14T07:40:21.476Z"
   },
   {
    "duration": 25,
    "start_time": "2022-05-14T07:40:22.082Z"
   },
   {
    "duration": 20,
    "start_time": "2022-05-14T07:40:22.110Z"
   },
   {
    "duration": 363,
    "start_time": "2022-05-14T07:40:22.133Z"
   },
   {
    "duration": 23,
    "start_time": "2022-05-14T07:40:22.498Z"
   },
   {
    "duration": 23,
    "start_time": "2022-05-14T07:40:22.524Z"
   },
   {
    "duration": 375,
    "start_time": "2022-05-14T07:40:22.549Z"
   },
   {
    "duration": 121,
    "start_time": "2022-05-14T07:40:22.926Z"
   },
   {
    "duration": 103,
    "start_time": "2022-05-14T07:40:23.049Z"
   },
   {
    "duration": 62,
    "start_time": "2022-05-14T07:40:23.158Z"
   },
   {
    "duration": 5,
    "start_time": "2022-05-14T07:40:23.222Z"
   },
   {
    "duration": 12,
    "start_time": "2022-05-14T07:40:23.229Z"
   },
   {
    "duration": 60,
    "start_time": "2022-05-14T07:40:23.243Z"
   },
   {
    "duration": 26,
    "start_time": "2022-05-14T07:40:23.306Z"
   },
   {
    "duration": 18,
    "start_time": "2022-05-14T07:40:23.335Z"
   },
   {
    "duration": 562,
    "start_time": "2022-05-14T07:40:23.357Z"
   },
   {
    "duration": 29,
    "start_time": "2022-05-14T07:40:23.921Z"
   },
   {
    "duration": 302,
    "start_time": "2022-05-14T07:40:23.953Z"
   },
   {
    "duration": 284,
    "start_time": "2022-05-14T07:40:24.258Z"
   },
   {
    "duration": 408,
    "start_time": "2022-05-14T07:40:24.545Z"
   },
   {
    "duration": 38,
    "start_time": "2022-05-14T07:40:24.956Z"
   },
   {
    "duration": 538,
    "start_time": "2022-05-14T07:40:24.997Z"
   },
   {
    "duration": 12,
    "start_time": "2022-05-14T07:40:25.538Z"
   },
   {
    "duration": 355,
    "start_time": "2022-05-14T07:40:25.553Z"
   },
   {
    "duration": 676,
    "start_time": "2022-05-14T07:40:25.910Z"
   },
   {
    "duration": 10,
    "start_time": "2022-05-14T07:40:26.588Z"
   },
   {
    "duration": 18,
    "start_time": "2022-05-14T07:40:26.601Z"
   },
   {
    "duration": 337,
    "start_time": "2022-05-14T07:40:26.621Z"
   },
   {
    "duration": 10,
    "start_time": "2022-05-14T07:40:26.961Z"
   },
   {
    "duration": 71,
    "start_time": "2022-05-14T07:40:26.973Z"
   },
   {
    "duration": 5911,
    "start_time": "2022-05-14T07:40:27.046Z"
   },
   {
    "duration": 0,
    "start_time": "2022-05-14T07:40:32.960Z"
   },
   {
    "duration": 0,
    "start_time": "2022-05-14T07:40:32.962Z"
   },
   {
    "duration": 1,
    "start_time": "2022-05-14T07:40:32.963Z"
   },
   {
    "duration": 0,
    "start_time": "2022-05-14T07:40:32.966Z"
   },
   {
    "duration": 0,
    "start_time": "2022-05-14T07:40:32.967Z"
   },
   {
    "duration": 0,
    "start_time": "2022-05-14T07:40:32.968Z"
   },
   {
    "duration": 0,
    "start_time": "2022-05-14T07:40:32.970Z"
   },
   {
    "duration": 0,
    "start_time": "2022-05-14T07:40:32.971Z"
   },
   {
    "duration": 0,
    "start_time": "2022-05-14T07:40:32.973Z"
   },
   {
    "duration": 0,
    "start_time": "2022-05-14T07:40:32.974Z"
   },
   {
    "duration": 0,
    "start_time": "2022-05-14T07:40:32.975Z"
   },
   {
    "duration": 0,
    "start_time": "2022-05-14T07:40:32.977Z"
   },
   {
    "duration": 18,
    "start_time": "2022-05-14T07:42:45.345Z"
   },
   {
    "duration": 32,
    "start_time": "2022-05-14T07:46:01.089Z"
   },
   {
    "duration": 741,
    "start_time": "2022-05-14T07:46:40.657Z"
   },
   {
    "duration": 27,
    "start_time": "2022-05-14T07:48:52.342Z"
   },
   {
    "duration": 9,
    "start_time": "2022-05-14T07:49:42.701Z"
   },
   {
    "duration": 15,
    "start_time": "2022-05-14T07:50:01.406Z"
   },
   {
    "duration": 15,
    "start_time": "2022-05-14T07:50:14.665Z"
   },
   {
    "duration": 16,
    "start_time": "2022-05-14T07:50:22.840Z"
   },
   {
    "duration": 29,
    "start_time": "2022-05-14T07:51:12.121Z"
   },
   {
    "duration": 10,
    "start_time": "2022-05-14T07:51:20.956Z"
   },
   {
    "duration": 15,
    "start_time": "2022-05-14T07:51:21.656Z"
   },
   {
    "duration": 20,
    "start_time": "2022-05-14T07:51:22.553Z"
   },
   {
    "duration": 29,
    "start_time": "2022-05-14T07:51:58.959Z"
   },
   {
    "duration": 809,
    "start_time": "2022-05-14T07:52:03.657Z"
   },
   {
    "duration": 45,
    "start_time": "2022-05-14T07:52:04.469Z"
   },
   {
    "duration": 41,
    "start_time": "2022-05-14T07:52:04.517Z"
   },
   {
    "duration": 66,
    "start_time": "2022-05-14T07:52:04.561Z"
   },
   {
    "duration": 34,
    "start_time": "2022-05-14T07:52:04.630Z"
   },
   {
    "duration": 44,
    "start_time": "2022-05-14T07:52:04.694Z"
   },
   {
    "duration": 316,
    "start_time": "2022-05-14T07:52:04.740Z"
   },
   {
    "duration": 10,
    "start_time": "2022-05-14T07:52:05.058Z"
   },
   {
    "duration": 29,
    "start_time": "2022-05-14T07:52:05.070Z"
   },
   {
    "duration": 11,
    "start_time": "2022-05-14T07:52:05.104Z"
   },
   {
    "duration": 138,
    "start_time": "2022-05-14T07:52:05.118Z"
   },
   {
    "duration": 358,
    "start_time": "2022-05-14T07:52:05.259Z"
   },
   {
    "duration": 32,
    "start_time": "2022-05-14T07:52:05.619Z"
   },
   {
    "duration": 44,
    "start_time": "2022-05-14T07:52:05.654Z"
   },
   {
    "duration": 383,
    "start_time": "2022-05-14T07:52:05.701Z"
   },
   {
    "duration": 31,
    "start_time": "2022-05-14T07:52:06.086Z"
   },
   {
    "duration": 41,
    "start_time": "2022-05-14T07:52:06.119Z"
   },
   {
    "duration": 85,
    "start_time": "2022-05-14T07:52:06.163Z"
   },
   {
    "duration": 379,
    "start_time": "2022-05-14T07:52:06.250Z"
   },
   {
    "duration": 12,
    "start_time": "2022-05-14T07:52:06.632Z"
   },
   {
    "duration": 17,
    "start_time": "2022-05-14T07:52:06.646Z"
   },
   {
    "duration": 836,
    "start_time": "2022-05-14T07:52:06.693Z"
   },
   {
    "duration": 24,
    "start_time": "2022-05-14T07:52:07.534Z"
   },
   {
    "duration": 45,
    "start_time": "2022-05-14T07:52:07.561Z"
   },
   {
    "duration": 366,
    "start_time": "2022-05-14T07:52:07.609Z"
   },
   {
    "duration": 125,
    "start_time": "2022-05-14T07:52:07.978Z"
   },
   {
    "duration": 138,
    "start_time": "2022-05-14T07:52:08.106Z"
   },
   {
    "duration": 72,
    "start_time": "2022-05-14T07:52:08.254Z"
   },
   {
    "duration": 6,
    "start_time": "2022-05-14T07:52:08.328Z"
   },
   {
    "duration": 21,
    "start_time": "2022-05-14T07:52:08.337Z"
   },
   {
    "duration": 41,
    "start_time": "2022-05-14T07:52:08.361Z"
   },
   {
    "duration": 27,
    "start_time": "2022-05-14T07:52:08.405Z"
   },
   {
    "duration": 20,
    "start_time": "2022-05-14T07:52:08.435Z"
   },
   {
    "duration": 873,
    "start_time": "2022-05-14T07:52:08.458Z"
   },
   {
    "duration": 59,
    "start_time": "2022-05-14T07:52:09.334Z"
   },
   {
    "duration": 31,
    "start_time": "2022-05-14T07:52:09.396Z"
   },
   {
    "duration": 707,
    "start_time": "2022-05-14T07:52:09.429Z"
   },
   {
    "duration": 30,
    "start_time": "2022-05-14T07:52:10.138Z"
   },
   {
    "duration": 30,
    "start_time": "2022-05-14T07:52:10.171Z"
   },
   {
    "duration": 26,
    "start_time": "2022-05-14T07:52:10.204Z"
   },
   {
    "duration": 17,
    "start_time": "2022-05-14T07:52:10.232Z"
   },
   {
    "duration": 46,
    "start_time": "2022-05-14T07:52:10.252Z"
   },
   {
    "duration": 25,
    "start_time": "2022-05-14T07:52:10.301Z"
   },
   {
    "duration": 0,
    "start_time": "2022-05-14T07:52:10.329Z"
   },
   {
    "duration": 0,
    "start_time": "2022-05-14T07:52:10.330Z"
   },
   {
    "duration": 0,
    "start_time": "2022-05-14T07:52:10.333Z"
   },
   {
    "duration": 0,
    "start_time": "2022-05-14T07:52:10.334Z"
   },
   {
    "duration": 0,
    "start_time": "2022-05-14T07:52:10.336Z"
   },
   {
    "duration": 0,
    "start_time": "2022-05-14T07:52:10.339Z"
   },
   {
    "duration": 0,
    "start_time": "2022-05-14T07:52:10.341Z"
   },
   {
    "duration": 0,
    "start_time": "2022-05-14T07:52:10.343Z"
   },
   {
    "duration": 0,
    "start_time": "2022-05-14T07:52:10.345Z"
   },
   {
    "duration": 0,
    "start_time": "2022-05-14T07:52:10.347Z"
   },
   {
    "duration": 0,
    "start_time": "2022-05-14T07:52:10.348Z"
   },
   {
    "duration": 0,
    "start_time": "2022-05-14T07:52:10.350Z"
   },
   {
    "duration": 0,
    "start_time": "2022-05-14T07:52:10.353Z"
   },
   {
    "duration": 0,
    "start_time": "2022-05-14T07:52:10.394Z"
   },
   {
    "duration": 1,
    "start_time": "2022-05-14T07:52:10.396Z"
   },
   {
    "duration": 0,
    "start_time": "2022-05-14T07:52:10.398Z"
   },
   {
    "duration": 0,
    "start_time": "2022-05-14T07:52:10.400Z"
   },
   {
    "duration": 0,
    "start_time": "2022-05-14T07:52:10.402Z"
   },
   {
    "duration": 0,
    "start_time": "2022-05-14T07:52:10.405Z"
   },
   {
    "duration": 0,
    "start_time": "2022-05-14T07:52:10.406Z"
   },
   {
    "duration": 0,
    "start_time": "2022-05-14T07:52:10.408Z"
   },
   {
    "duration": 0,
    "start_time": "2022-05-14T07:52:10.409Z"
   },
   {
    "duration": 0,
    "start_time": "2022-05-14T07:52:10.411Z"
   },
   {
    "duration": 0,
    "start_time": "2022-05-14T07:52:10.412Z"
   },
   {
    "duration": 0,
    "start_time": "2022-05-14T07:52:10.413Z"
   },
   {
    "duration": 31,
    "start_time": "2022-05-14T07:54:14.172Z"
   },
   {
    "duration": 12,
    "start_time": "2022-05-14T07:54:38.292Z"
   },
   {
    "duration": 19,
    "start_time": "2022-05-14T07:55:27.553Z"
   },
   {
    "duration": 2060,
    "start_time": "2022-05-14T07:56:29.368Z"
   },
   {
    "duration": 2041,
    "start_time": "2022-05-14T07:56:46.096Z"
   },
   {
    "duration": 8,
    "start_time": "2022-05-14T07:57:23.624Z"
   },
   {
    "duration": 584,
    "start_time": "2022-05-14T08:04:03.179Z"
   },
   {
    "duration": 48,
    "start_time": "2022-05-14T08:04:03.765Z"
   },
   {
    "duration": 41,
    "start_time": "2022-05-14T08:04:03.815Z"
   },
   {
    "duration": 60,
    "start_time": "2022-05-14T08:04:03.859Z"
   },
   {
    "duration": 23,
    "start_time": "2022-05-14T08:04:03.921Z"
   },
   {
    "duration": 69,
    "start_time": "2022-05-14T08:04:03.946Z"
   },
   {
    "duration": 266,
    "start_time": "2022-05-14T08:04:04.018Z"
   },
   {
    "duration": 11,
    "start_time": "2022-05-14T08:04:04.294Z"
   },
   {
    "duration": 16,
    "start_time": "2022-05-14T08:04:04.307Z"
   },
   {
    "duration": 10,
    "start_time": "2022-05-14T08:04:04.327Z"
   },
   {
    "duration": 142,
    "start_time": "2022-05-14T08:04:04.339Z"
   },
   {
    "duration": 346,
    "start_time": "2022-05-14T08:04:04.483Z"
   },
   {
    "duration": 22,
    "start_time": "2022-05-14T08:04:04.831Z"
   },
   {
    "duration": 37,
    "start_time": "2022-05-14T08:04:04.856Z"
   },
   {
    "duration": 369,
    "start_time": "2022-05-14T08:04:04.895Z"
   },
   {
    "duration": 41,
    "start_time": "2022-05-14T08:04:05.266Z"
   },
   {
    "duration": 39,
    "start_time": "2022-05-14T08:04:05.309Z"
   },
   {
    "duration": 76,
    "start_time": "2022-05-14T08:04:05.350Z"
   },
   {
    "duration": 350,
    "start_time": "2022-05-14T08:04:05.428Z"
   },
   {
    "duration": 22,
    "start_time": "2022-05-14T08:04:05.780Z"
   },
   {
    "duration": 20,
    "start_time": "2022-05-14T08:04:05.804Z"
   },
   {
    "duration": 657,
    "start_time": "2022-05-14T08:04:05.826Z"
   },
   {
    "duration": 33,
    "start_time": "2022-05-14T08:04:06.486Z"
   },
   {
    "duration": 24,
    "start_time": "2022-05-14T08:04:06.522Z"
   },
   {
    "duration": 377,
    "start_time": "2022-05-14T08:04:06.548Z"
   },
   {
    "duration": 120,
    "start_time": "2022-05-14T08:04:06.928Z"
   },
   {
    "duration": 103,
    "start_time": "2022-05-14T08:04:07.050Z"
   },
   {
    "duration": 64,
    "start_time": "2022-05-14T08:04:07.160Z"
   },
   {
    "duration": 7,
    "start_time": "2022-05-14T08:04:07.226Z"
   },
   {
    "duration": 16,
    "start_time": "2022-05-14T08:04:07.235Z"
   },
   {
    "duration": 42,
    "start_time": "2022-05-14T08:04:07.253Z"
   },
   {
    "duration": 30,
    "start_time": "2022-05-14T08:04:07.297Z"
   },
   {
    "duration": 14,
    "start_time": "2022-05-14T08:04:07.329Z"
   },
   {
    "duration": 508,
    "start_time": "2022-05-14T08:04:07.345Z"
   },
   {
    "duration": 30,
    "start_time": "2022-05-14T08:04:07.855Z"
   },
   {
    "duration": 34,
    "start_time": "2022-05-14T08:04:07.893Z"
   },
   {
    "duration": 10,
    "start_time": "2022-05-14T08:04:07.929Z"
   },
   {
    "duration": 8,
    "start_time": "2022-05-14T08:04:09.347Z"
   },
   {
    "duration": 45,
    "start_time": "2022-05-14T08:04:09.357Z"
   },
   {
    "duration": 574,
    "start_time": "2022-05-14T08:04:09.405Z"
   },
   {
    "duration": 36,
    "start_time": "2022-05-14T08:04:09.981Z"
   },
   {
    "duration": 9,
    "start_time": "2022-05-14T08:04:10.020Z"
   },
   {
    "duration": 19,
    "start_time": "2022-05-14T08:04:10.032Z"
   },
   {
    "duration": 44,
    "start_time": "2022-05-14T08:04:10.053Z"
   },
   {
    "duration": 29,
    "start_time": "2022-05-14T08:04:10.099Z"
   },
   {
    "duration": 2060,
    "start_time": "2022-05-14T08:04:10.130Z"
   },
   {
    "duration": 20,
    "start_time": "2022-05-14T08:04:12.192Z"
   },
   {
    "duration": 0,
    "start_time": "2022-05-14T08:04:12.215Z"
   },
   {
    "duration": 0,
    "start_time": "2022-05-14T08:04:12.217Z"
   },
   {
    "duration": 0,
    "start_time": "2022-05-14T08:04:12.219Z"
   },
   {
    "duration": 0,
    "start_time": "2022-05-14T08:04:12.222Z"
   },
   {
    "duration": 0,
    "start_time": "2022-05-14T08:04:12.224Z"
   },
   {
    "duration": 0,
    "start_time": "2022-05-14T08:04:12.226Z"
   },
   {
    "duration": 0,
    "start_time": "2022-05-14T08:04:12.228Z"
   },
   {
    "duration": 0,
    "start_time": "2022-05-14T08:04:12.230Z"
   },
   {
    "duration": 0,
    "start_time": "2022-05-14T08:04:12.233Z"
   },
   {
    "duration": 0,
    "start_time": "2022-05-14T08:04:12.235Z"
   },
   {
    "duration": 0,
    "start_time": "2022-05-14T08:04:12.238Z"
   },
   {
    "duration": 0,
    "start_time": "2022-05-14T08:04:12.240Z"
   },
   {
    "duration": 0,
    "start_time": "2022-05-14T08:04:12.243Z"
   },
   {
    "duration": 0,
    "start_time": "2022-05-14T08:04:12.301Z"
   },
   {
    "duration": 0,
    "start_time": "2022-05-14T08:04:12.303Z"
   },
   {
    "duration": 0,
    "start_time": "2022-05-14T08:04:12.305Z"
   },
   {
    "duration": 0,
    "start_time": "2022-05-14T08:04:12.308Z"
   },
   {
    "duration": 0,
    "start_time": "2022-05-14T08:04:12.310Z"
   },
   {
    "duration": 0,
    "start_time": "2022-05-14T08:04:12.312Z"
   },
   {
    "duration": 0,
    "start_time": "2022-05-14T08:04:12.314Z"
   },
   {
    "duration": 0,
    "start_time": "2022-05-14T08:04:12.317Z"
   },
   {
    "duration": 0,
    "start_time": "2022-05-14T08:04:12.319Z"
   },
   {
    "duration": 0,
    "start_time": "2022-05-14T08:04:12.321Z"
   },
   {
    "duration": 0,
    "start_time": "2022-05-14T08:04:12.323Z"
   },
   {
    "duration": 0,
    "start_time": "2022-05-14T08:04:12.325Z"
   },
   {
    "duration": 1493,
    "start_time": "2022-05-14T08:04:25.120Z"
   },
   {
    "duration": 2138,
    "start_time": "2022-05-14T08:07:49.639Z"
   },
   {
    "duration": 1950,
    "start_time": "2022-05-14T08:08:20.628Z"
   },
   {
    "duration": 9,
    "start_time": "2022-05-14T08:09:42.968Z"
   },
   {
    "duration": 2667,
    "start_time": "2022-05-14T08:12:57.768Z"
   },
   {
    "duration": 17,
    "start_time": "2022-05-14T08:16:49.338Z"
   },
   {
    "duration": 18,
    "start_time": "2022-05-14T08:17:03.711Z"
   },
   {
    "duration": 52,
    "start_time": "2022-05-14T08:17:26.427Z"
   },
   {
    "duration": 17,
    "start_time": "2022-05-14T08:18:12.298Z"
   },
   {
    "duration": 56,
    "start_time": "2022-05-14T08:28:50.638Z"
   },
   {
    "duration": 4261,
    "start_time": "2022-05-14T08:31:08.337Z"
   },
   {
    "duration": 250,
    "start_time": "2022-05-14T08:31:25.954Z"
   },
   {
    "duration": 236,
    "start_time": "2022-05-14T08:31:56.246Z"
   },
   {
    "duration": 276,
    "start_time": "2022-05-14T08:33:11.774Z"
   },
   {
    "duration": 22,
    "start_time": "2022-05-14T08:33:47.633Z"
   },
   {
    "duration": 15,
    "start_time": "2022-05-14T08:34:11.009Z"
   },
   {
    "duration": 330,
    "start_time": "2022-05-14T08:34:23.489Z"
   },
   {
    "duration": 11,
    "start_time": "2022-05-14T08:34:43.474Z"
   },
   {
    "duration": 300,
    "start_time": "2022-05-14T08:34:55.685Z"
   },
   {
    "duration": 605,
    "start_time": "2022-05-14T08:35:16.161Z"
   },
   {
    "duration": 609,
    "start_time": "2022-05-14T08:35:34.681Z"
   },
   {
    "duration": 303,
    "start_time": "2022-05-14T08:35:44.337Z"
   },
   {
    "duration": 10,
    "start_time": "2022-05-14T08:36:00.037Z"
   },
   {
    "duration": 11,
    "start_time": "2022-05-14T08:36:14.978Z"
   },
   {
    "duration": 311,
    "start_time": "2022-05-14T08:36:26.885Z"
   },
   {
    "duration": 12,
    "start_time": "2022-05-14T08:36:53.921Z"
   },
   {
    "duration": 55,
    "start_time": "2022-05-14T08:37:52.109Z"
   },
   {
    "duration": 301,
    "start_time": "2022-05-14T08:38:09.193Z"
   },
   {
    "duration": 11,
    "start_time": "2022-05-14T08:38:25.385Z"
   },
   {
    "duration": 15,
    "start_time": "2022-05-14T08:41:02.128Z"
   },
   {
    "duration": 19,
    "start_time": "2022-05-14T08:41:15.601Z"
   },
   {
    "duration": 19,
    "start_time": "2022-05-14T08:41:17.269Z"
   },
   {
    "duration": 438,
    "start_time": "2022-05-14T08:41:24.733Z"
   },
   {
    "duration": 15,
    "start_time": "2022-05-14T08:45:57.560Z"
   },
   {
    "duration": 22,
    "start_time": "2022-05-14T08:46:29.845Z"
   },
   {
    "duration": 411,
    "start_time": "2022-05-14T08:46:32.189Z"
   },
   {
    "duration": 15,
    "start_time": "2022-05-14T09:04:06.871Z"
   },
   {
    "duration": 5,
    "start_time": "2022-05-14T09:04:13.555Z"
   },
   {
    "duration": 2209,
    "start_time": "2022-05-14T09:05:05.263Z"
   },
   {
    "duration": 294,
    "start_time": "2022-05-14T09:05:42.071Z"
   },
   {
    "duration": 310,
    "start_time": "2022-05-14T09:06:02.779Z"
   },
   {
    "duration": 337,
    "start_time": "2022-05-14T09:06:22.615Z"
   },
   {
    "duration": 50,
    "start_time": "2022-05-14T09:07:07.279Z"
   },
   {
    "duration": 50,
    "start_time": "2022-05-14T09:07:27.711Z"
   },
   {
    "duration": 20,
    "start_time": "2022-05-14T09:10:37.950Z"
   },
   {
    "duration": 20,
    "start_time": "2022-05-14T09:10:53.700Z"
   },
   {
    "duration": 20,
    "start_time": "2022-05-14T09:12:37.554Z"
   },
   {
    "duration": 203,
    "start_time": "2022-05-14T09:14:52.418Z"
   },
   {
    "duration": 585,
    "start_time": "2022-05-14T09:15:08.381Z"
   },
   {
    "duration": 47,
    "start_time": "2022-05-14T09:15:08.968Z"
   },
   {
    "duration": 40,
    "start_time": "2022-05-14T09:15:09.018Z"
   },
   {
    "duration": 53,
    "start_time": "2022-05-14T09:15:09.062Z"
   },
   {
    "duration": 24,
    "start_time": "2022-05-14T09:15:09.118Z"
   },
   {
    "duration": 65,
    "start_time": "2022-05-14T09:15:09.144Z"
   },
   {
    "duration": 272,
    "start_time": "2022-05-14T09:15:09.212Z"
   },
   {
    "duration": 10,
    "start_time": "2022-05-14T09:15:09.493Z"
   },
   {
    "duration": 21,
    "start_time": "2022-05-14T09:15:09.506Z"
   },
   {
    "duration": 10,
    "start_time": "2022-05-14T09:15:09.531Z"
   },
   {
    "duration": 133,
    "start_time": "2022-05-14T09:15:09.543Z"
   },
   {
    "duration": 352,
    "start_time": "2022-05-14T09:15:09.678Z"
   },
   {
    "duration": 27,
    "start_time": "2022-05-14T09:15:10.032Z"
   },
   {
    "duration": 40,
    "start_time": "2022-05-14T09:15:10.062Z"
   },
   {
    "duration": 361,
    "start_time": "2022-05-14T09:15:10.104Z"
   },
   {
    "duration": 36,
    "start_time": "2022-05-14T09:15:10.467Z"
   },
   {
    "duration": 37,
    "start_time": "2022-05-14T09:15:10.505Z"
   },
   {
    "duration": 74,
    "start_time": "2022-05-14T09:15:10.545Z"
   },
   {
    "duration": 349,
    "start_time": "2022-05-14T09:15:10.621Z"
   },
   {
    "duration": 19,
    "start_time": "2022-05-14T09:15:10.973Z"
   },
   {
    "duration": 13,
    "start_time": "2022-05-14T09:15:10.995Z"
   },
   {
    "duration": 340,
    "start_time": "2022-05-14T09:15:11.011Z"
   },
   {
    "duration": 23,
    "start_time": "2022-05-14T09:15:11.353Z"
   },
   {
    "duration": 36,
    "start_time": "2022-05-14T09:15:11.378Z"
   },
   {
    "duration": 348,
    "start_time": "2022-05-14T09:15:11.416Z"
   },
   {
    "duration": 115,
    "start_time": "2022-05-14T09:15:11.766Z"
   },
   {
    "duration": 87,
    "start_time": "2022-05-14T09:15:11.884Z"
   },
   {
    "duration": 45,
    "start_time": "2022-05-14T09:15:11.994Z"
   },
   {
    "duration": 6,
    "start_time": "2022-05-14T09:15:12.041Z"
   },
   {
    "duration": 12,
    "start_time": "2022-05-14T09:15:12.049Z"
   },
   {
    "duration": 16,
    "start_time": "2022-05-14T09:15:12.093Z"
   },
   {
    "duration": 18,
    "start_time": "2022-05-14T09:15:12.111Z"
   },
   {
    "duration": 13,
    "start_time": "2022-05-14T09:15:12.131Z"
   },
   {
    "duration": 479,
    "start_time": "2022-05-14T09:15:12.146Z"
   },
   {
    "duration": 29,
    "start_time": "2022-05-14T09:15:12.627Z"
   },
   {
    "duration": 51,
    "start_time": "2022-05-14T09:15:12.658Z"
   },
   {
    "duration": 11,
    "start_time": "2022-05-14T09:15:12.711Z"
   },
   {
    "duration": 1321,
    "start_time": "2022-05-14T09:15:12.724Z"
   },
   {
    "duration": 7,
    "start_time": "2022-05-14T09:15:14.048Z"
   },
   {
    "duration": 45,
    "start_time": "2022-05-14T09:15:14.058Z"
   },
   {
    "duration": 588,
    "start_time": "2022-05-14T09:15:14.106Z"
   },
   {
    "duration": 27,
    "start_time": "2022-05-14T09:15:14.697Z"
   },
   {
    "duration": 10,
    "start_time": "2022-05-14T09:15:14.725Z"
   },
   {
    "duration": 15,
    "start_time": "2022-05-14T09:15:14.737Z"
   },
   {
    "duration": 47,
    "start_time": "2022-05-14T09:15:14.755Z"
   },
   {
    "duration": 13,
    "start_time": "2022-05-14T09:15:14.805Z"
   },
   {
    "duration": 2039,
    "start_time": "2022-05-14T09:15:14.821Z"
   },
   {
    "duration": 10,
    "start_time": "2022-05-14T09:15:16.862Z"
   },
   {
    "duration": 2679,
    "start_time": "2022-05-14T09:15:16.874Z"
   },
   {
    "duration": 285,
    "start_time": "2022-05-14T09:15:19.555Z"
   },
   {
    "duration": 269,
    "start_time": "2022-05-14T09:15:19.843Z"
   },
   {
    "duration": 292,
    "start_time": "2022-05-14T09:15:20.115Z"
   },
   {
    "duration": 17,
    "start_time": "2022-05-14T09:15:20.409Z"
   },
   {
    "duration": 341,
    "start_time": "2022-05-14T09:15:20.429Z"
   },
   {
    "duration": 23,
    "start_time": "2022-05-14T09:15:20.773Z"
   },
   {
    "duration": 313,
    "start_time": "2022-05-14T09:15:20.799Z"
   },
   {
    "duration": 323,
    "start_time": "2022-05-14T09:15:21.114Z"
   },
   {
    "duration": 9,
    "start_time": "2022-05-14T09:15:21.439Z"
   },
   {
    "duration": 13,
    "start_time": "2022-05-14T09:15:21.450Z"
   },
   {
    "duration": 331,
    "start_time": "2022-05-14T09:15:21.466Z"
   },
   {
    "duration": 10,
    "start_time": "2022-05-14T09:15:21.800Z"
   },
   {
    "duration": 81,
    "start_time": "2022-05-14T09:15:21.813Z"
   },
   {
    "duration": 53,
    "start_time": "2022-05-14T09:15:21.897Z"
   },
   {
    "duration": 16,
    "start_time": "2022-05-14T09:15:21.952Z"
   },
   {
    "duration": 18,
    "start_time": "2022-05-14T09:15:21.994Z"
   },
   {
    "duration": 444,
    "start_time": "2022-05-14T09:15:22.014Z"
   },
   {
    "duration": 15,
    "start_time": "2022-05-14T09:15:22.460Z"
   },
   {
    "duration": 33,
    "start_time": "2022-05-14T09:15:22.477Z"
   },
   {
    "duration": 447,
    "start_time": "2022-05-14T09:15:22.512Z"
   },
   {
    "duration": 6,
    "start_time": "2022-05-14T09:15:22.961Z"
   },
   {
    "duration": 1807,
    "start_time": "2022-05-14T09:15:22.969Z"
   },
   {
    "duration": 315,
    "start_time": "2022-05-14T09:15:24.778Z"
   },
   {
    "duration": 313,
    "start_time": "2022-05-14T09:15:25.095Z"
   },
   {
    "duration": 308,
    "start_time": "2022-05-14T09:15:25.410Z"
   },
   {
    "duration": 50,
    "start_time": "2022-05-14T09:15:25.720Z"
   },
   {
    "duration": 24,
    "start_time": "2022-05-14T09:15:25.773Z"
   },
   {
    "duration": 5,
    "start_time": "2022-05-14T09:15:25.799Z"
   },
   {
    "duration": 11,
    "start_time": "2022-05-14T09:15:25.806Z"
   },
   {
    "duration": 1891,
    "start_time": "2022-05-14T09:15:25.819Z"
   },
   {
    "duration": 0,
    "start_time": "2022-05-14T09:15:27.713Z"
   },
   {
    "duration": 0,
    "start_time": "2022-05-14T09:15:27.714Z"
   },
   {
    "duration": 0,
    "start_time": "2022-05-14T09:15:27.716Z"
   },
   {
    "duration": 0,
    "start_time": "2022-05-14T09:15:27.717Z"
   },
   {
    "duration": 236,
    "start_time": "2022-05-14T09:23:32.502Z"
   },
   {
    "duration": 634,
    "start_time": "2022-05-14T09:23:49.934Z"
   },
   {
    "duration": 46,
    "start_time": "2022-05-14T09:23:50.571Z"
   },
   {
    "duration": 41,
    "start_time": "2022-05-14T09:23:50.620Z"
   },
   {
    "duration": 62,
    "start_time": "2022-05-14T09:23:50.663Z"
   },
   {
    "duration": 24,
    "start_time": "2022-05-14T09:23:50.729Z"
   },
   {
    "duration": 62,
    "start_time": "2022-05-14T09:23:50.755Z"
   },
   {
    "duration": 275,
    "start_time": "2022-05-14T09:23:50.819Z"
   },
   {
    "duration": 10,
    "start_time": "2022-05-14T09:23:51.096Z"
   },
   {
    "duration": 14,
    "start_time": "2022-05-14T09:23:51.108Z"
   },
   {
    "duration": 11,
    "start_time": "2022-05-14T09:23:51.124Z"
   },
   {
    "duration": 203,
    "start_time": "2022-05-14T09:23:51.137Z"
   },
   {
    "duration": 568,
    "start_time": "2022-05-14T09:23:51.342Z"
   },
   {
    "duration": 34,
    "start_time": "2022-05-14T09:23:51.913Z"
   },
   {
    "duration": 43,
    "start_time": "2022-05-14T09:23:51.954Z"
   },
   {
    "duration": 585,
    "start_time": "2022-05-14T09:23:51.999Z"
   },
   {
    "duration": 42,
    "start_time": "2022-05-14T09:23:52.587Z"
   },
   {
    "duration": 84,
    "start_time": "2022-05-14T09:23:52.632Z"
   },
   {
    "duration": 82,
    "start_time": "2022-05-14T09:23:52.719Z"
   },
   {
    "duration": 577,
    "start_time": "2022-05-14T09:23:52.804Z"
   },
   {
    "duration": 21,
    "start_time": "2022-05-14T09:23:53.384Z"
   },
   {
    "duration": 20,
    "start_time": "2022-05-14T09:23:53.409Z"
   },
   {
    "duration": 581,
    "start_time": "2022-05-14T09:23:53.432Z"
   },
   {
    "duration": 33,
    "start_time": "2022-05-14T09:23:54.017Z"
   },
   {
    "duration": 58,
    "start_time": "2022-05-14T09:23:54.054Z"
   },
   {
    "duration": 371,
    "start_time": "2022-05-14T09:23:54.114Z"
   },
   {
    "duration": 123,
    "start_time": "2022-05-14T09:23:54.487Z"
   },
   {
    "duration": 99,
    "start_time": "2022-05-14T09:23:54.612Z"
   },
   {
    "duration": 50,
    "start_time": "2022-05-14T09:23:54.714Z"
   },
   {
    "duration": 29,
    "start_time": "2022-05-14T09:23:54.766Z"
   },
   {
    "duration": 13,
    "start_time": "2022-05-14T09:23:54.798Z"
   },
   {
    "duration": 19,
    "start_time": "2022-05-14T09:23:54.814Z"
   },
   {
    "duration": 60,
    "start_time": "2022-05-14T09:23:54.836Z"
   },
   {
    "duration": 14,
    "start_time": "2022-05-14T09:23:54.899Z"
   },
   {
    "duration": 480,
    "start_time": "2022-05-14T09:23:54.916Z"
   },
   {
    "duration": 30,
    "start_time": "2022-05-14T09:23:55.398Z"
   },
   {
    "duration": 32,
    "start_time": "2022-05-14T09:23:55.430Z"
   },
   {
    "duration": 38,
    "start_time": "2022-05-14T09:23:55.464Z"
   },
   {
    "duration": 1795,
    "start_time": "2022-05-14T09:23:55.505Z"
   },
   {
    "duration": 8,
    "start_time": "2022-05-14T09:23:57.302Z"
   },
   {
    "duration": 50,
    "start_time": "2022-05-14T09:23:57.313Z"
   },
   {
    "duration": 621,
    "start_time": "2022-05-14T09:23:57.371Z"
   },
   {
    "duration": 30,
    "start_time": "2022-05-14T09:23:57.994Z"
   },
   {
    "duration": 11,
    "start_time": "2022-05-14T09:23:58.026Z"
   },
   {
    "duration": 19,
    "start_time": "2022-05-14T09:23:58.039Z"
   },
   {
    "duration": 17,
    "start_time": "2022-05-14T09:23:58.094Z"
   },
   {
    "duration": 14,
    "start_time": "2022-05-14T09:23:58.115Z"
   },
   {
    "duration": 2071,
    "start_time": "2022-05-14T09:23:58.131Z"
   },
   {
    "duration": 9,
    "start_time": "2022-05-14T09:24:00.205Z"
   },
   {
    "duration": 2150,
    "start_time": "2022-05-14T09:24:00.217Z"
   },
   {
    "duration": 272,
    "start_time": "2022-05-14T09:24:02.370Z"
   },
   {
    "duration": 264,
    "start_time": "2022-05-14T09:24:02.645Z"
   },
   {
    "duration": 391,
    "start_time": "2022-05-14T09:24:02.911Z"
   },
   {
    "duration": 15,
    "start_time": "2022-05-14T09:24:03.304Z"
   },
   {
    "duration": 351,
    "start_time": "2022-05-14T09:24:03.323Z"
   },
   {
    "duration": 21,
    "start_time": "2022-05-14T09:24:03.676Z"
   },
   {
    "duration": 517,
    "start_time": "2022-05-14T09:24:03.700Z"
   },
   {
    "duration": 531,
    "start_time": "2022-05-14T09:24:04.220Z"
   },
   {
    "duration": 11,
    "start_time": "2022-05-14T09:24:04.754Z"
   },
   {
    "duration": 30,
    "start_time": "2022-05-14T09:24:04.768Z"
   },
   {
    "duration": 322,
    "start_time": "2022-05-14T09:24:04.800Z"
   },
   {
    "duration": 9,
    "start_time": "2022-05-14T09:24:05.124Z"
   },
   {
    "duration": 78,
    "start_time": "2022-05-14T09:24:05.135Z"
   },
   {
    "duration": 58,
    "start_time": "2022-05-14T09:24:05.215Z"
   },
   {
    "duration": 18,
    "start_time": "2022-05-14T09:24:05.294Z"
   },
   {
    "duration": 21,
    "start_time": "2022-05-14T09:24:05.315Z"
   },
   {
    "duration": 437,
    "start_time": "2022-05-14T09:24:05.339Z"
   },
   {
    "duration": 23,
    "start_time": "2022-05-14T09:24:05.778Z"
   },
   {
    "duration": 31,
    "start_time": "2022-05-14T09:24:05.804Z"
   },
   {
    "duration": 623,
    "start_time": "2022-05-14T09:24:05.838Z"
   },
   {
    "duration": 7,
    "start_time": "2022-05-14T09:24:06.464Z"
   },
   {
    "duration": 1800,
    "start_time": "2022-05-14T09:24:06.474Z"
   },
   {
    "duration": 326,
    "start_time": "2022-05-14T09:24:08.276Z"
   },
   {
    "duration": 323,
    "start_time": "2022-05-14T09:24:08.604Z"
   },
   {
    "duration": 323,
    "start_time": "2022-05-14T09:24:08.930Z"
   },
   {
    "duration": 51,
    "start_time": "2022-05-14T09:24:09.256Z"
   },
   {
    "duration": 21,
    "start_time": "2022-05-14T09:24:09.309Z"
   },
   {
    "duration": 4,
    "start_time": "2022-05-14T09:24:09.332Z"
   },
   {
    "duration": 8,
    "start_time": "2022-05-14T09:24:09.338Z"
   },
   {
    "duration": 2292,
    "start_time": "2022-05-14T09:24:09.348Z"
   },
   {
    "duration": 0,
    "start_time": "2022-05-14T09:24:11.642Z"
   },
   {
    "duration": 0,
    "start_time": "2022-05-14T09:24:11.644Z"
   },
   {
    "duration": 0,
    "start_time": "2022-05-14T09:24:11.645Z"
   },
   {
    "duration": 0,
    "start_time": "2022-05-14T09:24:11.646Z"
   },
   {
    "duration": 704,
    "start_time": "2022-05-14T09:27:47.866Z"
   },
   {
    "duration": 81,
    "start_time": "2022-05-14T09:27:48.573Z"
   },
   {
    "duration": 72,
    "start_time": "2022-05-14T09:27:48.656Z"
   },
   {
    "duration": 62,
    "start_time": "2022-05-14T09:27:48.731Z"
   },
   {
    "duration": 40,
    "start_time": "2022-05-14T09:27:48.796Z"
   },
   {
    "duration": 69,
    "start_time": "2022-05-14T09:27:48.838Z"
   },
   {
    "duration": 409,
    "start_time": "2022-05-14T09:27:48.910Z"
   },
   {
    "duration": 11,
    "start_time": "2022-05-14T09:27:49.322Z"
   },
   {
    "duration": 14,
    "start_time": "2022-05-14T09:27:49.336Z"
   },
   {
    "duration": 47,
    "start_time": "2022-05-14T09:27:49.354Z"
   },
   {
    "duration": 192,
    "start_time": "2022-05-14T09:27:49.404Z"
   },
   {
    "duration": 486,
    "start_time": "2022-05-14T09:27:49.599Z"
   },
   {
    "duration": 35,
    "start_time": "2022-05-14T09:27:50.094Z"
   },
   {
    "duration": 16,
    "start_time": "2022-05-14T09:27:50.131Z"
   },
   {
    "duration": 504,
    "start_time": "2022-05-14T09:27:50.149Z"
   },
   {
    "duration": 43,
    "start_time": "2022-05-14T09:27:50.656Z"
   },
   {
    "duration": 41,
    "start_time": "2022-05-14T09:27:50.701Z"
   },
   {
    "duration": 77,
    "start_time": "2022-05-14T09:27:50.744Z"
   },
   {
    "duration": 598,
    "start_time": "2022-05-14T09:27:50.823Z"
   },
   {
    "duration": 13,
    "start_time": "2022-05-14T09:27:51.423Z"
   },
   {
    "duration": 14,
    "start_time": "2022-05-14T09:27:51.439Z"
   },
   {
    "duration": 388,
    "start_time": "2022-05-14T09:27:51.455Z"
   },
   {
    "duration": 24,
    "start_time": "2022-05-14T09:27:51.846Z"
   },
   {
    "duration": 43,
    "start_time": "2022-05-14T09:27:51.872Z"
   },
   {
    "duration": 375,
    "start_time": "2022-05-14T09:27:51.918Z"
   },
   {
    "duration": 120,
    "start_time": "2022-05-14T09:27:52.295Z"
   },
   {
    "duration": 115,
    "start_time": "2022-05-14T09:27:52.417Z"
   },
   {
    "duration": 63,
    "start_time": "2022-05-14T09:27:52.538Z"
   },
   {
    "duration": 7,
    "start_time": "2022-05-14T09:27:52.603Z"
   },
   {
    "duration": 14,
    "start_time": "2022-05-14T09:27:52.613Z"
   },
   {
    "duration": 15,
    "start_time": "2022-05-14T09:27:52.629Z"
   },
   {
    "duration": 54,
    "start_time": "2022-05-14T09:27:52.647Z"
   },
   {
    "duration": 13,
    "start_time": "2022-05-14T09:27:52.703Z"
   },
   {
    "duration": 486,
    "start_time": "2022-05-14T09:27:52.719Z"
   },
   {
    "duration": 40,
    "start_time": "2022-05-14T09:27:53.208Z"
   },
   {
    "duration": 55,
    "start_time": "2022-05-14T09:27:53.251Z"
   },
   {
    "duration": 12,
    "start_time": "2022-05-14T09:27:53.308Z"
   },
   {
    "duration": 1405,
    "start_time": "2022-05-14T09:27:53.322Z"
   },
   {
    "duration": 7,
    "start_time": "2022-05-14T09:27:54.729Z"
   },
   {
    "duration": 56,
    "start_time": "2022-05-14T09:27:54.738Z"
   },
   {
    "duration": 557,
    "start_time": "2022-05-14T09:27:54.797Z"
   },
   {
    "duration": 43,
    "start_time": "2022-05-14T09:27:55.357Z"
   },
   {
    "duration": 9,
    "start_time": "2022-05-14T09:27:55.403Z"
   },
   {
    "duration": 16,
    "start_time": "2022-05-14T09:27:55.415Z"
   },
   {
    "duration": 17,
    "start_time": "2022-05-14T09:27:55.433Z"
   },
   {
    "duration": 49,
    "start_time": "2022-05-14T09:27:55.452Z"
   },
   {
    "duration": 2075,
    "start_time": "2022-05-14T09:27:55.504Z"
   },
   {
    "duration": 17,
    "start_time": "2022-05-14T09:27:57.582Z"
   },
   {
    "duration": 2303,
    "start_time": "2022-05-14T09:27:57.601Z"
   },
   {
    "duration": 300,
    "start_time": "2022-05-14T09:27:59.906Z"
   },
   {
    "duration": 432,
    "start_time": "2022-05-14T09:28:00.209Z"
   },
   {
    "duration": 472,
    "start_time": "2022-05-14T09:28:00.643Z"
   },
   {
    "duration": 20,
    "start_time": "2022-05-14T09:28:01.118Z"
   },
   {
    "duration": 600,
    "start_time": "2022-05-14T09:28:01.141Z"
   },
   {
    "duration": 13,
    "start_time": "2022-05-14T09:28:01.743Z"
   },
   {
    "duration": 793,
    "start_time": "2022-05-14T09:28:01.758Z"
   },
   {
    "duration": 373,
    "start_time": "2022-05-14T09:28:02.553Z"
   },
   {
    "duration": 13,
    "start_time": "2022-05-14T09:28:02.929Z"
   },
   {
    "duration": 20,
    "start_time": "2022-05-14T09:28:02.945Z"
   },
   {
    "duration": 600,
    "start_time": "2022-05-14T09:28:02.967Z"
   },
   {
    "duration": 23,
    "start_time": "2022-05-14T09:28:03.570Z"
   },
   {
    "duration": 68,
    "start_time": "2022-05-14T09:28:03.595Z"
   },
   {
    "duration": 149,
    "start_time": "2022-05-14T09:28:03.665Z"
   },
   {
    "duration": 25,
    "start_time": "2022-05-14T09:28:03.817Z"
   },
   {
    "duration": 68,
    "start_time": "2022-05-14T09:28:03.846Z"
   },
   {
    "duration": 471,
    "start_time": "2022-05-14T09:28:03.917Z"
   },
   {
    "duration": 22,
    "start_time": "2022-05-14T09:28:04.391Z"
   },
   {
    "duration": 24,
    "start_time": "2022-05-14T09:28:04.416Z"
   },
   {
    "duration": 576,
    "start_time": "2022-05-14T09:28:04.442Z"
   },
   {
    "duration": 6,
    "start_time": "2022-05-14T09:28:05.021Z"
   },
   {
    "duration": 1973,
    "start_time": "2022-05-14T09:28:05.030Z"
   },
   {
    "duration": 339,
    "start_time": "2022-05-14T09:28:07.006Z"
   },
   {
    "duration": 334,
    "start_time": "2022-05-14T09:28:07.347Z"
   },
   {
    "duration": 337,
    "start_time": "2022-05-14T09:28:07.683Z"
   },
   {
    "duration": 51,
    "start_time": "2022-05-14T09:28:08.023Z"
   },
   {
    "duration": 32,
    "start_time": "2022-05-14T09:28:08.077Z"
   },
   {
    "duration": 7,
    "start_time": "2022-05-14T09:28:08.111Z"
   },
   {
    "duration": 11,
    "start_time": "2022-05-14T09:28:08.120Z"
   },
   {
    "duration": 2029,
    "start_time": "2022-05-14T09:28:08.134Z"
   },
   {
    "duration": 0,
    "start_time": "2022-05-14T09:28:10.166Z"
   },
   {
    "duration": 0,
    "start_time": "2022-05-14T09:28:10.168Z"
   },
   {
    "duration": 0,
    "start_time": "2022-05-14T09:28:10.169Z"
   },
   {
    "duration": 0,
    "start_time": "2022-05-14T09:28:10.171Z"
   },
   {
    "duration": 289,
    "start_time": "2022-05-14T09:30:26.017Z"
   },
   {
    "duration": 219,
    "start_time": "2022-05-14T09:31:19.529Z"
   },
   {
    "duration": 2434,
    "start_time": "2022-05-14T09:31:29.962Z"
   },
   {
    "duration": 555,
    "start_time": "2022-05-14T09:31:36.265Z"
   },
   {
    "duration": 46,
    "start_time": "2022-05-14T09:31:36.823Z"
   },
   {
    "duration": 68,
    "start_time": "2022-05-14T09:31:36.872Z"
   },
   {
    "duration": 78,
    "start_time": "2022-05-14T09:31:36.944Z"
   },
   {
    "duration": 33,
    "start_time": "2022-05-14T09:31:37.024Z"
   },
   {
    "duration": 72,
    "start_time": "2022-05-14T09:31:37.060Z"
   },
   {
    "duration": 431,
    "start_time": "2022-05-14T09:31:37.135Z"
   },
   {
    "duration": 24,
    "start_time": "2022-05-14T09:31:37.569Z"
   },
   {
    "duration": 12,
    "start_time": "2022-05-14T09:31:37.595Z"
   },
   {
    "duration": 11,
    "start_time": "2022-05-14T09:31:37.611Z"
   },
   {
    "duration": 146,
    "start_time": "2022-05-14T09:31:37.624Z"
   },
   {
    "duration": 357,
    "start_time": "2022-05-14T09:31:37.772Z"
   },
   {
    "duration": 23,
    "start_time": "2022-05-14T09:31:38.132Z"
   },
   {
    "duration": 43,
    "start_time": "2022-05-14T09:31:38.157Z"
   },
   {
    "duration": 371,
    "start_time": "2022-05-14T09:31:38.202Z"
   },
   {
    "duration": 33,
    "start_time": "2022-05-14T09:31:38.575Z"
   },
   {
    "duration": 40,
    "start_time": "2022-05-14T09:31:38.611Z"
   },
   {
    "duration": 88,
    "start_time": "2022-05-14T09:31:38.653Z"
   },
   {
    "duration": 361,
    "start_time": "2022-05-14T09:31:38.743Z"
   },
   {
    "duration": 14,
    "start_time": "2022-05-14T09:31:39.106Z"
   },
   {
    "duration": 20,
    "start_time": "2022-05-14T09:31:39.123Z"
   },
   {
    "duration": 603,
    "start_time": "2022-05-14T09:31:39.146Z"
   },
   {
    "duration": 41,
    "start_time": "2022-05-14T09:31:39.752Z"
   },
   {
    "duration": 26,
    "start_time": "2022-05-14T09:31:39.795Z"
   },
   {
    "duration": 422,
    "start_time": "2022-05-14T09:31:39.823Z"
   },
   {
    "duration": 111,
    "start_time": "2022-05-14T09:31:40.248Z"
   },
   {
    "duration": 91,
    "start_time": "2022-05-14T09:31:40.362Z"
   },
   {
    "duration": 56,
    "start_time": "2022-05-14T09:31:40.462Z"
   },
   {
    "duration": 7,
    "start_time": "2022-05-14T09:31:40.520Z"
   },
   {
    "duration": 13,
    "start_time": "2022-05-14T09:31:40.528Z"
   },
   {
    "duration": 20,
    "start_time": "2022-05-14T09:31:40.543Z"
   },
   {
    "duration": 29,
    "start_time": "2022-05-14T09:31:40.565Z"
   },
   {
    "duration": 13,
    "start_time": "2022-05-14T09:31:40.596Z"
   },
   {
    "duration": 474,
    "start_time": "2022-05-14T09:31:40.611Z"
   },
   {
    "duration": 33,
    "start_time": "2022-05-14T09:31:41.087Z"
   },
   {
    "duration": 32,
    "start_time": "2022-05-14T09:31:41.123Z"
   },
   {
    "duration": 11,
    "start_time": "2022-05-14T09:31:41.157Z"
   },
   {
    "duration": 1710,
    "start_time": "2022-05-14T09:31:41.170Z"
   },
   {
    "duration": 16,
    "start_time": "2022-05-14T09:31:42.883Z"
   },
   {
    "duration": 31,
    "start_time": "2022-05-14T09:31:42.901Z"
   },
   {
    "duration": 567,
    "start_time": "2022-05-14T09:31:42.934Z"
   },
   {
    "duration": 28,
    "start_time": "2022-05-14T09:31:43.503Z"
   },
   {
    "duration": 10,
    "start_time": "2022-05-14T09:31:43.533Z"
   },
   {
    "duration": 50,
    "start_time": "2022-05-14T09:31:43.545Z"
   },
   {
    "duration": 22,
    "start_time": "2022-05-14T09:31:43.597Z"
   },
   {
    "duration": 12,
    "start_time": "2022-05-14T09:31:43.621Z"
   },
   {
    "duration": 2022,
    "start_time": "2022-05-14T09:31:43.635Z"
   },
   {
    "duration": 9,
    "start_time": "2022-05-14T09:31:45.659Z"
   },
   {
    "duration": 2642,
    "start_time": "2022-05-14T09:31:45.671Z"
   },
   {
    "duration": 383,
    "start_time": "2022-05-14T09:31:48.315Z"
   },
   {
    "duration": 261,
    "start_time": "2022-05-14T09:31:48.701Z"
   },
   {
    "duration": 281,
    "start_time": "2022-05-14T09:31:48.964Z"
   },
   {
    "duration": 22,
    "start_time": "2022-05-14T09:31:49.248Z"
   },
   {
    "duration": 368,
    "start_time": "2022-05-14T09:31:49.292Z"
   },
   {
    "duration": 30,
    "start_time": "2022-05-14T09:31:49.663Z"
   },
   {
    "duration": 336,
    "start_time": "2022-05-14T09:31:49.695Z"
   },
   {
    "duration": 440,
    "start_time": "2022-05-14T09:31:50.033Z"
   },
   {
    "duration": 21,
    "start_time": "2022-05-14T09:31:50.476Z"
   },
   {
    "duration": 20,
    "start_time": "2022-05-14T09:31:50.500Z"
   },
   {
    "duration": 331,
    "start_time": "2022-05-14T09:31:50.522Z"
   },
   {
    "duration": 10,
    "start_time": "2022-05-14T09:31:50.856Z"
   },
   {
    "duration": 78,
    "start_time": "2022-05-14T09:31:50.868Z"
   },
   {
    "duration": 80,
    "start_time": "2022-05-14T09:31:50.948Z"
   },
   {
    "duration": 15,
    "start_time": "2022-05-14T09:31:51.031Z"
   },
   {
    "duration": 17,
    "start_time": "2022-05-14T09:31:51.048Z"
   },
   {
    "duration": 391,
    "start_time": "2022-05-14T09:31:51.093Z"
   },
   {
    "duration": 25,
    "start_time": "2022-05-14T09:31:51.486Z"
   },
   {
    "duration": 24,
    "start_time": "2022-05-14T09:31:51.514Z"
   },
   {
    "duration": 431,
    "start_time": "2022-05-14T09:31:51.540Z"
   },
   {
    "duration": 7,
    "start_time": "2022-05-14T09:31:51.973Z"
   },
   {
    "duration": 1792,
    "start_time": "2022-05-14T09:31:51.994Z"
   },
   {
    "duration": 325,
    "start_time": "2022-05-14T09:31:53.793Z"
   },
   {
    "duration": 326,
    "start_time": "2022-05-14T09:31:54.121Z"
   },
   {
    "duration": 323,
    "start_time": "2022-05-14T09:31:54.449Z"
   },
   {
    "duration": 52,
    "start_time": "2022-05-14T09:31:54.775Z"
   },
   {
    "duration": 25,
    "start_time": "2022-05-14T09:31:54.830Z"
   },
   {
    "duration": 4,
    "start_time": "2022-05-14T09:31:54.858Z"
   },
   {
    "duration": 31,
    "start_time": "2022-05-14T09:31:54.864Z"
   },
   {
    "duration": 1938,
    "start_time": "2022-05-14T09:31:54.897Z"
   },
   {
    "duration": 0,
    "start_time": "2022-05-14T09:31:56.838Z"
   },
   {
    "duration": 0,
    "start_time": "2022-05-14T09:31:56.840Z"
   },
   {
    "duration": 0,
    "start_time": "2022-05-14T09:31:56.842Z"
   },
   {
    "duration": 0,
    "start_time": "2022-05-14T09:31:56.843Z"
   },
   {
    "duration": 2306,
    "start_time": "2022-05-14T18:50:25.176Z"
   },
   {
    "duration": 50,
    "start_time": "2022-05-14T18:50:27.485Z"
   },
   {
    "duration": 43,
    "start_time": "2022-05-14T18:50:27.537Z"
   },
   {
    "duration": 34,
    "start_time": "2022-05-14T18:50:27.583Z"
   },
   {
    "duration": 51,
    "start_time": "2022-05-14T18:50:27.620Z"
   },
   {
    "duration": 31,
    "start_time": "2022-05-14T18:50:27.673Z"
   },
   {
    "duration": 305,
    "start_time": "2022-05-14T18:50:27.706Z"
   },
   {
    "duration": 9,
    "start_time": "2022-05-14T18:50:28.013Z"
   },
   {
    "duration": 30,
    "start_time": "2022-05-14T18:50:28.024Z"
   },
   {
    "duration": 10,
    "start_time": "2022-05-14T18:50:28.060Z"
   },
   {
    "duration": 141,
    "start_time": "2022-05-14T18:50:28.072Z"
   },
   {
    "duration": 357,
    "start_time": "2022-05-14T18:50:28.216Z"
   },
   {
    "duration": 22,
    "start_time": "2022-05-14T18:50:28.575Z"
   },
   {
    "duration": 13,
    "start_time": "2022-05-14T18:50:28.602Z"
   },
   {
    "duration": 351,
    "start_time": "2022-05-14T18:50:28.617Z"
   },
   {
    "duration": 23,
    "start_time": "2022-05-14T18:50:28.971Z"
   },
   {
    "duration": 67,
    "start_time": "2022-05-14T18:50:28.996Z"
   },
   {
    "duration": 53,
    "start_time": "2022-05-14T18:50:29.066Z"
   },
   {
    "duration": 339,
    "start_time": "2022-05-14T18:50:29.122Z"
   },
   {
    "duration": 14,
    "start_time": "2022-05-14T18:50:29.463Z"
   },
   {
    "duration": 26,
    "start_time": "2022-05-14T18:50:29.480Z"
   },
   {
    "duration": 332,
    "start_time": "2022-05-14T18:50:29.509Z"
   },
   {
    "duration": 28,
    "start_time": "2022-05-14T18:50:29.851Z"
   },
   {
    "duration": 25,
    "start_time": "2022-05-14T18:50:29.881Z"
   },
   {
    "duration": 347,
    "start_time": "2022-05-14T18:50:29.908Z"
   },
   {
    "duration": 124,
    "start_time": "2022-05-14T18:50:30.257Z"
   },
   {
    "duration": 99,
    "start_time": "2022-05-14T18:50:30.383Z"
   },
   {
    "duration": 44,
    "start_time": "2022-05-14T18:50:30.485Z"
   },
   {
    "duration": 14,
    "start_time": "2022-05-14T18:50:30.554Z"
   },
   {
    "duration": 31,
    "start_time": "2022-05-14T18:50:30.570Z"
   },
   {
    "duration": 60,
    "start_time": "2022-05-14T18:50:30.603Z"
   },
   {
    "duration": 32,
    "start_time": "2022-05-14T18:50:30.665Z"
   },
   {
    "duration": 29,
    "start_time": "2022-05-14T18:50:30.698Z"
   },
   {
    "duration": 562,
    "start_time": "2022-05-14T18:50:30.730Z"
   },
   {
    "duration": 29,
    "start_time": "2022-05-14T18:50:31.294Z"
   },
   {
    "duration": 32,
    "start_time": "2022-05-14T18:50:31.325Z"
   },
   {
    "duration": 46,
    "start_time": "2022-05-14T18:50:31.359Z"
   },
   {
    "duration": 10,
    "start_time": "2022-05-14T18:50:31.407Z"
   },
   {
    "duration": 1417,
    "start_time": "2022-05-14T18:50:31.420Z"
   },
   {
    "duration": 17,
    "start_time": "2022-05-14T18:50:32.840Z"
   },
   {
    "duration": 29,
    "start_time": "2022-05-14T18:50:32.866Z"
   },
   {
    "duration": 592,
    "start_time": "2022-05-14T18:50:32.898Z"
   },
   {
    "duration": 26,
    "start_time": "2022-05-14T18:50:33.493Z"
   },
   {
    "duration": 32,
    "start_time": "2022-05-14T18:50:33.522Z"
   },
   {
    "duration": 27,
    "start_time": "2022-05-14T18:50:33.558Z"
   },
   {
    "duration": 17,
    "start_time": "2022-05-14T18:50:33.587Z"
   },
   {
    "duration": 15,
    "start_time": "2022-05-14T18:50:33.606Z"
   },
   {
    "duration": 2564,
    "start_time": "2022-05-14T18:50:33.624Z"
   },
   {
    "duration": 11,
    "start_time": "2022-05-14T18:50:36.191Z"
   },
   {
    "duration": 3059,
    "start_time": "2022-05-14T18:50:36.205Z"
   },
   {
    "duration": 292,
    "start_time": "2022-05-14T18:50:39.267Z"
   },
   {
    "duration": 262,
    "start_time": "2022-05-14T18:50:39.562Z"
   },
   {
    "duration": 303,
    "start_time": "2022-05-14T18:50:39.827Z"
   },
   {
    "duration": 25,
    "start_time": "2022-05-14T18:50:40.132Z"
   },
   {
    "duration": 465,
    "start_time": "2022-05-14T18:50:40.160Z"
   },
   {
    "duration": 31,
    "start_time": "2022-05-14T18:50:40.628Z"
   },
   {
    "duration": 305,
    "start_time": "2022-05-14T18:50:40.669Z"
   },
   {
    "duration": 326,
    "start_time": "2022-05-14T18:50:40.977Z"
   },
   {
    "duration": 9,
    "start_time": "2022-05-14T18:50:41.305Z"
   },
   {
    "duration": 15,
    "start_time": "2022-05-14T18:50:41.316Z"
   },
   {
    "duration": 555,
    "start_time": "2022-05-14T18:50:41.361Z"
   },
   {
    "duration": 10,
    "start_time": "2022-05-14T18:50:41.918Z"
   },
   {
    "duration": 111,
    "start_time": "2022-05-14T18:50:41.930Z"
   },
   {
    "duration": 287,
    "start_time": "2022-05-14T18:50:42.044Z"
   },
   {
    "duration": 0,
    "start_time": "2022-05-14T18:50:42.333Z"
   },
   {
    "duration": 0,
    "start_time": "2022-05-14T18:50:42.335Z"
   },
   {
    "duration": 0,
    "start_time": "2022-05-14T18:50:42.336Z"
   },
   {
    "duration": 0,
    "start_time": "2022-05-14T18:50:42.338Z"
   },
   {
    "duration": 0,
    "start_time": "2022-05-14T18:50:42.339Z"
   },
   {
    "duration": 0,
    "start_time": "2022-05-14T18:50:42.352Z"
   },
   {
    "duration": 0,
    "start_time": "2022-05-14T18:50:42.356Z"
   },
   {
    "duration": 0,
    "start_time": "2022-05-14T18:50:42.358Z"
   },
   {
    "duration": 0,
    "start_time": "2022-05-14T18:50:42.362Z"
   },
   {
    "duration": 0,
    "start_time": "2022-05-14T18:50:42.364Z"
   },
   {
    "duration": 0,
    "start_time": "2022-05-14T18:50:42.367Z"
   },
   {
    "duration": 0,
    "start_time": "2022-05-14T18:50:42.369Z"
   },
   {
    "duration": 0,
    "start_time": "2022-05-14T18:50:42.370Z"
   },
   {
    "duration": 0,
    "start_time": "2022-05-14T18:50:42.372Z"
   },
   {
    "duration": 0,
    "start_time": "2022-05-14T18:50:42.374Z"
   },
   {
    "duration": 0,
    "start_time": "2022-05-14T18:50:42.376Z"
   },
   {
    "duration": 0,
    "start_time": "2022-05-14T18:50:42.377Z"
   },
   {
    "duration": 0,
    "start_time": "2022-05-14T18:50:42.379Z"
   },
   {
    "duration": 0,
    "start_time": "2022-05-14T18:50:42.380Z"
   },
   {
    "duration": 4,
    "start_time": "2022-05-14T18:51:09.283Z"
   },
   {
    "duration": 5,
    "start_time": "2022-05-14T18:51:16.020Z"
   },
   {
    "duration": 19,
    "start_time": "2022-05-14T18:51:22.603Z"
   },
   {
    "duration": 22,
    "start_time": "2022-05-14T18:52:21.052Z"
   },
   {
    "duration": 19,
    "start_time": "2022-05-14T18:52:23.605Z"
   },
   {
    "duration": 26,
    "start_time": "2022-05-14T18:52:24.909Z"
   },
   {
    "duration": 6,
    "start_time": "2022-05-14T18:52:36.590Z"
   },
   {
    "duration": 6,
    "start_time": "2022-05-14T18:55:24.116Z"
   },
   {
    "duration": 6,
    "start_time": "2022-05-14T18:55:37.962Z"
   },
   {
    "duration": 5,
    "start_time": "2022-05-14T18:55:42.027Z"
   },
   {
    "duration": 5,
    "start_time": "2022-05-14T18:56:06.573Z"
   },
   {
    "duration": 6,
    "start_time": "2022-05-14T18:57:52.209Z"
   },
   {
    "duration": 4,
    "start_time": "2022-05-14T19:00:29.383Z"
   },
   {
    "duration": 14,
    "start_time": "2022-05-14T19:00:36.220Z"
   },
   {
    "duration": 21,
    "start_time": "2022-05-14T19:00:36.257Z"
   },
   {
    "duration": 529,
    "start_time": "2022-05-14T19:00:40.622Z"
   },
   {
    "duration": 16,
    "start_time": "2022-05-14T19:01:39.566Z"
   },
   {
    "duration": 10,
    "start_time": "2022-05-14T19:04:19.519Z"
   },
   {
    "duration": 21,
    "start_time": "2022-05-14T19:04:30.864Z"
   },
   {
    "duration": 458,
    "start_time": "2022-05-14T19:04:33.465Z"
   },
   {
    "duration": 6,
    "start_time": "2022-05-14T19:04:47.476Z"
   },
   {
    "duration": 1973,
    "start_time": "2022-05-14T19:04:47.485Z"
   },
   {
    "duration": 367,
    "start_time": "2022-05-14T19:04:49.462Z"
   },
   {
    "duration": 346,
    "start_time": "2022-05-14T19:04:52.365Z"
   },
   {
    "duration": 349,
    "start_time": "2022-05-14T19:04:53.373Z"
   },
   {
    "duration": 21,
    "start_time": "2022-05-14T19:04:54.225Z"
   },
   {
    "duration": 1937,
    "start_time": "2022-05-14T19:12:44.486Z"
   },
   {
    "duration": 53,
    "start_time": "2022-05-14T19:12:46.426Z"
   },
   {
    "duration": 70,
    "start_time": "2022-05-14T19:12:46.482Z"
   },
   {
    "duration": 35,
    "start_time": "2022-05-14T19:12:46.555Z"
   },
   {
    "duration": 22,
    "start_time": "2022-05-14T19:12:46.592Z"
   },
   {
    "duration": 64,
    "start_time": "2022-05-14T19:12:46.616Z"
   },
   {
    "duration": 315,
    "start_time": "2022-05-14T19:12:46.683Z"
   },
   {
    "duration": 10,
    "start_time": "2022-05-14T19:12:47.001Z"
   },
   {
    "duration": 40,
    "start_time": "2022-05-14T19:12:47.013Z"
   },
   {
    "duration": 10,
    "start_time": "2022-05-14T19:12:47.057Z"
   },
   {
    "duration": 130,
    "start_time": "2022-05-14T19:12:47.069Z"
   },
   {
    "duration": 339,
    "start_time": "2022-05-14T19:12:47.201Z"
   },
   {
    "duration": 30,
    "start_time": "2022-05-14T19:12:47.542Z"
   },
   {
    "duration": 14,
    "start_time": "2022-05-14T19:12:47.574Z"
   },
   {
    "duration": 354,
    "start_time": "2022-05-14T19:12:47.590Z"
   },
   {
    "duration": 25,
    "start_time": "2022-05-14T19:12:47.951Z"
   },
   {
    "duration": 42,
    "start_time": "2022-05-14T19:12:47.978Z"
   },
   {
    "duration": 81,
    "start_time": "2022-05-14T19:12:48.023Z"
   },
   {
    "duration": 336,
    "start_time": "2022-05-14T19:12:48.107Z"
   },
   {
    "duration": 17,
    "start_time": "2022-05-14T19:12:48.445Z"
   },
   {
    "duration": 17,
    "start_time": "2022-05-14T19:12:48.464Z"
   },
   {
    "duration": 311,
    "start_time": "2022-05-14T19:12:48.483Z"
   },
   {
    "duration": 22,
    "start_time": "2022-05-14T19:12:48.796Z"
   },
   {
    "duration": 50,
    "start_time": "2022-05-14T19:12:48.820Z"
   },
   {
    "duration": 317,
    "start_time": "2022-05-14T19:12:48.872Z"
   },
   {
    "duration": 123,
    "start_time": "2022-05-14T19:12:49.191Z"
   },
   {
    "duration": 99,
    "start_time": "2022-05-14T19:12:49.316Z"
   },
   {
    "duration": 62,
    "start_time": "2022-05-14T19:12:49.422Z"
   },
   {
    "duration": 6,
    "start_time": "2022-05-14T19:12:49.486Z"
   },
   {
    "duration": 14,
    "start_time": "2022-05-14T19:12:49.494Z"
   },
   {
    "duration": 42,
    "start_time": "2022-05-14T19:12:49.510Z"
   },
   {
    "duration": 17,
    "start_time": "2022-05-14T19:12:49.554Z"
   },
   {
    "duration": 16,
    "start_time": "2022-05-14T19:12:49.573Z"
   },
   {
    "duration": 517,
    "start_time": "2022-05-14T19:12:49.591Z"
   },
   {
    "duration": 6,
    "start_time": "2022-05-14T19:12:50.111Z"
   },
   {
    "duration": 48,
    "start_time": "2022-05-14T19:12:50.119Z"
   },
   {
    "duration": 6,
    "start_time": "2022-05-14T19:12:50.170Z"
   },
   {
    "duration": 50,
    "start_time": "2022-05-14T19:12:50.179Z"
   },
   {
    "duration": 16,
    "start_time": "2022-05-14T19:12:50.251Z"
   },
   {
    "duration": 1429,
    "start_time": "2022-05-14T19:12:50.269Z"
   },
   {
    "duration": 9,
    "start_time": "2022-05-14T19:12:51.701Z"
   },
   {
    "duration": 56,
    "start_time": "2022-05-14T19:12:51.713Z"
   },
   {
    "duration": 579,
    "start_time": "2022-05-14T19:12:51.772Z"
   },
   {
    "duration": 28,
    "start_time": "2022-05-14T19:12:52.354Z"
   },
   {
    "duration": 8,
    "start_time": "2022-05-14T19:12:52.385Z"
   },
   {
    "duration": 15,
    "start_time": "2022-05-14T19:12:52.396Z"
   },
   {
    "duration": 49,
    "start_time": "2022-05-14T19:12:52.414Z"
   },
   {
    "duration": 12,
    "start_time": "2022-05-14T19:12:52.465Z"
   },
   {
    "duration": 2053,
    "start_time": "2022-05-14T19:12:52.480Z"
   },
   {
    "duration": 22,
    "start_time": "2022-05-14T19:12:54.536Z"
   },
   {
    "duration": 2207,
    "start_time": "2022-05-14T19:12:54.561Z"
   },
   {
    "duration": 285,
    "start_time": "2022-05-14T19:12:56.770Z"
   },
   {
    "duration": 266,
    "start_time": "2022-05-14T19:12:57.057Z"
   },
   {
    "duration": 299,
    "start_time": "2022-05-14T19:12:57.325Z"
   },
   {
    "duration": 26,
    "start_time": "2022-05-14T19:12:57.626Z"
   },
   {
    "duration": 305,
    "start_time": "2022-05-14T19:12:57.654Z"
   },
   {
    "duration": 11,
    "start_time": "2022-05-14T19:12:57.962Z"
   },
   {
    "duration": 303,
    "start_time": "2022-05-14T19:12:57.976Z"
   },
   {
    "duration": 310,
    "start_time": "2022-05-14T19:12:58.281Z"
   },
   {
    "duration": 8,
    "start_time": "2022-05-14T19:12:58.593Z"
   },
   {
    "duration": 18,
    "start_time": "2022-05-14T19:12:58.603Z"
   },
   {
    "duration": 419,
    "start_time": "2022-05-14T19:12:58.623Z"
   },
   {
    "duration": 11,
    "start_time": "2022-05-14T19:12:59.052Z"
   },
   {
    "duration": 98,
    "start_time": "2022-05-14T19:12:59.066Z"
   },
   {
    "duration": 3,
    "start_time": "2022-05-14T19:12:59.167Z"
   },
   {
    "duration": 21,
    "start_time": "2022-05-14T19:12:59.174Z"
   },
   {
    "duration": 22,
    "start_time": "2022-05-14T19:12:59.197Z"
   },
   {
    "duration": 708,
    "start_time": "2022-05-14T19:12:59.222Z"
   },
   {
    "duration": 27,
    "start_time": "2022-05-14T19:12:59.933Z"
   },
   {
    "duration": 10,
    "start_time": "2022-05-14T19:12:59.963Z"
   },
   {
    "duration": 25,
    "start_time": "2022-05-14T19:12:59.977Z"
   },
   {
    "duration": 464,
    "start_time": "2022-05-14T19:13:00.005Z"
   },
   {
    "duration": 6,
    "start_time": "2022-05-14T19:13:00.472Z"
   },
   {
    "duration": 1944,
    "start_time": "2022-05-14T19:13:00.480Z"
   },
   {
    "duration": 336,
    "start_time": "2022-05-14T19:13:02.427Z"
   },
   {
    "duration": 339,
    "start_time": "2022-05-14T19:13:02.767Z"
   },
   {
    "duration": 333,
    "start_time": "2022-05-14T19:13:03.109Z"
   },
   {
    "duration": 21,
    "start_time": "2022-05-14T19:13:03.452Z"
   },
   {
    "duration": 6,
    "start_time": "2022-05-14T19:13:03.476Z"
   },
   {
    "duration": 172,
    "start_time": "2022-05-14T19:13:03.484Z"
   },
   {
    "duration": 0,
    "start_time": "2022-05-14T19:13:03.658Z"
   },
   {
    "duration": 0,
    "start_time": "2022-05-14T19:13:03.660Z"
   },
   {
    "duration": 0,
    "start_time": "2022-05-14T19:13:03.662Z"
   },
   {
    "duration": 0,
    "start_time": "2022-05-14T19:13:03.663Z"
   },
   {
    "duration": 0,
    "start_time": "2022-05-14T19:13:03.665Z"
   },
   {
    "duration": 55,
    "start_time": "2022-05-15T06:40:13.308Z"
   },
   {
    "duration": 1764,
    "start_time": "2022-05-15T06:40:19.425Z"
   },
   {
    "duration": 41,
    "start_time": "2022-05-15T06:40:21.191Z"
   },
   {
    "duration": 32,
    "start_time": "2022-05-15T06:40:21.234Z"
   },
   {
    "duration": 40,
    "start_time": "2022-05-15T06:40:21.268Z"
   },
   {
    "duration": 16,
    "start_time": "2022-05-15T06:40:21.310Z"
   },
   {
    "duration": 21,
    "start_time": "2022-05-15T06:40:21.328Z"
   },
   {
    "duration": 266,
    "start_time": "2022-05-15T06:40:21.351Z"
   },
   {
    "duration": 8,
    "start_time": "2022-05-15T06:40:21.619Z"
   },
   {
    "duration": 12,
    "start_time": "2022-05-15T06:40:21.628Z"
   },
   {
    "duration": 7,
    "start_time": "2022-05-15T06:40:21.642Z"
   },
   {
    "duration": 109,
    "start_time": "2022-05-15T06:40:21.651Z"
   },
   {
    "duration": 227,
    "start_time": "2022-05-15T06:40:21.761Z"
   },
   {
    "duration": 31,
    "start_time": "2022-05-15T06:40:21.990Z"
   },
   {
    "duration": 10,
    "start_time": "2022-05-15T06:40:22.023Z"
   },
   {
    "duration": 229,
    "start_time": "2022-05-15T06:40:22.035Z"
   },
   {
    "duration": 19,
    "start_time": "2022-05-15T06:40:22.266Z"
   },
   {
    "duration": 45,
    "start_time": "2022-05-15T06:40:22.287Z"
   },
   {
    "duration": 46,
    "start_time": "2022-05-15T06:40:22.334Z"
   },
   {
    "duration": 236,
    "start_time": "2022-05-15T06:40:22.382Z"
   },
   {
    "duration": 9,
    "start_time": "2022-05-15T06:40:22.620Z"
   },
   {
    "duration": 10,
    "start_time": "2022-05-15T06:40:22.631Z"
   },
   {
    "duration": 220,
    "start_time": "2022-05-15T06:40:22.642Z"
   },
   {
    "duration": 18,
    "start_time": "2022-05-15T06:40:22.863Z"
   },
   {
    "duration": 38,
    "start_time": "2022-05-15T06:40:22.883Z"
   },
   {
    "duration": 218,
    "start_time": "2022-05-15T06:40:22.924Z"
   },
   {
    "duration": 89,
    "start_time": "2022-05-15T06:40:23.144Z"
   },
   {
    "duration": 80,
    "start_time": "2022-05-15T06:40:23.235Z"
   },
   {
    "duration": 32,
    "start_time": "2022-05-15T06:40:23.320Z"
   },
   {
    "duration": 5,
    "start_time": "2022-05-15T06:40:23.354Z"
   },
   {
    "duration": 8,
    "start_time": "2022-05-15T06:40:23.360Z"
   },
   {
    "duration": 41,
    "start_time": "2022-05-15T06:40:23.370Z"
   },
   {
    "duration": 12,
    "start_time": "2022-05-15T06:40:23.413Z"
   },
   {
    "duration": 9,
    "start_time": "2022-05-15T06:40:23.427Z"
   },
   {
    "duration": 315,
    "start_time": "2022-05-15T06:40:23.438Z"
   },
   {
    "duration": 4,
    "start_time": "2022-05-15T06:40:23.755Z"
   },
   {
    "duration": 22,
    "start_time": "2022-05-15T06:40:23.761Z"
   },
   {
    "duration": 25,
    "start_time": "2022-05-15T06:40:23.785Z"
   },
   {
    "duration": 23,
    "start_time": "2022-05-15T06:40:23.812Z"
   },
   {
    "duration": 8,
    "start_time": "2022-05-15T06:40:23.836Z"
   },
   {
    "duration": 900,
    "start_time": "2022-05-15T06:40:23.846Z"
   },
   {
    "duration": 5,
    "start_time": "2022-05-15T06:40:24.748Z"
   },
   {
    "duration": 23,
    "start_time": "2022-05-15T06:40:24.755Z"
   },
   {
    "duration": 369,
    "start_time": "2022-05-15T06:40:24.780Z"
   },
   {
    "duration": 19,
    "start_time": "2022-05-15T06:40:25.151Z"
   },
   {
    "duration": 5,
    "start_time": "2022-05-15T06:40:25.172Z"
   },
   {
    "duration": 29,
    "start_time": "2022-05-15T06:40:25.179Z"
   },
   {
    "duration": 13,
    "start_time": "2022-05-15T06:40:25.210Z"
   },
   {
    "duration": 8,
    "start_time": "2022-05-15T06:40:25.224Z"
   },
   {
    "duration": 1410,
    "start_time": "2022-05-15T06:40:25.233Z"
   },
   {
    "duration": 6,
    "start_time": "2022-05-15T06:40:26.645Z"
   },
   {
    "duration": 1412,
    "start_time": "2022-05-15T06:40:26.652Z"
   },
   {
    "duration": 179,
    "start_time": "2022-05-15T06:40:28.065Z"
   },
   {
    "duration": 171,
    "start_time": "2022-05-15T06:40:28.246Z"
   },
   {
    "duration": 183,
    "start_time": "2022-05-15T06:40:28.419Z"
   },
   {
    "duration": 11,
    "start_time": "2022-05-15T06:40:28.604Z"
   },
   {
    "duration": 208,
    "start_time": "2022-05-15T06:40:28.616Z"
   },
   {
    "duration": 8,
    "start_time": "2022-05-15T06:40:28.826Z"
   },
   {
    "duration": 192,
    "start_time": "2022-05-15T06:40:28.835Z"
   },
   {
    "duration": 202,
    "start_time": "2022-05-15T06:40:29.029Z"
   },
   {
    "duration": 5,
    "start_time": "2022-05-15T06:40:29.233Z"
   },
   {
    "duration": 10,
    "start_time": "2022-05-15T06:40:29.240Z"
   },
   {
    "duration": 302,
    "start_time": "2022-05-15T06:40:29.252Z"
   },
   {
    "duration": 7,
    "start_time": "2022-05-15T06:40:29.556Z"
   },
   {
    "duration": 56,
    "start_time": "2022-05-15T06:40:29.565Z"
   },
   {
    "duration": 3,
    "start_time": "2022-05-15T06:40:29.623Z"
   },
   {
    "duration": 11,
    "start_time": "2022-05-15T06:40:29.627Z"
   },
   {
    "duration": 11,
    "start_time": "2022-05-15T06:40:29.640Z"
   },
   {
    "duration": 342,
    "start_time": "2022-05-15T06:40:29.653Z"
   },
   {
    "duration": 15,
    "start_time": "2022-05-15T06:40:29.997Z"
   },
   {
    "duration": 10,
    "start_time": "2022-05-15T06:40:30.013Z"
   },
   {
    "duration": 25,
    "start_time": "2022-05-15T06:40:30.024Z"
   },
   {
    "duration": 330,
    "start_time": "2022-05-15T06:40:30.051Z"
   },
   {
    "duration": 5,
    "start_time": "2022-05-15T06:40:30.383Z"
   },
   {
    "duration": 1262,
    "start_time": "2022-05-15T06:40:30.389Z"
   },
   {
    "duration": 210,
    "start_time": "2022-05-15T06:40:31.653Z"
   },
   {
    "duration": 207,
    "start_time": "2022-05-15T06:40:31.865Z"
   },
   {
    "duration": 205,
    "start_time": "2022-05-15T06:40:32.074Z"
   },
   {
    "duration": 13,
    "start_time": "2022-05-15T06:40:32.281Z"
   },
   {
    "duration": 439,
    "start_time": "2022-05-15T06:51:14.045Z"
   },
   {
    "duration": 40,
    "start_time": "2022-05-15T06:51:14.486Z"
   },
   {
    "duration": 32,
    "start_time": "2022-05-15T06:51:14.528Z"
   },
   {
    "duration": 56,
    "start_time": "2022-05-15T06:51:14.562Z"
   },
   {
    "duration": 15,
    "start_time": "2022-05-15T06:51:14.620Z"
   },
   {
    "duration": 21,
    "start_time": "2022-05-15T06:51:14.637Z"
   },
   {
    "duration": 221,
    "start_time": "2022-05-15T06:51:14.660Z"
   },
   {
    "duration": 6,
    "start_time": "2022-05-15T06:51:14.884Z"
   },
   {
    "duration": 10,
    "start_time": "2022-05-15T06:51:14.908Z"
   },
   {
    "duration": 7,
    "start_time": "2022-05-15T06:51:14.921Z"
   },
   {
    "duration": 102,
    "start_time": "2022-05-15T06:51:14.930Z"
   },
   {
    "duration": 260,
    "start_time": "2022-05-15T06:51:15.034Z"
   },
   {
    "duration": 22,
    "start_time": "2022-05-15T06:51:15.295Z"
   },
   {
    "duration": 11,
    "start_time": "2022-05-15T06:51:15.319Z"
   },
   {
    "duration": 379,
    "start_time": "2022-05-15T06:51:15.331Z"
   },
   {
    "duration": 19,
    "start_time": "2022-05-15T06:51:15.711Z"
   },
   {
    "duration": 30,
    "start_time": "2022-05-15T06:51:15.731Z"
   },
   {
    "duration": 65,
    "start_time": "2022-05-15T06:51:15.763Z"
   },
   {
    "duration": 246,
    "start_time": "2022-05-15T06:51:15.830Z"
   },
   {
    "duration": 10,
    "start_time": "2022-05-15T06:51:16.077Z"
   },
   {
    "duration": 19,
    "start_time": "2022-05-15T06:51:16.088Z"
   },
   {
    "duration": 241,
    "start_time": "2022-05-15T06:51:16.109Z"
   },
   {
    "duration": 17,
    "start_time": "2022-05-15T06:51:16.352Z"
   },
   {
    "duration": 36,
    "start_time": "2022-05-15T06:51:16.371Z"
   },
   {
    "duration": 256,
    "start_time": "2022-05-15T06:51:16.409Z"
   },
   {
    "duration": 88,
    "start_time": "2022-05-15T06:51:16.666Z"
   },
   {
    "duration": 78,
    "start_time": "2022-05-15T06:51:16.756Z"
   },
   {
    "duration": 32,
    "start_time": "2022-05-15T06:51:16.839Z"
   },
   {
    "duration": 5,
    "start_time": "2022-05-15T06:51:16.873Z"
   },
   {
    "duration": 34,
    "start_time": "2022-05-15T06:51:16.879Z"
   },
   {
    "duration": 13,
    "start_time": "2022-05-15T06:51:16.915Z"
   },
   {
    "duration": 12,
    "start_time": "2022-05-15T06:51:16.930Z"
   },
   {
    "duration": 8,
    "start_time": "2022-05-15T06:51:16.944Z"
   },
   {
    "duration": 324,
    "start_time": "2022-05-15T06:51:16.954Z"
   },
   {
    "duration": 4,
    "start_time": "2022-05-15T06:51:17.280Z"
   },
   {
    "duration": 35,
    "start_time": "2022-05-15T06:51:17.286Z"
   },
   {
    "duration": 5,
    "start_time": "2022-05-15T06:51:17.323Z"
   },
   {
    "duration": 23,
    "start_time": "2022-05-15T06:51:17.329Z"
   },
   {
    "duration": 8,
    "start_time": "2022-05-15T06:51:17.353Z"
   },
   {
    "duration": 944,
    "start_time": "2022-05-15T06:51:17.363Z"
   },
   {
    "duration": 5,
    "start_time": "2022-05-15T06:51:18.309Z"
   },
   {
    "duration": 29,
    "start_time": "2022-05-15T06:51:18.316Z"
   },
   {
    "duration": 388,
    "start_time": "2022-05-15T06:51:18.347Z"
   },
   {
    "duration": 20,
    "start_time": "2022-05-15T06:51:18.736Z"
   },
   {
    "duration": 7,
    "start_time": "2022-05-15T06:51:18.757Z"
   },
   {
    "duration": 12,
    "start_time": "2022-05-15T06:51:18.765Z"
   },
   {
    "duration": 32,
    "start_time": "2022-05-15T06:51:18.779Z"
   },
   {
    "duration": 9,
    "start_time": "2022-05-15T06:51:18.813Z"
   },
   {
    "duration": 1571,
    "start_time": "2022-05-15T06:51:18.823Z"
   },
   {
    "duration": 11,
    "start_time": "2022-05-15T06:51:20.396Z"
   },
   {
    "duration": 1581,
    "start_time": "2022-05-15T06:51:20.409Z"
   },
   {
    "duration": 191,
    "start_time": "2022-05-15T06:51:21.991Z"
   },
   {
    "duration": 177,
    "start_time": "2022-05-15T06:51:22.184Z"
   },
   {
    "duration": 192,
    "start_time": "2022-05-15T06:51:22.363Z"
   },
   {
    "duration": 11,
    "start_time": "2022-05-15T06:51:22.557Z"
   },
   {
    "duration": 240,
    "start_time": "2022-05-15T06:51:22.570Z"
   },
   {
    "duration": 8,
    "start_time": "2022-05-15T06:51:22.811Z"
   },
   {
    "duration": 223,
    "start_time": "2022-05-15T06:51:22.821Z"
   },
   {
    "duration": 234,
    "start_time": "2022-05-15T06:51:23.046Z"
   },
   {
    "duration": 7,
    "start_time": "2022-05-15T06:51:23.282Z"
   },
   {
    "duration": 20,
    "start_time": "2022-05-15T06:51:23.291Z"
   },
   {
    "duration": 225,
    "start_time": "2022-05-15T06:51:23.313Z"
   },
   {
    "duration": 8,
    "start_time": "2022-05-15T06:51:23.539Z"
   },
   {
    "duration": 39,
    "start_time": "2022-05-15T06:51:23.548Z"
   },
   {
    "duration": 2,
    "start_time": "2022-05-15T06:51:23.607Z"
   },
   {
    "duration": 10,
    "start_time": "2022-05-15T06:51:23.611Z"
   },
   {
    "duration": 13,
    "start_time": "2022-05-15T06:51:23.623Z"
   },
   {
    "duration": 348,
    "start_time": "2022-05-15T06:51:23.637Z"
   },
   {
    "duration": 22,
    "start_time": "2022-05-15T06:51:23.987Z"
   },
   {
    "duration": 6,
    "start_time": "2022-05-15T06:51:24.011Z"
   },
   {
    "duration": 16,
    "start_time": "2022-05-15T06:51:24.019Z"
   },
   {
    "duration": 352,
    "start_time": "2022-05-15T06:51:24.037Z"
   },
   {
    "duration": 4,
    "start_time": "2022-05-15T06:51:24.391Z"
   },
   {
    "duration": 1270,
    "start_time": "2022-05-15T06:51:24.396Z"
   },
   {
    "duration": 217,
    "start_time": "2022-05-15T06:51:25.668Z"
   },
   {
    "duration": 220,
    "start_time": "2022-05-15T06:51:25.887Z"
   },
   {
    "duration": 346,
    "start_time": "2022-05-15T06:51:26.109Z"
   },
   {
    "duration": 14,
    "start_time": "2022-05-15T06:51:26.456Z"
   },
   {
    "duration": 34,
    "start_time": "2022-05-15T06:52:59.599Z"
   },
   {
    "duration": 70,
    "start_time": "2022-05-15T14:48:07.535Z"
   },
   {
    "duration": 2337,
    "start_time": "2022-05-15T14:48:26.655Z"
   },
   {
    "duration": 50,
    "start_time": "2022-05-15T14:48:28.995Z"
   },
   {
    "duration": 65,
    "start_time": "2022-05-15T14:48:29.048Z"
   },
   {
    "duration": 35,
    "start_time": "2022-05-15T14:48:29.116Z"
   },
   {
    "duration": 49,
    "start_time": "2022-05-15T14:48:29.153Z"
   },
   {
    "duration": 33,
    "start_time": "2022-05-15T14:48:29.204Z"
   },
   {
    "duration": 329,
    "start_time": "2022-05-15T14:48:29.240Z"
   },
   {
    "duration": 22,
    "start_time": "2022-05-15T14:48:29.573Z"
   },
   {
    "duration": 23,
    "start_time": "2022-05-15T14:48:29.597Z"
   },
   {
    "duration": 9,
    "start_time": "2022-05-15T14:48:29.624Z"
   },
   {
    "duration": 138,
    "start_time": "2022-05-15T14:48:29.635Z"
   },
   {
    "duration": 322,
    "start_time": "2022-05-15T14:48:29.776Z"
   },
   {
    "duration": 25,
    "start_time": "2022-05-15T14:48:30.100Z"
   },
   {
    "duration": 15,
    "start_time": "2022-05-15T14:48:30.127Z"
   },
   {
    "duration": 375,
    "start_time": "2022-05-15T14:48:30.145Z"
   },
   {
    "duration": 26,
    "start_time": "2022-05-15T14:48:30.523Z"
   },
   {
    "duration": 69,
    "start_time": "2022-05-15T14:48:30.552Z"
   },
   {
    "duration": 76,
    "start_time": "2022-05-15T14:48:30.624Z"
   },
   {
    "duration": 318,
    "start_time": "2022-05-15T14:48:30.703Z"
   },
   {
    "duration": 13,
    "start_time": "2022-05-15T14:48:31.024Z"
   },
   {
    "duration": 8,
    "start_time": "2022-05-15T14:48:31.040Z"
   },
   {
    "duration": 317,
    "start_time": "2022-05-15T14:48:31.050Z"
   },
   {
    "duration": 38,
    "start_time": "2022-05-15T14:48:31.370Z"
   },
   {
    "duration": 27,
    "start_time": "2022-05-15T14:48:31.410Z"
   },
   {
    "duration": 327,
    "start_time": "2022-05-15T14:48:31.440Z"
   },
   {
    "duration": 125,
    "start_time": "2022-05-15T14:48:31.769Z"
   },
   {
    "duration": 99,
    "start_time": "2022-05-15T14:48:31.897Z"
   },
   {
    "duration": 48,
    "start_time": "2022-05-15T14:48:32.002Z"
   },
   {
    "duration": 6,
    "start_time": "2022-05-15T14:48:32.052Z"
   },
   {
    "duration": 43,
    "start_time": "2022-05-15T14:48:32.060Z"
   },
   {
    "duration": 16,
    "start_time": "2022-05-15T14:48:32.105Z"
   },
   {
    "duration": 18,
    "start_time": "2022-05-15T14:48:32.123Z"
   },
   {
    "duration": 50,
    "start_time": "2022-05-15T14:48:32.143Z"
   },
   {
    "duration": 462,
    "start_time": "2022-05-15T14:48:32.196Z"
   },
   {
    "duration": 6,
    "start_time": "2022-05-15T14:48:32.661Z"
   },
   {
    "duration": 46,
    "start_time": "2022-05-15T14:48:32.670Z"
   },
   {
    "duration": 29,
    "start_time": "2022-05-15T14:48:32.719Z"
   },
   {
    "duration": 7,
    "start_time": "2022-05-15T14:48:32.751Z"
   },
   {
    "duration": 64,
    "start_time": "2022-05-15T14:48:32.760Z"
   },
   {
    "duration": 12,
    "start_time": "2022-05-15T14:48:32.826Z"
   },
   {
    "duration": 1347,
    "start_time": "2022-05-15T14:48:32.841Z"
   },
   {
    "duration": 8,
    "start_time": "2022-05-15T14:48:34.191Z"
   },
   {
    "duration": 32,
    "start_time": "2022-05-15T14:48:34.201Z"
   },
   {
    "duration": 597,
    "start_time": "2022-05-15T14:48:34.236Z"
   },
   {
    "duration": 31,
    "start_time": "2022-05-15T14:48:34.837Z"
   },
   {
    "duration": 29,
    "start_time": "2022-05-15T14:48:34.871Z"
   },
   {
    "duration": 24,
    "start_time": "2022-05-15T14:48:34.904Z"
   },
   {
    "duration": 18,
    "start_time": "2022-05-15T14:48:34.931Z"
   },
   {
    "duration": 14,
    "start_time": "2022-05-15T14:48:34.951Z"
   },
   {
    "duration": 2031,
    "start_time": "2022-05-15T14:48:34.993Z"
   },
   {
    "duration": 9,
    "start_time": "2022-05-15T14:48:37.026Z"
   },
   {
    "duration": 2311,
    "start_time": "2022-05-15T14:48:37.037Z"
   },
   {
    "duration": 291,
    "start_time": "2022-05-15T14:48:39.350Z"
   },
   {
    "duration": 282,
    "start_time": "2022-05-15T14:48:39.643Z"
   },
   {
    "duration": 312,
    "start_time": "2022-05-15T14:48:39.927Z"
   },
   {
    "duration": 17,
    "start_time": "2022-05-15T14:48:40.242Z"
   },
   {
    "duration": 326,
    "start_time": "2022-05-15T14:48:40.261Z"
   },
   {
    "duration": 18,
    "start_time": "2022-05-15T14:48:40.592Z"
   },
   {
    "duration": 304,
    "start_time": "2022-05-15T14:48:40.613Z"
   },
   {
    "duration": 312,
    "start_time": "2022-05-15T14:48:40.920Z"
   },
   {
    "duration": 10,
    "start_time": "2022-05-15T14:48:41.235Z"
   },
   {
    "duration": 14,
    "start_time": "2022-05-15T14:48:41.248Z"
   },
   {
    "duration": 409,
    "start_time": "2022-05-15T14:48:41.265Z"
   },
   {
    "duration": 23,
    "start_time": "2022-05-15T14:48:41.676Z"
   },
   {
    "duration": 67,
    "start_time": "2022-05-15T14:48:41.702Z"
   },
   {
    "duration": 3,
    "start_time": "2022-05-15T14:48:41.771Z"
   },
   {
    "duration": 36,
    "start_time": "2022-05-15T14:48:41.776Z"
   },
   {
    "duration": 17,
    "start_time": "2022-05-15T14:48:41.814Z"
   },
   {
    "duration": 535,
    "start_time": "2022-05-15T14:48:41.834Z"
   },
   {
    "duration": 30,
    "start_time": "2022-05-15T14:48:42.371Z"
   },
   {
    "duration": 11,
    "start_time": "2022-05-15T14:48:42.404Z"
   },
   {
    "duration": 25,
    "start_time": "2022-05-15T14:48:42.418Z"
   },
   {
    "duration": 431,
    "start_time": "2022-05-15T14:48:42.445Z"
   },
   {
    "duration": 16,
    "start_time": "2022-05-15T14:48:42.878Z"
   },
   {
    "duration": 1929,
    "start_time": "2022-05-15T14:48:42.897Z"
   },
   {
    "duration": 351,
    "start_time": "2022-05-15T14:48:44.829Z"
   },
   {
    "duration": 340,
    "start_time": "2022-05-15T14:48:45.183Z"
   },
   {
    "duration": 335,
    "start_time": "2022-05-15T14:48:45.526Z"
   },
   {
    "duration": 34,
    "start_time": "2022-05-15T14:48:45.863Z"
   },
   {
    "duration": 46,
    "start_time": "2022-05-15T18:18:40.361Z"
   },
   {
    "duration": 1157,
    "start_time": "2022-05-15T18:18:45.757Z"
   },
   {
    "duration": 59,
    "start_time": "2022-05-15T18:18:47.770Z"
   },
   {
    "duration": 1518,
    "start_time": "2022-05-15T18:18:53.660Z"
   },
   {
    "duration": 38,
    "start_time": "2022-05-15T18:18:55.181Z"
   },
   {
    "duration": 29,
    "start_time": "2022-05-15T18:18:55.220Z"
   },
   {
    "duration": 42,
    "start_time": "2022-05-15T18:18:55.251Z"
   },
   {
    "duration": 15,
    "start_time": "2022-05-15T18:18:55.295Z"
   },
   {
    "duration": 21,
    "start_time": "2022-05-15T18:18:55.312Z"
   },
   {
    "duration": 229,
    "start_time": "2022-05-15T18:18:55.334Z"
   },
   {
    "duration": 23,
    "start_time": "2022-05-15T18:18:55.565Z"
   },
   {
    "duration": 11,
    "start_time": "2022-05-15T18:18:55.590Z"
   },
   {
    "duration": 10,
    "start_time": "2022-05-15T18:18:55.603Z"
   },
   {
    "duration": 87,
    "start_time": "2022-05-15T18:18:55.614Z"
   },
   {
    "duration": 204,
    "start_time": "2022-05-15T18:18:55.703Z"
   },
   {
    "duration": 17,
    "start_time": "2022-05-15T18:18:55.908Z"
   },
   {
    "duration": 9,
    "start_time": "2022-05-15T18:18:55.928Z"
   },
   {
    "duration": 216,
    "start_time": "2022-05-15T18:18:55.938Z"
   },
   {
    "duration": 18,
    "start_time": "2022-05-15T18:18:56.155Z"
   },
   {
    "duration": 38,
    "start_time": "2022-05-15T18:18:56.174Z"
   },
   {
    "duration": 42,
    "start_time": "2022-05-15T18:18:56.214Z"
   },
   {
    "duration": 194,
    "start_time": "2022-05-15T18:18:56.258Z"
   },
   {
    "duration": 9,
    "start_time": "2022-05-15T18:18:56.454Z"
   },
   {
    "duration": 7,
    "start_time": "2022-05-15T18:18:56.464Z"
   },
   {
    "duration": 193,
    "start_time": "2022-05-15T18:18:56.473Z"
   },
   {
    "duration": 24,
    "start_time": "2022-05-15T18:18:56.668Z"
   },
   {
    "duration": 20,
    "start_time": "2022-05-15T18:18:56.694Z"
   },
   {
    "duration": 206,
    "start_time": "2022-05-15T18:18:56.716Z"
   },
   {
    "duration": 80,
    "start_time": "2022-05-15T18:18:56.923Z"
   },
   {
    "duration": 51,
    "start_time": "2022-05-15T18:18:57.005Z"
   },
   {
    "duration": 51,
    "start_time": "2022-05-15T18:18:57.058Z"
   },
   {
    "duration": 5,
    "start_time": "2022-05-15T18:18:57.110Z"
   },
   {
    "duration": 8,
    "start_time": "2022-05-15T18:18:57.116Z"
   },
   {
    "duration": 10,
    "start_time": "2022-05-15T18:18:57.126Z"
   },
   {
    "duration": 10,
    "start_time": "2022-05-15T18:18:57.138Z"
   },
   {
    "duration": 40,
    "start_time": "2022-05-15T18:18:57.150Z"
   },
   {
    "duration": 257,
    "start_time": "2022-05-15T18:18:57.192Z"
   },
   {
    "duration": 4,
    "start_time": "2022-05-15T18:18:57.451Z"
   },
   {
    "duration": 34,
    "start_time": "2022-05-15T18:18:57.456Z"
   },
   {
    "duration": 19,
    "start_time": "2022-05-15T18:18:57.492Z"
   },
   {
    "duration": 8,
    "start_time": "2022-05-15T18:18:57.513Z"
   },
   {
    "duration": 22,
    "start_time": "2022-05-15T18:18:57.522Z"
   },
   {
    "duration": 7,
    "start_time": "2022-05-15T18:18:57.545Z"
   },
   {
    "duration": 821,
    "start_time": "2022-05-15T18:18:57.557Z"
   },
   {
    "duration": 10,
    "start_time": "2022-05-15T18:18:58.379Z"
   },
   {
    "duration": 22,
    "start_time": "2022-05-15T18:18:58.391Z"
   },
   {
    "duration": 327,
    "start_time": "2022-05-15T18:18:58.414Z"
   },
   {
    "duration": 19,
    "start_time": "2022-05-15T18:18:58.742Z"
   },
   {
    "duration": 25,
    "start_time": "2022-05-15T18:18:58.763Z"
   },
   {
    "duration": 10,
    "start_time": "2022-05-15T18:18:58.789Z"
   },
   {
    "duration": 19,
    "start_time": "2022-05-15T18:18:58.800Z"
   },
   {
    "duration": 10,
    "start_time": "2022-05-15T18:18:58.820Z"
   },
   {
    "duration": 1187,
    "start_time": "2022-05-15T18:18:58.832Z"
   },
   {
    "duration": 8,
    "start_time": "2022-05-15T18:19:00.021Z"
   },
   {
    "duration": 1333,
    "start_time": "2022-05-15T18:19:00.030Z"
   },
   {
    "duration": 170,
    "start_time": "2022-05-15T18:19:01.365Z"
   },
   {
    "duration": 162,
    "start_time": "2022-05-15T18:19:01.537Z"
   },
   {
    "duration": 175,
    "start_time": "2022-05-15T18:19:01.701Z"
   },
   {
    "duration": 18,
    "start_time": "2022-05-15T18:19:01.877Z"
   },
   {
    "duration": 193,
    "start_time": "2022-05-15T18:19:01.897Z"
   },
   {
    "duration": 8,
    "start_time": "2022-05-15T18:19:02.092Z"
   },
   {
    "duration": 201,
    "start_time": "2022-05-15T18:19:02.102Z"
   },
   {
    "duration": 187,
    "start_time": "2022-05-15T18:19:02.305Z"
   },
   {
    "duration": 6,
    "start_time": "2022-05-15T18:19:02.494Z"
   },
   {
    "duration": 14,
    "start_time": "2022-05-15T18:19:02.501Z"
   },
   {
    "duration": 296,
    "start_time": "2022-05-15T18:19:02.517Z"
   },
   {
    "duration": 6,
    "start_time": "2022-05-15T18:19:02.815Z"
   },
   {
    "duration": 35,
    "start_time": "2022-05-15T18:19:02.823Z"
   },
   {
    "duration": 2,
    "start_time": "2022-05-15T18:19:02.860Z"
   },
   {
    "duration": 26,
    "start_time": "2022-05-15T18:19:02.864Z"
   },
   {
    "duration": 15,
    "start_time": "2022-05-15T18:19:02.892Z"
   },
   {
    "duration": 358,
    "start_time": "2022-05-15T18:19:02.908Z"
   },
   {
    "duration": 20,
    "start_time": "2022-05-15T18:19:03.268Z"
   },
   {
    "duration": 35,
    "start_time": "2022-05-15T18:19:03.290Z"
   },
   {
    "duration": 31,
    "start_time": "2022-05-15T18:19:03.327Z"
   },
   {
    "duration": 311,
    "start_time": "2022-05-15T18:19:03.360Z"
   },
   {
    "duration": 15,
    "start_time": "2022-05-15T18:19:03.673Z"
   },
   {
    "duration": 1191,
    "start_time": "2022-05-15T18:19:03.689Z"
   },
   {
    "duration": 208,
    "start_time": "2022-05-15T18:19:04.882Z"
   },
   {
    "duration": 194,
    "start_time": "2022-05-15T18:19:05.091Z"
   },
   {
    "duration": 199,
    "start_time": "2022-05-15T18:19:05.287Z"
   },
   {
    "duration": 14,
    "start_time": "2022-05-15T18:19:05.488Z"
   },
   {
    "duration": 2,
    "start_time": "2022-05-15T18:19:05.503Z"
   },
   {
    "duration": 112,
    "start_time": "2022-05-15T18:19:05.507Z"
   },
   {
    "duration": 0,
    "start_time": "2022-05-15T18:19:05.621Z"
   },
   {
    "duration": 1,
    "start_time": "2022-05-15T18:19:05.621Z"
   },
   {
    "duration": 0,
    "start_time": "2022-05-15T18:19:05.622Z"
   },
   {
    "duration": 0,
    "start_time": "2022-05-15T18:19:05.624Z"
   },
   {
    "duration": 5,
    "start_time": "2022-05-15T18:19:21.861Z"
   },
   {
    "duration": 1636,
    "start_time": "2022-05-15T18:19:53.547Z"
   },
   {
    "duration": 198,
    "start_time": "2022-05-15T18:20:11.838Z"
   },
   {
    "duration": 190,
    "start_time": "2022-05-15T18:20:20.035Z"
   },
   {
    "duration": 186,
    "start_time": "2022-05-15T18:20:21.823Z"
   },
   {
    "duration": 34,
    "start_time": "2022-05-15T18:20:25.685Z"
   },
   {
    "duration": 1576,
    "start_time": "2022-05-15T18:23:08.833Z"
   },
   {
    "duration": 40,
    "start_time": "2022-05-15T18:23:10.411Z"
   },
   {
    "duration": 30,
    "start_time": "2022-05-15T18:23:10.453Z"
   },
   {
    "duration": 25,
    "start_time": "2022-05-15T18:23:10.488Z"
   },
   {
    "duration": 15,
    "start_time": "2022-05-15T18:23:10.515Z"
   },
   {
    "duration": 25,
    "start_time": "2022-05-15T18:23:10.531Z"
   },
   {
    "duration": 254,
    "start_time": "2022-05-15T18:23:10.557Z"
   },
   {
    "duration": 7,
    "start_time": "2022-05-15T18:23:10.813Z"
   },
   {
    "duration": 14,
    "start_time": "2022-05-15T18:23:10.821Z"
   },
   {
    "duration": 8,
    "start_time": "2022-05-15T18:23:10.836Z"
   },
   {
    "duration": 98,
    "start_time": "2022-05-15T18:23:10.845Z"
   },
   {
    "duration": 218,
    "start_time": "2022-05-15T18:23:10.945Z"
   },
   {
    "duration": 25,
    "start_time": "2022-05-15T18:23:11.164Z"
   },
   {
    "duration": 9,
    "start_time": "2022-05-15T18:23:11.193Z"
   },
   {
    "duration": 217,
    "start_time": "2022-05-15T18:23:11.204Z"
   },
   {
    "duration": 17,
    "start_time": "2022-05-15T18:23:11.423Z"
   },
   {
    "duration": 27,
    "start_time": "2022-05-15T18:23:11.442Z"
   },
   {
    "duration": 44,
    "start_time": "2022-05-15T18:23:11.489Z"
   },
   {
    "duration": 206,
    "start_time": "2022-05-15T18:23:11.535Z"
   },
   {
    "duration": 10,
    "start_time": "2022-05-15T18:23:11.743Z"
   },
   {
    "duration": 6,
    "start_time": "2022-05-15T18:23:11.754Z"
   },
   {
    "duration": 212,
    "start_time": "2022-05-15T18:23:11.761Z"
   },
   {
    "duration": 24,
    "start_time": "2022-05-15T18:23:11.975Z"
   },
   {
    "duration": 18,
    "start_time": "2022-05-15T18:23:12.001Z"
   },
   {
    "duration": 194,
    "start_time": "2022-05-15T18:23:12.020Z"
   },
   {
    "duration": 79,
    "start_time": "2022-05-15T18:23:12.216Z"
   },
   {
    "duration": 52,
    "start_time": "2022-05-15T18:23:12.297Z"
   },
   {
    "duration": 50,
    "start_time": "2022-05-15T18:23:12.351Z"
   },
   {
    "duration": 4,
    "start_time": "2022-05-15T18:23:12.403Z"
   },
   {
    "duration": 8,
    "start_time": "2022-05-15T18:23:12.408Z"
   },
   {
    "duration": 10,
    "start_time": "2022-05-15T18:23:12.417Z"
   },
   {
    "duration": 10,
    "start_time": "2022-05-15T18:23:12.429Z"
   },
   {
    "duration": 7,
    "start_time": "2022-05-15T18:23:12.441Z"
   },
   {
    "duration": 285,
    "start_time": "2022-05-15T18:23:12.450Z"
   },
   {
    "duration": 3,
    "start_time": "2022-05-15T18:23:12.737Z"
   },
   {
    "duration": 23,
    "start_time": "2022-05-15T18:23:12.742Z"
   },
   {
    "duration": 36,
    "start_time": "2022-05-15T18:23:12.766Z"
   },
   {
    "duration": 3,
    "start_time": "2022-05-15T18:23:12.804Z"
   },
   {
    "duration": 24,
    "start_time": "2022-05-15T18:23:12.809Z"
   },
   {
    "duration": 7,
    "start_time": "2022-05-15T18:23:12.835Z"
   },
   {
    "duration": 847,
    "start_time": "2022-05-15T18:23:12.846Z"
   },
   {
    "duration": 6,
    "start_time": "2022-05-15T18:23:13.695Z"
   },
   {
    "duration": 22,
    "start_time": "2022-05-15T18:23:13.703Z"
   },
   {
    "duration": 336,
    "start_time": "2022-05-15T18:23:13.727Z"
   },
   {
    "duration": 28,
    "start_time": "2022-05-15T18:23:14.065Z"
   },
   {
    "duration": 6,
    "start_time": "2022-05-15T18:23:14.094Z"
   },
   {
    "duration": 13,
    "start_time": "2022-05-15T18:23:14.102Z"
   },
   {
    "duration": 14,
    "start_time": "2022-05-15T18:23:14.116Z"
   },
   {
    "duration": 10,
    "start_time": "2022-05-15T18:23:14.132Z"
   },
   {
    "duration": 1294,
    "start_time": "2022-05-15T18:23:14.144Z"
   },
   {
    "duration": 7,
    "start_time": "2022-05-15T18:23:15.439Z"
   },
   {
    "duration": 1362,
    "start_time": "2022-05-15T18:23:15.447Z"
   },
   {
    "duration": 163,
    "start_time": "2022-05-15T18:23:16.810Z"
   },
   {
    "duration": 156,
    "start_time": "2022-05-15T18:23:16.974Z"
   },
   {
    "duration": 172,
    "start_time": "2022-05-15T18:23:17.132Z"
   },
   {
    "duration": 10,
    "start_time": "2022-05-15T18:23:17.306Z"
   },
   {
    "duration": 181,
    "start_time": "2022-05-15T18:23:17.317Z"
   },
   {
    "duration": 7,
    "start_time": "2022-05-15T18:23:17.500Z"
   },
   {
    "duration": 181,
    "start_time": "2022-05-15T18:23:17.509Z"
   },
   {
    "duration": 177,
    "start_time": "2022-05-15T18:23:17.692Z"
   },
   {
    "duration": 6,
    "start_time": "2022-05-15T18:23:17.871Z"
   },
   {
    "duration": 7,
    "start_time": "2022-05-15T18:23:17.888Z"
   },
   {
    "duration": 284,
    "start_time": "2022-05-15T18:23:17.897Z"
   },
   {
    "duration": 8,
    "start_time": "2022-05-15T18:23:18.183Z"
   },
   {
    "duration": 37,
    "start_time": "2022-05-15T18:23:18.192Z"
   },
   {
    "duration": 2,
    "start_time": "2022-05-15T18:23:18.231Z"
   },
   {
    "duration": 15,
    "start_time": "2022-05-15T18:23:18.234Z"
   },
   {
    "duration": 13,
    "start_time": "2022-05-15T18:23:18.251Z"
   },
   {
    "duration": 366,
    "start_time": "2022-05-15T18:23:18.265Z"
   },
   {
    "duration": 10,
    "start_time": "2022-05-15T18:23:18.632Z"
   },
   {
    "duration": 7,
    "start_time": "2022-05-15T18:23:18.643Z"
   },
   {
    "duration": 38,
    "start_time": "2022-05-15T18:23:18.651Z"
   },
   {
    "duration": 286,
    "start_time": "2022-05-15T18:23:18.690Z"
   },
   {
    "duration": 13,
    "start_time": "2022-05-15T18:23:18.977Z"
   },
   {
    "duration": 1199,
    "start_time": "2022-05-15T18:23:18.991Z"
   },
   {
    "duration": 195,
    "start_time": "2022-05-15T18:23:20.192Z"
   },
   {
    "duration": 199,
    "start_time": "2022-05-15T18:23:20.389Z"
   },
   {
    "duration": 191,
    "start_time": "2022-05-15T18:23:20.590Z"
   },
   {
    "duration": 13,
    "start_time": "2022-05-15T18:23:20.783Z"
   },
   {
    "duration": 3,
    "start_time": "2022-05-15T18:23:20.797Z"
   },
   {
    "duration": 10,
    "start_time": "2022-05-15T18:23:20.801Z"
   },
   {
    "duration": 1586,
    "start_time": "2022-05-15T18:23:20.813Z"
   },
   {
    "duration": 194,
    "start_time": "2022-05-15T18:23:22.400Z"
   },
   {
    "duration": 198,
    "start_time": "2022-05-15T18:23:22.595Z"
   },
   {
    "duration": 194,
    "start_time": "2022-05-15T18:23:22.794Z"
   },
   {
    "duration": 40,
    "start_time": "2022-05-15T18:23:22.989Z"
   },
   {
    "duration": 2056,
    "start_time": "2022-07-24T11:08:26.481Z"
   },
   {
    "duration": 34,
    "start_time": "2022-07-24T11:08:28.539Z"
   },
   {
    "duration": 29,
    "start_time": "2022-07-24T11:08:28.575Z"
   },
   {
    "duration": 37,
    "start_time": "2022-07-24T11:08:28.607Z"
   },
   {
    "duration": 15,
    "start_time": "2022-07-24T11:08:28.646Z"
   },
   {
    "duration": 19,
    "start_time": "2022-07-24T11:08:28.662Z"
   },
   {
    "duration": 261,
    "start_time": "2022-07-24T11:08:28.683Z"
   },
   {
    "duration": 8,
    "start_time": "2022-07-24T11:08:28.946Z"
   },
   {
    "duration": 14,
    "start_time": "2022-07-24T11:08:28.956Z"
   },
   {
    "duration": 9,
    "start_time": "2022-07-24T11:08:28.974Z"
   },
   {
    "duration": 128,
    "start_time": "2022-07-24T11:08:28.987Z"
   },
   {
    "duration": 275,
    "start_time": "2022-07-24T11:08:29.117Z"
   },
   {
    "duration": 15,
    "start_time": "2022-07-24T11:08:29.394Z"
   },
   {
    "duration": 19,
    "start_time": "2022-07-24T11:08:29.411Z"
   },
   {
    "duration": 243,
    "start_time": "2022-07-24T11:08:29.431Z"
   },
   {
    "duration": 17,
    "start_time": "2022-07-24T11:08:29.676Z"
   },
   {
    "duration": 43,
    "start_time": "2022-07-24T11:08:29.695Z"
   },
   {
    "duration": 41,
    "start_time": "2022-07-24T11:08:29.742Z"
   },
   {
    "duration": 232,
    "start_time": "2022-07-24T11:08:29.785Z"
   },
   {
    "duration": 14,
    "start_time": "2022-07-24T11:08:30.019Z"
   },
   {
    "duration": 27,
    "start_time": "2022-07-24T11:08:30.035Z"
   },
   {
    "duration": 241,
    "start_time": "2022-07-24T11:08:30.064Z"
   },
   {
    "duration": 25,
    "start_time": "2022-07-24T11:08:30.307Z"
   },
   {
    "duration": 27,
    "start_time": "2022-07-24T11:08:30.333Z"
   },
   {
    "duration": 259,
    "start_time": "2022-07-24T11:08:30.362Z"
   },
   {
    "duration": 79,
    "start_time": "2022-07-24T11:08:30.622Z"
   },
   {
    "duration": 91,
    "start_time": "2022-07-24T11:08:30.704Z"
   },
   {
    "duration": 58,
    "start_time": "2022-07-24T11:08:30.800Z"
   },
   {
    "duration": 5,
    "start_time": "2022-07-24T11:08:30.860Z"
   },
   {
    "duration": 11,
    "start_time": "2022-07-24T11:08:30.867Z"
   },
   {
    "duration": 29,
    "start_time": "2022-07-24T11:08:30.880Z"
   },
   {
    "duration": 22,
    "start_time": "2022-07-24T11:08:30.910Z"
   },
   {
    "duration": 40,
    "start_time": "2022-07-24T11:08:30.934Z"
   },
   {
    "duration": 283,
    "start_time": "2022-07-24T11:08:30.977Z"
   },
   {
    "duration": 19,
    "start_time": "2022-07-24T11:08:31.262Z"
   },
   {
    "duration": 42,
    "start_time": "2022-07-24T11:08:31.283Z"
   },
   {
    "duration": 56,
    "start_time": "2022-07-24T11:08:31.327Z"
   },
   {
    "duration": 12,
    "start_time": "2022-07-24T11:08:31.385Z"
   },
   {
    "duration": 917,
    "start_time": "2022-07-24T11:08:31.399Z"
   },
   {
    "duration": 9,
    "start_time": "2022-07-24T11:08:32.318Z"
   },
   {
    "duration": 36,
    "start_time": "2022-07-24T11:08:32.329Z"
   },
   {
    "duration": 358,
    "start_time": "2022-07-24T11:08:32.367Z"
   },
   {
    "duration": 22,
    "start_time": "2022-07-24T11:08:32.727Z"
   },
   {
    "duration": 6,
    "start_time": "2022-07-24T11:08:32.750Z"
   },
   {
    "duration": 14,
    "start_time": "2022-07-24T11:08:32.758Z"
   },
   {
    "duration": 18,
    "start_time": "2022-07-24T11:08:32.774Z"
   },
   {
    "duration": 35,
    "start_time": "2022-07-24T11:08:32.794Z"
   },
   {
    "duration": 1251,
    "start_time": "2022-07-24T11:08:32.831Z"
   },
   {
    "duration": 7,
    "start_time": "2022-07-24T11:08:34.084Z"
   },
   {
    "duration": 1528,
    "start_time": "2022-07-24T11:08:34.093Z"
   },
   {
    "duration": 180,
    "start_time": "2022-07-24T11:08:35.623Z"
   },
   {
    "duration": 175,
    "start_time": "2022-07-24T11:08:35.804Z"
   },
   {
    "duration": 194,
    "start_time": "2022-07-24T11:08:35.981Z"
   },
   {
    "duration": 10,
    "start_time": "2022-07-24T11:08:36.177Z"
   },
   {
    "duration": 209,
    "start_time": "2022-07-24T11:08:36.188Z"
   },
   {
    "duration": 7,
    "start_time": "2022-07-24T11:08:36.399Z"
   },
   {
    "duration": 197,
    "start_time": "2022-07-24T11:08:36.408Z"
   },
   {
    "duration": 204,
    "start_time": "2022-07-24T11:08:36.607Z"
   },
   {
    "duration": 18,
    "start_time": "2022-07-24T11:08:36.813Z"
   },
   {
    "duration": 18,
    "start_time": "2022-07-24T11:08:36.834Z"
   },
   {
    "duration": 278,
    "start_time": "2022-07-24T11:08:36.854Z"
   },
   {
    "duration": 8,
    "start_time": "2022-07-24T11:08:37.134Z"
   },
   {
    "duration": 39,
    "start_time": "2022-07-24T11:08:37.144Z"
   },
   {
    "duration": 10,
    "start_time": "2022-07-24T11:08:37.184Z"
   },
   {
    "duration": 43,
    "start_time": "2022-07-24T11:08:37.195Z"
   },
   {
    "duration": 402,
    "start_time": "2022-07-24T11:08:37.241Z"
   },
   {
    "duration": 12,
    "start_time": "2022-07-24T11:08:37.645Z"
   },
   {
    "duration": 15,
    "start_time": "2022-07-24T11:08:37.658Z"
   },
   {
    "duration": 339,
    "start_time": "2022-07-24T11:08:37.675Z"
   },
   {
    "duration": 10,
    "start_time": "2022-07-24T11:08:38.016Z"
   },
   {
    "duration": 1462,
    "start_time": "2022-07-24T11:08:38.027Z"
   },
   {
    "duration": 220,
    "start_time": "2022-07-24T11:08:39.491Z"
   },
   {
    "duration": 230,
    "start_time": "2022-07-24T11:08:39.712Z"
   },
   {
    "duration": 218,
    "start_time": "2022-07-24T11:08:39.945Z"
   },
   {
    "duration": 14,
    "start_time": "2022-07-24T11:08:40.164Z"
   }
  ],
  "kernelspec": {
   "display_name": "Python 3 (ipykernel)",
   "language": "python",
   "name": "python3"
  },
  "language_info": {
   "codemirror_mode": {
    "name": "ipython",
    "version": 3
   },
   "file_extension": ".py",
   "mimetype": "text/x-python",
   "name": "python",
   "nbconvert_exporter": "python",
   "pygments_lexer": "ipython3",
   "version": "3.9.5"
  },
  "toc": {
   "base_numbering": 1,
   "nav_menu": {},
   "number_sections": true,
   "sideBar": true,
   "skip_h1_title": true,
   "title_cell": "Table of Contents",
   "title_sidebar": "Contents",
   "toc_cell": false,
   "toc_position": {
    "height": "calc(100% - 180px)",
    "left": "10px",
    "top": "150px",
    "width": "216.4px"
   },
   "toc_section_display": true,
   "toc_window_display": true
  }
 },
 "nbformat": 4,
 "nbformat_minor": 2
}
