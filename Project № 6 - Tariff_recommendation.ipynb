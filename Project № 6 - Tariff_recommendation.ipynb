{
 "cells": [
  {
   "cell_type": "markdown",
   "metadata": {},
   "source": [
    "# Рекомендация тарифов"
   ]
  },
  {
   "cell_type": "markdown",
   "metadata": {},
   "source": [
    "В вашем распоряжении данные о поведении клиентов, которые уже перешли на эти тарифы (из проекта курса «Статистический анализ данных»). Нужно построить модель для задачи классификации, которая выберет подходящий тариф. Предобработка данных не понадобится — вы её уже сделали.\n",
    "\n",
    "Постройте модель с максимально большим значением *accuracy*. Чтобы сдать проект успешно, нужно довести долю правильных ответов по крайней мере до 0.75. Проверьте *accuracy* на тестовой выборке самостоятельно."
   ]
  },
  {
   "cell_type": "markdown",
   "metadata": {},
   "source": [
    "## Откройте и изучите файл"
   ]
  },
  {
   "cell_type": "code",
   "execution_count": 1,
   "metadata": {},
   "outputs": [],
   "source": [
    "import pandas as pd\n",
    "import matplotlib.pyplot as plt\n",
    "from sklearn.linear_model import LogisticRegression\n",
    "from sklearn.ensemble import RandomForestClassifier\n",
    "from sklearn.tree import DecisionTreeClassifier\n",
    "from sklearn.metrics import accuracy_score\n",
    "from sklearn.model_selection import train_test_split"
   ]
  },
  {
   "cell_type": "code",
   "execution_count": 2,
   "metadata": {},
   "outputs": [
    {
     "data": {
      "text/html": [
       "<div>\n",
       "<style scoped>\n",
       "    .dataframe tbody tr th:only-of-type {\n",
       "        vertical-align: middle;\n",
       "    }\n",
       "\n",
       "    .dataframe tbody tr th {\n",
       "        vertical-align: top;\n",
       "    }\n",
       "\n",
       "    .dataframe thead th {\n",
       "        text-align: right;\n",
       "    }\n",
       "</style>\n",
       "<table border=\"1\" class=\"dataframe\">\n",
       "  <thead>\n",
       "    <tr style=\"text-align: right;\">\n",
       "      <th></th>\n",
       "      <th>calls</th>\n",
       "      <th>minutes</th>\n",
       "      <th>messages</th>\n",
       "      <th>mb_used</th>\n",
       "      <th>is_ultra</th>\n",
       "    </tr>\n",
       "  </thead>\n",
       "  <tbody>\n",
       "    <tr>\n",
       "      <th>0</th>\n",
       "      <td>40.0</td>\n",
       "      <td>311.90</td>\n",
       "      <td>83.0</td>\n",
       "      <td>19915.42</td>\n",
       "      <td>0</td>\n",
       "    </tr>\n",
       "    <tr>\n",
       "      <th>1</th>\n",
       "      <td>85.0</td>\n",
       "      <td>516.75</td>\n",
       "      <td>56.0</td>\n",
       "      <td>22696.96</td>\n",
       "      <td>0</td>\n",
       "    </tr>\n",
       "    <tr>\n",
       "      <th>2</th>\n",
       "      <td>77.0</td>\n",
       "      <td>467.66</td>\n",
       "      <td>86.0</td>\n",
       "      <td>21060.45</td>\n",
       "      <td>0</td>\n",
       "    </tr>\n",
       "    <tr>\n",
       "      <th>3</th>\n",
       "      <td>106.0</td>\n",
       "      <td>745.53</td>\n",
       "      <td>81.0</td>\n",
       "      <td>8437.39</td>\n",
       "      <td>1</td>\n",
       "    </tr>\n",
       "    <tr>\n",
       "      <th>4</th>\n",
       "      <td>66.0</td>\n",
       "      <td>418.74</td>\n",
       "      <td>1.0</td>\n",
       "      <td>14502.75</td>\n",
       "      <td>0</td>\n",
       "    </tr>\n",
       "  </tbody>\n",
       "</table>\n",
       "</div>"
      ],
      "text/plain": [
       "   calls  minutes  messages   mb_used  is_ultra\n",
       "0   40.0   311.90      83.0  19915.42         0\n",
       "1   85.0   516.75      56.0  22696.96         0\n",
       "2   77.0   467.66      86.0  21060.45         0\n",
       "3  106.0   745.53      81.0   8437.39         1\n",
       "4   66.0   418.74       1.0  14502.75         0"
      ]
     },
     "execution_count": 2,
     "metadata": {},
     "output_type": "execute_result"
    }
   ],
   "source": [
    "df = pd.read_csv('/datasets/users_behavior.csv')\n",
    "df.head()"
   ]
  },
  {
   "cell_type": "code",
   "execution_count": 3,
   "metadata": {},
   "outputs": [
    {
     "name": "stdout",
     "output_type": "stream",
     "text": [
      "<class 'pandas.core.frame.DataFrame'>\n",
      "RangeIndex: 3214 entries, 0 to 3213\n",
      "Data columns (total 5 columns):\n",
      " #   Column    Non-Null Count  Dtype  \n",
      "---  ------    --------------  -----  \n",
      " 0   calls     3214 non-null   float64\n",
      " 1   minutes   3214 non-null   float64\n",
      " 2   messages  3214 non-null   float64\n",
      " 3   mb_used   3214 non-null   float64\n",
      " 4   is_ultra  3214 non-null   int64  \n",
      "dtypes: float64(4), int64(1)\n",
      "memory usage: 125.7 KB\n"
     ]
    }
   ],
   "source": [
    "df.info()"
   ]
  },
  {
   "cell_type": "code",
   "execution_count": 4,
   "metadata": {},
   "outputs": [
    {
     "data": {
      "text/plain": [
       "0"
      ]
     },
     "execution_count": 4,
     "metadata": {},
     "output_type": "execute_result"
    }
   ],
   "source": [
    "df.duplicated().sum()"
   ]
  },
  {
   "cell_type": "code",
   "execution_count": 5,
   "metadata": {},
   "outputs": [
    {
     "data": {
      "text/plain": [
       "Index(['calls', 'minutes', 'messages', 'mb_used', 'is_ultra'], dtype='object')"
      ]
     },
     "execution_count": 5,
     "metadata": {},
     "output_type": "execute_result"
    }
   ],
   "source": [
    "df.columns"
   ]
  },
  {
   "cell_type": "code",
   "execution_count": 6,
   "metadata": {},
   "outputs": [
    {
     "data": {
      "text/html": [
       "<div>\n",
       "<style scoped>\n",
       "    .dataframe tbody tr th:only-of-type {\n",
       "        vertical-align: middle;\n",
       "    }\n",
       "\n",
       "    .dataframe tbody tr th {\n",
       "        vertical-align: top;\n",
       "    }\n",
       "\n",
       "    .dataframe thead th {\n",
       "        text-align: right;\n",
       "    }\n",
       "</style>\n",
       "<table border=\"1\" class=\"dataframe\">\n",
       "  <thead>\n",
       "    <tr style=\"text-align: right;\">\n",
       "      <th></th>\n",
       "      <th>calls</th>\n",
       "      <th>minutes</th>\n",
       "      <th>messages</th>\n",
       "      <th>mb_used</th>\n",
       "      <th>is_ultra</th>\n",
       "    </tr>\n",
       "  </thead>\n",
       "  <tbody>\n",
       "    <tr>\n",
       "      <th>count</th>\n",
       "      <td>3214.000000</td>\n",
       "      <td>3214.000000</td>\n",
       "      <td>3214.000000</td>\n",
       "      <td>3214.000000</td>\n",
       "      <td>3214.000000</td>\n",
       "    </tr>\n",
       "    <tr>\n",
       "      <th>mean</th>\n",
       "      <td>63.038892</td>\n",
       "      <td>438.208787</td>\n",
       "      <td>38.281269</td>\n",
       "      <td>17207.673836</td>\n",
       "      <td>0.306472</td>\n",
       "    </tr>\n",
       "    <tr>\n",
       "      <th>std</th>\n",
       "      <td>33.236368</td>\n",
       "      <td>234.569872</td>\n",
       "      <td>36.148326</td>\n",
       "      <td>7570.968246</td>\n",
       "      <td>0.461100</td>\n",
       "    </tr>\n",
       "    <tr>\n",
       "      <th>min</th>\n",
       "      <td>0.000000</td>\n",
       "      <td>0.000000</td>\n",
       "      <td>0.000000</td>\n",
       "      <td>0.000000</td>\n",
       "      <td>0.000000</td>\n",
       "    </tr>\n",
       "    <tr>\n",
       "      <th>25%</th>\n",
       "      <td>40.000000</td>\n",
       "      <td>274.575000</td>\n",
       "      <td>9.000000</td>\n",
       "      <td>12491.902500</td>\n",
       "      <td>0.000000</td>\n",
       "    </tr>\n",
       "    <tr>\n",
       "      <th>50%</th>\n",
       "      <td>62.000000</td>\n",
       "      <td>430.600000</td>\n",
       "      <td>30.000000</td>\n",
       "      <td>16943.235000</td>\n",
       "      <td>0.000000</td>\n",
       "    </tr>\n",
       "    <tr>\n",
       "      <th>75%</th>\n",
       "      <td>82.000000</td>\n",
       "      <td>571.927500</td>\n",
       "      <td>57.000000</td>\n",
       "      <td>21424.700000</td>\n",
       "      <td>1.000000</td>\n",
       "    </tr>\n",
       "    <tr>\n",
       "      <th>max</th>\n",
       "      <td>244.000000</td>\n",
       "      <td>1632.060000</td>\n",
       "      <td>224.000000</td>\n",
       "      <td>49745.730000</td>\n",
       "      <td>1.000000</td>\n",
       "    </tr>\n",
       "  </tbody>\n",
       "</table>\n",
       "</div>"
      ],
      "text/plain": [
       "             calls      minutes     messages       mb_used     is_ultra\n",
       "count  3214.000000  3214.000000  3214.000000   3214.000000  3214.000000\n",
       "mean     63.038892   438.208787    38.281269  17207.673836     0.306472\n",
       "std      33.236368   234.569872    36.148326   7570.968246     0.461100\n",
       "min       0.000000     0.000000     0.000000      0.000000     0.000000\n",
       "25%      40.000000   274.575000     9.000000  12491.902500     0.000000\n",
       "50%      62.000000   430.600000    30.000000  16943.235000     0.000000\n",
       "75%      82.000000   571.927500    57.000000  21424.700000     1.000000\n",
       "max     244.000000  1632.060000   224.000000  49745.730000     1.000000"
      ]
     },
     "execution_count": 6,
     "metadata": {},
     "output_type": "execute_result"
    }
   ],
   "source": [
    "df.describe()"
   ]
  },
  {
   "cell_type": "markdown",
   "metadata": {},
   "source": [
    "### Вывод:\n",
    "- Пропущенных значений нет\n",
    "- Типы столбцов в порядке\n",
    "- Дубликатов нет\n",
    "- Регистр змеиный в столбцах соблюден"
   ]
  },
  {
   "cell_type": "markdown",
   "metadata": {},
   "source": [
    "## Разбейте данные на выборки"
   ]
  },
  {
   "cell_type": "markdown",
   "metadata": {},
   "source": [
    "В качестве целей возьмем столбец is_ultra, а в качестве признаков будут выступать все остальные столбцы"
   ]
  },
  {
   "cell_type": "code",
   "execution_count": 7,
   "metadata": {},
   "outputs": [],
   "source": [
    "features = df.drop(['is_ultra'], axis = 1)\n",
    "target = df['is_ultra']"
   ]
  },
  {
   "cell_type": "markdown",
   "metadata": {},
   "source": [
    "Разделим исходные данные на обучающую, валидационную и тестовую выборки"
   ]
  },
  {
   "cell_type": "code",
   "execution_count": 8,
   "metadata": {},
   "outputs": [],
   "source": [
    "features_train, features_part, target_train, target_part = train_test_split(features, target, test_size=0.3, random_state=12345, stratify = target)\n",
    "features_valid, features_test, target_valid, target_test = train_test_split(features_part, target_part, test_size=0.5, random_state=12345, stratify = target_part)"
   ]
  },
  {
   "cell_type": "markdown",
   "metadata": {},
   "source": [
    "### Вывод\n",
    "- Разделили тестовую, тренировочную выборку и валидационную на признаки (features) и целевой признак (target)."
   ]
  },
  {
   "cell_type": "markdown",
   "metadata": {},
   "source": [
    "## Исследуйте модели"
   ]
  },
  {
   "cell_type": "code",
   "execution_count": 9,
   "metadata": {},
   "outputs": [
    {
     "name": "stdout",
     "output_type": "stream",
     "text": [
      "Лучшая точность: 0.8070539419087137 c значением глубины = 5\n"
     ]
    }
   ],
   "source": [
    "# Решающее дерево\n",
    "best_model_tree = None\n",
    "best_result = 0\n",
    "accuracy_arr_tree = []\n",
    "for i in range(1, 50):\n",
    "    model = DecisionTreeClassifier(random_state=12345, max_depth=i)\n",
    "    model.fit(features_train, target_train)\n",
    "    prediction = model.predict(features_valid)\n",
    "    result = accuracy_score(target_valid, prediction)\n",
    "    accuracy_arr_tree.append(result)\n",
    "    if best_result < result:\n",
    "        best_result = result\n",
    "        depth = i\n",
    "        best_model_tree = model\n",
    "\n",
    "accuracy_arr_tree = pd.Series(accuracy_arr_tree) \n",
    "print(\"Лучшая точность:\", best_result, 'c значением глубины =', depth)"
   ]
  },
  {
   "cell_type": "code",
   "execution_count": 10,
   "metadata": {},
   "outputs": [
    {
     "data": {
      "image/png": "[encoded data removed]",
      "text/plain": [
       "<Figure size 432x288 with 1 Axes>"
      ]
     },
     "metadata": {
      "needs_background": "light"
     },
     "output_type": "display_data"
    }
   ],
   "source": [
    "fig = plt.figure()\n",
    "ax = fig.add_axes([0,0,1,1])\n",
    "ax.grid()\n",
    "ax.set_xlabel('Глубина')\n",
    "ax.set_ylabel('Точность')\n",
    "ax.plot(accuracy_arr_tree.index, accuracy_arr_tree)\n",
    "plt.show()"
   ]
  },
  {
   "cell_type": "markdown",
   "metadata": {},
   "source": [
    "Данная модель показывает неплохой результат относительно минимума = 0.75 для задачи.\n",
    "Исходя из графика можно сказать, что переобучение наступает при глубине = 5, а когда глубина достигает значения примерно 22, то видно ровный график точности, что означает - она вовсе перестала изменятся."
   ]
  },
  {
   "cell_type": "code",
   "execution_count": 11,
   "metadata": {},
   "outputs": [
    {
     "name": "stdout",
     "output_type": "stream",
     "text": [
      "Лучшая точность:  0.8236514522821576 при глубине = 5 и количестве деревьев = 8\n"
     ]
    }
   ],
   "source": [
    "# Случайный лес\n",
    "best_model_rand_forest = None\n",
    "rand_forest_res = {}\n",
    "best_result = 0\n",
    "best_est = 0\n",
    "best_depth = 0\n",
    "for depth in range(1,11):\n",
    "    accuracy_arr_rand_forest = []\n",
    "    for est in range(1, 11):\n",
    "        model = RandomForestClassifier(random_state=12345, n_estimators=est, max_depth = depth)\n",
    "        model.fit(features_train, target_train)\n",
    "        prediction = model.predict(features_valid)\n",
    "        result = accuracy_score(target_valid, prediction)\n",
    "        accuracy_arr_rand_forest.append(result)\n",
    "        \n",
    "        if best_result < result:\n",
    "            best_result = result\n",
    "            best_est = est\n",
    "            best_depth = depth\n",
    "            best_model_rand_forest = model\n",
    "        \n",
    "    rand_forest_res.update({depth : accuracy_arr_rand_forest})\n",
    "\n",
    "data_rand_forest = pd.DataFrame(rand_forest_res)\n",
    "\n",
    "\n",
    "print('Лучшая точность: ', data_rand_forest.max().max(), 'при глубине = {0} и количестве деревьев = {1}'.format(best_depth, best_est))"
   ]
  },
  {
   "cell_type": "code",
   "execution_count": 12,
   "metadata": {},
   "outputs": [
    {
     "data": {
      "text/html": [
       "<div>\n",
       "<style scoped>\n",
       "    .dataframe tbody tr th:only-of-type {\n",
       "        vertical-align: middle;\n",
       "    }\n",
       "\n",
       "    .dataframe tbody tr th {\n",
       "        vertical-align: top;\n",
       "    }\n",
       "\n",
       "    .dataframe thead th {\n",
       "        text-align: right;\n",
       "    }\n",
       "</style>\n",
       "<table border=\"1\" class=\"dataframe\">\n",
       "  <thead>\n",
       "    <tr style=\"text-align: right;\">\n",
       "      <th></th>\n",
       "      <th>1</th>\n",
       "      <th>2</th>\n",
       "      <th>3</th>\n",
       "      <th>4</th>\n",
       "      <th>5</th>\n",
       "      <th>6</th>\n",
       "      <th>7</th>\n",
       "      <th>8</th>\n",
       "      <th>9</th>\n",
       "      <th>10</th>\n",
       "    </tr>\n",
       "  </thead>\n",
       "  <tbody>\n",
       "    <tr>\n",
       "      <th>0</th>\n",
       "      <td>0.771784</td>\n",
       "      <td>0.807054</td>\n",
       "      <td>0.807054</td>\n",
       "      <td>0.792531</td>\n",
       "      <td>0.794606</td>\n",
       "      <td>0.800830</td>\n",
       "      <td>0.784232</td>\n",
       "      <td>0.788382</td>\n",
       "      <td>0.811203</td>\n",
       "      <td>0.798755</td>\n",
       "    </tr>\n",
       "    <tr>\n",
       "      <th>1</th>\n",
       "      <td>0.767635</td>\n",
       "      <td>0.804979</td>\n",
       "      <td>0.794606</td>\n",
       "      <td>0.790456</td>\n",
       "      <td>0.775934</td>\n",
       "      <td>0.780083</td>\n",
       "      <td>0.771784</td>\n",
       "      <td>0.771784</td>\n",
       "      <td>0.775934</td>\n",
       "      <td>0.761411</td>\n",
       "    </tr>\n",
       "    <tr>\n",
       "      <th>2</th>\n",
       "      <td>0.771784</td>\n",
       "      <td>0.809129</td>\n",
       "      <td>0.802905</td>\n",
       "      <td>0.807054</td>\n",
       "      <td>0.796680</td>\n",
       "      <td>0.786307</td>\n",
       "      <td>0.778008</td>\n",
       "      <td>0.786307</td>\n",
       "      <td>0.796680</td>\n",
       "      <td>0.790456</td>\n",
       "    </tr>\n",
       "    <tr>\n",
       "      <th>3</th>\n",
       "      <td>0.769710</td>\n",
       "      <td>0.788382</td>\n",
       "      <td>0.798755</td>\n",
       "      <td>0.807054</td>\n",
       "      <td>0.786307</td>\n",
       "      <td>0.788382</td>\n",
       "      <td>0.773859</td>\n",
       "      <td>0.786307</td>\n",
       "      <td>0.790456</td>\n",
       "      <td>0.775934</td>\n",
       "    </tr>\n",
       "    <tr>\n",
       "      <th>4</th>\n",
       "      <td>0.767635</td>\n",
       "      <td>0.782158</td>\n",
       "      <td>0.798755</td>\n",
       "      <td>0.804979</td>\n",
       "      <td>0.792531</td>\n",
       "      <td>0.796680</td>\n",
       "      <td>0.792531</td>\n",
       "      <td>0.788382</td>\n",
       "      <td>0.804979</td>\n",
       "      <td>0.796680</td>\n",
       "    </tr>\n",
       "    <tr>\n",
       "      <th>5</th>\n",
       "      <td>0.771784</td>\n",
       "      <td>0.788382</td>\n",
       "      <td>0.804979</td>\n",
       "      <td>0.813278</td>\n",
       "      <td>0.811203</td>\n",
       "      <td>0.796680</td>\n",
       "      <td>0.794606</td>\n",
       "      <td>0.792531</td>\n",
       "      <td>0.807054</td>\n",
       "      <td>0.790456</td>\n",
       "    </tr>\n",
       "    <tr>\n",
       "      <th>6</th>\n",
       "      <td>0.771784</td>\n",
       "      <td>0.782158</td>\n",
       "      <td>0.809129</td>\n",
       "      <td>0.817427</td>\n",
       "      <td>0.817427</td>\n",
       "      <td>0.798755</td>\n",
       "      <td>0.800830</td>\n",
       "      <td>0.786307</td>\n",
       "      <td>0.794606</td>\n",
       "      <td>0.802905</td>\n",
       "    </tr>\n",
       "    <tr>\n",
       "      <th>7</th>\n",
       "      <td>0.769710</td>\n",
       "      <td>0.782158</td>\n",
       "      <td>0.811203</td>\n",
       "      <td>0.815353</td>\n",
       "      <td>0.823651</td>\n",
       "      <td>0.807054</td>\n",
       "      <td>0.802905</td>\n",
       "      <td>0.800830</td>\n",
       "      <td>0.807054</td>\n",
       "      <td>0.790456</td>\n",
       "    </tr>\n",
       "    <tr>\n",
       "      <th>8</th>\n",
       "      <td>0.771784</td>\n",
       "      <td>0.780083</td>\n",
       "      <td>0.815353</td>\n",
       "      <td>0.815353</td>\n",
       "      <td>0.821577</td>\n",
       "      <td>0.809129</td>\n",
       "      <td>0.809129</td>\n",
       "      <td>0.792531</td>\n",
       "      <td>0.817427</td>\n",
       "      <td>0.796680</td>\n",
       "    </tr>\n",
       "    <tr>\n",
       "      <th>9</th>\n",
       "      <td>0.771784</td>\n",
       "      <td>0.794606</td>\n",
       "      <td>0.811203</td>\n",
       "      <td>0.815353</td>\n",
       "      <td>0.819502</td>\n",
       "      <td>0.807054</td>\n",
       "      <td>0.800830</td>\n",
       "      <td>0.800830</td>\n",
       "      <td>0.809129</td>\n",
       "      <td>0.790456</td>\n",
       "    </tr>\n",
       "  </tbody>\n",
       "</table>\n",
       "</div>"
      ],
      "text/plain": [
       "         1         2         3         4         5         6         7   \\\n",
       "0  0.771784  0.807054  0.807054  0.792531  0.794606  0.800830  0.784232   \n",
       "1  0.767635  0.804979  0.794606  0.790456  0.775934  0.780083  0.771784   \n",
       "2  0.771784  0.809129  0.802905  0.807054  0.796680  0.786307  0.778008   \n",
       "3  0.769710  0.788382  0.798755  0.807054  0.786307  0.788382  0.773859   \n",
       "4  0.767635  0.782158  0.798755  0.804979  0.792531  0.796680  0.792531   \n",
       "5  0.771784  0.788382  0.804979  0.813278  0.811203  0.796680  0.794606   \n",
       "6  0.771784  0.782158  0.809129  0.817427  0.817427  0.798755  0.800830   \n",
       "7  0.769710  0.782158  0.811203  0.815353  0.823651  0.807054  0.802905   \n",
       "8  0.771784  0.780083  0.815353  0.815353  0.821577  0.809129  0.809129   \n",
       "9  0.771784  0.794606  0.811203  0.815353  0.819502  0.807054  0.800830   \n",
       "\n",
       "         8         9         10  \n",
       "0  0.788382  0.811203  0.798755  \n",
       "1  0.771784  0.775934  0.761411  \n",
       "2  0.786307  0.796680  0.790456  \n",
       "3  0.786307  0.790456  0.775934  \n",
       "4  0.788382  0.804979  0.796680  \n",
       "5  0.792531  0.807054  0.790456  \n",
       "6  0.786307  0.794606  0.802905  \n",
       "7  0.800830  0.807054  0.790456  \n",
       "8  0.792531  0.817427  0.796680  \n",
       "9  0.800830  0.809129  0.790456  "
      ]
     },
     "metadata": {},
     "output_type": "display_data"
    }
   ],
   "source": [
    "display(data_rand_forest)"
   ]
  },
  {
   "cell_type": "code",
   "execution_count": 13,
   "metadata": {},
   "outputs": [
    {
     "data": {
      "image/png": "[encoded data removed]",
      "text/plain": [
       "<Figure size 432x288 with 1 Axes>"
      ]
     },
     "metadata": {
      "needs_background": "light"
     },
     "output_type": "display_data"
    }
   ],
   "source": [
    "fig = plt.figure()\n",
    "ax = fig.add_axes([0,0,1,1])\n",
    "ax.grid()\n",
    "ax.set_xlabel('Количество деревьев')\n",
    "ax.set_ylabel('Точность')\n",
    "for name_column in range(len(data_rand_forest)):\n",
    "    ax.plot(data_rand_forest.index, data_rand_forest[name_column + 1], label = 'Глубина:' + str(name_column + 1))\n",
    "    \n",
    "ax.legend()\n",
    "plt.show()"
   ]
  },
  {
   "cell_type": "markdown",
   "metadata": {},
   "source": [
    "Исходя из полученных данных, видно что наилучший результат получается при глубине = 5 и количестве деревьев = 8, что подтверждает полученный датафрейм и график. Это лучшее значение из всех трех моделей, но алгоритм работает достаточно медленно, особенно если попытаться увеличить значения глубины и количества деревьев. Таким образом, вывод: алгоритм точный, но медленный."
   ]
  },
  {
   "cell_type": "code",
   "execution_count": 14,
   "metadata": {},
   "outputs": [
    {
     "name": "stdout",
     "output_type": "stream",
     "text": [
      "n_estimators: 8 depth: 13 accuracy 0.8070539419087137\n"
     ]
    }
   ],
   "source": [
    "#Случайный лес(2 вариант)\n",
    "accur=0\n",
    "est=0\n",
    "dep=0\n",
    "for estim in range(2,15, 3): #это просчитала в большем диапозоне\n",
    "    for depth in range(11,15):\n",
    "        model = RandomForestClassifier(random_state=12345, n_estimators=estim, max_depth=depth)\n",
    "        model.fit(features_train, target_train)\n",
    "        predictions = model.predict(features_valid)\n",
    "        accuracy = accuracy_score(target_valid, predictions)\n",
    "        if accuracy > accur:\n",
    "            accur=accuracy\n",
    "            est=estim\n",
    "            dep=depth\n",
    "print(\"n_estimators:\", est, \"depth:\", dep, \"accuracy\", accur)"
   ]
  },
  {
   "cell_type": "code",
   "execution_count": 15,
   "metadata": {},
   "outputs": [
    {
     "name": "stdout",
     "output_type": "stream",
     "text": [
      "accuracy: 0.7053941908713693\n"
     ]
    }
   ],
   "source": [
    "# Модель логистической регрессии\n",
    "model =  LogisticRegression()\n",
    "model.fit(features_train, target_train)\n",
    "predictions = model.predict(features_valid)\n",
    "accuracy = accuracy_score(target_valid, predictions)\n",
    "print('accuracy:', accuracy)"
   ]
  },
  {
   "cell_type": "markdown",
   "metadata": {},
   "source": [
    "Совсем плохой результат... Возможно, потому что мало данных, все-таки в задании тренажера их было больше"
   ]
  },
  {
   "cell_type": "markdown",
   "metadata": {},
   "source": [
    "### Вывод\n",
    "- Обучили дерево принятия решений, лучшее с глубиной = 12\n",
    "- Обучили модель случайного леса с подбором глубины. Лучшее с количеством дервьев 7, глубиной 8.\n",
    "- Обучили модель логистической регрессии и получили метрики хуже остальных моделей."
   ]
  },
  {
   "cell_type": "markdown",
   "metadata": {},
   "source": [
    "## Проверьте модель на тестовой выборке"
   ]
  },
  {
   "cell_type": "markdown",
   "metadata": {},
   "source": [
    "Проверка работы моделей с тестовыми данными"
   ]
  },
  {
   "cell_type": "code",
   "execution_count": 16,
   "metadata": {},
   "outputs": [
    {
     "name": "stdout",
     "output_type": "stream",
     "text": [
      "Дерево решений: 0.7929606625258799\n",
      "Случайный лес: 0.8136645962732919\n",
      "Логистическая регрессия: 0.7204968944099379\n"
     ]
    }
   ],
   "source": [
    "prediction_tree = best_model_tree.predict(features_test)\n",
    "result_tree = accuracy_score(target_test, prediction_tree)\n",
    "\n",
    "prediction_rand_forest = best_model_rand_forest.predict(features_test)\n",
    "result_rand_forest = accuracy_score(target_test, prediction_rand_forest)\n",
    "\n",
    "prediction_LR = model.predict(features_test)\n",
    "result_LR = accuracy_score(target_test, prediction_LR)\n",
    "\n",
    "print('Дерево решений:', result_tree)\n",
    "print('Случайный лес:', result_rand_forest)\n",
    "print('Логистическая регрессия:', result_LR)"
   ]
  },
  {
   "cell_type": "markdown",
   "metadata": {},
   "source": [
    "Как видно, особенно ничего не поменялось, лучше даже чем на валидационной выборке себя проявил случаный лес. Также выросло значение модели логистической регрессии"
   ]
  },
  {
   "cell_type": "markdown",
   "metadata": {},
   "source": [
    "## (бонус) Проверьте модели на адекватность"
   ]
  },
  {
   "cell_type": "code",
   "execution_count": 17,
   "metadata": {},
   "outputs": [
    {
     "data": {
      "text/plain": [
       "0.6936416184971098"
      ]
     },
     "execution_count": 17,
     "metadata": {},
     "output_type": "execute_result"
    }
   ],
   "source": [
    "from sklearn.dummy import DummyClassifier\n",
    "dummy_clf = DummyClassifier(strategy=\"most_frequent\", random_state=0)\n",
    "dummy_clf.fit(features_train, target_train)\n",
    "dummy_clf.score(features_train, target_train)"
   ]
  },
  {
   "cell_type": "markdown",
   "metadata": {},
   "source": [
    "Нужно проверить имеет ли модель предсказательную силу и справляется ли она с задачей лучше, чем если бы мы предсказывали случайным образом или каким-нибудь константным значением. Для этого нужно сравнить показатели метрик модели c DummyClassifier. Таким образом, простейшая модель ошибается в ~30%, выбранная в ~19%. (Это как я поняла, но не уверена в правльности)"
   ]
  },
  {
   "cell_type": "markdown",
   "metadata": {},
   "source": [
    "## Общий вывод:\n",
    "- Был изучен файл с данными \n",
    "- Разделены исходные данные на на обучающую, валидационную и тестовую выборки.\n",
    "- Исследованы качества разных моделей, меняя гиперпараметры, таким образом, лучше себя показала модель случайного леса (как и в тренажере), она работает меделеннее, но дает лучший результат.\n",
    "- Проверены качества моделей на тестовых выборках, опять же лучше модель случайного леса.\n",
    "- Проверены модели на вменяемость"
   ]
  },
  {
   "cell_type": "markdown",
   "metadata": {},
   "source": [
    "## Чек-лист готовности проекта"
   ]
  },
  {
   "cell_type": "markdown",
   "metadata": {},
   "source": [
    "Поставьте 'x' в выполненных пунктах. Далее нажмите Shift+Enter."
   ]
  },
  {
   "cell_type": "markdown",
   "metadata": {},
   "source": [
    "- [x] Jupyter Notebook открыт\n",
    "- [x] Весь код исполняется без ошибок\n",
    "- [x] Ячейки с кодом расположены в порядке исполнения\n",
    "- [x] Выполнено задание 1: данные загружены и изучены\n",
    "- [x] Выполнено задание 2: данные разбиты на три выборки\n",
    "- [x] Выполнено задание 3: проведено исследование моделей\n",
    "    - [x] Рассмотрено больше одной модели\n",
    "    - [x] Рассмотрено хотя бы 3 значения гипепараметров для какой-нибудь модели\n",
    "    - [x] Написаны выводы по результатам исследования\n",
    "- [x] Выполнено задание 3: Проведено тестирование\n",
    "- [x] Удалось достичь accuracy не меньше 0.75\n"
   ]
  }
 ],
 "metadata": {
  "ExecuteTimeLog": [
   {
    "duration": 1671,
    "start_time": "2022-06-01T11:02:44.651Z"
   },
   {
    "duration": 197,
    "start_time": "2022-06-01T11:03:07.260Z"
   },
   {
    "duration": 12,
    "start_time": "2022-06-01T11:03:32.264Z"
   },
   {
    "duration": 6,
    "start_time": "2022-06-01T11:03:55.370Z"
   },
   {
    "duration": 5,
    "start_time": "2022-06-01T11:04:08.153Z"
   },
   {
    "duration": 30,
    "start_time": "2022-06-01T11:04:24.847Z"
   },
   {
    "duration": 4,
    "start_time": "2022-06-01T11:37:36.769Z"
   },
   {
    "duration": 39,
    "start_time": "2022-06-01T11:39:39.131Z"
   },
   {
    "duration": 7,
    "start_time": "2022-06-01T11:40:16.616Z"
   },
   {
    "duration": 179,
    "start_time": "2022-06-01T11:40:52.282Z"
   },
   {
    "duration": 9,
    "start_time": "2022-06-01T11:40:58.375Z"
   },
   {
    "duration": 13,
    "start_time": "2022-06-01T11:41:07.170Z"
   },
   {
    "duration": 4,
    "start_time": "2022-06-01T11:41:14.355Z"
   },
   {
    "duration": 521,
    "start_time": "2022-06-01T11:56:25.931Z"
   },
   {
    "duration": 35,
    "start_time": "2022-06-01T11:56:49.947Z"
   },
   {
    "duration": 514,
    "start_time": "2022-06-01T11:58:01.288Z"
   },
   {
    "duration": 554,
    "start_time": "2022-06-01T11:58:11.814Z"
   },
   {
    "duration": 1817,
    "start_time": "2022-06-01T12:03:28.271Z"
   },
   {
    "duration": 1742,
    "start_time": "2022-06-01T12:03:55.050Z"
   },
   {
    "duration": 24,
    "start_time": "2022-06-01T12:04:57.361Z"
   },
   {
    "duration": 21,
    "start_time": "2022-06-01T12:05:16.280Z"
   },
   {
    "duration": 23,
    "start_time": "2022-06-01T12:05:34.994Z"
   },
   {
    "duration": 33,
    "start_time": "2022-06-01T12:07:05.277Z"
   },
   {
    "duration": 1600,
    "start_time": "2022-06-01T12:07:49.317Z"
   },
   {
    "duration": 12,
    "start_time": "2022-06-01T12:07:54.290Z"
   },
   {
    "duration": 4,
    "start_time": "2022-06-01T12:08:20.504Z"
   },
   {
    "duration": 30,
    "start_time": "2022-06-01T12:08:39.180Z"
   },
   {
    "duration": 11,
    "start_time": "2022-06-01T12:09:27.051Z"
   },
   {
    "duration": 6,
    "start_time": "2022-06-01T12:12:00.753Z"
   },
   {
    "duration": 702,
    "start_time": "2022-06-01T12:14:26.224Z"
   },
   {
    "duration": 51,
    "start_time": "2022-06-01T12:15:03.441Z"
   },
   {
    "duration": 110,
    "start_time": "2022-06-01T12:18:10.463Z"
   },
   {
    "duration": 11,
    "start_time": "2022-06-01T12:19:06.623Z"
   },
   {
    "duration": 1191,
    "start_time": "2022-06-01T12:24:04.459Z"
   },
   {
    "duration": 113,
    "start_time": "2022-06-01T12:24:05.653Z"
   },
   {
    "duration": 12,
    "start_time": "2022-06-01T12:24:05.769Z"
   },
   {
    "duration": 13,
    "start_time": "2022-06-01T12:24:05.783Z"
   },
   {
    "duration": 5,
    "start_time": "2022-06-01T12:24:05.797Z"
   },
   {
    "duration": 28,
    "start_time": "2022-06-01T12:24:05.804Z"
   },
   {
    "duration": 4,
    "start_time": "2022-06-01T12:24:05.834Z"
   },
   {
    "duration": 35,
    "start_time": "2022-06-01T12:24:05.840Z"
   },
   {
    "duration": 578,
    "start_time": "2022-06-01T12:24:05.877Z"
   },
   {
    "duration": 1833,
    "start_time": "2022-06-01T12:24:06.457Z"
   },
   {
    "duration": 13,
    "start_time": "2022-06-01T12:24:08.292Z"
   },
   {
    "duration": 1721,
    "start_time": "2022-06-01T12:24:08.306Z"
   },
   {
    "duration": 19,
    "start_time": "2022-06-01T12:24:10.028Z"
   },
   {
    "duration": 4,
    "start_time": "2022-06-01T12:24:10.048Z"
   },
   {
    "duration": 47,
    "start_time": "2022-06-01T12:24:10.054Z"
   },
   {
    "duration": 120,
    "start_time": "2022-06-01T12:24:10.103Z"
   },
   {
    "duration": 0,
    "start_time": "2022-06-01T12:24:10.225Z"
   },
   {
    "duration": 22,
    "start_time": "2022-06-01T12:26:53.365Z"
   },
   {
    "duration": 14,
    "start_time": "2022-06-01T12:27:34.388Z"
   },
   {
    "duration": 13,
    "start_time": "2022-06-01T12:27:58.450Z"
   },
   {
    "duration": 562,
    "start_time": "2022-06-01T12:32:01.667Z"
   },
   {
    "duration": 301,
    "start_time": "2022-06-01T12:37:33.693Z"
   },
   {
    "duration": 24,
    "start_time": "2022-06-01T12:37:51.620Z"
   },
   {
    "duration": 229,
    "start_time": "2022-06-01T12:38:02.844Z"
   },
   {
    "duration": 272,
    "start_time": "2022-06-01T12:38:25.013Z"
   },
   {
    "duration": 224,
    "start_time": "2022-06-01T12:40:03.236Z"
   },
   {
    "duration": 14,
    "start_time": "2022-06-01T12:47:03.591Z"
   },
   {
    "duration": 16,
    "start_time": "2022-06-01T12:48:31.907Z"
   },
   {
    "duration": 6,
    "start_time": "2022-06-01T12:49:22.297Z"
   },
   {
    "duration": 773,
    "start_time": "2022-06-01T13:01:55.127Z"
   },
   {
    "duration": 1105,
    "start_time": "2022-06-01T13:02:43.813Z"
   },
   {
    "duration": 102,
    "start_time": "2022-06-01T13:02:44.921Z"
   },
   {
    "duration": 12,
    "start_time": "2022-06-01T13:02:45.025Z"
   },
   {
    "duration": 19,
    "start_time": "2022-06-01T13:02:45.038Z"
   },
   {
    "duration": 9,
    "start_time": "2022-06-01T13:02:45.058Z"
   },
   {
    "duration": 28,
    "start_time": "2022-06-01T13:02:45.069Z"
   },
   {
    "duration": 3,
    "start_time": "2022-06-01T13:02:45.099Z"
   },
   {
    "duration": 12,
    "start_time": "2022-06-01T13:02:45.103Z"
   },
   {
    "duration": 501,
    "start_time": "2022-06-01T13:02:45.116Z"
   },
   {
    "duration": 150,
    "start_time": "2022-06-01T13:02:45.619Z"
   },
   {
    "duration": 1768,
    "start_time": "2022-06-01T13:02:45.771Z"
   },
   {
    "duration": 12,
    "start_time": "2022-06-01T13:02:47.541Z"
   },
   {
    "duration": 255,
    "start_time": "2022-06-01T13:02:47.554Z"
   },
   {
    "duration": 691,
    "start_time": "2022-06-01T13:02:47.810Z"
   },
   {
    "duration": 22,
    "start_time": "2022-06-01T13:02:48.502Z"
   },
   {
    "duration": 19,
    "start_time": "2022-06-01T13:02:48.525Z"
   },
   {
    "duration": 30,
    "start_time": "2022-06-01T13:02:48.546Z"
   },
   {
    "duration": 1158,
    "start_time": "2022-06-01T13:34:11.571Z"
   },
   {
    "duration": 185,
    "start_time": "2022-06-01T13:34:12.732Z"
   },
   {
    "duration": 12,
    "start_time": "2022-06-01T13:34:12.919Z"
   },
   {
    "duration": 13,
    "start_time": "2022-06-01T13:34:12.933Z"
   },
   {
    "duration": 4,
    "start_time": "2022-06-01T13:34:12.947Z"
   },
   {
    "duration": 25,
    "start_time": "2022-06-01T13:34:12.953Z"
   },
   {
    "duration": 3,
    "start_time": "2022-06-01T13:34:12.981Z"
   },
   {
    "duration": 10,
    "start_time": "2022-06-01T13:34:12.986Z"
   },
   {
    "duration": 530,
    "start_time": "2022-06-01T13:34:12.998Z"
   },
   {
    "duration": 145,
    "start_time": "2022-06-01T13:34:13.531Z"
   },
   {
    "duration": 1802,
    "start_time": "2022-06-01T13:34:13.678Z"
   },
   {
    "duration": 14,
    "start_time": "2022-06-01T13:34:15.481Z"
   },
   {
    "duration": 299,
    "start_time": "2022-06-01T13:34:15.496Z"
   },
   {
    "duration": 714,
    "start_time": "2022-06-01T13:34:15.796Z"
   },
   {
    "duration": 27,
    "start_time": "2022-06-01T13:34:16.512Z"
   },
   {
    "duration": 10,
    "start_time": "2022-06-01T13:34:16.541Z"
   },
   {
    "duration": 7,
    "start_time": "2022-06-01T13:34:16.553Z"
   },
   {
    "duration": 10,
    "start_time": "2022-06-02T09:19:20.730Z"
   },
   {
    "duration": 4,
    "start_time": "2022-06-02T09:20:24.836Z"
   },
   {
    "duration": 43,
    "start_time": "2022-06-02T09:20:24.842Z"
   },
   {
    "duration": 9,
    "start_time": "2022-06-02T09:20:24.887Z"
   },
   {
    "duration": 7,
    "start_time": "2022-06-02T09:20:24.900Z"
   },
   {
    "duration": 6,
    "start_time": "2022-06-02T09:20:24.908Z"
   },
   {
    "duration": 32,
    "start_time": "2022-06-02T09:20:24.916Z"
   },
   {
    "duration": 4,
    "start_time": "2022-06-02T09:20:24.949Z"
   },
   {
    "duration": 11,
    "start_time": "2022-06-02T09:20:24.954Z"
   },
   {
    "duration": 521,
    "start_time": "2022-06-02T09:20:24.968Z"
   },
   {
    "duration": 137,
    "start_time": "2022-06-02T09:20:25.491Z"
   },
   {
    "duration": 1831,
    "start_time": "2022-06-02T09:20:25.629Z"
   },
   {
    "duration": 13,
    "start_time": "2022-06-02T09:20:27.462Z"
   },
   {
    "duration": 263,
    "start_time": "2022-06-02T09:20:27.476Z"
   },
   {
    "duration": 789,
    "start_time": "2022-06-02T09:20:27.741Z"
   },
   {
    "duration": 20,
    "start_time": "2022-06-02T09:20:28.531Z"
   },
   {
    "duration": 12,
    "start_time": "2022-06-02T09:20:28.552Z"
   },
   {
    "duration": 6,
    "start_time": "2022-06-02T09:20:28.565Z"
   },
   {
    "duration": 1222,
    "start_time": "2022-06-02T09:25:48.370Z"
   },
   {
    "duration": 109,
    "start_time": "2022-06-02T09:25:49.595Z"
   },
   {
    "duration": 20,
    "start_time": "2022-06-02T09:25:49.706Z"
   },
   {
    "duration": 8,
    "start_time": "2022-06-02T09:25:49.728Z"
   },
   {
    "duration": 7,
    "start_time": "2022-06-02T09:25:49.737Z"
   },
   {
    "duration": 29,
    "start_time": "2022-06-02T09:25:49.746Z"
   },
   {
    "duration": 4,
    "start_time": "2022-06-02T09:25:49.777Z"
   },
   {
    "duration": 17,
    "start_time": "2022-06-02T09:25:49.782Z"
   },
   {
    "duration": 542,
    "start_time": "2022-06-02T09:25:49.800Z"
   },
   {
    "duration": 180,
    "start_time": "2022-06-02T09:25:50.345Z"
   },
   {
    "duration": 1969,
    "start_time": "2022-06-02T09:25:50.527Z"
   },
   {
    "duration": 18,
    "start_time": "2022-06-02T09:25:52.498Z"
   },
   {
    "duration": 263,
    "start_time": "2022-06-02T09:25:52.533Z"
   },
   {
    "duration": 738,
    "start_time": "2022-06-02T09:25:52.798Z"
   },
   {
    "duration": 20,
    "start_time": "2022-06-02T09:25:53.538Z"
   },
   {
    "duration": 14,
    "start_time": "2022-06-02T09:25:53.559Z"
   },
   {
    "duration": 10,
    "start_time": "2022-06-02T09:25:53.575Z"
   }
  ],
  "kernelspec": {
   "display_name": "Python 3 (ipykernel)",
   "language": "python",
   "name": "python3"
  },
  "language_info": {
   "codemirror_mode": {
    "name": "ipython",
    "version": 3
   },
   "file_extension": ".py",
   "mimetype": "text/x-python",
   "name": "python",
   "nbconvert_exporter": "python",
   "pygments_lexer": "ipython3",
   "version": "3.9.5"
  },
  "toc": {
   "base_numbering": 1,
   "nav_menu": {},
   "number_sections": true,
   "sideBar": true,
   "skip_h1_title": true,
   "title_cell": "Table of Contents",
   "title_sidebar": "Contents",
   "toc_cell": false,
   "toc_position": {},
   "toc_section_display": true,
   "toc_window_display": false
  }
 },
 "nbformat": 4,
 "nbformat_minor": 2
}
